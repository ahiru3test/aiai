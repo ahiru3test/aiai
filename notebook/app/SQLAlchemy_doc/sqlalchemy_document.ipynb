{
 "cells": [
  {
   "cell_type": "code",
   "execution_count": 1,
   "metadata": {
    "scrolled": true
   },
   "outputs": [
    {
     "data": {
      "text/html": [
       "<style>table {float:left}</style>\n"
      ],
      "text/plain": [
       "<IPython.core.display.HTML object>"
      ]
     },
     "metadata": {},
     "output_type": "display_data"
    }
   ],
   "source": [
    "%%html\n",
    "<style>table {float:left}</style>"
   ]
  },
  {
   "cell_type": "code",
   "execution_count": 2,
   "metadata": {},
   "outputs": [
    {
     "name": "stdout",
     "output_type": "stream",
     "text": [
      "python version: sys.version_info(major=3, minor=9, micro=18, releaselevel='final', serial=0)\n",
      "sqlalchemy version: 2.0.21\n"
     ]
    }
   ],
   "source": [
    "import sys\n",
    "print('python version:', sys.version_info)\n",
    "import sqlalchemy\n",
    "print('sqlalchemy version:',sqlalchemy.__version__)\n",
    "import sqlalchemy.orm"
   ]
  },
  {
   "cell_type": "markdown",
   "metadata": {},
   "source": [
    " # Pythonとデータベース\n",
    "Pythonから利用できるデータベースはMySQL,PostgreSQL, SQLite,Oracleなど多岐にわたります。\n",
    "PythonのデータベースAPI仕様は、PEP 249※1で定義されており、それぞれのデータベースに対応して実装※2が存在します。\n",
    "\n",
    "データベースAPIを使用すればデータベースプログラミンが可能ですが、SQLを直接記述する必要があります。\n",
    "SQLを直接記述するプログラムは規模が大きくなると複雑になる傾向があります。そのため最近のデータベース開発では\n",
    "オブジェクトとデータベースのレコードを関連付けるしくみであるO/Rマッパーを利用してデータベース開発を行うケースが増えています。\n",
    "\n",
    "※1 https://www.python.org/dev/peps/pep-0249/#exceptions <br>\n",
    "※2 https://docs.python.org/ja/3/library/sqlite3.html"
   ]
  },
  {
   "cell_type": "markdown",
   "metadata": {},
   "source": [
    "# SQLAlchemy\n",
    "SQLAlchemyは、データベースやSQLに関連する機能を提供するライブラリです。テーブル関連の処理やSQLを扱うための便利なモジュールを提供しています。\n",
    "O/Rマッパーは提供される機能の１つであり、O/Rマッパーを使用せずに開発することも可能です。SQLAlchemyではDataMapperパターンを使用してテーブルとオブジェクトのマッピングを行い、開発を進めます。\n",
    "\n",
    "SQLAlchmeyは非常に高機能であり、SQLite,MySQL,PostgerSQLなどのオープンソースのデータベースや、OracleやMicrosoft SQL Serverなどの商用データベースもサポートしています。"
   ]
  },
  {
   "cell_type": "markdown",
   "metadata": {},
   "source": [
    "# データベースへの接続\n",
    "データベースの接続は、create_engine()関数を使用します。第１引数は接続するデータベースを指定します。ここでは、メモリーベースのSQLite3を指定しています。\n",
    "第2引数のechoはログ出力の有効化フラグです。Trueを指定するとコンソールにSQLAlchemyが発行したSQLなどが出力されます。"
   ]
  },
  {
   "cell_type": "code",
   "execution_count": 3,
   "metadata": {},
   "outputs": [
    {
     "data": {
      "text/plain": [
       "Engine(sqlite:///:memory:)"
      ]
     },
     "execution_count": 3,
     "metadata": {},
     "output_type": "execute_result"
    }
   ],
   "source": [
    "from sqlalchemy import create_engine\n",
    "engine = create_engine('sqlite:///:memory:', echo=True)\n",
    "engine"
   ]
  },
  {
   "cell_type": "markdown",
   "metadata": {},
   "source": [
    "# テーブルの作成\n",
    "SQLAlchemyを使用してテーブルを作成します。テーブルは次の表のように書籍の情報を格納するbooksテーブルを作成します。SQLAlchemyでは、テーブルを表すオブジェクトとマッピングされるオブジェクトを定義し、それらを関連付けます。\n",
    "定義と関連付けはdeclarativeを使って同時に行っています。\n",
    "#### booksテーブルの定義\n",
    "|<div align='left'>名前</div>|<div align='left'>カラム名</div>|<div align='left'>データタイプ</div>\n",
    "|-----|-----|-----\n",
    "|<div align='left'>ID</div>|<div align='left'>id</div>|<div align='left'>INTEGER</div>\n",
    "|<div align='left'>タイトル</div>|<div align='left'>title</div>|<div align='left'>VARCHAR(255)</div>\n",
    "|<div align='left'>価格</div>|<div align='left'>price</div>|<div align='left'>INTEGER</div>\n",
    "|<div align='left'>メモ</div>|<div align='left'>memo</div>|<div align='left'>TEXT</div>"
   ]
  },
  {
   "cell_type": "markdown",
   "metadata": {},
   "source": [
    "### Bookクラス（オブジェクト）定義\n",
    "\n",
    "Bookクラスの定義は次のように行います。\n",
    "1. declarativeをインポートします。\n",
    "2. declarative.declarative_base()関数でBaseクラスを生成します。\n",
    "3. フィールド定義に使用する Column, Integer, Unicode, UnicodeTextをインポートします。\n",
    "4. Baseクラスを継承したBookクラスを生成します。Bookクラスでは、データベースのカラムに対応するフィールドの定義を行います。\n",
    "5. \\_\\_tablename\\_\\_ = 'books' でテーブル名を指定します。\n",
    "6. Columnクラスを使ってフィールドを定義します。\n",
    "\n",
    "Columnクラスのコンストラクタの第１引数には、フィールドの型、第２引数以降にはオプションを指定します。\n",
    "primary_key=Trueと指定すると、そのカラムはプライマリーキーとなります。nullable=Falseと指定すると、nullが許可さなくなります。\n",
    "また、テーブルにデータが保存されるときのでフィルと値はdefault='<デフォルト値>'で指定します。\n",
    "\n",
    "declarativeを使ってクラス宣言したので、booksテーブルとマッピングされたBookオブジェクトがプログラム内で使用できるようになります。\n"
   ]
  },
  {
   "cell_type": "code",
   "execution_count": 9,
   "metadata": {},
   "outputs": [],
   "source": [
    "# from sqlalchemy.ext import declarative\n",
    "# Base = declarative.declarative_base()\n",
    "import sqlalchemy.orm\n",
    "Base = sqlalchemy.orm.declarative_base()\n",
    "from sqlalchemy import Column, Integer, Unicode, UnicodeText\n",
    "class Book(Base):\n",
    "    __tablename__ = 'books'\n",
    "    id = Column(Integer, primary_key=True)\n",
    "    title = Column(Unicode(100), nullable=False)\n",
    "    price = Column(Integer, nullable=False)\n",
    "    memo = Column(UnicodeText)\n",
    "    def __repr__(self):\n",
    "        return \"<Book('%s', '%s', '%s')>\" % (self.title, self.price, self.memo)"
   ]
  },
  {
   "cell_type": "markdown",
   "metadata": {},
   "source": [
    "### テーブル作成\n",
    "テーブルは、Base.metadatのcreate_all()メソッドにcreate_engine() で作成したengineを渡して作成します。\n",
    "Metadateはテーブルなどの情報を登録するためのオブジェクトです。create_all()メソッドを呼び出すとデータベース上にテーブルが作成されます。"
   ]
  },
  {
   "cell_type": "code",
   "execution_count": 10,
   "metadata": {
    "scrolled": false
   },
   "outputs": [
    {
     "name": "stdout",
     "output_type": "stream",
     "text": [
      "2024-02-09 14:28:23,522 INFO sqlalchemy.engine.Engine BEGIN (implicit)\n",
      "2024-02-09 14:28:23,525 INFO sqlalchemy.engine.Engine PRAGMA main.table_info(\"books\")\n",
      "2024-02-09 14:28:23,527 INFO sqlalchemy.engine.Engine [raw sql] ()\n",
      "2024-02-09 14:28:23,529 INFO sqlalchemy.engine.Engine PRAGMA temp.table_info(\"books\")\n",
      "2024-02-09 14:28:23,529 INFO sqlalchemy.engine.Engine [raw sql] ()\n",
      "2024-02-09 14:28:23,529 INFO sqlalchemy.engine.Engine \n",
      "CREATE TABLE books (\n",
      "\tid INTEGER NOT NULL, \n",
      "\ttitle VARCHAR(100) NOT NULL, \n",
      "\tprice INTEGER NOT NULL, \n",
      "\tmemo TEXT, \n",
      "\tPRIMARY KEY (id)\n",
      ")\n",
      "\n",
      "\n",
      "2024-02-09 14:28:23,529 INFO sqlalchemy.engine.Engine [no key 0.00160s] ()\n",
      "2024-02-09 14:28:23,541 INFO sqlalchemy.engine.Engine COMMIT\n"
     ]
    }
   ],
   "source": [
    "Base.metadata.create_all(engine)"
   ]
  },
  {
   "cell_type": "markdown",
   "metadata": {},
   "source": [
    "# テーブルの操作\n",
    "テーブルとオブジェクトのマッピングが完了すると、データベースにアクセスして基本的なCRUD操作ができるようになります。<br>\n",
    "CRUDとは、**C**reate(登録)、 **R**ead（読み取り）、**U**pdate(更新）、**D**elete（削除）の略称です。\n",
    "### セッションの作成\n",
    "SQLAlchemyではセッションを通してオブジェクトの取得や更新を行います。まずは次に示すようにSessionインスタンスを作成します。\n",
    "1. sqlchemey.ormのsessionmakerをインポートします。\n",
    "2. sessionmakerでengineを関連付け(bind)してSessionクラスを作成します。\n",
    "3. Sessionクラスのコンストラクターを呼び出してインスタンスsessionを生成します。"
   ]
  },
  {
   "cell_type": "code",
   "execution_count": 4,
   "metadata": {},
   "outputs": [],
   "source": [
    "from sqlalchemy.orm import sessionmaker\n",
    "Session = sessionmaker(bind=engine)\n",
    "session = Session()"
   ]
  },
  {
   "cell_type": "markdown",
   "metadata": {},
   "source": [
    "### トランザクション\n",
    "SQLAlchemyでは、オブジェクトの登録、更新、削除を行った後、session.commit()メソッド呼び出してオブジェクトの更新をデータベースに反映します。\n",
    "また何らかのエラーが発生してトランザクションをロールバックしたい場合には、session.rollback()メソッドを呼び出します。"
   ]
  },
  {
   "cell_type": "markdown",
   "metadata": {},
   "source": [
    "### C. オブジェクトの登録\n",
    "セッションを生成したら、Bookクラスのオブジェクトをデータベースに登録します。\n",
    "オブジェクトを登録するにはBookクラスのインスタンスを生成し、**session\\.add**()メソッドの第１引数に渡します。\n",
    "Integer型のカラムにprimary_key=Trueが指定されていると、そのカラムは自動的に番号が付けられます。"
   ]
  },
  {
   "cell_type": "code",
   "execution_count": 12,
   "metadata": {
    "scrolled": false
   },
   "outputs": [
    {
     "name": "stdout",
     "output_type": "stream",
     "text": [
      "2024-02-09 14:28:48,914 INFO sqlalchemy.engine.Engine BEGIN (implicit)\n",
      "2024-02-09 14:28:48,920 INFO sqlalchemy.engine.Engine INSERT INTO books (title, price, memo) VALUES (?, ?, ?)\n",
      "2024-02-09 14:28:48,922 INFO sqlalchemy.engine.Engine [generated in 0.00197s] ('やさしいPython', '2580', 'SBクリエイティブ')\n",
      "2024-02-09 14:28:48,925 INFO sqlalchemy.engine.Engine COMMIT\n"
     ]
    }
   ],
   "source": [
    "book = Book(title= 'やさしいPython', price='2580', memo = 'SBクリエイティブ')\n",
    "session.add(book)\n",
    "session.commit()"
   ]
  },
  {
   "cell_type": "markdown",
   "metadata": {},
   "source": [
    "**add\\_all**()メソッドを使用すると一度に複数のBookインスタンスを渡してデータベースに登録出来ます。"
   ]
  },
  {
   "cell_type": "code",
   "execution_count": 13,
   "metadata": {
    "scrolled": false
   },
   "outputs": [
    {
     "name": "stdout",
     "output_type": "stream",
     "text": [
      "2024-02-09 14:29:06,489 INFO sqlalchemy.engine.Engine BEGIN (implicit)\n",
      "2024-02-09 14:29:06,493 INFO sqlalchemy.engine.Engine INSERT INTO books (title, price, memo) VALUES (?, ?, ?) RETURNING id\n",
      "2024-02-09 14:29:06,494 INFO sqlalchemy.engine.Engine [generated in 0.00022s (insertmanyvalues) 1/2 (ordered; batch not supported)] ('スッキリわかるJava入門', '2680', 'インプレス')\n",
      "2024-02-09 14:29:06,498 INFO sqlalchemy.engine.Engine INSERT INTO books (title, price, memo) VALUES (?, ?, ?) RETURNING id\n",
      "2024-02-09 14:29:06,499 INFO sqlalchemy.engine.Engine [insertmanyvalues 2/2 (ordered; batch not supported)] ('独習PHP', '3520', '翔泳社')\n",
      "2024-02-09 14:29:06,503 INFO sqlalchemy.engine.Engine COMMIT\n"
     ]
    }
   ],
   "source": [
    "session.add_all([\n",
    "    Book(title= 'スッキリわかるJava入門', price='2680', memo = 'インプレス'),\n",
    "    Book(title= '独習PHP', price='3520', memo = '翔泳社'),\n",
    "])\n",
    "session.commit()\n"
   ]
  },
  {
   "cell_type": "markdown",
   "metadata": {},
   "source": [
    "### R. オブジェクトの取得\n",
    "オブジェクトの登録ができたら、取得を行います。オブジェクトの取得はsession.query()を実行してQueryオブジェクトを生成します。\n",
    "QueryオブジェクトはSQLを実行するためのオブジェクトです。"
   ]
  },
  {
   "cell_type": "code",
   "execution_count": 5,
   "metadata": {},
   "outputs": [
    {
     "ename": "NameError",
     "evalue": "name 'Book' is not defined",
     "output_type": "error",
     "traceback": [
      "\u001b[1;31m---------------------------------------------------------------------------\u001b[0m",
      "\u001b[1;31mNameError\u001b[0m                                 Traceback (most recent call last)",
      "Cell \u001b[1;32mIn[5], line 1\u001b[0m\n\u001b[1;32m----> 1\u001b[0m query \u001b[38;5;241m=\u001b[39m session\u001b[38;5;241m.\u001b[39mquery(\u001b[43mBook\u001b[49m)\n",
      "\u001b[1;31mNameError\u001b[0m: name 'Book' is not defined"
     ]
    }
   ],
   "source": [
    "query = session.query(Book)"
   ]
  },
  {
   "cell_type": "markdown",
   "metadata": {},
   "source": [
    " **all**( )メソッドを使うと全てのオブジェクトを取得できます。"
   ]
  },
  {
   "cell_type": "code",
   "execution_count": 6,
   "metadata": {
    "scrolled": true
   },
   "outputs": [
    {
     "ename": "NameError",
     "evalue": "name 'query' is not defined",
     "output_type": "error",
     "traceback": [
      "\u001b[1;31m---------------------------------------------------------------------------\u001b[0m",
      "\u001b[1;31mNameError\u001b[0m                                 Traceback (most recent call last)",
      "Cell \u001b[1;32mIn[6], line 1\u001b[0m\n\u001b[1;32m----> 1\u001b[0m \u001b[38;5;28;01mfor\u001b[39;00m book \u001b[38;5;129;01min\u001b[39;00m \u001b[43mquery\u001b[49m\u001b[38;5;241m.\u001b[39mall():\n\u001b[0;32m      2\u001b[0m     \u001b[38;5;28mprint\u001b[39m (book\u001b[38;5;241m.\u001b[39mtitle)\n",
      "\u001b[1;31mNameError\u001b[0m: name 'query' is not defined"
     ]
    }
   ],
   "source": [
    "for book in query.all():\n",
    "    print (book.title)\n",
    "    "
   ]
  },
  {
   "cell_type": "markdown",
   "metadata": {},
   "source": [
    "**get**( )メソッドを使うとプライマリーキーを用いてオブジェクトを取得できます。"
   ]
  },
  {
   "cell_type": "code",
   "execution_count": 16,
   "metadata": {
    "scrolled": true
   },
   "outputs": [
    {
     "name": "stdout",
     "output_type": "stream",
     "text": [
      "2024-02-09 14:29:17,020 INFO sqlalchemy.engine.Engine SELECT books.id AS books_id, books.title AS books_title, books.price AS books_price, books.memo AS books_memo \n",
      "FROM books \n",
      "WHERE books.id = ?\n",
      "2024-02-09 14:29:17,022 INFO sqlalchemy.engine.Engine [generated in 0.00256s] (1,)\n",
      "やさしいPython\n"
     ]
    },
    {
     "name": "stderr",
     "output_type": "stream",
     "text": [
      "C:\\Users\\admin\\AppData\\Local\\Temp\\ipykernel_3772\\845283479.py:1: LegacyAPIWarning: The Query.get() method is considered legacy as of the 1.x series of SQLAlchemy and becomes a legacy construct in 2.0. The method is now available as Session.get() (deprecated since: 2.0) (Background on SQLAlchemy 2.0 at: https://sqlalche.me/e/b8d9)\n",
      "  book = query.get(1)\n"
     ]
    }
   ],
   "source": [
    "book = query.get(1)\n",
    "print( book.title)"
   ]
  },
  {
   "cell_type": "markdown",
   "metadata": {},
   "source": [
    "**filter**( )メソッドを使うと、条件を付けてオブジェクトを取得できます。"
   ]
  },
  {
   "cell_type": "code",
   "execution_count": 17,
   "metadata": {
    "scrolled": true
   },
   "outputs": [
    {
     "name": "stdout",
     "output_type": "stream",
     "text": [
      "2024-02-09 14:30:52,591 INFO sqlalchemy.engine.Engine SELECT books.id AS books_id, books.title AS books_title, books.price AS books_price, books.memo AS books_memo \n",
      "FROM books \n",
      "WHERE books.title = ?\n",
      " LIMIT ? OFFSET ?\n",
      "2024-02-09 14:30:52,591 INFO sqlalchemy.engine.Engine [generated in 0.00195s] ('スッキリわかるJava入門', 1, 0)\n",
      "スッキリわかるJava入門\n"
     ]
    }
   ],
   "source": [
    "book = query.filter(Book.title == 'スッキリわかるJava入門').first()\n",
    "print(book.title)"
   ]
  },
  {
   "cell_type": "markdown",
   "metadata": {},
   "source": [
    "つぎのように**filter**( )メソッドをつなげて、複数の条件を指定することができます。"
   ]
  },
  {
   "cell_type": "code",
   "execution_count": 18,
   "metadata": {
    "scrolled": false
   },
   "outputs": [
    {
     "name": "stdout",
     "output_type": "stream",
     "text": [
      "2024-02-09 14:30:55,496 INFO sqlalchemy.engine.Engine SELECT books.id AS books_id, books.title AS books_title, books.price AS books_price, books.memo AS books_memo \n",
      "FROM books \n",
      "WHERE books.title = ? AND books.id = ?\n",
      " LIMIT ? OFFSET ?\n",
      "2024-02-09 14:30:55,498 INFO sqlalchemy.engine.Engine [generated in 0.00172s] ('独習PHP', 3, 1, 0)\n",
      "独習PHP\n"
     ]
    }
   ],
   "source": [
    "book = query.filter(Book.title == '独習PHP').filter(Book.id == 3).first()\n",
    "print(book.title)"
   ]
  },
  {
   "cell_type": "markdown",
   "metadata": {},
   "source": [
    "**count**( )メソッドを使用すると、テーブル上のレコード数を取得できます。"
   ]
  },
  {
   "cell_type": "code",
   "execution_count": 19,
   "metadata": {
    "scrolled": false
   },
   "outputs": [
    {
     "name": "stdout",
     "output_type": "stream",
     "text": [
      "2024-02-09 14:31:03,496 INFO sqlalchemy.engine.Engine SELECT count(*) AS count_1 \n",
      "FROM (SELECT books.id AS books_id, books.title AS books_title, books.price AS books_price, books.memo AS books_memo \n",
      "FROM books) AS anon_1\n",
      "2024-02-09 14:31:03,498 INFO sqlalchemy.engine.Engine [generated in 0.00196s] ()\n",
      "3\n"
     ]
    }
   ],
   "source": [
    "count = query.count()\n",
    "print(count)"
   ]
  },
  {
   "cell_type": "markdown",
   "metadata": {},
   "source": [
    "### U. オブジェクトの更新\n",
    "オブジェクトの更新は**\\.price=2500**のようにオブジェクトの値を変更して、**session\\.commit**( )を呼び出します。"
   ]
  },
  {
   "cell_type": "code",
   "execution_count": 20,
   "metadata": {},
   "outputs": [
    {
     "name": "stdout",
     "output_type": "stream",
     "text": [
      "2024-02-09 14:31:06,319 INFO sqlalchemy.engine.Engine SELECT books.id AS books_id, books.title AS books_title, books.price AS books_price, books.memo AS books_memo \n",
      "FROM books \n",
      "WHERE books.id = ?\n",
      "2024-02-09 14:31:06,321 INFO sqlalchemy.engine.Engine [cached since 109.3s ago] (1,)\n",
      "2024-02-09 14:31:06,326 INFO sqlalchemy.engine.Engine UPDATE books SET price=? WHERE books.id = ?\n",
      "2024-02-09 14:31:06,327 INFO sqlalchemy.engine.Engine [generated in 0.00172s] (2500, 1)\n",
      "2024-02-09 14:31:06,331 INFO sqlalchemy.engine.Engine COMMIT\n",
      "2024-02-09 14:31:06,331 INFO sqlalchemy.engine.Engine BEGIN (implicit)\n",
      "2024-02-09 14:31:06,331 INFO sqlalchemy.engine.Engine SELECT books.id AS books_id, books.title AS books_title, books.price AS books_price, books.memo AS books_memo \n",
      "FROM books \n",
      "WHERE books.id = ?\n",
      "2024-02-09 14:31:06,341 INFO sqlalchemy.engine.Engine [generated in 0.00335s] (1,)\n",
      "2500\n"
     ]
    },
    {
     "name": "stderr",
     "output_type": "stream",
     "text": [
      "C:\\Users\\admin\\AppData\\Local\\Temp\\ipykernel_3772\\747556896.py:1: LegacyAPIWarning: The Query.get() method is considered legacy as of the 1.x series of SQLAlchemy and becomes a legacy construct in 2.0. The method is now available as Session.get() (deprecated since: 2.0) (Background on SQLAlchemy 2.0 at: https://sqlalche.me/e/b8d9)\n",
      "  book = query.get(1)\n",
      "C:\\Users\\admin\\AppData\\Local\\Temp\\ipykernel_3772\\747556896.py:4: LegacyAPIWarning: The Query.get() method is considered legacy as of the 1.x series of SQLAlchemy and becomes a legacy construct in 2.0. The method is now available as Session.get() (deprecated since: 2.0) (Background on SQLAlchemy 2.0 at: https://sqlalche.me/e/b8d9)\n",
      "  book = query.get(1)\n"
     ]
    }
   ],
   "source": [
    "book = query.get(1)\n",
    "book.price = 2500\n",
    "session.commit()\n",
    "book = query.get(1)\n",
    "print(book.price)"
   ]
  },
  {
   "cell_type": "markdown",
   "metadata": {},
   "source": [
    "### D. オブジェクトの削除\n",
    "オブジェクトの削除は**session\\.delete**( )にBookインスタンスを渡してから、**session\\.commit**( )を呼び出します。"
   ]
  },
  {
   "cell_type": "code",
   "execution_count": 21,
   "metadata": {
    "scrolled": false
   },
   "outputs": [
    {
     "name": "stdout",
     "output_type": "stream",
     "text": [
      "2024-02-09 14:31:10,099 INFO sqlalchemy.engine.Engine DELETE FROM books WHERE books.id = ?\n",
      "2024-02-09 14:31:10,101 INFO sqlalchemy.engine.Engine [generated in 0.00188s] (1,)\n",
      "2024-02-09 14:31:10,103 INFO sqlalchemy.engine.Engine COMMIT\n",
      "2024-02-09 14:31:10,108 INFO sqlalchemy.engine.Engine BEGIN (implicit)\n",
      "2024-02-09 14:31:10,110 INFO sqlalchemy.engine.Engine SELECT books.id AS books_id, books.title AS books_title, books.price AS books_price, books.memo AS books_memo \n",
      "FROM books \n",
      "WHERE books.id = ?\n",
      "2024-02-09 14:31:10,111 INFO sqlalchemy.engine.Engine [cached since 113.1s ago] (1,)\n",
      "None\n",
      "2024-02-09 14:31:10,116 INFO sqlalchemy.engine.Engine SELECT books.id AS books_id, books.title AS books_title, books.price AS books_price, books.memo AS books_memo \n",
      "FROM books\n",
      "2024-02-09 14:31:10,117 INFO sqlalchemy.engine.Engine [cached since 117.3s ago] ()\n",
      "スッキリわかるJava入門\n",
      "独習PHP\n"
     ]
    },
    {
     "name": "stderr",
     "output_type": "stream",
     "text": [
      "C:\\Users\\admin\\AppData\\Local\\Temp\\ipykernel_3772\\700329404.py:1: LegacyAPIWarning: The Query.get() method is considered legacy as of the 1.x series of SQLAlchemy and becomes a legacy construct in 2.0. The method is now available as Session.get() (deprecated since: 2.0) (Background on SQLAlchemy 2.0 at: https://sqlalche.me/e/b8d9)\n",
      "  book = query.get(1)\n",
      "C:\\Users\\admin\\AppData\\Local\\Temp\\ipykernel_3772\\700329404.py:4: LegacyAPIWarning: The Query.get() method is considered legacy as of the 1.x series of SQLAlchemy and becomes a legacy construct in 2.0. The method is now available as Session.get() (deprecated since: 2.0) (Background on SQLAlchemy 2.0 at: https://sqlalche.me/e/b8d9)\n",
      "  book = query.get(1)\n"
     ]
    }
   ],
   "source": [
    "book = query.get(1)\n",
    "session.delete(book)\n",
    "session.commit()\n",
    "book = query.get(1)\n",
    "print(book)\n",
    "\n",
    "for book in query.all():\n",
    "    print(book.title)"
   ]
  },
  {
   "cell_type": "code",
   "execution_count": 22,
   "metadata": {},
   "outputs": [
    {
     "data": {
      "text/plain": [
       "<Book('独習PHP', '3520', '翔泳社')>"
      ]
     },
     "execution_count": 22,
     "metadata": {},
     "output_type": "execute_result"
    }
   ],
   "source": [
    "book"
   ]
  },
  {
   "cell_type": "code",
   "execution_count": null,
   "metadata": {},
   "outputs": [],
   "source": []
  }
 ],
 "metadata": {
  "kernelspec": {
   "display_name": "Python 3 (ipykernel)",
   "language": "python",
   "name": "python3"
  },
  "language_info": {
   "codemirror_mode": {
    "name": "ipython",
    "version": 3
   },
   "file_extension": ".py",
   "mimetype": "text/x-python",
   "name": "python",
   "nbconvert_exporter": "python",
   "pygments_lexer": "ipython3",
   "version": "3.9.18"
  }
 },
 "nbformat": 4,
 "nbformat_minor": 2
}
