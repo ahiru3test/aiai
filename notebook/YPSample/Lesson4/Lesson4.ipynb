{
 "cells": [
  {
   "cell_type": "markdown",
   "metadata": {},
   "source": [
    "#### Lesson4"
   ]
  },
  {
   "cell_type": "code",
   "execution_count": 10,
   "metadata": {},
   "outputs": [
    {
     "name": "stdout",
     "output_type": "stream",
     "text": [
      "a>b\n"
     ]
    }
   ],
   "source": [
    "a=3\n",
    "b=2\n",
    "if a>b:\n",
    "  print (\"a>b\")\n",
    "else:\n",
    "  print (\"a<=b\")\n",
    "\n"
   ]
  },
  {
   "cell_type": "markdown",
   "metadata": {},
   "source": [
    "#### Sample1"
   ]
  },
  {
   "cell_type": "code",
   "execution_count": 14,
   "metadata": {},
   "outputs": [
    {
     "name": "stdout",
     "output_type": "stream",
     "text": [
      "売り上げは好調です。\n",
      "処理を終了します。\n"
     ]
    }
   ],
   "source": [
    "good_cnd=100\n",
    "sale=int(input(\"売り上げを入力してください。\"))\n",
    "if sale >= good_cnd :\n",
    "  print(\"売り上げは好調です。\")\n",
    "print(\"処理を終了します。\")\n"
   ]
  },
  {
   "cell_type": "markdown",
   "metadata": {},
   "source": [
    "#### Sample2"
   ]
  },
  {
   "cell_type": "code",
   "execution_count": 1,
   "metadata": {},
   "outputs": [
    {
     "name": "stdout",
     "output_type": "stream",
     "text": [
      "売上は好調です。\n",
      "処理を終了します。\n"
     ]
    }
   ],
   "source": [
    "sale = int(input(\"売上を入力してください。\"))\n",
    "if sale >=100:\n",
    "  print(\"売上は好調です。\")\n",
    "elif sale >= 50:\n",
    "  print(\"売上は普通です。\")\n",
    "else:\n",
    "  print(\"売上は低調です。\")\n",
    "\n",
    "print(\"処理を終了します。\")"
   ]
  },
  {
   "cell_type": "markdown",
   "metadata": {},
   "source": [
    "#### Sample3"
   ]
  },
  {
   "cell_type": "code",
   "execution_count": 4,
   "metadata": {},
   "outputs": [
    {
     "name": "stdout",
     "output_type": "stream",
     "text": [
      "売上は低調です。\n",
      "処理を終了します。\n"
     ]
    }
   ],
   "source": [
    "sale=int(input(\"売上を入力してください。\"))\n",
    "num=int(input(\"人数を入力してください。\"))\n",
    "\n",
    "if sale >=100 and num>=30 :\n",
    "  print(\"売上は大盛況です。\")\n",
    "elif sale >=100:\n",
    "  print(\"売上は好調です。\")\n",
    "elif sale >=50:\n",
    "  print(\"売上は普通です。\")\n",
    "else:\n",
    "  print(\"売上は低調です。\")\n",
    "\n",
    "print(\"処理を終了します。\")\n"
   ]
  },
  {
   "cell_type": "code",
   "execution_count": 12,
   "metadata": {},
   "outputs": [
    {
     "name": "stdout",
     "output_type": "stream",
     "text": [
      "普通\n"
     ]
    }
   ],
   "source": [
    "res=input(\"売上は好調ですか？（〇／×／他）\")\n",
    "ans = \"好調\" if (res==\"〇\") else \"悪い\" if (res==\"×\") else \"普通\"\n",
    "print(ans)"
   ]
  },
  {
   "cell_type": "markdown",
   "metadata": {},
   "source": [
    "#### Sample4"
   ]
  },
  {
   "cell_type": "code",
   "execution_count": 16,
   "metadata": {},
   "outputs": [
    {
     "name": "stdout",
     "output_type": "stream",
     "text": [
      "1 月のデータです。\n",
      "2 月のデータです。\n",
      "3 月のデータです。\n",
      "4 月のデータです。\n",
      "5 月のデータです。\n",
      "6 月のデータです。\n",
      "7 月のデータです。\n",
      "8 月のデータです。\n",
      "9 月のデータです。\n",
      "10 月のデータです。\n",
      "11 月のデータです。\n",
      "12 月のデータです。\n"
     ]
    }
   ],
   "source": [
    "for i in range(12):\n",
    "  print(i+1 , \"月のデータです。\")"
   ]
  },
  {
   "cell_type": "code",
   "execution_count": 27,
   "metadata": {},
   "outputs": [
    {
     "name": "stdout",
     "output_type": "stream",
     "text": [
      "i: 1  j: 12\n",
      "i: 1  j: 11\n",
      "i: 1  j: 10\n",
      "i: 1  j: 9\n",
      "i: 1  j: 8\n",
      "i: 1  j: 7\n",
      "i: 1  j: 6\n",
      "i: 1  j: 5\n",
      "i: 1  j: 4\n",
      "i: 1  j: 3\n",
      "i: 1  j: 2\n",
      "i: 1  j: 1\n",
      "i: 2  j: 12\n",
      "i: 2  j: 11\n",
      "i: 2  j: 10\n",
      "i: 2  j: 9\n",
      "i: 2  j: 8\n",
      "i: 2  j: 7\n",
      "i: 2  j: 6\n",
      "i: 2  j: 5\n",
      "i: 2  j: 4\n",
      "i: 2  j: 3\n",
      "i: 2  j: 2\n",
      "i: 2  j: 1\n",
      "i: 3  j: 12\n",
      "i: 3  j: 11\n",
      "i: 3  j: 10\n",
      "i: 3  j: 9\n",
      "i: 3  j: 8\n",
      "i: 3  j: 7\n",
      "i: 3  j: 6\n",
      "i: 3  j: 5\n",
      "i: 3  j: 4\n",
      "i: 3  j: 3\n",
      "i: 3  j: 2\n",
      "i: 3  j: 1\n",
      "i: 4  j: 12\n",
      "i: 4  j: 11\n",
      "i: 4  j: 10\n",
      "i: 4  j: 9\n",
      "i: 4  j: 8\n",
      "i: 4  j: 7\n",
      "i: 4  j: 6\n",
      "i: 4  j: 5\n",
      "i: 4  j: 4\n",
      "i: 4  j: 3\n",
      "i: 4  j: 2\n",
      "i: 4  j: 1\n",
      "i: 5  j: 12\n",
      "i: 5  j: 11\n",
      "i: 5  j: 10\n",
      "i: 5  j: 9\n",
      "i: 5  j: 8\n",
      "i: 5  j: 7\n",
      "i: 5  j: 6\n",
      "i: 5  j: 5\n",
      "i: 5  j: 4\n",
      "i: 5  j: 3\n",
      "i: 5  j: 2\n",
      "i: 5  j: 1\n",
      "i: 6  j: 12\n",
      "i: 6  j: 11\n",
      "i: 6  j: 10\n",
      "i: 6  j: 9\n",
      "i: 6  j: 8\n",
      "i: 6  j: 7\n",
      "i: 6  j: 6\n",
      "i: 6  j: 5\n",
      "i: 6  j: 4\n",
      "i: 6  j: 3\n",
      "i: 6  j: 2\n",
      "i: 6  j: 1\n",
      "i: 7  j: 12\n",
      "i: 7  j: 11\n",
      "i: 7  j: 10\n",
      "i: 7  j: 9\n",
      "i: 7  j: 8\n",
      "i: 7  j: 7\n",
      "i: 7  j: 6\n",
      "i: 7  j: 5\n",
      "i: 7  j: 4\n",
      "i: 7  j: 3\n",
      "i: 7  j: 2\n",
      "i: 7  j: 1\n",
      "i: 8  j: 12\n",
      "i: 8  j: 11\n",
      "i: 8  j: 10\n",
      "i: 8  j: 9\n",
      "i: 8  j: 8\n",
      "i: 8  j: 7\n",
      "i: 8  j: 6\n",
      "i: 8  j: 5\n",
      "i: 8  j: 4\n",
      "i: 8  j: 3\n",
      "i: 8  j: 2\n",
      "i: 8  j: 1\n",
      "i: 9  j: 12\n",
      "i: 9  j: 11\n",
      "i: 9  j: 10\n",
      "i: 9  j: 9\n",
      "i: 9  j: 8\n",
      "i: 9  j: 7\n",
      "i: 9  j: 6\n",
      "i: 9  j: 5\n",
      "i: 9  j: 4\n",
      "i: 9  j: 3\n",
      "i: 9  j: 2\n",
      "i: 9  j: 1\n",
      "i: 10  j: 12\n",
      "i: 10  j: 11\n",
      "i: 10  j: 10\n",
      "i: 10  j: 9\n",
      "i: 10  j: 8\n",
      "i: 10  j: 7\n",
      "i: 10  j: 6\n",
      "i: 10  j: 5\n",
      "i: 10  j: 4\n",
      "i: 10  j: 3\n",
      "i: 10  j: 2\n",
      "i: 10  j: 1\n",
      "i: 11  j: 12\n",
      "i: 11  j: 11\n",
      "i: 11  j: 10\n",
      "i: 11  j: 9\n",
      "i: 11  j: 8\n",
      "i: 11  j: 7\n",
      "i: 11  j: 6\n",
      "i: 11  j: 5\n",
      "i: 11  j: 4\n",
      "i: 11  j: 3\n",
      "i: 11  j: 2\n",
      "i: 11  j: 1\n",
      "i: 12  j: 12\n",
      "i: 12  j: 11\n",
      "i: 12  j: 10\n",
      "i: 12  j: 9\n",
      "i: 12  j: 8\n",
      "i: 12  j: 7\n",
      "i: 12  j: 6\n",
      "i: 12  j: 5\n",
      "i: 12  j: 4\n",
      "i: 12  j: 3\n",
      "i: 12  j: 2\n",
      "i: 12  j: 1\n"
     ]
    }
   ],
   "source": [
    "for i in range(1,13,1):\n",
    "  for j in range(12,0,-1):\n",
    "    print(\"i:\",i,\" j:\",j)\n"
   ]
  },
  {
   "cell_type": "markdown",
   "metadata": {},
   "source": [
    "#### Sample5"
   ]
  },
  {
   "cell_type": "code",
   "execution_count": 36,
   "metadata": {},
   "outputs": [],
   "source": [
    "#match 3.10～\n",
    "# 分割する数字\n",
    "# list = [1, 2, 3, 4, 5, 6, 8, 10, 11, 13, 15, 17, 19, 20, 22, 23]\n",
    "# list_mult2 = []\n",
    "# list_mult3 = []\n",
    "# list_others = []\n",
    "\n",
    "# for i in list:\n",
    "#     match i:\n",
    "#         case i if i % 2 ==0:\n",
    "#             list_mult2.append(i)\n",
    "#         case i if i % 3 ==0:\n",
    "#             list_mult3.append(i)\n",
    "#         case _:\n",
    "#             list_others.append(i)\n"
   ]
  },
  {
   "cell_type": "markdown",
   "metadata": {},
   "source": [
    "#### Sample6"
   ]
  },
  {
   "cell_type": "code",
   "execution_count": 37,
   "metadata": {},
   "outputs": [
    {
     "name": "stdout",
     "output_type": "stream",
     "text": [
      "iは 0 :jは 0\n",
      "iは 0 :jは 1\n",
      "iは 0 :jは 2\n",
      "iは 1 :jは 0\n",
      "iは 1 :jは 1\n",
      "iは 1 :jは 2\n",
      "iは 2 :jは 0\n",
      "iは 2 :jは 1\n",
      "iは 2 :jは 2\n",
      "iは 3 :jは 0\n",
      "iは 3 :jは 1\n",
      "iは 3 :jは 2\n",
      "iは 4 :jは 0\n",
      "iは 4 :jは 1\n",
      "iは 4 :jは 2\n"
     ]
    }
   ],
   "source": [
    "for i in range(5):\n",
    "  for j in range(3):\n",
    "    print(\"iは\",i, \":jは\",j)"
   ]
  },
  {
   "cell_type": "code",
   "execution_count": 38,
   "metadata": {},
   "outputs": [
    {
     "name": "stdout",
     "output_type": "stream",
     "text": [
      "1 月 4 週\n",
      "1 月 3 週\n",
      "1 月 2 週\n",
      "1 月 1 週\n",
      "2 月 4 週\n",
      "2 月 3 週\n",
      "2 月 2 週\n",
      "2 月 1 週\n",
      "3 月 4 週\n",
      "3 月 3 週\n",
      "3 月 2 週\n",
      "3 月 1 週\n",
      "4 月 4 週\n",
      "4 月 3 週\n",
      "4 月 2 週\n",
      "4 月 1 週\n",
      "5 月 4 週\n",
      "5 月 3 週\n",
      "5 月 2 週\n",
      "5 月 1 週\n",
      "6 月 4 週\n",
      "6 月 3 週\n",
      "6 月 2 週\n",
      "6 月 1 週\n",
      "7 月 4 週\n",
      "7 月 3 週\n",
      "7 月 2 週\n",
      "7 月 1 週\n",
      "8 月 4 週\n",
      "8 月 3 週\n",
      "8 月 2 週\n",
      "8 月 1 週\n",
      "9 月 4 週\n",
      "9 月 3 週\n",
      "9 月 2 週\n",
      "9 月 1 週\n",
      "10 月 4 週\n",
      "10 月 3 週\n",
      "10 月 2 週\n",
      "10 月 1 週\n",
      "11 月 4 週\n",
      "11 月 3 週\n",
      "11 月 2 週\n",
      "11 月 1 週\n",
      "12 月 4 週\n",
      "12 月 3 週\n",
      "12 月 2 週\n",
      "12 月 1 週\n"
     ]
    }
   ],
   "source": [
    "for i in range(1,13,1):\n",
    "  for j in range(4,0,-1):\n",
    "    print(i,\"月\",j, \"週\")"
   ]
  },
  {
   "cell_type": "markdown",
   "metadata": {},
   "source": [
    "#### Sample7"
   ]
  },
  {
   "cell_type": "code",
   "execution_count": 47,
   "metadata": {},
   "outputs": [
    {
     "name": "stdout",
     "output_type": "stream",
     "text": [
      "*-*-*\n",
      "-*-*-\n",
      "*-*-*\n",
      "-*-*-\n",
      "*-*-*\n"
     ]
    }
   ],
   "source": [
    "v=False\n",
    "for i in range(5):\n",
    "  for j in range(5):\n",
    "    # if v is False:\n",
    "    #   print(\"*\",end=\"\")\n",
    "    #   v=True\n",
    "    # else:\n",
    "    #   print(\"-\",end=\"\")\n",
    "    #   v=False\n",
    "\n",
    "    # s = \"*\" if (v is False ) else \"-\"\n",
    "    # print(s,end=\"\")\n",
    "    # v = not v\n",
    "\n",
    "    print(\"*\" if (v is False ) else \"-\" , end=\"\")\n",
    "    v = not v\n",
    "  print()\n"
   ]
  },
  {
   "cell_type": "code",
   "execution_count": 49,
   "metadata": {},
   "outputs": [
    {
     "data": {
      "text/plain": [
       "140723492223112"
      ]
     },
     "execution_count": 49,
     "metadata": {},
     "output_type": "execute_result"
    }
   ],
   "source": [
    "i=False\n",
    "j=False\n",
    "\n",
    "id(i)\n"
   ]
  },
  {
   "cell_type": "markdown",
   "metadata": {},
   "source": [
    "#### Sample8"
   ]
  },
  {
   "cell_type": "code",
   "execution_count": 52,
   "metadata": {},
   "outputs": [
    {
     "name": "stdout",
     "output_type": "stream",
     "text": [
      "1 月のデータです。\n",
      "2 月のデータです。\n",
      "3 月のデータです。\n",
      "4 月のデータです。\n",
      "5 月のデータです。\n"
     ]
    }
   ],
   "source": [
    "num=int(input(\"何月の処理で終了しますか？（1～12）\"))\n",
    "\n",
    "for i in range(12):\n",
    "  print(i+1,\"月のデータです。\")\n",
    "  if (i+1)==num:\n",
    "    break"
   ]
  },
  {
   "cell_type": "markdown",
   "metadata": {},
   "source": [
    "#### Sample9"
   ]
  },
  {
   "cell_type": "code",
   "execution_count": 2,
   "metadata": {},
   "outputs": [
    {
     "name": "stdout",
     "output_type": "stream",
     "text": [
      "1 月のデータです。\n",
      "2 月のデータです。\n",
      "3 月のデータです。\n",
      "4 月のデータです。\n",
      "6 月のデータです。\n",
      "7 月のデータです。\n",
      "8 月のデータです。\n",
      "9 月のデータです。\n",
      "10 月のデータです。\n",
      "11 月のデータです。\n",
      "12 月のデータです。\n",
      "else end\n"
     ]
    }
   ],
   "source": [
    "num=int(input(\"何月の処理を飛ばしますか？（1～12）\"))\n",
    "\n",
    "for i in range(12):\n",
    "  if (i+1)==num:\n",
    "    continue\n",
    "  print(i+1,\"月のデータです。\")\n",
    "else:\n",
    "  print(\"else end\")\n"
   ]
  },
  {
   "cell_type": "markdown",
   "metadata": {},
   "source": [
    "#### Sample9_5\n",
    "@import \"Lesson4_9_5.puml\""
   ]
  },
  {
   "cell_type": "markdown",
   "metadata": {},
   "source": [
    "#### 練習"
   ]
  },
  {
   "cell_type": "code",
   "execution_count": 7,
   "metadata": {},
   "outputs": [
    {
     "name": "stdout",
     "output_type": "stream",
     "text": [
      "2\n",
      "4\n",
      "6\n",
      "8\n",
      "10\n"
     ]
    }
   ],
   "source": [
    "for i in range(1,11,1) :\n",
    "  if(i%2==0) :\n",
    "    print(i)"
   ]
  },
  {
   "cell_type": "code",
   "execution_count": 6,
   "metadata": {},
   "outputs": [
    {
     "name": "stdout",
     "output_type": "stream",
     "text": [
      "2\n",
      "4\n",
      "6\n",
      "8\n",
      "10\n"
     ]
    }
   ],
   "source": [
    "for i in range(2,11,2) :\n",
    "  print(i)"
   ]
  },
  {
   "cell_type": "code",
   "execution_count": 14,
   "metadata": {},
   "outputs": [
    {
     "name": "stdout",
     "output_type": "stream",
     "text": [
      "1\t2\t3\t4\t5\t6\t7\t8\t9\t\n",
      "2\t4\t6\t8\t10\t12\t14\t16\t18\t\n",
      "3\t6\t9\t12\t15\t18\t21\t24\t27\t\n",
      "4\t8\t12\t16\t20\t24\t28\t32\t36\t\n",
      "5\t10\t15\t20\t25\t30\t35\t40\t45\t\n",
      "6\t12\t18\t24\t30\t36\t42\t48\t54\t\n",
      "7\t14\t21\t28\t35\t42\t49\t56\t63\t\n",
      "8\t16\t24\t32\t40\t48\t56\t64\t72\t\n",
      "9\t18\t27\t36\t45\t54\t63\t72\t81\t\n"
     ]
    }
   ],
   "source": [
    "for i in range(1,10,1):\n",
    "  for j in range(1,10,1):\n",
    "    print(i*j,end=\"\\t\")\n",
    "    if (j==9) :\n",
    "      print()"
   ]
  },
  {
   "cell_type": "code",
   "execution_count": 16,
   "metadata": {},
   "outputs": [
    {
     "name": "stdout",
     "output_type": "stream",
     "text": [
      "*\n",
      "**\n",
      "***\n",
      "****\n",
      "*****\n"
     ]
    }
   ],
   "source": [
    "for i in range(1,6,1):\n",
    "  print(\"*\"*i)"
   ]
  }
 ],
 "metadata": {
  "kernelspec": {
   "display_name": "py39",
   "language": "python",
   "name": "python3"
  },
  "language_info": {
   "codemirror_mode": {
    "name": "ipython",
    "version": 3
   },
   "file_extension": ".py",
   "mimetype": "text/x-python",
   "name": "python",
   "nbconvert_exporter": "python",
   "pygments_lexer": "ipython3",
   "version": "3.9.18"
  }
 },
 "nbformat": 4,
 "nbformat_minor": 2
}
