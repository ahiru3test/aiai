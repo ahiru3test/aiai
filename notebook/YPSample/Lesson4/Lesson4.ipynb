{
 "cells": [
  {
   "cell_type": "markdown",
   "metadata": {},
   "source": [
    "#### Lesson4"
   ]
  },
  {
   "cell_type": "code",
   "execution_count": 10,
   "metadata": {},
   "outputs": [
    {
     "name": "stdout",
     "output_type": "stream",
     "text": [
      "a>b\n"
     ]
    }
   ],
   "source": [
    "a=3\n",
    "b=2\n",
    "if a>b:\n",
    "  print (\"a>b\")\n",
    "else:\n",
    "  print (\"a<=b\")\n",
    "\n"
   ]
  },
  {
   "cell_type": "markdown",
   "metadata": {},
   "source": [
    "#### Sample1"
   ]
  },
  {
   "cell_type": "code",
   "execution_count": 14,
   "metadata": {},
   "outputs": [
    {
     "name": "stdout",
     "output_type": "stream",
     "text": [
      "売り上げは好調です。\n",
      "処理を終了します。\n"
     ]
    }
   ],
   "source": [
    "good_cnd=100\n",
    "sale=int(input(\"売り上げを入力してください。\"))\n",
    "if sale >= good_cnd :\n",
    "  print(\"売り上げは好調です。\")\n",
    "print(\"処理を終了します。\")\n"
   ]
  },
  {
   "cell_type": "markdown",
   "metadata": {},
   "source": [
    "#### Sample2"
   ]
  },
  {
   "cell_type": "code",
   "execution_count": 1,
   "metadata": {},
   "outputs": [
    {
     "name": "stdout",
     "output_type": "stream",
     "text": [
      "売上は好調です。\n",
      "処理を終了します。\n"
     ]
    }
   ],
   "source": [
    "sale = int(input(\"売上を入力してください。\"))\n",
    "if sale >=100:\n",
    "  print(\"売上は好調です。\")\n",
    "elif sale >= 50:\n",
    "  print(\"売上は普通です。\")\n",
    "else:\n",
    "  print(\"売上は低調です。\")\n",
    "\n",
    "print(\"処理を終了します。\")"
   ]
  },
  {
   "cell_type": "markdown",
   "metadata": {},
   "source": [
    "#### Sample3"
   ]
  },
  {
   "cell_type": "code",
   "execution_count": 4,
   "metadata": {},
   "outputs": [
    {
     "name": "stdout",
     "output_type": "stream",
     "text": [
      "売上は低調です。\n",
      "処理を終了します。\n"
     ]
    }
   ],
   "source": [
    "sale=int(input(\"売上を入力してください。\"))\n",
    "num=int(input(\"人数を入力してください。\"))\n",
    "\n",
    "if sale >=100 and num>=30 :\n",
    "  print(\"売上は大盛況です。\")\n",
    "elif sale >=100:\n",
    "  print(\"売上は好調です。\")\n",
    "elif sale >=50:\n",
    "  print(\"売上は普通です。\")\n",
    "else:\n",
    "  print(\"売上は低調です。\")\n",
    "\n",
    "print(\"処理を終了します。\")\n"
   ]
  },
  {
   "cell_type": "code",
   "execution_count": 12,
   "metadata": {},
   "outputs": [
    {
     "name": "stdout",
     "output_type": "stream",
     "text": [
      "普通\n"
     ]
    }
   ],
   "source": [
    "res=input(\"売上は好調ですか？（〇／×／他）\")\n",
    "ans = \"好調\" if (res==\"〇\") else \"悪い\" if (res==\"×\") else \"普通\"\n",
    "print(ans)"
   ]
  },
  {
   "cell_type": "markdown",
   "metadata": {},
   "source": [
    "#### Sample4"
   ]
  },
  {
   "cell_type": "code",
   "execution_count": 16,
   "metadata": {},
   "outputs": [
    {
     "name": "stdout",
     "output_type": "stream",
     "text": [
      "1 月のデータです。\n",
      "2 月のデータです。\n",
      "3 月のデータです。\n",
      "4 月のデータです。\n",
      "5 月のデータです。\n",
      "6 月のデータです。\n",
      "7 月のデータです。\n",
      "8 月のデータです。\n",
      "9 月のデータです。\n",
      "10 月のデータです。\n",
      "11 月のデータです。\n",
      "12 月のデータです。\n"
     ]
    }
   ],
   "source": [
    "for i in range(12):\n",
    "  print(i+1 , \"月のデータです。\")"
   ]
  }
 ],
 "metadata": {
  "kernelspec": {
   "display_name": "py39",
   "language": "python",
   "name": "python3"
  },
  "language_info": {
   "codemirror_mode": {
    "name": "ipython",
    "version": 3
   },
   "file_extension": ".py",
   "mimetype": "text/x-python",
   "name": "python",
   "nbconvert_exporter": "python",
   "pygments_lexer": "ipython3",
   "version": "3.9.18"
  }
 },
 "nbformat": 4,
 "nbformat_minor": 2
}
