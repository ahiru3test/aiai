{
 "cells": [
  {
   "cell_type": "code",
   "execution_count": 2,
   "id": "5d7e5a0a-6e16-4415-955b-c986842a60e2",
   "metadata": {},
   "outputs": [
    {
     "data": {
      "text/plain": [
       "True"
      ]
     },
     "execution_count": 2,
     "metadata": {},
     "output_type": "execute_result"
    }
   ],
   "source": [
    "3 > 1"
   ]
  },
  {
   "cell_type": "code",
   "execution_count": 4,
   "id": "64dcc411-a2d8-4291-a6ab-d5d545367714",
   "metadata": {},
   "outputs": [
    {
     "data": {
      "text/plain": [
       "False"
      ]
     },
     "execution_count": 4,
     "metadata": {},
     "output_type": "execute_result"
    }
   ],
   "source": [
    "5 < 3"
   ]
  },
  {
   "cell_type": "code",
   "execution_count": 12,
   "id": "ff5b656b-deec-4a77-81c8-c9e63d42b275",
   "metadata": {},
   "outputs": [
    {
     "data": {
      "text/plain": [
       "True"
      ]
     },
     "execution_count": 12,
     "metadata": {},
     "output_type": "execute_result"
    }
   ],
   "source": [
    "a = 5\n",
    "a!= 6"
   ]
  },
  {
   "cell_type": "code",
   "execution_count": 15,
   "id": "2c1d5c3c-1b47-4ae3-ae96-d7032e8eaf0f",
   "metadata": {},
   "outputs": [
    {
     "data": {
      "text/plain": [
       "True"
      ]
     },
     "execution_count": 15,
     "metadata": {},
     "output_type": "execute_result"
    }
   ],
   "source": [
    "5 == a"
   ]
  },
  {
   "cell_type": "markdown",
   "id": "87c45a06-1cd6-4415-80b6-8b588aa0cc70",
   "metadata": {},
   "source": [
    "#### Sample1"
   ]
  },
  {
   "cell_type": "code",
   "execution_count": 4,
   "id": "83238a12-76ea-4e48-9af5-dba9774777cc",
   "metadata": {},
   "outputs": [
    {
     "name": "stdin",
     "output_type": "stream",
     "text": [
      "売上を入力してください。 99\n"
     ]
    },
    {
     "name": "stdout",
     "output_type": "stream",
     "text": [
      "処理を終了します。\n"
     ]
    }
   ],
   "source": [
    "sale = int(input(\"売上を入力してください。\"))\n",
    "\n",
    "if sale >= 100:\n",
    "    print(\"売上は好調です。\")\n",
    "\n",
    "print(\"処理を終了します。\")"
   ]
  },
  {
   "cell_type": "markdown",
   "id": "4a737cfe-befb-4848-bcb1-c867d0b79d90",
   "metadata": {},
   "source": [
    "#### Sample2"
   ]
  },
  {
   "cell_type": "code",
   "execution_count": 5,
   "id": "e31422bc-ab6f-497d-baa0-d8fca12d366c",
   "metadata": {},
   "outputs": [
    {
     "name": "stdin",
     "output_type": "stream",
     "text": [
      "売上を入力してください。 49\n"
     ]
    },
    {
     "name": "stdout",
     "output_type": "stream",
     "text": [
      "売上は低調です\n",
      "処理を終了します。\n"
     ]
    }
   ],
   "source": [
    "sale = int(input(\"売上を入力してください。\"))\n",
    "\n",
    "if sale >= 100:\n",
    "    print(\"売上は好調です。\")\n",
    "elif sale >= 50:\n",
    "    print(\"売上は普通です。\")\n",
    "else:\n",
    "    print(\"売上は低調です\")\n",
    "\n",
    "print(\"処理を終了します。\")"
   ]
  },
  {
   "cell_type": "markdown",
   "id": "8eea6863-bb3a-470f-8d68-8ce1e30c3f0d",
   "metadata": {},
   "source": [
    "#### 論理演算子"
   ]
  },
  {
   "cell_type": "code",
   "execution_count": 7,
   "id": "f9bd8816-c47c-49a2-841c-29673e64eb48",
   "metadata": {},
   "outputs": [
    {
     "data": {
      "text/plain": [
       "True"
      ]
     },
     "execution_count": 7,
     "metadata": {},
     "output_type": "execute_result"
    }
   ],
   "source": [
    "5>3 and 3==3"
   ]
  },
  {
   "cell_type": "code",
   "execution_count": 11,
   "id": "0e34bd78-59a4-45ee-a1ba-78e2cab3bf61",
   "metadata": {},
   "outputs": [
    {
     "data": {
      "text/plain": [
       "False"
      ]
     },
     "execution_count": 11,
     "metadata": {},
     "output_type": "execute_result"
    }
   ],
   "source": [
    "a=5\n",
    "a==6 or a>=12"
   ]
  },
  {
   "cell_type": "code",
   "execution_count": 12,
   "id": "bb4df389-3678-4c96-9839-04fc488f79b6",
   "metadata": {},
   "outputs": [
    {
     "data": {
      "text/plain": [
       "True"
      ]
     },
     "execution_count": 12,
     "metadata": {},
     "output_type": "execute_result"
    }
   ],
   "source": [
    "a=5\n",
    "not(a==6)"
   ]
  },
  {
   "cell_type": "markdown",
   "id": "2274507f-5cf9-483d-9165-631651b76fb6",
   "metadata": {},
   "source": [
    "#### Sample3"
   ]
  },
  {
   "cell_type": "code",
   "execution_count": 20,
   "id": "06740c93-e357-4a32-9e16-f0de47693306",
   "metadata": {},
   "outputs": [
    {
     "name": "stdin",
     "output_type": "stream",
     "text": [
      "売上を入力してください。 49\n",
      "人数を入力してください。 100\n"
     ]
    },
    {
     "name": "stdout",
     "output_type": "stream",
     "text": [
      "売上は低調です。\n",
      "処理を終了します。\n"
     ]
    }
   ],
   "source": [
    "sale = int(input(\"売上を入力してください。\"))\n",
    "num = int(input(\"人数を入力してください。\"))\n",
    "\n",
    "if sale >= 100 and num >= 30:\n",
    "    print(\"売上は大盛況です。\")\n",
    "elif sale >= 100:\n",
    "    print(\"売上は好調です。\")\n",
    "elif sale >= 50:\n",
    "    print(\"売上は普通です。\")\n",
    "else:\n",
    "    print(\"売上は低調です。\")\n",
    "\n",
    "print(\"処理を終了します。\")"
   ]
  },
  {
   "cell_type": "markdown",
   "id": "a8bb9c7b-ea54-4249-a388-d10e6ad5d8c0",
   "metadata": {},
   "source": [
    "#### 条件演算子"
   ]
  },
  {
   "cell_type": "code",
   "execution_count": 22,
   "id": "f5ab1ac6-5616-4207-945a-91287859b13e",
   "metadata": {},
   "outputs": [
    {
     "name": "stdin",
     "output_type": "stream",
     "text": [
      "売上は好調ですか？(〇/×) ×\n"
     ]
    },
    {
     "name": "stdout",
     "output_type": "stream",
     "text": [
      "普通\n"
     ]
    }
   ],
   "source": [
    "res = input(\"売上は好調ですか？(〇/×)\")\n",
    "ans = \"好調\" if (res == \"〇\") else \"普通\"\n",
    "print(ans)"
   ]
  },
  {
   "cell_type": "code",
   "execution_count": 24,
   "id": "50bbd86e-4a10-4abd-90a7-6242be934598",
   "metadata": {},
   "outputs": [
    {
     "name": "stdin",
     "output_type": "stream",
     "text": [
      "売上は好調ですか？(〇/×) ×\n"
     ]
    },
    {
     "name": "stdout",
     "output_type": "stream",
     "text": [
      "普通\n"
     ]
    }
   ],
   "source": [
    "res = input(\"売上は好調ですか？(〇/×)\")\n",
    "if res == \"〇\":\n",
    "    ans = \"好調\"\n",
    "else:\n",
    "    ans = \"普通\"\n",
    "print(ans)"
   ]
  },
  {
   "cell_type": "code",
   "execution_count": 30,
   "id": "f95517cd-cb70-4e22-bf77-f0df52ce6eaa",
   "metadata": {},
   "outputs": [
    {
     "name": "stdin",
     "output_type": "stream",
     "text": [
      "売上は好調ですか？(〇/×) 〇\n"
     ]
    },
    {
     "name": "stdout",
     "output_type": "stream",
     "text": [
      "好調\n"
     ]
    }
   ],
   "source": [
    "res = input(\"売上は好調ですか？(〇/×)\")\n",
    "ans = \"好調\"\n",
    "if res == \"〇\":\n",
    "    pass # 何も処理しないブロックにはpassを記述します。\n",
    "else:\n",
    "    ans = \"普通\"\n",
    "print(ans)"
   ]
  },
  {
   "cell_type": "markdown",
   "id": "e2e77e0b-6ac5-41c7-a11f-bbebf4b328ca",
   "metadata": {},
   "source": [
    "### 4.4 for文"
   ]
  },
  {
   "cell_type": "markdown",
   "id": "85438092-dae6-4d78-ab9d-2ebe0ef6b5fd",
   "metadata": {},
   "source": [
    "#### Sample4"
   ]
  },
  {
   "cell_type": "code",
   "execution_count": 29,
   "id": "cd679dd5-b99f-4a2d-850e-834df5fbdf3a",
   "metadata": {},
   "outputs": [
    {
     "name": "stdout",
     "output_type": "stream",
     "text": [
      "1 月のデータです。\n",
      "2 月のデータです。\n",
      "3 月のデータです。\n",
      "4 月のデータです。\n",
      "5 月のデータです。\n",
      "6 月のデータです。\n",
      "7 月のデータです。\n",
      "8 月のデータです。\n",
      "9 月のデータです。\n",
      "10 月のデータです。\n",
      "11 月のデータです。\n",
      "12 月のデータです。\n"
     ]
    }
   ],
   "source": [
    "for i in range(12):\n",
    "    print(i+1, \"月のデータです。\")"
   ]
  },
  {
   "cell_type": "code",
   "execution_count": 31,
   "id": "0b9e9bc3-53a8-4c78-904c-f37dc3be4bf6",
   "metadata": {},
   "outputs": [
    {
     "name": "stdout",
     "output_type": "stream",
     "text": [
      "0 月のデータです。\n",
      "1 月のデータです。\n",
      "2 月のデータです。\n",
      "3 月のデータです。\n",
      "4 月のデータです。\n",
      "5 月のデータです。\n",
      "6 月のデータです。\n",
      "7 月のデータです。\n",
      "8 月のデータです。\n",
      "9 月のデータです。\n",
      "10 月のデータです。\n",
      "11 月のデータです。\n"
     ]
    }
   ],
   "source": [
    "for i in range(12):\n",
    "    print(i, \"月のデータです。\")"
   ]
  },
  {
   "cell_type": "code",
   "execution_count": 32,
   "id": "52633be0-daff-4355-a88e-f69cc7bbc2eb",
   "metadata": {},
   "outputs": [
    {
     "name": "stdout",
     "output_type": "stream",
     "text": [
      "1 月のデータです。\n",
      "2 月のデータです。\n",
      "3 月のデータです。\n",
      "4 月のデータです。\n",
      "5 月のデータです。\n",
      "6 月のデータです。\n",
      "7 月のデータです。\n",
      "8 月のデータです。\n",
      "9 月のデータです。\n",
      "10 月のデータです。\n",
      "11 月のデータです。\n",
      "12 月のデータです。\n"
     ]
    }
   ],
   "source": [
    "for i in range(1,13,1):\n",
    "    print(i, \"月のデータです。\")"
   ]
  },
  {
   "cell_type": "code",
   "execution_count": 35,
   "id": "a9c6561d-4ed8-4e8b-88d6-6de0f965436c",
   "metadata": {},
   "outputs": [
    {
     "name": "stdout",
     "output_type": "stream",
     "text": [
      "1 3 5 7 9 "
     ]
    }
   ],
   "source": [
    "for i in range(1, 10, 2):\n",
    "    print(i, end=\" \")"
   ]
  },
  {
   "cell_type": "code",
   "execution_count": 37,
   "id": "26825eda-e77e-44f4-b5a3-f3f02449b16a",
   "metadata": {},
   "outputs": [
    {
     "name": "stdout",
     "output_type": "stream",
     "text": [
      "10 8 6 4 2 "
     ]
    }
   ],
   "source": [
    "for i in range(10, 0, -2):\n",
    "    print(i, end=\" \")"
   ]
  },
  {
   "cell_type": "markdown",
   "id": "24a4b5c7-b60e-4f04-8d7c-0fba8c72827a",
   "metadata": {},
   "source": [
    "## 4.5 while文"
   ]
  },
  {
   "cell_type": "markdown",
   "id": "2fc198bf-2c69-4ef5-b9ee-3f7b723c6d57",
   "metadata": {},
   "source": [
    "#### Sample5"
   ]
  },
  {
   "cell_type": "code",
   "execution_count": 1,
   "id": "a3e0fa6b-236a-4e8d-a8f3-dcb6b814c41e",
   "metadata": {},
   "outputs": [
    {
     "name": "stdout",
     "output_type": "stream",
     "text": [
      "1 月のデータです。\n",
      "2 月のデータです。\n",
      "3 月のデータです。\n",
      "4 月のデータです。\n",
      "5 月のデータです。\n",
      "6 月のデータです。\n",
      "7 月のデータです。\n",
      "8 月のデータです。\n",
      "9 月のデータです。\n",
      "10 月のデータです。\n",
      "11 月のデータです。\n",
      "12 月のデータです。\n"
     ]
    }
   ],
   "source": [
    "i = 1\n",
    "while i <= 12:\n",
    "    print(i, \"月のデータです。\")\n",
    "    i = i + 1"
   ]
  },
  {
   "cell_type": "markdown",
   "id": "142af41c-e295-43b2-8af8-4cd1ee42b32b",
   "metadata": {},
   "source": [
    "### 4.6文のネスト"
   ]
  },
  {
   "cell_type": "markdown",
   "id": "744a31b9-3214-4408-811d-399c16b38382",
   "metadata": {},
   "source": [
    "#### Sample6"
   ]
  },
  {
   "cell_type": "code",
   "execution_count": 2,
   "id": "6d51a8f9-24ff-4bd6-b1d0-9405e739923e",
   "metadata": {},
   "outputs": [
    {
     "name": "stdout",
     "output_type": "stream",
     "text": [
      "iは 0 :jは 0\n",
      "iは 0 :jは 1\n",
      "iは 0 :jは 2\n",
      "iは 1 :jは 0\n",
      "iは 1 :jは 1\n",
      "iは 1 :jは 2\n",
      "iは 2 :jは 0\n",
      "iは 2 :jは 1\n",
      "iは 2 :jは 2\n",
      "iは 3 :jは 0\n",
      "iは 3 :jは 1\n",
      "iは 3 :jは 2\n",
      "iは 4 :jは 0\n",
      "iは 4 :jは 1\n",
      "iは 4 :jは 2\n"
     ]
    }
   ],
   "source": [
    "for i in range(5):\n",
    "    for j in range(3):\n",
    "        print(\"iは\", i, \":jは\", j)"
   ]
  },
  {
   "cell_type": "markdown",
   "id": "df80d47d-dfd8-4112-a785-cf23f16c9951",
   "metadata": {},
   "source": [
    "#### Sample7"
   ]
  },
  {
   "cell_type": "code",
   "execution_count": 4,
   "id": "80938c99-fcd5-4839-b263-ce90d20eb576",
   "metadata": {},
   "outputs": [
    {
     "name": "stdout",
     "output_type": "stream",
     "text": [
      "*-*-*\n",
      "-*-*-\n",
      "*-*-*\n",
      "-*-*-\n",
      "*-*-*\n"
     ]
    }
   ],
   "source": [
    "v = False\n",
    "\n",
    "for i in range(5): # 5行\n",
    "    for j in range(5): # 5桁\n",
    "        if v is False:\n",
    "            print(\"*\", end=\"\")\n",
    "            v = True\n",
    "        else:\n",
    "            print(\"-\", end=\"\")\n",
    "            v = False\n",
    "    # for(j...)文の終わり\n",
    "    print()\n",
    "# for(i...)の終わり"
   ]
  },
  {
   "cell_type": "markdown",
   "id": "aad8e9d1-c837-4461-a70d-03b78bdf203e",
   "metadata": {},
   "source": [
    "#### 条件演算子を使った例"
   ]
  },
  {
   "cell_type": "code",
   "execution_count": 16,
   "id": "76f3eb19-f8fd-4d3a-9674-35b80cb2fc2a",
   "metadata": {},
   "outputs": [
    {
     "name": "stdout",
     "output_type": "stream",
     "text": [
      "*-*-*\n",
      "-*-*-\n",
      "*-*-*\n",
      "-*-*-\n",
      "*-*-*\n"
     ]
    }
   ],
   "source": [
    "v = False\n",
    "\n",
    "for i in range(5): # 5行\n",
    "    for j in range(5): # 5桁\n",
    "        s = \"*\" if v is False else \"-\"\n",
    "        print(s, end=\"\")\n",
    "        v = not v\n",
    "    # for(j...)文の終わり\n",
    "    print()\n",
    "# for(i...)の終わり"
   ]
  },
  {
   "cell_type": "code",
   "execution_count": 12,
   "id": "7dca3dc5-3399-4bd3-94d8-b68a0b39f799",
   "metadata": {},
   "outputs": [
    {
     "name": "stdout",
     "output_type": "stream",
     "text": [
      "*-*-*\n",
      "-*-*-\n",
      "*-*-*\n",
      "-*-*-\n",
      "*-*-*\n"
     ]
    }
   ],
   "source": [
    "v = False\n",
    "\n",
    "for i in range(5): # 5行\n",
    "    for j in range(5): # 5桁\n",
    "        if v == False:\n",
    "            print(\"*\", end=\"\")\n",
    "            v = True\n",
    "        else:\n",
    "            print(\"-\", end=\"\")\n",
    "            v = False\n",
    "    # for(j...)文の終わり\n",
    "    print()\n",
    "# for(i...)の終わり"
   ]
  },
  {
   "cell_type": "code",
   "execution_count": 18,
   "id": "f7af1ff2-0256-49e0-a180-b17b9ad0203c",
   "metadata": {},
   "outputs": [],
   "source": [
    "v = False"
   ]
  },
  {
   "cell_type": "code",
   "execution_count": 19,
   "id": "a04d2254-1e7e-414d-8501-8ddb7b9cda3f",
   "metadata": {},
   "outputs": [
    {
     "data": {
      "text/plain": [
       "140726039476360"
      ]
     },
     "execution_count": 19,
     "metadata": {},
     "output_type": "execute_result"
    }
   ],
   "source": [
    "id(v)"
   ]
  },
  {
   "cell_type": "code",
   "execution_count": null,
   "id": "41994edb-ca0e-4509-b874-4fff7433607e",
   "metadata": {},
   "outputs": [],
   "source": []
  },
  {
   "cell_type": "code",
   "execution_count": 20,
   "id": "7c07c787-f30f-4bcb-8ac2-38c9999210e5",
   "metadata": {},
   "outputs": [
    {
     "data": {
      "text/plain": [
       "140726039476360"
      ]
     },
     "execution_count": 20,
     "metadata": {},
     "output_type": "execute_result"
    }
   ],
   "source": [
    "id(False)"
   ]
  },
  {
   "cell_type": "code",
   "execution_count": 21,
   "id": "77096c10-aa82-4eeb-afdd-a6171d244018",
   "metadata": {},
   "outputs": [],
   "source": [
    "v = 0"
   ]
  },
  {
   "cell_type": "code",
   "execution_count": 22,
   "id": "fb386704-0622-4583-84dd-e2dbe1c34e18",
   "metadata": {},
   "outputs": [
    {
     "data": {
      "text/plain": [
       "2065406060816"
      ]
     },
     "execution_count": 22,
     "metadata": {},
     "output_type": "execute_result"
    }
   ],
   "source": [
    "id(v)"
   ]
  },
  {
   "cell_type": "code",
   "execution_count": 23,
   "id": "c14282af-4726-4125-8f50-211cb2fe459c",
   "metadata": {},
   "outputs": [
    {
     "data": {
      "text/plain": [
       "True"
      ]
     },
     "execution_count": 23,
     "metadata": {},
     "output_type": "execute_result"
    }
   ],
   "source": [
    "v == False"
   ]
  },
  {
   "cell_type": "code",
   "execution_count": 24,
   "id": "e3c64fda-a10e-4129-82b3-c6b61e771273",
   "metadata": {},
   "outputs": [
    {
     "data": {
      "text/plain": [
       "False"
      ]
     },
     "execution_count": 24,
     "metadata": {},
     "output_type": "execute_result"
    }
   ],
   "source": [
    "v is False"
   ]
  },
  {
   "cell_type": "code",
   "execution_count": 11,
   "id": "f36bdc5d-4a58-4023-bee0-716fafaafc1a",
   "metadata": {},
   "outputs": [
    {
     "name": "stdout",
     "output_type": "stream",
     "text": [
      "HelloKitty\n",
      "hellokitty"
     ]
    }
   ],
   "source": [
    "print(\"Hello\",end=\"\")\n",
    "print(\"Kitty\",end=\"\")\n",
    "print(\"\")\n",
    "print(\"hello\",end=\"\")\n",
    "print(\"kitty\",end=\"\")"
   ]
  },
  {
   "cell_type": "markdown",
   "id": "54113df4-e2cc-4a08-a9d7-6162e923928b",
   "metadata": {},
   "source": [
    "## 4.7処理の流れの変更"
   ]
  },
  {
   "cell_type": "markdown",
   "id": "e072e68e-d39b-4048-b4e6-8627d486b8a9",
   "metadata": {},
   "source": [
    "#### Sample8"
   ]
  },
  {
   "cell_type": "code",
   "execution_count": 25,
   "id": "62f30029-d062-4113-9da9-b9ecbe9a54c5",
   "metadata": {},
   "outputs": [
    {
     "name": "stdin",
     "output_type": "stream",
     "text": [
      "何月の処理で終了しますか？(1～12) 5\n"
     ]
    },
    {
     "name": "stdout",
     "output_type": "stream",
     "text": [
      "1 月のデータです。\n",
      "2 月のデータです。\n",
      "3 月のデータです。\n",
      "4 月のデータです。\n",
      "5 月のデータです。\n"
     ]
    }
   ],
   "source": [
    "num = int(input(\"何月の処理で終了しますか？(1～12)\"))\n",
    "\n",
    "for i in range(12):\n",
    "    print(i+1, \"月のデータです。\")\n",
    "    if (i+1) == num:\n",
    "        break "
   ]
  },
  {
   "cell_type": "markdown",
   "id": "6828e15b-a61c-4fa4-a332-69bec5d1edab",
   "metadata": {},
   "source": [
    "#### for ～ else"
   ]
  },
  {
   "cell_type": "code",
   "execution_count": 32,
   "id": "8ec565a2-3b49-4a3f-971e-88193cdb53d3",
   "metadata": {},
   "outputs": [
    {
     "name": "stdin",
     "output_type": "stream",
     "text": [
      "何月の処理で終了しますか？(1～12) 20\n"
     ]
    },
    {
     "name": "stdout",
     "output_type": "stream",
     "text": [
      "1 月のデータです。\n",
      "2 月のデータです。\n",
      "3 月のデータです。\n",
      "4 月のデータです。\n",
      "5 月のデータです。\n",
      "6 月のデータです。\n",
      "7 月のデータです。\n",
      "8 月のデータです。\n",
      "9 月のデータです。\n",
      "10 月のデータです。\n",
      "11 月のデータです。\n",
      "12 月のデータです。\n",
      "該当する月が見つかりませんでした。\n"
     ]
    }
   ],
   "source": [
    "num = int(input(\"何月の処理で終了しますか？(1～12)\"))\n",
    "\n",
    "for i in range(12):\n",
    "    print(i+1, \"月のデータです。\")\n",
    "    if (i+1) == num:\n",
    "        break \n",
    "# for(i...)をすべて実行した場合\n",
    "else:\n",
    "    print(\"該当する月が見つかりませんでした。\")"
   ]
  },
  {
   "cell_type": "markdown",
   "id": "de1c7f81-0499-46b7-a951-981b62e7f853",
   "metadata": {},
   "source": [
    "#### Sample9"
   ]
  },
  {
   "cell_type": "code",
   "execution_count": 26,
   "id": "6f6c3129-b8e4-4ece-aa75-b13c2247a492",
   "metadata": {},
   "outputs": [
    {
     "name": "stdin",
     "output_type": "stream",
     "text": [
      "何月の処理を飛ばしますか？(1～12) 3\n"
     ]
    },
    {
     "name": "stdout",
     "output_type": "stream",
     "text": [
      "1 月のデータです。\n",
      "2 月のデータです。\n",
      "4 月のデータです。\n",
      "5 月のデータです。\n",
      "6 月のデータです。\n",
      "7 月のデータです。\n",
      "8 月のデータです。\n",
      "9 月のデータです。\n",
      "10 月のデータです。\n",
      "11 月のデータです。\n",
      "12 月のデータです。\n"
     ]
    }
   ],
   "source": [
    "num = int(input(\"何月の処理を飛ばしますか？(1～12)\"))\n",
    "\n",
    "for i in range(12):\n",
    "    if (i+1) == num:\n",
    "        continue\n",
    "    print(i+1, \"月のデータです。\")"
   ]
  },
  {
   "cell_type": "markdown",
   "id": "58a8b172-395e-460b-ad21-72338df76f87",
   "metadata": {},
   "source": [
    "### while文とbreakの組み合わせ"
   ]
  },
  {
   "cell_type": "code",
   "execution_count": 1,
   "id": "65d075d5-49d2-4379-ab03-22453de6dae6",
   "metadata": {},
   "outputs": [
    {
     "name": "stdout",
     "output_type": "stream",
     "text": [
      "1 月のデータです。\n",
      "2 月のデータです。\n",
      "3 月のデータです。\n",
      "4 月のデータです。\n",
      "5 月のデータです。\n",
      "6 月のデータです。\n",
      "7 月のデータです。\n",
      "8 月のデータです。\n",
      "9 月のデータです。\n",
      "10 月のデータです。\n",
      "11 月のデータです。\n",
      "12 月のデータです。\n"
     ]
    }
   ],
   "source": [
    "i = 1\n",
    "while i <= 12:\n",
    "    print(i, \"月のデータです。\")\n",
    "    i = i + 1"
   ]
  },
  {
   "cell_type": "code",
   "execution_count": 29,
   "id": "f5b31b2c-4678-4e3c-b65d-f023feacca77",
   "metadata": {},
   "outputs": [
    {
     "name": "stdout",
     "output_type": "stream",
     "text": [
      "1 月のデータです。\n",
      "2 月のデータです。\n",
      "3 月のデータです。\n",
      "4 月のデータです。\n",
      "5 月のデータです。\n",
      "6 月のデータです。\n",
      "7 月のデータです。\n",
      "8 月のデータです。\n",
      "9 月のデータです。\n",
      "10 月のデータです。\n",
      "11 月のデータです。\n",
      "12 月のデータです。\n"
     ]
    }
   ],
   "source": [
    "i = 1\n",
    "while True:\n",
    "    print(i, \"月のデータです。\")\n",
    "    i = i + 1\n",
    "    if i > 12:\n",
    "        break"
   ]
  },
  {
   "cell_type": "markdown",
   "id": "4a8ea4b7-b375-43f7-8c53-0b251fce228c",
   "metadata": {},
   "source": [
    "### 補足 P72 うるう年の判定"
   ]
  },
  {
   "cell_type": "code",
   "execution_count": 35,
   "id": "a374525e-08fd-489e-b18c-bbb095428379",
   "metadata": {},
   "outputs": [
    {
     "name": "stdin",
     "output_type": "stream",
     "text": [
      "西暦の年を入力してください。:  2023\n"
     ]
    },
    {
     "name": "stdout",
     "output_type": "stream",
     "text": [
      "2023 年はうるう年ではありません。\n"
     ]
    }
   ],
   "source": [
    "year = int(input(\"西暦の年を入力してください。: \"))\n",
    " \n",
    "if (year % 4 == 0) and (year % 100 != 0) or (year % 400 == 0):\n",
    "    print(year,\"年はうるう年です。\")    \n",
    "else:\n",
    "    print(year, \"年はうるう年ではありません。\")"
   ]
  },
  {
   "cell_type": "code",
   "execution_count": null,
   "id": "b9f12bed-b943-4ab7-b176-3d21661a73e0",
   "metadata": {},
   "outputs": [],
   "source": []
  }
 ],
 "metadata": {
  "kernelspec": {
   "display_name": "Python 3 (ipykernel)",
   "language": "python",
   "name": "python3"
  },
  "language_info": {
   "codemirror_mode": {
    "name": "ipython",
    "version": 3
   },
   "file_extension": ".py",
   "mimetype": "text/x-python",
   "name": "python",
   "nbconvert_exporter": "python",
   "pygments_lexer": "ipython3",
   "version": "3.9.18"
  }
 },
 "nbformat": 4,
 "nbformat_minor": 5
}
