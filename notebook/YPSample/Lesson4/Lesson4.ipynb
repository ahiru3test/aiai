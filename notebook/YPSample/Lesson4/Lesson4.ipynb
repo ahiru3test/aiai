{
 "cells": [
  {
   "cell_type": "markdown",
   "metadata": {},
   "source": [
    "#### Lesson4"
   ]
  },
  {
   "cell_type": "code",
   "execution_count": 10,
   "metadata": {},
   "outputs": [
    {
     "name": "stdout",
     "output_type": "stream",
     "text": [
      "a>b\n"
     ]
    }
   ],
   "source": [
    "a=3\n",
    "b=2\n",
    "if a>b:\n",
    "  print (\"a>b\")\n",
    "else:\n",
    "  print (\"a<=b\")\n",
    "\n"
   ]
  },
  {
   "cell_type": "markdown",
   "metadata": {},
   "source": [
    "#### Sample1"
   ]
  },
  {
   "cell_type": "code",
   "execution_count": 14,
   "metadata": {},
   "outputs": [
    {
     "name": "stdout",
     "output_type": "stream",
     "text": [
      "売り上げは好調です。\n",
      "処理を終了します。\n"
     ]
    }
   ],
   "source": [
    "good_cnd=100\n",
    "sale=int(input(\"売り上げを入力してください。\"))\n",
    "if sale >= good_cnd :\n",
    "  print(\"売り上げは好調です。\")\n",
    "print(\"処理を終了します。\")\n"
   ]
  },
  {
   "cell_type": "markdown",
   "metadata": {},
   "source": [
    "#### Sample2"
   ]
  },
  {
   "cell_type": "code",
   "execution_count": 1,
   "metadata": {},
   "outputs": [
    {
     "name": "stdout",
     "output_type": "stream",
     "text": [
      "売上は好調です。\n",
      "処理を終了します。\n"
     ]
    }
   ],
   "source": [
    "sale = int(input(\"売上を入力してください。\"))\n",
    "if sale >=100:\n",
    "  print(\"売上は好調です。\")\n",
    "elif sale >= 50:\n",
    "  print(\"売上は普通です。\")\n",
    "else:\n",
    "  print(\"売上は低調です。\")\n",
    "\n",
    "print(\"処理を終了します。\")"
   ]
  }
 ],
 "metadata": {
  "kernelspec": {
   "display_name": "py39",
   "language": "python",
   "name": "python3"
  },
  "language_info": {
   "codemirror_mode": {
    "name": "ipython",
    "version": 3
   },
   "file_extension": ".py",
   "mimetype": "text/x-python",
   "name": "python",
   "nbconvert_exporter": "python",
   "pygments_lexer": "ipython3",
   "version": "3.9.18"
  }
 },
 "nbformat": 4,
 "nbformat_minor": 2
}
