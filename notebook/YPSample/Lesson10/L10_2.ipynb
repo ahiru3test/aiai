{
 "cells": [
  {
   "cell_type": "markdown",
   "metadata": {},
   "source": [
    "### Sample5"
   ]
  },
  {
   "cell_type": "code",
   "execution_count": 1,
   "metadata": {},
   "outputs": [
    {
     "name": "stdout",
     "output_type": "stream",
     "text": [
      "こんにちは\n",
      "さようなら\n",
      "処理を終了します。\n"
     ]
    }
   ],
   "source": [
    "try:\n",
    "  f=open(\"Sample.txt\",\"r\")\n",
    "\n",
    "except FileNotFoundError:\n",
    "  print(\"ファイルをオープンできませんでした。\")\n",
    "\n",
    "else:\n",
    "  lines = f.readlines()\n",
    "  for line in lines:\n",
    "    print(line,end=\"\")\n",
    "  f.close()\n",
    "\n",
    "finally:\n",
    "  print(\"処理を終了します。\")\n"
   ]
  },
  {
   "cell_type": "code",
   "execution_count": 5,
   "metadata": {},
   "outputs": [
    {
     "name": "stdout",
     "output_type": "stream",
     "text": [
      "整数を入力してください\n",
      "処理を終了します\n"
     ]
    }
   ],
   "source": [
    "try:\n",
    "    score = int(input(\"点数を入力してください: \"))\n",
    " \n",
    "except ValueError:\n",
    "    print(\"整数を入力してください\")\n",
    "    \n",
    "else:\n",
    "    if score >= 80:\n",
    "        print(\"合格です\")\n",
    " \n",
    "    else:\n",
    "        print(\"不合格です\")\n",
    "        \n",
    "finally:\n",
    "    print(\"処理を終了します\")"
   ]
  },
  {
   "cell_type": "code",
   "execution_count": 3,
   "metadata": {},
   "outputs": [
    {
     "name": "stdout",
     "output_type": "stream",
     "text": [
      "整数を入力してください。\n",
      "点数は1です\n"
     ]
    }
   ],
   "source": [
    "is_loop=True\n",
    "while (is_loop):\n",
    "  try:\n",
    "    score = int(input(\"点数を入力してください: \"))\n",
    "  except(ValueError):\n",
    "    print(\"整数を入力してください。\")\n",
    "  else:\n",
    "    print(f\"点数は{score}点です\")\n",
    "    is_loop = False\n"
   ]
  },
  {
   "cell_type": "code",
   "execution_count": 13,
   "metadata": {},
   "outputs": [
    {
     "name": "stdout",
     "output_type": "stream",
     "text": [
      "invalid literal for int() with base 10: 'aaa'\n",
      "invalid literal for int() with base 10: 'dhsajkh'\n",
      "invalid literal for int() with base 10: ''\n",
      "invalid literal for int() with base 10: 'aaa'\n",
      "invalid literal for int() with base 10: 'dhjfas'\n",
      "invalid literal for int() with base 10: 'dfas'\n",
      "invalid literal for int() with base 10: 'gasdfa'\n",
      "invalid literal for int() with base 10: ''\n",
      "invalid literal for int() with base 10: 'asdfw'\n",
      "invalid literal for int() with base 10: 'dasfs'\n",
      "invalid literal for int() with base 10: 'fdasf'\n",
      "invalid literal for int() with base 10: 'fadsfa'\n",
      "invalid literal for int() with base 10: 'safdas'\n",
      "invalid literal for int() with base 10: 'dfaasd'\n",
      "invalid literal for int() with base 10: 'dfasdfads'\n",
      "invalid literal for int() with base 10: 'ffasd'\n",
      "invalid literal for int() with base 10: 'fasdf'\n",
      "invalid literal for int() with base 10: 'as'\n",
      "点数は111点です\n"
     ]
    }
   ],
   "source": [
    "is_loop=True\n",
    "while (is_loop):\n",
    "  try:\n",
    "    score = int(input(\"点数を入力してください: \"))\n",
    "  # except ValueError: # ValueErrorという例外を捕捉する\n",
    "  #   print(\"整数を入力してください。\")\n",
    "  except Exception as e: # Exceptionという例外を捕捉する\n",
    "    print(str(e)) # 例外オブジェクトを文字列に変換して表示する\n",
    "  else:\n",
    "    print(f\"点数は{score}点です\")\n",
    "    is_loop = False\n"
   ]
  },
  {
   "cell_type": "code",
   "execution_count": 12,
   "metadata": {},
   "outputs": [
    {
     "name": "stdout",
     "output_type": "stream",
     "text": [
      "000 電話番号の入力が間違っています\n",
      " 電話番号の入力が間違っています\n",
      "08012345678 電話番号の入力が間違っています\n",
      " e-mail の入力が間違っています\n",
      "('080-1234-5678', 'aaa@aaa.com')\n"
     ]
    }
   ],
   "source": [
    "import re\n",
    " \n",
    "def phone_input():\n",
    "    pattern = \"^[0-9]{3}-[0-9]{4}-[0-9]{4}$\"\n",
    "    ptr = re.compile(pattern)\n",
    "    phone_number = input(\"電話番号を入力してください（例)090-1234-5678 : \" )\n",
    "    if ptr.search(phone_number) is None:\n",
    "        raise Exception( phone_number, \"電話番号の入力が間違っています\")\n",
    "    return phone_number\n",
    " \n",
    "def email_input():\n",
    "    pattern = \"^[0-9a-zA-Z_\\.-]+@[0-9a-zA-Z_\\.-]+\\.[a-zA-Z]+$\"\n",
    "    ptr = re.compile(pattern)\n",
    "    email = input(\"e-mailを入力してください（例) hello@world.com : \" )\n",
    "    if ptr.search(email) is  None:\n",
    "        raise Exception( email,  \"e-mail の入力が間違っています\")\n",
    "    return email\n",
    " \n",
    "def main():\n",
    "    phone = email = \"\" \n",
    "    while True:\n",
    "        try:\n",
    "            if phone == \"\":\n",
    "                phone = phone_input()\n",
    "            elif email == \"\":\n",
    "                email = email_input()\n",
    "            else:\n",
    "                break\n",
    "        except Exception as e:\n",
    "            err, msg = e.args\n",
    "            print( err, msg)\n",
    " \n",
    "    return phone, email\n",
    "        \n",
    "if __name__ == \"__main__\":\n",
    "    \n",
    "    print(main())"
   ]
  },
  {
   "cell_type": "code",
   "execution_count": null,
   "metadata": {},
   "outputs": [],
   "source": []
  }
 ],
 "metadata": {
  "kernelspec": {
   "display_name": "py39",
   "language": "python",
   "name": "python3"
  },
  "language_info": {
   "codemirror_mode": {
    "name": "ipython",
    "version": 3
   },
   "file_extension": ".py",
   "mimetype": "text/x-python",
   "name": "python",
   "nbconvert_exporter": "python",
   "pygments_lexer": "ipython3",
   "version": "3.9.18"
  }
 },
 "nbformat": 4,
 "nbformat_minor": 2
}
