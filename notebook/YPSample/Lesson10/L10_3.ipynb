{
 "cells": [
  {
   "cell_type": "markdown",
   "metadata": {},
   "source": [
    "### Lesson10"
   ]
  },
  {
   "cell_type": "markdown",
   "metadata": {},
   "source": [
    "### Sample6"
   ]
  },
  {
   "cell_type": "code",
   "execution_count": 7,
   "metadata": {},
   "outputs": [
    {
     "name": "stdout",
     "output_type": "stream",
     "text": [
      "L10.ipynb\n",
      "L10_2.ipynb\n",
      "L10_3.ipynb\n",
      "Lesson10.ipynb\n",
      "mydata\n",
      "Sample copy.txt\n",
      "Sample.csv\n",
      "Sample.json\n",
      "Sample.txt\n",
      "Sample2.csv\n",
      "Sample2.json\n",
      "Sample2.txt\n",
      "test.py\n",
      "test2.py\n",
      "L10.ipynb\n",
      "L10_2.ipynb\n",
      "L10_3.ipynb\n",
      "Lesson10.ipynb\n",
      "mydata\n",
      "Sample copy.txt\n",
      "Sample.csv\n",
      "Sample.json\n",
      "Sample.txt\n",
      "Sample2.csv\n",
      "Sample2.json\n",
      "Sample2.txt\n",
      "test.py\n",
      "test2.py\n"
     ]
    }
   ],
   "source": [
    "import os\n",
    "\n",
    "###1\n",
    "# curdir = os.listdir(\".\")\n",
    "\n",
    "# for name in curdir:\n",
    "#   print(name)\n",
    "\n",
    "###2\n",
    "# for name in os.listdir(\".\"):\n",
    "#     print(name)\n",
    "\n",
    "###3\n",
    "print(*os.listdir(\".\"), sep=\"\\n\")\n"
   ]
  },
  {
   "cell_type": "markdown",
   "metadata": {},
   "source": [
    "### Sample7"
   ]
  },
  {
   "cell_type": "code",
   "execution_count": 8,
   "metadata": {},
   "outputs": [
    {
     "name": "stdout",
     "output_type": "stream",
     "text": [
      "s:\\_work\\aiai\\notebook\\YPSample\\Lesson10\\L10.ipynb,ファイルです。\n",
      "s:\\_work\\aiai\\notebook\\YPSample\\Lesson10\\L10_2.ipynb,ファイルです。\n",
      "s:\\_work\\aiai\\notebook\\YPSample\\Lesson10\\L10_3.ipynb,ファイルです。\n",
      "s:\\_work\\aiai\\notebook\\YPSample\\Lesson10\\Lesson10.ipynb,ファイルです。\n",
      "s:\\_work\\aiai\\notebook\\YPSample\\Lesson10\\mydata,ディレクトリです。\n",
      "s:\\_work\\aiai\\notebook\\YPSample\\Lesson10\\Sample copy.txt,ファイルです。\n",
      "s:\\_work\\aiai\\notebook\\YPSample\\Lesson10\\Sample.csv,ファイルです。\n",
      "s:\\_work\\aiai\\notebook\\YPSample\\Lesson10\\Sample.json,ファイルです。\n",
      "s:\\_work\\aiai\\notebook\\YPSample\\Lesson10\\Sample.txt,ファイルです。\n",
      "s:\\_work\\aiai\\notebook\\YPSample\\Lesson10\\Sample2.csv,ファイルです。\n",
      "s:\\_work\\aiai\\notebook\\YPSample\\Lesson10\\Sample2.json,ファイルです。\n",
      "s:\\_work\\aiai\\notebook\\YPSample\\Lesson10\\Sample2.txt,ファイルです。\n",
      "s:\\_work\\aiai\\notebook\\YPSample\\Lesson10\\test.py,ファイルです。\n",
      "s:\\_work\\aiai\\notebook\\YPSample\\Lesson10\\test2.py,ファイルです。\n",
      "\n"
     ]
    }
   ],
   "source": [
    "import os\n",
    "import os.path\n",
    "curdir = os.listdir(\".\")\n",
    "\n",
    "for name in curdir:\n",
    "  print(os.path.abspath(name), end=\",\")\n",
    "\n",
    "  if (os.path.isfile(name)):\n",
    "    print(\"ファイルです。\")\n",
    "  else:\n",
    "    print(\"ディレクトリです。\")\n",
    "\n",
    "print()\n"
   ]
  },
  {
   "cell_type": "markdown",
   "metadata": {},
   "source": [
    "### Sample8"
   ]
  },
  {
   "cell_type": "code",
   "execution_count": 11,
   "metadata": {},
   "outputs": [
    {
     "name": "stdout",
     "output_type": "stream",
     "text": [
      "現在は 2024-02-01 13:21:30.525186 です。\n",
      "年： 2024\n",
      "月： 2\n",
      "日： 1\n",
      "1日後は2024-02-02 13:21:30.525186です。\n"
     ]
    },
    {
     "data": {
      "text/plain": [
       "4"
      ]
     },
     "execution_count": 11,
     "metadata": {},
     "output_type": "execute_result"
    }
   ],
   "source": [
    "import datetime\n",
    "\n",
    "dt=datetime.datetime.now()\n",
    "print(\"現在は\",dt, \"です。\")\n",
    "print(\"年：\", dt.year)\n",
    "print(\"月：\", dt.month)\n",
    "print(\"日：\", dt.day)\n",
    "\n",
    "dt= dt+datetime.timedelta(days=1)\n",
    "print(f\"1日後は{dt}です。\")\n",
    "\n",
    "dt.weekday()\n"
   ]
  },
  {
   "cell_type": "markdown",
   "metadata": {},
   "source": [
    "### Sample9"
   ]
  },
  {
   "cell_type": "code",
   "execution_count": 13,
   "metadata": {},
   "outputs": [
    {
     "name": "stdout",
     "output_type": "stream",
     "text": [
      "現在はThu Feb  1 13:26:33 2024です。\n",
      "1日後は2024-02-02です。\n"
     ]
    }
   ],
   "source": [
    "import datetime\n",
    "dt=datetime.datetime.now()\n",
    "str=dt.strftime(\"%c\")\n",
    "print(f\"現在は{str}です。\")\n",
    "\n",
    "dt=dt+datetime.timedelta(days=1)\n",
    "str=dt.strftime(\"%Y-%m-%d\")\n",
    "print(f\"1日後は{str}です。\")\n"
   ]
  },
  {
   "cell_type": "code",
   "execution_count": 22,
   "metadata": {},
   "outputs": [
    {
     "name": "stdout",
     "output_type": "stream",
     "text": [
      "14:02:08"
     ]
    }
   ],
   "source": [
    "import datetime\n",
    "import time\n",
    "\n",
    "count=0\n",
    "while(count<20):\n",
    "  dt=datetime.datetime.now()\n",
    "  # now=dt.strftime(\"%S\")\n",
    "  str_=dt.strftime(\"%H:%M:%S\")\n",
    "  print(f\"\\r{str_}\", end=\"\")\n",
    "  while((datetime.datetime.now()-dt).total_seconds()<1.0) :\n",
    "    pass\n",
    "  count+=1\n"
   ]
  },
  {
   "cell_type": "markdown",
   "metadata": {},
   "source": [
    "### 練習"
   ]
  },
  {
   "cell_type": "code",
   "execution_count": 32,
   "metadata": {},
   "outputs": [
    {
     "name": "stdout",
     "output_type": "stream",
     "text": [
      "15 5\n",
      "2\n",
      "名前              サイズ  \n",
      "15 5\n",
      "answer.csv      00000\n",
      "L10.ipynb       00000\n",
      "L10_2.ipynb     00000\n",
      "L10_3.ipynb     00000\n",
      "Lesson10.ipynb  00000\n",
      "mydata          00000\n",
      "Sample copy.txt 00000\n",
      "Sample.csv      00000\n",
      "Sample.json     00000\n",
      "Sample.txt      00000\n",
      "Sample2.csv     00000\n",
      "Sample2.json    00000\n",
      "Sample2.txt     00000\n",
      "test.py         00000\n",
      "test2.py        00000\n"
     ]
    }
   ],
   "source": [
    "import os\n",
    "\n",
    "for name in os.listdir(\".\"):\n",
    "    size1 = max(size1, len(name))\n",
    "    size2 = max(size2, len(str(os.path.getsize(name))))\n",
    "\n",
    "print(size1,size2)\n",
    "print(len(\"名前\"))\n",
    "print(\"名前\".ljust(size1),\"サイズ\".ljust(size2))\n",
    "# print(\"名前            サイズ\")\n",
    "\n",
    "print(size1,size2)\n",
    "for name in os.listdir(\".\"):\n",
    "    print(name.ljust(size1),\"00000\".ljust(size2))\n",
    "    # print(name.ljust(size1),str(os.path.getsize(name)).ljust(size2))\n",
    "\n",
    "# print(\"{:<15} {:<5}\",format(\"名前\",\"サイズ\"))\n",
    "#       print(\"{:<10} {:<10} {:<10}\".format(\"値1\", \"値2\", \"値3\"))\n",
    "# print(\"名前\".ljust(size1),\" \",\"サイズ\".rjust(size2))\n",
    "# print(\"{:<{}}{:<{}}\".format(\"名前\", size1,\"サイズ\", size2))\n",
    "\n",
    "# n=0\n",
    "# str(n)\n",
    "\n",
    "# print (size1)\n",
    "# for name in os.listdir(\".\"):\n",
    "#     name\n",
    "#     print(name,\"\\t\",os.path.getsize(name))\n",
    "# print(*os.listdir(\".\"), sep=\"\\n\")\n",
    "\n"
   ]
  },
  {
   "cell_type": "code",
   "execution_count": 2,
   "metadata": {},
   "outputs": [
    {
     "name": "stdout",
     "output_type": "stream",
     "text": [
      "Na\n",
      "<class 'str'>\n",
      "W\n",
      "<class 'str'>\n"
     ]
    }
   ],
   "source": [
    "import unicodedata\n",
    "\n",
    "print(unicodedata.east_asian_width('a'))  # 半角\n",
    "print(type(unicodedata.east_asian_width('a')))\n",
    "\n",
    "print(unicodedata.east_asian_width('あ'))  # 全角\n",
    "print(type(unicodedata.east_asian_width('あ')))\n",
    "\n"
   ]
  },
  {
   "cell_type": "code",
   "execution_count": 3,
   "metadata": {},
   "outputs": [
    {
     "name": "stdout",
     "output_type": "stream",
     "text": [
      "9\n",
      "10\n"
     ]
    }
   ],
   "source": [
    "import unicodedata\n",
    "\n",
    "def len_ea(text):\n",
    "  # 半角=1文字幅、全角=2文字幅としてカウントする\n",
    "  return sum(1 + (unicodedata.east_asian_width(c) in \"FWA\") for c in text)\n",
    "\n",
    "# 例\n",
    "print(len_ea(\"abcあいう\")) # 9\n",
    "print(len_ea(\"こんにちは\")) # 10\n"
   ]
  },
  {
   "cell_type": "code",
   "execution_count": 12,
   "metadata": {},
   "outputs": [
    {
     "name": "stdout",
     "output_type": "stream",
     "text": [
      "名前            サイズ\n",
      "--------------- ------\n",
      "15 6\n",
      "answer.csv         313\n",
      "L10.ipynb         6249\n",
      "L10_2.ipynb       8307\n",
      "L10_3.ipynb      13485\n",
      "Lesson10.ipynb   25345\n",
      "mydata               0\n",
      "Sample copy.txt     34\n",
      "Sample.csv          83\n",
      "Sample.json        163\n",
      "Sample.txt          24\n",
      "Sample2.csv         60\n",
      "Sample2.json       143\n",
      "Sample2.txt         34\n",
      "test.py            133\n",
      "test2.py           120\n"
     ]
    }
   ],
   "source": [
    "import os\n",
    "import unicodedata\n",
    "\n",
    "def len_ea(text):\n",
    "  # 半角=1文字幅、全角=2文字幅としてカウントする\n",
    "  return sum(1 + (unicodedata.east_asian_width(c) in \"FWA\") for c in text)\n",
    "\n",
    "def ljust_ea(text, width, fillchar=\" \"):\n",
    "  # 全角文字に対応した左寄せ\n",
    "  return text + fillchar * (width - len_ea(text))\n",
    "\n",
    "def rjust_ea(text, width, fillchar=\" \"):\n",
    "  # 全角文字に対応した右寄せ\n",
    "  return fillchar * (width - len_ea(text)) + text\n",
    "\n",
    "def center_ea(text, width, fillchar=\" \"):\n",
    "  # 全角文字に対応した中央揃え\n",
    "  left = (width - len_ea(text)) // 2\n",
    "  right = width - len_ea(text) - left\n",
    "  return fillchar * left + text + fillchar * right\n",
    "\n",
    "\n",
    "size1=len_ea(\"名前\")\n",
    "size2=len_ea(\"サイズ\")\n",
    "\n",
    "for name in os.listdir(\".\"):\n",
    "    size1 = max(size1, len_ea(name))\n",
    "    size2 = max(size2, len_ea(str(os.path.getsize(name))))\n",
    "\n",
    "# print(size1,size2)\n",
    "# print(len_u(\"名前\"))\n",
    "print(ljust_ea(\"名前\",size1),ljust_ea(\"サイズ\",size2))\n",
    "print(ljust_ea(\"-\",size1,\"-\"),ljust_ea(\"-\",size2,\"-\"))\n",
    "\n",
    "# print(\"名前            サイズ\")\n",
    "for name in os.listdir(\".\"):\n",
    "    print(name.ljust(size1),str(os.path.getsize(name)).rjust(size2))\n"
   ]
  },
  {
   "cell_type": "code",
   "execution_count": 13,
   "metadata": {},
   "outputs": [
    {
     "name": "stdout",
     "output_type": "stream",
     "text": [
      "abcあいう-\n",
      "-abcあいう\n",
      "abcあいう-\n"
     ]
    }
   ],
   "source": [
    "import unicodedata\n",
    "\n",
    "def len_u(text):\n",
    "  # 半角=1文字幅、全角=2文字幅としてカウントする\n",
    "  return sum(1 + (unicodedata.east_asian_width(c) in \"FWA\") for c in text)\n",
    "\n",
    "def format_u(text, width, align=\"^\", fillchar=\" \"):\n",
    "  # 全角文字に対応したformat関数\n",
    "  if align == \"<\": # 左寄せ\n",
    "    return ljust_u(text, width, fillchar)\n",
    "  elif align == \">\": # 右寄せ\n",
    "    return rjust_u(text, width, fillchar)\n",
    "  elif align == \"^\": # 中央寄せ\n",
    "    return center_u(text, width, fillchar)\n",
    "  else: # 無効な引数\n",
    "    return \"Invalid alignment\"\n",
    "\n",
    "def ljust_u(text, width, fillchar=\" \"):\n",
    "  # 全角文字に対応した左寄せ\n",
    "  return text + fillchar * (width - len_u(text))\n",
    "\n",
    "def rjust_u(text, width, fillchar=\" \"):\n",
    "  # 全角文字に対応した右寄せ\n",
    "  return fillchar * (width - len_u(text)) + text\n",
    "\n",
    "def center_u(text, width, fillchar=\" \"):\n",
    "  # 全角文字に対応した中央揃え\n",
    "  left = (width - len_u(text)) // 2\n",
    "  right = width - len_u(text) - left\n",
    "  return fillchar * left + text + fillchar * right\n",
    "\n",
    "# 例\n",
    "print(format_u(\"abcあいう\", 10, \"<\", \"-\")) # abcあいう---\n",
    "print(format_u(\"abcあいう\", 10, \">\", \"-\")) # ---abcあいう\n",
    "print(format_u(\"abcあいう\", 10, \"^\", \"-\")) # --abcあいう-\n"
   ]
  },
  {
   "cell_type": "markdown",
   "metadata": {},
   "source": [
    "### 課題"
   ]
  },
  {
   "cell_type": "code",
   "execution_count": 14,
   "metadata": {},
   "outputs": [],
   "source": [
    "# 空の辞書を用意\n",
    "results = { }\n",
    " \n",
    "# 辞書resultsに地域と数格納する\n",
    "# for region in answer:\n",
    "#     if region in results:\n",
    "#         results[region] += 1\n",
    "#     else:\n",
    "#         results[region] = 1\n",
    " \n",
    "# 結果をソートして表示する\n",
    "for region in sorted(results.items(), key=lambda c:c[1], reverse=True):\n",
    " \n",
    "    print(region[0],\":\",region[1])"
   ]
  },
  {
   "cell_type": "code",
   "execution_count": 13,
   "metadata": {},
   "outputs": [
    {
     "name": "stdout",
     "output_type": "stream",
     "text": [
      "北海道: 11\n",
      "沖縄: 10\n",
      "京都: 8\n",
      "博多: 7\n",
      "大阪: 4\n"
     ]
    }
   ],
   "source": [
    "import csv\n",
    " \n",
    "f = open(\"./answer.csv\", \"r\", encoding=\"utf-8\")\n",
    " \n",
    "reader = csv.reader(f)\n",
    " \n",
    "answer = []\n",
    " \n",
    "for csvlst in reader:\n",
    "    #answer += csvlst\n",
    "    #answer.extend(csvlst)\n",
    "    for ans in csvlst:\n",
    "        answer.append(ans)\n",
    " \n",
    "f.close()\n",
    " \n",
    " \n",
    "# 辞書resultsに地域と数格納する\n",
    "results = {}\n",
    "for region in answer:\n",
    "    if region in results:\n",
    "        results[region] += 1\n",
    "    else:\n",
    "        results[region] = 1\n",
    " \n",
    "# 結果をソートして表示する\n",
    "for region in sorted(results.items(), key=lambda c:c[1], reverse=True):\n",
    "    print(\"{}: {}\".format(region[0], region[1]))\n",
    " "
   ]
  },
  {
   "cell_type": "code",
   "execution_count": null,
   "metadata": {},
   "outputs": [],
   "source": []
  }
 ],
 "metadata": {
  "kernelspec": {
   "display_name": "py39",
   "language": "python",
   "name": "python3"
  },
  "language_info": {
   "codemirror_mode": {
    "name": "ipython",
    "version": 3
   },
   "file_extension": ".py",
   "mimetype": "text/x-python",
   "name": "python",
   "nbconvert_exporter": "python",
   "pygments_lexer": "ipython3",
   "version": "3.9.18"
  }
 },
 "nbformat": 4,
 "nbformat_minor": 2
}
