{
 "cells": [
  {
   "cell_type": "markdown",
   "metadata": {},
   "source": [
    "### Lesson10"
   ]
  },
  {
   "cell_type": "markdown",
   "metadata": {},
   "source": [
    "### Sample1"
   ]
  },
  {
   "cell_type": "code",
   "execution_count": 2,
   "metadata": {},
   "outputs": [],
   "source": [
    "f=open(\"Sample2.txt\",\"w\", encoding=\"utf-8\")\n",
    "\n",
    "f.write(\"こんにちは\\n\")\n",
    "f.write(\"さようなら\\n\")\n",
    "\n",
    "f.close()\n"
   ]
  },
  {
   "cell_type": "code",
   "execution_count": 4,
   "metadata": {},
   "outputs": [
    {
     "ename": "ValueError",
     "evalue": "I/O operation on closed file.",
     "output_type": "error",
     "traceback": [
      "\u001b[1;31m---------------------------------------------------------------------------\u001b[0m",
      "\u001b[1;31mValueError\u001b[0m                                Traceback (most recent call last)",
      "Cell \u001b[1;32mIn[4], line 5\u001b[0m\n\u001b[0;32m      2\u001b[0m   f\u001b[38;5;241m.\u001b[39mwrite(\u001b[38;5;124m\"\u001b[39m\u001b[38;5;124mこんにちは\u001b[39m\u001b[38;5;130;01m\\n\u001b[39;00m\u001b[38;5;124m\"\u001b[39m)\n\u001b[0;32m      3\u001b[0m   f\u001b[38;5;241m.\u001b[39mwrite(\u001b[38;5;124m\"\u001b[39m\u001b[38;5;124mさようなら\u001b[39m\u001b[38;5;130;01m\\n\u001b[39;00m\u001b[38;5;124m\"\u001b[39m)\n\u001b[1;32m----> 5\u001b[0m \u001b[43mf\u001b[49m\u001b[38;5;241;43m.\u001b[39;49m\u001b[43mwrite\u001b[49m\u001b[43m(\u001b[49m\u001b[38;5;124;43m\"\u001b[39;49m\u001b[38;5;124;43mさようなら2\u001b[39;49m\u001b[38;5;130;43;01m\\n\u001b[39;49;00m\u001b[38;5;124;43m\"\u001b[39;49m\u001b[43m)\u001b[49m\n\u001b[0;32m      7\u001b[0m f\u001b[38;5;241m.\u001b[39mclose()\n",
      "\u001b[1;31mValueError\u001b[0m: I/O operation on closed file."
     ]
    }
   ],
   "source": [
    "with open(\"Sample2.txt\",\"w\", encoding=\"utf-8\") as f:\n",
    "  f.write(\"こんにちは\\n\")\n",
    "  f.write(\"さようなら\\n\")\n",
    "\n",
    "f.close()\n"
   ]
  },
  {
   "cell_type": "markdown",
   "metadata": {},
   "source": [
    "### Sample2"
   ]
  },
  {
   "cell_type": "code",
   "execution_count": 7,
   "metadata": {},
   "outputs": [
    {
     "name": "stdout",
     "output_type": "stream",
     "text": [
      "こんにちは\n",
      "さようなら\n"
     ]
    }
   ],
   "source": [
    "with open(\"Sample2.txt\",\"r\") as f:\n",
    "  lines = f.readlines()\n",
    "for line in lines:\n",
    "  print(line, end=\"\")\n",
    "\n",
    "# f.close()\n"
   ]
  },
  {
   "cell_type": "markdown",
   "metadata": {},
   "source": [
    "### Sample3"
   ]
  },
  {
   "cell_type": "code",
   "execution_count": 10,
   "metadata": {},
   "outputs": [
    {
     "name": "stdout",
     "output_type": "stream",
     "text": [
      "東京,鉛筆,25,\n",
      "東京,消しゴム,30,\n",
      "名古屋,ノート,56,\n",
      "大阪,定規,100,\n",
      "福岡,ノート,73,\n",
      "\n"
     ]
    }
   ],
   "source": [
    "import csv\n",
    "\n",
    "f=open(\"Sample.csv\",\"r\",encoding=\"SHIFT_JIS\")\n",
    "\n",
    "rd=csv.reader(f)\n",
    "\n",
    "for row in rd:\n",
    "  for col in row:\n",
    "    print(col,end=\",\")\n",
    "  print()\n",
    "\n",
    "f.close()\n"
   ]
  },
  {
   "cell_type": "code",
   "execution_count": 13,
   "metadata": {},
   "outputs": [
    {
     "name": "stdout",
     "output_type": "stream",
     "text": [
      "東京,鉛筆,25,\n",
      "東京,消しゴム,30,\n",
      "名古屋,ノート,56,\n",
      "大阪,定規,100,\n",
      "福岡,ノート,73,\n",
      "\n"
     ]
    }
   ],
   "source": [
    "import csv\n",
    "\n",
    "with open(\"Sample.csv\",\"r\",encoding=\"SHIFT_JIS\") as f:\n",
    "\n",
    "  rd=csv.reader(f)\n",
    "\n",
    "  for row in rd:\n",
    "    for col in row:\n",
    "      print(col,end=\",\")\n",
    "    print()\n",
    "\n",
    "# f.close()\n"
   ]
  },
  {
   "cell_type": "code",
   "execution_count": 11,
   "metadata": {},
   "outputs": [
    {
     "name": "stdout",
     "output_type": "stream",
     "text": [
      "utf-8\n"
     ]
    }
   ],
   "source": [
    "import chardet\n",
    "\n",
    "with open(\"Sample.txt\", \"rb\") as f:\n",
    "    encoding = chardet.detect(f.read())[\"encoding\"]\n",
    "\n",
    "print(encoding)"
   ]
  },
  {
   "cell_type": "code",
   "execution_count": 18,
   "metadata": {},
   "outputs": [],
   "source": [
    "import csv\n",
    "\n",
    "# f=open(\"Sample2.csv\",\"w\",encoding=\"utf-8\")\n",
    "f=open(\"Sample2.csv\",\"w\",encoding=\"utf-8\")\n",
    "w=csv.writer(f)\n",
    "w.writerow([\"東京\",\"消しゴム\"])\n",
    "w.writerows([[\"東京\",\"定規\"],[\"名古屋\",\"ノート\"]])\n",
    "# w.close()\n",
    "f.close()\n"
   ]
  },
  {
   "cell_type": "markdown",
   "metadata": {},
   "source": [
    "### Sample4"
   ]
  },
  {
   "cell_type": "code",
   "execution_count": 29,
   "metadata": {},
   "outputs": [
    {
     "name": "stdout",
     "output_type": "stream",
     "text": [
      "{'関東': {'東京': 50, '横浜': 40}, '関西': {'大阪': 30, '京都': 20}}\n"
     ]
    }
   ],
   "source": [
    "import json\n",
    "\n",
    "with open(\"Sample2.json\", \"r\", encoding=\"SHIFT_JIS\") as f:\n",
    "  data=json.load(f)\n",
    "  print(data)\n",
    "# f.close()\n"
   ]
  },
  {
   "cell_type": "code",
   "execution_count": 23,
   "metadata": {},
   "outputs": [],
   "source": [
    "import json\n",
    "with open(\"Sample2.json\",\"w\",encoding=\"SHIFT_JIS\") as f:\n",
    "  json.dump(data,f,ensure_ascii=False, indent=4)\n",
    "\n",
    "# f.close()\n"
   ]
  },
  {
   "cell_type": "code",
   "execution_count": null,
   "metadata": {},
   "outputs": [],
   "source": []
  }
 ],
 "metadata": {
  "kernelspec": {
   "display_name": "py39",
   "language": "python",
   "name": "python3"
  },
  "language_info": {
   "codemirror_mode": {
    "name": "ipython",
    "version": 3
   },
   "file_extension": ".py",
   "mimetype": "text/x-python",
   "name": "python",
   "nbconvert_exporter": "python",
   "pygments_lexer": "ipython3",
   "version": "3.9.18"
  }
 },
 "nbformat": 4,
 "nbformat_minor": 2
}
