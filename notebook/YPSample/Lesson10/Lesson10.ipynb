{
 "cells": [
  {
   "cell_type": "markdown",
   "id": "671af1ff-43e0-4480-9abe-b90380ef3180",
   "metadata": {},
   "source": [
    "#### Sample1"
   ]
  },
  {
   "cell_type": "code",
   "execution_count": 2,
   "id": "bc97fd81-c6a5-42f2-82b8-2d548e4ab14a",
   "metadata": {},
   "outputs": [],
   "source": [
    "f = open(\"Sample.txt\", \"w\", encoding='utf_8')\n",
    "\n",
    "f.write(\"こんにちは\\n\")\n",
    "f.write(\"さようなら\\n\")\n",
    "\n",
    "f.close()"
   ]
  },
  {
   "cell_type": "markdown",
   "id": "4c379fa7-8396-4905-940c-301bc22d90c3",
   "metadata": {},
   "source": [
    "#### with文でオープンする"
   ]
  },
  {
   "cell_type": "code",
   "execution_count": 3,
   "id": "48ee5938-322e-4ab5-81af-60567e41ed76",
   "metadata": {},
   "outputs": [],
   "source": [
    "with open(\"Sample.txt\", \"w\", encoding='utf_8') as f:\n",
    "    f.write(\"こんにちは\\n\")\n",
    "    f.write(\"さようなら\\n\")"
   ]
  },
  {
   "cell_type": "markdown",
   "id": "43cb5720-4edb-4c4e-80a6-3493dfbe839b",
   "metadata": {},
   "source": [
    "#### テキストファイルを読み込む"
   ]
  },
  {
   "cell_type": "markdown",
   "id": "9303d21c-5298-4fe1-ad2b-6d13fd860e53",
   "metadata": {},
   "source": [
    "#### Sample2"
   ]
  },
  {
   "cell_type": "code",
   "execution_count": 4,
   "id": "fbe0903b-cdd7-4e50-a095-9412425101bd",
   "metadata": {},
   "outputs": [
    {
     "name": "stdout",
     "output_type": "stream",
     "text": [
      "こんにちは\n",
      "さようなら\n"
     ]
    }
   ],
   "source": [
    "f = open(\"Sample.txt\", \"r\", encoding='utf_8')\n",
    "\n",
    "lines = f.readlines()\n",
    "\n",
    "for line in lines:\n",
    "    print(line, end=\"\")\n",
    "\n",
    "f.close()"
   ]
  },
  {
   "cell_type": "markdown",
   "id": "f8bfe6ac-09b4-4f99-b127-48120d625bbf",
   "metadata": {},
   "source": [
    "#### with文"
   ]
  },
  {
   "cell_type": "code",
   "execution_count": 5,
   "id": "4e0ab43d-b7a5-4596-9374-d2ebef849116",
   "metadata": {},
   "outputs": [
    {
     "name": "stdout",
     "output_type": "stream",
     "text": [
      "こんにちは\n",
      "さようなら\n"
     ]
    }
   ],
   "source": [
    "with open(\"Sample.txt\", \"r\", encoding='utf-8') as f:\n",
    "    lines = f.readlines()\n",
    "\n",
    "for line in lines:\n",
    "    print(line, end=\"\")"
   ]
  },
  {
   "cell_type": "code",
   "execution_count": 6,
   "id": "f8493c22-873a-401b-84dc-cf0de6b7f5ac",
   "metadata": {},
   "outputs": [
    {
     "data": {
      "text/plain": [
       "['こんにちは\\n', 'さようなら\\n']"
      ]
     },
     "execution_count": 6,
     "metadata": {},
     "output_type": "execute_result"
    }
   ],
   "source": [
    "lines"
   ]
  },
  {
   "cell_type": "markdown",
   "id": "31e3931f-268a-42b2-adf0-f9675d9f5af2",
   "metadata": {},
   "source": [
    "### 10.2csvファイル"
   ]
  },
  {
   "cell_type": "markdown",
   "id": "e8821d41-05bc-4fbf-91ad-f5fda2b9052a",
   "metadata": {},
   "source": [
    "#### Sample3"
   ]
  },
  {
   "cell_type": "code",
   "execution_count": 7,
   "id": "e8f4311b-1490-4d05-90d3-9dd8f3ba3cdd",
   "metadata": {},
   "outputs": [
    {
     "name": "stdout",
     "output_type": "stream",
     "text": [
      "東京,鉛筆,25,\n",
      "東京,消しゴム,30,\n",
      "名古屋,ノート,56,\n",
      "大阪,定規,100,\n",
      "福岡,ノート,73,\n",
      "\n"
     ]
    }
   ],
   "source": [
    "import csv\n",
    "\n",
    "f = open(\"Sample.csv\", \"r\")\n",
    "\n",
    "rd = csv.reader(f)\n",
    "\n",
    "for row in rd:\n",
    "    for col in row:\n",
    "        print(col, end=\",\")\n",
    "    print()\n",
    "\n",
    "f.close()"
   ]
  },
  {
   "cell_type": "markdown",
   "id": "521adf5c-390c-4f91-99c3-f1f3f19fe894",
   "metadata": {},
   "source": [
    "#### Sample3 with文"
   ]
  },
  {
   "cell_type": "code",
   "execution_count": 8,
   "id": "a6457c4d-6594-41da-868b-e9ef84779d52",
   "metadata": {
    "scrolled": true
   },
   "outputs": [
    {
     "name": "stdout",
     "output_type": "stream",
     "text": [
      "東京,鉛筆,25,\n",
      "東京,消しゴム,30,\n",
      "名古屋,ノート,56,\n",
      "大阪,定規,100,\n",
      "福岡,ノート,73,\n",
      "\n"
     ]
    }
   ],
   "source": [
    "import csv\n",
    "\n",
    "with open(\"Sample.csv\", \"r\") as f:\n",
    "\n",
    "    rd = csv.reader(f)\n",
    "\n",
    "    for row in rd:\n",
    "        for col in row:\n",
    "            print(col, end=\",\")\n",
    "        print()"
   ]
  },
  {
   "cell_type": "markdown",
   "id": "bd79eae1-5a4f-48cf-9adb-5544c1aa8a73",
   "metadata": {},
   "source": [
    "#### csvファイルに書き込む"
   ]
  },
  {
   "cell_type": "code",
   "execution_count": 9,
   "id": "3fb5ce97-0f36-4c1f-aa5c-c3b49dc35def",
   "metadata": {},
   "outputs": [],
   "source": [
    "import csv\n",
    "f = open(\"Sample2utf.csv\", \"w\", encoding='utf-8')\n",
    "w = csv.writer(f)\n",
    "w.writerow([\"東京\",\"消しゴム\"])\n",
    "\n",
    "f.close()"
   ]
  },
  {
   "cell_type": "code",
   "execution_count": 10,
   "id": "0ac26791-7921-4448-a48f-e9b506806b62",
   "metadata": {},
   "outputs": [],
   "source": [
    "import csv\n",
    "f = open(\"Sample3utf.csv\", \"w\", encoding='utf-8')\n",
    "w = csv.writer(f)\n",
    "w.writerows([[\"東京\",\"定規\"],[\"名古屋\", \"ノート\"]])\n",
    "\n",
    "f.close()"
   ]
  },
  {
   "cell_type": "markdown",
   "id": "657a7e4e-3d3b-4379-b852-632cc5dbd151",
   "metadata": {},
   "source": [
    "### 10.3jsonファイル"
   ]
  },
  {
   "cell_type": "markdown",
   "id": "4372c269-788d-4804-a5bf-3a5881657e09",
   "metadata": {},
   "source": [
    "#### Sample4"
   ]
  },
  {
   "cell_type": "code",
   "execution_count": 11,
   "id": "21c50728-84be-4e02-a70f-7655796cd101",
   "metadata": {
    "scrolled": true
   },
   "outputs": [
    {
     "name": "stdout",
     "output_type": "stream",
     "text": [
      "{'関東': {'東京': 50, '横浜': 40}, '関西': {'大阪': 30, '京都': 20}}\n"
     ]
    }
   ],
   "source": [
    "import json\n",
    "\n",
    "f = open(\"Sample.json\", \"r\", encoding='utf-8')\n",
    "\n",
    "data = json.load(f)\n",
    "\n",
    "print(data)\n",
    "\n",
    "f.close()"
   ]
  },
  {
   "cell_type": "markdown",
   "id": "6bd29125-c077-4bb8-b5bc-eae6a9a20f57",
   "metadata": {},
   "source": [
    "#### 書き込みdump"
   ]
  },
  {
   "cell_type": "code",
   "execution_count": 12,
   "id": "81d46c0b-1abb-4703-a85c-18700eebda1a",
   "metadata": {},
   "outputs": [],
   "source": [
    "import json\n",
    "\n",
    "f = open(\"Sample.json\", \"w\", encoding='utf-8')\n",
    "\n",
    "json.dump(data, f, ensure_ascii=False, indent=4)\n",
    "\n",
    "f.close()"
   ]
  },
  {
   "cell_type": "code",
   "execution_count": 13,
   "id": "61b56943-8236-4a2c-afbb-31adc8fa30e0",
   "metadata": {},
   "outputs": [],
   "source": [
    "import json\n",
    "\n",
    "f = open(\"Sample2.json\", \"w\", encoding='utf-8')\n",
    "\n",
    "json.dump(data, f)\n",
    "\n",
    "f.close()"
   ]
  },
  {
   "cell_type": "code",
   "execution_count": 14,
   "id": "f56fe5ce-1d61-4675-a0ea-b5f6e72be733",
   "metadata": {},
   "outputs": [
    {
     "data": {
      "text/plain": [
       "50"
      ]
     },
     "execution_count": 14,
     "metadata": {},
     "output_type": "execute_result"
    }
   ],
   "source": [
    "data[\"関東\"][\"東京\"]"
   ]
  },
  {
   "cell_type": "markdown",
   "id": "ba4236c1-20e3-4619-80bf-407b17ff6228",
   "metadata": {},
   "source": [
    "### 10.4 例外処理"
   ]
  },
  {
   "cell_type": "markdown",
   "id": "a7479101-548f-4d07-aa46-e699621efdba",
   "metadata": {},
   "source": [
    "#### Sample5"
   ]
  },
  {
   "cell_type": "code",
   "execution_count": 15,
   "id": "2b8f3b03-0667-438e-81b7-176c98a6a88b",
   "metadata": {},
   "outputs": [
    {
     "name": "stdout",
     "output_type": "stream",
     "text": [
      "こんにちは\n",
      "さようなら\n",
      "処理を終了します。\n"
     ]
    }
   ],
   "source": [
    "try:\n",
    "    f = open(\"Sample.txt\", \"r\", encoding='utf-8')\n",
    "    # f = open(\"XXXX.txt\", \"r\", encoding='utf-8')\n",
    "except FileNotFoundError:\n",
    "    print(\"ファイルをオープンできませんでした。\")\n",
    "\n",
    "else:\n",
    "    lines = f.readlines()\n",
    "    for line in lines:\n",
    "        print(line, end=\"\")\n",
    "    f.close()\n",
    "\n",
    "finally:\n",
    "    print(\"処理を終了します。\")"
   ]
  },
  {
   "cell_type": "markdown",
   "id": "1c8793c7-22c1-4e68-b42b-a2924a87cec9",
   "metadata": {},
   "source": [
    "#### 例外処理を応用する"
   ]
  },
  {
   "cell_type": "code",
   "execution_count": 17,
   "id": "cd33410f-a009-40d0-ae5e-ca2e257e76e4",
   "metadata": {
    "scrolled": true
   },
   "outputs": [
    {
     "name": "stdout",
     "output_type": "stream",
     "text": [
      "こんにちは\n",
      "さようなら\n",
      "処理を終了します。\n"
     ]
    }
   ],
   "source": [
    "try:\n",
    "    f = open(\"Sample.txt\", \"r\", encoding='utf-8')\n",
    "    # f = open(\"XXXX.txt\", \"r\", encoding='utf-8')\n",
    "    # f = open(\"Sample.txt\", \"r\")\n",
    "    lines = f.readlines() # Unicodeエラーが発生する可能性があるステートメント\n",
    "except FileNotFoundError:\n",
    "    print(\"ファイルをオープンできませんでした。\")\n",
    "except UnicodeDecodeError:\n",
    "    print(\"Unicodeエラーです。\")\n",
    "\n",
    "else:\n",
    "    # lines = f.readlines()\n",
    "    for line in lines:\n",
    "        print(line, end=\"\")\n",
    "    f.close()\n",
    "\n",
    "finally:\n",
    "    print(\"処理を終了します。\")"
   ]
  },
  {
   "cell_type": "markdown",
   "id": "5c1fe60e-43a0-4fc7-bac5-063e719cf560",
   "metadata": {},
   "source": [
    "#### tupleで複数の例外を指定し e に例外情報を出力"
   ]
  },
  {
   "cell_type": "code",
   "execution_count": 18,
   "id": "31223b39-0db2-418c-87e7-0e90e0e348e1",
   "metadata": {},
   "outputs": [
    {
     "name": "stdout",
     "output_type": "stream",
     "text": [
      "[Errno 2] No such file or directory: 'XXXX.txt'\n",
      "処理を終了します。\n"
     ]
    }
   ],
   "source": [
    "try:\n",
    "    # f = open(\"Sample.txt\", \"r\", encoding='utf-8')\n",
    "    f = open(\"XXXX.txt\", \"r\", encoding='utf-8')\n",
    "    # f = open(\"Sample.txt\", \"r\")\n",
    "    lines = f.readlines() # Unicodeエラーが発生する可能性があるステートメント\n",
    "except (FileNotFoundError,UnicodeDecodeError) as e:\n",
    "    print(e)\n",
    "\n",
    "else:\n",
    "    # lines = f.readlines()\n",
    "    for line in lines:\n",
    "        print(line, end=\"\")\n",
    "    f.close()\n",
    "\n",
    "finally:\n",
    "    print(\"処理を終了します。\")"
   ]
  },
  {
   "cell_type": "markdown",
   "id": "00cf8146-f448-4f99-897e-7a880e0a72bf",
   "metadata": {},
   "source": [
    "#### Exceptionクラスで FileNotFoundError と UnicodeDecodeError　他に対応している"
   ]
  },
  {
   "cell_type": "code",
   "execution_count": 19,
   "id": "161f755c-2683-4a90-91cf-87dca65304c6",
   "metadata": {},
   "outputs": [
    {
     "name": "stdout",
     "output_type": "stream",
     "text": [
      "'cp932' codec can't decode byte 0x86 in position 25: illegal multibyte sequence\n",
      "処理を終了します。\n"
     ]
    }
   ],
   "source": [
    "try:\n",
    "    # f = open(\"Sample.txt\", \"r\", encoding='utf-8')\n",
    "    # f = open(\"XXXX.txt\", \"r\", encoding='utf-8')\n",
    "    f = open(\"Sample.txt\", \"r\")\n",
    "    lines = f.readlines() # Unicodeエラーが発生する可能性があるステートメント\n",
    "except Exception as e:\n",
    "    print(e)\n",
    "\n",
    "else:\n",
    "    # lines = f.readlines()\n",
    "    for line in lines:\n",
    "        print(line, end=\"\")\n",
    "    f.close()\n",
    "\n",
    "finally:\n",
    "    print(\"処理を終了します。\")"
   ]
  },
  {
   "cell_type": "markdown",
   "id": "433d9823-221c-4891-bf60-b8441e3c7e8b",
   "metadata": {},
   "source": [
    "#### try～exceptをネストする例"
   ]
  },
  {
   "cell_type": "code",
   "execution_count": 20,
   "id": "50693633-9dc0-4b9b-92f5-98bdeeaf0d49",
   "metadata": {},
   "outputs": [
    {
     "name": "stdout",
     "output_type": "stream",
     "text": [
      "こんにちは\n",
      "さようなら\n",
      "処理を終了します。\n"
     ]
    }
   ],
   "source": [
    "try:\n",
    "    f = open(\"Sample.txt\", \"r\", encoding='utf-8')\n",
    "    # f = open(\"XXXX.txt\", \"r\", encoding='utf-8')\n",
    "    # f = open(\"Sample.txt\", \"r\")\n",
    "except:\n",
    "    print(\"ファイルをオープンできませんでした。\")\n",
    "else:\n",
    "    try:        \n",
    "        lines = f.readlines() # Unicodeエラーが発生する可能性があるステートメント\n",
    "    except UnicodeDecodeError as e:\n",
    "        print(e)  \n",
    "    else:\n",
    "        # lines = f.readlines()\n",
    "        for line in lines:\n",
    "            print(line, end=\"\")\n",
    "        f.close()\n",
    "finally:\n",
    "    print(\"処理を終了します。\")"
   ]
  },
  {
   "cell_type": "markdown",
   "id": "7b016cb2-8ccd-436b-845e-21faf5dcd3ce",
   "metadata": {},
   "source": [
    "#### 補足P302 組み込み例外の種類を知る"
   ]
  },
  {
   "cell_type": "code",
   "execution_count": 21,
   "id": "962235fd-55ad-4ef9-b7a7-67156ba9c35b",
   "metadata": {},
   "outputs": [
    {
     "name": "stdin",
     "output_type": "stream",
     "text": [
      "点数を入力してください:  80\n"
     ]
    },
    {
     "name": "stdout",
     "output_type": "stream",
     "text": [
      "合格です\n"
     ]
    }
   ],
   "source": [
    "score = int(input(\"点数を入力してください: \"))\n",
    " \n",
    "if score >= 80:\n",
    "    print(\"合格です\")\n",
    "else:\n",
    "    print(\"不合格です\")"
   ]
  },
  {
   "cell_type": "code",
   "execution_count": 22,
   "id": "17cc7477-c951-4e35-8280-0e792e59fd32",
   "metadata": {},
   "outputs": [
    {
     "name": "stdin",
     "output_type": "stream",
     "text": [
      "点数を入力してください:  a\n"
     ]
    },
    {
     "name": "stdout",
     "output_type": "stream",
     "text": [
      "整数を入力してください\n",
      "処理を終了します\n"
     ]
    }
   ],
   "source": [
    "try: \n",
    "    score = int(input(\"点数を入力してください: \"))\n",
    "except ValueError:\n",
    "    print(\"整数を入力してください\")\n",
    "    \n",
    "else:\n",
    "    if score >= 80:\n",
    "        print(\"合格です\")\n",
    "    else:\n",
    "        print(\"不合格です\")     \n",
    "finally:\n",
    "    \n",
    "    print(\"処理を終了します\")"
   ]
  },
  {
   "cell_type": "markdown",
   "id": "0e3bb91b-6c10-4dcc-ab56-e22e050e589d",
   "metadata": {},
   "source": [
    "#### ZeroDivisionError"
   ]
  },
  {
   "cell_type": "code",
   "execution_count": 23,
   "id": "422ff899-0a5a-4acd-b531-f76ef9a127be",
   "metadata": {
    "jp-MarkdownHeadingCollapsed": true
   },
   "outputs": [
    {
     "name": "stdin",
     "output_type": "stream",
     "text": [
      "合計金額を入力してください:  100\n",
      "人数を入力してください:  0\n"
     ]
    },
    {
     "name": "stdout",
     "output_type": "stream",
     "text": [
      "0以外の整数を入力してください\n"
     ]
    }
   ],
   "source": [
    "try:\n",
    "    ave = 0\n",
    "    total = int(input(\"合計金額を入力してください: \"))\n",
    "    n = int(input(\"人数を入力してください: \"))\n",
    "    ave = total/n\n",
    "# except ValueError:\n",
    "except (ValueError,ZeroDivisionError): \n",
    "    print(\"0以外の整数を入力してください\")\n",
    " \n",
    "else:\n",
    "    \n",
    "    print(\"一人当たりの金額は\",ave,\"円です\")"
   ]
  },
  {
   "cell_type": "markdown",
   "id": "67463195-0b3f-4cda-b00e-46a349472a51",
   "metadata": {},
   "source": [
    "#### 補足P304 例外の引数"
   ]
  },
  {
   "cell_type": "code",
   "execution_count": 24,
   "id": "d08b3c12-3ce7-44fb-874d-82b31b277aea",
   "metadata": {
    "scrolled": true
   },
   "outputs": [
    {
     "name": "stdin",
     "output_type": "stream",
     "text": [
      "電話番号を入力してください（例)090-1234-5678 :  123\n"
     ]
    },
    {
     "name": "stdout",
     "output_type": "stream",
     "text": [
      "123 入力が間違っています\n"
     ]
    },
    {
     "name": "stdin",
     "output_type": "stream",
     "text": [
      "電話番号を入力してください（例)090-1234-5678 :  090-0987-1234\n"
     ]
    },
    {
     "name": "stdout",
     "output_type": "stream",
     "text": [
      "090-0987-1234\n"
     ]
    }
   ],
   "source": [
    "import re\n",
    "        \n",
    "def main():\n",
    "    pattern = \"^[0-9]{3}-[0-9]{4}-[0-9]{4}$\"\n",
    "    ptr = re.compile(pattern)\n",
    "    while True:\n",
    "        phone_number = input(\"電話番号を入力してください（例)090-1234-5678 : \" )\n",
    "        try:\n",
    "            if ptr.search(phone_number) is not None:\n",
    "                return phone_number\n",
    "            else:\n",
    "                raise Exception( phone_number, \"入力が間違っています\")\n",
    "                \n",
    "        except Exception as e:\n",
    "            err, msg = e.args\n",
    "            print( err, msg)\n",
    "            # continue\n",
    "        \n",
    "if __name__ == \"__main__\":\n",
    "    \n",
    "    print(main())"
   ]
  },
  {
   "cell_type": "markdown",
   "id": "7a5b9ba2-a66a-4432-a199-64bc5ca28898",
   "metadata": {},
   "source": [
    "#### 例外クラスの定義"
   ]
  },
  {
   "cell_type": "code",
   "execution_count": 25,
   "id": "9354106a-151d-481a-924c-8f001b0cf372",
   "metadata": {
    "scrolled": true
   },
   "outputs": [
    {
     "name": "stdin",
     "output_type": "stream",
     "text": [
      "電話番号を入力してください（例)090-1234-5678 :  090\n"
     ]
    },
    {
     "name": "stdout",
     "output_type": "stream",
     "text": [
      "090 入力が間違っています\n"
     ]
    },
    {
     "name": "stdin",
     "output_type": "stream",
     "text": [
      "電話番号を入力してください（例)090-1234-5678 :  090-5678-0987\n"
     ]
    },
    {
     "name": "stdout",
     "output_type": "stream",
     "text": [
      "090-5678-0987\n"
     ]
    }
   ],
   "source": [
    "import re\n",
    "\n",
    "class InputError(Exception):\n",
    "    pass\n",
    "        \n",
    "def main():\n",
    "    pattern = \"^[0-9]{3}-[0-9]{4}-[0-9]{4}$\"\n",
    "    ptr = re.compile(pattern)\n",
    "    while True:\n",
    "        phone_number = input(\"電話番号を入力してください（例)090-1234-5678 : \" )\n",
    "        try:\n",
    "            if ptr.search(phone_number) is not None:\n",
    "                return phone_number\n",
    "            else:\n",
    "                raise InputError( phone_number, \"入力が間違っています\")\n",
    "                \n",
    "        except InputError as e:\n",
    "            err, msg = e.args\n",
    "            print( err, msg)\n",
    "            # continue\n",
    "        \n",
    "if __name__ == \"__main__\":\n",
    "    \n",
    "    print(main())"
   ]
  },
  {
   "cell_type": "markdown",
   "id": "94d2ee2c-2d65-4e1d-bf9d-d1cdf56617a7",
   "metadata": {},
   "source": [
    "#### 例外処理の応用"
   ]
  },
  {
   "cell_type": "code",
   "execution_count": 26,
   "id": "e44e878c-9d11-4d95-a529-1eaf1de581c1",
   "metadata": {},
   "outputs": [
    {
     "name": "stdin",
     "output_type": "stream",
     "text": [
      "電話番号を入力してください（例)090-1234-5678 :  123\n"
     ]
    },
    {
     "name": "stdout",
     "output_type": "stream",
     "text": [
      "123 電話番号の入力が間違っています\n"
     ]
    },
    {
     "name": "stdin",
     "output_type": "stream",
     "text": [
      "電話番号を入力してください（例)090-1234-5678 :  090-0987-9876\n",
      "e-mailを入力してください（例) hello@world.com :  hello@kitty.jp\n"
     ]
    },
    {
     "name": "stdout",
     "output_type": "stream",
     "text": [
      "('090-0987-9876', 'hello@kitty.jp')\n"
     ]
    }
   ],
   "source": [
    "import re\n",
    " \n",
    "def phone_input():\n",
    "    pattern = \"^[0-9]{3}-[0-9]{4}-[0-9]{4}$\"\n",
    "    ptr = re.compile(pattern)\n",
    "    phone_number = input(\"電話番号を入力してください（例)090-1234-5678 : \" )\n",
    "    if ptr.search(phone_number) is None:\n",
    "        raise Exception( phone_number, \"電話番号の入力が間違っています\")\n",
    "    return phone_number\n",
    " \n",
    "def email_input():\n",
    "    pattern = \"^[0-9a-zA-Z_\\.-]+@[0-9a-zA-Z_\\.-]+\\.[a-zA-Z]+$\"\n",
    "    ptr = re.compile(pattern)\n",
    "    email = input(\"e-mailを入力してください（例) hello@world.com : \" )\n",
    "    if ptr.search(email) is  None:\n",
    "        raise Exception( email,  \"e-mail の入力が間違っています\")\n",
    "    return email\n",
    " \n",
    "def main():\n",
    "    phone = email = \"\" \n",
    "    while True:\n",
    "        try:\n",
    "            if phone == \"\":\n",
    "                phone = phone_input()\n",
    "            elif email == \"\":\n",
    "                email = email_input()\n",
    "            else:\n",
    "                break\n",
    "        except Exception as e:\n",
    "            err, msg = e.args\n",
    "            print( err, msg)\n",
    " \n",
    "    return phone, email\n",
    "        \n",
    "if __name__ == \"__main__\":\n",
    "    \n",
    "    print(main())"
   ]
  },
  {
   "cell_type": "markdown",
   "id": "5761b074-676b-4e89-971f-7348f524f321",
   "metadata": {},
   "source": [
    "####　例外クラス InputErrorを定義"
   ]
  },
  {
   "cell_type": "code",
   "execution_count": 27,
   "id": "a082f0ed-2439-4f80-b696-9b7552975f5b",
   "metadata": {},
   "outputs": [
    {
     "name": "stdin",
     "output_type": "stream",
     "text": [
      "電話番号を入力してください（例)090-1234-5678 :  123-0987-9876\n",
      "e-mailを入力してください（例) hello@world.com :  hello@world.com\n"
     ]
    },
    {
     "name": "stdout",
     "output_type": "stream",
     "text": [
      "('123-0987-9876', 'hello@world.com')\n"
     ]
    }
   ],
   "source": [
    "import re\n",
    "\n",
    "class InputError(Exception):\n",
    "    pass\n",
    " \n",
    "def phone_input():\n",
    "    pattern = \"^[0-9]{3}-[0-9]{4}-[0-9]{4}$\"\n",
    "    ptr = re.compile(pattern)\n",
    "    phone_number = input(\"電話番号を入力してください（例)090-1234-5678 : \" )\n",
    "    if ptr.search(phone_number) is None:\n",
    "        raise InputError( phone_number, \"電話番号の入力が間違っています\")\n",
    "    return phone_number\n",
    " \n",
    "def email_input():\n",
    "    pattern = \"^[0-9a-zA-Z_\\.-]+@[0-9a-zA-Z_\\.-]+\\.[a-zA-Z]+$\"\n",
    "    ptr = re.compile(pattern)\n",
    "    email = input(\"e-mailを入力してください（例) hello@world.com : \" )\n",
    "    if ptr.search(email) is  None:\n",
    "        raise InputError( email,  \"e-mail の入力が間違っています\")\n",
    "    return email\n",
    " \n",
    "def main():\n",
    "    phone = email = \"\" \n",
    "    while True:\n",
    "        try:\n",
    "            if phone == \"\":\n",
    "                phone = phone_input()\n",
    "            elif email == \"\":\n",
    "                email = email_input()\n",
    "            else:\n",
    "                break\n",
    "        except InputError as e:\n",
    "            err, msg = e.args\n",
    "            print( err, msg)\n",
    " \n",
    "    return phone, email\n",
    "        \n",
    "if __name__ == \"__main__\":\n",
    "    \n",
    "    print(main())"
   ]
  },
  {
   "cell_type": "code",
   "execution_count": null,
   "id": "18e3ffda-d099-4555-963e-c58b379f70ca",
   "metadata": {},
   "outputs": [],
   "source": []
  }
 ],
 "metadata": {
  "kernelspec": {
   "display_name": "Python 3 (ipykernel)",
   "language": "python",
   "name": "python3"
  },
  "language_info": {
   "codemirror_mode": {
    "name": "ipython",
    "version": 3
   },
   "file_extension": ".py",
   "mimetype": "text/x-python",
   "name": "python",
   "nbconvert_exporter": "python",
   "pygments_lexer": "ipython3",
   "version": "3.9.18"
  }
 },
 "nbformat": 4,
 "nbformat_minor": 5
}
