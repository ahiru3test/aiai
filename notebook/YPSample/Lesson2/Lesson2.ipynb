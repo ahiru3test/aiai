{
 "cells": [
  {
   "cell_type": "markdown",
   "id": "5165b721-d36c-4e4f-b52b-e3ccf25f79c8",
   "metadata": {},
   "source": [
    "#### Sample1"
   ]
  },
  {
   "cell_type": "code",
   "execution_count": null,
   "id": "c421bc77",
   "metadata": {},
   "outputs": [],
   "source": [
    "#画面に出力する\n",
    "print(\"ようこそPythonへ!\")\n",
    "print(\"Pythonをはじめましょう!\")"
   ]
  },
  {
   "cell_type": "code",
   "execution_count": 1,
   "id": "da10c98a-4a2e-4b67-8410-be11444711c2",
   "metadata": {},
   "outputs": [
    {
     "data": {
      "text/plain": [
       "'ようこそPythonへ!'"
      ]
     },
     "execution_count": 1,
     "metadata": {},
     "output_type": "execute_result"
    }
   ],
   "source": [
    "\"ようこそ\\\n",
    "Pythonへ!\"\n"
   ]
  },
  {
   "cell_type": "code",
   "execution_count": 4,
   "id": "4b4dbf8e",
   "metadata": {},
   "outputs": [
    {
     "data": {
      "text/plain": [
       "'ようこそPythonへ'"
      ]
     },
     "execution_count": 4,
     "metadata": {},
     "output_type": "execute_result"
    }
   ],
   "source": [
    "'Hello'\n",
    "\"こんにちは\"\n",
    "\"ようこそPythonへ\""
   ]
  },
  {
   "cell_type": "code",
   "execution_count": 5,
   "id": "bc2176f7",
   "metadata": {},
   "outputs": [
    {
     "data": {
      "text/plain": [
       "'ようこそ\\nPythonへ!'"
      ]
     },
     "execution_count": 5,
     "metadata": {},
     "output_type": "execute_result"
    }
   ],
   "source": [
    "\"\"\"ようこそ\n",
    "Pythonへ!\"\"\""
   ]
  },
  {
   "cell_type": "markdown",
   "id": "2bd21285",
   "metadata": {},
   "source": [
    "#### Sample2"
   ]
  },
  {
   "cell_type": "code",
   "execution_count": 6,
   "id": "f8c8edbb",
   "metadata": {},
   "outputs": [
    {
     "name": "stdout",
     "output_type": "stream",
     "text": [
      "1\n",
      "3.14\n"
     ]
    }
   ],
   "source": [
    "print(1)\n",
    "print(3.14)"
   ]
  },
  {
   "cell_type": "markdown",
   "id": "52f9fb4a",
   "metadata": {},
   "source": [
    "#### Sample3"
   ]
  },
  {
   "cell_type": "code",
   "execution_count": 8,
   "id": "d761b969",
   "metadata": {},
   "outputs": [
    {
     "name": "stdout",
     "output_type": "stream",
     "text": [
      "10進数の10は 10 です。\n",
      "2進数の10は 2 です。\n",
      "8進数の10は 8 です。\n",
      "16進数の10は 16 です。\n",
      "10進数のFは 15 です。\n"
     ]
    }
   ],
   "source": [
    "#### Sample3\n",
    "print(\"10進数の10は\",10,\"です。\")\n",
    "print(\"2進数の10は\",0b10,\"です。\")\n",
    "print(\"8進数の10は\",0o10,\"です。\")\n",
    "print(\"16進数の10は\",0x10,\"です。\")\n",
    "print(\"10進数のFは\",0xF,\"です。\")\n"
   ]
  },
  {
   "cell_type": "markdown",
   "id": "7c63b9bb",
   "metadata": {},
   "source": [
    "#### Sample4"
   ]
  },
  {
   "cell_type": "code",
   "execution_count": 11,
   "id": "3456f4a1",
   "metadata": {},
   "outputs": [
    {
     "name": "stdout",
     "output_type": "stream",
     "text": [
      "円記号を表示します。:\\\n",
      "アポストロフィを表示します。:'\n"
     ]
    }
   ],
   "source": [
    "print(\"円記号を表示します。:\\\\\")\n",
    "print(\"アポストロフィを表示します。:\\'\")\n"
   ]
  },
  {
   "cell_type": "code",
   "execution_count": 12,
   "id": "ce488a39",
   "metadata": {},
   "outputs": [
    {
     "name": "stdout",
     "output_type": "stream",
     "text": [
      "円記号を表示します。:\\\\\n",
      "アポストロフィを表示します。:\\'\n"
     ]
    }
   ],
   "source": [
    "print(r\"円記号を表示します。:\\\\\")\n",
    "print(r\"アポストロフィを表示します。:\\'\")\n"
   ]
  },
  {
   "cell_type": "code",
   "execution_count": 13,
   "id": "d8b3e049",
   "metadata": {},
   "outputs": [
    {
     "data": {
      "text/plain": [
       "'ようこそ\\nPythonへ!'"
      ]
     },
     "execution_count": 13,
     "metadata": {},
     "output_type": "execute_result"
    }
   ],
   "source": [
    "\"\"\"ようこそ\n",
    "Pythonへ!\"\"\""
   ]
  },
  {
   "cell_type": "code",
   "execution_count": 14,
   "id": "df571861",
   "metadata": {},
   "outputs": [
    {
     "data": {
      "text/plain": [
       "'ようこそ\\nPythonへ!'"
      ]
     },
     "execution_count": 14,
     "metadata": {},
     "output_type": "execute_result"
    }
   ],
   "source": [
    "\"ようこそ\\nPythonへ!\""
   ]
  },
  {
   "cell_type": "code",
   "execution_count": 15,
   "id": "2138b8c3",
   "metadata": {},
   "outputs": [
    {
     "name": "stdout",
     "output_type": "stream",
     "text": [
      "ようこそ\n",
      "Pythonへ!\n"
     ]
    }
   ],
   "source": [
    "print(\"ようこそ\\nPythonへ!\")"
   ]
  },
  {
   "cell_type": "code",
   "execution_count": 16,
   "id": "026e74b6",
   "metadata": {},
   "outputs": [
    {
     "name": "stdout",
     "output_type": "stream",
     "text": [
      "1\t2\t3\t4\n"
     ]
    }
   ],
   "source": [
    "print(\"1\\t2\\t3\\t4\")"
   ]
  },
  {
   "cell_type": "markdown",
   "id": "788afdd1",
   "metadata": {},
   "source": [
    "#### 練習"
   ]
  },
  {
   "cell_type": "code",
   "execution_count": 17,
   "id": "84973a90",
   "metadata": {},
   "outputs": [
    {
     "name": "stdout",
     "output_type": "stream",
     "text": [
      "1\n",
      "3.14\n"
     ]
    }
   ],
   "source": [
    "# 数値を出力する\n",
    "print(1)\n",
    "print(3.14)"
   ]
  },
  {
   "cell_type": "code",
   "execution_count": 23,
   "id": "769aa35b",
   "metadata": {},
   "outputs": [
    {
     "name": "stdout",
     "output_type": "stream",
     "text": [
      "123 \n",
      "\\ 100 もらった\n",
      "またあした\n"
     ]
    }
   ],
   "source": [
    "print(123,\"\\n\\\\\",100,\"もらった\\nまたあした\")"
   ]
  },
  {
   "cell_type": "code",
   "execution_count": 22,
   "id": "9979ff79",
   "metadata": {},
   "outputs": [
    {
     "name": "stdout",
     "output_type": "stream",
     "text": [
      "1\t2\t3\t4\t5\t6\n"
     ]
    }
   ],
   "source": [
    "print(\"1\\t2\\t3\\t4\\t5\\t6\")"
   ]
  }
 ],
 "metadata": {
  "kernelspec": {
   "display_name": "Python 3 (ipykernel)",
   "language": "python",
   "name": "python3"
  },
  "language_info": {
   "codemirror_mode": {
    "name": "ipython",
    "version": 3
   },
   "file_extension": ".py",
   "mimetype": "text/x-python",
   "name": "python",
   "nbconvert_exporter": "python",
   "pygments_lexer": "ipython3",
   "version": "3.9.18"
  }
 },
 "nbformat": 4,
 "nbformat_minor": 5
}
