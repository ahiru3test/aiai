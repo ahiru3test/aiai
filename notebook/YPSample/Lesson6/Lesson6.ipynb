{
 "cells": [
  {
   "cell_type": "markdown",
   "id": "b18b8872-b52b-47ea-b5c8-c9a03f07205e",
   "metadata": {},
   "source": [
    "### 6.1タプル"
   ]
  },
  {
   "cell_type": "code",
   "execution_count": 5,
   "id": "d8980a41-0dea-4253-ad36-41d45e40d611",
   "metadata": {},
   "outputs": [],
   "source": [
    "sale = (80, 60, 20 , 50, 75)"
   ]
  },
  {
   "cell_type": "code",
   "execution_count": 6,
   "id": "3172e1d2-23a5-48fb-b70b-30d666302b45",
   "metadata": {},
   "outputs": [
    {
     "data": {
      "text/plain": [
       "(80, 60, 20, 50, 75)"
      ]
     },
     "execution_count": 6,
     "metadata": {},
     "output_type": "execute_result"
    }
   ],
   "source": [
    "sale"
   ]
  },
  {
   "cell_type": "code",
   "execution_count": 7,
   "id": "0d956f28-7a9d-4673-b8aa-46c1055d073c",
   "metadata": {},
   "outputs": [
    {
     "name": "stdout",
     "output_type": "stream",
     "text": [
      "20,50,60,75,80,"
     ]
    }
   ],
   "source": [
    "for s in sorted(sale):\n",
    "    print(s, end=\",\")"
   ]
  },
  {
   "cell_type": "code",
   "execution_count": 11,
   "id": "172219dc-aed2-44a7-90b5-9de798e1e0f9",
   "metadata": {},
   "outputs": [
    {
     "data": {
      "text/plain": [
       "[2, 3, 6]"
      ]
     },
     "execution_count": 11,
     "metadata": {},
     "output_type": "execute_result"
    }
   ],
   "source": [
    "s = [3,6,2]\n",
    "s.sort()\n",
    "s"
   ]
  },
  {
   "cell_type": "code",
   "execution_count": 3,
   "id": "4269fcef-f262-40ea-81d3-6f6729ddd5fa",
   "metadata": {},
   "outputs": [],
   "source": [
    "sale = ()"
   ]
  },
  {
   "cell_type": "code",
   "execution_count": 15,
   "id": "598977d2-b517-4d47-90fa-7f00fdeafc8e",
   "metadata": {},
   "outputs": [],
   "source": [
    "sale = (10,)"
   ]
  },
  {
   "cell_type": "code",
   "execution_count": 16,
   "id": "383a05a9-7e1a-4f82-ac30-9a5b937aaa72",
   "metadata": {},
   "outputs": [
    {
     "data": {
      "text/plain": [
       "(10,)"
      ]
     },
     "execution_count": 16,
     "metadata": {},
     "output_type": "execute_result"
    }
   ],
   "source": [
    "sale"
   ]
  },
  {
   "cell_type": "code",
   "execution_count": 17,
   "id": "672b2624-5305-487c-98fb-a0435ae52dba",
   "metadata": {},
   "outputs": [
    {
     "data": {
      "text/plain": [
       "(1, 2, 3)"
      ]
     },
     "execution_count": 17,
     "metadata": {},
     "output_type": "execute_result"
    }
   ],
   "source": [
    "t = 1,2,3\n",
    "t"
   ]
  },
  {
   "cell_type": "code",
   "execution_count": 18,
   "id": "b9776cd9-637d-435e-ae6c-085ece4359c9",
   "metadata": {},
   "outputs": [],
   "source": [
    "t = tuple([80, 60, 20,70,80])"
   ]
  },
  {
   "cell_type": "code",
   "execution_count": 20,
   "id": "57366fac-4d98-4f69-b5d0-033c2dfc347f",
   "metadata": {},
   "outputs": [
    {
     "data": {
      "text/plain": [
       "tuple"
      ]
     },
     "execution_count": 20,
     "metadata": {},
     "output_type": "execute_result"
    }
   ],
   "source": [
    "type(t)"
   ]
  },
  {
   "cell_type": "code",
   "execution_count": 21,
   "id": "e9c479db-2829-4f71-b254-946d01764757",
   "metadata": {},
   "outputs": [
    {
     "data": {
      "text/plain": [
       "80"
      ]
     },
     "execution_count": 21,
     "metadata": {},
     "output_type": "execute_result"
    }
   ],
   "source": [
    "sale = (80, 60, 20 , 50, 75)\n",
    "sale[0]"
   ]
  },
  {
   "cell_type": "markdown",
   "id": "d5e77096-b130-4b5c-af39-611379b40aa9",
   "metadata": {},
   "source": [
    "### 6.2 ディクショナリの基本"
   ]
  },
  {
   "cell_type": "code",
   "execution_count": 22,
   "id": "555a13f4-949f-49da-a217-361142b6c6a4",
   "metadata": {},
   "outputs": [],
   "source": [
    "sale = {\"東京\":80, \"名古屋\":60, \"京都\":22,\"大阪\":50,\"福岡\":75}"
   ]
  },
  {
   "cell_type": "code",
   "execution_count": 25,
   "id": "0a7e3f21-28e7-453e-b8d9-989056771d4c",
   "metadata": {},
   "outputs": [
    {
     "data": {
      "text/plain": [
       "{}"
      ]
     },
     "execution_count": 25,
     "metadata": {},
     "output_type": "execute_result"
    }
   ],
   "source": [
    "sale"
   ]
  },
  {
   "cell_type": "code",
   "execution_count": 24,
   "id": "959f3b46-190a-4713-ba37-7b528e4b1ea8",
   "metadata": {},
   "outputs": [],
   "source": [
    "sale = {}"
   ]
  },
  {
   "cell_type": "code",
   "execution_count": 27,
   "id": "bf320d3b-dffb-46a9-b043-e538e4514855",
   "metadata": {},
   "outputs": [
    {
     "data": {
      "text/plain": [
       "{}"
      ]
     },
     "execution_count": 27,
     "metadata": {},
     "output_type": "execute_result"
    }
   ],
   "source": [
    "sale = dict()\n",
    "sale"
   ]
  },
  {
   "cell_type": "markdown",
   "id": "a908fa12-96b7-48c3-bee1-bb64fe65e9b8",
   "metadata": {},
   "source": [
    "#### Sample1"
   ]
  },
  {
   "cell_type": "code",
   "execution_count": 30,
   "id": "2eeda5f7-b544-4975-9cb7-a5f91bb36ebb",
   "metadata": {},
   "outputs": [
    {
     "name": "stdout",
     "output_type": "stream",
     "text": [
      "現在のデータは {'東京': 80, '名古屋': 60, '京都': 22, '大阪': 50, '福岡': 75} です。\n"
     ]
    },
    {
     "name": "stdin",
     "output_type": "stream",
     "text": [
      "どの支店のデータを表示しますか？ 名古屋\n"
     ]
    },
    {
     "name": "stdout",
     "output_type": "stream",
     "text": [
      "名古屋 データは 60 です。\n"
     ]
    }
   ],
   "source": [
    "sale = {\"東京\":80, \"名古屋\":60, \"京都\":22,\"大阪\":50,\"福岡\":75}\n",
    "print(\"現在のデータは\", sale, \"です。\")\n",
    "\n",
    "k = input(\"どの支店のデータを表示しますか？\")\n",
    "print(k, \"データは\", sale[k], \"です。\")"
   ]
  },
  {
   "cell_type": "markdown",
   "id": "57186258-7274-47f5-a359-187e4e687359",
   "metadata": {},
   "source": [
    "#### キーがみつからない場合は?"
   ]
  },
  {
   "cell_type": "code",
   "execution_count": 34,
   "id": "ee71b844-cad5-43d6-85f6-90b0b42b0862",
   "metadata": {},
   "outputs": [
    {
     "data": {
      "text/plain": [
       "True"
      ]
     },
     "execution_count": 34,
     "metadata": {},
     "output_type": "execute_result"
    }
   ],
   "source": [
    "\"東京\"  in sale"
   ]
  },
  {
   "cell_type": "markdown",
   "id": "3af22c3f-7f89-4316-9534-fa1089ec82ef",
   "metadata": {},
   "source": [
    "#### Sample2"
   ]
  },
  {
   "cell_type": "code",
   "execution_count": 36,
   "id": "70301d42-c1b3-4951-a6e6-b679c4dc14d9",
   "metadata": {},
   "outputs": [
    {
     "name": "stdout",
     "output_type": "stream",
     "text": [
      "現在のデータは {'東京': 80, '名古屋': 60, '京都': 22, '大阪': 50, '福岡': 75} です。\n"
     ]
    },
    {
     "name": "stdin",
     "output_type": "stream",
     "text": [
      "どの支店のデータを表示しますか？ 横浜\n"
     ]
    },
    {
     "name": "stdout",
     "output_type": "stream",
     "text": [
      "横浜 のデータはみつかりませんでした。\n"
     ]
    }
   ],
   "source": [
    "sale = {\"東京\":80, \"名古屋\":60, \"京都\":22,\"大阪\":50,\"福岡\":75}\n",
    "print(\"現在のデータは\", sale, \"です。\")\n",
    "\n",
    "k = input(\"どの支店のデータを表示しますか？\")\n",
    "if k in sale:\n",
    "    print(k, \"データは\", sale[k], \"です。\")\n",
    "else:\n",
    "    print(k, \"のデータはみつかりませんでした。\")"
   ]
  },
  {
   "cell_type": "code",
   "execution_count": 40,
   "id": "21cf9407-aac6-42ee-bb17-c99887e6ed21",
   "metadata": {},
   "outputs": [
    {
     "data": {
      "text/plain": [
       "True"
      ]
     },
     "execution_count": 40,
     "metadata": {},
     "output_type": "execute_result"
    }
   ],
   "source": [
    "data = [1,2,3,4]\n",
    "0 not in data"
   ]
  },
  {
   "cell_type": "code",
   "execution_count": 45,
   "id": "6e349bbd-1ead-4740-8557-f5c6d49d7032",
   "metadata": {},
   "outputs": [
    {
     "data": {
      "text/plain": [
       "True"
      ]
     },
     "execution_count": 45,
     "metadata": {},
     "output_type": "execute_result"
    }
   ],
   "source": [
    "data = [1,1,1,0]\n",
    "any(data)"
   ]
  },
  {
   "cell_type": "code",
   "execution_count": 46,
   "id": "b7ffa849-5380-4f0f-a53c-f39784a5af47",
   "metadata": {},
   "outputs": [
    {
     "data": {
      "text/plain": [
       "False"
      ]
     },
     "execution_count": 46,
     "metadata": {},
     "output_type": "execute_result"
    }
   ],
   "source": [
    "all(data)"
   ]
  },
  {
   "cell_type": "markdown",
   "id": "ee80aec8-234a-41e3-9134-885c4cf9163a",
   "metadata": {},
   "source": [
    "## 6.3 ディクショナリの操作"
   ]
  },
  {
   "cell_type": "code",
   "execution_count": 47,
   "id": "29ca9ed9-fd0e-40c4-bb8a-5d13671f57df",
   "metadata": {},
   "outputs": [
    {
     "data": {
      "text/plain": [
       "{'東京': 80, '名古屋': 60, '京都': 22, '大阪': 50, '福岡': 75}"
      ]
     },
     "execution_count": 47,
     "metadata": {},
     "output_type": "execute_result"
    }
   ],
   "source": [
    "sale"
   ]
  },
  {
   "cell_type": "code",
   "execution_count": 48,
   "id": "bf539d67-f3fe-4cfd-84f3-39337820ee6c",
   "metadata": {},
   "outputs": [
    {
     "data": {
      "text/plain": [
       "{'東京': 81, '名古屋': 60, '京都': 22, '大阪': 50, '福岡': 75}"
      ]
     },
     "execution_count": 48,
     "metadata": {},
     "output_type": "execute_result"
    }
   ],
   "source": [
    "sale[\"東京\"] = 81\n",
    "sale"
   ]
  },
  {
   "cell_type": "code",
   "execution_count": 49,
   "id": "19a55397-fde3-413e-a462-c0a5373e8982",
   "metadata": {},
   "outputs": [
    {
     "data": {
      "text/plain": [
       "{'東京': 81, '名古屋': 60, '京都': 22, '大阪': 50, '福岡': 75, '横浜': 99}"
      ]
     },
     "execution_count": 49,
     "metadata": {},
     "output_type": "execute_result"
    }
   ],
   "source": [
    "sale [\"横浜\"] = 99\n",
    "sale"
   ]
  },
  {
   "cell_type": "code",
   "execution_count": 50,
   "id": "ae98da7b-36a2-42e9-9df0-9244ff440027",
   "metadata": {},
   "outputs": [
    {
     "data": {
      "text/plain": [
       "{'東京': 81, '名古屋': 60, '京都': 22, '大阪': 50, '福岡': 75}"
      ]
     },
     "execution_count": 50,
     "metadata": {},
     "output_type": "execute_result"
    }
   ],
   "source": [
    "del sale [\"横浜\"]\n",
    "sale"
   ]
  },
  {
   "cell_type": "code",
   "execution_count": 56,
   "id": "7491ab47-b9c5-4cd4-a489-295495550016",
   "metadata": {},
   "outputs": [
    {
     "data": {
      "text/plain": [
       "{'東京': 81, '名古屋': 60, '京都': 21, '大阪': 50, '福岡': 75}"
      ]
     },
     "execution_count": 56,
     "metadata": {},
     "output_type": "execute_result"
    }
   ],
   "source": [
    "sale[\"京都\"] += 1\n",
    "sale"
   ]
  },
  {
   "cell_type": "markdown",
   "id": "19f72661-02c2-4210-afe9-44ec7f1e1057",
   "metadata": {},
   "source": [
    "#### Sample4"
   ]
  },
  {
   "cell_type": "code",
   "execution_count": 58,
   "id": "0061ce70-6714-4ace-af08-01c1d3cae7dd",
   "metadata": {},
   "outputs": [
    {
     "name": "stdout",
     "output_type": "stream",
     "text": [
      "現在のデータは {'東京': 80, '名古屋': 60, '京都': 22, '大阪': 50, '福岡': 75} です。\n"
     ]
    },
    {
     "name": "stdin",
     "output_type": "stream",
     "text": [
      "追加するキーを入力してください。 横浜\n",
      "追加するデータを入力してください。 36\n"
     ]
    },
    {
     "name": "stdout",
     "output_type": "stream",
     "text": [
      "横浜 のデータとして 36 を追加しました。\n",
      "現在のデータは {'東京': 80, '名古屋': 60, '京都': 22, '大阪': 50, '福岡': 75, '横浜': 36} です。\n"
     ]
    },
    {
     "name": "stdin",
     "output_type": "stream",
     "text": [
      "どのキーのデータを変更しますか？ 福岡\n"
     ]
    },
    {
     "name": "stdout",
     "output_type": "stream",
     "text": [
      "福岡 のデータは 75 です。\n"
     ]
    },
    {
     "name": "stdin",
     "output_type": "stream",
     "text": [
      "データを入力してください。 62\n"
     ]
    },
    {
     "name": "stdout",
     "output_type": "stream",
     "text": [
      "福岡 のデータは 62 に変更されました。\n",
      "現在のデータは {'東京': 80, '名古屋': 60, '京都': 22, '大阪': 50, '福岡': 62, '横浜': 36} です。\n"
     ]
    },
    {
     "name": "stdin",
     "output_type": "stream",
     "text": [
      "どのキーを削除しますか？ 京都\n"
     ]
    },
    {
     "name": "stdout",
     "output_type": "stream",
     "text": [
      "京都 のデータは 22 です。\n",
      "データを削除しました。\n",
      "現在のデータは {'東京': 80, '名古屋': 60, '大阪': 50, '福岡': 62, '横浜': 36} です。\n"
     ]
    }
   ],
   "source": [
    "sale = {\"東京\":80, \"名古屋\":60, \"京都\":22,\"大阪\":50,\"福岡\":75}\n",
    "print(\"現在のデータは\", sale, \"です。\")\n",
    "\n",
    "k = input(\"追加するキーを入力してください。\")\n",
    "if k in sale:\n",
    "    print(k, \"のデータはすでに存在しています。\")\n",
    "else:\n",
    "    d = int(input(\"追加するデータを入力してください。\"))\n",
    "    sale[k] = d\n",
    "    print(k,\"のデータとして\", sale[k], \"を追加しました。\")\n",
    "print(\"現在のデータは\", sale, \"です。\")\n",
    "\n",
    "k = input(\"どのキーのデータを変更しますか？\")\n",
    "if k in sale:\n",
    "    print(k, \"のデータは\", sale[k], \"です。\")\n",
    "    d = int(input(\"データを入力してください。\"))\n",
    "    sale[k] = d\n",
    "    print(k, \"のデータは\", sale[k], \"に変更されました。\")\n",
    "else:\n",
    "    print(k, \"のデータは見つかりませんでした。\")\n",
    "print(\"現在のデータは\", sale, \"です。\")\n",
    "\n",
    "k = input(\"どのキーを削除しますか？\")\n",
    "if k in sale:\n",
    "    print(k, \"のデータは\", sale[k], \"です。\")\n",
    "    del sale[k]\n",
    "    print(\"データを削除しました。\")\n",
    "else:\n",
    "    print(k, \"のデータはみつかりませんでした\")\n",
    "print(\"現在のデータは\", sale, \"です。\")\n",
    "\n"
   ]
  },
  {
   "cell_type": "markdown",
   "id": "8b5bc2a3-4978-4812-b74f-90d973c387c1",
   "metadata": {},
   "source": [
    "## 6.4ディクショナリの高度な操作"
   ]
  },
  {
   "cell_type": "code",
   "execution_count": 60,
   "id": "59fcc2b7-e1b1-40d8-8447-8219295e65c3",
   "metadata": {},
   "outputs": [
    {
     "data": {
      "text/plain": [
       "dict_keys(['東京', '名古屋', '大阪', '福岡', '横浜'])"
      ]
     },
     "execution_count": 60,
     "metadata": {},
     "output_type": "execute_result"
    }
   ],
   "source": [
    "sale.keys()"
   ]
  },
  {
   "cell_type": "code",
   "execution_count": 61,
   "id": "4a7966b7-2e90-4a22-bdb3-31926e8780f5",
   "metadata": {},
   "outputs": [
    {
     "data": {
      "text/plain": [
       "dict_values([80, 60, 50, 62, 36])"
      ]
     },
     "execution_count": 61,
     "metadata": {},
     "output_type": "execute_result"
    }
   ],
   "source": [
    "sale.values()"
   ]
  },
  {
   "cell_type": "code",
   "execution_count": 63,
   "id": "c76df159-1449-46ae-bc5e-d5ad05ea6954",
   "metadata": {},
   "outputs": [
    {
     "data": {
      "text/plain": [
       "dict_items([('東京', 80), ('名古屋', 60), ('大阪', 50), ('福岡', 62), ('横浜', 36)])"
      ]
     },
     "execution_count": 63,
     "metadata": {},
     "output_type": "execute_result"
    }
   ],
   "source": [
    "sale.items()"
   ]
  },
  {
   "cell_type": "markdown",
   "id": "de4aeb26-332f-4109-b719-be6e0fcb23c3",
   "metadata": {},
   "source": [
    "#### Sample4"
   ]
  },
  {
   "cell_type": "code",
   "execution_count": 65,
   "id": "30fd4694-65b4-49b8-bb5c-ffe20277522f",
   "metadata": {},
   "outputs": [
    {
     "name": "stdout",
     "output_type": "stream",
     "text": [
      "現在のデータは {'東京': 80, '名古屋': 60, '京都': 22, '大阪': 50, '福岡': 75} です。\n",
      "キーを表示します。\n",
      "東京\t名古屋\t京都\t大阪\t福岡\t\n",
      "値を表示します。\n",
      "80\t60\t22\t50\t75\t\n",
      "キーと値を表示します。\n",
      "('東京', 80)('名古屋', 60)('京都', 22)('大阪', 50)('福岡', 75)\n"
     ]
    }
   ],
   "source": [
    "sale = {\"東京\":80, \"名古屋\":60, \"京都\":22,\"大阪\":50,\"福岡\":75}\n",
    "print(\"現在のデータは\", sale, \"です。\")\n",
    "\n",
    "print(\"キーを表示します。\")\n",
    "for k in sale.keys():\n",
    "    print(k, end=\"\\t\")\n",
    "print()\n",
    "\n",
    "print(\"値を表示します。\")\n",
    "for v in sale.values():\n",
    "    print(v, end=\"\\t\")\n",
    "print()\n",
    "\n",
    "print(\"キーと値を表示します。\")\n",
    "for i in sale.items():\n",
    "    print(i, end=\"\")\n",
    "print()"
   ]
  },
  {
   "cell_type": "code",
   "execution_count": 68,
   "id": "a20ddecf-989c-4011-b1eb-90b683a233c5",
   "metadata": {},
   "outputs": [
    {
     "name": "stdout",
     "output_type": "stream",
     "text": [
      "80\t75\t60\t50\t22\t\n"
     ]
    }
   ],
   "source": [
    "for v in sorted(sale.values(), reverse=True):\n",
    "    print(v, end=\"\\t\")\n",
    "print()"
   ]
  },
  {
   "cell_type": "markdown",
   "id": "6e25c92d-1801-4586-b2f8-ad4ed85e552f",
   "metadata": {},
   "source": [
    "#### ディクショナリを更新する"
   ]
  },
  {
   "cell_type": "markdown",
   "id": "4385c7b0-8b2e-4be0-bf7b-c0e058056d12",
   "metadata": {},
   "source": [
    "#### Sample5"
   ]
  },
  {
   "cell_type": "code",
   "execution_count": 69,
   "id": "7c1838e4-0a25-42de-ab67-91c49a850321",
   "metadata": {},
   "outputs": [
    {
     "name": "stdout",
     "output_type": "stream",
     "text": [
      "1のデータは {'東京': 80, '名古屋': 60, '京都': 22} です。\n",
      "2のデータは {'京都': 100, '大阪': 50, '福岡': 75} です。\n",
      "1を2で更新します。\n",
      "1のデータは {'東京': 80, '名古屋': 60, '京都': 100, '大阪': 50, '福岡': 75} です。\n"
     ]
    }
   ],
   "source": [
    "sale1 = {\"東京\":80, \"名古屋\":60, \"京都\":22}\n",
    "sale2 = {\"京都\":100, \"大阪\":50, \"福岡\":75}\n",
    "\n",
    "print(\"1のデータは\", sale1, \"です。\")\n",
    "print(\"2のデータは\", sale2, \"です。\")\n",
    "\n",
    "print(\"1を2で更新します。\")\n",
    "\n",
    "sale1.update(sale2)\n",
    "\n",
    "print(\"1のデータは\", sale1, \"です。\")"
   ]
  },
  {
   "cell_type": "code",
   "execution_count": 72,
   "id": "aa32cbb9-96e3-4d67-8c17-1c82a2bcc726",
   "metadata": {},
   "outputs": [
    {
     "data": {
      "text/plain": [
       "5"
      ]
     },
     "execution_count": 72,
     "metadata": {},
     "output_type": "execute_result"
    }
   ],
   "source": [
    "len(sale)"
   ]
  },
  {
   "cell_type": "markdown",
   "id": "e13c1aef-c9ca-4ae1-988e-f7caa68f6f03",
   "metadata": {},
   "source": [
    "## 6.5セット"
   ]
  },
  {
   "cell_type": "code",
   "execution_count": 75,
   "id": "fbdea6cc-dbd3-4a15-a5c2-69d11cdf1918",
   "metadata": {},
   "outputs": [],
   "source": [
    "city = {\"東京\", \"名古屋\", \"京都\", \"大阪\", \"福岡\", \"東京\"}"
   ]
  },
  {
   "cell_type": "code",
   "execution_count": 78,
   "id": "6461fdc4-2ad9-4ccc-871e-2ca59f4e9ce5",
   "metadata": {},
   "outputs": [
    {
     "data": {
      "text/plain": [
       "{'京都', '名古屋', '大阪', '東京', '福岡'}"
      ]
     },
     "execution_count": 78,
     "metadata": {},
     "output_type": "execute_result"
    }
   ],
   "source": [
    "city"
   ]
  },
  {
   "cell_type": "code",
   "execution_count": 77,
   "id": "c771d911-adbc-4019-8d3f-60c6a0aba234",
   "metadata": {},
   "outputs": [],
   "source": [
    "city =set([\"東京\", \"名古屋\", \"京都\", \"大阪\", \"福岡\", \"東京\"])"
   ]
  },
  {
   "cell_type": "code",
   "execution_count": 80,
   "id": "5c63bbac-c0f3-4f43-8e85-74a5a7f38498",
   "metadata": {},
   "outputs": [
    {
     "data": {
      "text/plain": [
       "{'京都', '名古屋', '大阪', '東京', '横浜', '福岡'}"
      ]
     },
     "execution_count": 80,
     "metadata": {},
     "output_type": "execute_result"
    }
   ],
   "source": [
    "city.add(\"横浜\")\n",
    "city"
   ]
  },
  {
   "cell_type": "code",
   "execution_count": 81,
   "id": "98843385-c250-4c2c-b8c5-68dad06b360a",
   "metadata": {},
   "outputs": [],
   "source": [
    "city.remove(\"大阪\")"
   ]
  },
  {
   "cell_type": "code",
   "execution_count": 82,
   "id": "9d6d1025-4004-4762-a772-3491fa302a1d",
   "metadata": {},
   "outputs": [
    {
     "data": {
      "text/plain": [
       "{'京都', '名古屋', '東京', '横浜', '福岡'}"
      ]
     },
     "execution_count": 82,
     "metadata": {},
     "output_type": "execute_result"
    }
   ],
   "source": [
    "city"
   ]
  },
  {
   "cell_type": "markdown",
   "id": "272d537c-e710-42e9-8cd6-18d1be56e2ac",
   "metadata": {},
   "source": [
    "#### Sample6"
   ]
  },
  {
   "cell_type": "code",
   "execution_count": 86,
   "id": "0e0360dd-cd37-4294-8076-30d6c355b0a0",
   "metadata": {},
   "outputs": [
    {
     "name": "stdout",
     "output_type": "stream",
     "text": [
      "現在のデータは {'京都', '大阪', '福岡', '東京', '名古屋'} です。\n"
     ]
    },
    {
     "name": "stdin",
     "output_type": "stream",
     "text": [
      "追加するデータを入力してください。 東京\n"
     ]
    },
    {
     "name": "stdout",
     "output_type": "stream",
     "text": [
      "東京 はすでに損じしています。\n",
      "現在のデータは {'京都', '大阪', '福岡', '東京', '名古屋'} です。\n"
     ]
    },
    {
     "name": "stdin",
     "output_type": "stream",
     "text": [
      "削除するデータを入力してください。 横浜\n"
     ]
    },
    {
     "name": "stdout",
     "output_type": "stream",
     "text": [
      "横浜 はみつかりませんでした。\n",
      "現在のデータは {'京都', '大阪', '福岡', '東京', '名古屋'} です。\n"
     ]
    }
   ],
   "source": [
    "city = {\"東京\", \"名古屋\", \"京都\", \"大阪\", \"福岡\"}\n",
    "print(\"現在のデータは\", city, \"です。\")\n",
    "\n",
    "d = input(\"追加するデータを入力してください。\")\n",
    "if d in city:\n",
    "    print(d, \"はすでに損じしています。\")\n",
    "else:\n",
    "    city.add(d)\n",
    "    print(d, \"を追加しました。\")\n",
    "print(\"現在のデータは\", city, \"です。\")\n",
    "\n",
    "d = input(\"削除するデータを入力してください。\")\n",
    "if d in city:\n",
    "    city.remove(d)\n",
    "    print(d, \"削除しました。\")\n",
    "else:\n",
    "    print(d, \"はみつかりませんでした。\")\n",
    "print(\"現在のデータは\", city, \"です。\")"
   ]
  },
  {
   "cell_type": "markdown",
   "id": "1f51e7df-a3d0-4a1b-bbe5-8f23b1a963bd",
   "metadata": {},
   "source": [
    "### セットで集合演算を行う"
   ]
  },
  {
   "cell_type": "markdown",
   "id": "1b372adc-6e81-4c5c-8bed-d6c413a65884",
   "metadata": {},
   "source": [
    "#### Sample7"
   ]
  },
  {
   "cell_type": "code",
   "execution_count": 88,
   "id": "73e17269-8fbe-4246-911e-6c98197b6deb",
   "metadata": {},
   "outputs": [
    {
     "name": "stdout",
     "output_type": "stream",
     "text": [
      "Aの都市名は {'大阪', '京都', '東京', '名古屋'} です。\n",
      "Bの都市名は {'大阪', '京都', '福岡'} です。\n",
      "共通するデータは {'大阪', '京都'} です。\n",
      "Aのみのデータは {'東京', '名古屋'} です。\n",
      "Bのみのデータは {'福岡'} です。\n",
      "すべてのデータは {'福岡', '大阪', '京都', '東京', '名古屋'} です。\n"
     ]
    }
   ],
   "source": [
    "cityA = {\"東京\", \"名古屋\", \"京都\", \"大阪\"}\n",
    "cityB = {\"京都\", \"大阪\", \"福岡\"}\n",
    "\n",
    "print(\"Aの都市名は\", cityA, \"です。\")\n",
    "print(\"Bの都市名は\", cityB, \"です。\")\n",
    "\n",
    "print(\"共通するデータは\", cityA & cityB, \"です。\")\n",
    "print(\"Aのみのデータは\", cityA - cityB, \"です。\")\n",
    "print(\"Bのみのデータは\", cityB - cityA, \"です。\")\n",
    "print(\"すべてのデータは\", cityA | cityB, \"です。\")"
   ]
  },
  {
   "cell_type": "markdown",
   "id": "afbb445c-38a6-4a63-b792-88192ff21063",
   "metadata": {},
   "source": [
    "#### Sample7 symmetric_differenceを追加"
   ]
  },
  {
   "cell_type": "code",
   "execution_count": 90,
   "id": "6bda65ae-0d32-4be0-99c1-2b43761c8f6a",
   "metadata": {},
   "outputs": [
    {
     "name": "stdout",
     "output_type": "stream",
     "text": [
      "Aの都市名は {'大阪', '京都', '東京', '名古屋'} です。\n",
      "Bの都市名は {'大阪', '京都', '福岡'} です。\n",
      "共通するデータは {'大阪', '京都'} です。\n",
      "Aのみのデータは {'東京', '名古屋'} です。\n",
      "Bのみのデータは {'福岡'} です。\n",
      "すべてのデータは {'福岡', '大阪', '京都', '東京', '名古屋'} です。\n",
      "どちらか一方の集合のみにあるデータ {'福岡', '東京', '名古屋'} です。\n"
     ]
    }
   ],
   "source": [
    "cityA = {\"東京\", \"名古屋\", \"京都\", \"大阪\"}\n",
    "cityB = {\"京都\", \"大阪\", \"福岡\"}\n",
    "\n",
    "print(\"Aの都市名は\", cityA, \"です。\")\n",
    "print(\"Bの都市名は\", cityB, \"です。\")\n",
    "\n",
    "print(\"共通するデータは\", cityA & cityB, \"です。\")\n",
    "print(\"Aのみのデータは\", cityA - cityB, \"です。\")\n",
    "print(\"Bのみのデータは\", cityB - cityA, \"です。\")\n",
    "print(\"すべてのデータは\", cityA | cityB, \"です。\")\n",
    "print(\"どちらか一方の集合のみにあるデータ\", cityA ^ cityB, \"です。\")"
   ]
  },
  {
   "cell_type": "code",
   "execution_count": null,
   "id": "7aecfb7e-f429-489e-b54d-a45f1b38090d",
   "metadata": {},
   "outputs": [],
   "source": []
  },
  {
   "cell_type": "code",
   "execution_count": 94,
   "id": "2466b504-8287-488f-9b88-fd74f68dc101",
   "metadata": {},
   "outputs": [
    {
     "name": "stdout",
     "output_type": "stream",
     "text": [
      "Aの都市名は {'大阪', '京都', '東京', '名古屋'} です。\n",
      "Bの都市名は {'大阪', '京都', '福岡'} です。\n",
      "共通するデータは {'大阪', '京都'} です。\n",
      "Aのみのデータは {'東京', '名古屋'} です。\n",
      "Bのみのデータは {'福岡'} です。\n",
      "すべてのデータは {'福岡', '大阪', '京都', '東京', '名古屋'} です。\n",
      "どちらか一方の集合のみにあるデータ {'福岡', '東京', '名古屋'} です。\n"
     ]
    }
   ],
   "source": [
    "cityA = {\"東京\", \"名古屋\", \"京都\", \"大阪\"}\n",
    "cityB = {\"京都\", \"大阪\", \"福岡\"}\n",
    "\n",
    "print(\"Aの都市名は\", cityA, \"です。\")\n",
    "print(\"Bの都市名は\", cityB, \"です。\")\n",
    "\n",
    "print(\"共通するデータは\", cityA.intersection(cityB), \"です。\")\n",
    "print(\"Aのみのデータは\", cityA.difference(cityB), \"です。\")\n",
    "print(\"Bのみのデータは\", cityB.difference(cityA), \"です。\")\n",
    "print(\"すべてのデータは\", cityA.union(cityB), \"です。\")\n",
    "print(\"どちらか一方の集合のみにあるデータ\", cityA.symmetric_difference(cityB), \"です。\")"
   ]
  },
  {
   "cell_type": "code",
   "execution_count": 99,
   "id": "8d56a30a-5cdf-4abb-97c6-d813544a630a",
   "metadata": {},
   "outputs": [
    {
     "name": "stdout",
     "output_type": "stream",
     "text": [
      "('大阪', '大阪')\n",
      "('京都', '京都')\n",
      "('東京', '福岡')\n"
     ]
    }
   ],
   "source": [
    "for s in zip(cityA, cityB):\n",
    "    print(s)"
   ]
  },
  {
   "cell_type": "code",
   "execution_count": 97,
   "id": "758c6ce0-1488-4d0e-90c5-4abce5a37a7e",
   "metadata": {},
   "outputs": [
    {
     "data": {
      "text/plain": [
       "{'京都', '名古屋', '大阪', '東京'}"
      ]
     },
     "execution_count": 97,
     "metadata": {},
     "output_type": "execute_result"
    }
   ],
   "source": [
    "cityA"
   ]
  },
  {
   "cell_type": "markdown",
   "id": "2c51d780-0160-4aab-a580-e58eab8980d5",
   "metadata": {},
   "source": [
    "## 補足128 辞書セットの内包表記"
   ]
  },
  {
   "cell_type": "markdown",
   "id": "a80aba88-6971-4707-8443-30e0ed3f69c9",
   "metadata": {},
   "source": [
    "#### 辞書の内包表記"
   ]
  },
  {
   "cell_type": "code",
   "execution_count": 100,
   "id": "e5a115f6-0038-424a-b510-d76a12dd3c47",
   "metadata": {},
   "outputs": [
    {
     "name": "stdout",
     "output_type": "stream",
     "text": [
      "{'red': 1, 'green': 1, 'blue': 1}\n"
     ]
    }
   ],
   "source": [
    "colors = [\"red\",\"green\",\"blue\"]\n",
    " \n",
    "rgb = {color:1 for color in colors}\n",
    " \n",
    "print(rgb)"
   ]
  },
  {
   "cell_type": "code",
   "execution_count": 109,
   "id": "9d3fdee7-3b3f-4f72-bd72-316e18dd8dc0",
   "metadata": {},
   "outputs": [
    {
     "name": "stdout",
     "output_type": "stream",
     "text": [
      "{'red': 0, 'green': 1, 'blue': 2}\n"
     ]
    }
   ],
   "source": [
    "colors = [\"red\",\"green\",\"blue\"]\n",
    " \n",
    "rgb = {color:n for n, color in enumerate(colors)}\n",
    " \n",
    "print(rgb)"
   ]
  },
  {
   "cell_type": "code",
   "execution_count": 108,
   "id": "3e44217b-019c-4d23-ad18-e42e8f145dad",
   "metadata": {},
   "outputs": [
    {
     "name": "stdout",
     "output_type": "stream",
     "text": [
      "{'red': 1, 'green': 2, 'blue': 3}\n"
     ]
    }
   ],
   "source": [
    "colors = [\"red\",\"green\",\"blue\"]\n",
    "num = [1,2,3] \n",
    "rgb = {color:n for color, n in zip(colors,num)}\n",
    " \n",
    "print(rgb)"
   ]
  },
  {
   "cell_type": "code",
   "execution_count": 101,
   "id": "0e2872b5-5923-414e-b352-be418172834c",
   "metadata": {},
   "outputs": [
    {
     "name": "stdout",
     "output_type": "stream",
     "text": [
      "{'Spring': '春', 'Summer': '夏', 'Autumn': '秋', 'Winter': '冬'}\n"
     ]
    }
   ],
   "source": [
    "e_seasons = [\"Spring\", \"Summer\", \"Autumn\", \"Winter\"]\n",
    " \n",
    "j_seasons = [\"春\", \"夏\", \"秋\", \"冬\"]\n",
    " \n",
    "seasons = {e:j for (e, j) in zip(e_seasons, j_seasons)}\n",
    " \n",
    "print(seasons)"
   ]
  },
  {
   "cell_type": "code",
   "execution_count": 103,
   "id": "496572d0-f6b5-4f15-ab58-6153cedf8583",
   "metadata": {},
   "outputs": [
    {
     "data": {
      "text/plain": [
       "'春'"
      ]
     },
     "execution_count": 103,
     "metadata": {},
     "output_type": "execute_result"
    }
   ],
   "source": [
    "seasons[\"Spring\"]"
   ]
  },
  {
   "cell_type": "markdown",
   "id": "1b8c805f-d18c-440f-a975-59e4f1c9a518",
   "metadata": {},
   "source": [
    "#### setの内包表記"
   ]
  },
  {
   "cell_type": "code",
   "execution_count": 104,
   "id": "95833fc5-0071-4fe2-bd5b-29d481eccd0a",
   "metadata": {},
   "outputs": [
    {
     "name": "stdout",
     "output_type": "stream",
     "text": [
      "{200, 300, 400}\n"
     ]
    }
   ],
   "source": [
    "lst = [100, 200, 100, 200, 300, 400, 90, 100, 50]\n",
    " \n",
    "num = {num for num in lst if num > 100}\n",
    " \n",
    "print(num)"
   ]
  },
  {
   "cell_type": "markdown",
   "id": "91e4e27d-83b3-43b2-8a4c-71d16d7345a9",
   "metadata": {},
   "source": [
    "#### 練習"
   ]
  },
  {
   "cell_type": "code",
   "execution_count": 112,
   "id": "4afd06a3-6a8c-4697-b9f8-746d9ddaeb9d",
   "metadata": {},
   "outputs": [
    {
     "data": {
      "text/plain": [
       "dict"
      ]
     },
     "execution_count": 112,
     "metadata": {},
     "output_type": "execute_result"
    }
   ],
   "source": [
    "data ={\"みかん\":30}\n",
    "type(data)"
   ]
  },
  {
   "cell_type": "code",
   "execution_count": 113,
   "id": "9fddd3f1-29c8-4bda-94cc-bdb2af9a389a",
   "metadata": {},
   "outputs": [
    {
     "data": {
      "text/plain": [
       "tuple"
      ]
     },
     "execution_count": 113,
     "metadata": {},
     "output_type": "execute_result"
    }
   ],
   "source": [
    "data = (\"東京\", \"大阪\", \"名古屋\")\n",
    "type(data)"
   ]
  },
  {
   "cell_type": "markdown",
   "id": "55238a6a-b667-483e-8273-577e7bd0588c",
   "metadata": {},
   "source": [
    "#### 練習2"
   ]
  },
  {
   "cell_type": "code",
   "execution_count": 114,
   "id": "7cbd92d9-83b4-4321-a612-948081be98c5",
   "metadata": {},
   "outputs": [
    {
     "ename": "KeyError",
     "evalue": "'key3'",
     "output_type": "error",
     "traceback": [
      "\u001b[1;31m---------------------------------------------------------------------------\u001b[0m",
      "\u001b[1;31mKeyError\u001b[0m                                  Traceback (most recent call last)",
      "Cell \u001b[1;32mIn[114], line 2\u001b[0m\n\u001b[0;32m      1\u001b[0m data \u001b[38;5;241m=\u001b[39m {\u001b[38;5;124m\"\u001b[39m\u001b[38;5;124mkey1\u001b[39m\u001b[38;5;124m\"\u001b[39m:\u001b[38;5;241m30\u001b[39m, \u001b[38;5;124m\"\u001b[39m\u001b[38;5;124mkey2\u001b[39m\u001b[38;5;124m\"\u001b[39m:\u001b[38;5;241m40\u001b[39m}\n\u001b[1;32m----> 2\u001b[0m \u001b[38;5;28mprint\u001b[39m(\u001b[43mdata\u001b[49m\u001b[43m[\u001b[49m\u001b[38;5;124;43m\"\u001b[39;49m\u001b[38;5;124;43mkey3\u001b[39;49m\u001b[38;5;124;43m\"\u001b[39;49m\u001b[43m]\u001b[49m)\n",
      "\u001b[1;31mKeyError\u001b[0m: 'key3'"
     ]
    }
   ],
   "source": [
    "data = {\"key1\":30, \"key2\":40}\n",
    "print(data[\"key3\"])"
   ]
  },
  {
   "cell_type": "code",
   "execution_count": 116,
   "id": "a7cf69f5-4e9e-4d6c-aa90-2ce13b01b9ed",
   "metadata": {},
   "outputs": [
    {
     "ename": "AttributeError",
     "evalue": "'tuple' object has no attribute 'add'",
     "output_type": "error",
     "traceback": [
      "\u001b[1;31m---------------------------------------------------------------------------\u001b[0m",
      "\u001b[1;31mAttributeError\u001b[0m                            Traceback (most recent call last)",
      "Cell \u001b[1;32mIn[116], line 3\u001b[0m\n\u001b[0;32m      1\u001b[0m data \u001b[38;5;241m=\u001b[39m (\u001b[38;5;124m\"\u001b[39m\u001b[38;5;124m東京\u001b[39m\u001b[38;5;124m\"\u001b[39m, \u001b[38;5;124m\"\u001b[39m\u001b[38;5;124m大阪\u001b[39m\u001b[38;5;124m\"\u001b[39m, \u001b[38;5;124m\"\u001b[39m\u001b[38;5;124m名古屋\u001b[39m\u001b[38;5;124m\"\u001b[39m)\n\u001b[0;32m      2\u001b[0m \u001b[38;5;66;03m# data.append(\"福岡\")\u001b[39;00m\n\u001b[1;32m----> 3\u001b[0m \u001b[43mdata\u001b[49m\u001b[38;5;241;43m.\u001b[39;49m\u001b[43madd\u001b[49m(\u001b[38;5;124m\"\u001b[39m\u001b[38;5;124m福岡\u001b[39m\u001b[38;5;124m\"\u001b[39m)\n\u001b[0;32m      4\u001b[0m data\n",
      "\u001b[1;31mAttributeError\u001b[0m: 'tuple' object has no attribute 'add'"
     ]
    }
   ],
   "source": [
    "data = (\"東京\", \"大阪\", \"名古屋\")\n",
    "data.append(\"福岡\")\n",
    "data"
   ]
  },
  {
   "cell_type": "code",
   "execution_count": 117,
   "id": "7b125d2e-a4fc-439b-8ab0-f0daa32603a4",
   "metadata": {},
   "outputs": [
    {
     "ename": "IndexError",
     "evalue": "list index out of range",
     "output_type": "error",
     "traceback": [
      "\u001b[1;31m---------------------------------------------------------------------------\u001b[0m",
      "\u001b[1;31mIndexError\u001b[0m                                Traceback (most recent call last)",
      "Cell \u001b[1;32mIn[117], line 2\u001b[0m\n\u001b[0;32m      1\u001b[0m data \u001b[38;5;241m=\u001b[39m [\u001b[38;5;241m74\u001b[39m, \u001b[38;5;241m85\u001b[39m, \u001b[38;5;241m69\u001b[39m, \u001b[38;5;241m77\u001b[39m , \u001b[38;5;241m81\u001b[39m]\n\u001b[1;32m----> 2\u001b[0m \u001b[38;5;28mprint\u001b[39m(\u001b[43mdata\u001b[49m\u001b[43m[\u001b[49m\u001b[38;5;241;43m5\u001b[39;49m\u001b[43m]\u001b[49m)\n",
      "\u001b[1;31mIndexError\u001b[0m: list index out of range"
     ]
    }
   ],
   "source": [
    "data = [74, 85, 69, 77 , 81]\n",
    "print(data[5])"
   ]
  },
  {
   "cell_type": "code",
   "execution_count": null,
   "id": "9f5f3b85-b37f-4ae4-9d73-598d0ccbc76a",
   "metadata": {},
   "outputs": [],
   "source": []
  }
 ],
 "metadata": {
  "kernelspec": {
   "display_name": "Python 3 (ipykernel)",
   "language": "python",
   "name": "python3"
  },
  "language_info": {
   "codemirror_mode": {
    "name": "ipython",
    "version": 3
   },
   "file_extension": ".py",
   "mimetype": "text/x-python",
   "name": "python",
   "nbconvert_exporter": "python",
   "pygments_lexer": "ipython3",
   "version": "3.9.18"
  }
 },
 "nbformat": 4,
 "nbformat_minor": 5
}
