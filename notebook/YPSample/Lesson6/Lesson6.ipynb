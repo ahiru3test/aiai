{
 "cells": [
  {
   "cell_type": "code",
   "execution_count": 3,
   "metadata": {},
   "outputs": [
    {
     "data": {
      "text/plain": [
       "tuple"
      ]
     },
     "execution_count": 3,
     "metadata": {},
     "output_type": "execute_result"
    }
   ],
   "source": [
    "t=1,2,3\n",
    "t\n",
    "type(t)"
   ]
  },
  {
   "cell_type": "markdown",
   "metadata": {},
   "source": [
    "### Sample1"
   ]
  },
  {
   "cell_type": "code",
   "execution_count": 1,
   "metadata": {},
   "outputs": [
    {
     "name": "stdout",
     "output_type": "stream",
     "text": [
      "現在のデータは {'東京': 80, '名古屋': 60, '京都': 22, '大阪': 50, '福岡': 75} です。\n",
      "東京 のデータは 80 です。\n"
     ]
    }
   ],
   "source": [
    "sale={\"東京\":80, \"名古屋\":60,\"京都\":22,\"大阪\":50,\"福岡\":75}\n",
    "print(\"現在のデータは\",sale,\"です。\")\n",
    "\n",
    "k=input(\"どの支店のデータを表示しますか？\")\n",
    "print(k,\"のデータは\",sale[k],\"です。\")"
   ]
  },
  {
   "cell_type": "markdown",
   "metadata": {},
   "source": [
    "### Sample2"
   ]
  },
  {
   "cell_type": "code",
   "execution_count": 4,
   "metadata": {},
   "outputs": [
    {
     "name": "stdout",
     "output_type": "stream",
     "text": [
      "現在のデータは {'東京': 80, '名古屋': 60, '京都': 22, '大阪': 50, '福岡': 75} です。\n",
      "金沢 のデータはみつかりませんでした。\n"
     ]
    }
   ],
   "source": [
    "sale={\"東京\":80, \"名古屋\":60,\"京都\":22,\"大阪\":50,\"福岡\":75}\n",
    "print(\"現在のデータは\",sale,\"です。\")\n",
    "\n",
    "k=input(\"どのキーのデータを表示しますか？\")\n",
    "if k in sale:\n",
    "  print(k,\"のデータは\",sale[k],\"です。\")\n",
    "else:\n",
    "  print(k,\"のデータはみつかりませんでした。\")\n"
   ]
  },
  {
   "cell_type": "code",
   "execution_count": 10,
   "metadata": {},
   "outputs": [
    {
     "name": "stdout",
     "output_type": "stream",
     "text": [
      "any\n"
     ]
    }
   ],
   "source": [
    "data=[0,1,2,3,4,5]\n",
    "if any(data):\n",
    "  print(\"any\")\n",
    "if all(data):\n",
    "  print(\"all\")\n",
    "\n"
   ]
  },
  {
   "cell_type": "markdown",
   "metadata": {},
   "source": [
    "### Sample3"
   ]
  },
  {
   "cell_type": "code",
   "execution_count": 5,
   "metadata": {},
   "outputs": [
    {
     "name": "stdout",
     "output_type": "stream",
     "text": [
      "現在のデータは {'東京': 80, '名古屋': 60, '京都': 22, '大阪': 50, '福岡': 75} です。\n",
      "横浜 のデータとして 36 を追加しました。\n",
      "現在のデータは {'東京': 80, '名古屋': 60, '京都': 22, '大阪': 50, '福岡': 75, '横浜': 36} です。\n",
      "福岡 のデータは 75 です。\n",
      "福岡 のデータは 62 に変更されました。\n",
      "現在のデータは {'東京': 80, '名古屋': 60, '京都': 22, '大阪': 50, '福岡': 62, '横浜': 36} です。\n",
      "京都 のデータは 22 です。\n",
      "データを削除しました。\n",
      "現在のデータは {'東京': 80, '名古屋': 60, '大阪': 50, '福岡': 62, '横浜': 36} です。\n"
     ]
    }
   ],
   "source": [
    "sale={\"東京\":80, \"名古屋\":60,\"京都\":22,\"大阪\":50,\"福岡\":75}\n",
    "print(\"現在のデータは\",sale,\"です。\")\n",
    "\n",
    "k=input(\"追加するキーを入力してください。\")\n",
    "if k in sale:\n",
    "  print(k, \"のデータはすでに存在しています。\")\n",
    "else:\n",
    "  d=int(input(\"追加するデータを入力してください。\"))\n",
    "  sale[k] = d\n",
    "  print(k, \"のデータとして\", sale[k], \"を追加しました。\")\n",
    "print(\"現在のデータは\",sale,\"です。\")\n",
    "\n",
    "k=input(\"どのキーのデータを変更しますか？\")\n",
    "if k in sale:\n",
    "  print(k, \"のデータは\", sale[k], \"です。\")\n",
    "  d=int(input(\"データを入力してください。\"))\n",
    "  sale[k] = d\n",
    "  print(k, \"のデータは\", sale[k], \"に変更されました。\")\n",
    "else:\n",
    "  print(k, \"のデータはみつかりませんでした。\")\n",
    "print(\"現在のデータは\",sale,\"です。\")\n",
    "\n",
    "k=input(\"どのキーのデータを削除しますか？\")\n",
    "if k in sale:\n",
    "  print(k, \"のデータは\", sale[k], \"です。\")\n",
    "  del sale[k]\n",
    "  print(\"データを削除しました。\")\n",
    "else:\n",
    "  print(k,\"のデータはみつかりませんでした。\")\n",
    "print(\"現在のデータは\",sale,\"です。\")\n"
   ]
  },
  {
   "cell_type": "markdown",
   "metadata": {},
   "source": [
    "### Sample4"
   ]
  },
  {
   "cell_type": "code",
   "execution_count": 7,
   "metadata": {},
   "outputs": [
    {
     "name": "stdout",
     "output_type": "stream",
     "text": [
      "現在のデータは {'東京': 80, '名古屋': 60, '京都': 22, '大阪': 50, '福岡': 75} です。\n",
      "キーを表示します。\n",
      "東京\t名古屋\t京都\t大阪\t福岡\t\n",
      "値を表示します。\n",
      "80\t60\t22\t50\t75\t\n",
      "キーと値を表示します。\n",
      "('東京', 80)('名古屋', 60)('京都', 22)('大阪', 50)('福岡', 75)\n"
     ]
    }
   ],
   "source": [
    "sale={\"東京\":80, \"名古屋\":60,\"京都\":22,\"大阪\":50,\"福岡\":75}\n",
    "print(\"現在のデータは\",sale,\"です。\")\n",
    "\n",
    "print(\"キーを表示します。\")\n",
    "for k in sale.keys():\n",
    "  print(k, end=\"\\t\")\n",
    "print()\n",
    "\n",
    "print(\"値を表示します。\")\n",
    "for v in sale.values():\n",
    "  print(v, end=\"\\t\")\n",
    "print()\n",
    "\n",
    "print(\"キーと値を表示します。\")\n",
    "for i in sale.items():\n",
    "  print(i, end=\"\")\n",
    "print()\n"
   ]
  },
  {
   "cell_type": "markdown",
   "metadata": {},
   "source": [
    "### Sample5"
   ]
  },
  {
   "cell_type": "code",
   "execution_count": 12,
   "metadata": {},
   "outputs": [
    {
     "name": "stdout",
     "output_type": "stream",
     "text": [
      "現在のデータは {'東京': 80, '名古屋': 60, '京都': 22} です。\n",
      "現在のデータは {'京都': 100, '大阪': 50, '福岡': 75} です。\n",
      "1を2で更新します。\n",
      "1のデータは {'東京': 80, '名古屋': 60, '京都': 100, '大阪': 50, '福岡': 75} です。\n"
     ]
    }
   ],
   "source": [
    "sale1={\"東京\":80, \"名古屋\":60,\"京都\":22}\n",
    "sale2={\"京都\":100,\"大阪\":50,\"福岡\":75}\n",
    "print(\"現在のデータは\",sale1,\"です。\")\n",
    "print(\"現在のデータは\",sale2,\"です。\")\n",
    "\n",
    "print(\"1を2で更新します。\")\n",
    "\n",
    "sale1.update(sale2)\n",
    "\n",
    "print(\"1のデータは\",sale1,\"です。\")\n"
   ]
  },
  {
   "cell_type": "markdown",
   "metadata": {},
   "source": [
    "### Sample6"
   ]
  },
  {
   "cell_type": "code",
   "execution_count": 14,
   "metadata": {},
   "outputs": [
    {
     "name": "stdout",
     "output_type": "stream",
     "text": [
      "現在のデータは {'東京', '大阪', '京都', '福岡', '名古屋'} です。\n",
      "横浜 を追加しました。\n",
      "現在のデータは {'東京', '横浜', '大阪', '京都', '福岡', '名古屋'} です。\n",
      "京都 を削除しました。\n",
      "現在のデータは {'東京', '横浜', '大阪', '福岡', '名古屋'} です。\n"
     ]
    }
   ],
   "source": [
    "city={\"東京\", \"名古屋\",\"京都\",\"大阪\",\"福岡\"}\n",
    "print(\"現在のデータは\",city,\"です。\")\n",
    "\n",
    "d=input(\"追加するデータを入力してください。\")\n",
    "if d in city:\n",
    "  print(d, \"のデータはすでに存在しています。\")\n",
    "else:\n",
    "  city.add(d)\n",
    "  print(d, \"を追加しました。\")\n",
    "print(\"現在のデータは\",city,\"です。\")\n",
    "\n",
    "d=input(\"削除するデータを入力してください。\")\n",
    "if d in sale:\n",
    "  city.remove(d)\n",
    "  print(d,\"を削除しました。\")\n",
    "else:\n",
    "  print(d,\"のデータはみつかりませんでした。\")\n",
    "print(\"現在のデータは\",city,\"です。\")\n"
   ]
  },
  {
   "cell_type": "markdown",
   "metadata": {},
   "source": [
    "### Sample7"
   ]
  },
  {
   "cell_type": "code",
   "execution_count": 16,
   "metadata": {},
   "outputs": [
    {
     "name": "stdout",
     "output_type": "stream",
     "text": [
      "Aの都市名は {'大阪', '東京', '京都', '名古屋'} です。\n",
      "Bの都市名は {'大阪', '京都', '福岡'} です。\n",
      "共通するデータは {'大阪', '京都'} です。\n",
      "Aのみのデータは {'東京', '名古屋'} です。\n",
      "Bのみのデータは {'福岡'} です。\n",
      "すべてのデータは {'東京', '大阪', '京都', '名古屋', '福岡'} です。\n"
     ]
    }
   ],
   "source": [
    "cityA={\"東京\",\"名古屋\",\"京都\",\"大阪\"}\n",
    "cityB={\"京都\",\"大阪\",\"福岡\"}\n",
    "\n",
    "print(\"Aの都市名は\",cityA,\"です。\")\n",
    "print(\"Bの都市名は\",cityB,\"です。\")\n",
    "\n",
    "print(\"共通するデータは\",cityA & cityB,\"です。\")\n",
    "print(\"Aのみのデータは\",cityA - cityB,\"です。\")\n",
    "print(\"Bのみのデータは\",cityB - cityA,\"です。\")\n",
    "print(\"すべてのデータは\",cityA | cityB,\"です。\")\n"
   ]
  },
  {
   "cell_type": "markdown",
   "metadata": {},
   "source": [
    "### 練習"
   ]
  },
  {
   "cell_type": "code",
   "execution_count": 35,
   "metadata": {},
   "outputs": [
    {
     "name": "stdout",
     "output_type": "stream",
     "text": [
      "{'a1': 10}\n",
      "{}\n",
      "{'a1'}\n",
      "set()\n"
     ]
    }
   ],
   "source": [
    "# 1\n",
    "# ① c\n",
    "# ② d\n",
    "# ③ c\n",
    "# ④ b\n",
    "# ⑤ a\n",
    "\n",
    "# 2\n",
    "# ①keyが存在しない\n",
    "# data={\"key1\":30,\"key2\":40}\n",
    "# print(data[\"key3\"])\n",
    "\n",
    "# ②タプルに要素追加はできない\n",
    "\n",
    "# ③5の要素はない\n",
    "# data=[\"74\",\"85\",\"69\",\"77\",\"81\"]\n",
    "# print(data[5])\n",
    "\n",
    "# ④setは値をもたない\n",
    "\n",
    "data={}\n",
    "data[\"a1\"]=10\n",
    "print(data)\n",
    "del(data[\"a1\"])\n",
    "print(data)\n",
    "\n",
    "data2=set(\"\")\n",
    "data2.add(\"a1\")\n",
    "print(data2)\n",
    "data2.remove(\"a1\")\n",
    "print(data2)\n"
   ]
  }
 ],
 "metadata": {
  "kernelspec": {
   "display_name": "py39",
   "language": "python",
   "name": "python3"
  },
  "language_info": {
   "codemirror_mode": {
    "name": "ipython",
    "version": 3
   },
   "file_extension": ".py",
   "mimetype": "text/x-python",
   "name": "python",
   "nbconvert_exporter": "python",
   "pygments_lexer": "ipython3",
   "version": "3.9.18"
  }
 },
 "nbformat": 4,
 "nbformat_minor": 2
}
