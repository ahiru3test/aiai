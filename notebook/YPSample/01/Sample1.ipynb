{
 "cells": [
  {
   "cell_type": "code",
   "execution_count": 1,
   "id": "60bf7c73-7327-4817-8173-61dc6b5e9d69",
   "metadata": {},
   "outputs": [
    {
     "name": "stdout",
     "output_type": "stream",
     "text": [
      "ようこそＰｙｔｈｏｎへ\n"
     ]
    }
   ],
   "source": [
    "print(\"ようこそＰｙｔｈｏｎへ\")"
   ]
  },
  {
   "cell_type": "code",
   "execution_count": null,
   "id": "2fbdfe01-98bd-4617-a9db-f097de2b9ac3",
   "metadata": {},
   "outputs": [],
   "source": []
  }
 ],
 "metadata": {
  "kernelspec": {
   "display_name": "Python 3 (ipykernel)",
   "language": "python",
   "name": "python3"
  },
  "language_info": {
   "codemirror_mode": {
    "name": "ipython",
    "version": 3
   },
   "file_extension": ".py",
   "mimetype": "text/x-python",
   "name": "python",
   "nbconvert_exporter": "python",
   "pygments_lexer": "ipython3",
   "version": "3.9.18"
  }
 },
 "nbformat": 4,
 "nbformat_minor": 5
}
