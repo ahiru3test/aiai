{
 "cells": [
  {
   "cell_type": "code",
   "execution_count": 1,
   "id": "2fbdc8bf-b613-48fb-9413-cbf793fad711",
   "metadata": {},
   "outputs": [
    {
     "name": "stdout",
     "output_type": "stream",
     "text": [
      "\u001b[91mTXT\u001b[0mTT\n"
     ]
    }
   ],
   "source": [
    "import re\n",
    " \n",
    "def str_search(ptr,str_):\n",
    "    colorRED = '\\033[91m'\n",
    "    colorEND = '\\033[0m'\n",
    "    pattern = re.compile(ptr)\n",
    "    res = pattern.search(str_)\n",
    "    if res is not None:\n",
    "        r = res.span()\n",
    "        str1 = str_[0:r[0]]\n",
    "        str2 = str_[r[0]:r[1]]\n",
    "        str3 = str_[r[1]:]\n",
    "        restr =  \"{}{}{}{}{}\".format(str1,colorRED ,str2 ,colorEND, str3)\n",
    "        return restr\n",
    "    else:\n",
    "        return str_\n",
    "if __name__ == \"__main__\":\n",
    "    ptr = \"^TXT\"\n",
    "    str_ = \"TXTTT\"\n",
    "    print(str_search(ptr, str_))"
   ]
  },
  {
   "cell_type": "markdown",
   "id": "fd0aa7d4-3596-4157-8708-953b25725726",
   "metadata": {},
   "source": [
    "#### Sample6"
   ]
  },
  {
   "cell_type": "code",
   "execution_count": 9,
   "id": "ae9fb48d-0880-4e8e-a16e-a541889f6943",
   "metadata": {},
   "outputs": [
    {
     "name": "stdout",
     "output_type": "stream",
     "text": [
      "------\n",
      "（パターン）Apple（文字列）Hello（マッチ）×\n",
      "（パターン）Apple（文字列）GoodBye（マッチ）×\n",
      "（パターン）Apple（文字列）Thankyou（マッチ）×\n",
      "------\n",
      "（パターン）GoodBye（文字列）Hello（マッチ）×\n",
      "（パターン）GoodBye（文字列）GoodBye（マッチ）〇\u001b[91mGoodBye\u001b[0m\n",
      "（パターン）GoodBye（文字列）Thankyou（マッチ）×\n",
      "------\n",
      "（パターン）Thankyou（文字列）Hello（マッチ）×\n",
      "（パターン）Thankyou（文字列）GoodBye（マッチ）×\n",
      "（パターン）Thankyou（文字列）Thankyou（マッチ）〇\u001b[91mThankyou\u001b[0m\n"
     ]
    }
   ],
   "source": [
    "ptr = [\"Apple\", \"GoodBye\", \"Thankyou\"]\n",
    "str = [\"Hello\", \"GoodBye\", \"Thankyou\"]\n",
    "\n",
    "for valueptr in ptr:\n",
    "    print(\"------\")\n",
    "    pattern = re.compile(valueptr)\n",
    "    for valuestr in str:\n",
    "        res = pattern.search(valuestr)\n",
    "        if res is not None:\n",
    "            m = \"〇\" + str_search(valueptr, valuestr)\n",
    "        else:\n",
    "            m = \"×\"\n",
    "        msg = \"（パターン）\" + valueptr + \"（文字列）\" + valuestr + \"（マッチ）\" + m\n",
    "        print(msg)"
   ]
  },
  {
   "cell_type": "code",
   "execution_count": 3,
   "id": "1aebc18b-f8a7-4228-9184-7981985e4ca0",
   "metadata": {},
   "outputs": [
    {
     "data": {
      "text/plain": [
       "<re.Match object; span=(0, 8), match='Thankyou'>"
      ]
     },
     "execution_count": 3,
     "metadata": {},
     "output_type": "execute_result"
    }
   ],
   "source": [
    "res"
   ]
  },
  {
   "cell_type": "markdown",
   "id": "d009b214-1d82-469b-be6d-2de28b8c7ed0",
   "metadata": {},
   "source": [
    "#### Sample7"
   ]
  },
  {
   "cell_type": "code",
   "execution_count": 8,
   "id": "54a7c3d1-d416-4538-9c57-3cb1212383fe",
   "metadata": {},
   "outputs": [
    {
     "name": "stdout",
     "output_type": "stream",
     "text": [
      "------\n",
      "（パターン）TXT（文字列）TXT（マッチ）〇\u001b[91mTXT\u001b[0m\n",
      "（パターン）TXT（文字列）TXTT（マッチ）〇\u001b[91mTXT\u001b[0mT\n",
      "（パターン）TXT（文字列）TXTTT（マッチ）〇\u001b[91mTXT\u001b[0mTT\n",
      "（パターン）TXT（文字列）TTXT（マッチ）〇T\u001b[91mTXT\u001b[0m\n",
      "------\n",
      "（パターン）^TXT（文字列）TXT（マッチ）〇\u001b[91mTXT\u001b[0m\n",
      "（パターン）^TXT（文字列）TXTT（マッチ）〇\u001b[91mTXT\u001b[0mT\n",
      "（パターン）^TXT（文字列）TXTTT（マッチ）〇\u001b[91mTXT\u001b[0mTT\n",
      "（パターン）^TXT（文字列）TTXT（マッチ）×\n",
      "------\n",
      "（パターン）TXT$（文字列）TXT（マッチ）〇\u001b[91mTXT\u001b[0m\n",
      "（パターン）TXT$（文字列）TXTT（マッチ）×\n",
      "（パターン）TXT$（文字列）TXTTT（マッチ）×\n",
      "（パターン）TXT$（文字列）TTXT（マッチ）〇T\u001b[91mTXT\u001b[0m\n",
      "------\n",
      "（パターン）^TXT$（文字列）TXT（マッチ）〇\u001b[91mTXT\u001b[0m\n",
      "（パターン）^TXT$（文字列）TXTT（マッチ）×\n",
      "（パターン）^TXT$（文字列）TXTTT（マッチ）×\n",
      "（パターン）^TXT$（文字列）TTXT（マッチ）×\n"
     ]
    }
   ],
   "source": [
    "import re\n",
    "\n",
    "ptr = [\"TXT\", \"^TXT\", \"TXT$\", \"^TXT$\"]\n",
    "str = [\"TXT\", \"TXTT\", \"TXTTT\", \"TTXT\"]\n",
    "\n",
    "for valueptr in ptr:\n",
    "    print(\"------\")\n",
    "    pattern = re.compile(valueptr)\n",
    "    for valuestr in str:\n",
    "        res = pattern.search(valuestr)\n",
    "        if res is not None:\n",
    "            m = \"〇\" + str_search(valueptr, valuestr)\n",
    "        else:\n",
    "            m = \"×\"\n",
    "        msg = \"（パターン）\" + valueptr + \"（文字列）\" + valuestr + \"（マッチ）\" + m\n",
    "        print(msg)\n"
   ]
  },
  {
   "cell_type": "code",
   "execution_count": null,
   "id": "b9cc32da-443e-42ae-bf7d-d61873399ea5",
   "metadata": {},
   "outputs": [],
   "source": []
  }
 ],
 "metadata": {
  "kernelspec": {
   "display_name": "Python 3 (ipykernel)",
   "language": "python",
   "name": "python3"
  },
  "language_info": {
   "codemirror_mode": {
    "name": "ipython",
    "version": 3
   },
   "file_extension": ".py",
   "mimetype": "text/x-python",
   "name": "python",
   "nbconvert_exporter": "python",
   "pygments_lexer": "ipython3",
   "version": "3.10.13"
  }
 },
 "nbformat": 4,
 "nbformat_minor": 5
}
