{
 "cells": [
  {
   "cell_type": "markdown",
   "metadata": {},
   "source": [
    "### Lesson8"
   ]
  },
  {
   "cell_type": "markdown",
   "metadata": {},
   "source": [
    "### Sample1"
   ]
  },
  {
   "cell_type": "code",
   "execution_count": 7,
   "metadata": {},
   "outputs": [
    {
     "name": "stdout",
     "output_type": "stream",
     "text": [
      "鈴木 さんは 23 才です。\n",
      "佐藤 さんは 38 才です。\n"
     ]
    }
   ],
   "source": [
    "class Person:\n",
    "  def getName(self):\n",
    "    return self.name\n",
    "  def getAge(self):\n",
    "    return self.age\n",
    "\n",
    "pr =Person()\n",
    "pr.name =\"鈴木\"\n",
    "pr.age = 23\n",
    "\n",
    "\n",
    "print(pr.getName(),\"さんは\",pr.getAge(),\"才です。\")\n",
    "\n",
    "\n",
    "pr2 =Person()\n",
    "pr2.name =\"佐藤\"\n",
    "pr2.age = 38\n",
    "\n",
    "\n",
    "print(pr2.getName(),\"さんは\",pr2.getAge(),\"才です。\")\n"
   ]
  },
  {
   "cell_type": "markdown",
   "metadata": {},
   "source": [
    "### Sample3"
   ]
  },
  {
   "cell_type": "code",
   "execution_count": 8,
   "metadata": {},
   "outputs": [
    {
     "name": "stdout",
     "output_type": "stream",
     "text": [
      "鈴木 さんは 23 才です。\n"
     ]
    }
   ],
   "source": [
    "class Person:\n",
    "  def __init__(self,name,age):\n",
    "    self.name= name\n",
    "    self.age = age\n",
    "  def getName(self):\n",
    "    return self.name\n",
    "  def getAge(self):\n",
    "    return self.age\n",
    "\n",
    "pr =Person(\"鈴木\",23)\n",
    "\n",
    "print(pr.getName(),\"さんは\",pr.getAge(),\"才です。\")\n"
   ]
  },
  {
   "cell_type": "markdown",
   "metadata": {},
   "source": [
    "### Sample4"
   ]
  },
  {
   "cell_type": "code",
   "execution_count": 11,
   "metadata": {},
   "outputs": [
    {
     "name": "stdout",
     "output_type": "stream",
     "text": [
      "鈴木 さんは 23 才です。\n",
      "佐藤 さんは 38 才です。\n",
      "合計人数は 2 です。\n"
     ]
    }
   ],
   "source": [
    "class Person:\n",
    "  count=0\n",
    "\n",
    "  def __init__(self,name,age):\n",
    "    Person.count = Person.count+1\n",
    "    self.name= name\n",
    "    self.age = age\n",
    "  def getName(self):\n",
    "    return self.name\n",
    "  def getAge(self):\n",
    "    return self.age\n",
    "  @classmethod\n",
    "  def getCount(cls):\n",
    "    return cls.count\n",
    "\n",
    "pr1 =Person(\"鈴木\",23)\n",
    "pr2 =Person(\"佐藤\",38)\n",
    "\n",
    "print(pr1.getName(),\"さんは\",pr1.getAge(),\"才です。\")\n",
    "print(pr2.getName(),\"さんは\",pr2.getAge(),\"才です。\")\n",
    "print(\"合計人数は\",Person.getCount(),\"です。\")\n"
   ]
  },
  {
   "cell_type": "code",
   "execution_count": 18,
   "metadata": {},
   "outputs": [
    {
     "name": "stdout",
     "output_type": "stream",
     "text": [
      "鈴木 さんは 23 才です。\n",
      "佐藤 さんは 38 才です。\n",
      "合計人数は 2 です。\n"
     ]
    }
   ],
   "source": [
    "class Person:\n",
    "  count=0\n",
    "\n",
    "  def __init__(self,name,age):\n",
    "    Person.count = Person.count+1\n",
    "    self.name= name\n",
    "    self.__age = age\n",
    "\n",
    "  def getName(self):\n",
    "    return self.name\n",
    "  \n",
    "  def getAge(self):\n",
    "    return self.__age\n",
    "  def setAge(self,age):\n",
    "    self.__age = age\n",
    "  \n",
    "  Age = property(getAge,setAge)\n",
    "  # property(getAge,setAge)\n",
    "  \n",
    "  @classmethod\n",
    "  def getCount(cls):\n",
    "    return cls.count\n",
    "\n",
    "pr1 =Person(\"鈴木\",23)\n",
    "pr2 =Person(\"佐藤\",38)\n",
    "\n",
    "print(pr1.name,\"さんは\",pr1.Age,\"才です。\")\n",
    "print(pr2.name,\"さんは\",pr2.Age,\"才です。\")\n",
    "print(\"合計人数は\",Person.getCount(),\"です。\")\n"
   ]
  },
  {
   "cell_type": "markdown",
   "metadata": {},
   "source": [
    "### Sample5"
   ]
  },
  {
   "cell_type": "code",
   "execution_count": 22,
   "metadata": {},
   "outputs": [
    {
     "name": "stdout",
     "output_type": "stream",
     "text": [
      "顧客：鈴木 さんは 23 才です。\n",
      "アドレスは mmm@nnn.nn.jp 電話番号は xxx-xxx-xxxx です。\n"
     ]
    }
   ],
   "source": [
    "class Person:\n",
    "  def __init__(self,name,age):\n",
    "    self.name = name\n",
    "    self.age = age\n",
    "  \n",
    "  def getName(self):\n",
    "    return self.name\n",
    "  \n",
    "  def getAge(self):\n",
    "    return self.age\n",
    "\n",
    "class Customer(Person):\n",
    "  def __init__(self,nm,ag,ad,tl):\n",
    "    super().__init__(nm,ag)\n",
    "    self.adr = ad\n",
    "    self.tel = tl\n",
    "\n",
    "  def getName(self):\n",
    "    return \"顧客：\"+self.name\n",
    "  \n",
    "  def getAdr(self):\n",
    "    return self.adr\n",
    "  \n",
    "  def getTel(self):\n",
    "    return self.tel\n",
    "\n",
    "pr = Customer(\"鈴木\",23,\"mmm@nnn.nn.jp\",\"xxx-xxx-xxxx\")\n",
    "nm = pr.getName()\n",
    "ag = pr.getAge()\n",
    "ad = pr.getAdr()\n",
    "tl = pr.getTel()\n",
    "\n",
    "print(nm,\"さんは\",ag,\"才です。\")\n",
    "print(\"アドレスは\",ad,\"電話番号は\",tl,\"です。\")\n"
   ]
  },
  {
   "cell_type": "code",
   "execution_count": 7,
   "metadata": {},
   "outputs": [
    {
     "name": "stdout",
     "output_type": "stream",
     "text": [
      "鈴木\n"
     ]
    }
   ],
   "source": [
    "class Person:\n",
    "  name=\"\"\n",
    "\n",
    "  def __str__(self):\n",
    "    # str = self.name + \"さん\"\n",
    "    ret = self.name\n",
    "    return ret\n",
    "\n",
    "pr = Person()\n",
    "pr.name= \"鈴木\"\n",
    "\n",
    "print(str(pr))\n"
   ]
  },
  {
   "cell_type": "code",
   "execution_count": 13,
   "metadata": {},
   "outputs": [
    {
     "name": "stdout",
     "output_type": "stream",
     "text": [
      "3\n",
      "-1\n"
     ]
    }
   ],
   "source": [
    "class A:\n",
    "  def __init__(self,num):\n",
    "    self.num=num\n",
    "\n",
    "  def __add__(self,other):\n",
    "    return self.num + other.num\n",
    "\n",
    "  def __sub__(self,other):\n",
    "    return self.num - other.num\n",
    "\n",
    "class B:\n",
    "  def __init__(self,num):\n",
    "    self.num=num\n",
    "\n",
    "a1=A(1)\n",
    "a2=B(2)\n",
    "\n",
    "print(a1+a2)\n",
    "print(a1-a2)\n"
   ]
  },
  {
   "cell_type": "code",
   "execution_count": 4,
   "metadata": {},
   "outputs": [
    {
     "name": "stdout",
     "output_type": "stream",
     "text": [
      "顧客：鈴木 さんは 23 才です。\n",
      "アドレスは mmm@nnn.nn.jp 電話番号は xxx-xxx-xxxx です。\n"
     ]
    }
   ],
   "source": [
    "class Person:\n",
    " \n",
    "    def __init__(self, name, age, ad, tl):\n",
    "        self.name = name\n",
    "        self.age = age\n",
    "        self.adr = ad\n",
    "        self.tel = tl\n",
    " \n",
    "    def getName(self):\n",
    "        return self.name\n",
    " \n",
    "    def getAge(self):\n",
    "        return self.age\n",
    " \n",
    "class Customer(Person):\n",
    "    \n",
    "    # ここにsuper().__init__(nm,ag) がない\n",
    " \n",
    "    def getName(self):\n",
    "        return \"顧客：\" + self.name\n",
    " \n",
    "    def getAdr(self):\n",
    "        return self.adr\n",
    " \n",
    "    def getTel(self):\n",
    "        return self.tel\n",
    "\n",
    "\n",
    "pr = Customer(\"鈴木\", 23, \"mmm@nnn.nn.jp\", \"xxx-xxx-xxxx\")\n",
    " \n",
    "nm = pr.getName()\n",
    "ag = pr.getAge()\n",
    "ad = pr.getAdr()\n",
    "tl = pr.getTel()\n",
    " \n",
    "print(nm, \"さんは\", ag, \"才です。\")\n",
    "print(\"アドレスは\", ad, \"電話番号は\", tl, \"です。\")\n"
   ]
  },
  {
   "cell_type": "markdown",
   "metadata": {},
   "source": [
    "### Sample6"
   ]
  },
  {
   "cell_type": "code",
   "execution_count": 6,
   "metadata": {},
   "outputs": [
    {
     "name": "stdout",
     "output_type": "stream",
     "text": [
      "顧客：鈴木\n",
      "23\n",
      "mmm@nnn.nn.jp\n",
      "xxx-xxx-xxxx\n",
      "顧客：鈴木\n",
      "23\n",
      "mmm@nnn.nn.jp\n",
      "xxx-xxx-xxxx\n"
     ]
    }
   ],
   "source": [
    "import myclass as my\n",
    "\n",
    "pr = myclass.Customer(\"鈴木\", 23, \"mmm@nnn.nn.jp\", \"xxx-xxx-xxxx\")\n",
    "print(pr.getName())\n",
    "print(pr.getAge())\n",
    "print(pr.getAdr())\n",
    "print(pr.getTel())\n",
    "\n",
    "pr2 = my.Customer(\"鈴木2\", 23, \"mmm@nnn.nn.jp2\", \"xxx-xxx-xxxx2\")\n",
    "print(pr.getName())\n",
    "print(pr.getAge())\n",
    "print(pr.getAdr())\n",
    "print(pr.getTel())\n",
    "\n",
    "del my"
   ]
  },
  {
   "cell_type": "code",
   "execution_count": 9,
   "metadata": {},
   "outputs": [
    {
     "name": "stdout",
     "output_type": "stream",
     "text": [
      "顧客：鈴木\n",
      "23\n",
      "mmm@nnn.nn.jp\n",
      "xxx-xxx-xxxx\n",
      "顧客：鈴木\n",
      "23\n",
      "mmm@nnn.nn.jp\n",
      "xxx-xxx-xxxx\n"
     ]
    }
   ],
   "source": [
    "from myclass import Customer as cst\n",
    "\n",
    "pr = Customer(\"鈴木\", 23, \"mmm@nnn.nn.jp\", \"xxx-xxx-xxxx\")\n",
    "print(pr.getName())\n",
    "print(pr.getAge())\n",
    "print(pr.getAdr())\n",
    "print(pr.getTel())\n",
    "\n",
    "pr2 = cst(\"鈴木2\", 23, \"mmm@nnn.nn.jp2\", \"xxx-xxx-xxxx2\")\n",
    "print(pr.getName())\n",
    "print(pr.getAge())\n",
    "print(pr.getAdr())\n",
    "print(pr.getTel())\n",
    "\n",
    "del cst\n"
   ]
  },
  {
   "cell_type": "code",
   "execution_count": 5,
   "metadata": {},
   "outputs": [
    {
     "name": "stdout",
     "output_type": "stream",
     "text": [
      "顧客：鈴木\n",
      "23\n",
      "mmm@nnn.nn.jp\n",
      "xxx-xxx-xxxx\n"
     ]
    },
    {
     "ename": "NameError",
     "evalue": "name 'myclass2' is not defined",
     "output_type": "error",
     "traceback": [
      "\u001b[1;31m---------------------------------------------------------------------------\u001b[0m",
      "\u001b[1;31mNameError\u001b[0m                                 Traceback (most recent call last)",
      "Cell \u001b[1;32mIn[5], line 9\u001b[0m\n\u001b[0;32m      6\u001b[0m \u001b[38;5;28mprint\u001b[39m(pr\u001b[38;5;241m.\u001b[39mgetAdr())\n\u001b[0;32m      7\u001b[0m \u001b[38;5;28mprint\u001b[39m(pr\u001b[38;5;241m.\u001b[39mgetTel())\n\u001b[1;32m----> 9\u001b[0m \u001b[38;5;28;01mdel\u001b[39;00m myclass2\n",
      "\u001b[1;31mNameError\u001b[0m: name 'myclass2' is not defined"
     ]
    }
   ],
   "source": [
    "from myclass import *\n",
    "\n",
    "pr = Customer(\"鈴木\", 23, \"mmm@nnn.nn.jp\", \"xxx-xxx-xxxx\")\n",
    "print(pr.getName())\n",
    "print(pr.getAge())\n",
    "print(pr.getAdr())\n",
    "print(pr.getTel())\n"
   ]
  },
  {
   "cell_type": "code",
   "execution_count": 1,
   "metadata": {},
   "outputs": [
    {
     "name": "stdout",
     "output_type": "stream",
     "text": [
      "顧客：鈴木\n",
      "23\n",
      "mmm@nnn.nn.jp\n",
      "xxx-xxx-xxxx\n"
     ]
    }
   ],
   "source": [
    "from mydir.myclass import *\n",
    "\n",
    "pr = Customer(\"鈴木\", 23, \"mmm@nnn.nn.jp\", \"xxx-xxx-xxxx\")\n",
    "print(pr.getName())\n",
    "print(pr.getAge())\n",
    "print(pr.getAdr())\n",
    "print(pr.getTel())\n"
   ]
  },
  {
   "cell_type": "markdown",
   "metadata": {},
   "source": [
    "### Sample7"
   ]
  },
  {
   "cell_type": "code",
   "execution_count": 2,
   "metadata": {},
   "outputs": [
    {
     "name": "stdout",
     "output_type": "stream",
     "text": [
      "    October 2018\n",
      "Mo Tu We Th Fr Sa Su\n",
      " 1  2  3  4  5  6  7\n",
      " 8  9 10 11 12 13 14\n",
      "15 16 17 18 19 20 21\n",
      "22 23 24 25 26 27 28\n",
      "29 30 31\n"
     ]
    }
   ],
   "source": [
    "import calendar\n",
    "\n",
    "c=calendar.TextCalendar()\n",
    "c.prmonth(2018,10)\n"
   ]
  },
  {
   "cell_type": "code",
   "execution_count": 5,
   "metadata": {},
   "outputs": [
    {
     "name": "stdout",
     "output_type": "stream",
     "text": [
      "Apple\n",
      "Banana\n",
      "Grape\n",
      "Lemon\n"
     ]
    }
   ],
   "source": [
    "class Fruit:\n",
    "    def __init__(self):\n",
    "        self._list = ['Apple', 'Banana', 'Grape', 'Lemon']\n",
    " \n",
    "    def __iter__(self):  # iter()で呼び出されるメソッド\n",
    "        # list_iterator を返す。\n",
    "        #return iter(self._list)\n",
    "        \n",
    "        # generator objectを返す。\n",
    "        return (f for f in self._list)\n",
    " \n",
    "fruits = Fruit()\n",
    " \n",
    "for fr in fruits:\n",
    "    print(fr)\n",
    "\n"
   ]
  },
  {
   "cell_type": "code",
   "execution_count": 6,
   "metadata": {},
   "outputs": [
    {
     "name": "stdout",
     "output_type": "stream",
     "text": [
      "Hello C\n",
      "Called by c\n"
     ]
    }
   ],
   "source": [
    "class C:\n",
    "    def __call__(self, msg = \"Hello C\"):\n",
    "        print(msg)\n",
    " \n",
    "c = C()\n",
    "c()\n",
    "c(\"Called by c\")\n"
   ]
  },
  {
   "cell_type": "markdown",
   "metadata": {},
   "source": [
    "### 練習"
   ]
  },
  {
   "cell_type": "code",
   "execution_count": 13,
   "metadata": {},
   "outputs": [
    {
     "name": "stdout",
     "output_type": "stream",
     "text": [
      "ナンバーは 1234 ガソリン量は 25.5 です。\n",
      "ナンバーは 2345 ガソリン量は 30.5 です。\n"
     ]
    }
   ],
   "source": [
    "# Carクラス\n",
    "# ナンバーは 1234 ガソリン量は 25.5 です。\n",
    "# ナンバーは 2345 ガソリン量は 30.5 です。\n",
    "\n",
    "class Car:\n",
    "  def __init__(self,number,gas) :\n",
    "    self.number=number\n",
    "    self.gas=gas\n",
    "\n",
    "  def getNumber(self) :\n",
    "    return self.number\n",
    "\n",
    "  def getGas(self) :\n",
    "    return self.gas\n",
    "\n",
    "\n",
    "c1 = Car(1234,25.5)\n",
    "c2 = Car(2345,30.5)\n",
    "\n",
    "print(\"ナンバーは\",c1.getNumber(),\"ガソリン量は\",c1.getGas(),\"です。\")\n",
    "print(\"ナンバーは\",c2.getNumber(),\"ガソリン量は\",c2.getGas(),\"です。\")\n"
   ]
  }
 ],
 "metadata": {
  "kernelspec": {
   "display_name": "py39",
   "language": "python",
   "name": "python3"
  },
  "language_info": {
   "codemirror_mode": {
    "name": "ipython",
    "version": 3
   },
   "file_extension": ".py",
   "mimetype": "text/x-python",
   "name": "python",
   "nbconvert_exporter": "python",
   "pygments_lexer": "ipython3",
   "version": "3.9.18"
  }
 },
 "nbformat": 4,
 "nbformat_minor": 2
}
