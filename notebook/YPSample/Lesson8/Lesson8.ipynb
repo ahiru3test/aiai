{
 "cells": [
  {
   "cell_type": "code",
   "execution_count": null,
   "id": "22ed1e15-117b-4a44-b6ff-021f3d94c900",
   "metadata": {},
   "outputs": [],
   "source": [
    "# myName camel 記法\n",
    "# my_name snake 記法"
   ]
  },
  {
   "cell_type": "markdown",
   "id": "8705c4b8-8dc0-43c8-a05c-83d66fe89136",
   "metadata": {},
   "source": [
    "#### Sample1"
   ]
  },
  {
   "cell_type": "code",
   "execution_count": null,
   "id": "8dba2c46-bb66-4f62-b3f7-2d50645e5280",
   "metadata": {},
   "outputs": [],
   "source": [
    "class Person:    # (1)Personクラス定義\n",
    "\n",
    "    def getName(self):\n",
    "        return self.name\n",
    "\n",
    "    def getAge(self):\n",
    "        return self.age\n",
    "\n",
    "pr = Person()    # (2)Personクラスのインスタンス作成\n",
    "pr.name = '鈴木' # (3) データ属性に値を代入\n",
    "pr.age = 23\n",
    "\n",
    "n = pr.getName()  # (4)メソッドの呼び出し\n",
    "a = pr.getAge()\n",
    "\n",
    "print(n, \"さんは\", a, \"才です\")"
   ]
  },
  {
   "cell_type": "code",
   "execution_count": null,
   "id": "331cadfb-475b-44d1-a89a-1e2ea3de9b36",
   "metadata": {},
   "outputs": [],
   "source": [
    "class Person:#(1)クラスの定義\n",
    "    def getName(self):\n",
    "        return self.name\n",
    "\n",
    "    def getAge(self):\n",
    "        return self.age\n",
    "\n",
    "pr = Person()# (2)インスタンスの作成\n",
    "pr.name = \"鈴木\" #(3)データ属性・メソッドを利用\n",
    "pr.age = 23\n",
    "\n",
    "n = pr.getName()\n",
    "a = pr.getAge()\n",
    "\n",
    "print(n, \"さんは\", a, \"才です。\")"
   ]
  },
  {
   "cell_type": "markdown",
   "id": "8664afde-1227-44bb-b002-48e064a00294",
   "metadata": {},
   "source": [
    "#### Sample2"
   ]
  },
  {
   "cell_type": "code",
   "execution_count": null,
   "id": "0660d5b3-a6b0-4a99-8e59-a38b37812c83",
   "metadata": {},
   "outputs": [],
   "source": [
    "class Person:    # (1)Personクラス定義\n",
    "\n",
    "    def getName(self):\n",
    "        return self.name\n",
    "\n",
    "    def getAge(self):\n",
    "        return self.age\n",
    "\n",
    "pr1 = Person()    # (2)Personクラスのインスタンス作成\n",
    "pr1.name = '鈴木' # (3) データ属性に値を代入\n",
    "pr1.age = 23\n",
    "\n",
    "n1 = pr1.getName()  # (4)メソッドの呼び出し\n",
    "a1 = pr1.getAge()\n",
    "\n",
    "pr2 = Person()    # (2)Personクラスのインスタンス作成\n",
    "pr2.name = '佐藤' # (3) データ属性に値を代入\n",
    "pr2.age = 38\n",
    "\n",
    "n2 = pr2.getName()  # (4)メソッドの呼び出し\n",
    "a2 = pr2.getAge()\n",
    "\n",
    "print(n1, \"さんは\", a1, \"才です。\")\n",
    "print(n2, \"さんは\", a2, \"才です。\")"
   ]
  },
  {
   "cell_type": "code",
   "execution_count": null,
   "id": "bce4d864-85fc-4b9e-8698-2c23d3552b8d",
   "metadata": {},
   "outputs": [],
   "source": [
    "class Person:\n",
    "    def getName(self):\n",
    "        return self.name\n",
    "    def getAge(self):\n",
    "        return self.age\n",
    "\n",
    "pr1 = Person()\n",
    "pr1.name = \"鈴木\"\n",
    "pr1.age = 23\n",
    "n1 = pr1.getName()\n",
    "a1 = pr1.getAge()\n",
    "\n",
    "pr2 = Person()\n",
    "pr2.name = \"佐藤\"\n",
    "pr2.age = 38\n",
    "n2 = pr2.getName()\n",
    "a2 = pr2.getAge()\n",
    "\n",
    "print(n1, \"さんは\", a1, \"才です。\")\n",
    "print(n2, \"さんは\", a2, \"才です。\")\n",
    "\n",
    "people = [pr1, pr2]\n",
    "for p in people:\n",
    "    print(p.getName())"
   ]
  },
  {
   "cell_type": "markdown",
   "id": "2b3dbdcd-479c-488a-9045-3cb0e70d476c",
   "metadata": {},
   "source": [
    "### Sample3"
   ]
  },
  {
   "cell_type": "code",
   "execution_count": null,
   "id": "d0e1750c-15a9-405f-84e4-93f6e7324e26",
   "metadata": {},
   "outputs": [],
   "source": [
    "class Person:    # (1)Personクラス定義\n",
    "\n",
    "    def __init__(self, name, age):\n",
    "        self.name = name\n",
    "        self.age = age\n",
    "\n",
    "    def getName(self):\n",
    "        return self.name\n",
    "\n",
    "    def getAge(self):\n",
    "        return self.age\n",
    "\n",
    "pr = Person(\"鈴木\", 23)    # (2)Personクラスのインスタンス作成\n",
    "\n",
    "n = pr.getName()  # (4)メソッドの呼び出し\n",
    "a = pr.getAge()\n",
    "\n",
    "print(n, \"さんは\", a, \"才です\")"
   ]
  },
  {
   "cell_type": "code",
   "execution_count": null,
   "id": "3d297f7d-fcb6-44ab-84db-a45e854be873",
   "metadata": {},
   "outputs": [],
   "source": [
    "class Person:\n",
    "    def __init__(self, name, age):\n",
    "        self.name = name\n",
    "        self.age = age\n",
    "\n",
    "    def getName(self):\n",
    "        return self.name\n",
    "    def getAge(self):\n",
    "        return self.age\n",
    "\n",
    "pr = Person(\"鈴木\", 23)\n",
    "\n",
    "n = pr.getName()\n",
    "a = pr.getAge()\n",
    "\n",
    "print(n, \"さんは\", a, \"才です。\")"
   ]
  },
  {
   "cell_type": "markdown",
   "id": "0b997b69-91bf-4ee9-9bc0-ddd1b46e2f07",
   "metadata": {},
   "source": [
    "### 8.3クラス変数クラスメソッド"
   ]
  },
  {
   "cell_type": "markdown",
   "id": "62eaaf9d-fb5b-44ce-99cb-1ea5123ab4d9",
   "metadata": {},
   "source": [
    "#### Sample4"
   ]
  },
  {
   "cell_type": "code",
   "execution_count": null,
   "id": "7568aabd-10a1-434f-8d7e-3476eee898cd",
   "metadata": {},
   "outputs": [],
   "source": [
    "class Person:    # (1)Personクラス定義\n",
    "    count = 0\n",
    "\n",
    "    def __init__(self, name, age):\n",
    "        Person.count = Person.count + 1\n",
    "\n",
    "        self.name = name\n",
    "        self.age = age\n",
    "\n",
    "    def getName(self):\n",
    "        return self.name\n",
    "\n",
    "    def getAge(self):\n",
    "        return self.age\n",
    "\n",
    "    @classmethod\n",
    "    def getCount(cls):\n",
    "        return cls.count\n",
    "\n",
    "pr1= Person(\"鈴木\", 23)    # (2)Personクラスのインスタンス作成\n",
    "pr2= Person(\"佐藤\", 38)\n",
    "\n",
    "print(pr1.getName(), \"さんは\", pr1.getAge(),\"才です。\")\n",
    "print(pr2.getName(), \"さんは\", pr2.getAge(),\"才です。\")\n",
    "print(\"合計人数は\", Person.getCount(), \"です。\")"
   ]
  },
  {
   "cell_type": "code",
   "execution_count": null,
   "id": "3871f3a6-6a1d-4231-82f0-e80522741912",
   "metadata": {},
   "outputs": [],
   "source": [
    "class Person:\n",
    "    count = 0 # クラス変数\n",
    "\n",
    "    def __init__(self, name,age):\n",
    "        Person.count = Person.count + 1\n",
    "\n",
    "        self.name = name\n",
    "        self.age = age\n",
    "\n",
    "    def getName(self):\n",
    "        return self.name\n",
    "\n",
    "    def getAge(self):\n",
    "        return self.age\n",
    "\n",
    "    # クラスメソッド\n",
    "    @classmethod\n",
    "    def getCount(cls):\n",
    "        return cls.count\n",
    "\n",
    "pr1 = Person(\"鈴木\", 23)\n",
    "pr2 = Person(\"佐藤\", 38)\n",
    "\n",
    "print(pr1.getName(), \"さんは\", pr1.getAge(), \"才です。\")\n",
    "print(pr2.getName(), \"さんは\", pr2.getAge(), \"才です。\")\n",
    "\n",
    "print(\"合計人数は\", Person.getCount(), \"です。\") # クラスメソッド呼び出し"
   ]
  },
  {
   "cell_type": "markdown",
   "id": "04b07ec6-7597-4bf5-b317-3a56e7a7a133",
   "metadata": {},
   "source": [
    "#### 属性へのアクセスを行わないようにする"
   ]
  },
  {
   "cell_type": "code",
   "execution_count": null,
   "id": "47e9ade4-a4fe-48d2-a29b-61a659247f33",
   "metadata": {},
   "outputs": [],
   "source": [
    "class Person:    # (1)Personクラス定義\n",
    "\n",
    "    def __init__(self, name, age):\n",
    "        self.name = name\n",
    "        self._age = age\n",
    "\n",
    "    def getName(self):\n",
    "        return self.name\n",
    "\n",
    "    def getAge(self):\n",
    "        return self._age\n",
    "\n",
    "pr = Person(\"鈴木\", 23)    # (2)Personクラスのインスタンス作成\n",
    "\n",
    "print(pr.getName(), \"さんは\", pr.getAge(), \"才です\")\n",
    "\n",
    "# -10を代入できる\n",
    "pr._age = -10\n",
    "print(pr.getName(), \"さんは\", pr.getAge(), \"才です\")"
   ]
  },
  {
   "cell_type": "markdown",
   "id": "ea7c7aff-638e-48f4-965a-524fc6d6423b",
   "metadata": {},
   "source": [
    "#### 属性へのｱｸｾｽを制限するには"
   ]
  },
  {
   "cell_type": "code",
   "execution_count": null,
   "id": "e1b25fb8-fabb-498a-9d32-d3172dabb203",
   "metadata": {},
   "outputs": [],
   "source": [
    "class Person:    # (1)Personクラス定義\n",
    "\n",
    "    def __init__(self, name, age):\n",
    "        self.name = name\n",
    "        self.__age = age\n",
    "\n",
    "    def getName(self):\n",
    "        return self.name\n",
    "\n",
    "    def getAge(self):\n",
    "        return self.__age\n",
    "\n",
    "pr = Person(\"鈴木\", 23)    # (2)Personクラスのインスタンス作成\n",
    "\n",
    "print(pr.getName(), \"さんは\", pr.getAge(), \"才です\")\n",
    "\n",
    "# -10を代入できない\n",
    "pr.__age = -10\n",
    "print(pr.getName(), \"さんは\", pr.getAge(), \"才です\")\n",
    "\n",
    "#print(pr.__dict__)"
   ]
  },
  {
   "cell_type": "markdown",
   "id": "3fd6abbb-4827-48d2-a588-61ab3b85f191",
   "metadata": {},
   "source": [
    "#### セッターとゲッターを指定できる"
   ]
  },
  {
   "cell_type": "code",
   "execution_count": null,
   "id": "f2b4a605-0b83-4030-b347-8ea2869d738a",
   "metadata": {},
   "outputs": [],
   "source": [
    "class Person:    # (1)Personクラス定義\n",
    "\n",
    "    def __init__(self, name, age):\n",
    "        self.name = name\n",
    "        self.__age = age\n",
    "\n",
    "    def getName(self):\n",
    "        return self.name\n",
    "\n",
    "    # セッターゲッター\n",
    "    def getAge(self):\n",
    "        return self.__age\n",
    "    def setAge(self, age):\n",
    "        self.__age = age\n",
    "\n",
    "    Age = property(getAge, setAge)\n",
    "\n",
    "pr = Person(\"鈴木\", 23)    # (2)Personクラスのインスタンス作成\n",
    "\n",
    "print(pr.getName(), \"さんは\", pr.getAge(), \"才です\")\n",
    "\n",
    "# -10を代入できない\n",
    "pr.Age = -10\n",
    "print(pr.getName(), \"さんは\", pr.getAge(), \"才です\")"
   ]
  },
  {
   "cell_type": "markdown",
   "id": "e67376a1-ae16-4152-abef-3fe36f8b4509",
   "metadata": {},
   "source": [
    "### __ageに不正な値が入るのを防ぐ"
   ]
  },
  {
   "cell_type": "code",
   "execution_count": null,
   "id": "10e7cf9f-77e2-4353-8f31-670ec22efd28",
   "metadata": {},
   "outputs": [],
   "source": [
    "class Person:    # (1)Personクラス定義\n",
    "\n",
    "    def __init__(self, name, age):\n",
    "        self.name = name\n",
    "        self.__age = age if age >= 0 else 99\n",
    "\n",
    "    def getName(self):\n",
    "        return self.name\n",
    "\n",
    "    # セッターゲッター\n",
    "    def getAge(self):\n",
    "        return self.__age\n",
    "    def setAge(self, age):\n",
    "        if age >= 0:\n",
    "            self.__age = age\n",
    "\n",
    "    Age = property(getAge, setAge)\n",
    "\n",
    "pr = Person(\"鈴木\", 23)    # (2)Personクラスのインスタンス作成\n",
    "\n",
    "print(pr.getName(), \"さんは\", pr.getAge(), \"才です\")\n",
    "\n",
    "# -10を代入できない\n",
    "pr.Age = -10\n",
    "print(pr.getName(), \"さんは\", pr.getAge(), \"才です\")"
   ]
  },
  {
   "cell_type": "markdown",
   "id": "663cbd2b-fcc8-4f4a-9cc2-a18fea890a0e",
   "metadata": {},
   "source": [
    "### 8.5新しいクラス\n",
    "#### 継承のしくみを知る"
   ]
  },
  {
   "cell_type": "markdown",
   "id": "60ca4d2c-bbce-4ec2-950b-b56ad2ae1128",
   "metadata": {},
   "source": [
    "#### Sample5"
   ]
  },
  {
   "cell_type": "code",
   "execution_count": null,
   "id": "8ddb3b40-cba7-45bf-a44f-ef977634f6f4",
   "metadata": {},
   "outputs": [],
   "source": [
    "class Person:    # (1)Personクラス定義\n",
    "\n",
    "    def __init__(self, name, age):\n",
    "        self.name = name\n",
    "        self.age = age\n",
    "\n",
    "    def getName(self):\n",
    "        return self.name\n",
    "\n",
    "    def getAge(self):\n",
    "        return self.age\n",
    "\n",
    "class Customer(Person):\n",
    "    def __init__(self, nm, ag, ad, tl):\n",
    "        super().__init__(nm, ag)\n",
    "\n",
    "        self.adr = ad\n",
    "        self.tel = tl\n",
    "\n",
    "    def getName(self):\n",
    "        return \"顧客:\" + self.name\n",
    "\n",
    "    def getAdr(self):\n",
    "        return self.adr\n",
    "\n",
    "    def getTel(self):\n",
    "        return self.tel\n",
    "\n",
    "pr = Customer(\"鈴木\", 23, \"mmm@nnn.nn.jp\", \"xxx-xxx-xxxx\")\n",
    "\n",
    "nm = pr.getName()\n",
    "ag = pr.getAge()\n",
    "ad = pr.getAdr()\n",
    "tl = pr.getTel()\n",
    "\n",
    "print(nm, \"さんは\", ag, \"才です。\")\n",
    "print(\"アドレスは\", ad, \"電話番号は\", tl, \"です。\")"
   ]
  },
  {
   "cell_type": "markdown",
   "id": "cb3447b2-6e88-4159-80d1-f0da913a3f3d",
   "metadata": {},
   "source": [
    "### コンストラクタ暗黙の呼び出し"
   ]
  },
  {
   "cell_type": "code",
   "execution_count": 1,
   "id": "f16c5c80-5624-46bc-94a0-7f9a0de563cf",
   "metadata": {},
   "outputs": [
    {
     "name": "stdout",
     "output_type": "stream",
     "text": [
      "顧客：鈴木 さんは 23 才です。\n",
      "アドレスは mmm@nnn.nn.jp 電話番号は xxx-xxx-xxxx です。\n"
     ]
    }
   ],
   "source": [
    "class Person:\n",
    " \n",
    "    def __init__(self, name, age, ad, tl):\n",
    "        self.name = name\n",
    "        self.age = age\n",
    "        self.adr = ad\n",
    "        self.tel = tl\n",
    " \n",
    "    def getName(self):\n",
    "        return self.name\n",
    " \n",
    "    def getAge(self):\n",
    "        return self.age\n",
    " \n",
    "class Customer(Person):\n",
    "    \n",
    "    # ここにsuper().__init__(nm,ag) がない\n",
    " \n",
    "    def getName(self):\n",
    "        return \"顧客：\" + self.name\n",
    " \n",
    "    def getAdr(self):\n",
    "        return self.adr\n",
    " \n",
    "    def getTel(self):\n",
    "        return self.tel\n",
    " \n",
    "pr = Customer(\"鈴木\", 23, \"mmm@nnn.nn.jp\", \"xxx-xxx-xxxx\")\n",
    " \n",
    "nm = pr.getName()\n",
    "ag = pr.getAge()\n",
    "ad = pr.getAdr()\n",
    "tl = pr.getTel()\n",
    " \n",
    "print(nm, \"さんは\", ag, \"才です。\")\n",
    "print(\"アドレスは\", ad, \"電話番号は\", tl, \"です。\")\n",
    " "
   ]
  },
  {
   "cell_type": "code",
   "execution_count": null,
   "id": "8803766b-f3f2-4ab6-95f9-a7bd9219e261",
   "metadata": {},
   "outputs": [],
   "source": [
    "class Person:    # (1)Personクラス定義\n",
    "\n",
    "    def __init__(self, name, age, ad, tl):\n",
    "        self.name = name\n",
    "        self.age = age\n",
    "        self.adr = ad\n",
    "        self.tel = tl\n",
    "\n",
    "    def getName(self):\n",
    "        return self.name\n",
    "\n",
    "    def getAge(self):\n",
    "        return self.age\n",
    "\n",
    "class Customer(Person):\n",
    "    # def __init__(self, nm, ag, ad, tl):\n",
    "    #     super().__init__(nm, ag)\n",
    "\n",
    "        # self.adr = ad\n",
    "        # self.tel = tl\n",
    "\n",
    "    def getName(self):\n",
    "        return \"顧客:\" + self.name\n",
    "\n",
    "    def getAdr(self):\n",
    "        return self.adr\n",
    "\n",
    "    def getTel(self):\n",
    "        return self.tel\n",
    "\n",
    "pr = Customer(\"鈴木\", 23, \"mmm@nnn.nn.jp\", \"xxx-xxx-xxxx\")\n",
    "\n",
    "nm = pr.getName()\n",
    "ag = pr.getAge()\n",
    "ad = pr.getAdr()\n",
    "tl = pr.getTel()\n",
    "\n",
    "print(nm, \"さんは\", ag, \"才です。\")\n",
    "print(\"アドレスは\", ad, \"電話番号は\", tl, \"です。\")"
   ]
  },
  {
   "cell_type": "code",
   "execution_count": null,
   "id": "d8ba620a-601f-4261-b98b-2f773acf707a",
   "metadata": {},
   "outputs": [],
   "source": [
    "# 基底クラス\n",
    "class Person:\n",
    "    def __init__(self, name, age):\n",
    "        self.name = name\n",
    "        self.age = age\n",
    "\n",
    "    def getName(self):\n",
    "        return self.name\n",
    "\n",
    "    def getAge(self):\n",
    "        return self.age\n",
    "\n",
    "# 派生クラス\n",
    "class Customer(Person):\n",
    "    def __init__(self, nm, ag, ad, tl):\n",
    "        super().__init__(nm, ag)# 基底クラスのコンストラクタ呼び出し\n",
    "\n",
    "        self.adr = ad #追加するデータ属性\n",
    "        self.tel = tl\n",
    "\n",
    "    def getName(self):# PersonクラスのgetName()メソッドをオーバーライド\n",
    "        return \"顧客：\" + self.name\n",
    "\n",
    "    def getAdr(self):\n",
    "        return self.adr\n",
    "\n",
    "    def getTel(self):\n",
    "        return self.tel\n",
    "\n",
    "pr = Customer(\"鈴木\", 23, \"mmm@nnn.nn.jp\", \"xxx-xxx-xxxx\")\n",
    "\n",
    "nm = pr.getName()\n",
    "ag = pr.getAge()\n",
    "ad = pr.getAdr()\n",
    "tl = pr.getTel()\n",
    "\n",
    "print(nm, \"さんは\", ag, \"才です。\")\n",
    "print(\"アドレスは\", ad, \"電話番号は\", tl, \"です。\")"
   ]
  },
  {
   "cell_type": "markdown",
   "id": "fbbe1d0d-5a06-4383-8bbd-8afc44479ff3",
   "metadata": {},
   "source": [
    "### 特殊なメソッド"
   ]
  },
  {
   "cell_type": "code",
   "execution_count": 2,
   "id": "b972d7d2-aeb1-4343-8935-674291045321",
   "metadata": {},
   "outputs": [
    {
     "name": "stdout",
     "output_type": "stream",
     "text": [
      "鈴木さん\n"
     ]
    }
   ],
   "source": [
    "class Person:\n",
    "    def __init__(self,name, age):\n",
    "        self.name = name\n",
    "        self.age = age\n",
    "        \n",
    "    def __str__(self):\n",
    "        str = self.name + \"さん\"\n",
    "        return str\n",
    "\n",
    "pr = Person(\"鈴木\", 23)\n",
    "#str()関数でPersonクラスに定義された_ _str_ _を呼び出します\n",
    "print(str(pr))"
   ]
  },
  {
   "cell_type": "markdown",
   "id": "752b3183-4354-465b-809c-93d98bdd3ea5",
   "metadata": {},
   "source": [
    "### 演算子の処理"
   ]
  },
  {
   "cell_type": "code",
   "execution_count": null,
   "id": "139715d9-1dd8-4a61-ae29-93ec83108c7b",
   "metadata": {},
   "outputs": [],
   "source": [
    "class A:\n",
    "    def __init__(self, num):\n",
    "        self.num = num\n",
    "\n",
    "    # +演算子\n",
    "    def __add__(self, other):\n",
    "        return self.num + other.num\n",
    "\n",
    "    # -演算子\n",
    "    def __sub__(self, other):\n",
    "        return self.num - other.num\n",
    "\n",
    "a1 = A(1)\n",
    "a2 = A(2)\n",
    "print(a1 + a2)\n",
    "print(a1 - a2)"
   ]
  },
  {
   "cell_type": "code",
   "execution_count": 6,
   "id": "f6bfe3d4-b0ff-4380-9c1a-b9abf4f40a69",
   "metadata": {},
   "outputs": [
    {
     "name": "stdout",
     "output_type": "stream",
     "text": [
      "鈴木佐藤\n"
     ]
    }
   ],
   "source": [
    "class Str:\n",
    "    def __init__(self, str):\n",
    "        self.str = str\n",
    "    \n",
    "    def __add__(self, other):\n",
    "        return self.str + other.str\n",
    "\n",
    "a1 = Str(\"鈴木\")\n",
    "a2 = Str(\"佐藤\")\n",
    "print( a1 + a2 )"
   ]
  },
  {
   "cell_type": "markdown",
   "id": "55aeb523-8a32-490f-9375-8dc4fb22bdbe",
   "metadata": {},
   "source": [
    "###  __iter__メソッド"
   ]
  },
  {
   "cell_type": "code",
   "execution_count": 7,
   "id": "2739c0e2-4340-4326-b536-18cb33e10875",
   "metadata": {},
   "outputs": [
    {
     "name": "stdout",
     "output_type": "stream",
     "text": [
      "Apple\n",
      "Banana\n",
      "Grape\n",
      "Lemon\n"
     ]
    }
   ],
   "source": [
    "class Fruit:\n",
    "    def __init__(self):\n",
    "        self._list = ['Apple', 'Banana', 'Grape', 'Lemon']\n",
    " \n",
    "    def __iter__(self):  # iter()で呼び出されるメソッド\n",
    "        # list_iterator を返す。\n",
    "        #return iter(self._list)\n",
    "        \n",
    "        # generator objectを返す。\n",
    "        return (f for f in self._list)\n",
    " \n",
    "fruits = Fruit()\n",
    " \n",
    "for fr in fruits:\n",
    "    print(fr)\n",
    " "
   ]
  },
  {
   "cell_type": "markdown",
   "id": "1031a12c-a7cf-45c5-9446-482e28b8b2a2",
   "metadata": {},
   "source": [
    "### __call__メソッド"
   ]
  },
  {
   "cell_type": "code",
   "execution_count": 8,
   "id": "05222490-a320-4fdd-b93e-0740ea1bc78f",
   "metadata": {},
   "outputs": [
    {
     "name": "stdout",
     "output_type": "stream",
     "text": [
      "Hello C\n",
      "Called by c\n"
     ]
    }
   ],
   "source": [
    "class C:\n",
    "    def __call__(self, msg = \"Hello C\"):\n",
    "        print(msg)\n",
    " \n",
    "c = C()\n",
    "c()\n",
    "c(\"Called by c\")"
   ]
  },
  {
   "cell_type": "code",
   "execution_count": null,
   "id": "1e0eb0ab-582e-4d64-ae45-0266a034e474",
   "metadata": {},
   "outputs": [],
   "source": []
  },
  {
   "cell_type": "markdown",
   "id": "b34bf711-7cc3-4ea4-aba0-f84204d58ded",
   "metadata": {},
   "source": [
    "### Sample6"
   ]
  },
  {
   "cell_type": "code",
   "execution_count": null,
   "id": "442ebba2-8a98-43ea-b136-139544ddd415",
   "metadata": {},
   "outputs": [],
   "source": [
    "import myclass\n",
    "\n",
    "pr = myclass.Customer(\"鈴木\", 23, \"mmm@nnn.nn.jp\", \"xxx-xxxx-xxxx\")\n",
    "\n",
    "nm = pr.getName()\n",
    "ag = pr.getAge()\n",
    "ad = pr.getAdr()\n",
    "tl = pr.getTel()\n",
    "\n",
    "print(nm, \"さんは\", ag, \"才です。\")\n",
    "print(\"アドレスは\", ad, \"電話番号は\", tl, \"です。\")"
   ]
  },
  {
   "cell_type": "markdown",
   "id": "4eab060c-3db7-42a4-adb8-be6b26177769",
   "metadata": {},
   "source": [
    "### モジュール名に名前をつける"
   ]
  },
  {
   "cell_type": "code",
   "execution_count": null,
   "id": "bb75e2d4-ddd0-413a-8069-f2824bf2a01a",
   "metadata": {},
   "outputs": [],
   "source": [
    "import myclass as my\n",
    "\n",
    "pr1 = my.Customer(\"佐藤\", 35, \"aaa@dd.bb.jp\",\"yyy-yyyy-yyyy\")\n",
    "\n",
    "nm = pr1.getName()\n",
    "ag = pr1.getAge()\n",
    "ad = pr1.getAdr()\n",
    "tl = pr1.getTel()\n",
    "\n",
    "print(nm, \"さんは\", ag, \"才です。\")\n",
    "print(\"アドレスは\", ad, \"電話番号は\", tl, \"です。\")"
   ]
  },
  {
   "cell_type": "markdown",
   "id": "5c39214c-0eb6-454a-a0e4-ddbaa8037616",
   "metadata": {},
   "source": [
    "### 直接インポートする"
   ]
  },
  {
   "cell_type": "code",
   "execution_count": null,
   "id": "c3a01176-813b-407c-86dc-7cc569e07b72",
   "metadata": {},
   "outputs": [],
   "source": [
    "from myclass import Customer\n",
    "\n",
    "pr = Customer(\"鈴木\", 23, \"mmm@nnn.nn.jp\", \"xxx-xxxx-xxxx\")\n",
    "\n",
    "nm = pr.getName()\n",
    "ag = pr.getAge()\n",
    "ad = pr.getAdr()\n",
    "tl = pr.getTel()\n",
    "\n",
    "print(nm, \"さんは\", ag, \"才です。\")\n",
    "print(\"アドレスは\", ad, \"電話番号は\", tl, \"です。\")"
   ]
  },
  {
   "cell_type": "markdown",
   "id": "aa8bef6f-4691-47d0-a809-ffa4b672bf95",
   "metadata": {},
   "source": [
    "### まとめてインポート"
   ]
  },
  {
   "cell_type": "code",
   "execution_count": null,
   "id": "0913a489-3f4f-4734-bbff-4baa6f6315c3",
   "metadata": {},
   "outputs": [],
   "source": [
    "from myclass import *\n",
    "\n",
    "pr = Customer(\"鈴木\", 23, \"mmm@nnn.nn.jp\", \"xxx-xxxx-xxxx\")\n",
    "\n",
    "nm = pr.getName()\n",
    "ag = pr.getAge()\n",
    "ad = pr.getAdr()\n",
    "tl = pr.getTel()\n",
    "\n",
    "print(nm, \"さんは\", ag, \"才です。\")\n",
    "print(\"アドレスは\", ad, \"電話番号は\", tl, \"です。\")"
   ]
  },
  {
   "cell_type": "markdown",
   "id": "d9bdeeb3-d0ed-493d-8967-cbb4d7facafa",
   "metadata": {},
   "source": [
    "### パッケージ"
   ]
  },
  {
   "cell_type": "code",
   "execution_count": null,
   "id": "b141d27f-10f6-431f-9f7e-9dc2f0d669b9",
   "metadata": {},
   "outputs": [],
   "source": [
    "import mydir.myclass\n",
    "\n",
    "pr = mydir.myclass.Customer(\"鈴木\", 23, \"mmm@nnn.nn.jp\", \"xxx-xxxx-xxxx\")\n",
    "\n",
    "nm = pr.getName()\n",
    "ag = pr.getAge()\n",
    "ad = pr.getAdr()\n",
    "tl = pr.getTel()\n",
    "\n",
    "print(nm, \"さんは\", ag, \"才です。\")\n",
    "print(\"アドレスは\", ad, \"電話番号は\", tl, \"です。\")"
   ]
  },
  {
   "cell_type": "markdown",
   "id": "8f8eac9c-148c-43e1-978c-53fe16a4d5b2",
   "metadata": {},
   "source": [
    "### モジュールを直接インポート"
   ]
  },
  {
   "cell_type": "code",
   "execution_count": null,
   "id": "3f5c9733-8529-427a-a631-f05fd427dd00",
   "metadata": {},
   "outputs": [],
   "source": [
    "from mydir import myclass\n",
    "\n",
    "pr = myclass.Customer(\"鈴木\", 23, \"mmm@nnn.nn.jp\", \"xxx-xxxx-xxxx\")\n",
    "\n",
    "nm = pr.getName()\n",
    "ag = pr.getAge()\n",
    "ad = pr.getAdr()\n",
    "tl = pr.getTel()\n",
    "\n",
    "print(nm, \"さんは\", ag, \"才です。\")\n",
    "print(\"アドレスは\", ad, \"電話番号は\", tl, \"です。\")"
   ]
  },
  {
   "cell_type": "markdown",
   "id": "2d44474c-2fcd-4f9d-92b0-ec67a438a65a",
   "metadata": {},
   "source": [
    "### Sample7"
   ]
  },
  {
   "cell_type": "code",
   "execution_count": null,
   "id": "27d99bc5-8d14-43b8-b3f6-dd224695d129",
   "metadata": {},
   "outputs": [],
   "source": [
    "import calendar # 標準ライブラリのカレンダーモジュールをインポート\n",
    "\n",
    "c = calendar.TextCalendar()\n",
    "c.prmonth(2024, 1)"
   ]
  },
  {
   "cell_type": "markdown",
   "id": "fe83a8c8-8eb6-4e56-9d75-9daca6da6f8a",
   "metadata": {},
   "source": [
    "## 練習１"
   ]
  },
  {
   "cell_type": "code",
   "execution_count": 12,
   "id": "3f224be0-a023-41ae-af7f-7cad79aecd50",
   "metadata": {},
   "outputs": [
    {
     "name": "stdout",
     "output_type": "stream",
     "text": [
      "ナンバーは 1234 ガソリン量は 25.5 です。\n",
      "ナンバーは 2345 ガソリン量は 30.5 です。\n"
     ]
    }
   ],
   "source": [
    "class Car:\n",
    "    def __init__(self, number, gas):\n",
    "        self.number = number\n",
    "        self.gas = gas\n",
    "\n",
    "    def setNumber(self, num):\n",
    "        self.number = num\n",
    "    def getNumber(self):\n",
    "        return self.number\n",
    "\n",
    "    def setGas(self, gas):\n",
    "        self.gas = gas\n",
    "    def getGas(self):\n",
    "        return self.gas\n",
    "\n",
    "c1 = Car(1234, 25.5)\n",
    "c2 = Car(2345, 30.5)\n",
    "\n",
    "print(\"ナンバーは\", c1.getNumber(), \"ガソリン量は\", c1.getGas(), \"です。\")\n",
    "print(\"ナンバーは\", c2.getNumber(), \"ガソリン量は\", c2.getGas(), \"です。\")"
   ]
  }
 ],
 "metadata": {
  "kernelspec": {
   "display_name": "Python 3 (ipykernel)",
   "language": "python",
   "name": "python3"
  },
  "language_info": {
   "codemirror_mode": {
    "name": "ipython",
    "version": 3
   },
   "file_extension": ".py",
   "mimetype": "text/x-python",
   "name": "python",
   "nbconvert_exporter": "python",
   "pygments_lexer": "ipython3",
   "version": "3.9.18"
  }
 },
 "nbformat": 4,
 "nbformat_minor": 5
}
