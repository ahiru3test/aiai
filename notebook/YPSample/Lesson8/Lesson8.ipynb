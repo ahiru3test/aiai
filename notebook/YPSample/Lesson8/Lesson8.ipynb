{
 "cells": [
  {
   "cell_type": "markdown",
   "metadata": {},
   "source": [
    "### Lesson8"
   ]
  },
  {
   "cell_type": "markdown",
   "metadata": {},
   "source": [
    "### Sample1"
   ]
  },
  {
   "cell_type": "code",
   "execution_count": 7,
   "metadata": {},
   "outputs": [
    {
     "name": "stdout",
     "output_type": "stream",
     "text": [
      "鈴木 さんは 23 才です。\n",
      "佐藤 さんは 38 才です。\n"
     ]
    }
   ],
   "source": [
    "class Person:\n",
    "  def getName(self):\n",
    "    return self.name\n",
    "  def getAge(self):\n",
    "    return self.age\n",
    "\n",
    "pr =Person()\n",
    "pr.name =\"鈴木\"\n",
    "pr.age = 23\n",
    "\n",
    "\n",
    "print(pr.getName(),\"さんは\",pr.getAge(),\"才です。\")\n",
    "\n",
    "\n",
    "pr2 =Person()\n",
    "pr2.name =\"佐藤\"\n",
    "pr2.age = 38\n",
    "\n",
    "\n",
    "print(pr2.getName(),\"さんは\",pr2.getAge(),\"才です。\")\n"
   ]
  },
  {
   "cell_type": "markdown",
   "metadata": {},
   "source": [
    "### Sample3"
   ]
  },
  {
   "cell_type": "code",
   "execution_count": 8,
   "metadata": {},
   "outputs": [
    {
     "name": "stdout",
     "output_type": "stream",
     "text": [
      "鈴木 さんは 23 才です。\n"
     ]
    }
   ],
   "source": [
    "class Person:\n",
    "  def __init__(self,name,age):\n",
    "    self.name= name\n",
    "    self.age = age\n",
    "  def getName(self):\n",
    "    return self.name\n",
    "  def getAge(self):\n",
    "    return self.age\n",
    "\n",
    "pr =Person(\"鈴木\",23)\n",
    "\n",
    "print(pr.getName(),\"さんは\",pr.getAge(),\"才です。\")\n"
   ]
  },
  {
   "cell_type": "markdown",
   "metadata": {},
   "source": [
    "### Sample4"
   ]
  },
  {
   "cell_type": "code",
   "execution_count": 11,
   "metadata": {},
   "outputs": [
    {
     "name": "stdout",
     "output_type": "stream",
     "text": [
      "鈴木 さんは 23 才です。\n",
      "佐藤 さんは 38 才です。\n",
      "合計人数は 2 です。\n"
     ]
    }
   ],
   "source": [
    "class Person:\n",
    "  count=0\n",
    "\n",
    "  def __init__(self,name,age):\n",
    "    Person.count = Person.count+1\n",
    "    self.name= name\n",
    "    self.age = age\n",
    "  def getName(self):\n",
    "    return self.name\n",
    "  def getAge(self):\n",
    "    return self.age\n",
    "  @classmethod\n",
    "  def getCount(cls):\n",
    "    return cls.count\n",
    "\n",
    "pr1 =Person(\"鈴木\",23)\n",
    "pr2 =Person(\"佐藤\",38)\n",
    "\n",
    "print(pr1.getName(),\"さんは\",pr1.getAge(),\"才です。\")\n",
    "print(pr2.getName(),\"さんは\",pr2.getAge(),\"才です。\")\n",
    "print(\"合計人数は\",Person.getCount(),\"です。\")\n"
   ]
  },
  {
   "cell_type": "code",
   "execution_count": 18,
   "metadata": {},
   "outputs": [
    {
     "name": "stdout",
     "output_type": "stream",
     "text": [
      "鈴木 さんは 23 才です。\n",
      "佐藤 さんは 38 才です。\n",
      "合計人数は 2 です。\n"
     ]
    }
   ],
   "source": [
    "class Person:\n",
    "  count=0\n",
    "\n",
    "  def __init__(self,name,age):\n",
    "    Person.count = Person.count+1\n",
    "    self.name= name\n",
    "    self.__age = age\n",
    "\n",
    "  def getName(self):\n",
    "    return self.name\n",
    "  \n",
    "  def getAge(self):\n",
    "    return self.__age\n",
    "  def setAge(self,age):\n",
    "    self.__age = age\n",
    "  \n",
    "  Age = property(getAge,setAge)\n",
    "  # property(getAge,setAge)\n",
    "  \n",
    "  @classmethod\n",
    "  def getCount(cls):\n",
    "    return cls.count\n",
    "\n",
    "pr1 =Person(\"鈴木\",23)\n",
    "pr2 =Person(\"佐藤\",38)\n",
    "\n",
    "print(pr1.name,\"さんは\",pr1.Age,\"才です。\")\n",
    "print(pr2.name,\"さんは\",pr2.Age,\"才です。\")\n",
    "print(\"合計人数は\",Person.getCount(),\"です。\")\n"
   ]
  },
  {
   "cell_type": "markdown",
   "metadata": {},
   "source": [
    "### Sample5"
   ]
  },
  {
   "cell_type": "code",
   "execution_count": 22,
   "metadata": {},
   "outputs": [
    {
     "name": "stdout",
     "output_type": "stream",
     "text": [
      "顧客：鈴木 さんは 23 才です。\n",
      "アドレスは mmm@nnn.nn.jp 電話番号は xxx-xxx-xxxx です。\n"
     ]
    }
   ],
   "source": [
    "class Person:\n",
    "  def __init__(self,name,age):\n",
    "    self.name = name\n",
    "    self.age = age\n",
    "  \n",
    "  def getName(self):\n",
    "    return self.name\n",
    "  \n",
    "  def getAge(self):\n",
    "    return self.age\n",
    "\n",
    "class Customer(Person):\n",
    "  def __init__(self,nm,ag,ad,tl):\n",
    "    super().__init__(nm,ag)\n",
    "    self.adr = ad\n",
    "    self.tel = tl\n",
    "\n",
    "  def getName(self):\n",
    "    return \"顧客：\"+self.name\n",
    "  \n",
    "  def getAdr(self):\n",
    "    return self.adr\n",
    "  \n",
    "  def getTel(self):\n",
    "    return self.tel\n",
    "\n",
    "pr = Customer(\"鈴木\",23,\"mmm@nnn.nn.jp\",\"xxx-xxx-xxxx\")\n",
    "nm = pr.getName()\n",
    "ag = pr.getAge()\n",
    "ad = pr.getAdr()\n",
    "tl = pr.getTel()\n",
    "\n",
    "print(nm,\"さんは\",ag,\"才です。\")\n",
    "print(\"アドレスは\",ad,\"電話番号は\",tl,\"です。\")\n"
   ]
  }
 ],
 "metadata": {
  "kernelspec": {
   "display_name": "py39",
   "language": "python",
   "name": "python3"
  },
  "language_info": {
   "codemirror_mode": {
    "name": "ipython",
    "version": 3
   },
   "file_extension": ".py",
   "mimetype": "text/x-python",
   "name": "python",
   "nbconvert_exporter": "python",
   "pygments_lexer": "ipython3",
   "version": "3.9.18"
  }
 },
 "nbformat": 4,
 "nbformat_minor": 2
}
