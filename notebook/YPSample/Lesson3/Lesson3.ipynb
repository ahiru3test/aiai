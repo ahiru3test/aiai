{
 "cells": [
  {
   "cell_type": "markdown",
   "metadata": {},
   "source": [
    "#### Sample1"
   ]
  },
  {
   "cell_type": "code",
   "execution_count": 3,
   "metadata": {},
   "outputs": [
    {
     "name": "stdout",
     "output_type": "stream",
     "text": [
      "売り上げは 10 万円です。\n"
     ]
    }
   ],
   "source": [
    "sale=10\n",
    "print(\"売り上げは\",sale,\"万円です。\")"
   ]
  },
  {
   "cell_type": "code",
   "execution_count": 4,
   "metadata": {},
   "outputs": [
    {
     "data": {
      "text/plain": [
       "10"
      ]
     },
     "execution_count": 4,
     "metadata": {},
     "output_type": "execute_result"
    }
   ],
   "source": [
    "sale"
   ]
  },
  {
   "cell_type": "markdown",
   "metadata": {},
   "source": [
    "#### Sample2"
   ]
  },
  {
   "cell_type": "code",
   "execution_count": 5,
   "metadata": {},
   "outputs": [
    {
     "name": "stdout",
     "output_type": "stream",
     "text": [
      "売上は 10 万円です。\n",
      "売上の値を変更します。\n",
      "売上は 20 万円です。\n"
     ]
    }
   ],
   "source": [
    "sale=10\n",
    "print(\"売上は\",sale,\"万円です。\")\n",
    "print(\"売上の値を変更します。\")\n",
    "sale = 20\n",
    "print(\"売上は\" , sale , \"万円です。\")\n"
   ]
  },
  {
   "cell_type": "markdown",
   "metadata": {},
   "source": [
    "#### Sample3"
   ]
  },
  {
   "cell_type": "code",
   "execution_count": 7,
   "metadata": {},
   "outputs": [
    {
     "name": "stdout",
     "output_type": "stream",
     "text": [
      "東京 支店の売上は 10 万円です。\n"
     ]
    }
   ],
   "source": [
    "name=\"東京\"\n",
    "sale=10\n",
    "print(name,\"支店の売上は\",sale, \"万円です。\")"
   ]
  },
  {
   "cell_type": "code",
   "execution_count": 12,
   "metadata": {},
   "outputs": [
    {
     "name": "stdout",
     "output_type": "stream",
     "text": [
      "<class 'str'> , <class 'int'>\n"
     ]
    }
   ],
   "source": [
    "print(type(name),\",\",type(sale))"
   ]
  },
  {
   "cell_type": "markdown",
   "metadata": {},
   "source": [
    "#### Sample4"
   ]
  },
  {
   "cell_type": "code",
   "execution_count": 18,
   "metadata": {},
   "outputs": [
    {
     "name": "stdout",
     "output_type": "stream",
     "text": [
      "1+2は\n"
     ]
    },
    {
     "data": {
      "text/plain": [
       "(None, 3, 'です')"
      ]
     },
     "execution_count": 18,
     "metadata": {},
     "output_type": "execute_result"
    }
   ],
   "source": [
    "print(\"1+2は\"),1+2,\"です\""
   ]
  },
  {
   "cell_type": "markdown",
   "metadata": {},
   "source": [
    "#### Sample5"
   ]
  },
  {
   "cell_type": "code",
   "execution_count": 21,
   "metadata": {},
   "outputs": [
    {
     "name": "stdout",
     "output_type": "stream",
     "text": [
      "単価は 50 円です。\n",
      "売上個数は 10 個です。\n",
      "合計金額は 500 円です。\n",
      "値引きすると 400 円です。\n"
     ]
    }
   ],
   "source": [
    "price =50\n",
    "num=10\n",
    "total=price *num\n",
    "print(\"単価は\",price, \"円です。\")\n",
    "print(\"売上個数は\",num,\"個です。\")\n",
    "print(\"合計金額は\",total,\"円です。\")\n",
    "\n",
    "total=total-100\n",
    "\n",
    "print(\"値引きすると\",total,\"円です。\")"
   ]
  },
  {
   "cell_type": "code",
   "execution_count": null,
   "metadata": {},
   "outputs": [],
   "source": [
    "@\n",
    "+\n",
    "-\n",
    "~\n",
    "|\n",
    "&\n",
    "^\n",
    "<<\n",
    ">>"
   ]
  },
  {
   "cell_type": "markdown",
   "metadata": {},
   "source": [
    "#### Sample6"
   ]
  },
  {
   "cell_type": "code",
   "execution_count": 62,
   "metadata": {},
   "outputs": [
    {
     "name": "stdout",
     "output_type": "stream",
     "text": [
      "num1+num2は 15 です。\n",
      "num1-num2は 5 です。\n",
      "num1*num2は 50 です。\n",
      "num1/num2は 2.0 です。\n",
      "num1+num2は 15 です。\n",
      "\n",
      "+(num3)は -2 です。\n",
      "-(num3)は 2 です。\n",
      "~num5は -6 です。\n",
      "num5|num6は 5 です。\n",
      "num5&num6は 4 です。\n",
      "num5&num6は 1 です。\n",
      "num5&num6は 10 です。\n",
      "num5&num6は 2 です。\n"
     ]
    }
   ],
   "source": [
    "num1=10\n",
    "num2=5\n",
    "num3=-2\n",
    "num4=1\n",
    "num5=0b0101\n",
    "num6=0b0100\n",
    "\n",
    "print(\"num1+num2は\",num1+num2 ,\"です。\")\n",
    "print(\"num1-num2は\",num1-num2 ,\"です。\")\n",
    "print(\"num1*num2は\",num1*num2 ,\"です。\")\n",
    "print(\"num1/num2は\",num1/num2 ,\"です。\")\n",
    "print(\"num1+num2は\",num1+num2 ,\"です。\")\n",
    "print()\n",
    "print(\"+(num3)は\",+(num3) ,\"です。\")\n",
    "print(\"-(num3)は\",-(num3) ,\"です。\")\n",
    "print(\"~num5は\",~num5 ,\"です。\")\n",
    "print(\"num5|num6は\", num5|num6 ,\"です。\")\n",
    "print(\"num5&num6は\", num5&num6 ,\"です。\")\n",
    "print(\"num5^num6は\", num5^num6 ,\"です。\")\n",
    "print(\"num5<<num6は\", num5<<1 ,\"です。\")\n",
    "print(\"num5>>num6は\", num6>>1,\"です。\")\n"
   ]
  },
  {
   "cell_type": "markdown",
   "metadata": {},
   "source": [
    "#### Sample7"
   ]
  },
  {
   "cell_type": "code",
   "execution_count": 46,
   "metadata": {},
   "outputs": [
    {
     "name": "stdout",
     "output_type": "stream",
     "text": [
      "売上：〇〇〇〇〇〇〇〇〇〇\n",
      "10 万円の売上があります。\n",
      "10型変換して足す\n"
     ]
    }
   ],
   "source": [
    "num=10\n",
    "pic=\"〇\"\n",
    "graph = pic *num\n",
    "print(\"売上：\"+graph)\n",
    "print(num, \"万円の売上があります。\")\n",
    "print(str(num) + \"型変換して足す\")"
   ]
  },
  {
   "cell_type": "markdown",
   "metadata": {},
   "source": [
    "#### Sample8"
   ]
  },
  {
   "cell_type": "code",
   "execution_count": 4,
   "metadata": {},
   "outputs": [
    {
     "name": "stdout",
     "output_type": "stream",
     "text": [
      "10 が入力されました。\n"
     ]
    }
   ],
   "source": [
    "n=input(\"値を入力してください。\")\n",
    "print(n,\"が入力されました。\")"
   ]
  },
  {
   "cell_type": "markdown",
   "metadata": {},
   "source": [
    "#### Sample9"
   ]
  },
  {
   "cell_type": "code",
   "execution_count": 10,
   "metadata": {},
   "outputs": [
    {
     "name": "stdout",
     "output_type": "stream",
     "text": [
      "1.1 + 2.2 は 3.3000000000000003 です。\n"
     ]
    }
   ],
   "source": [
    "num1=input(\"数値１を入力してください。\")\n",
    "num2=input(\"数値２を入力してください。\")\n",
    "num3=float(num1)+float(num2)\n",
    "print(num1,\"+\",num2,\"は\",num3,\"です。\")\n"
   ]
  },
  {
   "cell_type": "code",
   "execution_count": 11,
   "metadata": {},
   "outputs": [
    {
     "name": "stdout",
     "output_type": "stream",
     "text": [
      "1.1 + 2.2 は本当は 3.3 です。\n"
     ]
    }
   ],
   "source": [
    "from decimal import *\n",
    "\n",
    "num1=input(\"数値１を入力してください。\")\n",
    "num2=input(\"数値２を入力してください。\")\n",
    "num4=Decimal(num1)+Decimal(num2)\n",
    "print(num1,\"+\",num2,\"は本当は\",num4,\"です。\")\n"
   ]
  },
  {
   "cell_type": "markdown",
   "metadata": {},
   "source": [
    "#### 練習"
   ]
  },
  {
   "cell_type": "code",
   "execution_count": 14,
   "metadata": {},
   "outputs": [
    {
     "name": "stdout",
     "output_type": "stream",
     "text": [
      "You are  23  years old.\n"
     ]
    }
   ],
   "source": [
    "print(\"You are \",int(input(\"How old are you?\")),\" years old.\")"
   ]
  },
  {
   "cell_type": "code",
   "execution_count": 1,
   "metadata": {},
   "outputs": [
    {
     "name": "stdout",
     "output_type": "stream",
     "text": [
      "Your height is  170.0  cm.  Your weight is  70.0  kg.\n"
     ]
    }
   ],
   "source": [
    "print(\"Your height is \",float(input(\"How tall are you?\")),\" cm.\",\" Your weight is \",float(input(\"How much do you weigh?\")),\" kg.\")"
   ]
  }
 ],
 "metadata": {
  "kernelspec": {
   "display_name": "py39",
   "language": "python",
   "name": "python3"
  },
  "language_info": {
   "codemirror_mode": {
    "name": "ipython",
    "version": 3
   },
   "file_extension": ".py",
   "mimetype": "text/x-python",
   "name": "python",
   "nbconvert_exporter": "python",
   "pygments_lexer": "ipython3",
   "version": "3.9.18"
  }
 },
 "nbformat": 4,
 "nbformat_minor": 2
}
