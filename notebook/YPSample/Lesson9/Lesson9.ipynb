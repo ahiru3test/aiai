{
 "cells": [
  {
   "cell_type": "code",
   "execution_count": 128,
   "id": "525897e2-541e-4f55-b38f-34193f1b450c",
   "metadata": {
    "scrolled": true
   },
   "outputs": [
    {
     "data": {
      "text/plain": [
       "'Hello'"
      ]
     },
     "execution_count": 128,
     "metadata": {},
     "output_type": "execute_result"
    }
   ],
   "source": [
    "str_ = \"Hello\"\n",
    "# str_[0]\n",
    "str_"
   ]
  },
  {
   "cell_type": "code",
   "execution_count": 129,
   "id": "cd470ad6-6825-41e5-a508-f0aa87e44b7a",
   "metadata": {},
   "outputs": [
    {
     "data": {
      "text/plain": [
       "1886288310000"
      ]
     },
     "execution_count": 129,
     "metadata": {},
     "output_type": "execute_result"
    }
   ],
   "source": [
    "id(str_)"
   ]
  },
  {
   "cell_type": "code",
   "execution_count": 130,
   "id": "e5b694ce-45ec-4323-842f-45422558082b",
   "metadata": {
    "scrolled": true
   },
   "outputs": [
    {
     "data": {
      "text/plain": [
       "'HELLO'"
      ]
     },
     "execution_count": 130,
     "metadata": {},
     "output_type": "execute_result"
    }
   ],
   "source": [
    "str_ = \"HELLO\"\n",
    "str_"
   ]
  },
  {
   "cell_type": "code",
   "execution_count": 131,
   "id": "35dd0ddf-cc68-464a-9db8-428e82009dfc",
   "metadata": {},
   "outputs": [
    {
     "data": {
      "text/plain": [
       "1886287975024"
      ]
     },
     "execution_count": 131,
     "metadata": {},
     "output_type": "execute_result"
    }
   ],
   "source": [
    "id(str_)"
   ]
  },
  {
   "cell_type": "code",
   "execution_count": 132,
   "id": "633e7fde-c9eb-4741-92e8-8f83be91b570",
   "metadata": {},
   "outputs": [
    {
     "data": {
      "text/plain": [
       "'Hello'"
      ]
     },
     "execution_count": 132,
     "metadata": {},
     "output_type": "execute_result"
    }
   ],
   "source": [
    "s = \"Hello\"\n",
    "s"
   ]
  },
  {
   "cell_type": "code",
   "execution_count": 133,
   "id": "bab8de97-b839-4405-b561-3df56d665bed",
   "metadata": {},
   "outputs": [
    {
     "data": {
      "text/plain": [
       "1886288310000"
      ]
     },
     "execution_count": 133,
     "metadata": {},
     "output_type": "execute_result"
    }
   ],
   "source": [
    "id(s)"
   ]
  },
  {
   "cell_type": "code",
   "execution_count": 134,
   "id": "01a19de0-70a4-459a-a3f0-4c2022cbebea",
   "metadata": {},
   "outputs": [
    {
     "data": {
      "text/plain": [
       "'ELLO'"
      ]
     },
     "execution_count": 134,
     "metadata": {},
     "output_type": "execute_result"
    }
   ],
   "source": [
    "str_[1:5]"
   ]
  },
  {
   "cell_type": "code",
   "execution_count": 4,
   "id": "e312a493-c28e-413b-add5-1411dd4c65b1",
   "metadata": {},
   "outputs": [
    {
     "data": {
      "text/plain": [
       "'olleH'"
      ]
     },
     "execution_count": 4,
     "metadata": {},
     "output_type": "execute_result"
    }
   ],
   "source": [
    "str_[::-1]"
   ]
  },
  {
   "cell_type": "code",
   "execution_count": 6,
   "id": "1c17272e-cd2d-489b-868b-5e9a88f353c3",
   "metadata": {},
   "outputs": [
    {
     "name": "stdout",
     "output_type": "stream",
     "text": [
      "H\n",
      "e\n",
      "l\n",
      "l\n",
      "o\n"
     ]
    }
   ],
   "source": [
    "for s in str_:\n",
    "    print(s)"
   ]
  },
  {
   "cell_type": "code",
   "execution_count": 7,
   "id": "57696e84-490b-43a8-8dbc-eb61d60165fe",
   "metadata": {},
   "outputs": [
    {
     "name": "stdout",
     "output_type": "stream",
     "text": [
      "こ\n",
      "ん\n",
      "に\n",
      "ち\n",
      "は\n"
     ]
    }
   ],
   "source": [
    "str_ = \"こんにちは\"\n",
    "for s in str_:\n",
    "    print(s)"
   ]
  },
  {
   "cell_type": "code",
   "execution_count": 8,
   "id": "2f1fd223-cec9-4359-9ba7-4887c7829123",
   "metadata": {},
   "outputs": [
    {
     "data": {
      "text/plain": [
       "5"
      ]
     },
     "execution_count": 8,
     "metadata": {},
     "output_type": "execute_result"
    }
   ],
   "source": [
    "len(str_)"
   ]
  },
  {
   "cell_type": "markdown",
   "id": "9a35b905-f323-4e4e-9312-0d97ca365f09",
   "metadata": {},
   "source": [
    "### Sample1"
   ]
  },
  {
   "cell_type": "code",
   "execution_count": 135,
   "id": "e4818137-53f9-442d-9932-df0b1459e990",
   "metadata": {},
   "outputs": [
    {
     "name": "stdin",
     "output_type": "stream",
     "text": [
      "文字列を入力してください こんにちは\n"
     ]
    },
    {
     "name": "stdout",
     "output_type": "stream",
     "text": [
      "文字列は こんにちは です。\n",
      "0番目の文字列は こ です。\n",
      "文字列を逆順にすると はちにんこ です。\n",
      "文字列の長さは 5 です。\n"
     ]
    }
   ],
   "source": [
    "str_ = input(\"文字列を入力してください\")\n",
    "\n",
    "print(\"文字列は\", str_, \"です。\")\n",
    "print(\"0番目の文字列は\", str_[0], \"です。\")\n",
    "print(\"文字列を逆順にすると\", str_[::-1], \"です。\")\n",
    "print(\"文字列の長さは\", len(str_), \"です。\")"
   ]
  },
  {
   "cell_type": "markdown",
   "id": "600e7751-61f3-46af-b804-a08eec89d5ca",
   "metadata": {},
   "source": [
    "### Sample2"
   ]
  },
  {
   "cell_type": "code",
   "execution_count": 136,
   "id": "9f7967fb-cbd0-4c33-aa33-1b2e75127b8a",
   "metadata": {},
   "outputs": [
    {
     "name": "stdin",
     "output_type": "stream",
     "text": [
      "文字列を入力してください Hello\n"
     ]
    },
    {
     "name": "stdout",
     "output_type": "stream",
     "text": [
      "文字列は Hello です。\n",
      "大文字にすると HELLO です。\n",
      "小文字にすると hello です。\n"
     ]
    }
   ],
   "source": [
    "str_ = input(\"文字列を入力してください\")\n",
    "\n",
    "print(\"文字列は\", str_, \"です。\")\n",
    "print(\"大文字にすると\", str_.upper(), \"です。\")\n",
    "print(\"小文字にすると\", str_.lower(), \"です。\")"
   ]
  },
  {
   "cell_type": "code",
   "execution_count": 21,
   "id": "c22ea349-7f9e-4ec7-a359-d9970ef9422e",
   "metadata": {},
   "outputs": [
    {
     "data": {
      "text/plain": [
       "'今日はよい天気です。'"
      ]
     },
     "execution_count": 21,
     "metadata": {},
     "output_type": "execute_result"
    }
   ],
   "source": [
    "\"{0}は{1}{2}です。\".format(\"今日\",\"よい\",\"天気\")"
   ]
  },
  {
   "cell_type": "code",
   "execution_count": 137,
   "id": "6bf3bfb8-81a2-480e-8736-2e4ccca076b9",
   "metadata": {},
   "outputs": [
    {
     "data": {
      "text/plain": [
       "'東京支店の売上です。'"
      ]
     },
     "execution_count": 137,
     "metadata": {},
     "output_type": "execute_result"
    }
   ],
   "source": [
    "\"{key1}支店の{key2}です。\".format(key1=\"東京\", key2=\"売上\")"
   ]
  },
  {
   "cell_type": "code",
   "execution_count": 138,
   "id": "ae30c6cb-4dac-4748-8d9a-b34a6348543c",
   "metadata": {},
   "outputs": [
    {
     "data": {
      "text/plain": [
       "'1,000円'"
      ]
     },
     "execution_count": 138,
     "metadata": {},
     "output_type": "execute_result"
    }
   ],
   "source": [
    "\"{:,}円\".format(1000)"
   ]
  },
  {
   "cell_type": "markdown",
   "id": "96170c28-5b20-4c26-8d4c-81941728e647",
   "metadata": {},
   "source": [
    "### Sample3"
   ]
  },
  {
   "cell_type": "code",
   "execution_count": 139,
   "id": "26a25829-131c-4e44-b3c0-708afbee42f4",
   "metadata": {},
   "outputs": [
    {
     "name": "stdin",
     "output_type": "stream",
     "text": [
      "１つ目の単語を入力してください 今日\n",
      "２つ目の単語を入力してください よい\n",
      "３つ目の単語を入力してください 天気\n"
     ]
    },
    {
     "name": "stdout",
     "output_type": "stream",
     "text": [
      "今日はよい天気です。天気です。\n"
     ]
    },
    {
     "name": "stdin",
     "output_type": "stream",
     "text": [
      "個数を入力してください。 10\n",
      "金額を入力してください。 300\n"
     ]
    },
    {
     "name": "stdout",
     "output_type": "stream",
     "text": [
      "10個       300円\n"
     ]
    }
   ],
   "source": [
    "word0 = input(\"１つ目の単語を入力してください\")\n",
    "word1 = input(\"２つ目の単語を入力してください\")\n",
    "word2 = input(\"３つ目の単語を入力してください\")\n",
    "\n",
    "print(\"{0}は{1}{2}です。{2}です。\".format(word0, word1, word2))\n",
    "\n",
    "num0 = int(input(\"個数を入力してください。\"))\n",
    "num1 = int(input(\"金額を入力してください。\"))\n",
    "\n",
    "print(\"{0:<}個{1:>10,}円\".format(num0, num1))"
   ]
  },
  {
   "cell_type": "code",
   "execution_count": 140,
   "id": "e84069f4-dcae-411c-9006-e0105c2cf4d3",
   "metadata": {},
   "outputs": [
    {
     "data": {
      "text/plain": [
       "'今日はよい天気です。'"
      ]
     },
     "execution_count": 140,
     "metadata": {},
     "output_type": "execute_result"
    }
   ],
   "source": [
    "word0 = \"今日\"\n",
    "word1 = \"よい\"\n",
    "word2 = \"天気\"\n",
    "f\"{word0}は{word1}{word2}です。\""
   ]
  },
  {
   "cell_type": "code",
   "execution_count": 141,
   "id": "7c77445d-7024-4df3-8e5c-3a9ba781b6d7",
   "metadata": {},
   "outputs": [
    {
     "name": "stdout",
     "output_type": "stream",
     "text": [
      "2 Low for 0\n"
     ]
    }
   ],
   "source": [
    "str_ = \"%d %s %d\" % (2, \"Low for\", 0)\n",
    "print(str_)"
   ]
  },
  {
   "cell_type": "markdown",
   "id": "6f4f1616-5a85-463c-96b4-604422ffcef7",
   "metadata": {},
   "source": [
    "### python2 %形式の文字列フォーマット"
   ]
  },
  {
   "cell_type": "code",
   "execution_count": 37,
   "id": "a196cb5d-fd4b-471a-b518-201efb3cdb9c",
   "metadata": {},
   "outputs": [
    {
     "data": {
      "text/plain": [
       "'[1.41  ][02.72][+003.1]'"
      ]
     },
     "execution_count": 37,
     "metadata": {},
     "output_type": "execute_result"
    }
   ],
   "source": [
    "\"[%-6.2f][%05.2f][%+06.1f]\" % (1.414213, 2.718281, 3.141592)\n",
    "'[1.41  ][02.72][+003.1]'"
   ]
  },
  {
   "cell_type": "code",
   "execution_count": 142,
   "id": "ffc16e04-3d1c-4f57-9713-91e505fc585d",
   "metadata": {},
   "outputs": [
    {
     "name": "stdout",
     "output_type": "stream",
     "text": [
      "氏名：山田太郎 身長：180.0cm 体重：85.5kg\n"
     ]
    }
   ],
   "source": [
    "person = \"氏名：{0} 身長：{1:.1f}cm 体重：{2:.1f}kg\".format(\"山田太郎\",180,85.5)\n",
    "print(person)"
   ]
  },
  {
   "cell_type": "markdown",
   "id": "f23ecf93-9628-4a16-9dd9-59b8fb2ff28f",
   "metadata": {},
   "source": [
    "#### 浮動小数点の小数点以下の桁数"
   ]
  },
  {
   "cell_type": "code",
   "execution_count": 143,
   "id": "3a3bf8f2-2618-4d3a-bb5c-eeb8e8649497",
   "metadata": {},
   "outputs": [
    {
     "data": {
      "text/plain": [
       "'0.01000'"
      ]
     },
     "execution_count": 143,
     "metadata": {},
     "output_type": "execute_result"
    }
   ],
   "source": [
    "\"{:.5f}\".format(0.01)"
   ]
  },
  {
   "cell_type": "code",
   "execution_count": 144,
   "id": "a7ce2c1e-bb09-48c3-b9b1-470d9de56b90",
   "metadata": {},
   "outputs": [
    {
     "data": {
      "text/plain": [
       "'Raspb'"
      ]
     },
     "execution_count": 144,
     "metadata": {},
     "output_type": "execute_result"
    }
   ],
   "source": [
    "\"{:.5}\".format(\"Raspberry Pi\")"
   ]
  },
  {
   "cell_type": "markdown",
   "id": "4ea9bb2d-ef31-43e5-b834-dae1b2c6ab51",
   "metadata": {},
   "source": [
    "#### 表示最大幅"
   ]
  },
  {
   "cell_type": "code",
   "execution_count": 41,
   "id": "a4be2b0a-f91b-4a15-9d32-736d20b570e2",
   "metadata": {
    "scrolled": true
   },
   "outputs": [
    {
     "data": {
      "text/plain": [
       "'   0.01000'"
      ]
     },
     "execution_count": 41,
     "metadata": {},
     "output_type": "execute_result"
    }
   ],
   "source": [
    "\"{:10.5f}\".format(0.01)"
   ]
  },
  {
   "cell_type": "code",
   "execution_count": 42,
   "id": "82a1ac5b-58d6-4581-ac42-36d21801b2c0",
   "metadata": {},
   "outputs": [
    {
     "data": {
      "text/plain": [
       "'09'"
      ]
     },
     "execution_count": 42,
     "metadata": {},
     "output_type": "execute_result"
    }
   ],
   "source": [
    "\"{:02d}\".format(9)"
   ]
  },
  {
   "cell_type": "code",
   "execution_count": 43,
   "id": "0e51ff89-8c47-4651-9d29-a135a8a489fe",
   "metadata": {},
   "outputs": [
    {
     "data": {
      "text/plain": [
       "'0a'"
      ]
     },
     "execution_count": 43,
     "metadata": {},
     "output_type": "execute_result"
    }
   ],
   "source": [
    "\"{:02x}\".format(10)"
   ]
  },
  {
   "cell_type": "code",
   "execution_count": 44,
   "id": "197c580d-8325-4398-a140-a20d585d1cbb",
   "metadata": {},
   "outputs": [
    {
     "data": {
      "text/plain": [
       "'Hello     '"
      ]
     },
     "execution_count": 44,
     "metadata": {},
     "output_type": "execute_result"
    }
   ],
   "source": [
    "\"{:10}\".format(\"Hello\")"
   ]
  },
  {
   "cell_type": "code",
   "execution_count": 45,
   "id": "88c3e80f-8231-4af0-ae21-1e2f90c88b04",
   "metadata": {},
   "outputs": [
    {
     "data": {
      "text/plain": [
       "'     Hello'"
      ]
     },
     "execution_count": 45,
     "metadata": {},
     "output_type": "execute_result"
    }
   ],
   "source": [
    "\"{:>10}\".format(\"Hello\")"
   ]
  },
  {
   "cell_type": "code",
   "execution_count": 46,
   "id": "49192dcc-ee17-4f19-8e02-f9f7ac483644",
   "metadata": {},
   "outputs": [
    {
     "data": {
      "text/plain": [
       "'  Hello   '"
      ]
     },
     "execution_count": 46,
     "metadata": {},
     "output_type": "execute_result"
    }
   ],
   "source": [
    "\"{:^10}\".format(\"Hello\")"
   ]
  },
  {
   "cell_type": "markdown",
   "id": "166a74f8-311a-417a-909f-a971a97334b0",
   "metadata": {},
   "source": [
    "### 文字列の主なメソッド"
   ]
  },
  {
   "cell_type": "code",
   "execution_count": 145,
   "id": "a99ee093-d968-423c-a3fd-ffefadb0b379",
   "metadata": {},
   "outputs": [
    {
     "name": "stdout",
     "output_type": "stream",
     "text": [
      "upper: HELLO WORLD\n",
      "lower: hello world\n",
      "swapcase: hELLO wORLD\n",
      "capitalize: Hello world\n",
      "title: Hello World\n",
      "center: ---Hello World---\n",
      "ljust: Hello World------\n",
      "rjust: ------Hello World\n",
      "strip: Hello World\n",
      "lstrip: Hello World   \n",
      "rstrip:    Hello World\n",
      "split: ['Welcome', 'The', 'Python', 'World']\n",
      "splitlines: ['Hello World', 'Python World']\n",
      "join: Hello World Python World\n"
     ]
    }
   ],
   "source": [
    "# 大文字に変換\n",
    "print(\"upper:\", \"Hello World\".upper())\n",
    "\n",
    "# 小文字に変換\n",
    "print(\"lower:\", \"Hello World\".lower())\n",
    "\n",
    "# 小文字と大文字を逆転\n",
    "print(\"swapcase:\", \"Hello World\".swapcase())\n",
    "\n",
    "# 先頭を大文字に変換\n",
    "print(\"capitalize:\", \"Hello World\".capitalize())\n",
    "\n",
    "# タイトル文字（単語の先頭のみ大文字に変換）\n",
    "print(\"title:\", \"hello world\".title())\n",
    "\n",
    "# 中央揃えにする\n",
    "print(\"center:\", \"Hello World\".center(17, '-'))\n",
    "\n",
    "# 左寄せにする\n",
    "print(\"ljust:\", \"Hello World\".ljust(17, '-'))\n",
    "\n",
    "# 右寄せにする\n",
    "print(\"rjust:\", \"Hello World\".rjust(17, '-'))\n",
    "\n",
    "# 空白文字や指定文字を除去する\n",
    "print(\"strip:\", \"   Hello World   \".strip())\n",
    "\n",
    "# 先頭の空白文字または指定文字を除去する\n",
    "print(\"lstrip:\", \"   Hello World   \".lstrip())\n",
    "\n",
    "# 末尾の空白文字または指定文字を除去する\n",
    "print(\"rstrip:\", \"   Hello World   \".rstrip())\n",
    "\n",
    "# 指定文字で分割する\n",
    "print(\"split:\", \"Welcome,The,Python,World\".split(sep=\",\", maxsplit=-1))\n",
    "\n",
    "# 改行で分割\n",
    "print(\"splitlines:\",\"Hello World\\nPython World\".splitlines())\n",
    "\n",
    "# イテレータ文字列の結合\n",
    "s = \"Hello World\\nPython World\".splitlines()\n",
    "print(\"join:\", \" \".join(s))"
   ]
  },
  {
   "cell_type": "markdown",
   "id": "87361c5e-1676-4a68-bac3-4cbf481b5d47",
   "metadata": {},
   "source": [
    "### 文字列を検索する"
   ]
  },
  {
   "cell_type": "markdown",
   "id": "08208ab4-40c4-46a7-b624-c4d6fa963738",
   "metadata": {},
   "source": [
    "### Sample4"
   ]
  },
  {
   "cell_type": "code",
   "execution_count": 150,
   "id": "f96dde7b-6ed9-4f45-bd68-3b84967c67b0",
   "metadata": {},
   "outputs": [
    {
     "name": "stdin",
     "output_type": "stream",
     "text": [
      "文字列を入力してください。 Hello\n",
      "検索する文字列を入力してください。 e\n"
     ]
    },
    {
     "name": "stdout",
     "output_type": "stream",
     "text": [
      "Hello の 1 の位置に e がみつかりました。\n"
     ]
    }
   ],
   "source": [
    "str_ = input(\"文字列を入力してください。\")\n",
    "key = input(\"検索する文字列を入力してください。\")\n",
    "\n",
    "res = str_.find(key)\n",
    "\n",
    "if res != -1:\n",
    "    print(str_, \"の\", res, \"の位置に\", key, \"がみつかりました。\")\n",
    "else:\n",
    "    print(str_, \"の中に\", key, \"がみつかりませんでした。\")"
   ]
  },
  {
   "cell_type": "code",
   "execution_count": 151,
   "id": "e195726d-8206-4189-903c-bc7777c34668",
   "metadata": {},
   "outputs": [
    {
     "name": "stdout",
     "output_type": "stream",
     "text": [
      "Hello の中に e がみつかりました\n"
     ]
    }
   ],
   "source": [
    "if key in str_:\n",
    "    print(str_, \"の中に\", key, \"がみつかりました\")"
   ]
  },
  {
   "cell_type": "markdown",
   "id": "81639f55-8f1f-4cdf-8d20-458d363e042d",
   "metadata": {},
   "source": [
    "### 文字列を置換する"
   ]
  },
  {
   "cell_type": "markdown",
   "id": "d34079a9-a343-46b0-825f-073f39bf91ce",
   "metadata": {},
   "source": [
    "### Sample5"
   ]
  },
  {
   "cell_type": "code",
   "execution_count": 68,
   "id": "820484f5-7336-4ca9-8ada-4f409ead83c6",
   "metadata": {},
   "outputs": [
    {
     "name": "stdin",
     "output_type": "stream",
     "text": [
      "文字列を入力してください。 こんにちにち\n",
      "置換される文字列を入力してください。 にち\n",
      "置換する文字列を入力してください。 ばん\n"
     ]
    },
    {
     "name": "stdout",
     "output_type": "stream",
     "text": [
      "こんばんにち に置換しました。\n"
     ]
    }
   ],
   "source": [
    "str1 = input(\"文字列を入力してください。\")\n",
    "old = input(\"置換される文字列を入力してください。\")\n",
    "new = input(\"置換する文字列を入力してください。\")\n",
    "\n",
    "if old in str1:\n",
    "    str2 = str1.replace(old, new, 1)\n",
    "    print(str2, \"に置換しました。\")\n",
    "else:\n",
    "    print(str1 + \"の中に\" + old + \"がみつかりませんでした。\")"
   ]
  },
  {
   "cell_type": "markdown",
   "id": "87834e4f-d28f-462a-af70-b94524e4dfca",
   "metadata": {},
   "source": [
    "### 文字列の主なメソッド（検索・置換）"
   ]
  },
  {
   "cell_type": "code",
   "execution_count": 153,
   "id": "95b42b8d-66f3-40df-bee6-7a8912f58110",
   "metadata": {},
   "outputs": [
    {
     "name": "stdout",
     "output_type": "stream",
     "text": [
      "rfind: 10\n",
      "find: 4\n",
      "count: 2\n",
      "startswith: True\n",
      "endswith: True\n"
     ]
    }
   ],
   "source": [
    "# 逆順に検索\n",
    "print( \"rfind:\", \"hello python\".rfind(\"o\") )\n",
    "\n",
    "# 前から検索\n",
    "print( \"find:\", \"hello python\".find(\"o\") )\n",
    "\n",
    "# 部分文字列が何回出現するか調べる\n",
    "print( \"count:\", \"hello pypython\".count(\"py\") )\n",
    "\n",
    "# 先頭が検索文字列ではじまればTrue\n",
    "print( \"startswith:\", \"hello python\".startswith(\"hello\") )\n",
    "\n",
    "# 末尾が検索文字列で終わればTrue\n",
    "print( \"endswith:\", \"hello python\".endswith(\"python\") )"
   ]
  },
  {
   "cell_type": "markdown",
   "id": "303d5c7b-5005-4e30-bde7-7170679f4077",
   "metadata": {},
   "source": [
    "## 正規表現"
   ]
  },
  {
   "cell_type": "markdown",
   "id": "b8b3f887-d1f8-474f-bffd-49cfce5d5ce6",
   "metadata": {},
   "source": [
    "### Sample6"
   ]
  },
  {
   "cell_type": "code",
   "execution_count": 155,
   "id": "bca6e37c-4dd3-4a54-a049-5aac6bffa8e8",
   "metadata": {
    "scrolled": true
   },
   "outputs": [
    {
     "name": "stdout",
     "output_type": "stream",
     "text": [
      "-------\n",
      "(パターン)Apple(文字列)Hello(マッチ)×\n",
      "(パターン)Apple(文字列)GoodBye(マッチ)×\n",
      "(パターン)Apple(文字列)Thankyou(マッチ)×\n",
      "-------\n",
      "(パターン)GoodBye(文字列)Hello(マッチ)×\n",
      "(パターン)GoodBye(文字列)GoodBye(マッチ)〇\n",
      "(パターン)GoodBye(文字列)Thankyou(マッチ)×\n",
      "-------\n",
      "(パターン)Thankyou(文字列)Hello(マッチ)×\n",
      "(パターン)Thankyou(文字列)GoodBye(マッチ)×\n",
      "(パターン)Thankyou(文字列)Thankyou(マッチ)〇\n"
     ]
    }
   ],
   "source": [
    "import re\n",
    "\n",
    "ptr = [\"Apple\", \"GoodBye\", \"Thankyou\"]#パターン文字列\n",
    "str_ = [\"Hello\", \"GoodBye\", \"Thankyou\"]#検索対象\n",
    "\n",
    "for valueptr in ptr:\n",
    "    print(\"-------\")\n",
    "    pattern = re.compile(valueptr)\n",
    "    for valuestr in str_:\n",
    "        res = pattern.search(valuestr)\n",
    "        if res is not None:\n",
    "            m = \"〇\"\n",
    "        else:\n",
    "            m = \"×\"\n",
    "        msg = \"(パターン)\" + valueptr + \"(文字列)\" + valuestr + \"(マッチ)\" + m\n",
    "        print(msg)"
   ]
  },
  {
   "cell_type": "code",
   "execution_count": 156,
   "id": "fa918601-dd3b-4159-9b7c-7b937c01f896",
   "metadata": {},
   "outputs": [
    {
     "data": {
      "text/plain": [
       "<re.Match object; span=(0, 8), match='Thankyou'>"
      ]
     },
     "execution_count": 156,
     "metadata": {},
     "output_type": "execute_result"
    }
   ],
   "source": [
    "res"
   ]
  },
  {
   "cell_type": "markdown",
   "id": "390dd172-8546-401f-baef-fe8ff2e687bc",
   "metadata": {},
   "source": [
    "### Sample7"
   ]
  },
  {
   "cell_type": "code",
   "execution_count": 157,
   "id": "65826691-510a-4672-b0ed-3a715a7788f5",
   "metadata": {},
   "outputs": [
    {
     "name": "stdout",
     "output_type": "stream",
     "text": [
      "-------\n",
      "(パターン)TXT(文字列)TXT(マッチ)〇\n",
      "(パターン)TXT(文字列)TXTT(マッチ)〇\n",
      "(パターン)TXT(文字列)TXTTT(マッチ)〇\n",
      "(パターン)TXT(文字列)TTXT(マッチ)〇\n",
      "-------\n",
      "(パターン)^TXT(文字列)TXT(マッチ)〇\n",
      "(パターン)^TXT(文字列)TXTT(マッチ)〇\n",
      "(パターン)^TXT(文字列)TXTTT(マッチ)〇\n",
      "(パターン)^TXT(文字列)TTXT(マッチ)×\n",
      "-------\n",
      "(パターン)TXT$(文字列)TXT(マッチ)〇\n",
      "(パターン)TXT$(文字列)TXTT(マッチ)×\n",
      "(パターン)TXT$(文字列)TXTTT(マッチ)×\n",
      "(パターン)TXT$(文字列)TTXT(マッチ)〇\n",
      "-------\n",
      "(パターン)^TXT$(文字列)TXT(マッチ)〇\n",
      "(パターン)^TXT$(文字列)TXTT(マッチ)×\n",
      "(パターン)^TXT$(文字列)TXTTT(マッチ)×\n",
      "(パターン)^TXT$(文字列)TTXT(マッチ)×\n"
     ]
    }
   ],
   "source": [
    "import re\n",
    "\n",
    "ptr = [\"TXT\", \"^TXT\", \"TXT$\", \"^TXT$\"]\n",
    "str_ = [\"TXT\", \"TXTT\", \"TXTTT\", \"TTXT\"]\n",
    "\n",
    "for valueptr in ptr:\n",
    "    print(\"-------\")\n",
    "    pattern = re.compile(valueptr)\n",
    "    for valuestr in str_:\n",
    "        res = pattern.search(valuestr)\n",
    "        if res is not None:\n",
    "            m = \"〇\"\n",
    "        else:\n",
    "            m = \"×\"\n",
    "        msg = \"(パターン)\" + valueptr + \"(文字列)\" + valuestr + \"(マッチ)\" + m\n",
    "        print(msg)"
   ]
  },
  {
   "cell_type": "markdown",
   "id": "213c6588-f8aa-474e-9981-29104a33cb54",
   "metadata": {},
   "source": [
    "### 正規表現関数"
   ]
  },
  {
   "cell_type": "code",
   "execution_count": 171,
   "id": "f322c16e-ff5e-40f3-b0d9-11a755e180a5",
   "metadata": {},
   "outputs": [
    {
     "name": "stdout",
     "output_type": "stream",
     "text": [
      "\u001b[91mTXT\u001b[0mTT\n"
     ]
    }
   ],
   "source": [
    "import re\n",
    " \n",
    "def str_search(ptr,str_):\n",
    "    colorRED = '\\033[91m'\n",
    "    colorEND = '\\033[0m'\n",
    "    pattern = re.compile(ptr)\n",
    "    res = pattern.search(str_)\n",
    "    if res is not None:\n",
    "        r = res.span()\n",
    "        # print(r)\n",
    "        str1 = str_[0:r[0]]\n",
    "        str2 = str_[r[0]:r[1]]\n",
    "        str3 = str_[r[1]:]\n",
    "        restr =  \"{}{}{}{}{}\".format(str1,colorRED ,str2 ,colorEND, str3)\n",
    "        return restr\n",
    "    else:\n",
    "        return str_\n",
    "\n",
    "if __name__ == \"__main__\":\n",
    "    ptr = \"^TXT\"\n",
    "    str_ = \"TXTTT\"\n",
    "    print(str_search(ptr, str_))\n",
    " "
   ]
  },
  {
   "cell_type": "markdown",
   "id": "c8ea31ec-4808-42bd-af40-c52b31046f34",
   "metadata": {},
   "source": [
    "### Sample6(正規表現関数使用)"
   ]
  },
  {
   "cell_type": "code",
   "execution_count": 162,
   "id": "4b1cd740-775e-4772-9f28-b16993af83e7",
   "metadata": {},
   "outputs": [
    {
     "name": "stdout",
     "output_type": "stream",
     "text": [
      "-------\n",
      "(パターン)Apple(文字列)Hello(マッチ)×\n",
      "(パターン)Apple(文字列)GoodBye(マッチ)×\n",
      "(パターン)Apple(文字列)Thankyou(マッチ)×\n",
      "-------\n",
      "(パターン)GoodBye(文字列)Hello(マッチ)×\n",
      "(パターン)GoodBye(文字列)GoodBye(マッチ)〇\u001b[91mGoodBye\u001b[0m\n",
      "(パターン)GoodBye(文字列)Thankyou(マッチ)×\n",
      "-------\n",
      "(パターン)Thankyou(文字列)Hello(マッチ)×\n",
      "(パターン)Thankyou(文字列)GoodBye(マッチ)×\n",
      "(パターン)Thankyou(文字列)Thankyou(マッチ)〇\u001b[91mThankyou\u001b[0m\n"
     ]
    }
   ],
   "source": [
    "import re\n",
    "\n",
    "ptr = [\"Apple\", \"GoodBye\", \"Thankyou\"]#パターン文字列\n",
    "str_ = [\"Hello\", \"GoodBye\", \"Thankyou\"]#検索対象\n",
    "\n",
    "for valueptr in ptr:\n",
    "    print(\"-------\")\n",
    "    pattern = re.compile(valueptr)\n",
    "    for valuestr in str_:\n",
    "        res = pattern.search(valuestr)\n",
    "\n",
    "        if res is not None:\n",
    "            m = \"〇\" + str_search(valueptr, valuestr)\n",
    "        else:\n",
    "            m = \"×\"\n",
    "        \n",
    "        msg = \"(パターン)\" + valueptr + \"(文字列)\" + valuestr + \"(マッチ)\" + m\n",
    "        print(msg)"
   ]
  },
  {
   "cell_type": "markdown",
   "id": "961f0274-89f6-4648-9566-17a15a6353d4",
   "metadata": {},
   "source": [
    "### Sample7(正規表現関数使用)"
   ]
  },
  {
   "cell_type": "code",
   "execution_count": 164,
   "id": "ecfdd47d-86c8-4be5-9bf1-f41087083113",
   "metadata": {},
   "outputs": [
    {
     "name": "stdout",
     "output_type": "stream",
     "text": [
      "-------\n",
      "(パターン)TXT(文字列)TXT(マッチ)〇\u001b[91mTXT\u001b[0m\n",
      "(パターン)TXT(文字列)TXTT(マッチ)〇\u001b[91mTXT\u001b[0mT\n",
      "(パターン)TXT(文字列)TXTTT(マッチ)〇\u001b[91mTXT\u001b[0mTT\n",
      "(パターン)TXT(文字列)TTXT(マッチ)〇T\u001b[91mTXT\u001b[0m\n",
      "(パターン)TXT(文字列)TXTTXT(マッチ)〇\u001b[91mTXT\u001b[0mTXT\n",
      "-------\n",
      "(パターン)^TXT(文字列)TXT(マッチ)〇\u001b[91mTXT\u001b[0m\n",
      "(パターン)^TXT(文字列)TXTT(マッチ)〇\u001b[91mTXT\u001b[0mT\n",
      "(パターン)^TXT(文字列)TXTTT(マッチ)〇\u001b[91mTXT\u001b[0mTT\n",
      "(パターン)^TXT(文字列)TTXT(マッチ)×\n",
      "(パターン)^TXT(文字列)TXTTXT(マッチ)〇\u001b[91mTXT\u001b[0mTXT\n",
      "-------\n",
      "(パターン)TXT$(文字列)TXT(マッチ)〇\u001b[91mTXT\u001b[0m\n",
      "(パターン)TXT$(文字列)TXTT(マッチ)×\n",
      "(パターン)TXT$(文字列)TXTTT(マッチ)×\n",
      "(パターン)TXT$(文字列)TTXT(マッチ)〇T\u001b[91mTXT\u001b[0m\n",
      "(パターン)TXT$(文字列)TXTTXT(マッチ)〇TXT\u001b[91mTXT\u001b[0m\n",
      "-------\n",
      "(パターン)^TXT$(文字列)TXT(マッチ)〇\u001b[91mTXT\u001b[0m\n",
      "(パターン)^TXT$(文字列)TXTT(マッチ)×\n",
      "(パターン)^TXT$(文字列)TXTTT(マッチ)×\n",
      "(パターン)^TXT$(文字列)TTXT(マッチ)×\n",
      "(パターン)^TXT$(文字列)TXTTXT(マッチ)×\n"
     ]
    }
   ],
   "source": [
    "import re\n",
    "\n",
    "ptr = [\"TXT\", \"^TXT\", \"TXT$\", \"^TXT$\"]\n",
    "str_ = [\"TXT\", \"TXTT\", \"TXTTT\", \"TTXT\", \"TXTTXT\"]\n",
    "\n",
    "for valueptr in ptr:\n",
    "    print(\"-------\")\n",
    "    pattern = re.compile(valueptr)\n",
    "    for valuestr in str_:\n",
    "        res = pattern.search(valuestr)\n",
    "\n",
    "        if res is not None:\n",
    "            m = \"〇\" + str_search(valueptr, valuestr)\n",
    "        else:\n",
    "            m = \"×\"\n",
    "        \n",
    "        msg = \"(パターン)\" + valueptr + \"(文字列)\" + valuestr + \"(マッチ)\" + m\n",
    "        print(msg)"
   ]
  },
  {
   "cell_type": "code",
   "execution_count": 117,
   "id": "6eaaa5f2-9d80-4fe2-a271-7dd28a3737cb",
   "metadata": {},
   "outputs": [
    {
     "name": "stdout",
     "output_type": "stream",
     "text": [
      "\u001b[0m000\u001b[0m \u001b[1m001\u001b[0m \u001b[2m002\u001b[0m \u001b[3m003\u001b[0m \u001b[4m004\u001b[0m \u001b[5m005\u001b[0m \u001b[6m006\u001b[0m \u001b[7m007\u001b[0m \u001b[8m008\u001b[0m \u001b[9m009\u001b[0m \n",
      "\u001b[10m010\u001b[0m \u001b[11m011\u001b[0m \u001b[12m012\u001b[0m \u001b[13m013\u001b[0m \u001b[14m014\u001b[0m \u001b[15m015\u001b[0m \u001b[16m016\u001b[0m \u001b[17m017\u001b[0m \u001b[18m018\u001b[0m \u001b[19m019\u001b[0m \n",
      "\u001b[20m020\u001b[0m \u001b[21m021\u001b[0m \u001b[22m022\u001b[0m \u001b[23m023\u001b[0m \u001b[24m024\u001b[0m \u001b[25m025\u001b[0m \u001b[26m026\u001b[0m \u001b[27m027\u001b[0m \u001b[28m028\u001b[0m \u001b[29m029\u001b[0m \n",
      "\u001b[30m030\u001b[0m \u001b[31m031\u001b[0m \u001b[32m032\u001b[0m \u001b[33m033\u001b[0m \u001b[34m034\u001b[0m \u001b[35m035\u001b[0m \u001b[36m036\u001b[0m \u001b[37m037\u001b[0m \u001b[38m038\u001b[0m \u001b[39m039\u001b[0m \n",
      "\u001b[40m040\u001b[0m \u001b[41m041\u001b[0m \u001b[42m042\u001b[0m \u001b[43m043\u001b[0m \u001b[44m044\u001b[0m \u001b[45m045\u001b[0m \u001b[46m046\u001b[0m \u001b[47m047\u001b[0m \u001b[48m048\u001b[0m \u001b[49m049\u001b[0m \n",
      "\u001b[50m050\u001b[0m \u001b[51m051\u001b[0m \u001b[52m052\u001b[0m \u001b[53m053\u001b[0m \u001b[54m054\u001b[0m \u001b[55m055\u001b[0m \u001b[56m056\u001b[0m \u001b[57m057\u001b[0m \u001b[58m058\u001b[0m \u001b[59m059\u001b[0m \n",
      "\u001b[60m060\u001b[0m \u001b[61m061\u001b[0m \u001b[62m062\u001b[0m \u001b[63m063\u001b[0m \u001b[64m064\u001b[0m \u001b[65m065\u001b[0m \u001b[66m066\u001b[0m \u001b[67m067\u001b[0m \u001b[68m068\u001b[0m \u001b[69m069\u001b[0m \n",
      "\u001b[70m070\u001b[0m \u001b[71m071\u001b[0m \u001b[72m072\u001b[0m \u001b[73m073\u001b[0m \u001b[74m074\u001b[0m \u001b[75m075\u001b[0m \u001b[76m076\u001b[0m \u001b[77m077\u001b[0m \u001b[78m078\u001b[0m \u001b[79m079\u001b[0m \n",
      "\u001b[80m080\u001b[0m \u001b[81m081\u001b[0m \u001b[82m082\u001b[0m \u001b[83m083\u001b[0m \u001b[84m084\u001b[0m \u001b[85m085\u001b[0m \u001b[86m086\u001b[0m \u001b[87m087\u001b[0m \u001b[88m088\u001b[0m \u001b[89m089\u001b[0m \n",
      "\u001b[90m090\u001b[0m \u001b[91m091\u001b[0m \u001b[92m092\u001b[0m \u001b[93m093\u001b[0m \u001b[94m094\u001b[0m \u001b[95m095\u001b[0m \u001b[96m096\u001b[0m \u001b[97m097\u001b[0m \u001b[98m098\u001b[0m \u001b[99m099\u001b[0m \n"
     ]
    }
   ],
   "source": [
    "# 文字の色コードの一覧表\n",
    "for i in range(10):\n",
    "    for j in range(10):\n",
    "        v = i * 10 + j\n",
    "        print(\"\\033[{}m{}\\033[0m \".format(str(v), str(v).zfill(3)), end=\"\")\n",
    "    print(\"\")"
   ]
  },
  {
   "cell_type": "markdown",
   "id": "61da5d07-e5a9-455a-9ce0-939bb1d98bd9",
   "metadata": {},
   "source": [
    "### Sample8"
   ]
  },
  {
   "cell_type": "code",
   "execution_count": 165,
   "id": "c40a4e26-81aa-4a43-a644-e176137ba674",
   "metadata": {},
   "outputs": [
    {
     "name": "stdout",
     "output_type": "stream",
     "text": [
      "-------\n",
      "(パターン)TXT.(文字列)TXT(マッチ)×\n",
      "(パターン)TXT.(文字列)TXTT(マッチ)〇\u001b[91mTXTT\u001b[0m\n",
      "(パターン)TXT.(文字列)TXTTT(マッチ)〇\u001b[91mTXTT\u001b[0mT\n",
      "(パターン)TXT.(文字列)TTXT(マッチ)×\n",
      "(パターン)TXT.(文字列)TTTXT(マッチ)×\n",
      "-------\n",
      "(パターン)TXT..(文字列)TXT(マッチ)×\n",
      "(パターン)TXT..(文字列)TXTT(マッチ)×\n",
      "(パターン)TXT..(文字列)TXTTT(マッチ)〇\u001b[91mTXTTT\u001b[0m\n",
      "(パターン)TXT..(文字列)TTXT(マッチ)×\n",
      "(パターン)TXT..(文字列)TTTXT(マッチ)×\n",
      "-------\n",
      "(パターン).TXT(文字列)TXT(マッチ)×\n",
      "(パターン).TXT(文字列)TXTT(マッチ)×\n",
      "(パターン).TXT(文字列)TXTTT(マッチ)×\n",
      "(パターン).TXT(文字列)TTXT(マッチ)〇\u001b[91mTTXT\u001b[0m\n",
      "(パターン).TXT(文字列)TTTXT(マッチ)〇T\u001b[91mTTXT\u001b[0m\n",
      "-------\n",
      "(パターン)..TXT(文字列)TXT(マッチ)×\n",
      "(パターン)..TXT(文字列)TXTT(マッチ)×\n",
      "(パターン)..TXT(文字列)TXTTT(マッチ)×\n",
      "(パターン)..TXT(文字列)TTXT(マッチ)×\n",
      "(パターン)..TXT(文字列)TTTXT(マッチ)〇\u001b[91mTTTXT\u001b[0m\n"
     ]
    }
   ],
   "source": [
    "import re\n",
    "\n",
    "ptr = [\"TXT.\", \"TXT..\", \".TXT\", \"..TXT\"]\n",
    "str_ = [\"TXT\", \"TXTT\", \"TXTTT\", \"TTXT\", \"TTTXT\"]\n",
    "\n",
    "for valueptr in ptr:\n",
    "    print(\"-------\")\n",
    "    pattern = re.compile(valueptr)\n",
    "    for valuestr in str_:\n",
    "        res = pattern.search(valuestr)\n",
    "        if res is not None:\n",
    "            m = \"〇\" + str_search(valueptr, valuestr)\n",
    "        else:\n",
    "            m = \"×\"\n",
    "        msg = \"(パターン)\" + valueptr + \"(文字列)\" + valuestr + \"(マッチ)\" + m\n",
    "        print(msg)"
   ]
  },
  {
   "cell_type": "markdown",
   "id": "27116ba4-09d5-41bb-985c-4f58ddfbddd5",
   "metadata": {},
   "source": [
    "### Sample9"
   ]
  },
  {
   "cell_type": "code",
   "execution_count": 167,
   "id": "9202eace-f0d9-4e1e-b865-9b3721693a77",
   "metadata": {},
   "outputs": [
    {
     "name": "stdout",
     "output_type": "stream",
     "text": [
      "-------\n",
      "(パターン)[012](文字列)0(マッチ)〇\u001b[91m0\u001b[0m\n",
      "(パターン)[012](文字列)1(マッチ)〇\u001b[91m1\u001b[0m\n",
      "(パターン)[012](文字列)2(マッチ)〇\u001b[91m2\u001b[0m\n",
      "(パターン)[012](文字列)3(マッチ)×\n",
      "-------\n",
      "(パターン)[0-3](文字列)0(マッチ)〇\u001b[91m0\u001b[0m\n",
      "(パターン)[0-3](文字列)1(マッチ)〇\u001b[91m1\u001b[0m\n",
      "(パターン)[0-3](文字列)2(マッチ)〇\u001b[91m2\u001b[0m\n",
      "(パターン)[0-3](文字列)3(マッチ)〇\u001b[91m3\u001b[0m\n",
      "-------\n",
      "(パターン)[^012](文字列)0(マッチ)×\n",
      "(パターン)[^012](文字列)1(マッチ)×\n",
      "(パターン)[^012](文字列)2(マッチ)×\n",
      "(パターン)[^012](文字列)3(マッチ)〇\u001b[91m3\u001b[0m\n"
     ]
    }
   ],
   "source": [
    "import re\n",
    "\n",
    "ptr = [\"[012]\", \"[0-3]\", \"[^012]\"]\n",
    "str_ = [\"0\", \"1\", \"2\", \"3\"]\n",
    "\n",
    "for valueptr in ptr:\n",
    "    print(\"-------\")\n",
    "    pattern = re.compile(valueptr)\n",
    "    for valuestr in str_:\n",
    "        res = pattern.search(valuestr)\n",
    "        if res is not None:\n",
    "            m = \"〇\" + str_search(valueptr, valuestr)\n",
    "        else:\n",
    "            m = \"×\"\n",
    "        msg = \"(パターン)\" + valueptr + \"(文字列)\" + valuestr + \"(マッチ)\" + m\n",
    "        print(msg)"
   ]
  },
  {
   "cell_type": "markdown",
   "id": "107d0b39-b501-4df9-8df5-c0e8510ee55d",
   "metadata": {},
   "source": [
    "### Sample10"
   ]
  },
  {
   "cell_type": "code",
   "execution_count": 168,
   "id": "3a8ac586-9001-44db-a3f5-ac886a9cc465",
   "metadata": {
    "scrolled": true
   },
   "outputs": [
    {
     "name": "stdout",
     "output_type": "stream",
     "text": [
      "-------\n",
      "(パターン)T*(文字列)X(マッチ)〇\u001b[91m\u001b[0mX\n",
      "(パターン)T*(文字列)TT(マッチ)〇\u001b[91mTT\u001b[0m\n",
      "(パターン)T*(文字列)TTT(マッチ)〇\u001b[91mTTT\u001b[0m\n",
      "(パターン)T*(文字列)TTTT(マッチ)〇\u001b[91mTTTT\u001b[0m\n",
      "-------\n",
      "(パターン)T+(文字列)X(マッチ)×\n",
      "(パターン)T+(文字列)TT(マッチ)〇\u001b[91mTT\u001b[0m\n",
      "(パターン)T+(文字列)TTT(マッチ)〇\u001b[91mTTT\u001b[0m\n",
      "(パターン)T+(文字列)TTTT(マッチ)〇\u001b[91mTTTT\u001b[0m\n",
      "-------\n",
      "(パターン)T?(文字列)X(マッチ)〇\u001b[91m\u001b[0mX\n",
      "(パターン)T?(文字列)TT(マッチ)〇\u001b[91mT\u001b[0mT\n",
      "(パターン)T?(文字列)TTT(マッチ)〇\u001b[91mT\u001b[0mTT\n",
      "(パターン)T?(文字列)TTTT(マッチ)〇\u001b[91mT\u001b[0mTTT\n",
      "-------\n",
      "(パターン)T{3}(文字列)X(マッチ)×\n",
      "(パターン)T{3}(文字列)TT(マッチ)×\n",
      "(パターン)T{3}(文字列)TTT(マッチ)〇\u001b[91mTTT\u001b[0m\n",
      "(パターン)T{3}(文字列)TTTT(マッチ)〇\u001b[91mTTT\u001b[0mT\n"
     ]
    }
   ],
   "source": [
    "import re\n",
    "\n",
    "ptr = [\"T*\", \"T+\", \"T?\", \"T{3}\"]\n",
    "str_ = [\"X\", \"TT\", \"TTT\", \"TTTT\"]\n",
    "\n",
    "for valueptr in ptr:\n",
    "    print(\"-------\")\n",
    "    pattern = re.compile(valueptr)\n",
    "    for valuestr in str_:\n",
    "        res = pattern.search(valuestr)\n",
    "        if res is not None:\n",
    "            m = \"〇\" + str_search(valueptr, valuestr)\n",
    "        else:\n",
    "            m = \"×\"\n",
    "        msg = \"(パターン)\" + valueptr + \"(文字列)\" + valuestr + \"(マッチ)\" + m\n",
    "\n",
    "        print(msg)"
   ]
  },
  {
   "cell_type": "markdown",
   "id": "aa3742a8-966d-4a06-8460-7efe656d65a8",
   "metadata": {},
   "source": [
    "#### 補足　最短部分に対するマッチを知る"
   ]
  },
  {
   "cell_type": "code",
   "execution_count": 173,
   "id": "69c185aa-d76d-4ba9-9368-d80b04821d61",
   "metadata": {},
   "outputs": [
    {
     "name": "stdout",
     "output_type": "stream",
     "text": [
      "== T+ 最長マッチ ==\n",
      "\u001b[91mTTT\u001b[0m\n",
      "== T+? １回以上の繰り返しの最短マッチ ==\n",
      "\u001b[91mT\u001b[0mTT\n"
     ]
    }
   ],
   "source": [
    "import re\n",
    " \n",
    "def str_search(ptr,str_):\n",
    "    colorRED = '\\033[91m'\n",
    "    colorEND = '\\033[0m'\n",
    "    pattern = re.compile(ptr)\n",
    "    res = pattern.search(str_)\n",
    "    if res is not None:\n",
    "        r = res.span()\n",
    "        # print(r)\n",
    "        str1 = str_[0:r[0]]\n",
    "        str2 = str_[r[0]:r[1]]\n",
    "        str3 = str_[r[1]:]\n",
    "        restr =  \"{}{}{}{}{}\".format(str1,colorRED ,str2 ,colorEND, str3)\n",
    "        return restr\n",
    "    else:\n",
    "        return str_\n",
    "if __name__ == \"__main__\":\n",
    "    print(\"== T+ 最長マッチ ==\")\n",
    "    ptr = \"T+\"\n",
    "    str_ = \"TTT\"\n",
    "    print(str_search(ptr, str_))\n",
    "    \n",
    "    print(\"== T+? １回以上の繰り返しの最短マッチ ==\")\n",
    "    ptr = \"T+?\"\n",
    "    str_ = \"TTT\"\n",
    "    print(str_search(ptr, str_))"
   ]
  },
  {
   "cell_type": "markdown",
   "id": "85776ea5-dc03-4862-b2ff-bddeea3b41cf",
   "metadata": {},
   "source": [
    "#### グループ化と選択をあらわす正規表現を使う"
   ]
  },
  {
   "cell_type": "markdown",
   "id": "c07bfe80-a58f-449e-be8c-60b737c1c8fb",
   "metadata": {},
   "source": [
    "#### Sample11"
   ]
  },
  {
   "cell_type": "code",
   "execution_count": 174,
   "id": "9967a72f-d70c-4cee-99f5-daf3ebeb8f1a",
   "metadata": {
    "scrolled": true
   },
   "outputs": [
    {
     "name": "stdout",
     "output_type": "stream",
     "text": [
      "-------\n",
      "(パターン)(TXT)+(文字列)TX(マッチ)×\n",
      "(パターン)(TXT)+(文字列)TXT(マッチ)〇\u001b[91mTXT\u001b[0m\n",
      "(パターン)(TXT)+(文字列)XTX(マッチ)×\n",
      "(パターン)(TXT)+(文字列)TXTXT(マッチ)〇\u001b[91mTXT\u001b[0mXT\n",
      "-------\n",
      "(パターン)TXT|XTX(文字列)TX(マッチ)×\n",
      "(パターン)TXT|XTX(文字列)TXT(マッチ)〇\u001b[91mTXT\u001b[0m\n",
      "(パターン)TXT|XTX(文字列)XTX(マッチ)〇\u001b[91mXTX\u001b[0m\n",
      "(パターン)TXT|XTX(文字列)TXTXT(マッチ)〇\u001b[91mTXT\u001b[0mXT\n"
     ]
    }
   ],
   "source": [
    "import re\n",
    "\n",
    "ptr = [\"(TXT)+\", \"TXT|XTX\"]\n",
    "str_ = [\"TX\", \"TXT\", \"XTX\", \"TXTXT\"]\n",
    "\n",
    "for valueptr in ptr:\n",
    "    print(\"-------\")\n",
    "    pattern = re.compile(valueptr)\n",
    "    for valuestr in str_:\n",
    "        res = pattern.search(valuestr)\n",
    "        if res is not None:\n",
    "            m = \"〇\" + str_search(valueptr, valuestr)\n",
    "        else:\n",
    "            m = \"×\"\n",
    "        msg = \"(パターン)\" + valueptr + \"(文字列)\" + valuestr + \"(マッチ)\" + m\n",
    "\n",
    "        print(msg)\n"
   ]
  },
  {
   "cell_type": "markdown",
   "id": "7382c0d5-6c2e-44ab-81c7-40c786bbb374",
   "metadata": {},
   "source": [
    "#### * 0回マッチ"
   ]
  },
  {
   "cell_type": "code",
   "execution_count": 181,
   "id": "c8885da2-4209-4002-bfbf-82a3891e87f1",
   "metadata": {},
   "outputs": [
    {
     "name": "stdout",
     "output_type": "stream",
     "text": [
      "Apple 〇\n",
      "Apples 〇\n",
      "apple 〇\n",
      "apples 〇\n",
      "applees\n"
     ]
    }
   ],
   "source": [
    "import re\n",
    "# Apple Apples 単数形も複数形もリンゴである\n",
    "str_ = [\"Apple\", \"Apples\", \"apple\", \"apples\", \"applees\"]\n",
    "\n",
    "for valstr in str_:\n",
    "    if re.search(r\"^(A|a)pples*$\", valstr) :\n",
    "        print(valstr, \"〇\")\n",
    "    else:\n",
    "        print(valstr)"
   ]
  },
  {
   "cell_type": "code",
   "execution_count": 180,
   "id": "bf7f4be4-5b61-4676-a165-5f0b5563eecd",
   "metadata": {
    "scrolled": true
   },
   "outputs": [
    {
     "name": "stdout",
     "output_type": "stream",
     "text": [
      "Apple 〇\n",
      "Apples 〇\n",
      "apple 〇\n",
      "apples 〇\n",
      "appless\n"
     ]
    }
   ],
   "source": [
    "import re\n",
    "# Apple Apples 単数形も複数形もリンゴである\n",
    "str_ = [\"Apple\", \"Apples\", \"apple\", \"apples\", \"appless\"]\n",
    "\n",
    "for valstr in str_:\n",
    "    if re.search(r\"^(A|a)pples?$\", valstr) :\n",
    "        print(valstr, \"〇\")\n",
    "    else:\n",
    "        print(valstr)"
   ]
  },
  {
   "cell_type": "code",
   "execution_count": null,
   "id": "41d1b531-74db-4a7e-905c-acae922ced1b",
   "metadata": {},
   "outputs": [],
   "source": [
    "#### メタ文字 {} を正規表現で検索する"
   ]
  },
  {
   "cell_type": "code",
   "execution_count": 189,
   "id": "99807cee-3813-4642-8143-bffb4419b0a4",
   "metadata": {},
   "outputs": [
    {
     "data": {
      "text/plain": [
       "<re.Match object; span=(0, 6), match='{}{}{}'>"
      ]
     },
     "execution_count": 189,
     "metadata": {},
     "output_type": "execute_result"
    }
   ],
   "source": [
    "str_ = \"{}{}{}{}\"\n",
    "ptr = \"(\\{\\}){3}\"\n",
    "re.search(ptr, str_)"
   ]
  },
  {
   "cell_type": "code",
   "execution_count": 188,
   "id": "335bc5e0-8301-4aa5-a3b2-ff513081044d",
   "metadata": {},
   "outputs": [
    {
     "data": {
      "text/plain": [
       "<re.Match object; span=(0, 6), match='{}{}{}'>"
      ]
     },
     "execution_count": 188,
     "metadata": {},
     "output_type": "execute_result"
    }
   ],
   "source": [
    "str_ = \"{}{}{}{}\"\n",
    "ptr = r\"(\\{\\}){3}\"\n",
    "re.search(ptr, str_)"
   ]
  },
  {
   "cell_type": "markdown",
   "id": "0d5be494-a3d2-43fe-ad2a-57be29e15091",
   "metadata": {},
   "source": [
    "#### 複雑な正規表現を考える"
   ]
  },
  {
   "cell_type": "code",
   "execution_count": 190,
   "id": "2c24cec9-7183-4073-ae52-88458e4069cc",
   "metadata": {},
   "outputs": [
    {
     "name": "stdout",
     "output_type": "stream",
     "text": [
      "（パターン）^[0-9a-zA-Z_\\.-]+@[0-9a-zA-Z_\\.-]+\\.[a-zA-Z]+$\n",
      "------\n",
      "（文字列）hello@yahoo.co.jp（マッチ）〇\n",
      "（文字列）kitty@gmail.com（マッチ）〇\n",
      "（文字列）https://world@outlook.com（マッチ）×\n"
     ]
    }
   ],
   "source": [
    "import re\n",
    " \n",
    "valueptr =\"^[0-9a-zA-Z_\\.-]+@[0-9a-zA-Z_\\.-]+\\.[a-zA-Z]+$\" \n",
    "pattern = re.compile(valueptr)\n",
    " \n",
    "str = [\"hello@yahoo.co.jp\", \"kitty@gmail.com\", \"https://world@outlook.com\"]\n",
    " \n",
    "print(\"（パターン）\" + valueptr) \n",
    "print(\"------\")\n",
    "for valuestr in str:\n",
    "    res = pattern.search(valuestr)\n",
    "    if res is not None:\n",
    "        m = \"〇\"\n",
    "    else:\n",
    "        m = \"×\"\n",
    " \n",
    "    msg = \"（文字列）\" + valuestr + \"（マッチ）\" + m\n",
    " \n",
    "    print(msg)"
   ]
  },
  {
   "cell_type": "code",
   "execution_count": 194,
   "id": "0fe9229e-7e79-42f8-9341-a39b48a60a74",
   "metadata": {},
   "outputs": [
    {
     "name": "stdin",
     "output_type": "stream",
     "text": [
      "メールアドレスを入力してください:  hello-world@123456789.com\n"
     ]
    },
    {
     "name": "stdout",
     "output_type": "stream",
     "text": [
      "あなたのメールアドレスは:  hello-world@123456789.com です。\n"
     ]
    }
   ],
   "source": [
    "import re\n",
    " \n",
    "valueptr =\"^[0-9a-zA-Z_\\.-]+@[0-9a-zA-Z_\\.-]+\\.[a-zA-Z]+$\"\n",
    "pattern = re.compile(valueptr)\n",
    " \n",
    "while True:\n",
    "    email = input(\"メールアドレスを入力してください: \")\n",
    "    res = pattern.search(email)\n",
    "    if res is not None:\n",
    "        print(\"あなたのメールアドレスは: \", email, \"です。\")\n",
    "        break\n",
    "    else:\n",
    "        print(\"エラーです。再度入力してください。\")"
   ]
  },
  {
   "cell_type": "markdown",
   "id": "02f52e33-4e1f-4c18-bd06-34834cb5272a",
   "metadata": {},
   "source": [
    "#### Sample12"
   ]
  },
  {
   "cell_type": "code",
   "execution_count": 196,
   "id": "9353d7c8-9384-410a-8cd1-0d086cd1c8d4",
   "metadata": {},
   "outputs": [
    {
     "name": "stdout",
     "output_type": "stream",
     "text": [
      "(変換前)Sample.csv(変換後)Sample.txt\n",
      "(変換前)Sample.exe(変換後)Sample.exe\n",
      "(変換前)test.py(変換後)test.txt\n",
      "(変換前)index.html(変換後)index.txt\n"
     ]
    }
   ],
   "source": [
    "import re\n",
    "\n",
    "ptr = \"\\.(csv|html|py)$\"\n",
    "str_ = [\"Sample.csv\", \"Sample.exe\", \"test.py\", \"index.html\"]\n",
    "\n",
    "pattern = re.compile(ptr)\n",
    "for valuestr in str_:\n",
    "    res = pattern.sub(\".txt\", valuestr)\n",
    "    msg = \"(変換前)\" + valuestr +\"(変換後)\" + res\n",
    "    print(msg)"
   ]
  },
  {
   "cell_type": "code",
   "execution_count": 197,
   "id": "e5dbd513-8364-4aa8-83d3-5b40ea8ceb7d",
   "metadata": {},
   "outputs": [
    {
     "data": {
      "text/plain": [
       "<re.Match object; span=(7, 12), match='apple'>"
      ]
     },
     "execution_count": 197,
     "metadata": {},
     "output_type": "execute_result"
    }
   ],
   "source": [
    "# search は全体を検索する\n",
    "s = \"banana apple\"\n",
    "re.search(\"apple\",s)"
   ]
  },
  {
   "cell_type": "code",
   "execution_count": 199,
   "id": "6ec3c6d0-7506-47c8-a7b0-3faa4d1d9ccb",
   "metadata": {},
   "outputs": [],
   "source": [
    "# match は先頭を検索する\n",
    "s = \"apple banana\"\n",
    "# re.match(\"apple\", s)\n",
    "re.match(\"banana\", s)"
   ]
  },
  {
   "cell_type": "code",
   "execution_count": 200,
   "id": "1257bc92-107b-40c9-bcdd-a3cdd60ee2b0",
   "metadata": {},
   "outputs": [
    {
     "data": {
      "text/plain": [
       "<re.Match object; span=(6, 12), match='banana'>"
      ]
     },
     "execution_count": 200,
     "metadata": {},
     "output_type": "execute_result"
    }
   ],
   "source": [
    "re.search(\"banana\", s)"
   ]
  },
  {
   "cell_type": "code",
   "execution_count": 201,
   "id": "773f7374-63d2-4c14-aa6d-f39b14f5d6c5",
   "metadata": {},
   "outputs": [
    {
     "data": {
      "text/plain": [
       "['apple', 'apple', 'apple']"
      ]
     },
     "execution_count": 201,
     "metadata": {},
     "output_type": "execute_result"
    }
   ],
   "source": [
    "# findall\n",
    "s = \"apple banana apple orange apple grape\"\n",
    "re.findall(\"apple\", s)"
   ]
  },
  {
   "cell_type": "code",
   "execution_count": 202,
   "id": "4c752d7c-593b-423e-9743-4d9cdc5fd46e",
   "metadata": {},
   "outputs": [
    {
     "data": {
      "text/plain": [
       "['apple ', ' orange']"
      ]
     },
     "execution_count": 202,
     "metadata": {},
     "output_type": "execute_result"
    }
   ],
   "source": [
    "# split\n",
    "s = \"apple banana orange\"\n",
    "re.split(\"banana\",s)"
   ]
  },
  {
   "cell_type": "markdown",
   "id": "9cfa691c-34d3-4068-8466-db27d9a5f0f1",
   "metadata": {},
   "source": [
    "#### 練習1"
   ]
  },
  {
   "cell_type": "code",
   "execution_count": 205,
   "id": "c93fd2c7-6339-47db-b5ba-477cd979936e",
   "metadata": {},
   "outputs": [
    {
     "name": "stdout",
     "output_type": "stream",
     "text": [
      "ファイルのリストは以下です。\n",
      "Sample.csv\n",
      "Sample.exe\n",
      "Sample1.py\n",
      "Sample2.py\n",
      "Sample.txt\n",
      "index.html\n"
     ]
    },
    {
     "name": "stdin",
     "output_type": "stream",
     "text": [
      "拡張子を入力してください。 py\n"
     ]
    },
    {
     "name": "stdout",
     "output_type": "stream",
     "text": [
      "該当するファイルのリストは以下です。\n",
      "Sample1.py\n",
      "Sample2.py\n"
     ]
    }
   ],
   "source": [
    "str = [\"Sample.csv\", \"Sample.exe\", \n",
    "       \"Sample1.py\", \"Sample2.py\",\n",
    "       \"Sample.txt\",\"index.html\"\n",
    "      ]\n",
    "file = []\n",
    "\n",
    "print(\"ファイルのリストは以下です。\")\n",
    "\n",
    "for s in str:\n",
    "    print(s)\n",
    "\n",
    "suf = input(\"拡張子を入力してください。\")\n",
    "\n",
    "for s in str:\n",
    "    res = s.endswith(suf)\n",
    "    if res is True:\n",
    "        file.append(s)\n",
    "\n",
    "print(\"該当するファイルのリストは以下です。\")\n",
    "\n",
    "for f in file:\n",
    "    print(f)\n"
   ]
  },
  {
   "cell_type": "markdown",
   "id": "73846f96-1873-4d72-b0fe-9c1ff8adc5a5",
   "metadata": {},
   "source": [
    "#### 問題１正規表現"
   ]
  },
  {
   "cell_type": "code",
   "execution_count": 207,
   "id": "61f2d992-548a-4ac3-83da-d71f26cf4c27",
   "metadata": {},
   "outputs": [
    {
     "name": "stdout",
     "output_type": "stream",
     "text": [
      "ファイルのリストは以下です。\n",
      "Sample.csv\n",
      "Sample.exe\n",
      "Sample1.py\n",
      "Sample2.py\n",
      "Sample.txt\n",
      "index.html\n"
     ]
    },
    {
     "name": "stdin",
     "output_type": "stream",
     "text": [
      "拡張子を入力してください。 py\n"
     ]
    },
    {
     "name": "stdout",
     "output_type": "stream",
     "text": [
      "該当するファイルのリストは以下です。\n",
      "Sample1.py\n",
      "Sample2.py\n"
     ]
    }
   ],
   "source": [
    "import re\n",
    " \n",
    "str_ = [\"Sample.csv\", \"Sample.exe\", \n",
    "       \"Sample1.py\", \"Sample2.py\",\n",
    "       \"Sample.txt\",\"index.html\"\n",
    "      ]\n",
    "file = []\n",
    " \n",
    "print(\"ファイルのリストは以下です。\")\n",
    " \n",
    "for s in str_:\n",
    "    print(s)\n",
    " \n",
    "suf = input(\"拡張子を入力してください。\")\n",
    " \n",
    "# 拡張子をアルファベットに限定\n",
    "if suf.isalpha():\n",
    "    # フォーマット文字列(p262参照)で拡張子に埋め込みます\n",
    "    pattern = re.compile(f\"\\.{suf}$\")\n",
    " \n",
    "    # for s in str_:\n",
    "    #     res = pattern.search(s)\n",
    "    #     if res is not None:\n",
    "    #         file.append(s)\n",
    "    file = [s for s in str_  if pattern.search(s) is not None]\n",
    " \n",
    "    print(\"該当するファイルのリストは以下です。\")\n",
    " \n",
    "    for f in file:\n",
    "        print(f)"
   ]
  },
  {
   "cell_type": "markdown",
   "id": "f7b563b8-5a6b-46c2-92a6-385256e927ec",
   "metadata": {},
   "source": [
    "#### 問題2"
   ]
  },
  {
   "cell_type": "code",
   "execution_count": 209,
   "id": "ca5c0b22-4987-4978-8e05-843937e829b2",
   "metadata": {},
   "outputs": [
    {
     "data": {
      "text/plain": [
       "<re.Match object; span=(0, 3), match='010'>"
      ]
     },
     "execution_count": 209,
     "metadata": {},
     "output_type": "execute_result"
    }
   ],
   "source": [
    "import re\n",
    "# re.search(\"[012]{3}\", \"113\")\n",
    "re.search(\"[012]{3}\", \"010\")"
   ]
  },
  {
   "cell_type": "code",
   "execution_count": 216,
   "id": "f6ffb109-2372-4ad7-8984-4928be84b9ac",
   "metadata": {},
   "outputs": [
    {
     "data": {
      "text/plain": [
       "<re.Match object; span=(0, 5), match='xABCD'>"
      ]
     },
     "execution_count": 216,
     "metadata": {},
     "output_type": "execute_result"
    }
   ],
   "source": [
    "# re.search(\"x[0-9A-Fa-f]{2,4}\", \"xA\")\n",
    "# re.search(\"x[0-9A-Fa-f]{2,4}\", \"xX1\")\n",
    "re.search(\"x[0-9A-Fa-f]{2,4}\", \"xABCDF\")"
   ]
  },
  {
   "cell_type": "code",
   "execution_count": 218,
   "id": "b291f2f1-d42e-4201-b3fd-0f6345ddcfa9",
   "metadata": {},
   "outputs": [],
   "source": [
    "# re.search(\"^[a-zA-Z_][a-zA-Z0-9_]*\", \"product\")\n",
    "re.search(\"^[a-zA-Z_][a-zA-Z0-9_]*\", \"12A_\")"
   ]
  },
  {
   "cell_type": "code",
   "execution_count": 220,
   "id": "669f5119-5ad2-4477-add5-cc1fa6199e69",
   "metadata": {},
   "outputs": [
    {
     "data": {
      "text/plain": [
       "<re.Match object; span=(0, 8), match='106-0001'>"
      ]
     },
     "execution_count": 220,
     "metadata": {},
     "output_type": "execute_result"
    }
   ],
   "source": [
    "# re.search(\"[0-9]{3}-[0-9]{4}\", \"3330000\")\n",
    "re.search(\"[0-9]{3}-[0-9]{4}\", \"106-0001\")"
   ]
  },
  {
   "cell_type": "markdown",
   "id": "98fbed71-4475-4c4a-b1cf-de960a883f5b",
   "metadata": {},
   "source": [
    "#### 問題2(課題)"
   ]
  },
  {
   "cell_type": "code",
   "execution_count": 221,
   "id": "dc51bae8-95ec-487d-b873-0dbfdd8e09c5",
   "metadata": {},
   "outputs": [],
   "source": [
    "ptr = [\"[012]{3}\",\"x[0-9A-Fa-f]{2,4}\",\"^[a-zA-Z_][a-zA-Z0-9_]*\", \"[0-9]{3}-[0-9]{4}\"]\n",
    "str_ = [[\"113\", \"010\"],[\"xA\",\"xX1\"],[\"product\", \"12A_\"],[\"333000\",\"106-0001\"]]\n"
   ]
  },
  {
   "cell_type": "code",
   "execution_count": 225,
   "id": "2021d1eb-7cf6-4bd5-90e3-0697a420c960",
   "metadata": {},
   "outputs": [
    {
     "name": "stdout",
     "output_type": "stream",
     "text": [
      "（パターン）[012]{3}（文字列）113（マッチ）×\n",
      "（パターン）[012]{3}（文字列）010（マッチ）〇\n",
      "（パターン）x[0-9A-Fa-f]{2,4}（文字列）xA（マッチ）×\n",
      "（パターン）x[0-9A-Fa-f]{2,4}（文字列）xX1（マッチ）×\n",
      "（パターン）^[a-zA-Z_][a-zA-Z0-9_]*（文字列）product（マッチ）〇\n",
      "（パターン）^[a-zA-Z_][a-zA-Z0-9_]*（文字列）12A_（マッチ）×\n",
      "（パターン）[0-9]{3}-[0-9]{4}（文字列）333000（マッチ）×\n",
      "（パターン）[0-9]{3}-[0-9]{4}（文字列）106-0001（マッチ）〇\n"
     ]
    }
   ],
   "source": [
    "import re\n",
    " \n",
    "ptr = [\"[012]{3}\",\"x[0-9A-Fa-f]{2,4}\",\"^[a-zA-Z_][a-zA-Z0-9_]*\", \"[0-9]{3}-[0-9]{4}\"]\n",
    "str_ = [[\"113\", \"010\"],[\"xA\",\"xX1\"],[\"product\", \"12A_\"],[\"333000\",\"106-0001\"]]\n",
    " \n",
    "for n, p in enumerate(ptr):\n",
    "    pattern = re.compile(p)\n",
    "    for valuestr in str_[n]:\n",
    "        res = pattern.search(valuestr)\n",
    "        if res is not None:\n",
    "            m = \"〇\"\n",
    "        else:\n",
    "            m = \"×\"\n",
    "        msg = \"（パターン）\" + p + \"（文字列）\" + valuestr + \"（マッチ）\" + m\n",
    "        print(msg)\n",
    " "
   ]
  },
  {
   "cell_type": "code",
   "execution_count": 226,
   "id": "28c0749a-6ba9-4266-bbb8-4fa8c531bc70",
   "metadata": {},
   "outputs": [
    {
     "name": "stdout",
     "output_type": "stream",
     "text": [
      "（パターン）[012]{3}（文字列）113（マッチ）×\n",
      "（パターン）[012]{3}（文字列）010（マッチ）〇\n",
      "（パターン）x[0-9A-Fa-f]{2,4}（文字列）xA（マッチ）×\n",
      "（パターン）x[0-9A-Fa-f]{2,4}（文字列）xX1（マッチ）×\n",
      "（パターン）^[a-zA-Z_][a-zA-Z0-9_]*（文字列）product（マッチ）〇\n",
      "（パターン）^[a-zA-Z_][a-zA-Z0-9_]*（文字列）12A_（マッチ）×\n",
      "（パターン）[0-9]{3}-[0-9]{4}（文字列）333000（マッチ）×\n",
      "（パターン）[0-9]{3}-[0-9]{4}（文字列）106-0001（マッチ）〇\n"
     ]
    }
   ],
   "source": [
    "import re\n",
    " \n",
    "ptr = [\"[012]{3}\",\"x[0-9A-Fa-f]{2,4}\",\"^[a-zA-Z_][a-zA-Z0-9_]*\", \"[0-9]{3}-[0-9]{4}\"]\n",
    "str_ = [[\"113\", \"010\"],[\"xA\",\"xX1\"],[\"product\", \"12A_\"],[\"333000\",\"106-0001\"]]\n",
    " \n",
    "for p, s in zip(ptr, str_):\n",
    "    pattern = re.compile(p)\n",
    "    for valuestr in s:\n",
    "        res = pattern.search(valuestr)\n",
    "        if res is not None:\n",
    "            m = \"〇\"\n",
    "        else:\n",
    "            m = \"×\"\n",
    "        msg = \"（パターン）\" + p + \"（文字列）\" + valuestr + \"（マッチ）\" + m\n",
    "        print(msg)"
   ]
  },
  {
   "cell_type": "code",
   "execution_count": 223,
   "id": "21d82bc7-f31c-4d06-b95f-b621f8353db2",
   "metadata": {},
   "outputs": [
    {
     "name": "stdout",
     "output_type": "stream",
     "text": [
      "[012]{3}\n",
      "x[0-9A-Fa-f]{2,4}\n",
      "^[a-zA-Z_][a-zA-Z0-9_]*\n",
      "[0-9]{3}-[0-9]{4}\n"
     ]
    }
   ],
   "source": [
    "for p in ptr:\n",
    "    print(p)"
   ]
  },
  {
   "cell_type": "code",
   "execution_count": 224,
   "id": "d69092f8-a176-42d0-994a-a0345d5faaca",
   "metadata": {},
   "outputs": [
    {
     "name": "stdout",
     "output_type": "stream",
     "text": [
      "['113', '010']\n",
      "['xA', 'xX1']\n",
      "['product', '12A_']\n",
      "['333000', '106-0001']\n"
     ]
    }
   ],
   "source": [
    "for s in str_:\n",
    "    print(s)"
   ]
  },
  {
   "cell_type": "markdown",
   "id": "5313aa2e-ae7e-4a8a-8b19-f4dd35e73648",
   "metadata": {},
   "source": [
    "#### 問題3"
   ]
  },
  {
   "cell_type": "code",
   "execution_count": 227,
   "id": "706db6f4-dbae-4d87-865a-688cb257c5a6",
   "metadata": {},
   "outputs": [
    {
     "name": "stdout",
     "output_type": "stream",
     "text": [
      "（パターン）^[0-7]{3}$（文字列）008（マッチ）×\n",
      "（パターン）^[0-7]{3}$（文字列）010（マッチ）〇\n"
     ]
    }
   ],
   "source": [
    "import re\n",
    " \n",
    "ptr = \"^[0-7]{3}$\"\n",
    "str_ = [\"008\", \"010\"]\n",
    " \n",
    "pattern = re.compile(ptr)\n",
    "for valuestr in str_:\n",
    "    res = pattern.search(valuestr)\n",
    "    if res is not None:    \n",
    "        m = \"〇\"   \n",
    "    else:      \n",
    "        m = \"×\"   \n",
    "    msg = \"（パターン）\" + ptr + \"（文字列）\" + valuestr + \"（マッチ）\" + m\n",
    "    \n",
    "    print(msg)"
   ]
  },
  {
   "cell_type": "code",
   "execution_count": 228,
   "id": "7bb9207d-ae81-49fc-860c-c4a0b2a77bde",
   "metadata": {},
   "outputs": [
    {
     "name": "stdout",
     "output_type": "stream",
     "text": [
      "（パターン）^[0-9]{3}-[0-9]{4}-[0-9]{4}$（文字列）123-5678-8901（マッチ）〇\n",
      "（パターン）^[0-9]{3}-[0-9]{4}-[0-9]{4}$（文字列）12-3456-7890（マッチ）×\n"
     ]
    }
   ],
   "source": [
    "import re\n",
    " \n",
    "ptr = \"^[0-9]{3}-[0-9]{4}-[0-9]{4}$\"\n",
    "str_ = [\"123-5678-8901\", \"12-3456-7890\"]\n",
    " \n",
    "pattern = re.compile(ptr)\n",
    "for valuestr in str_:  \n",
    "    res = pattern.search(valuestr)\n",
    "    if res is not None:   \n",
    "        m = \"〇\"    \n",
    "    else:  \n",
    "        m = \"×\"\n",
    "        \n",
    "    msg = \"（パターン）\" + ptr + \"（文字列）\" + valuestr + \"（マッチ）\" + m\n",
    "    \n",
    "    print(msg)"
   ]
  },
  {
   "cell_type": "code",
   "execution_count": null,
   "id": "712e1e47-dec8-4a48-9950-b53de03ddf92",
   "metadata": {},
   "outputs": [],
   "source": []
  }
 ],
 "metadata": {
  "kernelspec": {
   "display_name": "Python 3 (ipykernel)",
   "language": "python",
   "name": "python3"
  },
  "language_info": {
   "codemirror_mode": {
    "name": "ipython",
    "version": 3
   },
   "file_extension": ".py",
   "mimetype": "text/x-python",
   "name": "python",
   "nbconvert_exporter": "python",
   "pygments_lexer": "ipython3",
   "version": "3.9.18"
  }
 },
 "nbformat": 4,
 "nbformat_minor": 5
}
