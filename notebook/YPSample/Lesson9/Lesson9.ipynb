{
 "cells": [
  {
   "cell_type": "markdown",
   "metadata": {},
   "source": [
    "### Lesson9"
   ]
  },
  {
   "cell_type": "markdown",
   "metadata": {},
   "source": [
    "### Sample1"
   ]
  },
  {
   "cell_type": "code",
   "execution_count": 3,
   "metadata": {},
   "outputs": [
    {
     "name": "stdout",
     "output_type": "stream",
     "text": [
      "文字列は ありがとう。 です。\n",
      "0番目の文字は あ です。\n",
      "文字列を逆順にすると 。うとがりあ です。\n",
      "文字列の長さは 6 です。\n"
     ]
    }
   ],
   "source": [
    "str = input(\"文字列を入力してください。\")\n",
    "\n",
    "print(\"文字列は\",str,\"です。\")\n",
    "print(\"0番目の文字は\",str[0],\"です。\")\n",
    "print(\"文字列を逆順にすると\",str[::-1],\"です。\")\n",
    "print(\"文字列の長さは\",len(str),\"です。\")\n"
   ]
  },
  {
   "cell_type": "markdown",
   "metadata": {},
   "source": [
    "### Sample2"
   ]
  },
  {
   "cell_type": "code",
   "execution_count": 4,
   "metadata": {},
   "outputs": [
    {
     "name": "stdout",
     "output_type": "stream",
     "text": [
      "文字列は Hello です。\n",
      "大文字にすると HELLO です。\n",
      "小文字にすると hello です。\n"
     ]
    }
   ],
   "source": [
    "str = input(\"文字列を入力してください。\")\n",
    "\n",
    "print(\"文字列は\",str,\"です。\")\n",
    "print(\"大文字にすると\",str.upper(),\"です。\")\n",
    "print(\"小文字にすると\",str.lower(),\"です。\")\n"
   ]
  },
  {
   "cell_type": "markdown",
   "metadata": {},
   "source": [
    "### Sample3"
   ]
  },
  {
   "cell_type": "code",
   "execution_count": 6,
   "metadata": {},
   "outputs": [
    {
     "name": "stdout",
     "output_type": "stream",
     "text": [
      "aaaはbbbcccです。cccです。\n",
      "5個    10,000円\n"
     ]
    }
   ],
   "source": [
    "word0=input(\"１つ目の単語を入力してください。\")\n",
    "word1=input(\"２つ目の単語を入力してください。\")\n",
    "word2=input(\"３つ目の単語を入力してください。\")\n",
    "\n",
    "print(\"{0}は{1}{2}です。{2}です。\".format(word0,word1,word2))\n",
    "\n",
    "num0=int(input(\"個数を入力してください。\"))\n",
    "num1=int(input(\"金額を入力してください。\"))\n",
    "\n",
    "print(\"{0:<}個{1:>10,}円\".format(num0,num1))\n"
   ]
  },
  {
   "cell_type": "markdown",
   "metadata": {},
   "source": [
    "### Sample4"
   ]
  },
  {
   "cell_type": "code",
   "execution_count": 8,
   "metadata": {},
   "outputs": [
    {
     "name": "stdout",
     "output_type": "stream",
     "text": [
      "あいうえお の 2 の位置に う がみつかりました。\n"
     ]
    }
   ],
   "source": [
    "str = input(\"文字列を入力してください。\")\n",
    "key = input(\"検索する文字列を入力してください。\")\n",
    "\n",
    "res=str.find(key)\n",
    "\n",
    "if res != -1:\n",
    "  print(str,\"の\", res, \"の位置に\", key, \"がみつかりました。\")\n",
    "else:\n",
    "    print(str,\"の中に\", key, \"がみつかりませんでした。\")\n"
   ]
  },
  {
   "cell_type": "markdown",
   "metadata": {},
   "source": [
    "### Sample5"
   ]
  },
  {
   "cell_type": "code",
   "execution_count": 11,
   "metadata": {},
   "outputs": [
    {
     "name": "stdout",
     "output_type": "stream",
     "text": [
      "abcde の 2 の位置に c がみつかりました。\n",
      "abcde を abzde に置換しました。\n"
     ]
    }
   ],
   "source": [
    "str = input(\"文字列を入力してください。\")\n",
    "key = input(\"検索する文字列を入力してください。\")\n",
    "key2 = input(\"置換する文字列を入力してください。\")\n",
    "\n",
    "res=str.find(key)\n",
    "\n",
    "if res != -1:\n",
    "  print(str,\"の\", res, \"の位置に\", key, \"がみつかりました。\")\n",
    "  res=str.replace(key,key2)\n",
    "  print(str,\"を\",res, \"に置換しました。\")\n",
    "else:\n",
    "  print(str,\"の中に\", key, \"がみつかりませんでした。\")\n"
   ]
  },
  {
   "cell_type": "markdown",
   "metadata": {},
   "source": [
    "### Sample6"
   ]
  },
  {
   "cell_type": "code",
   "execution_count": 12,
   "metadata": {},
   "outputs": [
    {
     "name": "stdout",
     "output_type": "stream",
     "text": [
      "------\n",
      "(パターン)Apple(文字列)Hello(マッチ)×\n",
      "(パターン)Apple(文字列)GoodBye(マッチ)×\n",
      "(パターン)Apple(文字列)Thankyou(マッチ)×\n",
      "------\n",
      "(パターン)GoodBye(文字列)Hello(マッチ)×\n",
      "(パターン)GoodBye(文字列)GoodBye(マッチ)〇\n",
      "(パターン)GoodBye(文字列)Thankyou(マッチ)×\n",
      "------\n",
      "(パターン)Thankyou(文字列)Hello(マッチ)×\n",
      "(パターン)Thankyou(文字列)GoodBye(マッチ)×\n",
      "(パターン)Thankyou(文字列)Thankyou(マッチ)〇\n"
     ]
    }
   ],
   "source": [
    "import re\n",
    "\n",
    "ptr = [\"Apple\", \"GoodBye\",\"Thankyou\"]\n",
    "str = [\"Hello\", \"GoodBye\",\"Thankyou\"]\n",
    "\n",
    "for valueptr in ptr:\n",
    "  print(\"------\")\n",
    "  pattern = re.compile(valueptr)\n",
    "  for valuestr in str:\n",
    "    res = pattern.search(valuestr)\n",
    "    if res is not None:\n",
    "      m=\"〇\"\n",
    "    else:\n",
    "      m=\"×\"\n",
    "    msg=\"(パターン)\"+valueptr+\"(文字列)\"+valuestr+\"(マッチ)\"+m\n",
    "    print(msg)\n",
    "\n"
   ]
  },
  {
   "cell_type": "markdown",
   "metadata": {},
   "source": [
    "### Sample7"
   ]
  },
  {
   "cell_type": "code",
   "execution_count": 14,
   "metadata": {},
   "outputs": [
    {
     "name": "stdout",
     "output_type": "stream",
     "text": [
      "------\n",
      "(パターン)TXT(文字列)TXT(マッチ)〇\n",
      "(パターン)TXT(文字列)TXTT(マッチ)〇\n",
      "(パターン)TXT(文字列)TXTTT(マッチ)〇\n",
      "(パターン)TXT(文字列)TTXT(マッチ)〇\n",
      "------\n",
      "(パターン)^TXT(文字列)TXT(マッチ)〇\n",
      "(パターン)^TXT(文字列)TXTT(マッチ)〇\n",
      "(パターン)^TXT(文字列)TXTTT(マッチ)〇\n",
      "(パターン)^TXT(文字列)TTXT(マッチ)×\n",
      "------\n",
      "(パターン)TXT$(文字列)TXT(マッチ)〇\n",
      "(パターン)TXT$(文字列)TXTT(マッチ)×\n",
      "(パターン)TXT$(文字列)TXTTT(マッチ)×\n",
      "(パターン)TXT$(文字列)TTXT(マッチ)〇\n",
      "------\n",
      "(パターン)^TXT$(文字列)TXT(マッチ)〇\n",
      "(パターン)^TXT$(文字列)TXTT(マッチ)×\n",
      "(パターン)^TXT$(文字列)TXTTT(マッチ)×\n",
      "(パターン)^TXT$(文字列)TTXT(マッチ)×\n"
     ]
    }
   ],
   "source": [
    "import re\n",
    "\n",
    "ptr = [\"TXT\", \"^TXT\", \"TXT$\", \"^TXT$\"]\n",
    "str = [\"TXT\", \"TXTT\", \"TXTTT\", \"TTXT\"]\n",
    "\n",
    "for valueptr in ptr:\n",
    "  print(\"------\")\n",
    "  pattern = re.compile(valueptr)\n",
    "  for valuestr in str:\n",
    "    res = pattern.search(valuestr)\n",
    "    if res is not None:\n",
    "      m=\"〇\"\n",
    "    else:\n",
    "      m=\"×\"\n",
    "    msg=\"(パターン)\"+valueptr+\"(文字列)\"+valuestr+\"(マッチ)\"+m\n",
    "    print(msg)\n"
   ]
  },
  {
   "cell_type": "code",
   "execution_count": 15,
   "metadata": {},
   "outputs": [
    {
     "name": "stdout",
     "output_type": "stream",
     "text": [
      "\u001b[91mTXT\u001b[0mTT\n"
     ]
    }
   ],
   "source": [
    "import re\n",
    " \n",
    "def str_search(ptr,str_):\n",
    "    colorRED = '\\033[91m'\n",
    "    colorEND = '\\033[0m'\n",
    "    pattern = re.compile(ptr)\n",
    "    res = pattern.search(str_)\n",
    "    if res is not None:\n",
    "        r = res.span()\n",
    "        str1 = str_[0:r[0]]\n",
    "        str2 = str_[r[0]:r[1]]\n",
    "        str3 = str_[r[1]:]\n",
    "        restr =  \"{}{}{}{}{}\".format(str1,colorRED ,str2 ,colorEND, str3)\n",
    "        return restr\n",
    "    else:\n",
    "        return str_\n",
    "if __name__ == \"__main__\":\n",
    "    ptr = \"^TXT\"\n",
    "    str_ = \"TXTTT\"\n",
    "    print(str_search(ptr, str_))\n",
    " "
   ]
  },
  {
   "cell_type": "markdown",
   "metadata": {},
   "source": [
    "### Sample8"
   ]
  },
  {
   "cell_type": "code",
   "execution_count": 16,
   "metadata": {},
   "outputs": [
    {
     "name": "stdout",
     "output_type": "stream",
     "text": [
      "------\n",
      "(パターン)TXT.(文字列)TXT(マッチ)×\n",
      "(パターン)TXT.(文字列)TXTT(マッチ)〇\n",
      "(パターン)TXT.(文字列)TXTTT(マッチ)〇\n",
      "(パターン)TXT.(文字列)TTXT(マッチ)×\n",
      "(パターン)TXT.(文字列)TTTXT(マッチ)×\n",
      "------\n",
      "(パターン)TXT..(文字列)TXT(マッチ)×\n",
      "(パターン)TXT..(文字列)TXTT(マッチ)×\n",
      "(パターン)TXT..(文字列)TXTTT(マッチ)〇\n",
      "(パターン)TXT..(文字列)TTXT(マッチ)×\n",
      "(パターン)TXT..(文字列)TTTXT(マッチ)×\n",
      "------\n",
      "(パターン).TXT(文字列)TXT(マッチ)×\n",
      "(パターン).TXT(文字列)TXTT(マッチ)×\n",
      "(パターン).TXT(文字列)TXTTT(マッチ)×\n",
      "(パターン).TXT(文字列)TTXT(マッチ)〇\n",
      "(パターン).TXT(文字列)TTTXT(マッチ)〇\n",
      "------\n",
      "(パターン)..TXT(文字列)TXT(マッチ)×\n",
      "(パターン)..TXT(文字列)TXTT(マッチ)×\n",
      "(パターン)..TXT(文字列)TXTTT(マッチ)×\n",
      "(パターン)..TXT(文字列)TTXT(マッチ)×\n",
      "(パターン)..TXT(文字列)TTTXT(マッチ)〇\n"
     ]
    }
   ],
   "source": [
    "import re\n",
    "\n",
    "ptr = [\"TXT.\", \"TXT..\", \".TXT\", \"..TXT\"]\n",
    "str = [\"TXT\", \"TXTT\", \"TXTTT\", \"TTXT\", \"TTTXT\"]\n",
    "\n",
    "for valueptr in ptr:\n",
    "  print(\"------\")\n",
    "  pattern = re.compile(valueptr)\n",
    "  for valuestr in str:\n",
    "    res = pattern.search(valuestr)\n",
    "    if res is not None:\n",
    "      m=\"〇\"\n",
    "    else:\n",
    "      m=\"×\"\n",
    "    msg=\"(パターン)\"+valueptr+\"(文字列)\"+valuestr+\"(マッチ)\"+m\n",
    "    print(msg)\n"
   ]
  },
  {
   "cell_type": "markdown",
   "metadata": {},
   "source": [
    "### Sample9"
   ]
  },
  {
   "cell_type": "code",
   "execution_count": 18,
   "metadata": {},
   "outputs": [
    {
     "name": "stdout",
     "output_type": "stream",
     "text": [
      "------\n",
      "(パターン)[012](文字列)0(マッチ)〇\n",
      "(パターン)[012](文字列)1(マッチ)〇\n",
      "(パターン)[012](文字列)2(マッチ)〇\n",
      "(パターン)[012](文字列)3(マッチ)×\n",
      "------\n",
      "(パターン)[0-3](文字列)0(マッチ)〇\n",
      "(パターン)[0-3](文字列)1(マッチ)〇\n",
      "(パターン)[0-3](文字列)2(マッチ)〇\n",
      "(パターン)[0-3](文字列)3(マッチ)〇\n",
      "------\n",
      "(パターン)[^012](文字列)0(マッチ)×\n",
      "(パターン)[^012](文字列)1(マッチ)×\n",
      "(パターン)[^012](文字列)2(マッチ)×\n",
      "(パターン)[^012](文字列)3(マッチ)〇\n"
     ]
    }
   ],
   "source": [
    "import re\n",
    "\n",
    "ptr = [\"[012]\", \"[0-3]\", \"[^012]\"]\n",
    "str = [\"0\",\"1\",\"2\",\"3\"]\n",
    "\n",
    "for valueptr in ptr:\n",
    "  print(\"------\")\n",
    "  pattern = re.compile(valueptr)\n",
    "  for valuestr in str:\n",
    "    res = pattern.search(valuestr)\n",
    "    if res is not None:\n",
    "      m=\"〇\"\n",
    "    else:\n",
    "      m=\"×\"\n",
    "    msg=\"(パターン)\"+valueptr+\"(文字列)\"+valuestr+\"(マッチ)\"+m\n",
    "    print(msg)\n"
   ]
  },
  {
   "cell_type": "markdown",
   "metadata": {},
   "source": [
    "### Sample10"
   ]
  },
  {
   "cell_type": "code",
   "execution_count": 1,
   "metadata": {},
   "outputs": [
    {
     "name": "stdout",
     "output_type": "stream",
     "text": [
      "------\n",
      "(パターン)T*(文字列)X(マッチ)〇\n",
      "(パターン)T*(文字列)TT(マッチ)〇\n",
      "(パターン)T*(文字列)TTT(マッチ)〇\n",
      "(パターン)T*(文字列)TTTT(マッチ)〇\n",
      "------\n",
      "(パターン)T+(文字列)X(マッチ)×\n",
      "(パターン)T+(文字列)TT(マッチ)〇\n",
      "(パターン)T+(文字列)TTT(マッチ)〇\n",
      "(パターン)T+(文字列)TTTT(マッチ)〇\n",
      "------\n",
      "(パターン)T{3}(文字列)X(マッチ)×\n",
      "(パターン)T{3}(文字列)TT(マッチ)×\n",
      "(パターン)T{3}(文字列)TTT(マッチ)〇\n",
      "(パターン)T{3}(文字列)TTTT(マッチ)〇\n"
     ]
    }
   ],
   "source": [
    "import re\n",
    "\n",
    "ptr = [\"T*\", \"T+\", \"T{3}\"]\n",
    "str = [\"X\",\"TT\",\"TTT\",\"TTTT\"]\n",
    "\n",
    "for valueptr in ptr:\n",
    "  print(\"------\")\n",
    "  pattern = re.compile(valueptr)\n",
    "  for valuestr in str:\n",
    "    res = pattern.search(valuestr)\n",
    "    if res is not None:\n",
    "      m=\"〇\"\n",
    "    else:\n",
    "      m=\"×\"\n",
    "    msg=\"(パターン)\"+valueptr+\"(文字列)\"+valuestr+\"(マッチ)\"+m\n",
    "    print(msg)\n"
   ]
  },
  {
   "cell_type": "code",
   "execution_count": 4,
   "metadata": {},
   "outputs": [
    {
     "name": "stdout",
     "output_type": "stream",
     "text": [
      "== T+ 最長マッチ ==\n",
      "\u001b[91mTTT\u001b[0m\n",
      "== T+? １回以上の繰り返しの最短マッチ ==\n",
      "\u001b[91mT\u001b[0mTT\n"
     ]
    }
   ],
   "source": [
    "import re\n",
    " \n",
    "def str_search(ptr,str_):\n",
    "    colorRED = '\\033[91m'\n",
    "    colorEND = '\\033[0m'\n",
    "    pattern = re.compile(ptr)\n",
    "    res = pattern.search(str_)\n",
    "    if res is not None:\n",
    "        r = res.span()\n",
    "        # print(r)\n",
    "        str1 = str_[0:r[0]]\n",
    "        str2 = str_[r[0]:r[1]]\n",
    "        str3 = str_[r[1]:]\n",
    "        restr =  \"{}{}{}{}{}\".format(str1,colorRED ,str2 ,colorEND, str3)\n",
    "        return restr\n",
    "    else:\n",
    "        return str_\n",
    "if __name__ == \"__main__\":\n",
    "    print(\"== T+ 最長マッチ ==\")\n",
    "    ptr = \"T+\"\n",
    "    str_ = \"TTT\"\n",
    "    print(str_search(ptr, str_))\n",
    "    \n",
    "    print(\"== T+? １回以上の繰り返しの最短マッチ ==\")\n",
    "    ptr = \"T+?\"\n",
    "    str_ = \"TTT\"\n",
    "    print(str_search(ptr, str_))"
   ]
  },
  {
   "cell_type": "markdown",
   "metadata": {},
   "source": [
    "### Sample11"
   ]
  },
  {
   "cell_type": "code",
   "execution_count": 5,
   "metadata": {},
   "outputs": [
    {
     "name": "stdout",
     "output_type": "stream",
     "text": [
      "------\n",
      "(パターン)(TXT)+(文字列)TX(マッチ)×\n",
      "(パターン)(TXT)+(文字列)TXT(マッチ)〇\n",
      "(パターン)(TXT)+(文字列)XTX(マッチ)×\n",
      "(パターン)(TXT)+(文字列)TXTXT(マッチ)〇\n",
      "------\n",
      "(パターン)TXT|XTX(文字列)TX(マッチ)×\n",
      "(パターン)TXT|XTX(文字列)TXT(マッチ)〇\n",
      "(パターン)TXT|XTX(文字列)XTX(マッチ)〇\n",
      "(パターン)TXT|XTX(文字列)TXTXT(マッチ)〇\n"
     ]
    }
   ],
   "source": [
    "import re\n",
    "\n",
    "ptr = [\"(TXT)+\", \"TXT|XTX\"]\n",
    "str = [\"TX\",\"TXT\",\"XTX\",\"TXTXT\"]\n",
    "\n",
    "for valueptr in ptr:\n",
    "  print(\"------\")\n",
    "  pattern = re.compile(valueptr)\n",
    "  for valuestr in str:\n",
    "    res = pattern.search(valuestr)\n",
    "    if res is not None:\n",
    "      m=\"〇\"\n",
    "    else:\n",
    "      m=\"×\"\n",
    "    msg=\"(パターン)\"+valueptr+\"(文字列)\"+valuestr+\"(マッチ)\"+m\n",
    "    print(msg)\n"
   ]
  },
  {
   "cell_type": "code",
   "execution_count": 8,
   "metadata": {},
   "outputs": [
    {
     "name": "stdout",
     "output_type": "stream",
     "text": [
      "Apple 〇\n",
      "Apples 〇\n",
      "apple 〇\n",
      "apples 〇\n",
      "applees\n"
     ]
    }
   ],
   "source": [
    "import re\n",
    "\n",
    "#Apple Apples 単数形も複数形もリンゴ扱い\n",
    "str_ = [\"Apple\", \"Apples\", \"apple\", \"apples\", \"applees\"]\n",
    "\n",
    "for valstr in str_:\n",
    "  if re.search(\"^(A|a)pples?$\", valstr):\n",
    "    print(valstr, \"〇\")\n",
    "  else:\n",
    "    print(valstr)\n"
   ]
  },
  {
   "cell_type": "code",
   "execution_count": 19,
   "metadata": {},
   "outputs": [
    {
     "name": "stdout",
     "output_type": "stream",
     "text": [
      "<re.Match object; span=(0, 6), match='{}{}{}'>\n"
     ]
    }
   ],
   "source": [
    "str_ = \"{}{}{}\"\n",
    "ptr = \"(\\{\\}){3}\"\n",
    "ret = re.search(ptr,str_)\n",
    "print(ret)\n"
   ]
  },
  {
   "cell_type": "code",
   "execution_count": 26,
   "metadata": {},
   "outputs": [
    {
     "name": "stdout",
     "output_type": "stream",
     "text": [
      "あなたのメールアドレスは:  XyZ@gmail.com です。\n"
     ]
    }
   ],
   "source": [
    "import re\n",
    "\n",
    "ptr = \"^[0-9a-zA-Z_\\.-]+@[0-9a-zA-Z_\\.-]+\\.[a-zA-Z]+$\"\n",
    "str = \"XyZ@gmail.com\"\n",
    "\n",
    "pattern = re.compile(ptr)\n",
    "\n",
    "# for valuestr in str:\n",
    "res = pattern.search(str)\n",
    "if res is not None:\n",
    "  print(\"あなたのメールアドレスは: \",str, \"です。\")\n",
    "else:\n",
    "  print(\"×\")\n"
   ]
  },
  {
   "cell_type": "markdown",
   "metadata": {},
   "source": [
    "### Sample12"
   ]
  },
  {
   "cell_type": "code",
   "execution_count": 29,
   "metadata": {},
   "outputs": [
    {
     "name": "stdout",
     "output_type": "stream",
     "text": [
      "(返還前)Sample.csv(返還後)Sample.txt\n",
      "(返還前)Sample,exe(返還後)Sample,exe\n",
      "(返還前)test.py(返還後)test.txt\n",
      "(返還前)index.html(返還後)index.txt\n"
     ]
    }
   ],
   "source": [
    "import re\n",
    "\n",
    "ptr = \"\\.(csv|html|py)$\"\n",
    "str = [\"Sample.csv\",\"Sample,exe\",\"test.py\",\"index.html\"]\n",
    "\n",
    "pattern = re.compile(ptr)\n",
    "for valuestr in str:\n",
    "  res = pattern.sub(\".txt\",valuestr)\n",
    "  msg = \"(返還前)\" + valuestr +\"(返還後)\"+res\n",
    "  print(msg)\n"
   ]
  },
  {
   "cell_type": "markdown",
   "metadata": {},
   "source": [
    "### 練習"
   ]
  },
  {
   "cell_type": "code",
   "execution_count": 38,
   "metadata": {},
   "outputs": [
    {
     "name": "stdout",
     "output_type": "stream",
     "text": [
      "ファイルのリストは以下です。\n",
      "Sample.csv\n",
      "Sample.exe\n",
      "Sample1.py\n",
      "Sample2.py\n",
      "Sample.txt\n",
      "index.html\n",
      "該当するファイルのリストは以下です。\n",
      "Sample1.py\n",
      "Sample2.py\n"
     ]
    }
   ],
   "source": [
    "ln=[\"Sample.csv\",\"Sample.exe\",\"Sample1.py\",\"Sample2.py\",\"Sample.txt\",\"index.html\"]\n",
    "\n",
    "print(\"ファイルのリストは以下です。\")\n",
    "for s in ln:\n",
    "  print(s)\n",
    "\n",
    "ptr = \"\\.\"+input(\"拡張子を入力してください。\")+\"$\"\n",
    "\n",
    "print(\"該当するファイルのリストは以下です。\")\n",
    "\n",
    "pattern = re.compile(ptr)\n",
    "for valuestr in ln:\n",
    "  res = pattern.search(valuestr)\n",
    "  # print(res)\n",
    "  if res :\n",
    "    print(valuestr)\n",
    "  else:\n",
    "    pass\n"
   ]
  },
  {
   "cell_type": "code",
   "execution_count": 71,
   "metadata": {},
   "outputs": [
    {
     "name": "stdout",
     "output_type": "stream",
     "text": [
      "(パターン)[012]{3}(文字列)113(マッチ)×\n",
      "(パターン)[012]{3}(文字列)010(マッチ)〇\n",
      "(パターン)x[0-9A-Fa-f]{2, 4}(文字列)xA(マッチ)×\n",
      "(パターン)x[0-9A-Fa-f]{2, 4}(文字列)xX1(マッチ)×\n",
      "(パターン)^[a-zA-Z_][a-zA-Z0-9_]*(文字列)product(マッチ)〇\n",
      "(パターン)^[a-zA-Z_][a-zA-Z0-9_]*(文字列)12A_(マッチ)×\n",
      "(パターン)[0-9]{3}-[0-9]{4}(文字列)3330000(マッチ)×\n",
      "(パターン)[0-9]{3}-[0-9]{4}(文字列)106-0001(マッチ)〇\n"
     ]
    }
   ],
   "source": [
    "import re\n",
    "\n",
    "ptr = [\"[012]{3}\", \"x[0-9A-Fa-f]{2, 4}\",\"^[a-zA-Z_][a-zA-Z0-9_]*\",\"[0-9]{3}-[0-9]{4}\"]\n",
    "str = [[\"113\",\"010\"],[\"xA\",\"xX1\"],[\"product\",\"12A_\"],[\"3330000\",\"106-0001\"]]\n",
    "\n",
    "for i in range(0,len(ptr),1):\n",
    "  pattern = re.compile(ptr[i])\n",
    "\n",
    "  for j in range(0,len(str[i]),1):\n",
    "    res = pattern.search(str[i][j])\n",
    "    if res:\n",
    "      m=\"〇\"\n",
    "    else:\n",
    "      m=\"×\"\n",
    "    msg=\"(パターン)\"+ptr[i]+\"(文字列)\"+str[i][j]+\"(マッチ)\"+m\n",
    "    print(msg)\n",
    "\n"
   ]
  },
  {
   "cell_type": "code",
   "execution_count": 70,
   "metadata": {},
   "outputs": [
    {
     "name": "stdout",
     "output_type": "stream",
     "text": [
      "(パターン)^0o[0-7]{3}(文字列)0o111(マッチ)〇\n",
      "(パターン)^0o[0-7]{3}(文字列)0o999(マッチ)×\n",
      "(パターン)[0-9]{3}-[0-9]{4}-[0-9]{4}(文字列)012-3456-7890(マッチ)〇\n",
      "(パターン)[0-9]{3}-[0-9]{4}-[0-9]{4}(文字列)03-1234-5678(マッチ)×\n"
     ]
    }
   ],
   "source": [
    "import re\n",
    "\n",
    "ptr = [\"^0o[0-7]{3}\",\"[0-9]{3}-[0-9]{4}-[0-9]{4}\"]\n",
    "str = [[\"0o111\",\"0o999\"],[\"012-3456-7890\",\"03-1234-5678\"]]\n",
    "\n",
    "for i in range(0,len(ptr),1):\n",
    "  pattern = re.compile(ptr[i])\n",
    "\n",
    "  for j in range(0,len(str[i]),1):\n",
    "    res = pattern.search(str[i][j])\n",
    "    if res:\n",
    "      m=\"〇\"\n",
    "    else:\n",
    "      m=\"×\"\n",
    "    msg=\"(パターン)\"+ptr[i]+\"(文字列)\"+str[i][j]+\"(マッチ)\"+m\n",
    "    print(msg)\n",
    "\n"
   ]
  },
  {
   "cell_type": "code",
   "execution_count": 57,
   "metadata": {},
   "outputs": [
    {
     "name": "stdout",
     "output_type": "stream",
     "text": [
      "73\n"
     ]
    }
   ],
   "source": [
    "a=0o111\n",
    "print(a)"
   ]
  },
  {
   "cell_type": "code",
   "execution_count": null,
   "metadata": {},
   "outputs": [],
   "source": []
  }
 ],
 "metadata": {
  "kernelspec": {
   "display_name": "py39",
   "language": "python",
   "name": "python3"
  },
  "language_info": {
   "codemirror_mode": {
    "name": "ipython",
    "version": 3
   },
   "file_extension": ".py",
   "mimetype": "text/x-python",
   "name": "python",
   "nbconvert_exporter": "python",
   "pygments_lexer": "ipython3",
   "version": "3.9.18"
  }
 },
 "nbformat": 4,
 "nbformat_minor": 2
}
