{
 "cells": [
  {
   "cell_type": "markdown",
   "metadata": {},
   "source": [
    "### Lesson9"
   ]
  },
  {
   "cell_type": "markdown",
   "metadata": {},
   "source": [
    "### Sample1"
   ]
  },
  {
   "cell_type": "code",
   "execution_count": 3,
   "metadata": {},
   "outputs": [
    {
     "name": "stdout",
     "output_type": "stream",
     "text": [
      "文字列は ありがとう。 です。\n",
      "0番目の文字は あ です。\n",
      "文字列を逆順にすると 。うとがりあ です。\n",
      "文字列の長さは 6 です。\n"
     ]
    }
   ],
   "source": [
    "str = input(\"文字列を入力してください。\")\n",
    "\n",
    "print(\"文字列は\",str,\"です。\")\n",
    "print(\"0番目の文字は\",str[0],\"です。\")\n",
    "print(\"文字列を逆順にすると\",str[::-1],\"です。\")\n",
    "print(\"文字列の長さは\",len(str),\"です。\")\n"
   ]
  },
  {
   "cell_type": "markdown",
   "metadata": {},
   "source": [
    "### Sample2"
   ]
  },
  {
   "cell_type": "code",
   "execution_count": 4,
   "metadata": {},
   "outputs": [
    {
     "name": "stdout",
     "output_type": "stream",
     "text": [
      "文字列は Hello です。\n",
      "大文字にすると HELLO です。\n",
      "小文字にすると hello です。\n"
     ]
    }
   ],
   "source": [
    "str = input(\"文字列を入力してください。\")\n",
    "\n",
    "print(\"文字列は\",str,\"です。\")\n",
    "print(\"大文字にすると\",str.upper(),\"です。\")\n",
    "print(\"小文字にすると\",str.lower(),\"です。\")\n"
   ]
  },
  {
   "cell_type": "markdown",
   "metadata": {},
   "source": [
    "### Sample3"
   ]
  },
  {
   "cell_type": "code",
   "execution_count": 6,
   "metadata": {},
   "outputs": [
    {
     "name": "stdout",
     "output_type": "stream",
     "text": [
      "aaaはbbbcccです。cccです。\n",
      "5個    10,000円\n"
     ]
    }
   ],
   "source": [
    "word0=input(\"１つ目の単語を入力してください。\")\n",
    "word1=input(\"２つ目の単語を入力してください。\")\n",
    "word2=input(\"３つ目の単語を入力してください。\")\n",
    "\n",
    "print(\"{0}は{1}{2}です。{2}です。\".format(word0,word1,word2))\n",
    "\n",
    "num0=int(input(\"個数を入力してください。\"))\n",
    "num1=int(input(\"金額を入力してください。\"))\n",
    "\n",
    "print(\"{0:<}個{1:>10,}円\".format(num0,num1))\n"
   ]
  },
  {
   "cell_type": "markdown",
   "metadata": {},
   "source": [
    "### Sample4"
   ]
  },
  {
   "cell_type": "code",
   "execution_count": 8,
   "metadata": {},
   "outputs": [
    {
     "name": "stdout",
     "output_type": "stream",
     "text": [
      "あいうえお の 2 の位置に う がみつかりました。\n"
     ]
    }
   ],
   "source": [
    "str = input(\"文字列を入力してください。\")\n",
    "key = input(\"検索する文字列を入力してください。\")\n",
    "\n",
    "res=str.find(key)\n",
    "\n",
    "if res != -1:\n",
    "  print(str,\"の\", res, \"の位置に\", key, \"がみつかりました。\")\n",
    "else:\n",
    "    print(str,\"の中に\", key, \"がみつかりませんでした。\")\n"
   ]
  },
  {
   "cell_type": "markdown",
   "metadata": {},
   "source": [
    "### Sample5"
   ]
  },
  {
   "cell_type": "code",
   "execution_count": 11,
   "metadata": {},
   "outputs": [
    {
     "name": "stdout",
     "output_type": "stream",
     "text": [
      "abcde の 2 の位置に c がみつかりました。\n",
      "abcde を abzde に置換しました。\n"
     ]
    }
   ],
   "source": [
    "str = input(\"文字列を入力してください。\")\n",
    "key = input(\"検索する文字列を入力してください。\")\n",
    "key2 = input(\"置換する文字列を入力してください。\")\n",
    "\n",
    "res=str.find(key)\n",
    "\n",
    "if res != -1:\n",
    "  print(str,\"の\", res, \"の位置に\", key, \"がみつかりました。\")\n",
    "  res=str.replace(key,key2)\n",
    "  print(str,\"を\",res, \"に置換しました。\")\n",
    "else:\n",
    "  print(str,\"の中に\", key, \"がみつかりませんでした。\")\n"
   ]
  },
  {
   "cell_type": "markdown",
   "metadata": {},
   "source": [
    "### Sample6"
   ]
  },
  {
   "cell_type": "code",
   "execution_count": 12,
   "metadata": {},
   "outputs": [
    {
     "name": "stdout",
     "output_type": "stream",
     "text": [
      "------\n",
      "(パターン)Apple(文字列)Hello(マッチ)×\n",
      "(パターン)Apple(文字列)GoodBye(マッチ)×\n",
      "(パターン)Apple(文字列)Thankyou(マッチ)×\n",
      "------\n",
      "(パターン)GoodBye(文字列)Hello(マッチ)×\n",
      "(パターン)GoodBye(文字列)GoodBye(マッチ)〇\n",
      "(パターン)GoodBye(文字列)Thankyou(マッチ)×\n",
      "------\n",
      "(パターン)Thankyou(文字列)Hello(マッチ)×\n",
      "(パターン)Thankyou(文字列)GoodBye(マッチ)×\n",
      "(パターン)Thankyou(文字列)Thankyou(マッチ)〇\n"
     ]
    }
   ],
   "source": [
    "import re\n",
    "\n",
    "ptr = [\"Apple\", \"GoodBye\",\"Thankyou\"]\n",
    "str = [\"Hello\", \"GoodBye\",\"Thankyou\"]\n",
    "\n",
    "for valueptr in ptr:\n",
    "  print(\"------\")\n",
    "  pattern = re.compile(valueptr)\n",
    "  for valuestr in str:\n",
    "    res = pattern.search(valuestr)\n",
    "    if res is not None:\n",
    "      m=\"〇\"\n",
    "    else:\n",
    "      m=\"×\"\n",
    "    msg=\"(パターン)\"+valueptr+\"(文字列)\"+valuestr+\"(マッチ)\"+m\n",
    "    print(msg)\n",
    "\n"
   ]
  },
  {
   "cell_type": "markdown",
   "metadata": {},
   "source": [
    "### Sample7"
   ]
  },
  {
   "cell_type": "code",
   "execution_count": 14,
   "metadata": {},
   "outputs": [
    {
     "name": "stdout",
     "output_type": "stream",
     "text": [
      "------\n",
      "(パターン)TXT(文字列)TXT(マッチ)〇\n",
      "(パターン)TXT(文字列)TXTT(マッチ)〇\n",
      "(パターン)TXT(文字列)TXTTT(マッチ)〇\n",
      "(パターン)TXT(文字列)TTXT(マッチ)〇\n",
      "------\n",
      "(パターン)^TXT(文字列)TXT(マッチ)〇\n",
      "(パターン)^TXT(文字列)TXTT(マッチ)〇\n",
      "(パターン)^TXT(文字列)TXTTT(マッチ)〇\n",
      "(パターン)^TXT(文字列)TTXT(マッチ)×\n",
      "------\n",
      "(パターン)TXT$(文字列)TXT(マッチ)〇\n",
      "(パターン)TXT$(文字列)TXTT(マッチ)×\n",
      "(パターン)TXT$(文字列)TXTTT(マッチ)×\n",
      "(パターン)TXT$(文字列)TTXT(マッチ)〇\n",
      "------\n",
      "(パターン)^TXT$(文字列)TXT(マッチ)〇\n",
      "(パターン)^TXT$(文字列)TXTT(マッチ)×\n",
      "(パターン)^TXT$(文字列)TXTTT(マッチ)×\n",
      "(パターン)^TXT$(文字列)TTXT(マッチ)×\n"
     ]
    }
   ],
   "source": [
    "import re\n",
    "\n",
    "ptr = [\"TXT\", \"^TXT\", \"TXT$\", \"^TXT$\"]\n",
    "str = [\"TXT\", \"TXTT\", \"TXTTT\", \"TTXT\"]\n",
    "\n",
    "for valueptr in ptr:\n",
    "  print(\"------\")\n",
    "  pattern = re.compile(valueptr)\n",
    "  for valuestr in str:\n",
    "    res = pattern.search(valuestr)\n",
    "    if res is not None:\n",
    "      m=\"〇\"\n",
    "    else:\n",
    "      m=\"×\"\n",
    "    msg=\"(パターン)\"+valueptr+\"(文字列)\"+valuestr+\"(マッチ)\"+m\n",
    "    print(msg)\n"
   ]
  },
  {
   "cell_type": "code",
   "execution_count": 15,
   "metadata": {},
   "outputs": [
    {
     "name": "stdout",
     "output_type": "stream",
     "text": [
      "\u001b[91mTXT\u001b[0mTT\n"
     ]
    }
   ],
   "source": [
    "import re\n",
    " \n",
    "def str_search(ptr,str_):\n",
    "    colorRED = '\\033[91m'\n",
    "    colorEND = '\\033[0m'\n",
    "    pattern = re.compile(ptr)\n",
    "    res = pattern.search(str_)\n",
    "    if res is not None:\n",
    "        r = res.span()\n",
    "        str1 = str_[0:r[0]]\n",
    "        str2 = str_[r[0]:r[1]]\n",
    "        str3 = str_[r[1]:]\n",
    "        restr =  \"{}{}{}{}{}\".format(str1,colorRED ,str2 ,colorEND, str3)\n",
    "        return restr\n",
    "    else:\n",
    "        return str_\n",
    "if __name__ == \"__main__\":\n",
    "    ptr = \"^TXT\"\n",
    "    str_ = \"TXTTT\"\n",
    "    print(str_search(ptr, str_))\n",
    " "
   ]
  },
  {
   "cell_type": "markdown",
   "metadata": {},
   "source": [
    "### Sample8"
   ]
  },
  {
   "cell_type": "code",
   "execution_count": 16,
   "metadata": {},
   "outputs": [
    {
     "name": "stdout",
     "output_type": "stream",
     "text": [
      "------\n",
      "(パターン)TXT.(文字列)TXT(マッチ)×\n",
      "(パターン)TXT.(文字列)TXTT(マッチ)〇\n",
      "(パターン)TXT.(文字列)TXTTT(マッチ)〇\n",
      "(パターン)TXT.(文字列)TTXT(マッチ)×\n",
      "(パターン)TXT.(文字列)TTTXT(マッチ)×\n",
      "------\n",
      "(パターン)TXT..(文字列)TXT(マッチ)×\n",
      "(パターン)TXT..(文字列)TXTT(マッチ)×\n",
      "(パターン)TXT..(文字列)TXTTT(マッチ)〇\n",
      "(パターン)TXT..(文字列)TTXT(マッチ)×\n",
      "(パターン)TXT..(文字列)TTTXT(マッチ)×\n",
      "------\n",
      "(パターン).TXT(文字列)TXT(マッチ)×\n",
      "(パターン).TXT(文字列)TXTT(マッチ)×\n",
      "(パターン).TXT(文字列)TXTTT(マッチ)×\n",
      "(パターン).TXT(文字列)TTXT(マッチ)〇\n",
      "(パターン).TXT(文字列)TTTXT(マッチ)〇\n",
      "------\n",
      "(パターン)..TXT(文字列)TXT(マッチ)×\n",
      "(パターン)..TXT(文字列)TXTT(マッチ)×\n",
      "(パターン)..TXT(文字列)TXTTT(マッチ)×\n",
      "(パターン)..TXT(文字列)TTXT(マッチ)×\n",
      "(パターン)..TXT(文字列)TTTXT(マッチ)〇\n"
     ]
    }
   ],
   "source": [
    "import re\n",
    "\n",
    "ptr = [\"TXT.\", \"TXT..\", \".TXT\", \"..TXT\"]\n",
    "str = [\"TXT\", \"TXTT\", \"TXTTT\", \"TTXT\", \"TTTXT\"]\n",
    "\n",
    "for valueptr in ptr:\n",
    "  print(\"------\")\n",
    "  pattern = re.compile(valueptr)\n",
    "  for valuestr in str:\n",
    "    res = pattern.search(valuestr)\n",
    "    if res is not None:\n",
    "      m=\"〇\"\n",
    "    else:\n",
    "      m=\"×\"\n",
    "    msg=\"(パターン)\"+valueptr+\"(文字列)\"+valuestr+\"(マッチ)\"+m\n",
    "    print(msg)\n"
   ]
  },
  {
   "cell_type": "markdown",
   "metadata": {},
   "source": [
    "### Sample9"
   ]
  },
  {
   "cell_type": "code",
   "execution_count": 18,
   "metadata": {},
   "outputs": [
    {
     "name": "stdout",
     "output_type": "stream",
     "text": [
      "------\n",
      "(パターン)[012](文字列)0(マッチ)〇\n",
      "(パターン)[012](文字列)1(マッチ)〇\n",
      "(パターン)[012](文字列)2(マッチ)〇\n",
      "(パターン)[012](文字列)3(マッチ)×\n",
      "------\n",
      "(パターン)[0-3](文字列)0(マッチ)〇\n",
      "(パターン)[0-3](文字列)1(マッチ)〇\n",
      "(パターン)[0-3](文字列)2(マッチ)〇\n",
      "(パターン)[0-3](文字列)3(マッチ)〇\n",
      "------\n",
      "(パターン)[^012](文字列)0(マッチ)×\n",
      "(パターン)[^012](文字列)1(マッチ)×\n",
      "(パターン)[^012](文字列)2(マッチ)×\n",
      "(パターン)[^012](文字列)3(マッチ)〇\n"
     ]
    }
   ],
   "source": [
    "import re\n",
    "\n",
    "ptr = [\"[012]\", \"[0-3]\", \"[^012]\"]\n",
    "str = [\"0\",\"1\",\"2\",\"3\"]\n",
    "\n",
    "for valueptr in ptr:\n",
    "  print(\"------\")\n",
    "  pattern = re.compile(valueptr)\n",
    "  for valuestr in str:\n",
    "    res = pattern.search(valuestr)\n",
    "    if res is not None:\n",
    "      m=\"〇\"\n",
    "    else:\n",
    "      m=\"×\"\n",
    "    msg=\"(パターン)\"+valueptr+\"(文字列)\"+valuestr+\"(マッチ)\"+m\n",
    "    print(msg)\n"
   ]
  },
  {
   "cell_type": "markdown",
   "metadata": {},
   "source": [
    "### Sample10"
   ]
  },
  {
   "cell_type": "code",
   "execution_count": 1,
   "metadata": {},
   "outputs": [
    {
     "name": "stdout",
     "output_type": "stream",
     "text": [
      "------\n",
      "(パターン)T*(文字列)X(マッチ)〇\n",
      "(パターン)T*(文字列)TT(マッチ)〇\n",
      "(パターン)T*(文字列)TTT(マッチ)〇\n",
      "(パターン)T*(文字列)TTTT(マッチ)〇\n",
      "------\n",
      "(パターン)T+(文字列)X(マッチ)×\n",
      "(パターン)T+(文字列)TT(マッチ)〇\n",
      "(パターン)T+(文字列)TTT(マッチ)〇\n",
      "(パターン)T+(文字列)TTTT(マッチ)〇\n",
      "------\n",
      "(パターン)T{3}(文字列)X(マッチ)×\n",
      "(パターン)T{3}(文字列)TT(マッチ)×\n",
      "(パターン)T{3}(文字列)TTT(マッチ)〇\n",
      "(パターン)T{3}(文字列)TTTT(マッチ)〇\n"
     ]
    }
   ],
   "source": [
    "import re\n",
    "\n",
    "ptr = [\"T*\", \"T+\", \"T{3}\"]\n",
    "str = [\"X\",\"TT\",\"TTT\",\"TTTT\"]\n",
    "\n",
    "for valueptr in ptr:\n",
    "  print(\"------\")\n",
    "  pattern = re.compile(valueptr)\n",
    "  for valuestr in str:\n",
    "    res = pattern.search(valuestr)\n",
    "    if res is not None:\n",
    "      m=\"〇\"\n",
    "    else:\n",
    "      m=\"×\"\n",
    "    msg=\"(パターン)\"+valueptr+\"(文字列)\"+valuestr+\"(マッチ)\"+m\n",
    "    print(msg)\n"
   ]
  },
  {
   "cell_type": "code",
   "execution_count": null,
   "metadata": {},
   "outputs": [],
   "source": []
  }
 ],
 "metadata": {
  "kernelspec": {
   "display_name": "py39",
   "language": "python",
   "name": "python3"
  },
  "language_info": {
   "codemirror_mode": {
    "name": "ipython",
    "version": 3
   },
   "file_extension": ".py",
   "mimetype": "text/x-python",
   "name": "python",
   "nbconvert_exporter": "python",
   "pygments_lexer": "ipython3",
   "version": "3.9.18"
  }
 },
 "nbformat": 4,
 "nbformat_minor": 2
}
