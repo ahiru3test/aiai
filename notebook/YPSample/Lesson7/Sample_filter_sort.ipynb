{
 "cells": [
  {
   "cell_type": "markdown",
   "metadata": {},
   "source": [
    "### filter関数"
   ]
  },
  {
   "cell_type": "code",
   "execution_count": 1,
   "metadata": {},
   "outputs": [
    {
     "name": "stdout",
     "output_type": "stream",
     "text": [
      "[22.86, 13.97, 15.24, 12.7, 16.51, 25.4]\n"
     ]
    }
   ],
   "source": [
    "def larger_5(inch):\n",
    " \n",
    "    return inch >= 5\n",
    "\n",
    "inches = [9, 5.5, 6, 4, 5, 6.5, 10]\n",
    " \n",
    "cms = []\n",
    " \n",
    "for inch in filter(larger_5, inches):\n",
    "    cms.append(inch * 2.54)\n",
    "\n",
    "print(cms)"
   ]
  },
  {
   "cell_type": "markdown",
   "metadata": {},
   "source": [
    "### lambda式で処理"
   ]
  },
  {
   "cell_type": "code",
   "execution_count": 2,
   "metadata": {},
   "outputs": [
    {
     "name": "stdout",
     "output_type": "stream",
     "text": [
      "[22.86, 13.97, 15.24, 12.7, 16.51, 25.4]\n"
     ]
    }
   ],
   "source": [
    "inches = [9, 5.5, 6, 4, 5, 6.5, 10]\n",
    " \n",
    "cms = []\n",
    " \n",
    "for inch in filter(lambda x: x >= 5, inches):\n",
    "    cms.append(inch * 2.54)\n",
    "\n",
    "print(cms)"
   ]
  },
  {
   "cell_type": "markdown",
   "metadata": {},
   "source": [
    "### リスト内包"
   ]
  },
  {
   "cell_type": "code",
   "execution_count": 4,
   "metadata": {},
   "outputs": [
    {
     "name": "stdout",
     "output_type": "stream",
     "text": [
      "[22.86, 13.97, 15.24, 12.7, 16.51, 25.4]\n"
     ]
    }
   ],
   "source": [
    "inches = [9, 5.5, 6, 4, 5, 6.5, 10]\n",
    "cms = [x*2.54 for x in inches if x >= 5]\n",
    "print(cms)"
   ]
  },
  {
   "cell_type": "markdown",
   "metadata": {},
   "source": [
    "### sort"
   ]
  },
  {
   "cell_type": "code",
   "execution_count": 5,
   "metadata": {},
   "outputs": [
    {
     "name": "stdout",
     "output_type": "stream",
     "text": [
      "('apple', 10)\n",
      "('banana', 3)\n",
      "('grape', 2)\n",
      "('orange', 5)\n",
      "('strawberry', 6)\n"
     ]
    }
   ],
   "source": [
    "fruits ={\"apple\":10, \"orange\":5, \"banana\":3, \"strawberry\":6, \"grape\":2 }\n",
    "         \n",
    "for fruit in sorted(fruits.items()):\n",
    "    \n",
    "    print(fruit)\n",
    " "
   ]
  },
  {
   "cell_type": "code",
   "execution_count": 7,
   "metadata": {},
   "outputs": [
    {
     "name": "stdout",
     "output_type": "stream",
     "text": [
      "('apple', 10)\n",
      "('strawberry', 6)\n",
      "('orange', 5)\n",
      "('banana', 3)\n",
      "('grape', 2)\n"
     ]
    }
   ],
   "source": [
    "def val(n):\n",
    "    return n[1]\n",
    " \n",
    "fruits ={\"apple\":10, \"orange\":5, \"banana\":3, \"strawberry\":6,\"grape\":2 }\n",
    "         \n",
    "for fruit in sorted(fruits.items(), key=val, reverse=True):\n",
    "    print(fruit)"
   ]
  },
  {
   "cell_type": "code",
   "execution_count": 8,
   "metadata": {},
   "outputs": [
    {
     "name": "stdout",
     "output_type": "stream",
     "text": [
      "('grape', 2)\n",
      "('banana', 3)\n",
      "('orange', 5)\n",
      "('strawberry', 6)\n",
      "('apple', 10)\n"
     ]
    }
   ],
   "source": [
    "fruits ={\"apple\":10, \"orange\":5, \"banana\":3, \"strawberry\":6,\"grape\":2 }\n",
    "         \n",
    "for fruit in sorted(fruits.items(), key=lambda n: n[1], reverse=False):\n",
    "    \n",
    "    print(fruit)"
   ]
  },
  {
   "cell_type": "code",
   "execution_count": 9,
   "metadata": {
    "scrolled": true
   },
   "outputs": [
    {
     "name": "stdout",
     "output_type": "stream",
     "text": [
      "('grape', 2)\n",
      "('banana', 3)\n",
      "('orange', 5)\n",
      "('strawberry', 6)\n",
      "('apple', 10)\n"
     ]
    }
   ],
   "source": [
    "# tupleを要素とするfruitsのリスト\n",
    "fruits =[(\"apple\",10), (\"orange\",5), (\"banana\",3), (\"strawberry\",6),(\"grape\",2) ]\n",
    "         \n",
    "# tupleの２番目の要素でソート\n",
    "fruits.sort(key=lambda n: n[1], reverse=False)\n",
    "    \n",
    "for fruit in fruits:\n",
    "    print(fruit)"
   ]
  },
  {
   "cell_type": "markdown",
   "metadata": {},
   "source": [
    "### P136 問題４を最高気温でソートする"
   ]
  },
  {
   "cell_type": "code",
   "execution_count": 10,
   "metadata": {},
   "outputs": [
    {
     "name": "stdout",
     "output_type": "stream",
     "text": [
      "['東京', 32, 25]\n",
      "['名古屋', 28, 21]\n",
      "['大阪', 27, 20]\n",
      "['福岡', 27, 22]\n",
      "['京都', 26, 19]\n"
     ]
    }
   ],
   "source": [
    "data = [\n",
    "    [\"東京\", 32,25],\n",
    "    [\"名古屋\", 28,21],\n",
    "    [\"大阪\", 27, 20],\n",
    "    [\"京都\", 26, 19],\n",
    "    [\"福岡\", 27,22]\n",
    "]\n",
    "\n",
    "for city in sorted(data, key=lambda n:n[1], reverse=True):\n",
    "    print(city)"
   ]
  },
  {
   "cell_type": "markdown",
   "metadata": {},
   "source": [
    "### sortメソッドを使って最高気温でソート"
   ]
  },
  {
   "cell_type": "code",
   "execution_count": 12,
   "metadata": {},
   "outputs": [
    {
     "data": {
      "text/plain": [
       "[['東京', 32, 25],\n",
       " ['名古屋', 28, 21],\n",
       " ['大阪', 27, 20],\n",
       " ['福岡', 27, 22],\n",
       " ['京都', 26, 19]]"
      ]
     },
     "execution_count": 12,
     "metadata": {},
     "output_type": "execute_result"
    }
   ],
   "source": [
    "data.sort(key=lambda n:n[1], reverse=True)\n",
    "data"
   ]
  },
  {
   "cell_type": "code",
   "execution_count": null,
   "metadata": {},
   "outputs": [],
   "source": []
  }
 ],
 "metadata": {
  "kernelspec": {
   "display_name": "Python 3",
   "language": "python",
   "name": "python3"
  },
  "language_info": {
   "codemirror_mode": {
    "name": "ipython",
    "version": 3
   },
   "file_extension": ".py",
   "mimetype": "text/x-python",
   "name": "python",
   "nbconvert_exporter": "python",
   "pygments_lexer": "ipython3",
   "version": "3.6.10"
  }
 },
 "nbformat": 4,
 "nbformat_minor": 4
}
