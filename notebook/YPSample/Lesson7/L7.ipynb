{
 "cells": [
  {
   "cell_type": "markdown",
   "metadata": {},
   "source": [
    "### Lesson7"
   ]
  },
  {
   "cell_type": "markdown",
   "metadata": {},
   "source": [
    "### Sample1"
   ]
  },
  {
   "cell_type": "code",
   "execution_count": 2,
   "metadata": {},
   "outputs": [
    {
     "name": "stdout",
     "output_type": "stream",
     "text": [
      "販売が行われました。\n",
      "販売が行われました。\n"
     ]
    }
   ],
   "source": [
    "def sell():\n",
    "  print(\"販売が行われました。\")\n",
    "\n",
    "sell()\n",
    "\n",
    "sell()\n"
   ]
  },
  {
   "cell_type": "markdown",
   "metadata": {},
   "source": [
    "### Sample3"
   ]
  },
  {
   "cell_type": "code",
   "execution_count": 3,
   "metadata": {},
   "outputs": [
    {
     "name": "stdout",
     "output_type": "stream",
     "text": [
      "東京 支店の販売が行われました。\n",
      "大阪 支店の販売が行われました。\n"
     ]
    }
   ],
   "source": [
    "def sell(place):\n",
    "  print(place, \"支店の販売が行われました。\")\n",
    "\n",
    "sell(\"東京\")\n",
    "sell(\"大阪\")\n"
   ]
  },
  {
   "cell_type": "markdown",
   "metadata": {},
   "source": [
    "### Sample4"
   ]
  },
  {
   "cell_type": "code",
   "execution_count": 1,
   "metadata": {},
   "outputs": [
    {
     "name": "stdout",
     "output_type": "stream",
     "text": [
      "東京 支店の販売が行われました。\n"
     ]
    }
   ],
   "source": [
    "def sell(place):\n",
    "  print(place, \"支店の販売が行われました。\")\n",
    "\n",
    "shop=\"東京\"\n",
    "sell(shop)\n"
   ]
  },
  {
   "cell_type": "markdown",
   "metadata": {},
   "source": [
    "### Sample5"
   ]
  },
  {
   "cell_type": "code",
   "execution_count": 2,
   "metadata": {},
   "outputs": [
    {
     "name": "stdout",
     "output_type": "stream",
     "text": [
      "東京 支店で 5 万円の販売が行われました。\n"
     ]
    }
   ],
   "source": [
    "def sell(place,num):\n",
    "  print(place, \"支店で\", num,\"万円の販売が行われました。\")\n",
    "\n",
    "shop=\"東京\"\n",
    "num=5\n",
    "sell(shop,num)\n"
   ]
  },
  {
   "cell_type": "code",
   "execution_count": 5,
   "metadata": {},
   "outputs": [
    {
     "name": "stdout",
     "output_type": "stream",
     "text": [
      "1 3 2 10\n"
     ]
    }
   ],
   "source": [
    "def func(a,b,c,d):\n",
    "  print(a,b,c,d)\n",
    "\n",
    "func(d=10,c=2,b=3,a=1)"
   ]
  },
  {
   "cell_type": "code",
   "execution_count": 7,
   "metadata": {},
   "outputs": [
    {
     "name": "stdout",
     "output_type": "stream",
     "text": [
      "{'a': 1, 'b': 2, 'c': 3}\n"
     ]
    }
   ],
   "source": [
    "def func(**kwargs):\n",
    "  print(kwargs)\n",
    "\n",
    "func(a=1,b=2,c=3)\n"
   ]
  },
  {
   "cell_type": "markdown",
   "metadata": {},
   "source": [
    "### Sample6"
   ]
  },
  {
   "cell_type": "code",
   "execution_count": 9,
   "metadata": {},
   "outputs": [
    {
     "name": "stdout",
     "output_type": "stream",
     "text": [
      "東京 支店で 5 社に 100 万円の販売がおこなわれました。\n",
      "売上は 500 万円でした。\n"
     ]
    }
   ],
   "source": [
    "def sell(place,price,num):\n",
    "  print(place,\"支店で\",num,\"社に\", price,\"万円の販売がおこなわれました。\")\n",
    "\n",
    "  tt=price * num\n",
    "  return tt\n",
    "\n",
    "total= sell(\"東京\",100,5)\n",
    "print(\"売上は\",total,\"万円でした。\")\n"
   ]
  },
  {
   "cell_type": "markdown",
   "metadata": {},
   "source": [
    "### Sample7"
   ]
  },
  {
   "cell_type": "code",
   "execution_count": 10,
   "metadata": {},
   "outputs": [
    {
     "name": "stdout",
     "output_type": "stream",
     "text": [
      "2018 年 10 月 1 日に販売が行われました。\n",
      "販売官僚： 2018 10 1\n"
     ]
    }
   ],
   "source": [
    "def sell():\n",
    "  y=2018\n",
    "  m=10\n",
    "  d=1\n",
    "  print(y,\"年\",m, \"月\",d,\"日に販売が行われました。\")\n",
    "\n",
    "  return y,m,d\n",
    "\n",
    "sy,sm,sd =sell()\n",
    "\n",
    "print(\"販売完了：\",sy,sm,sd)\n"
   ]
  },
  {
   "cell_type": "code",
   "execution_count": 36,
   "metadata": {},
   "outputs": [
    {
     "name": "stdout",
     "output_type": "stream",
     "text": [
      "aaa & aaa\n",
      "aaa & aaa\n",
      "[0, 1, 2]\n",
      "[0, 1, 2]\n",
      "[0, 1, 2]\n"
     ]
    }
   ],
   "source": [
    "# 関数msgを定義\n",
    "def msg(a):\n",
    "  return a+\" & \"+a;\n",
    "\n",
    "#fに関数msgを代入\n",
    "f=msg\n",
    "print(f(\"aaa\"))\n",
    "\n",
    "#msgを削除してもfは使える\n",
    "del msg\n",
    "print(f(\"aaa\"))\n",
    "\n",
    "#---\n",
    "# リストdataを定義\n",
    "data=[0,1,2]\n",
    "data2=data\n",
    "\n",
    "print(data)\n",
    "print(data2)\n",
    "\n",
    "#dataを削除してもdata2は使える\n",
    "del data\n",
    "#print(data)\n",
    "print(data2)\n",
    "\n"
   ]
  },
  {
   "cell_type": "markdown",
   "metadata": {},
   "source": [
    "### Sample8"
   ]
  },
  {
   "cell_type": "code",
   "execution_count": 26,
   "metadata": {},
   "outputs": [
    {
     "name": "stdout",
     "output_type": "stream",
     "text": [
      "データを変更します。\n"
     ]
    }
   ],
   "source": [
    "def append():\n",
    "  print(\"データを追加します。\")\n",
    "def update():\n",
    "  print(\"データを変更します。\")\n",
    "def delete():\n",
    "  print(\"データを削除します。\")\n",
    "list=[append,update,delete]\n",
    "\n",
    "res=int(input(\"操作番号を入力してください。（０～２）\"))\n",
    "\n",
    "if 0<= res and res < len(list):\n",
    "  list[res]()\n"
   ]
  },
  {
   "cell_type": "markdown",
   "metadata": {},
   "source": [
    "### Sample9"
   ]
  },
  {
   "cell_type": "code",
   "execution_count": 37,
   "metadata": {},
   "outputs": [
    {
     "name": "stdout",
     "output_type": "stream",
     "text": [
      "2\n",
      "4\n",
      "6\n",
      "8\n",
      "10\n",
      "2\n",
      "4\n",
      "6\n",
      "8\n",
      "10\n",
      "2\n",
      "4\n",
      "6\n",
      "8\n",
      "10\n"
     ]
    }
   ],
   "source": [
    "data=[1,2,3,4,5]\n",
    "\n",
    "# A.通常の関数\n",
    "def f(x):\n",
    "    return x*2\n",
    "\n",
    "for d in map(f, data):\n",
    "  print(d)\n",
    "\n",
    "# B.ラムダ\n",
    "for d in map(lambda x: x*2, data):\n",
    "  print(d)\n",
    "\n",
    "# C.リスト内包\n",
    "for d in [x*2 for x in data]:\n",
    "   print(d)\n",
    "\n"
   ]
  },
  {
   "cell_type": "code",
   "execution_count": 38,
   "metadata": {},
   "outputs": [
    {
     "name": "stdout",
     "output_type": "stream",
     "text": [
      "[22.86, 13.97, 15.24, 12.7, 16.51, 25.4]\n",
      "[22.86, 13.97, 15.24, 12.7, 16.51, 25.4]\n",
      "[22.86, 13.97, 15.24, 12.7, 16.51, 25.4]\n"
     ]
    }
   ],
   "source": [
    "#通常の関数\n",
    "def larger_5(inch):\n",
    "  return inch >=5\n",
    "\n",
    "inches = [9,5.5,6,4,5,6.5,10]\n",
    "cms=[]\n",
    "\n",
    "for inch in filter(larger_5, inches):\n",
    "  cms.append(inch *2.54)\n",
    "\n",
    "print(cms)\n",
    "\n",
    "#lambda\n",
    "cms=[]\n",
    "for inch in filter(lambda inch: inch>=5, inches):\n",
    "  cms.append(inch *2.54)\n",
    "print(cms)\n",
    "\n",
    "#リスト内包\n",
    "print([inch*2.54 for inch in inches if inch >=5])\n",
    "\n"
   ]
  },
  {
   "cell_type": "markdown",
   "metadata": {},
   "source": [
    "### Sample10"
   ]
  },
  {
   "cell_type": "code",
   "execution_count": 4,
   "metadata": {},
   "outputs": [
    {
     "name": "stdout",
     "output_type": "stream",
     "text": [
      "---www--- を入力しました。\n"
     ]
    }
   ],
   "source": [
    "def deco(func):\n",
    "    def wrapper(x):\n",
    "        wx = \"---\" + x + \"---\"\n",
    "        return func(wx)\n",
    "    return wrapper\n",
    "\n",
    "@deco\n",
    "def printmsg(x):\n",
    "   print(x,\"を入力しました。\")\n",
    "\n",
    "str = input(\"メッセージを入力してください。\")\n",
    "\n",
    "printmsg(str)\n"
   ]
  },
  {
   "cell_type": "code",
   "execution_count": 6,
   "metadata": {},
   "outputs": [
    {
     "name": "stdout",
     "output_type": "stream",
     "text": [
      "0\n",
      "1\n",
      "2\n"
     ]
    },
    {
     "ename": "StopIteration",
     "evalue": "",
     "output_type": "error",
     "traceback": [
      "\u001b[1;31m---------------------------------------------------------------------------\u001b[0m",
      "\u001b[1;31mStopIteration\u001b[0m                             Traceback (most recent call last)",
      "Cell \u001b[1;32mIn[6], line 11\u001b[0m\n\u001b[0;32m      9\u001b[0m \u001b[38;5;28mprint\u001b[39m(\u001b[38;5;28mnext\u001b[39m(n))\n\u001b[0;32m     10\u001b[0m \u001b[38;5;28mprint\u001b[39m(\u001b[38;5;28mnext\u001b[39m(n))\n\u001b[1;32m---> 11\u001b[0m \u001b[38;5;28mprint\u001b[39m(\u001b[38;5;28;43mnext\u001b[39;49m\u001b[43m(\u001b[49m\u001b[43mn\u001b[49m\u001b[43m)\u001b[49m)\n",
      "\u001b[1;31mStopIteration\u001b[0m: "
     ]
    }
   ],
   "source": [
    "def makex(x):\n",
    "  n=0\n",
    "  while n<x:\n",
    "    yield n\n",
    "    n += 1\n",
    "\n",
    "n=makex(3)\n",
    "print(next(n))\n",
    "print(next(n))\n",
    "print(next(n))\n",
    "print(next(n))\n"
   ]
  },
  {
   "cell_type": "markdown",
   "metadata": {},
   "source": [
    "### Sample12"
   ]
  },
  {
   "cell_type": "code",
   "execution_count": 7,
   "metadata": {},
   "outputs": [
    {
     "name": "stdout",
     "output_type": "stream",
     "text": [
      "変数aは 0 変数bは 0\n",
      "変数aは 1 変数bは 0\n",
      "変数aは 2 変数bは 0\n",
      "変数aは 3 変数bは 0\n",
      "変数aは 4 変数bは 0\n"
     ]
    }
   ],
   "source": [
    "a=0\n",
    "\n",
    "def func():\n",
    "  global a\n",
    "  b=0\n",
    "\n",
    "  print(\"変数aは\",a, \"変数bは\",b)\n",
    "\n",
    "  a=a+1\n",
    "  b=b+1\n",
    "\n",
    "for i in range(5):\n",
    "  func()\n"
   ]
  },
  {
   "cell_type": "markdown",
   "metadata": {},
   "source": [
    "### 練習"
   ]
  },
  {
   "cell_type": "code",
   "execution_count": 12,
   "metadata": {},
   "outputs": [
    {
     "name": "stdout",
     "output_type": "stream",
     "text": [
      "**********\n"
     ]
    }
   ],
   "source": [
    "def past(num):\n",
    "  print(num*\"*\")\n",
    "\n",
    "n=input()\n",
    "past(int(n))\n"
   ]
  },
  {
   "cell_type": "code",
   "execution_count": 26,
   "metadata": {},
   "outputs": [
    {
     "name": "stdout",
     "output_type": "stream",
     "text": [
      "aaaaa\n"
     ]
    }
   ],
   "source": [
    "def rpstr(num, str=\"*\"):\n",
    "  print(num*str)\n",
    "\n",
    "s=input(\"文字列を入力してください。\")\n",
    "n=input(\"個数を入力してください。\")\n",
    "if s==None or s==\"\" :\n",
    "  rpstr(int(n))\n",
    "else:\n",
    "  rpstr(int(n), s)\n"
   ]
  },
  {
   "cell_type": "code",
   "execution_count": 34,
   "metadata": {},
   "outputs": [
    {
     "name": "stdout",
     "output_type": "stream",
     "text": [
      "3\n",
      "4\n",
      "5\n",
      "6\n",
      "7\n",
      "8\n",
      "9\n",
      "3\n",
      "4\n",
      "5\n",
      "6\n",
      "7\n",
      "8\n",
      "9\n"
     ]
    }
   ],
   "source": [
    "#普通に\n",
    "start=3\n",
    "end=10\n",
    "\n",
    "for n in range(start,end):\n",
    "  print(n)\n",
    "\n",
    "###ジェネレータ\n",
    "def makex(x):\n",
    "  while True:\n",
    "    yield x\n",
    "    x +=1\n",
    "\n",
    "for n in makex(start):\n",
    "  if n >= end:\n",
    "    break\n",
    "  print(n)\n"
   ]
  },
  {
   "cell_type": "code",
   "execution_count": 3,
   "metadata": {},
   "outputs": [
    {
     "name": "stdout",
     "output_type": "stream",
     "text": [
      "0\n",
      "1\n",
      "2\n",
      "3\n",
      "4\n",
      "5\n",
      "6\n",
      "7\n"
     ]
    }
   ],
   "source": [
    "def makex(x,y,s=1):\n",
    "    while x<y:\n",
    "        yield x\n",
    "        x = x+s\n",
    " \n",
    "start = int(input(\"開始値（整数）を入力してください。\"))\n",
    "stop = int(input(\"停止値（整数）を入力してください。\"))\n",
    " \n",
    "for n in makex(start,stop):\n",
    "    print(n)\n"
   ]
  },
  {
   "cell_type": "code",
   "execution_count": 4,
   "metadata": {},
   "outputs": [
    {
     "name": "stdout",
     "output_type": "stream",
     "text": [
      "<html><body>Hello Decorator!</body></html>\n"
     ]
    }
   ],
   "source": [
    "def html_tag(tag):\n",
    "    def _html_tag(func):\n",
    "        def wrapper(*args,**kwargs):\n",
    "            res = '<'+tag+'>'\n",
    "            res = res + func(*args,**kwargs)\n",
    "            res = res + '</'+tag+'>'\n",
    "            return res\n",
    "        return wrapper\n",
    "    return _html_tag\n",
    " \n",
    "@html_tag('html')\n",
    "@html_tag('body')\n",
    "def hello():\n",
    "    return 'Hello Decorator!'\n",
    " \n",
    "print(hello())"
   ]
  }
 ],
 "metadata": {
  "kernelspec": {
   "display_name": "py39",
   "language": "python",
   "name": "python3"
  },
  "language_info": {
   "codemirror_mode": {
    "name": "ipython",
    "version": 3
   },
   "file_extension": ".py",
   "mimetype": "text/x-python",
   "name": "python",
   "nbconvert_exporter": "python",
   "pygments_lexer": "ipython3",
   "version": "3.9.18"
  }
 },
 "nbformat": 4,
 "nbformat_minor": 2
}
