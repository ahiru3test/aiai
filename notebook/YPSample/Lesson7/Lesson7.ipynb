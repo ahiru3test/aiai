{
 "cells": [
  {
   "cell_type": "markdown",
   "metadata": {},
   "source": [
    "### Lesson7"
   ]
  },
  {
   "cell_type": "markdown",
   "metadata": {},
   "source": [
    "### Sample1"
   ]
  },
  {
   "cell_type": "code",
   "execution_count": 2,
   "metadata": {},
   "outputs": [
    {
     "name": "stdout",
     "output_type": "stream",
     "text": [
      "販売が行われました。\n",
      "販売が行われました。\n"
     ]
    }
   ],
   "source": [
    "def sell():\n",
    "  print(\"販売が行われました。\")\n",
    "\n",
    "sell()\n",
    "\n",
    "sell()\n"
   ]
  },
  {
   "cell_type": "markdown",
   "metadata": {},
   "source": [
    "### Sample3"
   ]
  },
  {
   "cell_type": "code",
   "execution_count": 3,
   "metadata": {},
   "outputs": [
    {
     "name": "stdout",
     "output_type": "stream",
     "text": [
      "東京 支店の販売が行われました。\n",
      "大阪 支店の販売が行われました。\n"
     ]
    }
   ],
   "source": [
    "def sell(place):\n",
    "  print(place, \"支店の販売が行われました。\")\n",
    "\n",
    "sell(\"東京\")\n",
    "sell(\"大阪\")\n"
   ]
  },
  {
   "cell_type": "markdown",
   "metadata": {},
   "source": [
    "### Sample4"
   ]
  },
  {
   "cell_type": "code",
   "execution_count": 1,
   "metadata": {},
   "outputs": [
    {
     "name": "stdout",
     "output_type": "stream",
     "text": [
      "東京 支店の販売が行われました。\n"
     ]
    }
   ],
   "source": [
    "def sell(place):\n",
    "  print(place, \"支店の販売が行われました。\")\n",
    "\n",
    "shop=\"東京\"\n",
    "sell(shop)\n"
   ]
  },
  {
   "cell_type": "markdown",
   "metadata": {},
   "source": [
    "### Sample5"
   ]
  },
  {
   "cell_type": "code",
   "execution_count": 2,
   "metadata": {},
   "outputs": [
    {
     "name": "stdout",
     "output_type": "stream",
     "text": [
      "東京 支店で 5 万円の販売が行われました。\n"
     ]
    }
   ],
   "source": [
    "def sell(place,num):\n",
    "  print(place, \"支店で\", num,\"万円の販売が行われました。\")\n",
    "\n",
    "shop=\"東京\"\n",
    "num=5\n",
    "sell(shop,num)\n"
   ]
  },
  {
   "cell_type": "code",
   "execution_count": 5,
   "metadata": {},
   "outputs": [
    {
     "name": "stdout",
     "output_type": "stream",
     "text": [
      "1 3 2 10\n"
     ]
    }
   ],
   "source": [
    "def func(a,b,c,d):\n",
    "  print(a,b,c,d)\n",
    "\n",
    "func(d=10,c=2,b=3,a=1)"
   ]
  },
  {
   "cell_type": "code",
   "execution_count": 7,
   "metadata": {},
   "outputs": [
    {
     "name": "stdout",
     "output_type": "stream",
     "text": [
      "{'a': 1, 'b': 2, 'c': 3}\n"
     ]
    }
   ],
   "source": [
    "def func(**kwargs):\n",
    "  print(kwargs)\n",
    "\n",
    "func(a=1,b=2,c=3)\n"
   ]
  },
  {
   "cell_type": "markdown",
   "metadata": {},
   "source": [
    "### Sample6"
   ]
  },
  {
   "cell_type": "code",
   "execution_count": 9,
   "metadata": {},
   "outputs": [
    {
     "name": "stdout",
     "output_type": "stream",
     "text": [
      "東京 支店で 5 社に 100 万円の販売がおこなわれました。\n",
      "売上は 500 万円でした。\n"
     ]
    }
   ],
   "source": [
    "def sell(place,price,num):\n",
    "  print(place,\"支店で\",num,\"社に\", price,\"万円の販売がおこなわれました。\")\n",
    "\n",
    "  tt=price * num\n",
    "  return tt\n",
    "\n",
    "total= sell(\"東京\",100,5)\n",
    "print(\"売上は\",total,\"万円でした。\")\n"
   ]
  },
  {
   "cell_type": "markdown",
   "metadata": {},
   "source": [
    "### Sample7"
   ]
  },
  {
   "cell_type": "code",
   "execution_count": 10,
   "metadata": {},
   "outputs": [
    {
     "name": "stdout",
     "output_type": "stream",
     "text": [
      "2018 年 10 月 1 日に販売が行われました。\n",
      "販売官僚： 2018 10 1\n"
     ]
    }
   ],
   "source": [
    "def sell():\n",
    "  y=2018\n",
    "  m=10\n",
    "  d=1\n",
    "  print(y,\"年\",m, \"月\",d,\"日に販売が行われました。\")\n",
    "\n",
    "  return y,m,d\n",
    "\n",
    "sy,sm,sd =sell()\n",
    "\n",
    "print(\"販売完了：\",sy,sm,sd)\n"
   ]
  },
  {
   "cell_type": "code",
   "execution_count": 21,
   "metadata": {},
   "outputs": [
    {
     "name": "stdout",
     "output_type": "stream",
     "text": [
      "aaa & aaa\n",
      "aaa & aaa\n",
      "[0, 1, 2]\n",
      "[0, 1, 2]\n",
      "[0, 1, 2]\n"
     ]
    }
   ],
   "source": [
    "# msg関数を定義\n",
    "def msg(a):\n",
    "  return a+\" & \"+a;\n",
    "\n",
    "#fにmsg関数を代入\n",
    "f=msg\n",
    "print(f(\"aaa\"))\n",
    "\n",
    "#fを削除するとfは使えなくなるがmsgは使える\n",
    "del msg\n",
    "print(f(\"aaa\"))\n",
    "#print(msg(\"aaa\"))\n",
    "\n",
    "#---\n",
    "\n",
    "data=[0,1,2]\n",
    "data2=data\n",
    "\n",
    "print(data)\n",
    "print(data2)\n",
    "\n",
    "del data\n",
    "#print(data)\n",
    "print(data2)\n"
   ]
  },
  {
   "cell_type": "markdown",
   "metadata": {},
   "source": [
    "### Sample8"
   ]
  },
  {
   "cell_type": "code",
   "execution_count": 26,
   "metadata": {},
   "outputs": [
    {
     "name": "stdout",
     "output_type": "stream",
     "text": [
      "データを変更します。\n"
     ]
    }
   ],
   "source": [
    "def append():\n",
    "  print(\"データを追加します。\")\n",
    "def update():\n",
    "  print(\"データを変更します。\")\n",
    "def delete():\n",
    "  print(\"データを削除します。\")\n",
    "list=[append,update,delete]\n",
    "\n",
    "res=int(input(\"操作番号を入力してください。（０～２）\"))\n",
    "\n",
    "if 0<= res and res < len(list):\n",
    "  list[res]()\n"
   ]
  },
  {
   "cell_type": "markdown",
   "metadata": {},
   "source": [
    "### Sample9"
   ]
  },
  {
   "cell_type": "code",
   "execution_count": 29,
   "metadata": {},
   "outputs": [
    {
     "name": "stdout",
     "output_type": "stream",
     "text": [
      "2\n",
      "4\n",
      "6\n",
      "8\n",
      "10\n",
      "2\n",
      "4\n",
      "6\n",
      "8\n",
      "10\n"
     ]
    }
   ],
   "source": [
    "data=[1,2,3,4,5]\n",
    "\n",
    "# 通常の関数\n",
    "def f(x):\n",
    "    return x*2\n",
    "\n",
    "for d in map(f, data):\n",
    "  print(d)\n",
    "\n",
    "# ラムダ\n",
    "for d in map(lambda x: x*2, data):\n",
    "  print(d)\n"
   ]
  },
  {
   "cell_type": "code",
   "execution_count": null,
   "metadata": {},
   "outputs": [],
   "source": []
  }
 ],
 "metadata": {
  "kernelspec": {
   "display_name": "py39",
   "language": "python",
   "name": "python3"
  },
  "language_info": {
   "codemirror_mode": {
    "name": "ipython",
    "version": 3
   },
   "file_extension": ".py",
   "mimetype": "text/x-python",
   "name": "python",
   "nbconvert_exporter": "python",
   "pygments_lexer": "ipython3",
   "version": "3.9.18"
  }
 },
 "nbformat": 4,
 "nbformat_minor": 2
}
