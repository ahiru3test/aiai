{
 "cells": [
  {
   "cell_type": "markdown",
   "id": "ddd0ee89-39fc-4126-9e5b-2f8f2cb69881",
   "metadata": {},
   "source": [
    "#### Sample1"
   ]
  },
  {
   "cell_type": "code",
   "execution_count": 1,
   "id": "9c65792a-7bea-4699-8a3b-5b41224d5856",
   "metadata": {},
   "outputs": [
    {
     "name": "stdout",
     "output_type": "stream",
     "text": [
      "販売が行われました。\n"
     ]
    }
   ],
   "source": [
    "def sell():\n",
    "    print(\"販売が行われました。\")\n",
    "\n",
    "sell()"
   ]
  },
  {
   "cell_type": "markdown",
   "id": "d40c4a9c-9c56-477e-b327-09ff353bc502",
   "metadata": {},
   "source": [
    "#### 関数は定義してから呼び出す"
   ]
  },
  {
   "cell_type": "code",
   "execution_count": 2,
   "id": "32bce27e-7a0d-4732-94ed-b401eb03f224",
   "metadata": {},
   "outputs": [
    {
     "ename": "NameError",
     "evalue": "name 'buy' is not defined",
     "output_type": "error",
     "traceback": [
      "\u001b[1;31m---------------------------------------------------------------------------\u001b[0m",
      "\u001b[1;31mNameError\u001b[0m                                 Traceback (most recent call last)",
      "Cell \u001b[1;32mIn[2], line 1\u001b[0m\n\u001b[1;32m----> 1\u001b[0m \u001b[43mbuy\u001b[49m()\n\u001b[0;32m      2\u001b[0m \u001b[38;5;28;01mdef\u001b[39;00m \u001b[38;5;21mbuy\u001b[39m():\n\u001b[0;32m      3\u001b[0m     \u001b[38;5;28mprint\u001b[39m(\u001b[38;5;124m\"\u001b[39m\u001b[38;5;124mお菓子を買いました。\u001b[39m\u001b[38;5;124m\"\u001b[39m)\n",
      "\u001b[1;31mNameError\u001b[0m: name 'buy' is not defined"
     ]
    }
   ],
   "source": [
    "buy()\n",
    "def buy():\n",
    "    print(\"お菓子を買いました。\")\n"
   ]
  },
  {
   "cell_type": "markdown",
   "id": "1865fe1d-74a3-4adc-ba73-26e075ed4d34",
   "metadata": {},
   "source": [
    "#### Sample2"
   ]
  },
  {
   "cell_type": "code",
   "execution_count": 4,
   "id": "69969925-d14d-4938-ac21-20de6fcfd921",
   "metadata": {},
   "outputs": [
    {
     "name": "stdout",
     "output_type": "stream",
     "text": [
      "販売が行われました。\n",
      "もう一度販売を行います。\n",
      "販売が行われました。\n"
     ]
    }
   ],
   "source": [
    "def sell():\n",
    "    print(\"販売が行われました。\")\n",
    "\n",
    "sell()\n",
    "\n",
    "print(\"もう一度販売を行います。\")\n",
    "\n",
    "sell()"
   ]
  },
  {
   "cell_type": "markdown",
   "id": "88cefb77-de65-4382-bd89-3dfc7b8b92d1",
   "metadata": {},
   "source": [
    "#### 引数を渡して関数を呼び出す"
   ]
  },
  {
   "cell_type": "markdown",
   "id": "cab1a63a-e55e-419c-9811-3561a465262a",
   "metadata": {},
   "source": [
    "#### Sample3"
   ]
  },
  {
   "cell_type": "code",
   "execution_count": 5,
   "id": "e70743e9-ecdf-4c4c-993c-e39c49c4c1fc",
   "metadata": {},
   "outputs": [
    {
     "name": "stdout",
     "output_type": "stream",
     "text": [
      "東京 支店の販売が行われました。\n",
      "大阪 支店の販売が行われました。\n"
     ]
    }
   ],
   "source": [
    "def sell(place):\n",
    "    print(place, \"支店の販売が行われました。\")\n",
    "\n",
    "sell(\"東京\")\n",
    "\n",
    "sell(\"大阪\")"
   ]
  },
  {
   "cell_type": "markdown",
   "id": "8367bb00-9880-4df6-96ed-6b33404234b5",
   "metadata": {},
   "source": [
    "#### Sample4"
   ]
  },
  {
   "cell_type": "code",
   "execution_count": 6,
   "id": "04b5a07a-a3e8-43ec-9700-dbc5afadb66c",
   "metadata": {},
   "outputs": [
    {
     "name": "stdout",
     "output_type": "stream",
     "text": [
      "東京 支店の販売が行われました。\n"
     ]
    }
   ],
   "source": [
    "def sell(place):\n",
    "    print(place, \"支店の販売が行われました。\")\n",
    "\n",
    "shop = \"東京\"\n",
    "\n",
    "sell(shop)"
   ]
  },
  {
   "cell_type": "markdown",
   "id": "84c8f2fe-f93a-43bb-a7c6-abd926d0e57f",
   "metadata": {},
   "source": [
    "#### 実引数と仮引数の関係を知る"
   ]
  },
  {
   "cell_type": "markdown",
   "id": "7eab41f6-6a1c-4402-bbb4-81e991a961a7",
   "metadata": {},
   "source": [
    "#### 値渡しの例"
   ]
  },
  {
   "cell_type": "code",
   "execution_count": 7,
   "id": "3543c65c-6a70-40ab-a68d-be5eef6f9dba",
   "metadata": {},
   "outputs": [
    {
     "name": "stdout",
     "output_type": "stream",
     "text": [
      "place: 東京\n",
      "東京 支店の販売が行われました。\n",
      "place: 東京\n"
     ]
    }
   ],
   "source": [
    "def sell(place):\n",
    "    print(place, \"支店の販売が行われました。\")\n",
    "    place = \"大阪\"\n",
    "\n",
    "place = \"東京\"\n",
    "\n",
    "print(\"place:\", place)\n",
    "sell(place)\n",
    "\n",
    "print(\"place:\", place)\n"
   ]
  },
  {
   "cell_type": "code",
   "execution_count": 8,
   "id": "b7c7aef7-4bca-4f75-87bd-5d0006b6e7e9",
   "metadata": {},
   "outputs": [
    {
     "name": "stdout",
     "output_type": "stream",
     "text": [
      "shop: 1626728487792\n",
      "東京 支店の販売が行われました。 1626728487792\n",
      "place: 1626728487696\n"
     ]
    }
   ],
   "source": [
    "def sell(place):\n",
    "    print(place, \"支店の販売が行われました。\", id(place))\n",
    "    place = \"大阪\"\n",
    "    print(\"place:\", id(place))\n",
    "\n",
    "shop = \"東京\"\n",
    "print(\"shop:\", id(shop))\n",
    "sell(shop)"
   ]
  },
  {
   "cell_type": "markdown",
   "id": "d4e65402-5655-4c63-9ea3-5ab8a8d7098e",
   "metadata": {},
   "source": [
    "#### 参照渡しの例"
   ]
  },
  {
   "cell_type": "code",
   "execution_count": 9,
   "id": "0b5b61c8-c7cc-4352-a468-ffcf0afa864f",
   "metadata": {},
   "outputs": [
    {
     "name": "stdout",
     "output_type": "stream",
     "text": [
      "place: 東京\n",
      "東京 支店の販売が行われました。\n",
      "place: 大阪\n"
     ]
    }
   ],
   "source": [
    "def sell(place):\n",
    "    print(place[0], \"支店の販売が行われました。\")\n",
    "    place[0] = \"大阪\"\n",
    "\n",
    "place = [\"東京\"]\n",
    "\n",
    "print(\"place:\", place[0])\n",
    "sell(place)\n",
    "\n",
    "print(\"place:\", place[0])\n",
    "# sell(\"東京\")"
   ]
  },
  {
   "cell_type": "markdown",
   "id": "12bec44e-50b0-4b25-80cd-1b722cc2a747",
   "metadata": {},
   "source": [
    "#### 関数内でplaceの書き換えを禁止する例"
   ]
  },
  {
   "cell_type": "code",
   "execution_count": 15,
   "id": "929bd186-07f8-4cb6-914c-606a891d923e",
   "metadata": {},
   "outputs": [
    {
     "name": "stdout",
     "output_type": "stream",
     "text": [
      "place: 東京\n",
      "東京 支店の販売が行われました。\n",
      "place: 東京\n"
     ]
    }
   ],
   "source": [
    "def sell(place):\n",
    "    print(place[0], \"支店の販売が行われました。\")\n",
    "    # placeはtupleなので書き込みはできない\n",
    "    # place[0] = \"大阪\"\n",
    "\n",
    "place = [\"東京\"]\n",
    "\n",
    "print(\"place:\", place[0])\n",
    "sell(tuple(place))\n",
    "\n",
    "print(\"place:\", place[0])\n",
    "# sell(\"東京\")"
   ]
  },
  {
   "cell_type": "markdown",
   "id": "a2194a63-99ed-48d3-ab49-b53077be34b4",
   "metadata": {},
   "source": [
    "#### 関数内でshopが書き換わる場合の例"
   ]
  },
  {
   "cell_type": "code",
   "execution_count": 12,
   "id": "b219a039-a04d-4786-8bcf-0f3b7b329849",
   "metadata": {},
   "outputs": [
    {
     "name": "stdout",
     "output_type": "stream",
     "text": [
      "shop: 東京\n",
      "東京 支店の販売が行われました。\n",
      "shop: 東京\n",
      "p: 大阪\n"
     ]
    }
   ],
   "source": [
    "def sell(place):\n",
    "    print(place[0], \"支店の販売が行われました。\")\n",
    "    place[0] = \"大阪\"\n",
    "    return place\n",
    "\n",
    "shop = [\"東京\"]\n",
    "\n",
    "print(\"shop:\", shop[0])\n",
    "p=sell(place=shop.copy())\n",
    "\n",
    "print(\"shop:\", shop[0])\n",
    "print(\"p:\", p[0])\n",
    "# sell(\"東京\")"
   ]
  },
  {
   "cell_type": "markdown",
   "id": "a1fc75a0-2a54-4add-ba58-0c24e521ef25",
   "metadata": {},
   "source": [
    "#### 複数の引数をもつ関数を使う"
   ]
  },
  {
   "cell_type": "markdown",
   "id": "0b817789-f4c2-47a6-85cb-234dce136ff2",
   "metadata": {},
   "source": [
    "#### Sample5"
   ]
  },
  {
   "cell_type": "code",
   "execution_count": 16,
   "id": "54194eb7-248d-41e1-aecb-7de940b82719",
   "metadata": {},
   "outputs": [
    {
     "name": "stdout",
     "output_type": "stream",
     "text": [
      "東京 支店で 5 万円の販売が行われました。\n"
     ]
    }
   ],
   "source": [
    "def sell(place, num):\n",
    "    print(place, \"支店で\", num, \"万円の販売が行われました。\")\n",
    "\n",
    "sell(\"東京\", 5)"
   ]
  },
  {
   "cell_type": "markdown",
   "id": "6dd8975a-8528-4868-b7de-de2f2b472553",
   "metadata": {},
   "source": [
    "#### 位置引数は呼び出し側と同じ順番になる"
   ]
  },
  {
   "cell_type": "code",
   "execution_count": 17,
   "id": "8f965b45-2e40-4dd0-8567-d35465f8ba2b",
   "metadata": {},
   "outputs": [
    {
     "name": "stdout",
     "output_type": "stream",
     "text": [
      "5 支店で 東京 万円の販売が行われました。\n"
     ]
    }
   ],
   "source": [
    "def sell(num, place):\n",
    "    print(place, \"支店で\", num, \"万円の販売が行われました。\")\n",
    "\n",
    "sell(\"東京\", 5)"
   ]
  },
  {
   "cell_type": "markdown",
   "id": "07861ec1-8614-4326-af15-a429bb476d3e",
   "metadata": {},
   "source": [
    "#### デフォルト引数"
   ]
  },
  {
   "cell_type": "code",
   "execution_count": 18,
   "id": "7a48dda8-dbf5-4333-9dcd-494bfd7c4984",
   "metadata": {},
   "outputs": [
    {
     "name": "stdout",
     "output_type": "stream",
     "text": [
      "東京 支店で 5 万円の販売が行われました。\n",
      "大阪 支店で 10 万円の販売が行われました。\n"
     ]
    }
   ],
   "source": [
    "def sell(place, num = 10):\n",
    "    print(place, \"支店で\", num, \"万円の販売が行われました。\")\n",
    "\n",
    "sell(\"東京\", 5)\n",
    "sell(\"大阪\")"
   ]
  },
  {
   "cell_type": "code",
   "execution_count": 22,
   "id": "1ec87abe-59bd-40b9-921f-07a9b82d0654",
   "metadata": {},
   "outputs": [
    {
     "name": "stdout",
     "output_type": "stream",
     "text": [
      "10 20 30 2 100\n",
      "10 20 30 100 100\n",
      "10 20 30 100 200\n"
     ]
    }
   ],
   "source": [
    "def func(a,b,c,d=2,e=100):\n",
    "    print(a,b,c,d,e)\n",
    "\n",
    "func(10,20,30)\n",
    "func(10,20,30,100)\n",
    "func(10,20,30,100,200)"
   ]
  },
  {
   "cell_type": "markdown",
   "id": "c2a347e2-048a-4b92-92e4-cef12f75b54e",
   "metadata": {},
   "source": [
    "#### default引数の前にnon-default引数を設定できない"
   ]
  },
  {
   "cell_type": "code",
   "execution_count": 23,
   "id": "04a68cf3-02ee-4cb2-856a-8acd634698c9",
   "metadata": {},
   "outputs": [
    {
     "ename": "SyntaxError",
     "evalue": "non-default argument follows default argument (2654923787.py, line 1)",
     "output_type": "error",
     "traceback": [
      "\u001b[1;36m  Cell \u001b[1;32mIn[23], line 1\u001b[1;36m\u001b[0m\n\u001b[1;33m    def func(a, d=2, b, c, e=10):\u001b[0m\n\u001b[1;37m                        ^\u001b[0m\n\u001b[1;31mSyntaxError\u001b[0m\u001b[1;31m:\u001b[0m non-default argument follows default argument\n"
     ]
    }
   ],
   "source": [
    "def func(a, d=2, b, c, e=10):\n",
    "    print(a,b,c,d,e)\n",
    "\n",
    "func(10,20,30)"
   ]
  },
  {
   "cell_type": "markdown",
   "id": "f70fb0a6-cfe7-4275-bffd-39172fb59889",
   "metadata": {},
   "source": [
    "#### 引数名をキーワード指定して呼び出す"
   ]
  },
  {
   "cell_type": "code",
   "execution_count": 24,
   "id": "8092c8b8-bd26-4d47-827c-2ca6329833b8",
   "metadata": {},
   "outputs": [
    {
     "name": "stdout",
     "output_type": "stream",
     "text": [
      "1 2 30 10\n"
     ]
    }
   ],
   "source": [
    "def func(a,b,c,d):\n",
    "    print(a,b,c,d)\n",
    "\n",
    "func(1,2,d=10,c=30)\n",
    "# func(1,d=10,c=30,2) # キーワード引数の後ろに位置引数を指定できない"
   ]
  },
  {
   "cell_type": "code",
   "execution_count": 25,
   "id": "0eeee5a6-2c4f-44cc-b96c-76a7227e67b7",
   "metadata": {},
   "outputs": [
    {
     "name": "stdout",
     "output_type": "stream",
     "text": [
      "1 2 30 0\n",
      "1 2 30 40\n"
     ]
    }
   ],
   "source": [
    "def func(a,b,c,d=0):\n",
    "    print(a,b,c,d)\n",
    "\n",
    "func(1,2,c=30)\n",
    "func(1,2,c=30,d=40)"
   ]
  },
  {
   "cell_type": "markdown",
   "id": "bfb0bd15-1729-4602-be42-7cb0e88cfe56",
   "metadata": {},
   "source": [
    "#### 可変長引数"
   ]
  },
  {
   "cell_type": "code",
   "execution_count": 26,
   "id": "4927b83b-ac90-454d-8b11-2b7ce908e9a5",
   "metadata": {},
   "outputs": [
    {
     "name": "stdout",
     "output_type": "stream",
     "text": [
      "(1, 2, 3, 4)\n",
      "(1, 2)\n",
      "()\n"
     ]
    }
   ],
   "source": [
    "def func(*args):\n",
    "    print(args)\n",
    "\n",
    "func(1,2,3,4)\n",
    "func(1,2)\n",
    "func()"
   ]
  },
  {
   "cell_type": "code",
   "execution_count": 36,
   "id": "9d45a3a6-f5d8-46e0-8c8a-0fa7a92b2e05",
   "metadata": {},
   "outputs": [
    {
     "name": "stdout",
     "output_type": "stream",
     "text": [
      "{'a': 1, 'b': 2, 'c': 3, 'd': 4, 'e': 5}\n"
     ]
    }
   ],
   "source": [
    "def func(**kwargs):\n",
    "    print(kwargs)\n",
    "func(a=1, b=2, c=3, d=4, e=5)"
   ]
  },
  {
   "cell_type": "code",
   "execution_count": 38,
   "id": "f681fb73-0d6e-4e6b-a72e-70a060f218b9",
   "metadata": {},
   "outputs": [
    {
     "name": "stdout",
     "output_type": "stream",
     "text": [
      "----\n",
      "()\n",
      "{}\n",
      "----\n",
      "(1, 2, 3)\n",
      "{}\n",
      "----\n",
      "()\n",
      "{'a': 1, 'b': 2, 'c': 3}\n",
      "----\n",
      "('a', 'b')\n",
      "{'c': 1, 'd': 2}\n"
     ]
    }
   ],
   "source": [
    "def func(*args, **kwargs):\n",
    "    print(\"----\")\n",
    "    print(args)\n",
    "    print(kwargs)\n",
    "\n",
    "func()\n",
    "func(1,2,3)\n",
    "func(a=1,b=2,c=3)\n",
    "func(\"a\",\"b\",c=1,d=2)"
   ]
  },
  {
   "cell_type": "markdown",
   "id": "4e13ea56-b3b6-4760-ba53-fe90acf74b09",
   "metadata": {},
   "source": [
    "#### print 組み込み関数の引数"
   ]
  },
  {
   "cell_type": "markdown",
   "id": "62957c60-a7c9-4817-a1ad-f2abcf04f0ae",
   "metadata": {},
   "source": [
    "#### print(*objects, sep=' ', end='\\n', file=sys.stdout, flush=False)"
   ]
  },
  {
   "cell_type": "code",
   "execution_count": 27,
   "id": "7b808f87-a522-475f-9d0c-e6063fec0c69",
   "metadata": {},
   "outputs": [
    {
     "name": "stdout",
     "output_type": "stream",
     "text": [
      "Hello world\n",
      "Hello-world\n",
      "Helloworld\n"
     ]
    }
   ],
   "source": [
    "print(\"Hello\", \"world\")\n",
    "print(\"Hello\", \"world\", sep=\"-\")\n",
    "print(\"Hello\",end=\"\")\n",
    "print(\"world\")"
   ]
  },
  {
   "cell_type": "markdown",
   "id": "c98cc4ca-a7d6-438e-852e-890a39be8386",
   "metadata": {},
   "source": [
    "#### 補足P144 ディクショナリのほかの作成方法"
   ]
  },
  {
   "cell_type": "code",
   "execution_count": 28,
   "id": "538bac4b-844a-440a-ade7-bfddf139722b",
   "metadata": {
    "scrolled": true
   },
   "outputs": [
    {
     "data": {
      "text/plain": [
       "{'東京': 80, '名古屋': 60, '京都': 22, '大阪': 50, '福岡': 75}"
      ]
     },
     "execution_count": 28,
     "metadata": {},
     "output_type": "execute_result"
    }
   ],
   "source": [
    "sale = dict(東京=80, 名古屋=60, 京都=22, 大阪=50, 福岡=75)\n",
    "sale"
   ]
  },
  {
   "cell_type": "code",
   "execution_count": 29,
   "id": "9cca1d7b-9fcb-4fee-9824-a0e1a26f68b1",
   "metadata": {},
   "outputs": [
    {
     "data": {
      "text/plain": [
       "{'東京': 80, '名古屋': 60, '京都': 22, '大阪': 50, '福岡': 75}"
      ]
     },
     "execution_count": 29,
     "metadata": {},
     "output_type": "execute_result"
    }
   ],
   "source": [
    "sale = dict(((\"東京\",80), (\"名古屋\",60), (\"京都\",22), (\"大阪\",50), (\"福岡\",75)))\n",
    "sale"
   ]
  },
  {
   "cell_type": "code",
   "execution_count": 30,
   "id": "c8c35b26-f7ae-4d02-898d-46948c644935",
   "metadata": {},
   "outputs": [
    {
     "data": {
      "text/plain": [
       "(('東京', 80), ('名古屋', 60), ('京都', 22), ('大阪', 50), ('福岡', 75))"
      ]
     },
     "execution_count": 30,
     "metadata": {},
     "output_type": "execute_result"
    }
   ],
   "source": [
    "((\"東京\",80), (\"名古屋\",60), (\"京都\",22), (\"大阪\",50), (\"福岡\",75))"
   ]
  },
  {
   "cell_type": "code",
   "execution_count": 31,
   "id": "0349e3dc-f00c-4c61-8788-e2a1912a90c0",
   "metadata": {},
   "outputs": [
    {
     "data": {
      "text/plain": [
       "{'東京': 80, '名古屋': 60, '京都': 22, '大阪': 50, '福岡': 75}"
      ]
     },
     "execution_count": 31,
     "metadata": {},
     "output_type": "execute_result"
    }
   ],
   "source": [
    "sale = dict({\"東京\":80, \"名古屋\":60, \"京都\":22, \"大阪\":50, \"福岡\":75})\n",
    "sale"
   ]
  },
  {
   "cell_type": "markdown",
   "id": "eab3a122-6326-4c69-8724-7ef364ad1673",
   "metadata": {},
   "source": [
    "### 7.4戻り値"
   ]
  },
  {
   "cell_type": "markdown",
   "id": "ccc42972-ea0d-45f4-ba41-9d6fe37ae9a4",
   "metadata": {},
   "source": [
    "#### Sample6"
   ]
  },
  {
   "cell_type": "code",
   "execution_count": 32,
   "id": "18e95672-2cab-4929-bac9-c7faba4d7e18",
   "metadata": {},
   "outputs": [
    {
     "name": "stdout",
     "output_type": "stream",
     "text": [
      "東京 支店で 5 社に 100 万円の販売が行われました。\n",
      "売上は 500 万円でした。\n"
     ]
    }
   ],
   "source": [
    "def sell(place, price, num):\n",
    "    print(place, \"支店で\", num, \"社に\",price, \"万円の販売が行われました。\")\n",
    "\n",
    "    tt = price * num\n",
    "    return tt\n",
    "\n",
    "# total = tt (sell関数を実行した戻り値)\n",
    "total = sell(\"東京\", 100, 5)\n",
    "\n",
    "print(\"売上は\", total, \"万円でした。\")"
   ]
  },
  {
   "cell_type": "code",
   "execution_count": 33,
   "id": "100871d2-c1f0-4e14-b95e-f3a054b686b7",
   "metadata": {},
   "outputs": [
    {
     "name": "stdout",
     "output_type": "stream",
     "text": [
      "東京 支店で 5 社に 100 万円の販売が行われました。\n",
      "東京 支店で 5 社に 100 万円の販売が行われました。\n",
      "売上は 500 万円でした。\n"
     ]
    }
   ],
   "source": [
    "def sell(place, price, num):\n",
    "    print(place, \"支店で\", num, \"社に\",price, \"万円の販売が行われました。\")\n",
    "\n",
    "    tt = price * num\n",
    "    return tt\n",
    "\n",
    "# total = tt (sell関数を実行した戻り値)\n",
    "# total = sell(\"東京\", 100, 5)\n",
    "sell(\"東京\", 100, 5)\n",
    "print(\"売上は\", sell(\"東京\", 100, 5), \"万円でした。\")"
   ]
  },
  {
   "cell_type": "code",
   "execution_count": 34,
   "id": "66c7b9f4-3cbf-4faa-9dec-d39213940be1",
   "metadata": {},
   "outputs": [
    {
     "name": "stdout",
     "output_type": "stream",
     "text": [
      "売上は 500 万円でした。\n"
     ]
    }
   ],
   "source": [
    "print(\"売上は\", 100*5, \"万円でした。\")"
   ]
  },
  {
   "cell_type": "code",
   "execution_count": 59,
   "id": "19d987c1-6b56-4603-9f7c-c4073da5f4cb",
   "metadata": {},
   "outputs": [
    {
     "name": "stdout",
     "output_type": "stream",
     "text": [
      "東京 支店で 5 社に 100 万円の販売が行われました。\n"
     ]
    },
    {
     "data": {
      "text/plain": [
       "500"
      ]
     },
     "execution_count": 59,
     "metadata": {},
     "output_type": "execute_result"
    }
   ],
   "source": [
    "sell(\"東京\", 100, 5)"
   ]
  },
  {
   "cell_type": "markdown",
   "id": "d6f78ab7-2a06-414d-b397-89bc827e2e83",
   "metadata": {},
   "source": [
    "#### 戻り値のして複数の値を返す"
   ]
  },
  {
   "cell_type": "markdown",
   "id": "f5bf9f35-00fc-4535-82c7-cb537b8f4231",
   "metadata": {},
   "source": [
    "#### Sample7"
   ]
  },
  {
   "cell_type": "code",
   "execution_count": 41,
   "id": "6d7101e3-55ff-40cc-8af0-c2ac1dbb0ab4",
   "metadata": {},
   "outputs": [
    {
     "name": "stdout",
     "output_type": "stream",
     "text": [
      "2018 年 10 月 1 日に販売が行われました。\n",
      "販売完了: 2018 10 1\n"
     ]
    }
   ],
   "source": [
    "def sell():\n",
    "    y = 2018\n",
    "    m = 10\n",
    "    d = 1\n",
    "    print(y, \"年\", m, \"月\", d, \"日に販売が行われました。\")\n",
    "\n",
    "    return y, m, d\n",
    "\n",
    "sy, sm, sd = sell()\n",
    "\n",
    "print(\"販売完了:\", sy,sm,sd)"
   ]
  },
  {
   "cell_type": "code",
   "execution_count": 61,
   "id": "567b5b20-0ab9-4375-a497-35e9a8312e5c",
   "metadata": {},
   "outputs": [
    {
     "name": "stdout",
     "output_type": "stream",
     "text": [
      "2018 年 10 月 1 日に販売が行われました。\n"
     ]
    },
    {
     "data": {
      "text/plain": [
       "(2018, 10, 1)"
      ]
     },
     "execution_count": 61,
     "metadata": {},
     "output_type": "execute_result"
    }
   ],
   "source": [
    "ymd = sell()\n",
    "ymd"
   ]
  },
  {
   "cell_type": "markdown",
   "id": "e6159a3b-2a36-4b9e-86a8-c8d987dde128",
   "metadata": {},
   "source": [
    "#### 改行\\nを含む文字列を返す関数"
   ]
  },
  {
   "cell_type": "code",
   "execution_count": 42,
   "id": "7d320854-d871-4950-993c-be756f08401b",
   "metadata": {},
   "outputs": [
    {
     "name": "stdout",
     "output_type": "stream",
     "text": [
      "こんにちは\n",
      "Python!\n"
     ]
    }
   ],
   "source": [
    "def hello():\n",
    "    return \"\"\"こんにちは\n",
    "Python!\"\"\"\n",
    "\n",
    "print(hello())"
   ]
  },
  {
   "cell_type": "markdown",
   "id": "53764703-ff8d-45eb-8711-4a30aad80cc9",
   "metadata": {},
   "source": [
    "### 7.5関数に関する高度なトピック"
   ]
  },
  {
   "cell_type": "markdown",
   "id": "ddd13212-72b5-4003-bead-ef6d770b3738",
   "metadata": {},
   "source": [
    "#### 関数を変数に代入する"
   ]
  },
  {
   "cell_type": "code",
   "execution_count": 51,
   "id": "f9103683-970a-41b3-ad31-5d932834e81c",
   "metadata": {
    "scrolled": true
   },
   "outputs": [
    {
     "name": "stdout",
     "output_type": "stream",
     "text": [
      "Hello\n"
     ]
    }
   ],
   "source": [
    "def msg(a):\n",
    "    return a\n",
    "f = msg\n",
    "print(f(\"Hello\"))"
   ]
  },
  {
   "cell_type": "code",
   "execution_count": 52,
   "id": "22d7999b-1579-45cc-ad83-c0dbc75ac302",
   "metadata": {
    "scrolled": true
   },
   "outputs": [
    {
     "data": {
      "text/plain": [
       "'Hello'"
      ]
     },
     "execution_count": 52,
     "metadata": {},
     "output_type": "execute_result"
    }
   ],
   "source": [
    "f(\"Hello\")"
   ]
  },
  {
   "cell_type": "code",
   "execution_count": 53,
   "id": "5ad5dc80-5a7f-434e-928c-67ceccb6c16f",
   "metadata": {
    "scrolled": true
   },
   "outputs": [
    {
     "data": {
      "text/plain": [
       "'Hello'"
      ]
     },
     "execution_count": 53,
     "metadata": {},
     "output_type": "execute_result"
    }
   ],
   "source": [
    "msg(\"Hello\")"
   ]
  },
  {
   "cell_type": "code",
   "execution_count": 46,
   "id": "1073afa9-2d6c-40ef-abe1-d77c558018bc",
   "metadata": {},
   "outputs": [],
   "source": [
    "del f"
   ]
  },
  {
   "cell_type": "code",
   "execution_count": 54,
   "id": "f04deaa8-0fae-4859-ab7c-4d83f60bcb66",
   "metadata": {},
   "outputs": [
    {
     "data": {
      "text/plain": [
       "[1, 2, 3]"
      ]
     },
     "execution_count": 54,
     "metadata": {},
     "output_type": "execute_result"
    }
   ],
   "source": [
    "data = [1,2,3]\n",
    "data2 = data\n",
    "data"
   ]
  },
  {
   "cell_type": "code",
   "execution_count": 55,
   "id": "66c719c5-4de3-4e7c-94dc-81e160abc882",
   "metadata": {},
   "outputs": [
    {
     "data": {
      "text/plain": [
       "[1, 2, 3]"
      ]
     },
     "execution_count": 55,
     "metadata": {},
     "output_type": "execute_result"
    }
   ],
   "source": [
    "data"
   ]
  },
  {
   "cell_type": "code",
   "execution_count": 56,
   "id": "bf8731f3-d109-4d0b-9af0-9e0a0609a0be",
   "metadata": {},
   "outputs": [
    {
     "data": {
      "text/plain": [
       "[1, 2, 3]"
      ]
     },
     "execution_count": 56,
     "metadata": {},
     "output_type": "execute_result"
    }
   ],
   "source": [
    "data2"
   ]
  },
  {
   "cell_type": "code",
   "execution_count": 84,
   "id": "4198e446-e447-4af2-abb1-02f6a1b416fe",
   "metadata": {},
   "outputs": [],
   "source": [
    "del data2"
   ]
  },
  {
   "cell_type": "code",
   "execution_count": 68,
   "id": "795e40e1-f0eb-443a-b60e-d5a396b2022b",
   "metadata": {},
   "outputs": [],
   "source": [
    "f = msg(\"hello\")"
   ]
  },
  {
   "cell_type": "markdown",
   "id": "85a74ad6-3cc4-48bb-96bd-862c149e9946",
   "metadata": {},
   "source": [
    "#### Sample8"
   ]
  },
  {
   "cell_type": "code",
   "execution_count": 57,
   "id": "c8b70947-18b5-4d7c-a214-25cae7baf620",
   "metadata": {},
   "outputs": [
    {
     "name": "stdin",
     "output_type": "stream",
     "text": [
      "操作番号を入力してください。(0-2) 0\n"
     ]
    },
    {
     "name": "stdout",
     "output_type": "stream",
     "text": [
      "データを追加します。\n"
     ]
    }
   ],
   "source": [
    "def append():\n",
    "    print(\"データを追加します。\")\n",
    "def update():\n",
    "    print(\"データを変更します。\")\n",
    "def delete():\n",
    "    print(\"データを削除します。\")\n",
    "    \n",
    "list_ = [append, update, delete]\n",
    "\n",
    "res = int(input(\"操作番号を入力してください。(0-2)\"))\n",
    "\n",
    "if 0 <= res and res < len(list_):\n",
    "    list_[res]()"
   ]
  },
  {
   "cell_type": "markdown",
   "id": "e2191cc0-6fff-46c9-b1e3-653206ceb5c0",
   "metadata": {},
   "source": [
    "#### ラムダでかんたんな関数を記述する"
   ]
  },
  {
   "cell_type": "markdown",
   "id": "6537f907-f1a0-4d61-9f38-e24a6895aa16",
   "metadata": {},
   "source": [
    "#### Sample9"
   ]
  },
  {
   "cell_type": "code",
   "execution_count": 58,
   "id": "fd2c3d59-d238-423b-9cdc-9cd7005536e7",
   "metadata": {
    "scrolled": true
   },
   "outputs": [
    {
     "name": "stdout",
     "output_type": "stream",
     "text": [
      "2\n",
      "4\n",
      "6\n",
      "8\n",
      "10\n"
     ]
    }
   ],
   "source": [
    "data = [1,2,3,4,5]\n",
    "\n",
    "for d in map(lambda x: x*2, data):\n",
    "    print(d)"
   ]
  },
  {
   "cell_type": "markdown",
   "id": "c7aeb353-6a11-467a-8dc7-27b7d98c1c69",
   "metadata": {},
   "source": [
    "#### 補足P192 map関数の第１引数に通常の関数を指定した例"
   ]
  },
  {
   "cell_type": "code",
   "execution_count": 98,
   "id": "91048618-91b6-4898-b99b-6cdc3d6fb72b",
   "metadata": {},
   "outputs": [
    {
     "name": "stdout",
     "output_type": "stream",
     "text": [
      "2\n",
      "4\n",
      "6\n",
      "8\n",
      "10\n"
     ]
    }
   ],
   "source": [
    "data = [1, 2, 3, 4, 5]\n",
    " \n",
    "def f(x):\n",
    "    return x*2\n",
    " \n",
    "for d in map(f, data):\n",
    "    print(d)"
   ]
  },
  {
   "cell_type": "markdown",
   "id": "52cc8816-f521-4b36-acf8-c32813367fe8",
   "metadata": {},
   "source": [
    "#### 補足P192 filter関数"
   ]
  },
  {
   "cell_type": "code",
   "execution_count": 59,
   "id": "ec12d204-a3e1-4ea9-8bae-aa2e01a5701d",
   "metadata": {},
   "outputs": [
    {
     "name": "stdout",
     "output_type": "stream",
     "text": [
      "[22.86, 13.97, 15.24, 12.7, 16.51, 25.4]\n"
     ]
    }
   ],
   "source": [
    "def larger_5(inch): \n",
    "    return inch >= 5\n",
    " \n",
    "inches = [9, 5.5, 6, 4, 5, 6.5, 10]\n",
    "cms = []\n",
    " \n",
    "for inch in filter(larger_5, inches):\n",
    "    cms.append(inch * 2.54)\n",
    " \n",
    "print(cms)"
   ]
  },
  {
   "cell_type": "markdown",
   "id": "a94abb56-1580-4174-88ff-e4c4a66cd4ad",
   "metadata": {},
   "source": [
    "#### filter関数にlambda式を使った例"
   ]
  },
  {
   "cell_type": "code",
   "execution_count": 60,
   "id": "8559ebf1-c58e-4f23-a684-1debae3159c3",
   "metadata": {},
   "outputs": [
    {
     "name": "stdout",
     "output_type": "stream",
     "text": [
      "[22.86, 13.97, 15.24, 12.7, 16.51, 25.4]\n"
     ]
    }
   ],
   "source": [
    "inches = [9, 5.5, 6, 4, 5, 6.5, 10]\n",
    "cms = []\n",
    " \n",
    "for inch in filter(lambda x: x >= 5 , inches):\n",
    "    cms.append(inch * 2.54)\n",
    " \n",
    "print(cms)"
   ]
  },
  {
   "cell_type": "markdown",
   "id": "cceb5eb7-0b04-49b0-9749-d26fef681e79",
   "metadata": {},
   "source": [
    "#### リスト内包"
   ]
  },
  {
   "cell_type": "code",
   "execution_count": 61,
   "id": "1957c8c5-f4b7-4401-b08d-38175ae5a824",
   "metadata": {
    "scrolled": true
   },
   "outputs": [
    {
     "name": "stdout",
     "output_type": "stream",
     "text": [
      "2\n",
      "4\n",
      "6\n",
      "8\n",
      "10\n"
     ]
    }
   ],
   "source": [
    "for d in [x*2 for x in data]:\n",
    "    print(d)"
   ]
  },
  {
   "cell_type": "markdown",
   "id": "dac59a4e-ed5b-4652-a98b-90994abaeb54",
   "metadata": {},
   "source": [
    "#### inch -> cm変換"
   ]
  },
  {
   "cell_type": "code",
   "execution_count": 106,
   "id": "8d1c8ce7-b9a6-4597-8c6e-2bd92fb5d5ce",
   "metadata": {},
   "outputs": [
    {
     "name": "stdout",
     "output_type": "stream",
     "text": [
      "[22.86, 13.97, 15.24, 12.7, 16.51, 25.4]\n"
     ]
    }
   ],
   "source": [
    "inches = [9, 5.5, 6, 4, 5, 6.5, 10]\n",
    "cms = [inch*2.54 for inch in inches if inch >= 5]\n",
    "print(cms)"
   ]
  },
  {
   "cell_type": "code",
   "execution_count": 62,
   "id": "ccbc44c3-af90-49cf-9c09-5077a98b1963",
   "metadata": {},
   "outputs": [
    {
     "name": "stdout",
     "output_type": "stream",
     "text": [
      "[(1, 4), (2, 5), (3, 6)]\n"
     ]
    }
   ],
   "source": [
    "a = [1,2,3]\n",
    "b = [4,5,6]\n",
    "def func(i,j):\n",
    "    return (i,j)\n",
    "print(list(map(func,a,b)))"
   ]
  },
  {
   "cell_type": "code",
   "execution_count": 66,
   "id": "79eac1e0-5b15-4bd5-bb95-5a42ecf92c4e",
   "metadata": {},
   "outputs": [
    {
     "name": "stdout",
     "output_type": "stream",
     "text": [
      "(1, 4)\n",
      "(2, 5)\n",
      "(3, 6)\n"
     ]
    }
   ],
   "source": [
    "a = [1,2,3]\n",
    "b = [4,5,6]\n",
    "def func(i,j):\n",
    "    return (i,j)\n",
    "# print(list(map(func,a,b)))\n",
    "for t in map(func, a, b):\n",
    "    print(t)"
   ]
  },
  {
   "cell_type": "markdown",
   "id": "0ef87f89-4a5c-4f92-9ef6-a68d31aa0d38",
   "metadata": {},
   "source": [
    "#### mapを使ったzip処理"
   ]
  },
  {
   "cell_type": "code",
   "execution_count": 68,
   "id": "921285ef-97ad-486b-b22a-8e44f1e6bfad",
   "metadata": {},
   "outputs": [
    {
     "name": "stdout",
     "output_type": "stream",
     "text": [
      "(1, 4)\n",
      "(2, 5)\n"
     ]
    }
   ],
   "source": [
    "a = [1,2,3]\n",
    "b = [4,5,]\n",
    "# print(list(map(func,a,b)))\n",
    "for t in map(lambda i,j:(i,j), a, b):\n",
    "    print(t)"
   ]
  },
  {
   "cell_type": "code",
   "execution_count": 70,
   "id": "63f92ff4-5b82-4448-a6f6-03e4953b162e",
   "metadata": {},
   "outputs": [
    {
     "name": "stdout",
     "output_type": "stream",
     "text": [
      "(1, 4)\n",
      "(2, 5)\n",
      "(3, 6)\n"
     ]
    }
   ],
   "source": [
    "a = [1,2,3]\n",
    "b = [4,5,6]\n",
    "# print(list(map(func,a,b)))\n",
    "for t in map(lambda *t:t, a, b):\n",
    "    print(t)"
   ]
  },
  {
   "cell_type": "markdown",
   "id": "40f6bc98-b0d3-46e3-b773-461cf1c18b65",
   "metadata": {},
   "source": [
    "#### mapを使ったenumerate処理"
   ]
  },
  {
   "cell_type": "code",
   "execution_count": 74,
   "id": "90c80c96-080f-4b4c-b61c-a76f560666e3",
   "metadata": {},
   "outputs": [
    {
     "name": "stdout",
     "output_type": "stream",
     "text": [
      "(0, 4)\n",
      "(1, 5)\n",
      "(2, 6)\n",
      "(3, 7)\n",
      "(4, 8)\n",
      "(5, 9)\n"
     ]
    }
   ],
   "source": [
    "a = [1,2,3]\n",
    "b = [4,5,6,7,8,9,]\n",
    "# print(list(map(func,a,b)))\n",
    "for t in map(lambda *t:t, range(len(b)), b):\n",
    "    print(t)"
   ]
  },
  {
   "cell_type": "markdown",
   "id": "49e990fb-d53f-423b-89b4-7fae86cb2385",
   "metadata": {},
   "source": [
    "#### デコレータで関数に機能を追加する"
   ]
  },
  {
   "cell_type": "markdown",
   "id": "5701c183-5cef-4b22-ac2b-6366dfcc6f10",
   "metadata": {},
   "source": [
    "#### Sample10"
   ]
  },
  {
   "cell_type": "code",
   "execution_count": 78,
   "id": "7ea0bc62-70b0-497a-9809-adc5c514e881",
   "metadata": {},
   "outputs": [
    {
     "name": "stdin",
     "output_type": "stream",
     "text": [
      "メッセージを入力してください。 Hello\n"
     ]
    },
    {
     "name": "stdout",
     "output_type": "stream",
     "text": [
      "---Hello--- を入力しました。\n"
     ]
    }
   ],
   "source": [
    "def deco(func): # func=printmsg\n",
    "    def wrapper(x):\n",
    "        wx = \"---\" + x + \"---\"\n",
    "        return func(wx) # 引数wxでprintmsgを呼び出している\n",
    "    return wrapper # decoの引数funcをwrapperとして返す\n",
    "# @decoはprintmsgを引数にしてdecoを呼び出す\n",
    "@deco\n",
    "def printmsg(x): # printmsgはwrapperに置き換えれれる\n",
    "    print(x, \"を入力しました。\")\n",
    "\n",
    "str_ = input(\"メッセージを入力してください。\")\n",
    "\n",
    "printmsg(str_) # 実際はwrapperを呼び出している"
   ]
  },
  {
   "cell_type": "code",
   "execution_count": 82,
   "id": "395d95be-073e-41a8-b779-9f7132995413",
   "metadata": {},
   "outputs": [
    {
     "name": "stdin",
     "output_type": "stream",
     "text": [
      "メッセージを入力してください。 Hello\n"
     ]
    },
    {
     "name": "stdout",
     "output_type": "stream",
     "text": [
      "<html><b><i>Hello</i></b></html> を入力しました。\n"
     ]
    }
   ],
   "source": [
    "def deco(func): # func=printmsg\n",
    "    def wrapper(x):\n",
    "        wx = \"<html><b><i>\" + x + \"</i></b></html>\"\n",
    "        return func(wx) # 引数wxでprintmsgを呼び出している\n",
    "    return wrapper # decoの引数funcをwrapperとして返す\n",
    "# @decoはprintmsgを引数にしてdecoを呼び出す\n",
    "@deco\n",
    "def printmsg(x): # printmsgはwrapperに置き換えられる\n",
    "    print(x, \"を入力しました。\")\n",
    "\n",
    "str_ = input(\"メッセージを入力してください。\")\n",
    "\n",
    "printmsg(str_) # 実際はwrapperを呼び出している"
   ]
  },
  {
   "cell_type": "markdown",
   "id": "7a709f10-6a19-4fa5-8a0e-da7e54363bb9",
   "metadata": {},
   "source": [
    "#### ジェネレータを定義できる"
   ]
  },
  {
   "cell_type": "code",
   "execution_count": 83,
   "id": "24bf52af-ca16-4ca7-b8c4-f129db0a90f0",
   "metadata": {},
   "outputs": [],
   "source": [
    "def makex(x):\n",
    "    while True:\n",
    "        yield x\n",
    "        x = x +1"
   ]
  },
  {
   "cell_type": "code",
   "execution_count": 103,
   "id": "7c1e5ae2-1d09-4da5-860e-dec297842879",
   "metadata": {},
   "outputs": [],
   "source": [
    "def makex(x):\n",
    "    n = 0\n",
    "    while n < x:\n",
    "        yield n\n",
    "        n += 1"
   ]
  },
  {
   "cell_type": "code",
   "execution_count": 105,
   "id": "ef9f6b4a-f53c-4124-9b1f-49320d9bc6e9",
   "metadata": {},
   "outputs": [
    {
     "name": "stdout",
     "output_type": "stream",
     "text": [
      "0\n",
      "1\n",
      "2\n"
     ]
    },
    {
     "ename": "StopIteration",
     "evalue": "",
     "output_type": "error",
     "traceback": [
      "\u001b[1;31m---------------------------------------------------------------------------\u001b[0m",
      "\u001b[1;31mStopIteration\u001b[0m                             Traceback (most recent call last)",
      "Cell \u001b[1;32mIn[105], line 5\u001b[0m\n\u001b[0;32m      3\u001b[0m \u001b[38;5;28mprint\u001b[39m(\u001b[38;5;28mnext\u001b[39m(n))\n\u001b[0;32m      4\u001b[0m \u001b[38;5;28mprint\u001b[39m(\u001b[38;5;28mnext\u001b[39m(n))\n\u001b[1;32m----> 5\u001b[0m \u001b[38;5;28mprint\u001b[39m(\u001b[38;5;28;43mnext\u001b[39;49m\u001b[43m(\u001b[49m\u001b[43mn\u001b[49m\u001b[43m)\u001b[49m)\n",
      "\u001b[1;31mStopIteration\u001b[0m: "
     ]
    }
   ],
   "source": [
    "n = makex(3)\n",
    "print(next(n))\n",
    "print(next(n))\n",
    "print(next(n))\n",
    "print(next(n))"
   ]
  },
  {
   "cell_type": "markdown",
   "id": "8c50085e-94c7-4ecb-a12f-c6bad68ecef2",
   "metadata": {},
   "source": [
    "#### 簡易版range組み込み関数"
   ]
  },
  {
   "cell_type": "code",
   "execution_count": 104,
   "id": "20671b55-c612-41b0-9be2-e6675916e63a",
   "metadata": {},
   "outputs": [
    {
     "name": "stdout",
     "output_type": "stream",
     "text": [
      "0,1,2,3,4,5,6,7,8,9,"
     ]
    }
   ],
   "source": [
    "for n in makex(10):\n",
    "    print(n, end=\",\")"
   ]
  },
  {
   "cell_type": "markdown",
   "id": "a0ef1284-3eac-4b13-8a9a-ad728f6a2e47",
   "metadata": {},
   "source": [
    "### 7.6変数とスコープ"
   ]
  },
  {
   "cell_type": "markdown",
   "id": "95aba4ab-45c8-400f-9264-3a56e3e9e3ec",
   "metadata": {},
   "source": [
    "#### Sample11"
   ]
  },
  {
   "cell_type": "code",
   "execution_count": 108,
   "id": "80efba0d-efe2-4570-a83c-d3f178b4d00f",
   "metadata": {},
   "outputs": [
    {
     "name": "stdout",
     "output_type": "stream",
     "text": [
      "関数の外では変数aが使えます。\n",
      "変数aの値は 0 です。\n",
      "funcBのなかでは変数aと変数bが使えます。\n",
      "変数aの値は 0 です。\n",
      "変数bの値は 1 です。\n",
      "funcCのなかでは変数aと変数cが使えます。\n",
      "変数aの値は 0 です。\n",
      "変数cの値は 2 です。\n"
     ]
    }
   ],
   "source": [
    "a = 0        # グローバル変数です。\n",
    "def funcB():\n",
    "    b = 1    # ローカル変数bです。\n",
    "    print(\"funcBのなかでは変数aと変数bが使えます。\")\n",
    "    print(\"変数aの値は\", a, \"です。\")    # グローバル変数が使えます\n",
    "    print(\"変数bの値は\", b, \"です。\")    # この関数内にローカル変数が使えます\n",
    "    # print(\"変数cの値は\", c, \"です。\")    # ほかの関数内のローカル変数は使えません\n",
    "\n",
    "def funcC():\n",
    "    c = 2    # ローカル変数cです。\n",
    "    print(\"funcCのなかでは変数aと変数cが使えます。\")\n",
    "    print(\"変数aの値は\", a, \"です。\")\n",
    "    # print(\"変数bの値は\", b, \"です。\")\n",
    "    print(\"変数cの値は\", c, \"です。\")\n",
    "\n",
    "\n",
    "print(\"関数の外では変数aが使えます。\")\n",
    "print(\"変数aの値は\", a, \"です。\")    # グローバル変数が使えます\n",
    "# print(\"変数bの値は\", b, \"です。\")\n",
    "# print(\"変数cの値は\", c, \"です。\")\n",
    "\n",
    "funcB()\n",
    "funcC()\n",
    "\n",
    "    "
   ]
  },
  {
   "cell_type": "markdown",
   "id": "88de2cd2-30fc-42d4-8dab-53ed19cb1d55",
   "metadata": {},
   "source": [
    "#### ローカル変数の名前が重なると"
   ]
  },
  {
   "cell_type": "code",
   "execution_count": 112,
   "id": "d6545875-9ef9-4893-8f24-750364a4dae2",
   "metadata": {},
   "outputs": [
    {
     "name": "stdout",
     "output_type": "stream",
     "text": [
      "func1:a 0\n",
      "func2:a 1\n",
      "func1:a 0\n"
     ]
    }
   ],
   "source": [
    "def func1():\n",
    "    a = 0\n",
    "    print(\"func1:a\", a)\n",
    "def func2():\n",
    "    a = 1\n",
    "    print(\"func2:a\", a)\n",
    "\n",
    "func1()\n",
    "func2()\n",
    "func1()"
   ]
  },
  {
   "cell_type": "markdown",
   "id": "3bdac319-408b-417d-aee2-2b38dc55328e",
   "metadata": {},
   "source": [
    "#### グルーバル変数と名前が重なると"
   ]
  },
  {
   "cell_type": "code",
   "execution_count": 121,
   "id": "9b965367-5b2c-4f18-addb-c6ca180b1100",
   "metadata": {},
   "outputs": [
    {
     "name": "stdout",
     "output_type": "stream",
     "text": [
      "func:a 1\n",
      "dir() ['a']\n",
      "global:a 1\n"
     ]
    }
   ],
   "source": [
    "a = 0\n",
    "a = a + 1\n",
    "\n",
    "def func():\n",
    "    a = 0 # ローカル変数aが優先される\n",
    "    a = a + 1\n",
    "    print(\"func:a\", a)\n",
    "    print(\"dir()\",dir())\n",
    "\n",
    "func()\n",
    "print(\"global:a\", a)\n"
   ]
  },
  {
   "cell_type": "markdown",
   "id": "cf4fe8f8-6a19-42ec-ad2f-879a44f0e55d",
   "metadata": {},
   "source": [
    "#### 200ページのglobal 指定"
   ]
  },
  {
   "cell_type": "code",
   "execution_count": 126,
   "id": "75e53780-4a9c-4181-8b04-e16ae99fd322",
   "metadata": {},
   "outputs": [
    {
     "name": "stdout",
     "output_type": "stream",
     "text": [
      "func:a 2\n",
      "dir() []\n",
      "global:a 2\n"
     ]
    }
   ],
   "source": [
    "a = 0\n",
    "a = a + 1\n",
    "\n",
    "def func():\n",
    "    global a\n",
    "    a = a + 1\n",
    "    print(\"func:a\", a)\n",
    "    print(\"dir()\",dir())\n",
    "\n",
    "func()\n",
    "print(\"global:a\", a)\n"
   ]
  },
  {
   "cell_type": "markdown",
   "id": "d4e37148-c4d1-4cb2-9b56-569de58a25ab",
   "metadata": {},
   "source": [
    "### 7.7記憶の寿命"
   ]
  },
  {
   "cell_type": "markdown",
   "id": "b78f5a25-5e89-44ce-8c86-2749a3709466",
   "metadata": {},
   "source": [
    "#### Sample12"
   ]
  },
  {
   "cell_type": "code",
   "execution_count": 130,
   "id": "8e5ebac4-f38b-4e95-ab6b-883e9df28f68",
   "metadata": {},
   "outputs": [
    {
     "name": "stdout",
     "output_type": "stream",
     "text": [
      "変数aは 0 変数ｂは 0\n",
      "変数aは 1 変数ｂは 0\n",
      "変数aは 2 変数ｂは 0\n",
      "変数aは 3 変数ｂは 0\n",
      "変数aは 4 変数ｂは 0\n"
     ]
    }
   ],
   "source": [
    "a = 0\n",
    "\n",
    "def func():\n",
    "    global a\n",
    "    b = 0\n",
    "\n",
    "    print(\"変数aは\", a, \"変数ｂは\", b)\n",
    "\n",
    "    a = a + 1\n",
    "    b = b + 1\n",
    "\n",
    "for i in range(5):\n",
    "    func()\n"
   ]
  },
  {
   "cell_type": "code",
   "execution_count": null,
   "id": "b7d72128-5120-4997-88ab-a4f8ef3d316f",
   "metadata": {},
   "outputs": [],
   "source": []
  }
 ],
 "metadata": {
  "kernelspec": {
   "display_name": "Python 3 (ipykernel)",
   "language": "python",
   "name": "python3"
  },
  "language_info": {
   "codemirror_mode": {
    "name": "ipython",
    "version": 3
   },
   "file_extension": ".py",
   "mimetype": "text/x-python",
   "name": "python",
   "nbconvert_exporter": "python",
   "pygments_lexer": "ipython3",
   "version": "3.9.18"
  }
 },
 "nbformat": 4,
 "nbformat_minor": 5
}
