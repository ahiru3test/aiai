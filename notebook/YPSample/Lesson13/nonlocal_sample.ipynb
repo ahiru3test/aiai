{
 "cells": [
  {
   "cell_type": "code",
   "execution_count": 8,
   "id": "2e37fcf4",
   "metadata": {
    "scrolled": false
   },
   "outputs": [
    {
     "ename": "NameError",
     "evalue": "name 'e' is not defined",
     "output_type": "error",
     "traceback": [
      "\u001b[1;31m---------------------------------------------------------------------------\u001b[0m",
      "\u001b[1;31mNameError\u001b[0m                                 Traceback (most recent call last)",
      "Cell \u001b[1;32mIn[8], line 2\u001b[0m\n\u001b[0;32m      1\u001b[0m \u001b[38;5;28;01mtry\u001b[39;00m:\n\u001b[1;32m----> 2\u001b[0m     \u001b[38;5;28;01mdel\u001b[39;00m spam\n\u001b[0;32m      3\u001b[0m \u001b[38;5;28;01mexcept\u001b[39;00m(e):\n",
      "\u001b[1;31mNameError\u001b[0m: name 'spam' is not defined",
      "\nDuring handling of the above exception, another exception occurred:\n",
      "\u001b[1;31mNameError\u001b[0m                                 Traceback (most recent call last)",
      "Cell \u001b[1;32mIn[8], line 3\u001b[0m\n\u001b[0;32m      1\u001b[0m \u001b[38;5;28;01mtry\u001b[39;00m:\n\u001b[0;32m      2\u001b[0m     \u001b[38;5;28;01mdel\u001b[39;00m spam\n\u001b[1;32m----> 3\u001b[0m \u001b[38;5;28;01mexcept\u001b[39;00m(\u001b[43me\u001b[49m):\n\u001b[0;32m      4\u001b[0m     \u001b[38;5;28mprint\u001b[39m(e)\n\u001b[0;32m      5\u001b[0m \u001b[38;5;28;01mfinally\u001b[39;00m:\n",
      "\u001b[1;31mNameError\u001b[0m: name 'e' is not defined"
     ]
    }
   ],
   "source": [
    "try:\n",
    "    del spam\n",
    "except():\n",
    "    print()\n",
    "finally:\n",
    "    pass\n",
    "\n",
    "\n",
    "\n",
    "def scope_test():\n",
    "    def do_local():\n",
    "        spam = \"local_spam\"\n",
    "    def do_nonlocal():\n",
    "        nonlocal spam\n",
    "        spam = \"nonlocal spam\"\n",
    "    def do_global():\n",
    "        global spam\n",
    "        spam = \"global spam\"\n",
    "    spam = \"test_spam\"\n",
    "    do_local()\n",
    "    print(\"After local assignment:\", spam,\"#no effect\") \n",
    "    do_nonlocal()\n",
    "    print(\"After nonlocal assignment:\", spam, \"#effect nonlocal\")\n",
    "    do_global()\n",
    "    print(\"After global assignment\", spam, \"#no effect (effect to global)\")\n",
    "    \n",
    "scope_test()\n",
    "print(\"In global assignment\",spam, \"#effect by do_global()\")"
   ]
  },
  {
   "cell_type": "markdown",
   "id": "d921da14",
   "metadata": {},
   "source": [
    "### Python チュートリアルの説明（引用）\n",
    "　ローカル代入（これがデフォルトの動作）は scope_test 内での spam のバインディングを変化させない。\n",
    "non_local 代入は scope_test の spam バインディングを変更し、global 代入はモジュールレベルのバインディングを変更している。\n",
    "　"
   ]
  },
  {
   "cell_type": "markdown",
   "id": "4f61c4a1",
   "metadata": {},
   "source": [
    "#### global 代入の実行以前にはモジュールレベルの spam にはバインディングがなかったことも自分で確認してほしい。\n",
    "➡ カーネル再起動してから次のセルを実行してエラーになればバインディングがなかったことを確認できます。"
   ]
  },
  {
   "cell_type": "code",
   "execution_count": 5,
   "id": "a22ec7eb",
   "metadata": {},
   "outputs": [
    {
     "name": "stdout",
     "output_type": "stream",
     "text": [
      "After local assignment: test_spam\n",
      "After nonlocal assignment: nonlocal spam\n",
      "After global assignment nonlocal spam\n"
     ]
    },
    {
     "ename": "NameError",
     "evalue": "name 'spam' is not defined",
     "output_type": "error",
     "traceback": [
      "\u001b[1;31m---------------------------------------------------------------------------\u001b[0m",
      "\u001b[1;31mNameError\u001b[0m                                 Traceback (most recent call last)",
      "Cell \u001b[1;32mIn[5], line 21\u001b[0m\n\u001b[0;32m     18\u001b[0m     \u001b[38;5;28mprint\u001b[39m(\u001b[38;5;124m\"\u001b[39m\u001b[38;5;124mAfter global assignment\u001b[39m\u001b[38;5;124m\"\u001b[39m, spam)\n\u001b[0;32m     20\u001b[0m scope_test()\n\u001b[1;32m---> 21\u001b[0m \u001b[38;5;28mprint\u001b[39m(\u001b[38;5;124m\"\u001b[39m\u001b[38;5;124mIn global assignment\u001b[39m\u001b[38;5;124m\"\u001b[39m,\u001b[43mspam\u001b[49m)\n",
      "\u001b[1;31mNameError\u001b[0m: name 'spam' is not defined"
     ]
    }
   ],
   "source": [
    "del spam\n",
    "\n",
    "def scope_test():\n",
    "    def do_local():\n",
    "        spam = \"local_spam\"\n",
    "    def do_nonlocal():\n",
    "        nonlocal spam\n",
    "        spam = \"nonlocal spam\"\n",
    "    def do_global():\n",
    "        global spam\n",
    "        #spam = \"global spam\"\n",
    "    spam = \"test_spam\"\n",
    "    do_local()\n",
    "    print(\"After local assignment:\", spam)\n",
    "    do_nonlocal()\n",
    "    print(\"After nonlocal assignment:\", spam)\n",
    "    do_global()\n",
    "    print(\"After global assignment\", spam)\n",
    "    \n",
    "scope_test()\n",
    "print(\"In global assignment\",spam)"
   ]
  },
  {
   "cell_type": "markdown",
   "id": "28ce16dd",
   "metadata": {},
   "source": [
    "### Pythonドキュメント\n",
    "https://docs.python.org/ja/3.8/reference/simple_stmts.html#the-nonlocal-statement<br>\n",
    "nonlocal 文で列挙された名前は、 global 文で列挙された名前と違い、外側のスコープですでに存在する束縛を参照しなければなりません (新しい束縛が作られるべきスコープの選択が曖昧さを排除できません)。\n",
    "\n",
    "nonlocal 文で列挙された名前は、ローカルスコープですでに存在する束縛と衝突してはなりません。"
   ]
  },
  {
   "cell_type": "code",
   "execution_count": 14,
   "id": "c5dd48e1",
   "metadata": {},
   "outputs": [
    {
     "ename": "SyntaxError",
     "evalue": "name 'spam' is assigned to before nonlocal declaration (3527523652.py, line 9)",
     "output_type": "error",
     "traceback": [
      "\u001b[1;36m  Cell \u001b[1;32mIn[14], line 9\u001b[1;36m\u001b[0m\n\u001b[1;33m    nonlocal spam\u001b[0m\n\u001b[1;37m    ^\u001b[0m\n\u001b[1;31mSyntaxError\u001b[0m\u001b[1;31m:\u001b[0m name 'spam' is assigned to before nonlocal declaration\n"
     ]
    }
   ],
   "source": [
    "# del spam\n",
    "\n",
    "def scope_test():\n",
    "    def do_local():\n",
    "        spam = \"local_spam\"\n",
    "    def do_nonlocal():\n",
    "        # ローカルスコープですでに存在する束縛と衝突する\n",
    "        spam = \"do_nonlocal\" # <-error\n",
    "        # nonlocal spam #error\n",
    "        spam = \"nonlocal spam\"\n",
    "    def do_global():\n",
    "        global spam\n",
    "        spam = \"global spam\"\n",
    "    spam = \"test_spam\"\n",
    "    do_local()\n",
    "    print(\"After local assignment:\", spam)\n",
    "    do_nonlocal()\n",
    "    print(\"After nonlocal assignment:\", spam)\n",
    "    do_global()\n",
    "    print(\"After global assignment\", spam)\n",
    "    \n",
    "scope_test()\n",
    "print(\"In global assignment\",spam)"
   ]
  },
  {
   "cell_type": "code",
   "execution_count": 19,
   "id": "611c8a4a",
   "metadata": {},
   "outputs": [
    {
     "name": "stdout",
     "output_type": "stream",
     "text": [
      "local\n",
      "nonlocal\n",
      "nonlocal\n"
     ]
    }
   ],
   "source": [
    "def outer():\n",
    "  spam = \"local\"\n",
    "  def inner():\n",
    "    nonlocal spam\n",
    "    spam = \"nonlocal\"\n",
    "    print(spam)\n",
    "  print(spam)\n",
    "  inner()\n",
    "  print(spam)\n",
    "\n",
    "outer()\n"
   ]
  },
  {
   "cell_type": "code",
   "execution_count": 20,
   "id": "f99b615f",
   "metadata": {},
   "outputs": [
    {
     "name": "stdout",
     "output_type": "stream",
     "text": [
      "nonlocal\n",
      "nonlocal\n",
      "nonlocal\n"
     ]
    }
   ],
   "source": [
    "def outer():\n",
    "  spam = \"local\"\n",
    "  def inner():\n",
    "      def core():\n",
    "        nonlocal spam\n",
    "        spam = \"nonlocal\"\n",
    "        print(spam)\n",
    "      return core\n",
    "  c=inner()\n",
    "  c()\n",
    "  print(spam)\n",
    "  inner()\n",
    "  print(spam)\n",
    "\n",
    "outer()\n"
   ]
  },
  {
   "cell_type": "code",
   "execution_count": null,
   "id": "7468c3a5",
   "metadata": {},
   "outputs": [],
   "source": [
    "import builtins\n",
    "\n",
    "# \n",
    "print(dir(builtins))\n",
    "\n",
    "print(abs(-1))\n"
   ]
  }
 ],
 "metadata": {
  "kernelspec": {
   "display_name": "Python 3",
   "language": "python",
   "name": "python3"
  },
  "language_info": {
   "codemirror_mode": {
    "name": "ipython",
    "version": 3
   },
   "file_extension": ".py",
   "mimetype": "text/x-python",
   "name": "python",
   "nbconvert_exporter": "python",
   "pygments_lexer": "ipython3",
   "version": "3.9.18"
  }
 },
 "nbformat": 4,
 "nbformat_minor": 5
}
