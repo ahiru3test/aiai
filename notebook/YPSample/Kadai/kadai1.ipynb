{
 "cells": [
  {
   "cell_type": "markdown",
   "metadata": {},
   "source": [
    "#### 課題1"
   ]
  },
  {
   "cell_type": "code",
   "execution_count": 14,
   "metadata": {},
   "outputs": [
    {
     "name": "stdout",
     "output_type": "stream",
     "text": [
      "身長: 180.0 cm\n",
      "標準体重: 71.28 kg\n"
     ]
    }
   ],
   "source": [
    "height = float(input(\"身長（ｃｍ）を入力してください。\"))\n",
    "print(\"身長:\" , height ,\"cm\\n標準体重:\",22.0*((height/100)**2),\"kg\")\n"
   ]
  },
  {
   "cell_type": "markdown",
   "metadata": {},
   "source": [
    "#### 課題2"
   ]
  },
  {
   "cell_type": "code",
   "execution_count": 29,
   "metadata": {},
   "outputs": [
    {
     "name": "stdout",
     "output_type": "stream",
     "text": [
      "冬\n"
     ]
    }
   ],
   "source": [
    "month = int(input(\"月の数値(1-12)を入力してください。\"))\n",
    "result = \"冬\" if (month<3 or month==12) else \"春\" if(month<6) else \"夏\" if(month<9) else \"秋\"\n",
    "print(result)"
   ]
  },
  {
   "cell_type": "markdown",
   "metadata": {},
   "source": [
    "#### 課題3"
   ]
  },
  {
   "cell_type": "code",
   "execution_count": 6,
   "metadata": {},
   "outputs": [
    {
     "name": "stdout",
     "output_type": "stream",
     "text": [
      "7 は素数です。\n"
     ]
    }
   ],
   "source": [
    "num = int(input(\"整数値を入力してください。\"))\n",
    "s=\"は素数です。\"\n",
    "\n",
    "for i in range(2,num):\n",
    "  if(num % i == 0) :\n",
    "    s=\"は素数ではありません。\"\n",
    "    break\n",
    "\n",
    "print(num,s)\n"
   ]
  },
  {
   "cell_type": "code",
   "execution_count": 7,
   "metadata": {},
   "outputs": [
    {
     "name": "stdout",
     "output_type": "stream",
     "text": [
      "7 は素数です。\n"
     ]
    }
   ],
   "source": [
    "num = int(input(\"整数値を入力してください。\"))\n",
    "s=\"は素数です。\"\n",
    "\n",
    "if(num % 2 ==0) :\n",
    "    s=\"は素数ではありません。\"\n",
    "else :\n",
    "  for i in range(3,num,2):\n",
    "      if(num % i == 0) :\n",
    "        s=\"は素数ではありません。\"\n",
    "        break\n",
    "print(num,s)\n"
   ]
  },
  {
   "cell_type": "code",
   "execution_count": 13,
   "metadata": {},
   "outputs": [
    {
     "name": "stdout",
     "output_type": "stream",
     "text": [
      "6 は素数ではありません。\n"
     ]
    }
   ],
   "source": [
    "num = int(input(\"整数値を入力してください。\"))\n",
    "s=\"は素数です。\"\n",
    "\n",
    "if(num % 2 ==0) :\n",
    "    s=\"は素数ではありません。\"\n",
    "else :\n",
    "  while i<num**0.5 :\n",
    "      if(num % i == 0) :\n",
    "        s=\"は素数ではありません。\"\n",
    "        break\n",
    "      i+=2\n",
    "print(num,s)\n"
   ]
  },
  {
   "cell_type": "markdown",
   "metadata": {},
   "source": [
    "#### 課題4"
   ]
  },
  {
   "cell_type": "code",
   "execution_count": 16,
   "metadata": {},
   "outputs": [
    {
     "name": "stdout",
     "output_type": "stream",
     "text": [
      "1600\t1604\t1608\t1612\t1616\t1620\t1624\t1628\t1632\t1636\t1640\t1644\t1648\t1652\t1656\t1660\t1664\t1668\t1672\t1676\t1680\t1684\t1688\t1692\t1696\t1704\t1708\t1712\t1716\t1720\t1724\t1728\t1732\t1736\t1740\t1744\t1748\t1752\t1756\t1760\t1764\t1768\t1772\t1776\t1780\t1784\t1788\t1792\t1796\t1804\t1808\t1812\t1816\t1820\t1824\t1828\t1832\t1836\t1840\t1844\t1848\t1852\t1856\t1860\t1864\t1868\t1872\t1876\t1880\t1884\t1888\t1892\t1896\t1904\t1908\t1912\t1916\t1920\t1924\t1928\t1932\t1936\t1940\t1944\t1948\t1952\t1956\t1960\t1964\t1968\t1972\t1976\t1980\t1984\t1988\t1992\t1996\t2000\t2004\t2008\t2012\t2016\t2020\t"
     ]
    }
   ],
   "source": [
    "for i in range(1600,2021):\n",
    "  if(i%4==0 and i%100!=0 or i%400==0):\n",
    "    print (i, end=\"\\t\")"
   ]
  },
  {
   "cell_type": "markdown",
   "metadata": {},
   "source": [
    "#### 課題5"
   ]
  },
  {
   "cell_type": "code",
   "execution_count": 41,
   "metadata": {},
   "outputs": [
    {
     "name": "stdout",
     "output_type": "stream",
     "text": [
      "         * \n",
      "        * * \n",
      "       * * * \n",
      "      * * * * \n",
      "     * * * * * \n",
      "    * * * * * * \n",
      "   * * * * * * * \n",
      "  * * * * * * * * \n",
      " * * * * * * * * * \n",
      "* * * * * * * * * * \n"
     ]
    }
   ],
   "source": [
    "num=int(input(\"整数値を入力してください。\"))\n",
    "\n",
    "# 各行のループ\n",
    "for i in range(1,num+1):\n",
    "  # １行分のループ\n",
    "  for j in range(1,num*2):\n",
    "    #描画処理の開始列数(num-i+1)～\"* \"を行の数の分描画\n",
    "    if(j==(num-i+1)):\n",
    "      for k in range(1,i+1):\n",
    "        print(\"* \",end=\"\")\n",
    "      break\n",
    "    else:\n",
    "      print(\" \",end=\"\")\n",
    "  print()\n"
   ]
  }
 ],
 "metadata": {
  "kernelspec": {
   "display_name": "py39",
   "language": "python",
   "name": "python3"
  },
  "language_info": {
   "codemirror_mode": {
    "name": "ipython",
    "version": 3
   },
   "file_extension": ".py",
   "mimetype": "text/x-python",
   "name": "python",
   "nbconvert_exporter": "python",
   "pygments_lexer": "ipython3",
   "version": "3.9.18"
  }
 },
 "nbformat": 4,
 "nbformat_minor": 2
}
