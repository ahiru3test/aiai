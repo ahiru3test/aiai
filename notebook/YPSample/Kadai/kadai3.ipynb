{
 "cells": [
  {
   "cell_type": "code",
   "execution_count": 1,
   "metadata": {},
   "outputs": [],
   "source": [
    "### 課題１"
   ]
  },
  {
   "cell_type": "code",
   "execution_count": 9,
   "metadata": {},
   "outputs": [
    {
     "name": "stdout",
     "output_type": "stream",
     "text": [
      "[22.86, 13.97, 15.24, 16.51, 25.4]\n"
     ]
    }
   ],
   "source": [
    "def larger_5(inch):\n",
    "  return inch>5\n",
    "inches=[9,5.5,6,4,5,6.5,10]\n",
    "\n",
    "cms=[]\n",
    "for inch in filter(larger_5, inches):\n",
    "  cms.append(inch * 2.54)\n",
    "print(cms)\n"
   ]
  },
  {
   "cell_type": "code",
   "execution_count": 10,
   "metadata": {},
   "outputs": [
    {
     "name": "stdout",
     "output_type": "stream",
     "text": [
      "[22.86, 13.97, 15.24, 16.51, 25.4]\n"
     ]
    }
   ],
   "source": [
    "inches = [9, 5.5, 6, 4, 5, 6.5, 10]\n",
    "cms2=[]\n",
    "cms2 = [inch * 2.54 for inch in inches if inch > 5]\n",
    "print(cms2)\n"
   ]
  },
  {
   "cell_type": "code",
   "execution_count": 8,
   "metadata": {},
   "outputs": [
    {
     "name": "stdout",
     "output_type": "stream",
     "text": [
      "[22.86, 13.97, 15.24, 16.51, 25.4]\n"
     ]
    }
   ],
   "source": [
    "inches = [9, 5.5, 6, 4, 5, 6.5, 10]\n",
    "larger_5_2 = lambda inch: inch > 5\n",
    "\n",
    "cms=[]\n",
    "for inch in filter(larger_5_2, inches):\n",
    "  cms.append(inch * 2.54)\n",
    "print(cms)\n"
   ]
  },
  {
   "cell_type": "markdown",
   "metadata": {},
   "source": [
    "### 課題2"
   ]
  },
  {
   "cell_type": "code",
   "execution_count": null,
   "metadata": {},
   "outputs": [],
   "source": [
    "answer = [\"京都\", \"北海道\", \"沖縄\", \"博多\", \"北海道\", \"大阪\",\n",
    "\"京都\", \"京都\",\"大阪\", \"京都\", \"京都\", \"大阪\", \"京都\",\n",
    "\"京都\", \"博多\", \"沖縄\",\"沖縄\", \"博多\", \"沖縄\", \"博多\",\n",
    "\"沖縄\", \"北海道\", \"北海道\", \"沖縄\", \"沖縄\", \"北海道\", \"博多\",\n",
    "\"北海道\", \"沖縄\", \"北海道\", \"大阪\", \"北海道\", \"博多\", \"博多\",\n",
    "\"北海道\", \"北海道\", \"北海道\",\"沖縄\", \"沖縄\", \"京都\"]\n",
    " \n",
    "# 空の辞書を用意\n",
    "results = { }\n",
    " \n",
    "# 辞書resultsに地域と得票数を格納する\n",
    "for region in answer:\n",
    " \n",
    "    if region in results:\n",
    " \n",
    "        results[region] += 1\n",
    " \n",
    "    else:\n",
    " \n",
    "        results[region] = 1\n",
    " \n",
    "# 結果を表示する\n",
    "print(results)\n",
    " \n",
    "for region, num in results.items():\n",
    " \n",
    "    print(region,\":\",num)\n"
   ]
  },
  {
   "cell_type": "code",
   "execution_count": 19,
   "metadata": {},
   "outputs": [
    {
     "name": "stdout",
     "output_type": "stream",
     "text": [
      "{'京都': 8, '北海道': 11, '沖縄': 10, '博多': 7, '大阪': 4}\n",
      "北海道 : 11\n",
      "沖縄 : 10\n",
      "京都 : 8\n",
      "博多 : 7\n",
      "大阪 : 4\n"
     ]
    }
   ],
   "source": [
    "answer = [\"京都\", \"北海道\", \"沖縄\", \"博多\", \"北海道\", \"大阪\",\n",
    "\"京都\", \"京都\",\"大阪\", \"京都\", \"京都\", \"大阪\", \"京都\",\n",
    "\"京都\", \"博多\", \"沖縄\",\"沖縄\", \"博多\", \"沖縄\", \"博多\",\n",
    "\"沖縄\", \"北海道\", \"北海道\", \"沖縄\", \"沖縄\", \"北海道\", \"博多\",\n",
    "\"北海道\", \"沖縄\", \"北海道\", \"大阪\", \"北海道\", \"博多\", \"博多\",\n",
    "\"北海道\", \"北海道\", \"北海道\",\"沖縄\", \"沖縄\", \"京都\"]\n",
    " \n",
    "# 空の辞書を用意\n",
    "results = { }\n",
    " \n",
    "# 辞書resultsに地域と得票数を格納する\n",
    "for region in answer:\n",
    " \n",
    "    if region in results:\n",
    " \n",
    "        results[region] += 1\n",
    " \n",
    "    else:\n",
    " \n",
    "        results[region] = 1\n",
    " \n",
    "# 結果を表示する\n",
    "print(results)\n",
    "\n",
    "sorted_results = sorted(results.items(), key=lambda x: x[1], reverse=True)\n",
    "\n",
    "for region,num in sorted_results:\n",
    "    print(region,\":\",num)\n"
   ]
  },
  {
   "cell_type": "markdown",
   "metadata": {},
   "source": [
    "### 課題3"
   ]
  },
  {
   "cell_type": "code",
   "execution_count": 29,
   "metadata": {},
   "outputs": [
    {
     "name": "stdout",
     "output_type": "stream",
     "text": [
      "田中 さん 23 才の標準体重は 71.28 です。\n",
      "渡辺 さん 25 才の標準体重は 56.32000000000001 です。\n"
     ]
    }
   ],
   "source": [
    "class Person:\n",
    "    bmi=22\n",
    "\n",
    "    def __init__(self, name, age, height):\n",
    "        self.name = name\n",
    "        self.age = age\n",
    "        self.height = height\n",
    " \n",
    "    def getName(self):\n",
    "        return self.name\n",
    " \n",
    "    def getAge(self):\n",
    "        return self.age\n",
    "\n",
    "    def getHeight(self):\n",
    "        return self.height\n",
    "    \n",
    "    def std_weight(self):\n",
    "        f=float(self.height)\n",
    "        return (f/100.0)**2*self.bmi\n",
    "        \n",
    "\n",
    "#名前、年齢、身長(cm)でインスタンスを作成\n",
    "pr1 = Person(\"田中\", 23, 180)\n",
    "pr2 = Person(\"渡辺\", 25, 160)\n",
    "#名前、年齢、標準体重を取得\n",
    "n1 = pr1.getName()\n",
    "a1 = pr1.getAge()\n",
    "s1 = pr1.std_weight()\n",
    " \n",
    "n2 = pr2.getName()\n",
    "a2 = pr2.getAge()\n",
    "s2 = pr2.std_weight()\n",
    "#名前、年齢、標準体重を表示\n",
    "print(n1, \"さん\", a1, \"才の標準体重は\",s1,\"です。\")\n",
    "print(n2, \"さん\", a2, \"才の標準体重は\",s2,\"です。\")\n"
   ]
  },
  {
   "cell_type": "markdown",
   "metadata": {},
   "source": [
    "### 課題4"
   ]
  },
  {
   "cell_type": "code",
   "execution_count": 32,
   "metadata": {},
   "outputs": [
    {
     "name": "stdout",
     "output_type": "stream",
     "text": [
      "田中 さん 23 才の標準体重は 71.28 です。\n",
      "渡辺 さん 25 才の標準体重は 56.32000000000001 です。\n"
     ]
    }
   ],
   "source": [
    "class Person:\n",
    " \n",
    "    def __init__(self, name, age):\n",
    "        self.name = name\n",
    "        self.age = age\n",
    " \n",
    "    def getName(self):\n",
    "        return self.name\n",
    " \n",
    "    def getAge(self):\n",
    "        return self.age\n",
    "\n",
    "class StdWeight(Person):\n",
    "    bmi=22\n",
    "\n",
    "    def __init__(self, name, age, height):\n",
    "        self.name = name\n",
    "        self.age = age\n",
    "        self.height = height\n",
    "\n",
    "    def getHeight(self):\n",
    "        return self.height\n",
    "    \n",
    "    def std_weight(self):\n",
    "        f=float(self.height)\n",
    "        return (f/100.0)**2*self.bmi\n",
    "\n",
    "\n",
    "#名前、年齢、身長(cm)でインスタンスを作成\n",
    "pr1 = StdWeight(\"田中\", 23, 180)\n",
    "pr2 = StdWeight(\"渡辺\", 25, 160)\n",
    " \n",
    "#名前、年齢、標準体重を取得\n",
    "n1 = pr1.getName()\n",
    "a1 = pr1.getAge()\n",
    "s1 = pr1.std_weight()\n",
    " \n",
    "n2 = pr2.getName()\n",
    "a2 = pr2.getAge()\n",
    "s2 = pr2.std_weight()\n",
    " \n",
    "#名前、年齢、標準体重を表示\n",
    "print(n1, \"さん\", a1, \"才の標準体重は\",s1,\"です。\")\n",
    "print(n2, \"さん\", a2, \"才の標準体重は\",s2,\"です。\")\n"
   ]
  },
  {
   "cell_type": "code",
   "execution_count": null,
   "metadata": {},
   "outputs": [],
   "source": []
  }
 ],
 "metadata": {
  "kernelspec": {
   "display_name": "py39",
   "language": "python",
   "name": "python3"
  },
  "language_info": {
   "codemirror_mode": {
    "name": "ipython",
    "version": 3
   },
   "file_extension": ".py",
   "mimetype": "text/x-python",
   "name": "python",
   "nbconvert_exporter": "python",
   "pygments_lexer": "ipython3",
   "version": "3.9.18"
  }
 },
 "nbformat": 4,
 "nbformat_minor": 2
}
