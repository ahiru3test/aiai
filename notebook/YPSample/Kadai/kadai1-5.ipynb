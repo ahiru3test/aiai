{
 "cells": [
  {
   "cell_type": "markdown",
   "metadata": {},
   "source": [
    "#### 課題1"
   ]
  },
  {
   "cell_type": "code",
   "execution_count": 14,
   "metadata": {},
   "outputs": [
    {
     "name": "stdout",
     "output_type": "stream",
     "text": [
      "身長: 180.0 cm\n",
      "標準体重: 71.28 kg\n"
     ]
    }
   ],
   "source": [
    "height = float(input(\"身長（ｃｍ）を入力してください。\"))\n",
    "print(\"身長:\" , height ,\"cm\\n標準体重:\",22.0*((height/100)**2),\"kg\")\n"
   ]
  },
  {
   "cell_type": "markdown",
   "metadata": {},
   "source": [
    "#### 課題2"
   ]
  },
  {
   "cell_type": "code",
   "execution_count": 29,
   "metadata": {},
   "outputs": [
    {
     "name": "stdout",
     "output_type": "stream",
     "text": [
      "冬\n"
     ]
    }
   ],
   "source": [
    "month = int(input(\"月の数値(1-12)を入力してください。\"))\n",
    "result = \"冬\" if (month<3 or month==12) else \"春\" if(month<6) else \"夏\" if(month<9) else \"秋\"\n",
    "print(result)"
   ]
  },
  {
   "cell_type": "markdown",
   "metadata": {},
   "source": [
    "#### 課題3"
   ]
  },
  {
   "cell_type": "code",
   "execution_count": 44,
   "metadata": {},
   "outputs": [
    {
     "name": "stdout",
     "output_type": "stream",
     "text": [
      "10 は素数ではありません\n"
     ]
    }
   ],
   "source": [
    "num = int(input(\"整数値を入力してください。\"))\n",
    "s=\"は素数です。\"\n",
    "\n",
    "for i in range(2,num):\n",
    "  if(num % i == 0) :\n",
    "    s=\"は素数ではありません。\"\n",
    "    break\n",
    "\n",
    "print(num,s)\n"
   ]
  }
 ],
 "metadata": {
  "kernelspec": {
   "display_name": "py39",
   "language": "python",
   "name": "python3"
  },
  "language_info": {
   "codemirror_mode": {
    "name": "ipython",
    "version": 3
   },
   "file_extension": ".py",
   "mimetype": "text/x-python",
   "name": "python",
   "nbconvert_exporter": "python",
   "pygments_lexer": "ipython3",
   "version": "3.9.18"
  }
 },
 "nbformat": 4,
 "nbformat_minor": 2
}
