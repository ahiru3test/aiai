{
 "cells": [
  {
   "cell_type": "markdown",
   "metadata": {},
   "source": [
    "#### 課題1"
   ]
  },
  {
   "cell_type": "code",
   "execution_count": 7,
   "metadata": {},
   "outputs": [
    {
     "name": "stdout",
     "output_type": "stream",
     "text": [
      "0 : Apple\n",
      "1 : Banana\n",
      "2 : Grape\n",
      "3 : Orange\n",
      "4 : Peach\n",
      "\n",
      "0: Apple\n",
      "1: Banana\n",
      "2: Grape\n",
      "3: Orange\n",
      "4: Peach\n"
     ]
    }
   ],
   "source": [
    "fruits = [\"Apple\",\"Banana\",\"Grape\",\"Orange\",\"Peach\"]\n",
    "for i in range(len(fruits)):\n",
    "  print(i,\":\",fruits[i])\n",
    "\n",
    "print();\n",
    "\n",
    "for n, fruit in enumerate(fruits):\n",
    "    print(str(n)+\":\", fruit)"
   ]
  },
  {
   "cell_type": "markdown",
   "metadata": {},
   "source": [
    "#### 課題2"
   ]
  },
  {
   "cell_type": "code",
   "execution_count": 9,
   "metadata": {},
   "outputs": [
    {
     "name": "stdout",
     "output_type": "stream",
     "text": [
      "Sun : 日\n",
      "Mon : 月\n",
      "Tue : 火\n",
      "Wed : 水\n",
      "Thu : 木\n",
      "Fri : 金\n",
      "Sat : 土\n"
     ]
    }
   ],
   "source": [
    "weekday_en = [\"Sun\",\"Mon\",\"Tue\",\"Wed\",\"Thu\",\"Fri\",\"Sat\"]\n",
    "weekday_ja = [\"日\",\"月\",\"火\",\"水\",\"木\",\"金\",\"土\"]\n",
    "\n",
    "for i,j in zip(weekday_en,weekday_ja):\n",
    "  print(i,\":\",j)\n"
   ]
  },
  {
   "cell_type": "markdown",
   "metadata": {},
   "source": [
    "#### 課題3"
   ]
  },
  {
   "cell_type": "code",
   "execution_count": 15,
   "metadata": {},
   "outputs": [
    {
     "name": "stdout",
     "output_type": "stream",
     "text": [
      "Python の利用人数は 45 人\n",
      "C の利用人数は 14 人\n",
      "Swift の利用人数は 40 人\n",
      "JavaScript の利用人数は 40 人\n",
      "Java の利用人数は 44 人\n"
     ]
    }
   ],
   "source": [
    "lang = {\"Python\":45, \"C\":14, \"Swift\":40, \"JavaScript\":40, \"Java\": 44}\n",
    "\n",
    "for k in lang:\n",
    "  print(k,\"の利用人数は\",lang[k],\"人\")\n"
   ]
  },
  {
   "cell_type": "markdown",
   "metadata": {},
   "source": [
    "#### 課題4"
   ]
  },
  {
   "cell_type": "code",
   "execution_count": 23,
   "metadata": {},
   "outputs": [
    {
     "name": "stdout",
     "output_type": "stream",
     "text": [
      "['田中一郎', '山田太郎', '稲垣五朗', '小林直子']\n"
     ]
    }
   ],
   "source": [
    "customers = [(\"田中一郎\", 25), (\"山田太郎\", 23), (\"佐藤花子\", 15),\n",
    "(\"稲垣五朗\", 33), (\"小林直子\", 26), (\"大木まこと\", 18)]\n",
    "\n",
    "print([name for name, age in customers if age >= 20])\n"
   ]
  },
  {
   "cell_type": "markdown",
   "metadata": {},
   "source": [
    "#### 課題5"
   ]
  },
  {
   "cell_type": "code",
   "execution_count": 36,
   "metadata": {},
   "outputs": [
    {
     "name": "stdout",
     "output_type": "stream",
     "text": [
      "{'京都': 8, '北海道': 11, '沖縄': 10, '博多': 7, '大阪': 4}\n",
      "京都 : 8\n",
      "北海道 : 11\n",
      "沖縄 : 10\n",
      "博多 : 7\n",
      "大阪 : 4\n"
     ]
    }
   ],
   "source": [
    "answer = [\"京都\", \"北海道\", \"沖縄\", \"博多\", \"北海道\", \"大阪\",\n",
    "\"京都\", \"京都\",\"大阪\", \"京都\", \"京都\", \"大阪\", \"京都\",\n",
    "\"京都\", \"博多\", \"沖縄\",\"沖縄\", \"博多\", \"沖縄\", \"博多\",\n",
    "\"沖縄\", \"北海道\", \"北海道\", \"沖縄\", \"沖縄\", \"北海道\", \"博多\",\n",
    "\"北海道\", \"沖縄\", \"北海道\", \"大阪\", \"北海道\", \"博多\", \"博多\",\n",
    "\"北海道\", \"北海道\", \"北海道\",\"沖縄\", \"沖縄\", \"京都\"]\n",
    " \n",
    "# 空の辞書を用意\n",
    "results = { }\n",
    " \n",
    "# 辞書resultsに地域と得票数を格納する\n",
    "for a in answer:\n",
    "    if(a in results) :\n",
    "      results[a]+=1\n",
    "    else:\n",
    "      results[a]=1\n",
    "\n",
    "# 結果を表示する\n",
    "print(results)\n",
    " \n",
    "for region, num in results.items():\n",
    "    print(region,\":\",num)\n"
   ]
  },
  {
   "cell_type": "code",
   "execution_count": 39,
   "metadata": {},
   "outputs": [
    {
     "name": "stdout",
     "output_type": "stream",
     "text": [
      "{'京都': 8, '北海道': 11, '沖縄': 10, '博多': 7, '大阪': 4}\n",
      "京都 : 8\n",
      "北海道 : 11\n",
      "沖縄 : 10\n",
      "博多 : 7\n",
      "大阪 : 4\n"
     ]
    }
   ],
   "source": [
    "answer = [\"京都\", \"北海道\", \"沖縄\", \"博多\", \"北海道\", \"大阪\",\n",
    "\"京都\", \"京都\",\"大阪\", \"京都\", \"京都\", \"大阪\", \"京都\",\n",
    "\"京都\", \"博多\", \"沖縄\",\"沖縄\", \"博多\", \"沖縄\", \"博多\",\n",
    "\"沖縄\", \"北海道\", \"北海道\", \"沖縄\", \"沖縄\", \"北海道\", \"博多\",\n",
    "\"北海道\", \"沖縄\", \"北海道\", \"大阪\", \"北海道\", \"博多\", \"博多\",\n",
    "\"北海道\", \"北海道\", \"北海道\",\"沖縄\", \"沖縄\", \"京都\"]\n",
    " \n",
    "# 空の辞書を用意\n",
    "results = { }\n",
    " \n",
    "# 辞書resultsに地域と得票数を格納する\n",
    "for a in answer:\n",
    "    results[a]= (results[a]+1) if(a in results) else 1\n",
    "\n",
    "# 結果を表示する\n",
    "print(results)\n",
    " \n",
    "for region, num in results.items():\n",
    "    print(region,\":\",num)\n"
   ]
  },
  {
   "cell_type": "code",
   "execution_count": 40,
   "metadata": {},
   "outputs": [
    {
     "name": "stdout",
     "output_type": "stream",
     "text": [
      "{'大阪': 4, '博多': 7, '北海道': 11, '京都': 8, '沖縄': 10}\n",
      "大阪 : 4\n",
      "博多 : 7\n",
      "北海道 : 11\n",
      "京都 : 8\n",
      "沖縄 : 10\n"
     ]
    }
   ],
   "source": [
    "answer = [\"京都\", \"北海道\", \"沖縄\", \"博多\", \"北海道\", \"大阪\",\n",
    "\"京都\", \"京都\",\"大阪\", \"京都\", \"京都\", \"大阪\", \"京都\",\n",
    "\"京都\", \"博多\", \"沖縄\",\"沖縄\", \"博多\", \"沖縄\", \"博多\",\n",
    "\"沖縄\", \"北海道\", \"北海道\", \"沖縄\", \"沖縄\", \"北海道\", \"博多\",\n",
    "\"北海道\", \"沖縄\", \"北海道\", \"大阪\", \"北海道\", \"博多\", \"博多\",\n",
    "\"北海道\", \"北海道\", \"北海道\",\"沖縄\", \"沖縄\", \"京都\",]\n",
    " \n",
    "results = { region:answer.count(region) for region in set(answer) }\n",
    " \n",
    "print(results)\n",
    " \n",
    "for region, num in results.items():\n",
    " \n",
    "    print(region,\":\",num)\n",
    " "
   ]
  },
  {
   "cell_type": "code",
   "execution_count": 50,
   "metadata": {},
   "outputs": [
    {
     "ename": "SyntaxError",
     "evalue": "invalid syntax (3275955608.py, line 1)",
     "output_type": "error",
     "traceback": [
      "\u001b[1;36m  Cell \u001b[1;32mIn[50], line 1\u001b[1;36m\u001b[0m\n\u001b[1;33m    l=[1,2,3,,]\u001b[0m\n\u001b[1;37m             ^\u001b[0m\n\u001b[1;31mSyntaxError\u001b[0m\u001b[1;31m:\u001b[0m invalid syntax\n"
     ]
    }
   ],
   "source": [
    "l=[1,2,3,,]\n",
    "print (l)"
   ]
  },
  {
   "cell_type": "code",
   "execution_count": 48,
   "metadata": {},
   "outputs": [
    {
     "name": "stdout",
     "output_type": "stream",
     "text": [
      "[5, 4, 3, 2, 1]\n"
     ]
    }
   ],
   "source": [
    "n=1\n",
    "sale=[1,2,3,4,5]\n",
    "print(sorted(sale,reverse=True))"
   ]
  },
  {
   "cell_type": "code",
   "execution_count": 49,
   "metadata": {},
   "outputs": [
    {
     "name": "stdout",
     "output_type": "stream",
     "text": [
      "[3, 9, 15, 30]\n"
     ]
    }
   ],
   "source": [
    "num=[1,3,7,10,9,15,20,30]\n",
    "print([m for m in num if m%3==0])"
   ]
  },
  {
   "cell_type": "code",
   "execution_count": 53,
   "metadata": {},
   "outputs": [
    {
     "name": "stdout",
     "output_type": "stream",
     "text": [
      "[('あああ', '男'), ('ううう', '男'), ('えええ', '男')]\n"
     ]
    }
   ],
   "source": [
    "names=[(\"あああ\",\"男\"),(\"いいい\",\"女\"),(\"ううう\",\"男\"),(\"えええ\",\"男\"),(\"おおお\",\"女\")]\n",
    "print([n for n in names if n[1]==\"男\"])\n"
   ]
  }
 ],
 "metadata": {
  "kernelspec": {
   "display_name": "py39",
   "language": "python",
   "name": "python3"
  },
  "language_info": {
   "codemirror_mode": {
    "name": "ipython",
    "version": 3
   },
   "file_extension": ".py",
   "mimetype": "text/x-python",
   "name": "python",
   "nbconvert_exporter": "python",
   "pygments_lexer": "ipython3",
   "version": "3.9.18"
  }
 },
 "nbformat": 4,
 "nbformat_minor": 2
}
