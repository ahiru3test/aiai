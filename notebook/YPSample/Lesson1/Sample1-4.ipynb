{
 "cells": [
  {
   "cell_type": "markdown",
   "id": "4a0a0ab1-4bd6-417f-856a-566f55bcaf12",
   "metadata": {},
   "source": [
    "#### 練習1"
   ]
  },
  {
   "cell_type": "code",
   "execution_count": 5,
   "id": "7aa1bc3c-550c-44ef-8621-f07fb68be128",
   "metadata": {},
   "outputs": [
    {
     "name": "stdout",
     "output_type": "stream",
     "text": [
      "テストの点は [74, 85, 69, 77, 81] です。\n",
      "最高点は 85 です。\n",
      "最低点は 69 です。\n",
      "平均点は 77.2 です。\n"
     ]
    }
   ],
   "source": [
    "test = [74, 85, 69, 77, 81]\n",
    "\n",
    "avg = sum(test)/len(test)\n",
    "\n",
    "print(\"テストの点は\", test, \"です。\")\n",
    "print(\"最高点は\", max(test), \"です。\")\n",
    "print(\"最低点は\", min(test), \"です。\")\n",
    "print(\"平均点は\", avg, \"です。\")"
   ]
  },
  {
   "cell_type": "markdown",
   "id": "afadd78d-fafe-4855-bcdc-ee2b031e06db",
   "metadata": {},
   "source": [
    "#### 練習2"
   ]
  },
  {
   "cell_type": "code",
   "execution_count": 6,
   "id": "6850992d-6600-41dd-9ef4-ab42208416e1",
   "metadata": {},
   "outputs": [
    {
     "name": "stdout",
     "output_type": "stream",
     "text": [
      "テストの点は [74, 85, 69, 77, 81] です。\n",
      "昇順は [69, 74, 77, 81, 85] です。\n",
      "降順は [85, 81, 77, 74, 69] です。\n"
     ]
    }
   ],
   "source": [
    "test = [74, 85, 69, 77, 81]\n",
    "\n",
    "print(\"テストの点は\", test, \"です。\")\n",
    "print(\"昇順は\", sorted(test, reverse=False), \"です。\")\n",
    "print(\"降順は\", sorted(test, reverse=True), \"です。\")\n"
   ]
  },
  {
   "cell_type": "markdown",
   "id": "d69aeb3a-c96f-49ae-9b51-66271d203570",
   "metadata": {},
   "source": [
    "#### 練習3"
   ]
  },
  {
   "cell_type": "code",
   "execution_count": 7,
   "id": "013b5cb0-15fb-4a83-8577-38627188a19d",
   "metadata": {},
   "outputs": [
    {
     "name": "stdout",
     "output_type": "stream",
     "text": [
      "テストの点は [74, 85, 69, 77, 81] です。\n",
      "80点以上は [85, 81] です。\n",
      "80点以上の人数は 2 人です。\n"
     ]
    }
   ],
   "source": [
    "test = [74, 85, 69, 77, 81]\n",
    "\n",
    "high = [t for t in test if t>=80]\n",
    "\n",
    "print(\"テストの点は\", test, \"です。\")\n",
    "print(\"80点以上は\", high, \"です。\")\n",
    "print(\"80点以上の人数は\", len(high), \"人です。\")\n"
   ]
  },
  {
   "cell_type": "markdown",
   "id": "a0236fb9-c3c2-475a-9e74-d24b6c96b45a",
   "metadata": {},
   "source": [
    "#### 練習4"
   ]
  },
  {
   "cell_type": "code",
   "execution_count": 4,
   "id": "45f1abd2-5ab8-48c9-934c-5e3241e7040e",
   "metadata": {},
   "outputs": [
    {
     "name": "stdout",
     "output_type": "stream",
     "text": [
      "都市名データは ['東京', '名古屋', '大阪', '京都', '福岡'] です。\n",
      "最高気温データは [32, 28, 27, 26, 27] です。\n",
      "最低気温データは [25, 21, 20, 19, 22] です。\n",
      "東京 の最高気温は 32 最低気温は 25 です。\n",
      "名古屋 の最高気温は 28 最低気温は 21 です。\n",
      "大阪 の最高気温は 27 最低気温は 20 です。\n",
      "京都 の最高気温は 26 最低気温は 19 です。\n",
      "福岡 の最高気温は 27 最低気温は 22 です。\n"
     ]
    }
   ],
   "source": [
    "city = [\"東京\", \"名古屋\", \"大阪\", \"京都\", \"福岡\"]\n",
    "tm1 = [32, 28, 27, 26, 27]\n",
    "tm2 = [25, 21, 20, 19, 22]\n",
    "\n",
    "print(\"都市名データは\", city, \"です。\")\n",
    "print(\"最高気温データは\", tm1, \"です。\")\n",
    "print(\"最低気温データは\", tm2, \"です。\")\n",
    "\n",
    "for c, t1, t2 in zip(city, tm1, tm2):\n",
    "    print(c, \"の最高気温は\", t1, \"最低気温は\", t2, \"です。\")\n"
   ]
  },
  {
   "cell_type": "code",
   "execution_count": 14,
   "id": "6c5b1c5c-f9af-4bfd-9ea9-14770e662a9c",
   "metadata": {},
   "outputs": [
    {
     "name": "stdout",
     "output_type": "stream",
     "text": [
      "都市名データは ['東京', '名古屋', '大阪', '京都', '福岡'] です。\n",
      "最高気温データは [32, 28, 27, 26, 27] です。\n",
      "最低気温データは [25, 21, 20, 19, 22] です。\n",
      "東京 の最高気温は 32 最低気温は 25 です。\n",
      "名古屋 の最高気温は 28 最低気温は 21 です。\n",
      "大阪 の最高気温は 27 最低気温は 20 です。\n",
      "京都 の最高気温は 26 最低気温は 19 です。\n",
      "福岡 の最高気温は 27 最低気温は 22 です。\n"
     ]
    }
   ],
   "source": [
    "city = [\"東京\", \"名古屋\", \"大阪\", \"京都\", \"福岡\"]\n",
    "tm1 = [32, 28, 27, 26, 27]\n",
    "tm2 = [25, 21, 20, 19, 22]\n",
    "\n",
    "print(\"都市名データは\", city, \"です。\")\n",
    "print(\"最高気温データは\", tm1, \"です。\")\n",
    "print(\"最低気温データは\", tm2, \"です。\")\n",
    "\n",
    "# for c, t1, t2 in zip(city, tm1, tm2):\n",
    "for d in zip(city, tm1, tm2):\n",
    "    print(d[0], \"の最高気温は\", d[1], \"最低気温は\", d[2], \"です。\")\n"
   ]
  },
  {
   "cell_type": "markdown",
   "id": "59fa5ac3-8f50-4c7e-b23c-2a2689206ed2",
   "metadata": {},
   "source": [
    "#### 補足"
   ]
  },
  {
   "cell_type": "code",
   "execution_count": 10,
   "id": "674b3ba3-4e15-4c8c-98fa-1cebb43953cc",
   "metadata": {},
   "outputs": [
    {
     "data": {
      "text/plain": [
       "[('Fukuoka', 27, 22),\n",
       " ('Kyoto', 26, 19),\n",
       " ('Nagoya', 28, 21),\n",
       " ('Osaka', 27, 20),\n",
       " ('Tokyo', 32, 25)]"
      ]
     },
     "execution_count": 10,
     "metadata": {},
     "output_type": "execute_result"
    }
   ],
   "source": [
    "city = [\"Tokyo\",\"Nagoya\",\"Osaka\", \"Kyoto\", \"Fukuoka\"]\n",
    "tm1 = [32, 28, 27, 26, 27]\n",
    "tm2 = [25, 21, 20, 19, 22]\n",
    "city_list = [c for c in zip(city,tm1,tm2)]\n",
    "sorted(city_list, reverse=False)"
   ]
  },
  {
   "cell_type": "code",
   "execution_count": 12,
   "id": "3eac9150-df32-4e00-8850-b944a4b21f7f",
   "metadata": {},
   "outputs": [
    {
     "name": "stdout",
     "output_type": "stream",
     "text": [
      "Kyoto の最高気温は 26 最低気温は 19 です。\n",
      "Fukuoka の最高気温は 27 最低気温は 22 です。\n",
      "Osaka の最高気温は 27 最低気温は 20 です。\n",
      "Nagoya の最高気温は 28 最低気温は 21 です。\n",
      "Tokyo の最高気温は 32 最低気温は 25 です。\n"
     ]
    }
   ],
   "source": [
    "city_list = [c for c in zip(tm1,city,tm2)]\n",
    "# sorted(city_list)\n",
    "for t1, c, t2 in sorted(city_list):\n",
    "    print(c, \"の最高気温は\", t1, \"最低気温は\", t2, \"です。\")"
   ]
  },
  {
   "cell_type": "code",
   "execution_count": 17,
   "id": "c44c9a4e-8d0e-4d74-bfac-eb4c9fd82cd7",
   "metadata": {},
   "outputs": [
    {
     "name": "stdout",
     "output_type": "stream",
     "text": [
      "都市名データは ['東京', '名古屋', '大阪', '京都', '福岡'] です。\n",
      "最高気温データは [32, 28, 27, 26, 27] です。\n",
      "最低気温データは [25, 21, 20, 19, 22] です。\n",
      "京都 の最高気温は 26 最低気温は 19 です。\n",
      "大阪 の最高気温は 27 最低気温は 20 です。\n",
      "福岡 の最高気温は 27 最低気温は 22 です。\n",
      "名古屋 の最高気温は 28 最低気温は 21 です。\n",
      "東京 の最高気温は 32 最低気温は 25 です。\n"
     ]
    }
   ],
   "source": [
    "city = [\"東京\", \"名古屋\", \"大阪\", \"京都\", \"福岡\"]\n",
    "tm1 = [32, 28, 27, 26, 27]\n",
    "tm2 = [25, 21, 20, 19, 22]\n",
    " \n",
    "print(\"都市名データは\", city, \"です。\")\n",
    "print(\"最高気温データは\", tm1, \"です。\")\n",
    "print(\"最低気温データは\", tm2, \"です。\")\n",
    " \n",
    "#for c, t1, t2 in zip(city, tm1, tm2):\n",
    "#    print(c, \"の最高気温は\", t1, \"最低気温は\", t2, \"です。\")\n",
    " \n",
    "city_list = [c for c in zip(tm1,city, tm2)]\n",
    " \n",
    "for t1, c, t2 in sorted(city_list):\n",
    "# for t1, c, t2 in sorted(zip(tm1,city, tm2)):\n",
    "    print(c, \"の最高気温は\", t1, \"最低気温は\", t2, \"です。\")"
   ]
  },
  {
   "cell_type": "code",
   "execution_count": 18,
   "id": "96d75a58-bb7f-4b0c-bf78-e00aa1d686de",
   "metadata": {},
   "outputs": [
    {
     "data": {
      "text/plain": [
       "[(32, '東京', 25),\n",
       " (28, '名古屋', 21),\n",
       " (27, '大阪', 20),\n",
       " (26, '京都', 19),\n",
       " (27, '福岡', 22)]"
      ]
     },
     "execution_count": 18,
     "metadata": {},
     "output_type": "execute_result"
    }
   ],
   "source": [
    "city_list"
   ]
  },
  {
   "cell_type": "markdown",
   "id": "0290ff30-9a66-477e-a1d4-acb75a7ec07d",
   "metadata": {},
   "source": [
    "#### ２次元配列のコピー"
   ]
  },
  {
   "cell_type": "code",
   "execution_count": 19,
   "id": "35613e61-eea8-40d0-9d33-0cbb69b4dae4",
   "metadata": {},
   "outputs": [],
   "source": [
    "data = [\n",
    "   [\"東京\", 32, 25], \n",
    "   [\"名古屋\", 28, 21], \n",
    "   [\"大阪\", 27, 20],\n",
    "   [\"京都\", 26, 19],\n",
    "   [\"福岡\", 27, 22]\n",
    "]"
   ]
  },
  {
   "cell_type": "code",
   "execution_count": 25,
   "id": "48b9f652-3c88-4a72-83b3-47563b1cd97b",
   "metadata": {},
   "outputs": [
    {
     "name": "stdout",
     "output_type": "stream",
     "text": [
      "[['Tokyo', 32, 25], ['名古屋', 28, 21], ['大阪', 27, 20], ['京都', 26, 19], ['福岡', 27, 22]]\n",
      "[['Tokyo', 32, 25], ['名古屋', 28, 21], ['大阪', 27, 20], ['京都', 26, 19], ['福岡', 27, 22]]\n"
     ]
    }
   ],
   "source": [
    "data = [\n",
    "   [\"東京\", 32, 25], \n",
    "   [\"名古屋\", 28, 21], \n",
    "   [\"大阪\", 27, 20],\n",
    "   [\"京都\", 26, 19],\n",
    "   [\"福岡\", 27, 22]\n",
    "]\n",
    "data2 = data.copy()\n",
    "data2[0][0] = \"Tokyo\"\n",
    "print(data)\n",
    "print(data2)"
   ]
  },
  {
   "cell_type": "code",
   "execution_count": 24,
   "id": "6bfb6a0f-4ef5-4f2e-a26d-e4dddcd3985d",
   "metadata": {},
   "outputs": [
    {
     "name": "stdout",
     "output_type": "stream",
     "text": [
      "[['東京', 32, 25], ['名古屋', 28, 21], ['大阪', 27, 20], ['京都', 26, 19], ['福岡', 27, 22]]\n",
      "[['Tokyo', 32, 25], ['名古屋', 28, 21], ['大阪', 27, 20], ['京都', 26, 19], ['福岡', 27, 22]]\n"
     ]
    }
   ],
   "source": [
    "import copy\n",
    "data = [\n",
    "   [\"東京\", 32, 25], \n",
    "   [\"名古屋\", 28, 21], \n",
    "   [\"大阪\", 27, 20],\n",
    "   [\"京都\", 26, 19],\n",
    "   [\"福岡\", 27, 22]\n",
    "]\n",
    "\n",
    "data2 = copy.deepcopy(data)\n",
    "data2[0][0] = \"Tokyo\"\n",
    "print(data)\n",
    "print(data2)"
   ]
  },
  {
   "cell_type": "code",
   "execution_count": null,
   "id": "db56348c-3c97-4dff-95ac-f1be2930873d",
   "metadata": {},
   "outputs": [],
   "source": []
  }
 ],
 "metadata": {
  "kernelspec": {
   "display_name": "Python 3 (ipykernel)",
   "language": "python",
   "name": "python3"
  },
  "language_info": {
   "codemirror_mode": {
    "name": "ipython",
    "version": 3
   },
   "file_extension": ".py",
   "mimetype": "text/x-python",
   "name": "python",
   "nbconvert_exporter": "python",
   "pygments_lexer": "ipython3",
   "version": "3.9.18"
  }
 },
 "nbformat": 4,
 "nbformat_minor": 5
}
