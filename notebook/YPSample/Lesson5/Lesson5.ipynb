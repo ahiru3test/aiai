{
 "cells": [
  {
   "cell_type": "markdown",
   "id": "2d7fa533-2b83-4eb8-9596-679f3ed24dd6",
   "metadata": {},
   "source": [
    "#### Sample1"
   ]
  },
  {
   "cell_type": "code",
   "execution_count": 1,
   "id": "ff0d8cfb-b7dd-4590-8ef8-2fc355d48ff1",
   "metadata": {},
   "outputs": [
    {
     "name": "stdout",
     "output_type": "stream",
     "text": [
      "[80, 60, 22, 50, 75]\n"
     ]
    }
   ],
   "source": [
    "sale = [80, 60, 22, 50, 75]\n",
    "\n",
    "print(sale)"
   ]
  },
  {
   "cell_type": "markdown",
   "id": "596ad72a-2c31-4d82-a2d9-3dad657be3b5",
   "metadata": {},
   "source": [
    "### リストの各要素を取得する"
   ]
  },
  {
   "cell_type": "markdown",
   "id": "89fc5972-4fe2-40f6-bd2a-3c0323445c8f",
   "metadata": {},
   "source": [
    "#### Sample2"
   ]
  },
  {
   "cell_type": "code",
   "execution_count": 2,
   "id": "8cef8964-0b53-400d-969a-9777728401a2",
   "metadata": {},
   "outputs": [
    {
     "name": "stdout",
     "output_type": "stream",
     "text": [
      "80\n",
      "60\n",
      "22\n",
      "50\n",
      "75\n",
      "リストの長さは 5 です。\n"
     ]
    }
   ],
   "source": [
    "sale = [80, 60, 22, 50, 75]\n",
    "\n",
    "print(sale[0])\n",
    "print(sale[1])\n",
    "print(sale[2])\n",
    "print(sale[3])\n",
    "print(sale[4])\n",
    "\n",
    "print(\"リストの長さは\", len(sale), \"です。\")"
   ]
  },
  {
   "cell_type": "code",
   "execution_count": 3,
   "id": "68fb7059-e2b2-46cd-ace5-b216e9b37b46",
   "metadata": {},
   "outputs": [
    {
     "data": {
      "text/plain": [
       "0"
      ]
     },
     "execution_count": 3,
     "metadata": {},
     "output_type": "execute_result"
    }
   ],
   "source": [
    "#### リストが空かどうかの判定\n",
    "s = []\n",
    "len(s)"
   ]
  },
  {
   "cell_type": "markdown",
   "id": "73bf01c5-ddbf-44ef-8904-09c275b369e7",
   "metadata": {},
   "source": [
    "### リストを繰り返し文で扱う"
   ]
  },
  {
   "cell_type": "markdown",
   "id": "662b69b7-ca9c-4f62-a737-8fa66931f058",
   "metadata": {},
   "source": [
    "#### Sample3"
   ]
  },
  {
   "cell_type": "code",
   "execution_count": 4,
   "id": "9997328d-b3c0-4a0f-97c9-d31534bf5bec",
   "metadata": {},
   "outputs": [
    {
     "name": "stdout",
     "output_type": "stream",
     "text": [
      "80\n",
      "60\n",
      "22\n",
      "50\n",
      "75\n",
      "リストの長さは 5 です。\n"
     ]
    }
   ],
   "source": [
    "sale = [80, 60, 22, 50, 75]\n",
    "\n",
    "for s in sale:\n",
    "    print(s)\n",
    "\n",
    "print(\"リストの長さは\", len(sale), \"です。\")"
   ]
  },
  {
   "cell_type": "code",
   "execution_count": 5,
   "id": "1525dada-add0-41d0-9056-4c32c1f14133",
   "metadata": {},
   "outputs": [],
   "source": [
    "itr = iter(sale)"
   ]
  },
  {
   "cell_type": "code",
   "execution_count": 6,
   "id": "433259a3-0d63-4673-9a10-ed234a896c68",
   "metadata": {},
   "outputs": [
    {
     "data": {
      "text/plain": [
       "80"
      ]
     },
     "execution_count": 6,
     "metadata": {},
     "output_type": "execute_result"
    }
   ],
   "source": [
    "next(itr)"
   ]
  },
  {
   "cell_type": "markdown",
   "id": "0b43bc58-74f0-43a0-a40a-02e7b89eaa5c",
   "metadata": {},
   "source": [
    "## 5.3リストの操作"
   ]
  },
  {
   "cell_type": "markdown",
   "id": "e936144a-9fd1-4fea-86d9-480b67cfe5f7",
   "metadata": {},
   "source": [
    "#### リストの要素の値を変更する"
   ]
  },
  {
   "cell_type": "markdown",
   "id": "9af1c850-73c7-4da8-bef1-e091f4a5d7cd",
   "metadata": {},
   "source": [
    "#### Sample4"
   ]
  },
  {
   "cell_type": "code",
   "execution_count": 7,
   "id": "61f49996-34cd-4279-aa5d-63ea7908fa8b",
   "metadata": {},
   "outputs": [
    {
     "name": "stdin",
     "output_type": "stream",
     "text": [
      "何番目のデータを変更しますか？ 3\n",
      "変更後のデータを入力してください。 13\n"
     ]
    },
    {
     "name": "stdout",
     "output_type": "stream",
     "text": [
      "3 番目のデータ 50 を変更します。\n",
      "3 番目のデータは 13 に変更されました。\n"
     ]
    }
   ],
   "source": [
    "sale = [80, 60, 22, 50, 75]\n",
    "\n",
    "i = int(input(\"何番目のデータを変更しますか？\"))\n",
    "num = int(input(\"変更後のデータを入力してください。\"))\n",
    "\n",
    "print(i, \"番目のデータ\", sale[i], \"を変更します。\")\n",
    "\n",
    "sale[i] = num    #要素の値を変更します。\n",
    "\n",
    "print(i, \"番目のデータは\", sale[i], \"に変更されました。\")"
   ]
  },
  {
   "cell_type": "markdown",
   "id": "a5558684-310c-4876-903f-4a31a337870e",
   "metadata": {},
   "source": [
    "### リストに要素を追加する"
   ]
  },
  {
   "cell_type": "markdown",
   "id": "fc652d50-5285-4cbd-aafc-caab7ed96507",
   "metadata": {},
   "source": [
    "#### Sample5"
   ]
  },
  {
   "cell_type": "code",
   "execution_count": 8,
   "id": "0b1e22ab-a510-4fb7-a246-4f96a22179fc",
   "metadata": {
    "scrolled": true
   },
   "outputs": [
    {
     "name": "stdout",
     "output_type": "stream",
     "text": [
      "現在のデータは [80, 60, 22, 50, 75] です。\n",
      "末尾に100を追加します。\n",
      "現在のデータは [80, 60, 22, 50, 75, 100] です。\n",
      "sale[2]に25を挿入します。\n",
      "現在のデータは [80, 60, 25, 22, 50, 75, 100] です。\n"
     ]
    }
   ],
   "source": [
    "sale = [80, 60, 22, 50, 75]\n",
    "print(\"現在のデータは\", sale, \"です。\")\n",
    "\n",
    "print(\"末尾に100を追加します。\")\n",
    "sale.append(100)\n",
    "print(\"現在のデータは\", sale, \"です。\")\n",
    "\n",
    "print(\"sale[2]に25を挿入します。\")\n",
    "sale.insert(2,25)\n",
    "print(\"現在のデータは\", sale, \"です。\")"
   ]
  },
  {
   "cell_type": "code",
   "execution_count": 9,
   "id": "2c3412be-dd71-4cb5-b341-b77ca23eeae7",
   "metadata": {},
   "outputs": [
    {
     "data": {
      "text/plain": [
       "[80, 60, 25, 22, 50, 75, 100]"
      ]
     },
     "execution_count": 9,
     "metadata": {},
     "output_type": "execute_result"
    }
   ],
   "source": [
    "sale"
   ]
  },
  {
   "cell_type": "code",
   "execution_count": 10,
   "id": "e01eafb6-bb4d-488c-91b1-dd2b1d3d55fc",
   "metadata": {},
   "outputs": [],
   "source": [
    "sale.insert(0,100)"
   ]
  },
  {
   "cell_type": "code",
   "execution_count": 11,
   "id": "16f5c99b-40d1-4727-a514-486227545864",
   "metadata": {},
   "outputs": [
    {
     "data": {
      "text/plain": [
       "[100, 80, 60, 25, 22, 50, 75, 100]"
      ]
     },
     "execution_count": 11,
     "metadata": {},
     "output_type": "execute_result"
    }
   ],
   "source": [
    "sale"
   ]
  },
  {
   "cell_type": "markdown",
   "id": "358bfcaf-13a4-4c33-a5aa-f06401d05eee",
   "metadata": {},
   "source": [
    "#### リストの要素を削除する。"
   ]
  },
  {
   "cell_type": "markdown",
   "id": "ceb37052-5148-45b1-bb09-f7e233a23ff6",
   "metadata": {},
   "source": [
    "#### Sample6"
   ]
  },
  {
   "cell_type": "code",
   "execution_count": 12,
   "id": "d1c3c5b8-a302-4723-95cb-2e3ebffb9a80",
   "metadata": {},
   "outputs": [
    {
     "name": "stdout",
     "output_type": "stream",
     "text": [
      "現在のデータは [80, 60, 22, 50, 75] です。\n",
      "先頭のデータを削除します。\n",
      "現在のデータは [60, 22, 50, 75] です。\n",
      "22を削除します。\n",
      "現在のデータは [60, 50, 75] です。\n"
     ]
    }
   ],
   "source": [
    "sale = [80, 60, 22, 50, 75]\n",
    "print(\"現在のデータは\", sale, \"です。\")\n",
    "\n",
    "print(\"先頭のデータを削除します。\")\n",
    "del sale[0]\n",
    "print(\"現在のデータは\", sale, \"です。\")\n",
    "\n",
    "print(\"22を削除します。\")\n",
    "sale.remove(22)\n",
    "print(\"現在のデータは\", sale, \"です。\")\n"
   ]
  },
  {
   "cell_type": "code",
   "execution_count": 13,
   "id": "913208b0-9417-4160-8891-fcf350a422cc",
   "metadata": {},
   "outputs": [
    {
     "data": {
      "text/plain": [
       "[80, 60, 50, 75, 22]"
      ]
     },
     "execution_count": 13,
     "metadata": {},
     "output_type": "execute_result"
    }
   ],
   "source": [
    "sale = [80, 60, 22, 50, 75,22]\n",
    "sale.remove(22)\n",
    "sale"
   ]
  },
  {
   "cell_type": "markdown",
   "id": "e273d721-38aa-436b-8a52-823c3787a389",
   "metadata": {},
   "source": [
    "### 5.4リストの注意"
   ]
  },
  {
   "cell_type": "markdown",
   "id": "4ae62109-640f-45a0-92d4-f42b99cf7a11",
   "metadata": {},
   "source": [
    "#### Sample7"
   ]
  },
  {
   "cell_type": "code",
   "execution_count": 14,
   "id": "73d7e39d-1b78-453a-9347-6fc30a639219",
   "metadata": {
    "scrolled": true
   },
   "outputs": [
    {
     "name": "stdout",
     "output_type": "stream",
     "text": [
      "data1は [1, 2, 3, 4, 5] です。\n",
      "data2は [1, 2, 3, 4, 5] です。\n",
      "data1を変更します。\n",
      "data1は [10, 2, 3, 4, 5] です。\n",
      "data2は [10, 2, 3, 4, 5] です。\n"
     ]
    }
   ],
   "source": [
    "data1 = [1,2,3,4,5]\n",
    "data2 = data1\n",
    "\n",
    "print(\"data1は\", data1, \"です。\")\n",
    "print(\"data2は\", data2, \"です。\")\n",
    "\n",
    "data1[0] = 10\n",
    "\n",
    "print(\"data1を変更します。\")\n",
    "\n",
    "print(\"data1は\", data1, \"です。\")\n",
    "print(\"data2は\", data2, \"です。\")"
   ]
  },
  {
   "cell_type": "code",
   "execution_count": 26,
   "id": "91507d5d-024b-43cf-9141-9e9dedf26aa7",
   "metadata": {},
   "outputs": [
    {
     "data": {
      "text/plain": [
       "2942325562240"
      ]
     },
     "execution_count": 26,
     "metadata": {},
     "output_type": "execute_result"
    }
   ],
   "source": [
    "id(data1)"
   ]
  },
  {
   "cell_type": "code",
   "execution_count": 27,
   "id": "e8e0117d-2d54-4f08-bab4-6d595fcbb0c1",
   "metadata": {},
   "outputs": [
    {
     "data": {
      "text/plain": [
       "2942292999552"
      ]
     },
     "execution_count": 27,
     "metadata": {},
     "output_type": "execute_result"
    }
   ],
   "source": [
    "id(data2)"
   ]
  },
  {
   "cell_type": "markdown",
   "id": "dd5b8a79-e898-49f3-aa0f-5c36e85f2cbf",
   "metadata": {},
   "source": [
    "#### 新しいリストを作成するには"
   ]
  },
  {
   "cell_type": "markdown",
   "id": "a8f38faf-0489-4fa7-b695-d24574bfc1eb",
   "metadata": {},
   "source": [
    "#### Sample8"
   ]
  },
  {
   "cell_type": "code",
   "execution_count": 25,
   "id": "acb5e77c-ba6b-44c3-903e-06e96960d3e9",
   "metadata": {},
   "outputs": [
    {
     "name": "stdout",
     "output_type": "stream",
     "text": [
      "data1は [1, 2, 3, 4, 5] です。\n",
      "data2は [1, 2, 3, 4, 5] です。\n",
      "data1を変更します。\n",
      "data1は [10, 2, 3, 4, 5] です。\n",
      "data2は [1, 2, 3, 4, 5] です。\n"
     ]
    }
   ],
   "source": [
    "data1 = [1,2,3,4,5]\n",
    "data2 = list(data1)\n",
    "# data2 = data1.copy()\n",
    "\n",
    "print(\"data1は\", data1, \"です。\")\n",
    "print(\"data2は\", data2, \"です。\")\n",
    "\n",
    "data1[0] = 10\n",
    "\n",
    "print(\"data1を変更します。\")\n",
    "\n",
    "print(\"data1は\", data1, \"です。\")\n",
    "print(\"data2は\", data2, \"です。\")"
   ]
  },
  {
   "cell_type": "code",
   "execution_count": 31,
   "id": "7aa39770-b0aa-49fb-8896-6d5b6dc89837",
   "metadata": {},
   "outputs": [
    {
     "data": {
      "text/plain": [
       "[10, 20, 30]"
      ]
     },
     "execution_count": 31,
     "metadata": {},
     "output_type": "execute_result"
    }
   ],
   "source": [
    "# 空のリスト作成\n",
    "data=list([10,20,30])\n",
    "data"
   ]
  },
  {
   "cell_type": "markdown",
   "id": "bdea9502-7b96-4ef6-8078-1c51b02124a9",
   "metadata": {},
   "source": [
    "### 5.5リストの連結とスライス"
   ]
  },
  {
   "cell_type": "markdown",
   "id": "ed604a1f-8bc4-48e9-a0fc-010c37efae5f",
   "metadata": {},
   "source": [
    "#### リストを連結する"
   ]
  },
  {
   "cell_type": "markdown",
   "id": "0378b312-cca0-46df-b2be-f4d71ec641bc",
   "metadata": {},
   "source": [
    "#### Sample9"
   ]
  },
  {
   "cell_type": "code",
   "execution_count": 35,
   "id": "9221943b-cedc-4413-b6d9-6ecb23aa1b49",
   "metadata": {},
   "outputs": [
    {
     "name": "stdout",
     "output_type": "stream",
     "text": [
      "上半期のデータは [1, 2, 3, 4, 5, 6] です。\n",
      "下半期のデータは [7, 8, 9, 10, 11, 12] です。\n",
      "年間のデータは [1, 2, 3, 4, 5, 6, 7, 8, 9, 10, 11, 12] です。\n"
     ]
    }
   ],
   "source": [
    "sale1 = [1,2,3,4,5,6]\n",
    "print(\"上半期のデータは\", sale1, \"です。\")\n",
    "\n",
    "sale2 = [7,8,9,10,11,12]\n",
    "print(\"下半期のデータは\", sale2,\"です。\")\n",
    "\n",
    "ysale = sale1 + sale2\n",
    "\n",
    "print(\"年間のデータは\", ysale, \"です。\")"
   ]
  },
  {
   "cell_type": "code",
   "execution_count": 32,
   "id": "3bf85208-1f60-464b-9dbc-dce47e66742e",
   "metadata": {},
   "outputs": [
    {
     "data": {
      "text/plain": [
       "[1, 2, 3, 4, 5, 6, 7, 8, 9, 10, 11, 12]"
      ]
     },
     "execution_count": 32,
     "metadata": {},
     "output_type": "execute_result"
    }
   ],
   "source": [
    "sale1 = [1,2,3,4,5,6]\n",
    "sale2 = [7,8,9,10,11,12]\n",
    "sale1.extend(sale2)\n",
    "sale1"
   ]
  },
  {
   "cell_type": "code",
   "execution_count": 43,
   "id": "243c6a9f-039d-44d4-ac14-4827f2961013",
   "metadata": {},
   "outputs": [
    {
     "data": {
      "text/plain": [
       "[1, 2, 3, 4, 5, 6, [7, 8, 9, 10, 11, 12]]"
      ]
     },
     "execution_count": 43,
     "metadata": {},
     "output_type": "execute_result"
    }
   ],
   "source": [
    "sale1 = [1,2,3,4,5,6]\n",
    "sale2 = [7,8,9,10,11,12]\n",
    "sale1.append(sale2)\n",
    "sale1"
   ]
  },
  {
   "cell_type": "markdown",
   "id": "42235777-818f-4c27-9040-324a0b3defb0",
   "metadata": {},
   "source": [
    "### +=演算子で連結"
   ]
  },
  {
   "cell_type": "code",
   "execution_count": 33,
   "id": "604de0d1-e47f-4272-a5ff-e1cd86aff3ac",
   "metadata": {},
   "outputs": [
    {
     "data": {
      "text/plain": [
       "[1, 2, 3, 4, 5, 6, 7, 8, 9, 10, 11, 12]"
      ]
     },
     "execution_count": 33,
     "metadata": {},
     "output_type": "execute_result"
    }
   ],
   "source": [
    "sale1 = [1,2,3,4,5,6]\n",
    "sale2 = [7,8,9,10,11,12]\n",
    "sale1 += sale2\n",
    "sale1"
   ]
  },
  {
   "cell_type": "markdown",
   "id": "966eb0bd-88a6-473c-a77c-e2d2811bc879",
   "metadata": {},
   "source": [
    "#### スライスで指定する"
   ]
  },
  {
   "cell_type": "code",
   "execution_count": 40,
   "id": "7ce84209-4dd4-465c-aa69-a8d47cfb0252",
   "metadata": {},
   "outputs": [
    {
     "data": {
      "text/plain": [
       "[1, 2, 3, 4, 5, 6, 7, 8, 9, 10, 11, 12]"
      ]
     },
     "execution_count": 40,
     "metadata": {},
     "output_type": "execute_result"
    }
   ],
   "source": [
    "ysale"
   ]
  },
  {
   "cell_type": "code",
   "execution_count": 38,
   "id": "efb16437-0cac-4bab-8324-3c399c3f4648",
   "metadata": {},
   "outputs": [
    {
     "data": {
      "text/plain": [
       "[1, 2, 3, 4, 5, 6]"
      ]
     },
     "execution_count": 38,
     "metadata": {},
     "output_type": "execute_result"
    }
   ],
   "source": [
    "ysale[0:6]"
   ]
  },
  {
   "cell_type": "code",
   "execution_count": 39,
   "id": "f53e2418-0b4e-46da-b3d6-902d4ae5836f",
   "metadata": {},
   "outputs": [
    {
     "data": {
      "text/plain": [
       "[7, 8, 9, 10, 11, 12]"
      ]
     },
     "execution_count": 39,
     "metadata": {},
     "output_type": "execute_result"
    }
   ],
   "source": [
    "ysale[6:]"
   ]
  },
  {
   "cell_type": "code",
   "execution_count": 43,
   "id": "3a45dda7-b9b5-46ce-b9b7-2a1d4e8176a8",
   "metadata": {},
   "outputs": [
    {
     "data": {
      "text/plain": [
       "[1, 3, 5, 7, 9, 11]"
      ]
     },
     "execution_count": 43,
     "metadata": {},
     "output_type": "execute_result"
    }
   ],
   "source": [
    "ysale[::2]"
   ]
  },
  {
   "cell_type": "code",
   "execution_count": 46,
   "id": "55a13a4c-ca7f-4cfc-84fe-fdc00517104e",
   "metadata": {},
   "outputs": [
    {
     "data": {
      "text/plain": [
       "[12, 11, 10, 9, 8, 7, 6, 5, 4, 3, 2, 1]"
      ]
     },
     "execution_count": 46,
     "metadata": {},
     "output_type": "execute_result"
    }
   ],
   "source": [
    "ysale[::-1]"
   ]
  },
  {
   "cell_type": "markdown",
   "id": "ec6e12f2-ffd3-47cb-b14f-68b05c38658b",
   "metadata": {},
   "source": [
    "#### Sample10"
   ]
  },
  {
   "cell_type": "code",
   "execution_count": 51,
   "id": "a96f6709-dc85-4398-bbc5-2b2755935ac7",
   "metadata": {},
   "outputs": [
    {
     "name": "stdout",
     "output_type": "stream",
     "text": [
      "年間データは [1, 2, 3, 4, 5, 6, 7, 8, 9, 10, 11, 12] です。\n",
      "上半期のデータは [1, 2, 3, 4, 5, 6] です。\n",
      "下半期のデータは [7, 8, 9, 10, 11, 12] です。\n",
      "一か月おきのデータは [1, 3, 5, 7, 9, 11] です。\n",
      "逆順のデータは [12, 11, 10, 9, 8, 7, 6, 5, 4, 3, 2, 1] です。\n",
      "年間データは [1, 2, 3, 4, 5, 6, 7, 8, 9, 10, 11, 12] です。\n",
      "上半期のデータを差し替えます。\n",
      "年間データは [0, 0, 0, 0, 0, 0, 7, 8, 9, 10, 11, 12] です。\n"
     ]
    }
   ],
   "source": [
    "ysale = [1,2,3,4,5,6,7,8,9,10,11,12]\n",
    "print(\"年間データは\", ysale, \"です。\")\n",
    "\n",
    "sale1 = ysale[0:6]\n",
    "print(\"上半期のデータは\", sale1, \"です。\")\n",
    "\n",
    "sale2 = ysale[6:]\n",
    "print(\"下半期のデータは\", sale2, \"です。\")\n",
    "\n",
    "sale3 = ysale[::2]\n",
    "print(\"一か月おきのデータは\", sale3, \"です。\")\n",
    "\n",
    "sale4 = ysale[::-1]\n",
    "print(\"逆順のデータは\", sale4, \"です。\")\n",
    "\n",
    "print(\"年間データは\", ysale, \"です。\")\n",
    "print(\"上半期のデータを差し替えます。\")\n",
    "\n",
    "ysale[:6] = [0,0,0,0,0,0]\n",
    "print(\"年間データは\", ysale, \"です。\")\n"
   ]
  },
  {
   "cell_type": "code",
   "execution_count": 52,
   "id": "7ba03488-97ad-4399-acd4-bd4f3c2e23ab",
   "metadata": {},
   "outputs": [
    {
     "data": {
      "text/plain": [
       "[0, 0, 0, 0, 0, 0, 7, 8, 9, 10, 11, 12]"
      ]
     },
     "execution_count": 52,
     "metadata": {},
     "output_type": "execute_result"
    }
   ],
   "source": [
    "ysale"
   ]
  },
  {
   "cell_type": "code",
   "execution_count": 54,
   "id": "67d9aa56-bc35-4275-8e3e-6eeebb103fbc",
   "metadata": {},
   "outputs": [],
   "source": [
    "del ysale[:6]"
   ]
  },
  {
   "cell_type": "code",
   "execution_count": 55,
   "id": "f590377d-a84b-4cf2-aa00-920e782c08d6",
   "metadata": {},
   "outputs": [
    {
     "data": {
      "text/plain": [
       "[7, 8, 9, 10, 11, 12]"
      ]
     },
     "execution_count": 55,
     "metadata": {},
     "output_type": "execute_result"
    }
   ],
   "source": [
    "ysale"
   ]
  },
  {
   "cell_type": "markdown",
   "id": "da2ac4fd-9d42-47d9-9993-022dc8ae4e8c",
   "metadata": {},
   "source": [
    "#### リストを逆順にするには"
   ]
  },
  {
   "cell_type": "markdown",
   "id": "b8d72a53-90a0-4e92-bb15-6d4c33b02a04",
   "metadata": {},
   "source": [
    "#### Sample11"
   ]
  },
  {
   "cell_type": "code",
   "execution_count": 47,
   "id": "3fe4cda9-7e31-43ae-bc14-8357ddddaf71",
   "metadata": {},
   "outputs": [
    {
     "name": "stdout",
     "output_type": "stream",
     "text": [
      "現在のデータは [1, 2, 3, 4, 5] です。\n",
      "data[::-1]をfor文で処理します。\n",
      "5\n",
      "4\n",
      "3\n",
      "2\n",
      "1\n",
      "data[::-1]は [5, 4, 3, 2, 1] です。\n",
      "現在のデータは [1, 2, 3, 4, 5] です。\n",
      "reversed(data)をfor文で処理します\n",
      "5\n",
      "4\n",
      "3\n",
      "2\n",
      "1\n",
      "reversed(data)は <list_reverseiterator object at 0x000002AD104C54F0> です。\n",
      "現在のデータは [1, 2, 3, 4, 5] です。\n",
      "data.reverse()を処理します。\n",
      "現在のデータは [5, 4, 3, 2, 1] です。\n"
     ]
    }
   ],
   "source": [
    "data = [1,2,3,4,5]\n",
    "print(\"現在のデータは\", data, \"です。\")\n",
    "\n",
    "print(\"data[::-1]をfor文で処理します。\")\n",
    "for d in data[::-1]:\n",
    "    print(d)\n",
    "print(\"data[::-1]は\", data[::-1], \"です。\")\n",
    "print(\"現在のデータは\", data, \"です。\")\n",
    "\n",
    "print(\"reversed(data)をfor文で処理します\")\n",
    "for d in reversed(data):\n",
    "    print(d)\n",
    "print(\"reversed(data)は\", reversed(data),\"です。\")\n",
    "print(\"現在のデータは\", data, \"です。\")\n",
    "\n",
    "print(\"data.reverse()を処理します。\")\n",
    "data.reverse()\n",
    "print(\"現在のデータは\", data, \"です。\")"
   ]
  },
  {
   "cell_type": "markdown",
   "id": "f813694e-1e60-44b5-8c61-1ab72c5934cd",
   "metadata": {},
   "source": [
    "#### イテレータとは"
   ]
  },
  {
   "cell_type": "code",
   "execution_count": 48,
   "id": "708bac50-0ad1-4aec-9f3e-bcdd95cfa829",
   "metadata": {},
   "outputs": [],
   "source": [
    "data= [1,2,3,4,5]\n",
    "it = iter(data)"
   ]
  },
  {
   "cell_type": "code",
   "execution_count": 54,
   "id": "5f1a84ea-1a27-4e11-994c-c629b78ea103",
   "metadata": {},
   "outputs": [
    {
     "ename": "StopIteration",
     "evalue": "",
     "output_type": "error",
     "traceback": [
      "\u001b[1;31m---------------------------------------------------------------------------\u001b[0m",
      "\u001b[1;31mStopIteration\u001b[0m                             Traceback (most recent call last)",
      "Cell \u001b[1;32mIn[54], line 1\u001b[0m\n\u001b[1;32m----> 1\u001b[0m \u001b[38;5;28mprint\u001b[39m(\u001b[38;5;28;43mnext\u001b[39;49m\u001b[43m(\u001b[49m\u001b[43mit\u001b[49m\u001b[43m)\u001b[49m)\n",
      "\u001b[1;31mStopIteration\u001b[0m: "
     ]
    }
   ],
   "source": [
    "print(next(it))"
   ]
  },
  {
   "cell_type": "code",
   "execution_count": 55,
   "id": "715d843d-2ee0-40aa-91f7-fcc53ac1644b",
   "metadata": {},
   "outputs": [],
   "source": [
    "rv =reversed(data)"
   ]
  },
  {
   "cell_type": "code",
   "execution_count": 61,
   "id": "1fab314a-2a62-4897-bd05-92260e288ac8",
   "metadata": {},
   "outputs": [
    {
     "ename": "StopIteration",
     "evalue": "",
     "output_type": "error",
     "traceback": [
      "\u001b[1;31m---------------------------------------------------------------------------\u001b[0m",
      "\u001b[1;31mStopIteration\u001b[0m                             Traceback (most recent call last)",
      "Cell \u001b[1;32mIn[61], line 1\u001b[0m\n\u001b[1;32m----> 1\u001b[0m \u001b[38;5;28mprint\u001b[39m(\u001b[38;5;28;43mnext\u001b[39;49m\u001b[43m(\u001b[49m\u001b[43mrv\u001b[49m\u001b[43m)\u001b[49m)\n",
      "\u001b[1;31mStopIteration\u001b[0m: "
     ]
    }
   ],
   "source": [
    "print(next(rv))"
   ]
  },
  {
   "cell_type": "markdown",
   "id": "30e5b64d-22ca-4954-93d4-c5ec14f80198",
   "metadata": {},
   "source": [
    "### 5.6リスト要素の組み合わせと分解"
   ]
  },
  {
   "cell_type": "markdown",
   "id": "34162082-c102-49cf-8236-560abc5b7631",
   "metadata": {},
   "source": [
    "#### Sample12"
   ]
  },
  {
   "cell_type": "code",
   "execution_count": 1,
   "id": "ac72d640-f7f1-4d5f-b614-a67572987825",
   "metadata": {
    "scrolled": true
   },
   "outputs": [
    {
     "name": "stdout",
     "output_type": "stream",
     "text": [
      "都市名データは ['東京', '名古屋', '大阪', '京都'] です。\n",
      "売上データは [80, 60, 22, 50, 75] です。\n",
      "データを組み合わせます。\n",
      "('東京', 80)\n",
      "('名古屋', 60)\n",
      "('大阪', 22)\n",
      "('京都', 50)\n",
      "データとインデックスを組み合わせます。\n",
      "(0, '東京')\n",
      "(1, '名古屋')\n",
      "(2, '大阪')\n",
      "(3, '京都')\n"
     ]
    }
   ],
   "source": [
    "city = [\"東京\", \"名古屋\", \"大阪\", \"京都\"]\n",
    "sale = [80,60,22,50,75]\n",
    "\n",
    "print(\"都市名データは\", city, \"です。\")\n",
    "print(\"売上データは\", sale,\"です。\")\n",
    "\n",
    "print(\"データを組み合わせます。\")\n",
    "\n",
    "for d in zip(city, sale):\n",
    "    print(d)\n",
    "\n",
    "print(\"データとインデックスを組み合わせます。\")\n",
    "\n",
    "for d in enumerate(city):\n",
    "    print(d)"
   ]
  },
  {
   "cell_type": "markdown",
   "id": "cb1e6ee2-9f51-4677-8417-f6afd30646b2",
   "metadata": {},
   "source": [
    "#### リストの要素を分解する"
   ]
  },
  {
   "cell_type": "markdown",
   "id": "c8245bf9-7ad9-48fa-996b-56b60f07b592",
   "metadata": {},
   "source": [
    "#### Sample13"
   ]
  },
  {
   "cell_type": "code",
   "execution_count": 75,
   "id": "07786146-bd90-4b5e-b1a0-e5c58a38a892",
   "metadata": {},
   "outputs": [
    {
     "name": "stdout",
     "output_type": "stream",
     "text": [
      "都市名データは ['東京', '名古屋', '大阪', '京都'] です。\n",
      "売上データは [80, 60, 22, 50, 75] です。\n",
      "データを組み合わせます。\n",
      "('東京', 80)\n",
      "('名古屋', 60)\n",
      "('大阪', 22)\n",
      "('京都', 50)\n",
      "データを分解します。\n",
      "都市名は 東京 売上は 80\n",
      "都市名は 名古屋 売上は 60\n",
      "都市名は 大阪 売上は 22\n",
      "都市名は 京都 売上は 50\n"
     ]
    }
   ],
   "source": [
    "city = [\"東京\", \"名古屋\", \"大阪\", \"京都\"]\n",
    "sale = [80,60,22,50,75]\n",
    "\n",
    "print(\"都市名データは\", city, \"です。\")\n",
    "print(\"売上データは\", sale,\"です。\")\n",
    "\n",
    "print(\"データを組み合わせます。\")\n",
    "\n",
    "for d in zip(city, sale):\n",
    "    print(d)\n",
    "\n",
    "print(\"データを分解します。\")\n",
    "\n",
    "for c, s in zip(city, sale):\n",
    "    print(\"都市名は\", c, \"売上は\", s)"
   ]
  },
  {
   "cell_type": "markdown",
   "id": "d8fe658f-dd59-475f-bd66-5de6da596865",
   "metadata": {},
   "source": [
    "#### アンパックして代入"
   ]
  },
  {
   "cell_type": "code",
   "execution_count": 69,
   "id": "5bda77b0-34f3-4ff7-8f65-768d2444eda0",
   "metadata": {},
   "outputs": [],
   "source": [
    "data = [1,2,3]\n",
    "d1, d2, d3 = data"
   ]
  },
  {
   "cell_type": "code",
   "execution_count": 76,
   "id": "241ee223-19a8-4660-80a7-67f898b676f8",
   "metadata": {},
   "outputs": [
    {
     "name": "stdout",
     "output_type": "stream",
     "text": [
      "1 2 3\n"
     ]
    }
   ],
   "source": [
    "print(d1,d2,d3)"
   ]
  },
  {
   "cell_type": "markdown",
   "id": "48cb5223-9012-4c09-8efa-b2004eb65d2c",
   "metadata": {},
   "source": [
    "#### リストから新しいリストを得る（リスト内包）"
   ]
  },
  {
   "cell_type": "markdown",
   "id": "53dd80a0-91ed-455c-8a71-d57eef6f67b3",
   "metadata": {},
   "source": [
    "#### Sample14"
   ]
  },
  {
   "cell_type": "code",
   "execution_count": 70,
   "id": "e70028ee-a5e7-4b8f-aa58-180bbe98b404",
   "metadata": {},
   "outputs": [
    {
     "name": "stdout",
     "output_type": "stream",
     "text": [
      "現在のデータは [1, 2, 3, 4, 5] です。\n",
      "新しいデータは [2, 4, 8, 10] です。\n"
     ]
    }
   ],
   "source": [
    "data = [1,2,3,4,5]\n",
    "print(\"現在のデータは\", data, \"です。\")\n",
    "\n",
    "ndata = [n*2 for n in data if n!=3]\n",
    "\n",
    "print(\"新しいデータは\", ndata, \"です。\")"
   ]
  },
  {
   "cell_type": "code",
   "execution_count": 71,
   "id": "a57f4c6a-81a6-4f54-b04b-395a5684ff04",
   "metadata": {},
   "outputs": [
    {
     "name": "stdout",
     "output_type": "stream",
     "text": [
      "[2, 4, 8, 10]\n"
     ]
    }
   ],
   "source": [
    "data = [1,2,3,4,5]\n",
    "ndata = []\n",
    "for n in data:\n",
    "    if n != 3:\n",
    "        ndata.append(n*2)\n",
    "print(ndata)\n",
    "    "
   ]
  },
  {
   "cell_type": "markdown",
   "id": "61b18b1a-9f20-45cf-be94-b63f39bd7cdd",
   "metadata": {},
   "source": [
    "#### if文がない場合はすべての要素を２倍してリストを作成します。"
   ]
  },
  {
   "cell_type": "code",
   "execution_count": 72,
   "id": "d3de0dcf-73f2-406a-8dee-36b0b17c89c6",
   "metadata": {
    "scrolled": true
   },
   "outputs": [
    {
     "data": {
      "text/plain": [
       "[2, 4, 6, 8, 10]"
      ]
     },
     "execution_count": 72,
     "metadata": {},
     "output_type": "execute_result"
    }
   ],
   "source": [
    "[n*2 for n in data ]"
   ]
  },
  {
   "cell_type": "markdown",
   "id": "a39e841a-1b94-4802-9923-40cf286a755c",
   "metadata": {},
   "source": [
    "#### 式を工夫するとelse文もできます。"
   ]
  },
  {
   "cell_type": "code",
   "execution_count": 73,
   "id": "61cb4dff-a457-426a-8909-193a56675415",
   "metadata": {},
   "outputs": [
    {
     "data": {
      "text/plain": [
       "[2, 4, 100, 8, 10]"
      ]
     },
     "execution_count": 73,
     "metadata": {},
     "output_type": "execute_result"
    }
   ],
   "source": [
    "[n*2 if n!=3 else 100 for n in data ]"
   ]
  },
  {
   "cell_type": "markdown",
   "id": "2ac9a644-ba0a-4425-8364-07e3792f0357",
   "metadata": {},
   "source": [
    "### 5.7リストの集計と並べ替え"
   ]
  },
  {
   "cell_type": "markdown",
   "id": "44bff8f9-1bd2-4778-9a2b-75ae85ef45f6",
   "metadata": {},
   "source": [
    "#### Sample15"
   ]
  },
  {
   "cell_type": "code",
   "execution_count": 77,
   "id": "42e8672a-3c17-4f36-993f-d71f4e18cf79",
   "metadata": {},
   "outputs": [
    {
     "name": "stdout",
     "output_type": "stream",
     "text": [
      "現在のデータは [80, 60, 22, 50, 75] です。\n",
      "最大のデータは 80 です。\n",
      "最小のデータは 22 です。\n",
      "データの合計は 287 です。\n",
      "ソートされたデータは [22, 50, 60, 75, 80] です。\n"
     ]
    }
   ],
   "source": [
    "sale = [80,60,22,50,75]\n",
    "print(\"現在のデータは\", sale, \"です。\")\n",
    "\n",
    "print(\"最大のデータは\", max(sale), \"です。\")\n",
    "print(\"最小のデータは\", min(sale), \"です。\")\n",
    "\n",
    "print(\"データの合計は\", sum(sale), \"です。\")\n",
    "\n",
    "print(\"ソートされたデータは\", sorted(sale), \"です。\")"
   ]
  },
  {
   "cell_type": "code",
   "execution_count": 78,
   "id": "57ef7e0d-0acc-440d-b72f-bf8a77a5938c",
   "metadata": {},
   "outputs": [
    {
     "data": {
      "text/plain": [
       "57.4"
      ]
     },
     "execution_count": 78,
     "metadata": {},
     "output_type": "execute_result"
    }
   ],
   "source": [
    "# 平均\n",
    "sum(sale)/len(sale)"
   ]
  },
  {
   "cell_type": "markdown",
   "id": "6d8970cd-8d8c-4304-aa83-e5c91e988cc8",
   "metadata": {},
   "source": [
    "#### リストを並び替える"
   ]
  },
  {
   "cell_type": "markdown",
   "id": "e6277dd2-97cc-4982-b141-69ed222d3cce",
   "metadata": {},
   "source": [
    "#### Sample15"
   ]
  },
  {
   "cell_type": "code",
   "execution_count": 81,
   "id": "764e7b0d-551f-4532-ba8f-e8d2eed9f1c8",
   "metadata": {},
   "outputs": [
    {
     "name": "stdout",
     "output_type": "stream",
     "text": [
      "ソートされたデータは [80, 75, 60, 50, 22] です。\n"
     ]
    }
   ],
   "source": [
    "print(\"ソートされたデータは\", sorted(sale, reverse=True),  \"です。\")"
   ]
  },
  {
   "cell_type": "code",
   "execution_count": 85,
   "id": "8a90176b-6791-4850-b2c5-39a03f6422f4",
   "metadata": {},
   "outputs": [
    {
     "data": {
      "text/plain": [
       "[80, 75, 60, 50, 22]"
      ]
     },
     "execution_count": 85,
     "metadata": {},
     "output_type": "execute_result"
    }
   ],
   "source": [
    "sale = [80,60,22,50,75]\n",
    "sale.sort(reverse=True)\n",
    "sale"
   ]
  },
  {
   "cell_type": "markdown",
   "id": "118d6609-3615-4d10-8c3b-18dbf2d75be6",
   "metadata": {},
   "source": [
    "### 5.8 多次元のリスト"
   ]
  },
  {
   "cell_type": "markdown",
   "id": "69dfea36-3ef7-4fca-be55-92d7327ab4b3",
   "metadata": {},
   "source": [
    "### Sample16"
   ]
  },
  {
   "cell_type": "code",
   "execution_count": 86,
   "id": "7215d4c0-35dc-475f-b7f9-c94ce525527f",
   "metadata": {},
   "outputs": [
    {
     "name": "stdout",
     "output_type": "stream",
     "text": [
      "現在のデータは [['東京', 32, 25], ['名古屋', 28, 21], ['大阪', 27, 20], ['京都', 26, 19], ['福岡', 27, 22]] です。\n",
      "都市別データは ['東京', 32, 25] です。\n",
      "東京\t32\t25\t\n",
      "都市別データは ['名古屋', 28, 21] です。\n",
      "名古屋\t28\t21\t\n",
      "都市別データは ['大阪', 27, 20] です。\n",
      "大阪\t27\t20\t\n",
      "都市別データは ['京都', 26, 19] です。\n",
      "京都\t26\t19\t\n",
      "都市別データは ['福岡', 27, 22] です。\n",
      "福岡\t27\t22\t\n",
      "東京 の最高気温は 32 最低気温は 25 です。\n"
     ]
    }
   ],
   "source": [
    "data =[\n",
    "    [\"東京\", 32, 25],\n",
    "    [\"名古屋\", 28, 21],\n",
    "    [\"大阪\",27, 20],\n",
    "    [\"京都\", 26, 19],\n",
    "    [\"福岡\", 27, 22]\n",
    "]\n",
    "\n",
    "print(\"現在のデータは\", data, \"です。\")\n",
    "\n",
    "for dat in data:\n",
    "    print(\"都市別データは\", dat, \"です。\")\n",
    "    for d in dat:\n",
    "        print(d, end=\"\\t\")\n",
    "    print()\n",
    "\n",
    "print(data[0][0], \"の最高気温は\", data[0][1], \"最低気温は\", data[0][2], \"です。\")"
   ]
  },
  {
   "cell_type": "code",
   "execution_count": 90,
   "id": "2fd83349-2b7c-420e-a9ba-b7a117d81f62",
   "metadata": {},
   "outputs": [
    {
     "name": "stdout",
     "output_type": "stream",
     "text": [
      "東京 の最高気温は 32 最低気温は 25 です。\n"
     ]
    }
   ],
   "source": [
    "c, t1, t2 = data[0]\n",
    "print(c, \"の最高気温は\", t1, \"最低気温は\", t2, \"です。\")"
   ]
  },
  {
   "cell_type": "code",
   "execution_count": null,
   "id": "51deb01f-d0a0-462e-9c07-990ef2667a97",
   "metadata": {},
   "outputs": [],
   "source": []
  }
 ],
 "metadata": {
  "kernelspec": {
   "display_name": "Python 3 (ipykernel)",
   "language": "python",
   "name": "python3"
  },
  "language_info": {
   "codemirror_mode": {
    "name": "ipython",
    "version": 3
   },
   "file_extension": ".py",
   "mimetype": "text/x-python",
   "name": "python",
   "nbconvert_exporter": "python",
   "pygments_lexer": "ipython3",
   "version": "3.9.18"
  }
 },
 "nbformat": 4,
 "nbformat_minor": 5
}
