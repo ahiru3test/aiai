{
 "cells": [
  {
   "cell_type": "markdown",
   "metadata": {},
   "source": [
    "#### Sample1"
   ]
  },
  {
   "cell_type": "code",
   "execution_count": 3,
   "metadata": {},
   "outputs": [
    {
     "name": "stdout",
     "output_type": "stream",
     "text": [
      "[80, 60, 22, 50, 75]\n"
     ]
    }
   ],
   "source": [
    "sale=[80,60,22,50,75]\n",
    "print(sale)"
   ]
  },
  {
   "cell_type": "markdown",
   "metadata": {},
   "source": [
    "#### Sample2"
   ]
  },
  {
   "cell_type": "code",
   "execution_count": 5,
   "metadata": {},
   "outputs": [
    {
     "name": "stdout",
     "output_type": "stream",
     "text": [
      "80\n",
      "60\n",
      "22\n",
      "50\n",
      "75\n"
     ]
    }
   ],
   "source": [
    "sale=[80,60,22,50,75]\n",
    "print(sale[0])\n",
    "print(sale[1])\n",
    "print(sale[2])\n",
    "print(sale[3])\n",
    "print(sale[4])\n"
   ]
  },
  {
   "cell_type": "markdown",
   "metadata": {},
   "source": [
    "#### Sample3"
   ]
  },
  {
   "cell_type": "code",
   "execution_count": 9,
   "metadata": {},
   "outputs": [
    {
     "name": "stdout",
     "output_type": "stream",
     "text": [
      "80\n",
      "60\n",
      "22\n",
      "50\n",
      "75\n"
     ]
    }
   ],
   "source": [
    "sale=[80,60,22,50,75]\n",
    "for s in sale:\n",
    "  print(s)"
   ]
  },
  {
   "cell_type": "markdown",
   "metadata": {},
   "source": [
    "#### Sample4"
   ]
  },
  {
   "cell_type": "code",
   "execution_count": 11,
   "metadata": {},
   "outputs": [
    {
     "name": "stdout",
     "output_type": "stream",
     "text": [
      "3 番のデータ 50 を変更します。\n",
      "3 番のデータは 30 に変更されました。\n",
      "[80, 60, 22, 30, 75]\n"
     ]
    }
   ],
   "source": [
    "sale=[80,60,22,50,75]\n",
    "\n",
    "i=int(input(\"何番のデータを変更しますか？\"))\n",
    "num=int(input(\"変更後のデータを入力してください。\"))\n",
    "\n",
    "print(i,\"番のデータ\",sale[i],\"を変更します。\")\n",
    "\n",
    "sale[i]=num\n",
    "\n",
    "print(i,\"番のデータは\",sale[i],\"に変更されました。\")\n",
    "\n",
    "print(sale)\n"
   ]
  },
  {
   "cell_type": "markdown",
   "metadata": {},
   "source": [
    "#### Sample5"
   ]
  },
  {
   "cell_type": "code",
   "execution_count": 12,
   "metadata": {},
   "outputs": [
    {
     "name": "stdout",
     "output_type": "stream",
     "text": [
      "現在のデータは [80, 60, 22, 50, 75] です。\n",
      "末尾に100を追加します。\n",
      "現在のデータは [80, 60, 22, 50, 75, 100] です。\n",
      "sale[2]に25を挿入します。\n",
      "現在のデータは [80, 60, 25, 22, 50, 75, 100] です。\n"
     ]
    }
   ],
   "source": [
    "sale=[80,60,22,50,75]\n",
    "print(\"現在のデータは\",sale,\"です。\")\n",
    "\n",
    "print(\"末尾に100を追加します。\")\n",
    "sale.append(100)\n",
    "print(\"現在のデータは\",sale,\"です。\")\n",
    "\n",
    "print(\"sale[2]に25を挿入します。\")\n",
    "sale.insert(2,25)\n",
    "print(\"現在のデータは\",sale,\"です。\")\n"
   ]
  },
  {
   "cell_type": "markdown",
   "metadata": {},
   "source": [
    "#### Sample6"
   ]
  },
  {
   "cell_type": "code",
   "execution_count": 13,
   "metadata": {},
   "outputs": [
    {
     "name": "stdout",
     "output_type": "stream",
     "text": [
      "現在のデータは [80, 60, 22, 50, 75] です。\n",
      "先頭のデータを削除します。\n",
      "現在のデータは [60, 22, 50, 75] です。\n",
      "sale[2]に25を挿入します。\n",
      "現在のデータは [60, 50, 75] です。\n"
     ]
    }
   ],
   "source": [
    "sale=[80,60,22,50,75]\n",
    "print(\"現在のデータは\",sale,\"です。\")\n",
    "\n",
    "print(\"先頭のデータを削除します。\")\n",
    "del sale[0]\n",
    "print(\"現在のデータは\",sale,\"です。\")\n",
    "\n",
    "print(\"sale[2]に25を挿入します。\")\n",
    "sale.remove(22)\n",
    "print(\"現在のデータは\",sale,\"です。\")\n"
   ]
  },
  {
   "cell_type": "markdown",
   "metadata": {},
   "source": [
    "#### Sample7"
   ]
  },
  {
   "cell_type": "code",
   "execution_count": 17,
   "metadata": {},
   "outputs": [
    {
     "name": "stdout",
     "output_type": "stream",
     "text": [
      "data1は [1, 2, 3, 4, 5] です。\n",
      "data2は [1, 2, 3, 4, 5] です。\n",
      "data1を変更します。\n",
      "data1は [10, 2, 3, 4, 5] です。\n",
      "data2は [10, 2, 3, 4, 5] です。\n"
     ]
    }
   ],
   "source": [
    "data1=[1,2,3,4,5]\n",
    "data2=data1\n",
    "\n",
    "print(\"data1は\",data1,\"です。\")\n",
    "print(\"data2は\",data2,\"です。\")\n",
    "\n",
    "data1[0]=10\n",
    "\n",
    "print(\"data1を変更します。\")\n",
    "\n",
    "print(\"data1は\",data1,\"です。\")\n",
    "print(\"data2は\",data2,\"です。\")\n",
    "\n"
   ]
  },
  {
   "cell_type": "markdown",
   "metadata": {},
   "source": [
    "#### Sample8"
   ]
  },
  {
   "cell_type": "code",
   "execution_count": 19,
   "metadata": {},
   "outputs": [
    {
     "name": "stdout",
     "output_type": "stream",
     "text": [
      "data1は [1, 2, 3, 4, 5] です。\n",
      "data2は [1, 2, 3, 4, 5] です。\n",
      "data3は [1, 2, 3, 4, 5] です。\n",
      "data1を変更します。\n",
      "data1は [10, 2, 3, 4, 5] です。\n",
      "data2は [1, 2, 3, 4, 5] です。\n",
      "data3は [1, 2, 3, 4, 5] です。\n"
     ]
    }
   ],
   "source": [
    "data1=[1,2,3,4,5]\n",
    "data2=list(data1)\n",
    "data3=data1.copy()\n",
    "\n",
    "print(\"data1は\",data1,\"です。\")\n",
    "print(\"data2は\",data2,\"です。\")\n",
    "print(\"data3は\",data3,\"です。\")\n",
    "\n",
    "data1[0]=10\n",
    "\n",
    "print(\"data1を変更します。\")\n",
    "\n",
    "print(\"data1は\",data1,\"です。\")\n",
    "print(\"data2は\",data2,\"です。\")\n",
    "print(\"data3は\",data3,\"です。\")\n"
   ]
  },
  {
   "cell_type": "markdown",
   "metadata": {},
   "source": [
    "#### Sample9"
   ]
  },
  {
   "cell_type": "code",
   "execution_count": 21,
   "metadata": {},
   "outputs": [
    {
     "name": "stdout",
     "output_type": "stream",
     "text": [
      "上半期のデータは [1, 2, 3, 4, 5, 6] です。\n",
      "下半期のデータは [7, 8, 9, 10, 11, 12] です。\n",
      "年間のデータは [1, 2, 3, 4, 5, 6, 7, 8, 9, 10, 11, 12] です。\n",
      "年間のデータは [1, 2, 3, 4, 5, 6, 7, 8, 9, 10, 11, 12] です。\n"
     ]
    }
   ],
   "source": [
    "sale1=[1,2,3,4,5,6]\n",
    "print(\"上半期のデータは\",sale1,\"です。\")\n",
    "\n",
    "sale2=[7,8,9,10,11,12]\n",
    "print(\"下半期のデータは\",sale2,\"です。\")\n",
    "\n",
    "ysale=sale1+sale2\n",
    "\n",
    "print(\"年間のデータは\",ysale,\"です。\")\n",
    "\n",
    "sale1 += sale2\n",
    "print(\"年間のデータは\",sale1,\"です。\")\n"
   ]
  },
  {
   "cell_type": "markdown",
   "metadata": {},
   "source": [
    "#### Sample10"
   ]
  },
  {
   "cell_type": "code",
   "execution_count": 25,
   "metadata": {},
   "outputs": [
    {
     "name": "stdout",
     "output_type": "stream",
     "text": [
      "年間のデータは [1, 2, 3, 4, 5, 6, 7, 8, 9, 10, 11, 12] です。\n",
      "上半期のデータは [1, 2, 3, 4, 5, 6] です。\n",
      "下半期のデータは [1, 2, 3, 4, 5, 6] です。\n",
      "一か月おきのデータは [1, 3, 5, 7, 9, 11] です。\n",
      "逆順のデータは [12, 11, 10, 9, 8, 7, 6, 5, 4, 3, 2, 1] です。\n",
      "年間のデータは [1, 2, 3, 4, 5, 6, 7, 8, 9, 10, 11, 12] です。\n",
      "上半期のデータを差し替えます。\n",
      "年間のデータは [0, 0, 0, 0, 0, 0, 7, 8, 9, 10, 11, 12] です。\n"
     ]
    }
   ],
   "source": [
    "ysale=[1,2,3,4,5,6,7,8,9,10,11,12]\n",
    "print(\"年間のデータは\",ysale,\"です。\")\n",
    "\n",
    "sale1=ysale[0:6]\n",
    "print(\"上半期のデータは\",sale1,\"です。\")\n",
    "\n",
    "sale2=ysale[6:]\n",
    "print(\"下半期のデータは\",sale1,\"です。\")\n",
    "\n",
    "sale3=ysale[::2]\n",
    "print(\"一か月おきのデータは\",sale3,\"です。\")\n",
    "\n",
    "sale4=ysale[::-1]\n",
    "print(\"逆順のデータは\",sale4,\"です。\")\n",
    "\n",
    "print(\"年間のデータは\",ysale,\"です。\")\n",
    "print(\"上半期のデータを差し替えます。\")\n",
    "ysale[:6]=[0,0,0,0,0,0]\n",
    "print(\"年間のデータは\",ysale,\"です。\")\n"
   ]
  },
  {
   "cell_type": "markdown",
   "metadata": {},
   "source": [
    "#### Sample11"
   ]
  },
  {
   "cell_type": "code",
   "execution_count": 27,
   "metadata": {},
   "outputs": [
    {
     "name": "stdout",
     "output_type": "stream",
     "text": [
      "現在のデータは [1, 2, 3, 4, 5] です。\n",
      "data[::-1]をfor文で処理します。\n",
      "5\n",
      "4\n",
      "3\n",
      "2\n",
      "1\n",
      "data[::-1]は [5, 4, 3, 2, 1] です。\n",
      "現在のデータは [1, 2, 3, 4, 5] です。\n",
      "reversed(data)をfor文で処理します。\n",
      "5\n",
      "4\n",
      "3\n",
      "2\n",
      "1\n",
      "reversed(data)は <list_reverseiterator object at 0x00000208828D65B0> です。\n",
      "現在のデータは [1, 2, 3, 4, 5] です。\n",
      "data.reverse()を処理します。\n",
      "現在のデータは [5, 4, 3, 2, 1] です。\n"
     ]
    }
   ],
   "source": [
    "data=[1,2,3,4,5]\n",
    "print(\"現在のデータは\",data,\"です。\")\n",
    "\n",
    "print(\"data[::-1]をfor文で処理します。\")\n",
    "for d in data[::-1]:\n",
    "    print(d)\n",
    "print(\"data[::-1]は\",data[::-1],\"です。\")\n",
    "print(\"現在のデータは\",data,\"です。\")\n",
    "\n",
    "print(\"reversed(data)をfor文で処理します。\")\n",
    "for d in reversed(data):\n",
    "    print(d)\n",
    "print(\"reversed(data)は\",reversed(data),\"です。\")\n",
    "print(\"現在のデータは\",data,\"です。\")\n",
    "\n",
    "print(\"data.reverse()を処理します。\")\n",
    "data.reverse()\n",
    "print(\"現在のデータは\",data,\"です。\")\n"
   ]
  },
  {
   "cell_type": "markdown",
   "metadata": {},
   "source": [
    "#### Sample12"
   ]
  },
  {
   "cell_type": "code",
   "execution_count": 28,
   "metadata": {},
   "outputs": [
    {
     "name": "stdout",
     "output_type": "stream",
     "text": [
      "都市データ名は ['東京', '名古屋', '大阪', '京都'] です。\n",
      "売上データは [80, 60, 22, 50, 75] です。\n",
      "データを組み合わせます。\n",
      "('東京', 80)\n",
      "('名古屋', 60)\n",
      "('大阪', 22)\n",
      "('京都', 50)\n",
      "データとインデックスを組み合わせます。\n",
      "(0, '東京')\n",
      "(1, '名古屋')\n",
      "(2, '大阪')\n",
      "(3, '京都')\n"
     ]
    }
   ],
   "source": [
    "city = [\"東京\",\"名古屋\",\"大阪\",\"京都\"]\n",
    "sale=[80,60,22,50,75]\n",
    "\n",
    "print(\"都市データ名は\",city,\"です。\")\n",
    "print(\"売上データは\",sale,\"です。\")\n",
    "\n",
    "print(\"データを組み合わせます。\")\n",
    "\n",
    "for d in zip(city,sale):\n",
    "  print(d)\n",
    "\n",
    "print(\"データとインデックスを組み合わせます。\")\n",
    "\n",
    "for d in enumerate(city):\n",
    "  print(d)\n"
   ]
  },
  {
   "cell_type": "markdown",
   "metadata": {},
   "source": [
    "#### Sample13"
   ]
  },
  {
   "cell_type": "code",
   "execution_count": 29,
   "metadata": {},
   "outputs": [
    {
     "name": "stdout",
     "output_type": "stream",
     "text": [
      "都市データ名は ['東京', '名古屋', '大阪', '京都'] です。\n",
      "売上データは [80, 60, 22, 50, 75] です。\n",
      "データを組み合わせます。\n",
      "('東京', 80)\n",
      "('名古屋', 60)\n",
      "('大阪', 22)\n",
      "('京都', 50)\n",
      "データを分解します。\n",
      "都市名は 東京 売上は 80\n",
      "都市名は 名古屋 売上は 60\n",
      "都市名は 大阪 売上は 22\n",
      "都市名は 京都 売上は 50\n"
     ]
    }
   ],
   "source": [
    "city=[\"東京\",\"名古屋\",\"大阪\",\"京都\"]\n",
    "sale=[80,60,22,50,75]\n",
    "\n",
    "print(\"都市データ名は\",city,\"です。\")\n",
    "print(\"売上データは\",sale,\"です。\")\n",
    "\n",
    "print(\"データを組み合わせます。\")\n",
    "\n",
    "for d in zip(city,sale):\n",
    "  print(d)\n",
    "\n",
    "print(\"データを分解します。\")\n",
    "\n",
    "for c,s in zip(city,sale):\n",
    "  print(\"都市名は\",c,\"売上は\",s)\n"
   ]
  },
  {
   "cell_type": "markdown",
   "metadata": {},
   "source": [
    "#### Sample14"
   ]
  },
  {
   "cell_type": "code",
   "execution_count": 30,
   "metadata": {},
   "outputs": [
    {
     "name": "stdout",
     "output_type": "stream",
     "text": [
      "現在のデータは [1, 2, 3, 4, 5] です。\n",
      "新しいデータは [2, 4, 8, 10] です。\n"
     ]
    }
   ],
   "source": [
    "data=[1,2,3,4,5]\n",
    "print(\"現在のデータは\",data,\"です。\")\n",
    "\n",
    "ndata=[n*2 for n in data if n!=3]\n",
    "\n",
    "print(\"新しいデータは\",ndata,\"です。\")\n"
   ]
  },
  {
   "cell_type": "markdown",
   "metadata": {},
   "source": [
    "#### Sample15"
   ]
  },
  {
   "cell_type": "code",
   "execution_count": 33,
   "metadata": {},
   "outputs": [
    {
     "name": "stdout",
     "output_type": "stream",
     "text": [
      "現在のデータは [80, 60, 22, 50, 75] です。\n",
      "最大のデータは 80 です。\n",
      "最小のデータは 22 です。\n",
      "データの合計は 287 です。\n",
      "ソートされたデータは [22, 50, 60, 75, 80] です。\n",
      "ソートされたデータは [80, 75, 60, 50, 22] です。\n"
     ]
    }
   ],
   "source": [
    "sale=[80,60,22,50,75]\n",
    "print(\"現在のデータは\",sale,\"です。\")\n",
    "\n",
    "print(\"最大のデータは\",max(sale),\"です。\")\n",
    "print(\"最小のデータは\",min(sale),\"です。\")\n",
    "\n",
    "print(\"データの合計は\",sum(sale),\"です。\")\n",
    "\n",
    "print(\"ソートされたデータは\",sorted(sale),\"です。\")\n",
    "\n",
    "print(\"ソートされたデータは\",sorted(sale,reverse=True),\"です。\")\n"
   ]
  },
  {
   "cell_type": "markdown",
   "metadata": {},
   "source": [
    "#### Sample16"
   ]
  },
  {
   "cell_type": "code",
   "execution_count": 38,
   "metadata": {},
   "outputs": [
    {
     "name": "stdout",
     "output_type": "stream",
     "text": [
      "現在のデータは [['東京', 32, 25], ['名古屋', 28, 21], ['大阪', 27, 20], ['京都', 26, 19], ['福岡', 27, 22]] です。\n",
      "都市別データは ['東京', 32, 25] です。\n",
      "東京\t32\t25\t\n",
      "都市別データは ['名古屋', 28, 21] です。\n",
      "名古屋\t28\t21\t\n",
      "都市別データは ['大阪', 27, 20] です。\n",
      "大阪\t27\t20\t\n",
      "都市別データは ['京都', 26, 19] です。\n",
      "京都\t26\t19\t\n",
      "都市別データは ['福岡', 27, 22] です。\n",
      "福岡\t27\t22\t\n",
      "東京 の最高気温は 32 最低気温は 25 です。\n"
     ]
    }
   ],
   "source": [
    "data=[\n",
    "  [\"東京\",32,25],\n",
    "  [\"名古屋\",28,21],\n",
    "  [\"大阪\",27,20],\n",
    "  [\"京都\",26,19],\n",
    "  [\"福岡\",27,22],\n",
    "]\n",
    "print(\"現在のデータは\",data,\"です。\")\n",
    "\n",
    "for dat in data:\n",
    "  print(\"都市別データは\",dat,\"です。\")\n",
    "  for d in dat:\n",
    "    print(d,end=\"\\t\")\n",
    "  print()\n",
    "\n",
    "print(data[0][0],\"の最高気温は\",data[0][1],\"最低気温は\",data[0][2],\"です。\")\n"
   ]
  },
  {
   "cell_type": "markdown",
   "metadata": {},
   "source": [
    "#### 練習"
   ]
  },
  {
   "cell_type": "code",
   "execution_count": 41,
   "metadata": {},
   "outputs": [
    {
     "name": "stdout",
     "output_type": "stream",
     "text": [
      "テストの点は [74, 85, 69, 77, 81] です。\n",
      "85\n",
      "69\n",
      "77.2\n"
     ]
    }
   ],
   "source": [
    "data=[74,85,69,77,81]\n",
    "print(\"テストの点は\",data,\"です。\")\n",
    "print(max(data))\n",
    "print(min(data))\n",
    "\n",
    "print(sum(data)/len(data))"
   ]
  },
  {
   "cell_type": "code",
   "execution_count": 45,
   "metadata": {},
   "outputs": [
    {
     "name": "stdout",
     "output_type": "stream",
     "text": [
      "テストの点は [74, 85, 69, 77, 81] です。\n",
      "[69, 74, 77, 81, 85]\n",
      "[85, 81, 77, 74, 69]\n"
     ]
    }
   ],
   "source": [
    "data=[74,85,69,77,81]\n",
    "print(\"テストの点は\",data,\"です。\")\n",
    "print(sorted(data))\n",
    "print(sorted(data,reverse=True))\n"
   ]
  },
  {
   "cell_type": "code",
   "execution_count": 52,
   "metadata": {},
   "outputs": [
    {
     "name": "stdout",
     "output_type": "stream",
     "text": [
      "テストの点は [74, 85, 69, 77, 81] です。\n",
      "[85, 81] 2\n"
     ]
    }
   ],
   "source": [
    "data=[74,85,69,77,81]\n",
    "print(\"テストの点は\",data,\"です。\")\n",
    "data2=[n for n in data if n>=80]\n",
    "print(data2,len(data2))\n"
   ]
  },
  {
   "cell_type": "code",
   "execution_count": 61,
   "metadata": {},
   "outputs": [
    {
     "name": "stdout",
     "output_type": "stream",
     "text": [
      "東京 32 25\n",
      "名古屋 28 21\n",
      "大阪 27 20\n",
      "京都 26 19\n",
      "福岡 27 22\n"
     ]
    }
   ],
   "source": [
    "data=[\n",
    "  [\"東京\",32,25],\n",
    "  [\"名古屋\",28,21],\n",
    "  [\"大阪\",27,20],\n",
    "  [\"京都\",26,19],\n",
    "  [\"福岡\",27,22],\n",
    "]\n",
    "\n",
    "for i,j,k in data:\n",
    "  print(i,j,k)\n"
   ]
  }
 ],
 "metadata": {
  "kernelspec": {
   "display_name": "py39",
   "language": "python",
   "name": "python3"
  },
  "language_info": {
   "codemirror_mode": {
    "name": "ipython",
    "version": 3
   },
   "file_extension": ".py",
   "mimetype": "text/x-python",
   "name": "python",
   "nbconvert_exporter": "python",
   "pygments_lexer": "ipython3",
   "version": "3.9.18"
  }
 },
 "nbformat": 4,
 "nbformat_minor": 2
}
