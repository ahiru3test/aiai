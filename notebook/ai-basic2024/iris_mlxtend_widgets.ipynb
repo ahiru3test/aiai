{
 "cells": [
  {
   "cell_type": "markdown",
   "metadata": {
    "id": "ZnDh36-2SSJg"
   },
   "source": [
    "線形サポートベクトルマシンによるアヤメの分類：２特徴量、２クラス"
   ]
  },
  {
   "cell_type": "code",
   "execution_count": 1,
   "metadata": {},
   "outputs": [
    {
     "name": "stderr",
     "output_type": "stream",
     "text": [
      "Intel(R) Extension for Scikit-learn* enabled (https://github.com/intel/scikit-learn-intelex)\n"
     ]
    }
   ],
   "source": [
    "try:\n",
    "    from sklearnex import patch_sklearn, unpatch_sklearn\n",
    "    patch_sklearn()\n",
    "except ModuleNotFoundError:\n",
    "    print(\"Extension for Scikit-learn* is not enabled\")\n",
    "    pass"
   ]
  },
  {
   "cell_type": "code",
   "execution_count": 9,
   "metadata": {
    "id": "rFuDkmRE2kFN",
    "scrolled": false
   },
   "outputs": [
    {
     "data": {
      "application/vnd.jupyter.widget-view+json": {
       "model_id": "5a2f6ad84033421d8267d26012133fd3",
       "version_major": 2,
       "version_minor": 0
      },
      "text/plain": [
       "interactive(children=(FloatSlider(value=10.049999999999999, description='Cx', max=20.0, min=0.1), Output()), _…"
      ]
     },
     "metadata": {},
     "output_type": "display_data"
    }
   ],
   "source": [
    "# -*- coding: utf-8 -*-\n",
    "from mlxtend.plotting import plot_decision_regions\n",
    "from sklearn import datasets, svm\n",
    "import numpy as np\n",
    "import pandas as pd\n",
    "import matplotlib.pyplot as plt\n",
    "from ipywidgets import interact\n",
    "\n",
    "# アヤメのデータをロードし、変数irisに格納\n",
    "iris = datasets.load_iris()\n",
    "\n",
    "# 特徴量のセットを変数Xに、ターゲットを変数yに格納\n",
    "X = pd.DataFrame(iris.data, columns=iris.feature_names)\n",
    "y = pd.Series(iris.target)\n",
    "\n",
    "# 特徴量を外花被片の長さ(sepal length)と幅(sepal width)の\n",
    "# 2つのみに制限(2次元で考えるため)\n",
    "cols = X.columns\n",
    "X = X.loc[:, cols[:2]]\n",
    "\n",
    "# ターゲットは2 (iris virginica) でないもの, \n",
    "# つまり iris setosa (0) と iris versicolor (1) のみを対象とする\n",
    "# (領域の2分割)\n",
    "X = X[y!=2]\n",
    "y = y[y!=2]\n",
    "\n",
    "@interact(Cx=(0.1,20))\n",
    "def f(Cx):\n",
    "    # 分類用にサポートベクトルマシン (Support Vector Classifier) を用意\n",
    "#     clf = svm.SVC(C=1.0, kernel='linear')\n",
    "    clf = svm.SVC(C=Cx, kernel='linear')\n",
    "    # データに最適化\n",
    "    clf.fit(X.values, y.values)\n",
    "    plot_decision_regions(X.values, y.values, clf=clf)\n",
    "    # サポートベクトルの取得\n",
    "    SV = clf.support_vectors_\n",
    "    # サポートベクトルの点に対し、白い点を表示\n",
    "    plt.scatter(SV[:,0], SV[:,1], c=\"white\", s=5, edgecolors='white')\n",
    "\n",
    "    # Adding axes annotations\n",
    "    plt.xlabel('sepal length [cm]')\n",
    "    plt.ylabel('sepal width [cm]')\n",
    "    title = '0:'+iris.target_names[0]+' 1:'+iris.target_names[1]\n",
    "\n",
    "    plt.title(title)\n",
    "    plt.show()"
   ]
  },
  {
   "cell_type": "code",
   "execution_count": 10,
   "metadata": {
    "id": "ttTp_6umBB5w"
   },
   "outputs": [
    {
     "data": {
      "application/vnd.jupyter.widget-view+json": {
       "model_id": "f9f4c753d7b843e6af920b7f2accfbac",
       "version_major": 2,
       "version_minor": 0
      },
      "text/plain": [
       "interactive(children=(FloatSlider(value=10.049999999999999, description='Cx', max=20.0, min=0.1), Output()), _…"
      ]
     },
     "metadata": {},
     "output_type": "display_data"
    }
   ],
   "source": [
    "# -*- coding: utf-8 -*-\n",
    "from mlxtend.plotting import plot_decision_regions\n",
    "from sklearn import datasets, svm\n",
    "import numpy as np\n",
    "import pandas as pd\n",
    "import matplotlib.pyplot as plt\n",
    "#from matplotlib.colors import ListedColormap\n",
    "\n",
    "# アヤメのデータをロードし、変数irisに格納\n",
    "iris = datasets.load_iris()\n",
    "\n",
    "# 特徴量のセットを変数Xに、ターゲットを変数yに格納\n",
    "X = pd.DataFrame(iris.data, columns=iris.feature_names)\n",
    "y = pd.Series(iris.target)\n",
    "\n",
    "# 特徴量を外花被片の長さ(sepal length)と幅(sepal width)の\n",
    "# 2つのみに制限(2次元で考えるため)\n",
    "cols = X.columns\n",
    "X = X.loc[:, cols[:2]]\n",
    "\n",
    "# ターゲットは2 (iris virginica) でないもの, \n",
    "# つまり iris setosa (0) と iris versicolor (1) のみを対象とする\n",
    "# (領域の2分割)\n",
    "X = X[y!=0]\n",
    "y = y[y!=0]\n",
    "\n",
    "@interact(Cx=(0.1,20))\n",
    "def f(Cx):\n",
    "    # 分類用にサポートベクトルマシン (Support Vector Classifier) を用意\n",
    "    clf = svm.SVC(C=Cx, kernel='linear')\n",
    "    # データに最適化\n",
    "    clf.fit(X.values, y.values)\n",
    "    plot_decision_regions(X.values, y.values, clf=clf)\n",
    "    # サポートベクトルの取得\n",
    "    SV = clf.support_vectors_\n",
    "    # サポートベクトルの点に対し、白い点を表示\n",
    "    plt.scatter(SV[:,0], SV[:,1], c=\"white\", s=5, edgecolors='white')\n",
    "\n",
    "    # Adding axes annotations\n",
    "    plt.xlabel('sepal length [cm]')\n",
    "    plt.ylabel('sepal width [cm]')\n",
    "    title = '1:'+iris.target_names[1]+' 2:'+iris.target_names[2]\n",
    "    plt.title(title)\n",
    "    plt.show()"
   ]
  },
  {
   "cell_type": "markdown",
   "metadata": {
    "id": "dixlNNRQSXot"
   },
   "source": [
    "線形サポートベクトルマシンによるアヤメの分類：２特徴量、３クラス"
   ]
  },
  {
   "cell_type": "code",
   "execution_count": 11,
   "metadata": {
    "id": "EmLRjUUE_LX1"
   },
   "outputs": [
    {
     "data": {
      "application/vnd.jupyter.widget-view+json": {
       "model_id": "9968cb04a8d847079f9b5beac1b63ee8",
       "version_major": 2,
       "version_minor": 0
      },
      "text/plain": [
       "interactive(children=(FloatSlider(value=10.049999999999999, description='Cx', max=20.0, min=0.1), Output()), _…"
      ]
     },
     "metadata": {},
     "output_type": "display_data"
    }
   ],
   "source": [
    "# -*- coding: utf-8 -*-\n",
    "from mlxtend.plotting import plot_decision_regions\n",
    "from sklearn import datasets, svm\n",
    "import numpy as np\n",
    "import pandas as pd\n",
    "import matplotlib.pyplot as plt\n",
    "#from matplotlib.colors import ListedColormap\n",
    "from ipywidgets import interact\n",
    "\n",
    "# アヤメのデータをロードし、変数irisに格納\n",
    "iris = datasets.load_iris()\n",
    "\n",
    "# 特徴量のセットを変数Xに、ターゲットを変数yに格納\n",
    "X = pd.DataFrame(iris.data, columns=iris.feature_names)\n",
    "y = pd.Series(iris.target)\n",
    "\n",
    "# 特徴量を外花被片の長さ(sepal length)と幅(sepal width)の\n",
    "# 2つのみに制限(2次元で考えるため)\n",
    "cols = X.columns\n",
    "X = X.loc[:, cols[:2]]\n",
    "\n",
    "@interact(Cx=(0.1,20))\n",
    "def f(Cx):\n",
    "    # 分類用にサポートベクトルマシン (Support Vector Classifier) を用意\n",
    "    clf = svm.SVC(C=Cx, kernel='linear')\n",
    "    # データに最適化\n",
    "    clf.fit(X.values, y.values)\n",
    "\n",
    "    plot_decision_regions(X.values, y.values, clf=clf)\n",
    "    # サポートベクトルの取得\n",
    "    SV = clf.support_vectors_\n",
    "    # サポートベクトルの点に対し、白い点を表示\n",
    "    plt.scatter(SV[:,0], SV[:,1], c=\"white\", s=5, edgecolors='white')\n",
    "    # Adding axes annotations\n",
    "    plt.xlabel('sepal length [cm]')\n",
    "    plt.ylabel('sepal width [cm]')\n",
    "    title = '0:'+iris.target_names[0] + ' 1:'+iris.target_names[1] + ' 2:' + iris.target_names[2]\n",
    "    plt.title(title)\n",
    "    plt.show()"
   ]
  },
  {
   "cell_type": "markdown",
   "metadata": {
    "id": "dixlNNRQSXot"
   },
   "source": [
    "線形サポートベクトルマシンによるアヤメの分類：２特徴量、３クラス rbfカーネル"
   ]
  },
  {
   "cell_type": "code",
   "execution_count": 20,
   "metadata": {
    "id": "EmLRjUUE_LX1"
   },
   "outputs": [
    {
     "data": {
      "application/vnd.jupyter.widget-view+json": {
       "model_id": "b9f61ed0f1d34e1ca2e77d278dc823b3",
       "version_major": 2,
       "version_minor": 0
      },
      "text/plain": [
       "interactive(children=(FloatSlider(value=0.505, description='g', max=1.0, min=0.01), Output()), _dom_classes=('…"
      ]
     },
     "metadata": {},
     "output_type": "display_data"
    }
   ],
   "source": [
    "# -*- coding: utf-8 -*-\n",
    "from mlxtend.plotting import plot_decision_regions\n",
    "from sklearn import datasets, svm\n",
    "import numpy as np\n",
    "import pandas as pd\n",
    "import matplotlib.pyplot as plt\n",
    "#from matplotlib.colors import ListedColormap\n",
    "\n",
    "# アヤメのデータをロードし、変数irisに格納\n",
    "iris = datasets.load_iris()\n",
    "\n",
    "# 特徴量のセットを変数Xに、ターゲットを変数yに格納\n",
    "X = pd.DataFrame(iris.data, columns=iris.feature_names)\n",
    "y = pd.Series(iris.target)\n",
    "\n",
    "# 特徴量を外花被片の長さ(sepal length)と幅(sepal width)の\n",
    "# 2つのみに制限(2次元で考えるため)\n",
    "cols = X.columns\n",
    "X = X.loc[:, cols[:2]]\n",
    "\n",
    "@interact(g=(0.01,1))\n",
    "def f(g):\n",
    "    # 分類用にサポートベクトルマシン (Support Vector Classifier) を用意\n",
    "#     clf = svm.SVC(C=1.0, kernel='rbf', gamma='auto')\n",
    "    clf = svm.SVC(C=1.0, kernel='rbf', gamma=g)\n",
    "    # データに最適化\n",
    "    clf.fit(X.values, y.values)\n",
    "\n",
    "    plot_decision_regions(X.values, y.values, clf=clf)\n",
    "    # サポートベクトルの取得\n",
    "    SV = clf.support_vectors_\n",
    "    # サポートベクトルの点に対し、白い点を表示\n",
    "    plt.scatter(SV[:,0], SV[:,1], c=\"white\", s=5, edgecolors='white')\n",
    "    # Adding axes annotations\n",
    "    plt.xlabel('sepal length [cm]')\n",
    "    plt.ylabel('sepal width [cm]')\n",
    "    title = '0:'+iris.target_names[0] + ' 1:'+iris.target_names[1] + ' 2:' + iris.target_names[2]\n",
    "    plt.title(title)\n",
    "    plt.show()"
   ]
  },
  {
   "cell_type": "code",
   "execution_count": 17,
   "metadata": {},
   "outputs": [],
   "source": [
    "clf = svm.SVC(C=1.0, kernel='rbf', gamma=0.01)"
   ]
  },
  {
   "cell_type": "code",
   "execution_count": 18,
   "metadata": {},
   "outputs": [
    {
     "data": {
      "text/plain": [
       "{'C': 1.0,\n",
       " 'break_ties': False,\n",
       " 'cache_size': 200,\n",
       " 'class_weight': None,\n",
       " 'coef0': 0.0,\n",
       " 'decision_function_shape': 'ovr',\n",
       " 'degree': 3,\n",
       " 'gamma': 0.01,\n",
       " 'kernel': 'rbf',\n",
       " 'max_iter': -1,\n",
       " 'probability': False,\n",
       " 'random_state': None,\n",
       " 'shrinking': True,\n",
       " 'tol': 0.001,\n",
       " 'verbose': False}"
      ]
     },
     "execution_count": 18,
     "metadata": {},
     "output_type": "execute_result"
    }
   ],
   "source": [
    "clf.get_params()"
   ]
  },
  {
   "cell_type": "markdown",
   "metadata": {
    "id": "dixlNNRQSXot"
   },
   "source": [
    "線形サポートベクトルマシンによるアヤメの分類：4特徴量、３クラス"
   ]
  },
  {
   "cell_type": "code",
   "execution_count": 19,
   "metadata": {},
   "outputs": [
    {
     "name": "stdout",
     "output_type": "stream",
     "text": [
      "ターゲット\n",
      "0      0\n",
      "1      0\n",
      "2      0\n",
      "3      0\n",
      "4      0\n",
      "      ..\n",
      "145    2\n",
      "146    2\n",
      "147    2\n",
      "148    2\n",
      "149    2\n",
      "Length: 150, dtype: int32\n",
      "機械学習による予測\n",
      "[0 0 0 0 0 0 0 0 0 0 0 0 0 0 0 0 0 0 0 0 0 0 0 0 0 0 0 0 0 0 0 0 0 0 0 0 0\n",
      " 0 0 0 0 0 0 0 0 0 0 0 0 0 1 1 1 1 1 1 1 1 1 1 1 1 1 1 1 1 1 1 1 1 1 1 2 1\n",
      " 1 1 1 1 1 1 1 1 1 2 1 1 1 1 1 1 1 1 1 1 1 1 1 1 1 1 2 2 2 2 2 2 2 2 2 2 2\n",
      " 2 2 2 2 2 2 2 2 2 2 2 2 2 2 2 2 2 2 2 2 2 2 2 2 2 2 2 2 2 2 2 2 2 2 2 2 2\n",
      " 2 2]\n",
      "正解率\n",
      "98.66666666666667\n"
     ]
    }
   ],
   "source": [
    "# -*- coding: utf-8 -*-\n",
    "from sklearn import datasets, svm\n",
    "import pandas as pd\n",
    "# アヤメのデータをロードし、変数irisに格納\n",
    "iris = datasets.load_iris()\n",
    " \n",
    "# 特徴量のセットを変数Xに、ターゲットを変数yに格納\n",
    "X = pd.DataFrame(iris.data, columns=iris.feature_names)\n",
    "y = pd.Series(iris.target)\n",
    " \n",
    "# 分類用にサポートベクトルマシンを用意\n",
    "#clf = svm.SVC(C=1.0, kernel='linear', decision_function_shape='ovr')\n",
    "#clf = svm.SVC(C=1.0, kernel='rbf', gamma='auto', decision_function_shape='ovr')\n",
    "clf = svm.SVC(C=2.0, kernel='rbf', gamma=1.0, decision_function_shape='ovr')\n",
    "# データに最適化\n",
    "clf.fit(X, y)\n",
    " \n",
    "# データを分類器に与え、予測を得る\n",
    "result = clf.predict(X)\n",
    " \n",
    "print('ターゲット')\n",
    "print(y)\n",
    "print('機械学習による予測')\n",
    "print(result)\n",
    " \n",
    "# データ数をtotalに格納\n",
    "total = len(X)\n",
    "# ターゲット（正解）と予測が一致した数をsuccessに格納\n",
    "success = sum(result==y)\n",
    " \n",
    "# 正解率をパーセント表示\n",
    "print('正解率')\n",
    "print(100.0*success/total)"
   ]
  },
  {
   "cell_type": "code",
   "execution_count": null,
   "metadata": {},
   "outputs": [],
   "source": []
  }
 ],
 "metadata": {
  "colab": {
   "name": "iris-mlxtend.ipynb",
   "provenance": []
  },
  "kernelspec": {
   "display_name": "Python 3 (ipykernel)",
   "language": "python",
   "name": "python3"
  },
  "language_info": {
   "codemirror_mode": {
    "name": "ipython",
    "version": 3
   },
   "file_extension": ".py",
   "mimetype": "text/x-python",
   "name": "python",
   "nbconvert_exporter": "python",
   "pygments_lexer": "ipython3",
   "version": "3.9.18"
  }
 },
 "nbformat": 4,
 "nbformat_minor": 1
}
