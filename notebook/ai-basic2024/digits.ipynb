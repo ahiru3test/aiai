{
 "cells": [
  {
   "cell_type": "markdown",
   "metadata": {},
   "source": [
    "### digits"
   ]
  },
  {
   "cell_type": "code",
   "execution_count": 1,
   "metadata": {},
   "outputs": [
    {
     "data": {
      "image/png": "[encoded data removed]",
      "text/plain": [
       "<Figure size 640x480 with 10 Axes>"
      ]
     },
     "metadata": {},
     "output_type": "display_data"
    },
    {
     "name": "stdout",
     "output_type": "stream",
     "text": [
      "train:  0.9895615866388309\n",
      "test:  0.8638888888888889\n"
     ]
    }
   ],
   "source": [
    "import matplotlib.pyplot as plt\n",
    "from sklearn import datasets\n",
    "from sklearn import tree\n",
    "from sklearn.model_selection import train_test_split\n",
    " \n",
    "# 手書き数字データの読み込み\n",
    "digits = datasets.load_digits()\n",
    " \n",
    "# 画像を 2 行 5 列に表示\n",
    "from_ = 0\n",
    "for n, digit in enumerate(zip(digits.target[from_:from_+10], digits.images[from_:from_+10])):\n",
    "    label, img = digit\n",
    "    plt.subplot(2, 5, n + 1)\n",
    "    plt.axis('off')\n",
    "    plt.imshow(img, cmap=plt.cm.gray_r, interpolation='nearest')\n",
    "    plt.title('Digit: {0}'.format(label))\n",
    "plt.show()\n",
    " \n",
    "x = digits.data\n",
    "y = digits.target\n",
    " \n",
    "x_train, x_test, y_train, y_test = train_test_split(x, y, test_size = 0.2,random_state = 0)\n",
    "#### 決定木 ####\n",
    "model = tree.DecisionTreeClassifier(max_depth = 10, random_state = 0)\n",
    " \n",
    "#### ランダムフォレスト ####\n",
    "# from sklearn.ensemble import RandomForestClassifier\n",
    "# model = RandomForestClassifier(n_estimators = 200, random_state = 0)\n",
    " \n",
    "#### アダブースト ####\n",
    "# from sklearn.ensemble import AdaBoostClassifier\n",
    "# # ベースとなるモデル\n",
    "# from sklearn.tree import DecisionTreeClassifier\n",
    "# # 最大の深さ10の決定木を何個も作っていく\n",
    "# base_model = DecisionTreeClassifier(random_state = 0,max_depth = 10)\n",
    "# # 決定木を500個作成\n",
    "# model = AdaBoostClassifier(n_estimators = 500,random_state = 0, estimator = base_model)\n",
    " \n",
    "model.fit(x_train, y_train)\n",
    "print('train: ',model.score(x_train,y_train ))\n",
    "print('test: ', model.score(x_test, y_test))"
   ]
  },
  {
   "cell_type": "code",
   "execution_count": 7,
   "metadata": {},
   "outputs": [
    {
     "data": {
      "text/plain": [
       "array([[ 0.,  0.,  5., 13.,  9.,  1.,  0.,  0.],\n",
       "       [ 0.,  0., 13., 15., 10., 15.,  5.,  0.],\n",
       "       [ 0.,  3., 15.,  2.,  0., 11.,  8.,  0.],\n",
       "       [ 0.,  4., 12.,  0.,  0.,  8.,  8.,  0.],\n",
       "       [ 0.,  5.,  8.,  0.,  0.,  9.,  8.,  0.],\n",
       "       [ 0.,  4., 11.,  0.,  1., 12.,  7.,  0.],\n",
       "       [ 0.,  2., 14.,  5., 10., 12.,  0.,  0.],\n",
       "       [ 0.,  0.,  6., 13., 10.,  0.,  0.,  0.]])"
      ]
     },
     "execution_count": 7,
     "metadata": {},
     "output_type": "execute_result"
    }
   ],
   "source": [
    "digits.images[0] #0の手書き文字"
   ]
  },
  {
   "cell_type": "code",
   "execution_count": 5,
   "metadata": {},
   "outputs": [
    {
     "name": "stdout",
     "output_type": "stream",
     "text": [
      ".. _digits_dataset:\n",
      "\n",
      "Optical recognition of handwritten digits dataset\n",
      "--------------------------------------------------\n",
      "\n",
      "**Data Set Characteristics:**\n",
      "\n",
      "    :Number of Instances: 1797\n",
      "    :Number of Attributes: 64\n",
      "    :Attribute Information: 8x8 image of integer pixels in the range 0..16.\n",
      "    :Missing Attribute Values: None\n",
      "    :Creator: E. Alpaydin (alpaydin '@' boun.edu.tr)\n",
      "    :Date: July; 1998\n",
      "\n",
      "This is a copy of the test set of the UCI ML hand-written digits datasets\n",
      "https://archive.ics.uci.edu/ml/datasets/Optical+Recognition+of+Handwritten+Digits\n",
      "\n",
      "The data set contains images of hand-written digits: 10 classes where\n",
      "each class refers to a digit.\n",
      "\n",
      "Preprocessing programs made available by NIST were used to extract\n",
      "normalized bitmaps of handwritten digits from a preprinted form. From a\n",
      "total of 43 people, 30 contributed to the training set and different 13\n",
      "to the test set. 32x32 bitmaps are divided into nonoverlapping blocks of\n",
      "4x4 and the number of on pixels are counted in each block. This generates\n",
      "an input matrix of 8x8 where each element is an integer in the range\n",
      "0..16. This reduces dimensionality and gives invariance to small\n",
      "distortions.\n",
      "\n",
      "For info on NIST preprocessing routines, see M. D. Garris, J. L. Blue, G.\n",
      "T. Candela, D. L. Dimmick, J. Geist, P. J. Grother, S. A. Janet, and C.\n",
      "L. Wilson, NIST Form-Based Handprint Recognition System, NISTIR 5469,\n",
      "1994.\n",
      "\n",
      ".. topic:: References\n",
      "\n",
      "  - C. Kaynak (1995) Methods of Combining Multiple Classifiers and Their\n",
      "    Applications to Handwritten Digit Recognition, MSc Thesis, Institute of\n",
      "    Graduate Studies in Science and Engineering, Bogazici University.\n",
      "  - E. Alpaydin, C. Kaynak (1998) Cascading Classifiers, Kybernetika.\n",
      "  - Ken Tang and Ponnuthurai N. Suganthan and Xi Yao and A. Kai Qin.\n",
      "    Linear dimensionalityreduction using relevance weighted LDA. School of\n",
      "    Electrical and Electronic Engineering Nanyang Technological University.\n",
      "    2005.\n",
      "  - Claudio Gentile. A New Approximate Maximal Margin Classification\n",
      "    Algorithm. NIPS. 2000.\n",
      "\n"
     ]
    }
   ],
   "source": [
    "print(digits.DESCR)"
   ]
  },
  {
   "cell_type": "code",
   "execution_count": 2,
   "metadata": {},
   "outputs": [
    {
     "name": "stdout",
     "output_type": "stream",
     "text": [
      "[[ 0.  0.  5. ...  0.  0.  0.]\n",
      " [ 0.  0.  0. ... 10.  0.  0.]\n",
      " [ 0.  0.  0. ... 16.  9.  0.]\n",
      " ...\n",
      " [ 0.  0.  1. ...  6.  0.  0.]\n",
      " [ 0.  0.  2. ... 12.  0.  0.]\n",
      " [ 0.  0. 10. ... 12.  1.  0.]]\n"
     ]
    }
   ],
   "source": [
    "print(digits.data)"
   ]
  },
  {
   "cell_type": "code",
   "execution_count": 8,
   "metadata": {},
   "outputs": [
    {
     "name": "stdout",
     "output_type": "stream",
     "text": [
      "[0 1 2 ... 8 9 8]\n"
     ]
    }
   ],
   "source": [
    "print(digits.target)"
   ]
  },
  {
   "cell_type": "code",
   "execution_count": 10,
   "metadata": {},
   "outputs": [],
   "source": [
    "### ランダムフォレスト"
   ]
  },
  {
   "cell_type": "code",
   "execution_count": 9,
   "metadata": {},
   "outputs": [
    {
     "data": {
      "image/png": "[encoded data removed]",
      "text/plain": [
       "<Figure size 640x480 with 10 Axes>"
      ]
     },
     "metadata": {},
     "output_type": "display_data"
    },
    {
     "name": "stdout",
     "output_type": "stream",
     "text": [
      "train:  1.0\n",
      "test:  0.9722222222222222\n"
     ]
    }
   ],
   "source": [
    "import matplotlib.pyplot as plt\n",
    "from sklearn import datasets\n",
    "from sklearn import tree\n",
    "from sklearn.model_selection import train_test_split\n",
    " \n",
    "# 手書き数字データの読み込み\n",
    "digits = datasets.load_digits()\n",
    " \n",
    "# 画像を 2 行 5 列に表示\n",
    "from_ = 0\n",
    "for n, digit in enumerate(zip(digits.target[from_:from_+10], digits.images[from_:from_+10])):\n",
    "    label, img = digit\n",
    "    plt.subplot(2, 5, n + 1)\n",
    "    plt.axis('off')\n",
    "    plt.imshow(img, cmap=plt.cm.gray_r, interpolation='nearest')\n",
    "    plt.title('Digit: {0}'.format(label))\n",
    "plt.show()\n",
    " \n",
    "x = digits.data\n",
    "y = digits.target\n",
    " \n",
    "x_train, x_test, y_train, y_test = train_test_split(x, y, test_size = 0.2,random_state = 0)\n",
    "#### 決定木 ####\n",
    "# model = tree.DecisionTreeClassifier(max_depth = 10, random_state = 0)\n",
    " \n",
    "#### ランダムフォレスト ####\n",
    "from sklearn.ensemble import RandomForestClassifier\n",
    "model = RandomForestClassifier(n_estimators = 200, random_state = 0)\n",
    " \n",
    "#### アダブースト ####\n",
    "# from sklearn.ensemble import AdaBoostClassifier\n",
    "# # ベースとなるモデル\n",
    "# from sklearn.tree import DecisionTreeClassifier\n",
    "# # 最大の深さ10の決定木を何個も作っていく\n",
    "# base_model = DecisionTreeClassifier(random_state = 0,max_depth = 10)\n",
    "# # 決定木を500個作成\n",
    "# model = AdaBoostClassifier(n_estimators = 500,random_state = 0, estimator = base_model)\n",
    " \n",
    "model.fit(x_train, y_train)\n",
    "print('train: ',model.score(x_train,y_train ))\n",
    "print('test: ', model.score(x_test, y_test))"
   ]
  },
  {
   "cell_type": "markdown",
   "metadata": {},
   "source": [
    "### アダブースト"
   ]
  },
  {
   "cell_type": "code",
   "execution_count": 11,
   "metadata": {},
   "outputs": [
    {
     "data": {
      "image/png": "[encoded data removed]",
      "text/plain": [
       "<Figure size 640x480 with 10 Axes>"
      ]
     },
     "metadata": {},
     "output_type": "display_data"
    },
    {
     "name": "stdout",
     "output_type": "stream",
     "text": [
      "train:  1.0\n",
      "test:  0.9777777777777777\n"
     ]
    }
   ],
   "source": [
    "import matplotlib.pyplot as plt\n",
    "from sklearn import datasets\n",
    "from sklearn import tree\n",
    "from sklearn.model_selection import train_test_split\n",
    " \n",
    "# 手書き数字データの読み込み\n",
    "digits = datasets.load_digits()\n",
    " \n",
    "# 画像を 2 行 5 列に表示\n",
    "from_ = 0\n",
    "for n, digit in enumerate(zip(digits.target[from_:from_+10], digits.images[from_:from_+10])):\n",
    "    label, img = digit\n",
    "    plt.subplot(2, 5, n + 1)\n",
    "    plt.axis('off')\n",
    "    plt.imshow(img, cmap=plt.cm.gray_r, interpolation='nearest')\n",
    "    plt.title('Digit: {0}'.format(label))\n",
    "plt.show()\n",
    " \n",
    "x = digits.data\n",
    "y = digits.target\n",
    " \n",
    "x_train, x_test, y_train, y_test = train_test_split(x, y, test_size = 0.2,random_state = 0)\n",
    "#### 決定木 ####\n",
    "# model = tree.DecisionTreeClassifier(max_depth = 10, random_state = 0)\n",
    " \n",
    "#### ランダムフォレスト ####\n",
    "# from sklearn.ensemble import RandomForestClassifier\n",
    "# model = RandomForestClassifier(n_estimators = 200, random_state = 0)\n",
    " \n",
    "#### アダブースト ####\n",
    "from sklearn.ensemble import AdaBoostClassifier\n",
    "# ベースとなるモデル\n",
    "from sklearn.tree import DecisionTreeClassifier\n",
    "# 最大の深さ10の決定木を何個も作っていく\n",
    "base_model = DecisionTreeClassifier(random_state = 0,max_depth = 10)\n",
    "# 決定木を500個作成\n",
    "model = AdaBoostClassifier(n_estimators = 500,random_state = 0, estimator = base_model)\n",
    " \n",
    "model.fit(x_train, y_train)\n",
    "print('train: ',model.score(x_train,y_train ))\n",
    "print('test: ', model.score(x_test, y_test))"
   ]
  },
  {
   "cell_type": "markdown",
   "metadata": {},
   "source": [
    "### SVM"
   ]
  },
  {
   "cell_type": "code",
   "execution_count": 12,
   "metadata": {},
   "outputs": [
    {
     "name": "stdout",
     "output_type": "stream",
     "text": [
      "train:  1.0\n",
      "test:  0.9777777777777777\n"
     ]
    }
   ],
   "source": [
    "import numpy as np\n",
    "from sklearn import datasets, svm\n",
    "from sklearn.model_selection import train_test_split\n",
    " \n",
    "# 手書き数字のデータをロードし、変数digitsに格納\n",
    "digits = datasets.load_digits()\n",
    " \n",
    "# 特徴量のセットを変数Xに、ターゲットを変数yに格納\n",
    "x = digits.data\n",
    "y = digits.target\n",
    " \n",
    "# データを訓練用とテスト用に分離\n",
    "x_train, x_test, y_train, y_test = train_test_split(x, y, test_size = 0.2,random_state = 0)\n",
    " \n",
    "# 分類用にサポートベクトルマシンを用意\n",
    "clf = svm.SVC(C=1.0, kernel='linear', decision_function_shape='ovr')\n",
    " \n",
    "# データに最適化\n",
    "clf.fit(x_train, y_train)\n",
    " \n",
    "# データを分類器に与え、予測を得る\n",
    "print('train: ', clf.score(x_train, y_train))\n",
    "print('test: ', clf.score(x_test, y_test))"
   ]
  },
  {
   "cell_type": "markdown",
   "metadata": {},
   "source": [
    "### neural network"
   ]
  },
  {
   "cell_type": "code",
   "execution_count": 13,
   "metadata": {},
   "outputs": [
    {
     "name": "stdout",
     "output_type": "stream",
     "text": [
      "train:  1.0\n",
      "test:  0.9722222222222222\n"
     ]
    },
    {
     "data": {
      "image/png": "[encoded data removed]",
      "text/plain": [
       "<Figure size 640x480 with 1 Axes>"
      ]
     },
     "metadata": {},
     "output_type": "display_data"
    }
   ],
   "source": [
    "import numpy as np\n",
    "from sklearn import datasets\n",
    "from sklearn.neural_network import MLPClassifier\n",
    "from sklearn.model_selection import train_test_split\n",
    "import matplotlib.pyplot as plt\n",
    " \n",
    "# 手書き数字のデータをロードし、変数digitsに格納\n",
    "digits = datasets.load_digits()\n",
    " \n",
    "# 特徴量のセットを変数Xに、ターゲットを変数yに格納\n",
    "x = digits.data\n",
    "y = digits.target\n",
    " \n",
    "# データを訓練用とテスト用に分離\n",
    "x_train, x_test, y_train, y_test = train_test_split(x, y, test_size = 0.2,random_state = 0)\n",
    " \n",
    "# 分類用に多層ニューラルネットワークを用意\n",
    "# 毎回異なる乱数を利用\n",
    "clf = MLPClassifier(hidden_layer_sizes=(100, ), max_iter=1000, tol=0.0001, random_state=None)\n",
    " \n",
    "# データに最適化\n",
    "clf.fit(x_train, y_train)\n",
    " \n",
    "# データを分類器に与え、予測を得る\n",
    "print('train: ', clf.score(x_train, y_train))\n",
    "print('test: ', clf.score(x_test, y_test))\n",
    " \n",
    "# 損失関数のグラフの軸ラベルを設定\n",
    "plt.xlabel('time step')\n",
    "plt.ylabel('loss')\n",
    " \n",
    "# グラフ縦軸の範囲を0以上と定める\n",
    "plt.ylim(0, max(clf.loss_curve_))\n",
    " \n",
    "# 損失関数の時間変化を描画\n",
    "plt.plot(clf.loss_curve_)\n",
    " \n",
    "# 描画したグラフを表示\n",
    "plt.show()"
   ]
  },
  {
   "cell_type": "markdown",
   "metadata": {},
   "source": [
    "### digit_svc_gui"
   ]
  },
  {
   "cell_type": "code",
   "execution_count": 3,
   "metadata": {},
   "outputs": [],
   "source": [
    "# -*- coding: utf-8 -*-\n",
    "%matplotlib qt\n",
    "import numpy as np\n",
    "from PIL import Image, ImageTk, ImageDraw\n",
    "import tkinter as tk  # for Python 3\n",
    "\n",
    "class Application(tk.Frame):\n",
    "    # 初期化用関数\n",
    "    def __init__(self, clf, master=None):\n",
    "        super().__init__(master)\n",
    "        self.pack()\n",
    "        self.clf = clf\n",
    "        self.w = 200 # 一つの描画領域の幅\n",
    "        self.h = 200 # 一つの描画領域の高さ\n",
    "        self.d = 30  # マウスで描画する際の一点の直径\n",
    "        #self.r = 20  # 旧バージョン用のフィルタ半径\n",
    "        self.create_widgets()\n",
    "\n",
    "    # 様々なGUI部品を構築\n",
    "    def create_widgets(self):\n",
    "        w = self.w\n",
    "        h = self.h\n",
    "        # マウスで描画するための領域\n",
    "        self.canvas = tk.Canvas(self, width=w, height=h, bg='white')\n",
    "        # self.canvasを左端に配置\n",
    "        self.canvas.grid(row=0, column=0)\n",
    "        # self.canvasでマウスが動いた際にself.draw_digitが実行されるよう設定\n",
    "        self.canvas.bind('<Button1-Motion>', self.draw_digit)\n",
    "\n",
    "        # 認識用に用いる画像(self.canvasと共通化不能) #Canvasは書かれた内容を読めない\n",
    "        self.img = Image.new('L', (w, h), color=255)\n",
    "        # self.img上に描画するために必要なdraw\n",
    "        self.draw = ImageDraw.Draw(self.img)\n",
    "\n",
    "        # 認識用に self.img を加工して表示するキャンバス\n",
    "        self.recog_canvas = tk.Canvas(self, width=w, height=h, bg='white')\n",
    "        # self.recog_canvas上に描画するための画像を生成して関連付け\n",
    "        self.recog_img = tk.PhotoImage(width=w, height=h)\n",
    "        self.recog_canvas.create_image((w/2,h/2), image=self.recog_img, state='normal')\n",
    "        self.recog_canvas.image = self.recog_img\n",
    "        # self.canvasを中央に配置\n",
    "        self.recog_canvas.grid(row=0, column=1)\n",
    "\n",
    "        # 結果表示用のキャンバス\n",
    "        self.digit_canvas = tk.Canvas(self, width=w, height=h, bg='gray')\n",
    "        # self.digit_canvasを右端に配置\n",
    "        self.digit_canvas.grid(row=0, column=2)\n",
    "\n",
    "        # 認識ボタン\n",
    "        self.recog_btn = tk.Button(self, text='認識', command=self.recog)\n",
    "        # 認識ボタンを下段左に配置\n",
    "        self.recog_btn.grid(row=1, column=0)\n",
    "        # クリアボタン\n",
    "        self.clear_btn = tk.Button(self, text='クリア', command=self.clear)\n",
    "        # クリアボタンを下段右に配置\n",
    "        self.clear_btn.grid(row=1, column=2)\n",
    "\n",
    "    # 認識ボタンが押されたときに実行される関数\n",
    "    def recog(self):\n",
    "        w = self.w\n",
    "        h = self.h\n",
    "        # 描画されたイメージを8x8のrecog_imgに縮小\n",
    "        recog_img = self.img\n",
    "        recog_img = recog_img.resize(size=(8,8), resample=Image.BICUBIC)\n",
    "\n",
    "        # (8,8)のrecog_imgを描画用に拡大\n",
    "        recog_img_large = recog_img.resize(size=(w, h))\n",
    "        self.recog_img = ImageTk.PhotoImage(image=recog_img_large)\n",
    "        self.recog_canvas.create_image((w/2, h/2), image=self.recog_img, state='normal')\n",
    "        self.recog_canvas.image = self.recog_img\n",
    "\n",
    "        # 8x8の画像を機械学習用に加工\n",
    "        Ximg = np.asarray(recog_img, dtype=int)\n",
    "        # 最大値を16に\n",
    "        Ximg = 16*Ximg/255.0\n",
    "        # 整数に丸める\n",
    "        Ximg = Ximg.astype(int)\n",
    "        # 白黒反転\n",
    "        Ximg = 16-Ximg\n",
    "        # 機械学習用データの完成\n",
    "        X = np.array([Ximg.flatten()])\n",
    "        # 学習済みのニューラルネットワークから予測を取得\n",
    "        y = self.clf.predict(X)\n",
    "        # 予測結果を右の領域の表示\n",
    "        self.digit_canvas.create_text(w/2, h/2, text = '{0:d}'.format(y[0]), fill='white', font = ('FixedSys', int(w/2)))\n",
    "\n",
    "    # クリアボタンが押されたときに実行される関数\n",
    "    def clear(self):\n",
    "        w = self.w\n",
    "        h = self.h\n",
    "        # 左の描画領域をクリア\n",
    "        self.canvas.delete('all')\n",
    "        self.draw.rectangle(xy=[0,0,w,h], \n",
    "                            outline='white', fill='white')\n",
    "        # 中央の認識領域をクリア\n",
    "        self.recog_canvas.delete('all')\n",
    "        self.recog_img = tk.PhotoImage(width=w, height=h)\n",
    "        self.recog_canvas.create_image((w/2,h/2), image=self.recog_img, state='normal')\n",
    "        self.recog_canvas.image = self.recog_img\n",
    "        # 右の結果表示領域をクリア\n",
    "        self.digit_canvas.delete('all')\n",
    "\n",
    "    # 左側の描画領域でマウスが動いたときに呼ばれる関数\n",
    "    def draw_digit(self,event):\n",
    "        d = self.d\n",
    "        x = event.x\n",
    "        y = event.y\n",
    "        # 描画領域に黒丸を描画\n",
    "        id=self.canvas.create_oval(x-d/2, y-d/2, x+d/2, y+d/2)\n",
    "        self.canvas.itemconfigure(id, fill='black')\n",
    "        # 認識用の画像に黒丸を描画\n",
    "        self.draw.ellipse(xy=[x-d/2, y-d/2, x+d/2, y+d/2], fill=0, outline=0) \n",
    "\n",
    "if __name__ == '__main__':\n",
    "    \n",
    "    # 手書き数字のデータをロードし、変数digitsに格納\n",
    "    from sklearn import datasets, svm \n",
    "    digits = datasets.load_digits()\n",
    "    \n",
    "    # 特徴量のセットを変数Xに、ターゲットを変数yに格納\n",
    "    X = digits.data\n",
    "    y = digits.target\n",
    "    \n",
    "    # 分類用にサポートベクトルマシンを用意\n",
    "    clf = svm.SVC(C=1.0, kernel='linear')\n",
    "    clf.fit(X, y)    \n",
    "    \n",
    "    root = tk.Tk()\n",
    "    app = Application(clf, master=root)\n",
    "    app.master.title('数字認識 SVM')\n",
    "    app.mainloop()"
   ]
  },
  {
   "cell_type": "markdown",
   "metadata": {},
   "source": [
    "### pca3D"
   ]
  },
  {
   "cell_type": "code",
   "execution_count": 2,
   "metadata": {},
   "outputs": [],
   "source": [
    "%matplotlib qt\n",
    "from sklearn import datasets\n",
    "from sklearn import decomposition\n",
    "import matplotlib.pyplot as plt\n",
    "from mpl_toolkits.mplot3d import Axes3D\n",
    "\n",
    "# 手書き数字/irisのデータをロードし、変数に格納\n",
    "digits = datasets.load_digits()\n",
    "#iris = datasets.load_iris()\n",
    "\n",
    "# 特徴量のセットを変数Xに、ターゲットを変数yに格納\n",
    "X = digits.data\n",
    "y = digits.target\n",
    "# X = iris.data\n",
    "# y = iris.target\n",
    "\n",
    "# 3次元へと次元を減らす主成分分析を定義\n",
    "pca = decomposition.PCA(n_components=3)\n",
    "\n",
    "# 主成分分析により、64 or 4次元のXを3次元のXrに変換\n",
    "Xr = pca.fit_transform(X)\n",
    "\n",
    "# 3次元グラフの領域を準備\n",
    "# '111'は、「縦１枚、横１枚、のグラフエリアの１枚目」を表し、\n",
    "# 表示するグラフが１枚だけであることを意味する\n",
    "fig = plt.figure()\n",
    "ax = fig.add_subplot(111, projection='3d')\n",
    "\n",
    "# x, y, zの3つの軸にラベルの設定\n",
    "ax.set_xlabel('X-axis')\n",
    "ax.set_ylabel('Y-axis')\n",
    "ax.set_zlabel('Z-axis')\n",
    "\n",
    "# 0～9の数字に対する色指定用の関数\n",
    "def getcolor(c):\n",
    "    if c==0:\n",
    "        return 'red' # 赤\n",
    "    elif c==1:\n",
    "        return 'green' # 緑\n",
    "    elif c==2:\n",
    "        return 'blue' # 青\n",
    "    elif c==3:\n",
    "        return 'cyan' # シアン（水色）\n",
    "    elif c==4:\n",
    "        return 'magenta' # マゼンタ（ピンク）\n",
    "    elif c==5:\n",
    "        return 'yellow' # 黄\n",
    "    elif c==6:\n",
    "        return 'black' # 黒\n",
    "    elif c==7:\n",
    "        return 'orange' # オレンジ\n",
    "    elif c==8:\n",
    "        return 'purple' # 紫\n",
    "    else:\n",
    "        return 'gray' # グレー\n",
    "\n",
    "# ターゲット y に対応する色のリストを用意\n",
    "cols = list(map(getcolor, y))\n",
    "\n",
    "# 三次元空間へのデータの色付き描画を行う\n",
    "# Xr[:,0] がx軸のデータ\n",
    "# Xr[:,1] がy軸のデータ\n",
    "# Xr[:,2] がz軸のデータ\n",
    "ax.scatter(Xr[:,0], Xr[:,1], Xr[:,2], color=cols, alpha=0.3)\n",
    "\n",
    "# 描画したグラフを表示\n",
    "plt.show()\n"
   ]
  },
  {
   "cell_type": "code",
   "execution_count": null,
   "metadata": {},
   "outputs": [],
   "source": []
  }
 ],
 "metadata": {
  "kernelspec": {
   "display_name": "py39",
   "language": "python",
   "name": "python3"
  },
  "language_info": {
   "codemirror_mode": {
    "name": "ipython",
    "version": 3
   },
   "file_extension": ".py",
   "mimetype": "text/x-python",
   "name": "python",
   "nbconvert_exporter": "python",
   "pygments_lexer": "ipython3",
   "version": "3.9.18"
  }
 },
 "nbformat": 4,
 "nbformat_minor": 2
}
