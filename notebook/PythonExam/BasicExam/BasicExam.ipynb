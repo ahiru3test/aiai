{
 "cells": [
  {
   "cell_type": "markdown",
   "metadata": {},
   "source": [
    "### Lesson1 Pythonの特徴\n",
    "1. A\n",
    "2. *B*\n",
    "3. B\n",
    "4. B\n",
    "5. C\n",
    "6. D\n",
    "7. C\n",
    "8. A\n",
    "9. C\n"
   ]
  },
  {
   "cell_type": "markdown",
   "metadata": {},
   "source": [
    "### Lesson2\n",
    "1. C\n",
    "2. *D* 文字列を複数行に跨らせる場合は()で囲む\n",
    "3. D\n",
    "4. D\n",
    "5. A\n",
    "6. B\n",
    "7. *D* 7dで表した場合は右詰めの空白埋め\n",
    "8. A\n",
    "9. B\n"
   ]
  },
  {
   "cell_type": "markdown",
   "metadata": {},
   "source": [
    "### Lesson3\n",
    "1. C\n",
    "2. *C*\n",
    "3. *B*\n",
    "4. B\n",
    "5. B\n",
    "6. A\n",
    "7. A\n",
    "8. B\n",
    "9. *D*\n",
    "\n"
   ]
  },
  {
   "cell_type": "code",
   "execution_count": 3,
   "metadata": {},
   "outputs": [
    {
     "name": "stdout",
     "output_type": "stream",
     "text": [
      "[(1, 2), (2, 1), (3, 1), (3, 2)]\n"
     ]
    }
   ],
   "source": [
    "print([(i,j) for i in [1,2,3] for j in [1,2]if i!=j])\n"
   ]
  },
  {
   "cell_type": "markdown",
   "metadata": {},
   "source": [
    "### Lesson4\n",
    "1. B\n",
    "2. *D*\n",
    "3. C\n",
    "4. D\n",
    "5. C\n",
    "6. A\n",
    "7. C\n",
    "8. C\n",
    "9. D\n",
    "10. D\n"
   ]
  },
  {
   "cell_type": "markdown",
   "metadata": {},
   "source": [
    "### Lesson5\n",
    "1. C\n",
    "2. C\n",
    "3. A\n",
    "4. B\n",
    "5. C\n",
    "6. D\n",
    "7. A\n",
    "8. C\n",
    "9. D\n",
    "10. *A*"
   ]
  },
  {
   "cell_type": "markdown",
   "metadata": {},
   "source": [
    "### Lesson6\n",
    "1. C\n",
    "2. *B*\n",
    "3. B\n",
    "4. D\n",
    "5. *C*\n",
    "6. B\n",
    "7. C\n",
    "8. A\n",
    "9. *B*\n",
    "10. B\n"
   ]
  },
  {
   "cell_type": "markdown",
   "metadata": {},
   "source": [
    "### Lesson7\n",
    "1. C\n",
    "2. B\n",
    "3. B\n",
    "4. C\n",
    "5. D\n",
    "6. *D*\n",
    "7. C\n"
   ]
  },
  {
   "cell_type": "markdown",
   "metadata": {},
   "source": [
    "### Lesson8\n",
    "1. B\n",
    "2. D\n",
    "3. C\n",
    "4. *C*\n",
    "5. D\n",
    "6. B\n",
    "7. A\n"
   ]
  },
  {
   "cell_type": "markdown",
   "metadata": {},
   "source": [
    "### Lesson9\n",
    "1. C\n",
    "2. A\n",
    "3. D\n",
    "4. A\n"
   ]
  },
  {
   "cell_type": "markdown",
   "metadata": {},
   "source": [
    "### Lesson10\n",
    "1. B\n",
    "2. A\n",
    "3. A\n",
    "4. D\n",
    "5. D\n",
    "6. C\n",
    "\n"
   ]
  },
  {
   "cell_type": "markdown",
   "metadata": {},
   "source": [
    "### Lesson11\n",
    "1. *A*\n",
    "2. B\n",
    "3. *B*\n",
    "4. *A*\n",
    "5. A\n",
    "6. D\n",
    "7. *C*\n",
    "8. *C*\n",
    "9. *C*\n",
    "10. *D*\n",
    "11. D\n",
    "12. *B*\n"
   ]
  },
  {
   "cell_type": "markdown",
   "metadata": {},
   "source": [
    "### Lesson12\n",
    "1. C\n",
    "2. *B*\n",
    "3. C\n",
    "4. B\n"
   ]
  },
  {
   "cell_type": "code",
   "execution_count": 69,
   "metadata": {},
   "outputs": [
    {
     "name": "stdout",
     "output_type": "stream",
     "text": [
      "L  1:  8/  9: 88%\n",
      "L  2:  7/  9: 77%\n",
      "L  3:  7/  9: 77%\n",
      "L  4:  9/ 10: 90%\n",
      "L  5:  9/ 10: 90%\n",
      "L  6:  7/ 10: 70%\n",
      "L  7:  6/  7: 85%\n",
      "L  8:  6/  7: 85%\n",
      "L  9:  4/  4: 100%\n",
      "L 10:  6/  6: 100%\n",
      "L 11:  4/ 12: 33%\n",
      "L 12:  3/  4: 75%\n",
      "0213: 76/ 97: 78%\n"
     ]
    }
   ],
   "source": [
    "oks,qs,ns=(8,7,7,9,9,7,6,6,4,6,4,3),(9,9,9,10,10,10,7,7,4,6,12,4),(1,2,3,4,5,6,7,8,9,10,11,12,13)\n",
    "for n,o,q in zip(ns,oks,qs):print(f\"L{n:3d}:{o:3d}/{q:3d}: {o*100//q}%\")\n",
    "print(f\"0213:{sum(oks):3d}/{sum(qs):3d}: {sum(oks)*100//sum(qs)}%\")\n"
   ]
  },
  {
   "cell_type": "code",
   "execution_count": null,
   "metadata": {},
   "outputs": [],
   "source": []
  }
 ],
 "metadata": {
  "kernelspec": {
   "display_name": "py39",
   "language": "python",
   "name": "python3"
  },
  "language_info": {
   "codemirror_mode": {
    "name": "ipython",
    "version": 3
   },
   "file_extension": ".py",
   "mimetype": "text/x-python",
   "name": "python",
   "nbconvert_exporter": "python",
   "pygments_lexer": "ipython3",
   "version": "3.9.18"
  }
 },
 "nbformat": 4,
 "nbformat_minor": 2
}
