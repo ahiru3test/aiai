{
 "cells": [
  {
   "cell_type": "markdown",
   "metadata": {},
   "source": [
    "### Lesson1 Pythonの特徴\n",
    "1. A\n",
    "2. *B*\n",
    "3. B\n",
    "4. B\n",
    "5. C\n",
    "6. D\n",
    "7. C\n",
    "8. A\n",
    "9. C\n"
   ]
  },
  {
   "cell_type": "markdown",
   "metadata": {},
   "source": [
    "### Lesson2\n",
    "1. C\n",
    "2. *D* 文字列を複数行に跨らせる場合は()で囲む\n",
    "3. D\n",
    "4. D\n",
    "5. A\n",
    "6. B\n",
    "7. *D* 7dで表した場合は右詰めの空白埋め\n",
    "8. A\n",
    "9. B\n"
   ]
  },
  {
   "cell_type": "code",
   "execution_count": 2,
   "metadata": {},
   "outputs": [
    {
     "name": "stdout",
     "output_type": "stream",
     "text": [
      "Usage: -h help\n"
     ]
    }
   ],
   "source": [
    "text= (\n",
    "  \"Usage: \"\n",
    "  \"-h help\"\n",
    ")\n",
    "print(text)"
   ]
  },
  {
   "cell_type": "markdown",
   "metadata": {},
   "source": [
    "### Lesson3\n",
    "1. C\n",
    "2. *C*\n",
    "3. *B*\n",
    "4. B\n",
    "5. B\n",
    "6. A\n",
    "7. A\n",
    "8. B\n",
    "9. *D*\n",
    "\n"
   ]
  },
  {
   "cell_type": "code",
   "execution_count": 3,
   "metadata": {},
   "outputs": [
    {
     "name": "stdout",
     "output_type": "stream",
     "text": [
      "[(1, 2), (2, 1), (3, 1), (3, 2)]\n"
     ]
    }
   ],
   "source": [
    "print([(i,j) for i in [1,2,3] for j in [1,2]if i!=j])\n"
   ]
  },
  {
   "cell_type": "markdown",
   "metadata": {},
   "source": [
    "### Lesson4\n",
    "1. B\n",
    "2. *D*\n",
    "3. C\n",
    "4. D\n",
    "5. C\n",
    "6. A\n",
    "7. C\n",
    "8. C\n",
    "9. D\n",
    "10. D\n"
   ]
  },
  {
   "cell_type": "code",
   "execution_count": 4,
   "metadata": {},
   "outputs": [
    {
     "name": "stdout",
     "output_type": "stream",
     "text": [
      "0 1\n"
     ]
    },
    {
     "data": {
      "text/plain": [
       "0"
      ]
     },
     "execution_count": 4,
     "metadata": {},
     "output_type": "execute_result"
    }
   ],
   "source": [
    "def num(value):\n",
    "  return value\n",
    "\n",
    "value1=num(0) and num(1) and num(2)\n",
    "value2=num(0) or num(1) or num(2)\n",
    "print(value1, value2)\n",
    "\n",
    "num(0) and num(1) and num(2)\n"
   ]
  },
  {
   "cell_type": "code",
   "execution_count": 6,
   "metadata": {},
   "outputs": [
    {
     "name": "stdout",
     "output_type": "stream",
     "text": [
      "0\n"
     ]
    }
   ],
   "source": [
    "# value1=0 and 1 and 2\n",
    "# value2=0 or 1 or 2\n",
    "\n",
    "print((0 and 1 and 2))"
   ]
  },
  {
   "cell_type": "markdown",
   "metadata": {},
   "source": [
    "### Lesson5\n",
    "1. C\n",
    "2. C\n",
    "3. A\n",
    "4. B\n",
    "5. C\n",
    "6. D\n",
    "7. A\n",
    "8. C\n",
    "9. D\n",
    "10. *A*"
   ]
  },
  {
   "cell_type": "markdown",
   "metadata": {},
   "source": [
    "### Lesson6\n",
    "1. C\n",
    "2. *B*\n",
    "3. B\n",
    "4. D\n",
    "5. *C*\n",
    "6. B\n",
    "7. C\n",
    "8. A\n",
    "9. *B*\n",
    "10. B\n"
   ]
  },
  {
   "cell_type": "markdown",
   "metadata": {},
   "source": [
    "### Lesson7\n",
    "1. C\n",
    "2. B\n",
    "3. B\n",
    "4. C\n",
    "5. D\n",
    "6. *D*\n",
    "7. C\n"
   ]
  },
  {
   "cell_type": "markdown",
   "metadata": {},
   "source": [
    "### Lesson8\n",
    "1. B\n",
    "2. D\n",
    "3. C\n",
    "4. *C*\n",
    "5. D\n",
    "6. B\n",
    "7. A\n"
   ]
  },
  {
   "cell_type": "markdown",
   "metadata": {},
   "source": [
    "### Lesson9\n",
    "1. C\n",
    "2. A\n",
    "3. D\n",
    "4. A\n"
   ]
  },
  {
   "cell_type": "markdown",
   "metadata": {},
   "source": [
    "### Lesson10\n",
    "1. B\n",
    "2. A\n",
    "3. A\n",
    "4. D\n",
    "5. D\n",
    "6. C\n",
    "\n"
   ]
  },
  {
   "cell_type": "markdown",
   "metadata": {},
   "source": [
    "### Lesson11\n",
    "1. *A*\n",
    "2. B\n",
    "3. *B*\n",
    "4. *A*\n",
    "5. A\n",
    "6. D\n",
    "7. *C*\n",
    "8. *C*\n",
    "9. *C*\n",
    "10. *D*\n",
    "11. D\n",
    "12. *B*\n"
   ]
  },
  {
   "cell_type": "code",
   "execution_count": 2,
   "metadata": {},
   "outputs": [
    {
     "name": "stdout",
     "output_type": "stream",
     "text": [
      "['s:\\\\anaconda3\\\\envs\\\\py39\\\\lib\\\\site-packages\\\\ipykernel_launcher.py', '--f=c:\\\\Users\\\\admin\\\\AppData\\\\Roaming\\\\jupyter\\\\runtime\\\\kernel-v2-1808oWvrDQMUPVeA.json']\n"
     ]
    }
   ],
   "source": [
    "import sys\n",
    "print (sys.argv)\n"
   ]
  },
  {
   "cell_type": "code",
   "execution_count": 8,
   "metadata": {},
   "outputs": [
    {
     "data": {
      "text/plain": [
       "-0.914962133815036"
      ]
     },
     "execution_count": 8,
     "metadata": {},
     "output_type": "execute_result"
    }
   ],
   "source": [
    "import random\n",
    "random.random()*2-1"
   ]
  },
  {
   "cell_type": "code",
   "execution_count": 1,
   "metadata": {},
   "outputs": [
    {
     "name": "stdout",
     "output_type": "stream",
     "text": [
      "0\n",
      "-1\n",
      "5\n"
     ]
    }
   ],
   "source": [
    "import statistics\n",
    "data=[-1,-1,-1,-1,4]\n",
    "print(statistics.mean(data))\n",
    "print(statistics.median(data))\n",
    "print(statistics.variance(data))\n"
   ]
  },
  {
   "cell_type": "code",
   "execution_count": 12,
   "metadata": {},
   "outputs": [],
   "source": [
    "import unittest\n",
    "import math\n",
    "\n",
    "class TestSample(unittest.TestCase):\n",
    "  def test_it(self):\n",
    "    actual=math.modf.calc(2,3)\n",
    "    expected =5\n",
    "    self.assertEqual(actual.expected)\n"
   ]
  },
  {
   "cell_type": "markdown",
   "metadata": {},
   "source": [
    "### Lesson12\n",
    "1. C\n",
    "2. *B*\n",
    "3. C\n",
    "4. B\n"
   ]
  },
  {
   "cell_type": "code",
   "execution_count": 69,
   "metadata": {},
   "outputs": [
    {
     "name": "stdout",
     "output_type": "stream",
     "text": [
      "L  1:  8/  9: 88%\n",
      "L  2:  7/  9: 77%\n",
      "L  3:  7/  9: 77%\n",
      "L  4:  9/ 10: 90%\n",
      "L  5:  9/ 10: 90%\n",
      "L  6:  7/ 10: 70%\n",
      "L  7:  6/  7: 85%\n",
      "L  8:  6/  7: 85%\n",
      "L  9:  4/  4: 100%\n",
      "L 10:  6/  6: 100%\n",
      "L 11:  4/ 12: 33%\n",
      "L 12:  3/  4: 75%\n",
      "0213: 76/ 97: 78%\n"
     ]
    }
   ],
   "source": [
    "oks,qs,ns=(8,7,7,9,9,7,6,6,4,6,4,3),(9,9,9,10,10,10,7,7,4,6,12,4),(1,2,3,4,5,6,7,8,9,10,11,12,13)\n",
    "for n,o,q in zip(ns,oks,qs):print(f\"L{n:3d}:{o:3d}/{q:3d}: {o*100//q}%\")\n",
    "print(f\"0213:{sum(oks):3d}/{sum(qs):3d}: {sum(oks)*100//sum(qs)}%\")\n"
   ]
  },
  {
   "cell_type": "code",
   "execution_count": null,
   "metadata": {},
   "outputs": [],
   "source": []
  },
  {
   "cell_type": "markdown",
   "metadata": {},
   "source": [
    "### 総仕上げ"
   ]
  },
  {
   "cell_type": "markdown",
   "metadata": {},
   "source": [
    "1.C \n",
    "2.B\n",
    "3.C\n",
    "4.D\n",
    "5.C\n",
    "6.D\n",
    "7.D\n",
    "8.D\n",
    "9.*D*\n",
    "10.C\n",
    "11.B\n",
    "12.B\n",
    "13.C\n",
    "14.D\n",
    "15.B\n",
    "16.B\n",
    "17.D\n",
    "18.C\n",
    "19.D\n",
    "20.B\n",
    "21.B\n",
    "22.*C*\n",
    "23.A\n",
    "24.D\n",
    "25.B\n",
    "26.C\n",
    "27.B\n",
    "28.A\n",
    "29.C\n",
    "30.B\n",
    "31.A\n",
    "32.C\n",
    "33.C\n",
    "34.C\n",
    "35.D\n",
    "36.D\n",
    "37.*C*\n",
    "38.*C*\n",
    "39.C\n",
    "40.B\n"
   ]
  },
  {
   "cell_type": "code",
   "execution_count": 9,
   "metadata": {},
   "outputs": [
    {
     "data": {
      "text/plain": [
       "0.9"
      ]
     },
     "execution_count": 9,
     "metadata": {},
     "output_type": "execute_result"
    }
   ],
   "source": [
    "36/40"
   ]
  },
  {
   "cell_type": "code",
   "execution_count": 7,
   "metadata": {},
   "outputs": [
    {
     "name": "stdout",
     "output_type": "stream",
     "text": [
      "1 sheep jumped a fence.,\n",
      "2 sheep jumped a fence.,\n",
      "3 sheep jumped a fence.\n"
     ]
    }
   ],
   "source": [
    "text=[f\"{i} sheep jumped a fence.\" for i in range(1,4)]\n",
    "\n",
    "import textwrap\n",
    "print(textwrap.fill(\", \".join(text), width=24))"
   ]
  },
  {
   "cell_type": "code",
   "execution_count": null,
   "metadata": {},
   "outputs": [],
   "source": []
  }
 ],
 "metadata": {
  "kernelspec": {
   "display_name": "py39",
   "language": "python",
   "name": "python3"
  },
  "language_info": {
   "codemirror_mode": {
    "name": "ipython",
    "version": 3
   },
   "file_extension": ".py",
   "mimetype": "text/x-python",
   "name": "python",
   "nbconvert_exporter": "python",
   "pygments_lexer": "ipython3",
   "version": "3.9.18"
  }
 },
 "nbformat": 4,
 "nbformat_minor": 2
}
