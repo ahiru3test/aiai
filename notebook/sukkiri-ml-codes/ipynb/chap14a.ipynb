{
 "cells": [
  {
   "cell_type": "markdown",
   "metadata": {},
   "source": [
    "### 14-1"
   ]
  },
  {
   "cell_type": "code",
   "execution_count": 50,
   "metadata": {},
   "outputs": [
    {
     "data": {
      "text/html": [
       "<div>\n",
       "<style scoped>\n",
       "    .dataframe tbody tr th:only-of-type {\n",
       "        vertical-align: middle;\n",
       "    }\n",
       "\n",
       "    .dataframe tbody tr th {\n",
       "        vertical-align: top;\n",
       "    }\n",
       "\n",
       "    .dataframe thead th {\n",
       "        text-align: right;\n",
       "    }\n",
       "</style>\n",
       "<table border=\"1\" class=\"dataframe\">\n",
       "  <thead>\n",
       "    <tr style=\"text-align: right;\">\n",
       "      <th></th>\n",
       "      <th>CRIME</th>\n",
       "      <th>ZN</th>\n",
       "      <th>INDUS</th>\n",
       "      <th>CHAS</th>\n",
       "      <th>NOX</th>\n",
       "      <th>RM</th>\n",
       "      <th>AGE</th>\n",
       "      <th>DIS</th>\n",
       "      <th>RAD</th>\n",
       "      <th>TAX</th>\n",
       "      <th>PTRATIO</th>\n",
       "      <th>B</th>\n",
       "      <th>LSTAT</th>\n",
       "      <th>PRICE</th>\n",
       "    </tr>\n",
       "  </thead>\n",
       "  <tbody>\n",
       "    <tr>\n",
       "      <th>0</th>\n",
       "      <td>high</td>\n",
       "      <td>0.0</td>\n",
       "      <td>18.10</td>\n",
       "      <td>0</td>\n",
       "      <td>0.718</td>\n",
       "      <td>3.561</td>\n",
       "      <td>87.9</td>\n",
       "      <td>1.6132</td>\n",
       "      <td>24.0</td>\n",
       "      <td>666</td>\n",
       "      <td>20.2</td>\n",
       "      <td>354.7</td>\n",
       "      <td>7.12</td>\n",
       "      <td>27.5</td>\n",
       "    </tr>\n",
       "    <tr>\n",
       "      <th>1</th>\n",
       "      <td>low</td>\n",
       "      <td>0.0</td>\n",
       "      <td>8.14</td>\n",
       "      <td>0</td>\n",
       "      <td>0.538</td>\n",
       "      <td>5.950</td>\n",
       "      <td>82.0</td>\n",
       "      <td>3.9900</td>\n",
       "      <td>4.0</td>\n",
       "      <td>307</td>\n",
       "      <td>21.0</td>\n",
       "      <td>232.6</td>\n",
       "      <td>27.71</td>\n",
       "      <td>13.2</td>\n",
       "    </tr>\n",
       "  </tbody>\n",
       "</table>\n",
       "</div>"
      ],
      "text/plain": [
       "  CRIME   ZN  INDUS  CHAS    NOX     RM   AGE     DIS   RAD  TAX  PTRATIO  \\\n",
       "0  high  0.0  18.10     0  0.718  3.561  87.9  1.6132  24.0  666     20.2   \n",
       "1   low  0.0   8.14     0  0.538  5.950  82.0  3.9900   4.0  307     21.0   \n",
       "\n",
       "       B  LSTAT  PRICE  \n",
       "0  354.7   7.12   27.5  \n",
       "1  232.6  27.71   13.2  "
      ]
     },
     "execution_count": 50,
     "metadata": {},
     "output_type": "execute_result"
    }
   ],
   "source": [
    "import pandas as pd\n",
    "df = pd.read_csv('../datafiles/Boston.csv') # csvの読み込み\n",
    "df.head(2) # 先頭2行の表示"
   ]
  },
  {
   "cell_type": "code",
   "execution_count": 51,
   "metadata": {},
   "outputs": [
    {
     "data": {
      "text/plain": [
       "(100, 14)"
      ]
     },
     "execution_count": 51,
     "metadata": {},
     "output_type": "execute_result"
    }
   ],
   "source": [
    "df.shape"
   ]
  },
  {
   "cell_type": "markdown",
   "metadata": {},
   "source": [
    "### 14-2"
   ]
  },
  {
   "cell_type": "code",
   "execution_count": 52,
   "metadata": {},
   "outputs": [],
   "source": [
    "df2 = df.fillna(df.mean(numeric_only=True)) # 列ごとの平均値で欠損値の穴埋め"
   ]
  },
  {
   "cell_type": "markdown",
   "metadata": {},
   "source": [
    "### 14-3"
   ]
  },
  {
   "cell_type": "code",
   "execution_count": 53,
   "metadata": {},
   "outputs": [
    {
     "data": {
      "text/html": [
       "<div>\n",
       "<style scoped>\n",
       "    .dataframe tbody tr th:only-of-type {\n",
       "        vertical-align: middle;\n",
       "    }\n",
       "\n",
       "    .dataframe tbody tr th {\n",
       "        vertical-align: top;\n",
       "    }\n",
       "\n",
       "    .dataframe thead th {\n",
       "        text-align: right;\n",
       "    }\n",
       "</style>\n",
       "<table border=\"1\" class=\"dataframe\">\n",
       "  <thead>\n",
       "    <tr style=\"text-align: right;\">\n",
       "      <th></th>\n",
       "      <th>ZN</th>\n",
       "      <th>INDUS</th>\n",
       "      <th>CHAS</th>\n",
       "      <th>NOX</th>\n",
       "      <th>RM</th>\n",
       "      <th>AGE</th>\n",
       "      <th>DIS</th>\n",
       "      <th>RAD</th>\n",
       "      <th>TAX</th>\n",
       "      <th>PTRATIO</th>\n",
       "      <th>B</th>\n",
       "      <th>LSTAT</th>\n",
       "      <th>PRICE</th>\n",
       "      <th>low</th>\n",
       "      <th>very_low</th>\n",
       "    </tr>\n",
       "  </thead>\n",
       "  <tbody>\n",
       "    <tr>\n",
       "      <th>0</th>\n",
       "      <td>0.0</td>\n",
       "      <td>18.10</td>\n",
       "      <td>0</td>\n",
       "      <td>0.718</td>\n",
       "      <td>3.561</td>\n",
       "      <td>87.9</td>\n",
       "      <td>1.6132</td>\n",
       "      <td>24.0</td>\n",
       "      <td>666</td>\n",
       "      <td>20.2</td>\n",
       "      <td>354.7</td>\n",
       "      <td>7.12</td>\n",
       "      <td>27.5</td>\n",
       "      <td>False</td>\n",
       "      <td>False</td>\n",
       "    </tr>\n",
       "    <tr>\n",
       "      <th>1</th>\n",
       "      <td>0.0</td>\n",
       "      <td>8.14</td>\n",
       "      <td>0</td>\n",
       "      <td>0.538</td>\n",
       "      <td>5.950</td>\n",
       "      <td>82.0</td>\n",
       "      <td>3.9900</td>\n",
       "      <td>4.0</td>\n",
       "      <td>307</td>\n",
       "      <td>21.0</td>\n",
       "      <td>232.6</td>\n",
       "      <td>27.71</td>\n",
       "      <td>13.2</td>\n",
       "      <td>True</td>\n",
       "      <td>False</td>\n",
       "    </tr>\n",
       "  </tbody>\n",
       "</table>\n",
       "</div>"
      ],
      "text/plain": [
       "    ZN  INDUS  CHAS    NOX     RM   AGE     DIS   RAD  TAX  PTRATIO      B  \\\n",
       "0  0.0  18.10     0  0.718  3.561  87.9  1.6132  24.0  666     20.2  354.7   \n",
       "1  0.0   8.14     0  0.538  5.950  82.0  3.9900   4.0  307     21.0  232.6   \n",
       "\n",
       "   LSTAT  PRICE    low  very_low  \n",
       "0   7.12   27.5  False     False  \n",
       "1  27.71   13.2   True     False  "
      ]
     },
     "execution_count": 53,
     "metadata": {},
     "output_type": "execute_result"
    }
   ],
   "source": [
    "dummy = pd.get_dummies(df2['CRIME'], drop_first = True)\n",
    "df3 = df2.join(dummy) # df2とdummyを列方向に結合\n",
    "df3 = df3.drop(['CRIME'], axis = 1) # 元のCRIMEを削除\n",
    "\n",
    "df3.head(2)"
   ]
  },
  {
   "cell_type": "markdown",
   "metadata": {},
   "source": [
    "### 14-4"
   ]
  },
  {
   "cell_type": "code",
   "execution_count": 54,
   "metadata": {},
   "outputs": [],
   "source": [
    "from sklearn.preprocessing import StandardScaler\n",
    " # 中身が整数だと、fit_transformで警告になるので、\n",
    "# float型に変換（省略可能）\n",
    "df4 = df3.astype('float')\n",
    "# 標準化\n",
    "sc = StandardScaler()\n",
    "sc_df = sc.fit_transform(df4)"
   ]
  },
  {
   "cell_type": "markdown",
   "metadata": {},
   "source": [
    "### 14-5"
   ]
  },
  {
   "cell_type": "code",
   "execution_count": 55,
   "metadata": {},
   "outputs": [],
   "source": [
    "from sklearn.decomposition import PCA"
   ]
  },
  {
   "cell_type": "markdown",
   "metadata": {},
   "source": [
    "### 14-6"
   ]
  },
  {
   "cell_type": "code",
   "execution_count": 56,
   "metadata": {},
   "outputs": [],
   "source": [
    "model = PCA(n_components = 2, whiten = True) # モデル作成"
   ]
  },
  {
   "cell_type": "markdown",
   "metadata": {},
   "source": [
    "### 14-7"
   ]
  },
  {
   "cell_type": "code",
   "execution_count": 57,
   "metadata": {},
   "outputs": [
    {
     "data": {
      "text/html": [
       "<style>#sk-container-id-3 {color: black;}#sk-container-id-3 pre{padding: 0;}#sk-container-id-3 div.sk-toggleable {background-color: white;}#sk-container-id-3 label.sk-toggleable__label {cursor: pointer;display: block;width: 100%;margin-bottom: 0;padding: 0.3em;box-sizing: border-box;text-align: center;}#sk-container-id-3 label.sk-toggleable__label-arrow:before {content: \"▸\";float: left;margin-right: 0.25em;color: #696969;}#sk-container-id-3 label.sk-toggleable__label-arrow:hover:before {color: black;}#sk-container-id-3 div.sk-estimator:hover label.sk-toggleable__label-arrow:before {color: black;}#sk-container-id-3 div.sk-toggleable__content {max-height: 0;max-width: 0;overflow: hidden;text-align: left;background-color: #f0f8ff;}#sk-container-id-3 div.sk-toggleable__content pre {margin: 0.2em;color: black;border-radius: 0.25em;background-color: #f0f8ff;}#sk-container-id-3 input.sk-toggleable__control:checked~div.sk-toggleable__content {max-height: 200px;max-width: 100%;overflow: auto;}#sk-container-id-3 input.sk-toggleable__control:checked~label.sk-toggleable__label-arrow:before {content: \"▾\";}#sk-container-id-3 div.sk-estimator input.sk-toggleable__control:checked~label.sk-toggleable__label {background-color: #d4ebff;}#sk-container-id-3 div.sk-label input.sk-toggleable__control:checked~label.sk-toggleable__label {background-color: #d4ebff;}#sk-container-id-3 input.sk-hidden--visually {border: 0;clip: rect(1px 1px 1px 1px);clip: rect(1px, 1px, 1px, 1px);height: 1px;margin: -1px;overflow: hidden;padding: 0;position: absolute;width: 1px;}#sk-container-id-3 div.sk-estimator {font-family: monospace;background-color: #f0f8ff;border: 1px dotted black;border-radius: 0.25em;box-sizing: border-box;margin-bottom: 0.5em;}#sk-container-id-3 div.sk-estimator:hover {background-color: #d4ebff;}#sk-container-id-3 div.sk-parallel-item::after {content: \"\";width: 100%;border-bottom: 1px solid gray;flex-grow: 1;}#sk-container-id-3 div.sk-label:hover label.sk-toggleable__label {background-color: #d4ebff;}#sk-container-id-3 div.sk-serial::before {content: \"\";position: absolute;border-left: 1px solid gray;box-sizing: border-box;top: 0;bottom: 0;left: 50%;z-index: 0;}#sk-container-id-3 div.sk-serial {display: flex;flex-direction: column;align-items: center;background-color: white;padding-right: 0.2em;padding-left: 0.2em;position: relative;}#sk-container-id-3 div.sk-item {position: relative;z-index: 1;}#sk-container-id-3 div.sk-parallel {display: flex;align-items: stretch;justify-content: center;background-color: white;position: relative;}#sk-container-id-3 div.sk-item::before, #sk-container-id-3 div.sk-parallel-item::before {content: \"\";position: absolute;border-left: 1px solid gray;box-sizing: border-box;top: 0;bottom: 0;left: 50%;z-index: -1;}#sk-container-id-3 div.sk-parallel-item {display: flex;flex-direction: column;z-index: 1;position: relative;background-color: white;}#sk-container-id-3 div.sk-parallel-item:first-child::after {align-self: flex-end;width: 50%;}#sk-container-id-3 div.sk-parallel-item:last-child::after {align-self: flex-start;width: 50%;}#sk-container-id-3 div.sk-parallel-item:only-child::after {width: 0;}#sk-container-id-3 div.sk-dashed-wrapped {border: 1px dashed gray;margin: 0 0.4em 0.5em 0.4em;box-sizing: border-box;padding-bottom: 0.4em;background-color: white;}#sk-container-id-3 div.sk-label label {font-family: monospace;font-weight: bold;display: inline-block;line-height: 1.2em;}#sk-container-id-3 div.sk-label-container {text-align: center;}#sk-container-id-3 div.sk-container {/* jupyter's `normalize.less` sets `[hidden] { display: none; }` but bootstrap.min.css set `[hidden] { display: none !important; }` so we also need the `!important` here to be able to override the default hidden behavior on the sphinx rendered scikit-learn.org. See: https://github.com/scikit-learn/scikit-learn/issues/21755 */display: inline-block !important;position: relative;}#sk-container-id-3 div.sk-text-repr-fallback {display: none;}</style><div id=\"sk-container-id-3\" class=\"sk-top-container\"><div class=\"sk-text-repr-fallback\"><pre>PCA(n_components=2, whiten=True)</pre><b>In a Jupyter environment, please rerun this cell to show the HTML representation or trust the notebook. <br />On GitHub, the HTML representation is unable to render, please try loading this page with nbviewer.org.</b></div><div class=\"sk-container\" hidden><div class=\"sk-item\"><div class=\"sk-estimator sk-toggleable\"><input class=\"sk-toggleable__control sk-hidden--visually\" id=\"sk-estimator-id-3\" type=\"checkbox\" checked><label for=\"sk-estimator-id-3\" class=\"sk-toggleable__label sk-toggleable__label-arrow\">PCA</label><div class=\"sk-toggleable__content\"><pre>PCA(n_components=2, whiten=True)</pre></div></div></div></div></div>"
      ],
      "text/plain": [
       "PCA(n_components=2, whiten=True)"
      ]
     },
     "execution_count": 57,
     "metadata": {},
     "output_type": "execute_result"
    }
   ],
   "source": [
    "# モデルに学習させる\n",
    "model.fit(sc_df)"
   ]
  },
  {
   "cell_type": "markdown",
   "metadata": {},
   "source": [
    "### 14-8"
   ]
  },
  {
   "cell_type": "code",
   "execution_count": 58,
   "metadata": {},
   "outputs": [
    {
     "name": "stdout",
     "output_type": "stream",
     "text": [
      "PCA(n_components=2, whiten=True)\n",
      "[-0.2258543   0.35923465  0.04220985  0.3499321  -0.19485285  0.29792086\n",
      " -0.29980115  0.30726517  0.32822012  0.16246983 -0.18251937  0.27543839\n",
      " -0.2018449   0.03831172 -0.31492126]\n",
      "-----\n",
      "[-0.1533893   0.02835867  0.19795373  0.13817925  0.4047141   0.20058802\n",
      " -0.29340246 -0.1027543  -0.11546952 -0.34046929  0.05661836 -0.17845386\n",
      "  0.44390529  0.42253976 -0.27716437]\n"
     ]
    }
   ],
   "source": [
    "print(model)\n",
    "# 新規の第１軸（第１主成分とも呼ぶ）の固有ベクトル\n",
    "print( model.components_[0] )\n",
    "print('-----')\n",
    "# 新規の第2軸（第2主成分とも呼ぶ）の固有ベクトル\n",
    "print(model.components_[1])"
   ]
  },
  {
   "cell_type": "code",
   "execution_count": 59,
   "metadata": {},
   "outputs": [
    {
     "data": {
      "text/html": [
       "<div>\n",
       "<style scoped>\n",
       "    .dataframe tbody tr th:only-of-type {\n",
       "        vertical-align: middle;\n",
       "    }\n",
       "\n",
       "    .dataframe tbody tr th {\n",
       "        vertical-align: top;\n",
       "    }\n",
       "\n",
       "    .dataframe thead th {\n",
       "        text-align: right;\n",
       "    }\n",
       "</style>\n",
       "<table border=\"1\" class=\"dataframe\">\n",
       "  <thead>\n",
       "    <tr style=\"text-align: right;\">\n",
       "      <th></th>\n",
       "      <th>0</th>\n",
       "      <th>1</th>\n",
       "      <th>2</th>\n",
       "      <th>3</th>\n",
       "      <th>4</th>\n",
       "      <th>5</th>\n",
       "      <th>6</th>\n",
       "      <th>7</th>\n",
       "      <th>8</th>\n",
       "      <th>9</th>\n",
       "      <th>10</th>\n",
       "      <th>11</th>\n",
       "      <th>12</th>\n",
       "      <th>13</th>\n",
       "      <th>14</th>\n",
       "    </tr>\n",
       "  </thead>\n",
       "  <tbody>\n",
       "    <tr>\n",
       "      <th>0</th>\n",
       "      <td>1.000000</td>\n",
       "      <td>-0.413801</td>\n",
       "      <td>-0.020551</td>\n",
       "      <td>-0.459063</td>\n",
       "      <td>0.172917</td>\n",
       "      <td>-0.484837</td>\n",
       "      <td>0.593037</td>\n",
       "      <td>-0.254450</td>\n",
       "      <td>-0.257640</td>\n",
       "      <td>-0.262523</td>\n",
       "      <td>0.145139</td>\n",
       "      <td>-0.337898</td>\n",
       "      <td>0.193146</td>\n",
       "      <td>-0.202371</td>\n",
       "      <td>0.409133</td>\n",
       "    </tr>\n",
       "    <tr>\n",
       "      <th>1</th>\n",
       "      <td>-0.413801</td>\n",
       "      <td>1.000000</td>\n",
       "      <td>0.157138</td>\n",
       "      <td>0.802464</td>\n",
       "      <td>-0.421951</td>\n",
       "      <td>0.620097</td>\n",
       "      <td>-0.676479</td>\n",
       "      <td>0.650419</td>\n",
       "      <td>0.743518</td>\n",
       "      <td>0.282389</td>\n",
       "      <td>-0.324724</td>\n",
       "      <td>0.562670</td>\n",
       "      <td>-0.396040</td>\n",
       "      <td>0.063395</td>\n",
       "      <td>-0.693969</td>\n",
       "    </tr>\n",
       "    <tr>\n",
       "      <th>2</th>\n",
       "      <td>-0.020551</td>\n",
       "      <td>0.157138</td>\n",
       "      <td>1.000000</td>\n",
       "      <td>0.129360</td>\n",
       "      <td>0.072048</td>\n",
       "      <td>0.096141</td>\n",
       "      <td>-0.118997</td>\n",
       "      <td>0.095892</td>\n",
       "      <td>0.103137</td>\n",
       "      <td>-0.030505</td>\n",
       "      <td>0.017520</td>\n",
       "      <td>-0.061717</td>\n",
       "      <td>0.114753</td>\n",
       "      <td>0.079472</td>\n",
       "      <td>-0.137649</td>\n",
       "    </tr>\n",
       "    <tr>\n",
       "      <th>3</th>\n",
       "      <td>-0.459063</td>\n",
       "      <td>0.802464</td>\n",
       "      <td>0.129360</td>\n",
       "      <td>1.000000</td>\n",
       "      <td>-0.297557</td>\n",
       "      <td>0.682188</td>\n",
       "      <td>-0.755101</td>\n",
       "      <td>0.622817</td>\n",
       "      <td>0.690715</td>\n",
       "      <td>0.099131</td>\n",
       "      <td>-0.371033</td>\n",
       "      <td>0.506199</td>\n",
       "      <td>-0.286387</td>\n",
       "      <td>0.063427</td>\n",
       "      <td>-0.701661</td>\n",
       "    </tr>\n",
       "    <tr>\n",
       "      <th>4</th>\n",
       "      <td>0.172917</td>\n",
       "      <td>-0.421951</td>\n",
       "      <td>0.072048</td>\n",
       "      <td>-0.297557</td>\n",
       "      <td>1.000000</td>\n",
       "      <td>-0.201136</td>\n",
       "      <td>0.095502</td>\n",
       "      <td>-0.277106</td>\n",
       "      <td>-0.354765</td>\n",
       "      <td>-0.363856</td>\n",
       "      <td>0.099481</td>\n",
       "      <td>-0.560947</td>\n",
       "      <td>0.686674</td>\n",
       "      <td>0.134248</td>\n",
       "      <td>0.188623</td>\n",
       "    </tr>\n",
       "    <tr>\n",
       "      <th>5</th>\n",
       "      <td>-0.484837</td>\n",
       "      <td>0.620097</td>\n",
       "      <td>0.096141</td>\n",
       "      <td>0.682188</td>\n",
       "      <td>-0.201136</td>\n",
       "      <td>1.000000</td>\n",
       "      <td>-0.696931</td>\n",
       "      <td>0.401993</td>\n",
       "      <td>0.441867</td>\n",
       "      <td>0.147185</td>\n",
       "      <td>-0.231157</td>\n",
       "      <td>0.471668</td>\n",
       "      <td>-0.261573</td>\n",
       "      <td>0.226705</td>\n",
       "      <td>-0.602254</td>\n",
       "    </tr>\n",
       "    <tr>\n",
       "      <th>6</th>\n",
       "      <td>0.593037</td>\n",
       "      <td>-0.676479</td>\n",
       "      <td>-0.118997</td>\n",
       "      <td>-0.755101</td>\n",
       "      <td>0.095502</td>\n",
       "      <td>-0.696931</td>\n",
       "      <td>1.000000</td>\n",
       "      <td>-0.470486</td>\n",
       "      <td>-0.499881</td>\n",
       "      <td>-0.083598</td>\n",
       "      <td>0.237879</td>\n",
       "      <td>-0.380318</td>\n",
       "      <td>0.036360</td>\n",
       "      <td>-0.160125</td>\n",
       "      <td>0.610582</td>\n",
       "    </tr>\n",
       "    <tr>\n",
       "      <th>7</th>\n",
       "      <td>-0.254450</td>\n",
       "      <td>0.650419</td>\n",
       "      <td>0.095892</td>\n",
       "      <td>0.622817</td>\n",
       "      <td>-0.277106</td>\n",
       "      <td>0.401993</td>\n",
       "      <td>-0.470486</td>\n",
       "      <td>1.000000</td>\n",
       "      <td>0.944359</td>\n",
       "      <td>0.441135</td>\n",
       "      <td>-0.377976</td>\n",
       "      <td>0.317398</td>\n",
       "      <td>-0.245235</td>\n",
       "      <td>-0.243074</td>\n",
       "      <td>-0.574758</td>\n",
       "    </tr>\n",
       "    <tr>\n",
       "      <th>8</th>\n",
       "      <td>-0.257640</td>\n",
       "      <td>0.743518</td>\n",
       "      <td>0.103137</td>\n",
       "      <td>0.690715</td>\n",
       "      <td>-0.354765</td>\n",
       "      <td>0.441867</td>\n",
       "      <td>-0.499881</td>\n",
       "      <td>0.944359</td>\n",
       "      <td>1.000000</td>\n",
       "      <td>0.409159</td>\n",
       "      <td>-0.383749</td>\n",
       "      <td>0.367904</td>\n",
       "      <td>-0.333706</td>\n",
       "      <td>-0.227436</td>\n",
       "      <td>-0.593016</td>\n",
       "    </tr>\n",
       "    <tr>\n",
       "      <th>9</th>\n",
       "      <td>-0.262523</td>\n",
       "      <td>0.282389</td>\n",
       "      <td>-0.030505</td>\n",
       "      <td>0.099131</td>\n",
       "      <td>-0.363856</td>\n",
       "      <td>0.147185</td>\n",
       "      <td>-0.083598</td>\n",
       "      <td>0.441135</td>\n",
       "      <td>0.409159</td>\n",
       "      <td>1.000000</td>\n",
       "      <td>-0.156204</td>\n",
       "      <td>0.262200</td>\n",
       "      <td>-0.453794</td>\n",
       "      <td>-0.129344</td>\n",
       "      <td>-0.152630</td>\n",
       "    </tr>\n",
       "    <tr>\n",
       "      <th>10</th>\n",
       "      <td>0.145139</td>\n",
       "      <td>-0.324724</td>\n",
       "      <td>0.017520</td>\n",
       "      <td>-0.371033</td>\n",
       "      <td>0.099481</td>\n",
       "      <td>-0.231157</td>\n",
       "      <td>0.237879</td>\n",
       "      <td>-0.377976</td>\n",
       "      <td>-0.383749</td>\n",
       "      <td>-0.156204</td>\n",
       "      <td>1.000000</td>\n",
       "      <td>-0.313913</td>\n",
       "      <td>0.256790</td>\n",
       "      <td>0.005895</td>\n",
       "      <td>0.314845</td>\n",
       "    </tr>\n",
       "    <tr>\n",
       "      <th>11</th>\n",
       "      <td>-0.337898</td>\n",
       "      <td>0.562670</td>\n",
       "      <td>-0.061717</td>\n",
       "      <td>0.506199</td>\n",
       "      <td>-0.560947</td>\n",
       "      <td>0.471668</td>\n",
       "      <td>-0.380318</td>\n",
       "      <td>0.317398</td>\n",
       "      <td>0.367904</td>\n",
       "      <td>0.262200</td>\n",
       "      <td>-0.313913</td>\n",
       "      <td>1.000000</td>\n",
       "      <td>-0.685068</td>\n",
       "      <td>0.104723</td>\n",
       "      <td>-0.461937</td>\n",
       "    </tr>\n",
       "    <tr>\n",
       "      <th>12</th>\n",
       "      <td>0.193146</td>\n",
       "      <td>-0.396040</td>\n",
       "      <td>0.114753</td>\n",
       "      <td>-0.286387</td>\n",
       "      <td>0.686674</td>\n",
       "      <td>-0.261573</td>\n",
       "      <td>0.036360</td>\n",
       "      <td>-0.245235</td>\n",
       "      <td>-0.333706</td>\n",
       "      <td>-0.453794</td>\n",
       "      <td>0.256790</td>\n",
       "      <td>-0.685068</td>\n",
       "      <td>1.000000</td>\n",
       "      <td>0.122658</td>\n",
       "      <td>0.156371</td>\n",
       "    </tr>\n",
       "    <tr>\n",
       "      <th>13</th>\n",
       "      <td>-0.202371</td>\n",
       "      <td>0.063395</td>\n",
       "      <td>0.079472</td>\n",
       "      <td>0.063427</td>\n",
       "      <td>0.134248</td>\n",
       "      <td>0.226705</td>\n",
       "      <td>-0.160125</td>\n",
       "      <td>-0.243074</td>\n",
       "      <td>-0.227436</td>\n",
       "      <td>-0.129344</td>\n",
       "      <td>0.005895</td>\n",
       "      <td>0.104723</td>\n",
       "      <td>0.122658</td>\n",
       "      <td>1.000000</td>\n",
       "      <td>-0.577350</td>\n",
       "    </tr>\n",
       "    <tr>\n",
       "      <th>14</th>\n",
       "      <td>0.409133</td>\n",
       "      <td>-0.693969</td>\n",
       "      <td>-0.137649</td>\n",
       "      <td>-0.701661</td>\n",
       "      <td>0.188623</td>\n",
       "      <td>-0.602254</td>\n",
       "      <td>0.610582</td>\n",
       "      <td>-0.574758</td>\n",
       "      <td>-0.593016</td>\n",
       "      <td>-0.152630</td>\n",
       "      <td>0.314845</td>\n",
       "      <td>-0.461937</td>\n",
       "      <td>0.156371</td>\n",
       "      <td>-0.577350</td>\n",
       "      <td>1.000000</td>\n",
       "    </tr>\n",
       "  </tbody>\n",
       "</table>\n",
       "</div>"
      ],
      "text/plain": [
       "          0         1         2         3         4         5         6   \\\n",
       "0   1.000000 -0.413801 -0.020551 -0.459063  0.172917 -0.484837  0.593037   \n",
       "1  -0.413801  1.000000  0.157138  0.802464 -0.421951  0.620097 -0.676479   \n",
       "2  -0.020551  0.157138  1.000000  0.129360  0.072048  0.096141 -0.118997   \n",
       "3  -0.459063  0.802464  0.129360  1.000000 -0.297557  0.682188 -0.755101   \n",
       "4   0.172917 -0.421951  0.072048 -0.297557  1.000000 -0.201136  0.095502   \n",
       "5  -0.484837  0.620097  0.096141  0.682188 -0.201136  1.000000 -0.696931   \n",
       "6   0.593037 -0.676479 -0.118997 -0.755101  0.095502 -0.696931  1.000000   \n",
       "7  -0.254450  0.650419  0.095892  0.622817 -0.277106  0.401993 -0.470486   \n",
       "8  -0.257640  0.743518  0.103137  0.690715 -0.354765  0.441867 -0.499881   \n",
       "9  -0.262523  0.282389 -0.030505  0.099131 -0.363856  0.147185 -0.083598   \n",
       "10  0.145139 -0.324724  0.017520 -0.371033  0.099481 -0.231157  0.237879   \n",
       "11 -0.337898  0.562670 -0.061717  0.506199 -0.560947  0.471668 -0.380318   \n",
       "12  0.193146 -0.396040  0.114753 -0.286387  0.686674 -0.261573  0.036360   \n",
       "13 -0.202371  0.063395  0.079472  0.063427  0.134248  0.226705 -0.160125   \n",
       "14  0.409133 -0.693969 -0.137649 -0.701661  0.188623 -0.602254  0.610582   \n",
       "\n",
       "          7         8         9         10        11        12        13  \\\n",
       "0  -0.254450 -0.257640 -0.262523  0.145139 -0.337898  0.193146 -0.202371   \n",
       "1   0.650419  0.743518  0.282389 -0.324724  0.562670 -0.396040  0.063395   \n",
       "2   0.095892  0.103137 -0.030505  0.017520 -0.061717  0.114753  0.079472   \n",
       "3   0.622817  0.690715  0.099131 -0.371033  0.506199 -0.286387  0.063427   \n",
       "4  -0.277106 -0.354765 -0.363856  0.099481 -0.560947  0.686674  0.134248   \n",
       "5   0.401993  0.441867  0.147185 -0.231157  0.471668 -0.261573  0.226705   \n",
       "6  -0.470486 -0.499881 -0.083598  0.237879 -0.380318  0.036360 -0.160125   \n",
       "7   1.000000  0.944359  0.441135 -0.377976  0.317398 -0.245235 -0.243074   \n",
       "8   0.944359  1.000000  0.409159 -0.383749  0.367904 -0.333706 -0.227436   \n",
       "9   0.441135  0.409159  1.000000 -0.156204  0.262200 -0.453794 -0.129344   \n",
       "10 -0.377976 -0.383749 -0.156204  1.000000 -0.313913  0.256790  0.005895   \n",
       "11  0.317398  0.367904  0.262200 -0.313913  1.000000 -0.685068  0.104723   \n",
       "12 -0.245235 -0.333706 -0.453794  0.256790 -0.685068  1.000000  0.122658   \n",
       "13 -0.243074 -0.227436 -0.129344  0.005895  0.104723  0.122658  1.000000   \n",
       "14 -0.574758 -0.593016 -0.152630  0.314845 -0.461937  0.156371 -0.577350   \n",
       "\n",
       "          14  \n",
       "0   0.409133  \n",
       "1  -0.693969  \n",
       "2  -0.137649  \n",
       "3  -0.701661  \n",
       "4   0.188623  \n",
       "5  -0.602254  \n",
       "6   0.610582  \n",
       "7  -0.574758  \n",
       "8  -0.593016  \n",
       "9  -0.152630  \n",
       "10  0.314845  \n",
       "11 -0.461937  \n",
       "12  0.156371  \n",
       "13 -0.577350  \n",
       "14  1.000000  "
      ]
     },
     "execution_count": 59,
     "metadata": {},
     "output_type": "execute_result"
    }
   ],
   "source": [
    "pd.DataFrame(sc_df).corr()"
   ]
  },
  {
   "cell_type": "markdown",
   "metadata": {},
   "source": [
    "### 14-9"
   ]
  },
  {
   "cell_type": "code",
   "execution_count": 60,
   "metadata": {},
   "outputs": [
    {
     "data": {
      "text/html": [
       "<div>\n",
       "<style scoped>\n",
       "    .dataframe tbody tr th:only-of-type {\n",
       "        vertical-align: middle;\n",
       "    }\n",
       "\n",
       "    .dataframe tbody tr th {\n",
       "        vertical-align: top;\n",
       "    }\n",
       "\n",
       "    .dataframe thead th {\n",
       "        text-align: right;\n",
       "    }\n",
       "</style>\n",
       "<table border=\"1\" class=\"dataframe\">\n",
       "  <thead>\n",
       "    <tr style=\"text-align: right;\">\n",
       "      <th></th>\n",
       "      <th>0</th>\n",
       "      <th>1</th>\n",
       "    </tr>\n",
       "  </thead>\n",
       "  <tbody>\n",
       "    <tr>\n",
       "      <th>0</th>\n",
       "      <td>1.490417</td>\n",
       "      <td>-0.680415</td>\n",
       "    </tr>\n",
       "    <tr>\n",
       "      <th>1</th>\n",
       "      <td>0.703223</td>\n",
       "      <td>-0.252517</td>\n",
       "    </tr>\n",
       "    <tr>\n",
       "      <th>2</th>\n",
       "      <td>-1.403756</td>\n",
       "      <td>-0.613175</td>\n",
       "    </tr>\n",
       "  </tbody>\n",
       "</table>\n",
       "</div>"
      ],
      "text/plain": [
       "          0         1\n",
       "0  1.490417 -0.680415\n",
       "1  0.703223 -0.252517\n",
       "2 -1.403756 -0.613175"
      ]
     },
     "execution_count": 60,
     "metadata": {},
     "output_type": "execute_result"
    }
   ],
   "source": [
    "new = model.transform(sc_df)\n",
    "\n",
    "new_df = pd.DataFrame(new)\n",
    "new_df.head(3)"
   ]
  },
  {
   "cell_type": "code",
   "execution_count": 61,
   "metadata": {},
   "outputs": [
    {
     "name": "stdout",
     "output_type": "stream",
     "text": [
      "              0             1\n",
      "0  1.000000e+00  2.624164e-16\n",
      "1  2.624164e-16  1.000000e+00\n"
     ]
    },
    {
     "data": {
      "text/html": [
       "<div>\n",
       "<style scoped>\n",
       "    .dataframe tbody tr th:only-of-type {\n",
       "        vertical-align: middle;\n",
       "    }\n",
       "\n",
       "    .dataframe tbody tr th {\n",
       "        vertical-align: top;\n",
       "    }\n",
       "\n",
       "    .dataframe thead th {\n",
       "        text-align: right;\n",
       "    }\n",
       "</style>\n",
       "<table border=\"1\" class=\"dataframe\">\n",
       "  <thead>\n",
       "    <tr style=\"text-align: right;\">\n",
       "      <th></th>\n",
       "      <th>0</th>\n",
       "      <th>1</th>\n",
       "    </tr>\n",
       "  </thead>\n",
       "  <tbody>\n",
       "    <tr>\n",
       "      <th>0</th>\n",
       "      <td>1.000000e+00</td>\n",
       "      <td>2.911629e-16</td>\n",
       "    </tr>\n",
       "    <tr>\n",
       "      <th>1</th>\n",
       "      <td>2.911629e-16</td>\n",
       "      <td>1.000000e+00</td>\n",
       "    </tr>\n",
       "  </tbody>\n",
       "</table>\n",
       "</div>"
      ],
      "text/plain": [
       "              0             1\n",
       "0  1.000000e+00  2.911629e-16\n",
       "1  2.911629e-16  1.000000e+00"
      ]
     },
     "execution_count": 61,
     "metadata": {},
     "output_type": "execute_result"
    }
   ],
   "source": [
    "print(new_df.corr())\n",
    "new_df.cov()\n"
   ]
  },
  {
   "cell_type": "markdown",
   "metadata": {},
   "source": [
    "### 14-10"
   ]
  },
  {
   "cell_type": "code",
   "execution_count": 62,
   "metadata": {},
   "outputs": [
    {
     "data": {
      "text/html": [
       "<div>\n",
       "<style scoped>\n",
       "    .dataframe tbody tr th:only-of-type {\n",
       "        vertical-align: middle;\n",
       "    }\n",
       "\n",
       "    .dataframe tbody tr th {\n",
       "        vertical-align: top;\n",
       "    }\n",
       "\n",
       "    .dataframe thead th {\n",
       "        text-align: right;\n",
       "    }\n",
       "</style>\n",
       "<table border=\"1\" class=\"dataframe\">\n",
       "  <thead>\n",
       "    <tr style=\"text-align: right;\">\n",
       "      <th></th>\n",
       "      <th>ZN</th>\n",
       "      <th>INDUS</th>\n",
       "      <th>CHAS</th>\n",
       "      <th>NOX</th>\n",
       "      <th>RM</th>\n",
       "      <th>AGE</th>\n",
       "      <th>DIS</th>\n",
       "      <th>RAD</th>\n",
       "      <th>TAX</th>\n",
       "      <th>PTRATIO</th>\n",
       "      <th>B</th>\n",
       "      <th>LSTAT</th>\n",
       "      <th>PRICE</th>\n",
       "      <th>low</th>\n",
       "      <th>very_low</th>\n",
       "      <th>PC1</th>\n",
       "      <th>PC2</th>\n",
       "    </tr>\n",
       "  </thead>\n",
       "  <tbody>\n",
       "    <tr>\n",
       "      <th>0</th>\n",
       "      <td>-0.467750</td>\n",
       "      <td>1.249826</td>\n",
       "      <td>-0.229416</td>\n",
       "      <td>1.576995</td>\n",
       "      <td>-3.499220</td>\n",
       "      <td>0.800793</td>\n",
       "      <td>-1.128755</td>\n",
       "      <td>1.846563</td>\n",
       "      <td>1.776804</td>\n",
       "      <td>0.870770</td>\n",
       "      <td>-0.303459</td>\n",
       "      <td>-0.692464</td>\n",
       "      <td>0.424585</td>\n",
       "      <td>-0.577350</td>\n",
       "      <td>-1.0</td>\n",
       "      <td>1.490417</td>\n",
       "      <td>-0.680415</td>\n",
       "    </tr>\n",
       "    <tr>\n",
       "      <th>1</th>\n",
       "      <td>-0.467750</td>\n",
       "      <td>-0.337700</td>\n",
       "      <td>-0.229416</td>\n",
       "      <td>-0.048340</td>\n",
       "      <td>-0.374040</td>\n",
       "      <td>0.589124</td>\n",
       "      <td>0.019857</td>\n",
       "      <td>-0.574758</td>\n",
       "      <td>-0.462288</td>\n",
       "      <td>1.284683</td>\n",
       "      <td>-2.366667</td>\n",
       "      <td>2.336991</td>\n",
       "      <td>-1.077163</td>\n",
       "      <td>1.732051</td>\n",
       "      <td>-1.0</td>\n",
       "      <td>0.703223</td>\n",
       "      <td>-0.252517</td>\n",
       "    </tr>\n",
       "    <tr>\n",
       "      <th>2</th>\n",
       "      <td>3.432136</td>\n",
       "      <td>-1.311574</td>\n",
       "      <td>-0.229416</td>\n",
       "      <td>-1.158986</td>\n",
       "      <td>-0.096712</td>\n",
       "      <td>-0.975080</td>\n",
       "      <td>1.121690</td>\n",
       "      <td>-0.816890</td>\n",
       "      <td>-0.206570</td>\n",
       "      <td>-1.974883</td>\n",
       "      <td>0.356734</td>\n",
       "      <td>-0.646853</td>\n",
       "      <td>0.067526</td>\n",
       "      <td>-0.577350</td>\n",
       "      <td>1.0</td>\n",
       "      <td>-1.403756</td>\n",
       "      <td>-0.613175</td>\n",
       "    </tr>\n",
       "    <tr>\n",
       "      <th>3</th>\n",
       "      <td>-0.467750</td>\n",
       "      <td>1.853915</td>\n",
       "      <td>-0.229416</td>\n",
       "      <td>0.728209</td>\n",
       "      <td>-0.111102</td>\n",
       "      <td>1.159555</td>\n",
       "      <td>-1.101934</td>\n",
       "      <td>-0.574758</td>\n",
       "      <td>0.348525</td>\n",
       "      <td>1.388161</td>\n",
       "      <td>0.409624</td>\n",
       "      <td>0.976017</td>\n",
       "      <td>-0.594083</td>\n",
       "      <td>1.732051</td>\n",
       "      <td>-1.0</td>\n",
       "      <td>1.030971</td>\n",
       "      <td>0.560933</td>\n",
       "    </tr>\n",
       "    <tr>\n",
       "      <th>4</th>\n",
       "      <td>-0.467750</td>\n",
       "      <td>1.249826</td>\n",
       "      <td>-0.229416</td>\n",
       "      <td>0.637912</td>\n",
       "      <td>0.973358</td>\n",
       "      <td>0.072506</td>\n",
       "      <td>-0.684301</td>\n",
       "      <td>1.846563</td>\n",
       "      <td>1.776804</td>\n",
       "      <td>0.870770</td>\n",
       "      <td>0.034157</td>\n",
       "      <td>-0.024483</td>\n",
       "      <td>0.666125</td>\n",
       "      <td>-0.577350</td>\n",
       "      <td>-1.0</td>\n",
       "      <td>0.898674</td>\n",
       "      <td>0.272037</td>\n",
       "    </tr>\n",
       "    <tr>\n",
       "      <th>...</th>\n",
       "      <td>...</td>\n",
       "      <td>...</td>\n",
       "      <td>...</td>\n",
       "      <td>...</td>\n",
       "      <td>...</td>\n",
       "      <td>...</td>\n",
       "      <td>...</td>\n",
       "      <td>...</td>\n",
       "      <td>...</td>\n",
       "      <td>...</td>\n",
       "      <td>...</td>\n",
       "      <td>...</td>\n",
       "      <td>...</td>\n",
       "      <td>...</td>\n",
       "      <td>...</td>\n",
       "      <td>...</td>\n",
       "      <td>...</td>\n",
       "    </tr>\n",
       "    <tr>\n",
       "      <th>95</th>\n",
       "      <td>-0.467750</td>\n",
       "      <td>1.249826</td>\n",
       "      <td>-0.229416</td>\n",
       "      <td>1.775647</td>\n",
       "      <td>-0.022147</td>\n",
       "      <td>1.234896</td>\n",
       "      <td>-0.939511</td>\n",
       "      <td>1.846563</td>\n",
       "      <td>1.776804</td>\n",
       "      <td>0.870770</td>\n",
       "      <td>0.389178</td>\n",
       "      <td>0.700880</td>\n",
       "      <td>-0.531073</td>\n",
       "      <td>-0.577350</td>\n",
       "      <td>-1.0</td>\n",
       "      <td>1.456294</td>\n",
       "      <td>-0.118414</td>\n",
       "    </tr>\n",
       "    <tr>\n",
       "      <th>96</th>\n",
       "      <td>-0.467750</td>\n",
       "      <td>1.249826</td>\n",
       "      <td>-0.229416</td>\n",
       "      <td>1.008127</td>\n",
       "      <td>-0.623898</td>\n",
       "      <td>-0.623493</td>\n",
       "      <td>-0.426433</td>\n",
       "      <td>1.846563</td>\n",
       "      <td>1.776804</td>\n",
       "      <td>0.870770</td>\n",
       "      <td>-0.646482</td>\n",
       "      <td>0.338934</td>\n",
       "      <td>-0.373547</td>\n",
       "      <td>-0.577350</td>\n",
       "      <td>-1.0</td>\n",
       "      <td>1.135216</td>\n",
       "      <td>-0.656420</td>\n",
       "    </tr>\n",
       "    <tr>\n",
       "      <th>97</th>\n",
       "      <td>-0.467750</td>\n",
       "      <td>1.249826</td>\n",
       "      <td>-0.229416</td>\n",
       "      <td>1.152602</td>\n",
       "      <td>0.188466</td>\n",
       "      <td>1.098566</td>\n",
       "      <td>-1.238504</td>\n",
       "      <td>1.846563</td>\n",
       "      <td>1.776804</td>\n",
       "      <td>0.870770</td>\n",
       "      <td>0.409624</td>\n",
       "      <td>1.745519</td>\n",
       "      <td>-1.087664</td>\n",
       "      <td>-0.577350</td>\n",
       "      <td>-1.0</td>\n",
       "      <td>1.530951</td>\n",
       "      <td>-0.370069</td>\n",
       "    </tr>\n",
       "    <tr>\n",
       "      <th>98</th>\n",
       "      <td>-0.467750</td>\n",
       "      <td>-0.057173</td>\n",
       "      <td>-0.229416</td>\n",
       "      <td>0.005837</td>\n",
       "      <td>-0.421134</td>\n",
       "      <td>0.632175</td>\n",
       "      <td>0.024013</td>\n",
       "      <td>-0.574758</td>\n",
       "      <td>-0.480999</td>\n",
       "      <td>-0.060535</td>\n",
       "      <td>0.304858</td>\n",
       "      <td>0.956890</td>\n",
       "      <td>-0.594083</td>\n",
       "      <td>1.732051</td>\n",
       "      <td>-1.0</td>\n",
       "      <td>0.282690</td>\n",
       "      <td>0.473770</td>\n",
       "    </tr>\n",
       "    <tr>\n",
       "      <th>99</th>\n",
       "      <td>-0.467750</td>\n",
       "      <td>1.249826</td>\n",
       "      <td>-0.229416</td>\n",
       "      <td>1.351254</td>\n",
       "      <td>-1.024193</td>\n",
       "      <td>1.234896</td>\n",
       "      <td>-1.188486</td>\n",
       "      <td>1.846563</td>\n",
       "      <td>1.776804</td>\n",
       "      <td>0.870770</td>\n",
       "      <td>0.409624</td>\n",
       "      <td>2.760732</td>\n",
       "      <td>-1.938304</td>\n",
       "      <td>-0.577350</td>\n",
       "      <td>-1.0</td>\n",
       "      <td>1.844611</td>\n",
       "      <td>-1.051457</td>\n",
       "    </tr>\n",
       "  </tbody>\n",
       "</table>\n",
       "<p>100 rows × 17 columns</p>\n",
       "</div>"
      ],
      "text/plain": [
       "          ZN     INDUS      CHAS       NOX        RM       AGE       DIS  \\\n",
       "0  -0.467750  1.249826 -0.229416  1.576995 -3.499220  0.800793 -1.128755   \n",
       "1  -0.467750 -0.337700 -0.229416 -0.048340 -0.374040  0.589124  0.019857   \n",
       "2   3.432136 -1.311574 -0.229416 -1.158986 -0.096712 -0.975080  1.121690   \n",
       "3  -0.467750  1.853915 -0.229416  0.728209 -0.111102  1.159555 -1.101934   \n",
       "4  -0.467750  1.249826 -0.229416  0.637912  0.973358  0.072506 -0.684301   \n",
       "..       ...       ...       ...       ...       ...       ...       ...   \n",
       "95 -0.467750  1.249826 -0.229416  1.775647 -0.022147  1.234896 -0.939511   \n",
       "96 -0.467750  1.249826 -0.229416  1.008127 -0.623898 -0.623493 -0.426433   \n",
       "97 -0.467750  1.249826 -0.229416  1.152602  0.188466  1.098566 -1.238504   \n",
       "98 -0.467750 -0.057173 -0.229416  0.005837 -0.421134  0.632175  0.024013   \n",
       "99 -0.467750  1.249826 -0.229416  1.351254 -1.024193  1.234896 -1.188486   \n",
       "\n",
       "         RAD       TAX   PTRATIO         B     LSTAT     PRICE       low  \\\n",
       "0   1.846563  1.776804  0.870770 -0.303459 -0.692464  0.424585 -0.577350   \n",
       "1  -0.574758 -0.462288  1.284683 -2.366667  2.336991 -1.077163  1.732051   \n",
       "2  -0.816890 -0.206570 -1.974883  0.356734 -0.646853  0.067526 -0.577350   \n",
       "3  -0.574758  0.348525  1.388161  0.409624  0.976017 -0.594083  1.732051   \n",
       "4   1.846563  1.776804  0.870770  0.034157 -0.024483  0.666125 -0.577350   \n",
       "..       ...       ...       ...       ...       ...       ...       ...   \n",
       "95  1.846563  1.776804  0.870770  0.389178  0.700880 -0.531073 -0.577350   \n",
       "96  1.846563  1.776804  0.870770 -0.646482  0.338934 -0.373547 -0.577350   \n",
       "97  1.846563  1.776804  0.870770  0.409624  1.745519 -1.087664 -0.577350   \n",
       "98 -0.574758 -0.480999 -0.060535  0.304858  0.956890 -0.594083  1.732051   \n",
       "99  1.846563  1.776804  0.870770  0.409624  2.760732 -1.938304 -0.577350   \n",
       "\n",
       "    very_low       PC1       PC2  \n",
       "0       -1.0  1.490417 -0.680415  \n",
       "1       -1.0  0.703223 -0.252517  \n",
       "2        1.0 -1.403756 -0.613175  \n",
       "3       -1.0  1.030971  0.560933  \n",
       "4       -1.0  0.898674  0.272037  \n",
       "..       ...       ...       ...  \n",
       "95      -1.0  1.456294 -0.118414  \n",
       "96      -1.0  1.135216 -0.656420  \n",
       "97      -1.0  1.530951 -0.370069  \n",
       "98      -1.0  0.282690  0.473770  \n",
       "99      -1.0  1.844611 -1.051457  \n",
       "\n",
       "[100 rows x 17 columns]"
      ]
     },
     "execution_count": 62,
     "metadata": {},
     "output_type": "execute_result"
    }
   ],
   "source": [
    "new_df.columns = ['PC1', 'PC2']\n",
    "# 標準化済の既存データ（numpy)をデータフレーム化\n",
    "df5 = pd.DataFrame(sc_df, columns = df4.columns)\n",
    "# 2つのデータフレームを列方向に結合\n",
    "df6 = pd.concat([df5, new_df], axis=1)\n",
    "df6"
   ]
  },
  {
   "cell_type": "markdown",
   "metadata": {},
   "source": [
    "### 14-11"
   ]
  },
  {
   "cell_type": "code",
   "execution_count": 63,
   "metadata": {},
   "outputs": [
    {
     "data": {
      "text/html": [
       "<div>\n",
       "<style scoped>\n",
       "    .dataframe tbody tr th:only-of-type {\n",
       "        vertical-align: middle;\n",
       "    }\n",
       "\n",
       "    .dataframe tbody tr th {\n",
       "        vertical-align: top;\n",
       "    }\n",
       "\n",
       "    .dataframe thead th {\n",
       "        text-align: right;\n",
       "    }\n",
       "</style>\n",
       "<table border=\"1\" class=\"dataframe\">\n",
       "  <thead>\n",
       "    <tr style=\"text-align: right;\">\n",
       "      <th></th>\n",
       "      <th>PC1</th>\n",
       "      <th>PC2</th>\n",
       "    </tr>\n",
       "  </thead>\n",
       "  <tbody>\n",
       "    <tr>\n",
       "      <th>ZN</th>\n",
       "      <td>-0.560802</td>\n",
       "      <td>-0.226097</td>\n",
       "    </tr>\n",
       "    <tr>\n",
       "      <th>INDUS</th>\n",
       "      <td>0.891989</td>\n",
       "      <td>0.041801</td>\n",
       "    </tr>\n",
       "    <tr>\n",
       "      <th>CHAS</th>\n",
       "      <td>0.104808</td>\n",
       "      <td>0.291786</td>\n",
       "    </tr>\n",
       "    <tr>\n",
       "      <th>NOX</th>\n",
       "      <td>0.868891</td>\n",
       "      <td>0.203678</td>\n",
       "    </tr>\n",
       "    <tr>\n",
       "      <th>RM</th>\n",
       "      <td>-0.483825</td>\n",
       "      <td>0.596553</td>\n",
       "    </tr>\n",
       "    <tr>\n",
       "      <th>AGE</th>\n",
       "      <td>0.739745</td>\n",
       "      <td>0.295669</td>\n",
       "    </tr>\n",
       "    <tr>\n",
       "      <th>DIS</th>\n",
       "      <td>-0.744414</td>\n",
       "      <td>-0.432478</td>\n",
       "    </tr>\n",
       "    <tr>\n",
       "      <th>RAD</th>\n",
       "      <td>0.762947</td>\n",
       "      <td>-0.151461</td>\n",
       "    </tr>\n",
       "    <tr>\n",
       "      <th>TAX</th>\n",
       "      <td>0.814979</td>\n",
       "      <td>-0.170203</td>\n",
       "    </tr>\n",
       "    <tr>\n",
       "      <th>PTRATIO</th>\n",
       "      <td>0.403417</td>\n",
       "      <td>-0.501855</td>\n",
       "    </tr>\n",
       "    <tr>\n",
       "      <th>B</th>\n",
       "      <td>-0.453200</td>\n",
       "      <td>0.083456</td>\n",
       "    </tr>\n",
       "    <tr>\n",
       "      <th>LSTAT</th>\n",
       "      <td>0.683921</td>\n",
       "      <td>-0.263043</td>\n",
       "    </tr>\n",
       "    <tr>\n",
       "      <th>PRICE</th>\n",
       "      <td>-0.501186</td>\n",
       "      <td>0.654321</td>\n",
       "    </tr>\n",
       "    <tr>\n",
       "      <th>low</th>\n",
       "      <td>0.095129</td>\n",
       "      <td>0.622828</td>\n",
       "    </tr>\n",
       "    <tr>\n",
       "      <th>very_low</th>\n",
       "      <td>-0.781958</td>\n",
       "      <td>-0.408543</td>\n",
       "    </tr>\n",
       "  </tbody>\n",
       "</table>\n",
       "</div>"
      ],
      "text/plain": [
       "               PC1       PC2\n",
       "ZN       -0.560802 -0.226097\n",
       "INDUS     0.891989  0.041801\n",
       "CHAS      0.104808  0.291786\n",
       "NOX       0.868891  0.203678\n",
       "RM       -0.483825  0.596553\n",
       "AGE       0.739745  0.295669\n",
       "DIS      -0.744414 -0.432478\n",
       "RAD       0.762947 -0.151461\n",
       "TAX       0.814979 -0.170203\n",
       "PTRATIO   0.403417 -0.501855\n",
       "B        -0.453200  0.083456\n",
       "LSTAT     0.683921 -0.263043\n",
       "PRICE    -0.501186  0.654321\n",
       "low       0.095129  0.622828\n",
       "very_low -0.781958 -0.408543"
      ]
     },
     "execution_count": 63,
     "metadata": {},
     "output_type": "execute_result"
    }
   ],
   "source": [
    "df_corr = df6.corr() # 相関係数の計算\n",
    "df_corr.loc[:'very_low', 'PC1':] #先頭からvery_low行まで, PC1列から最後(PC2)まで"
   ]
  },
  {
   "cell_type": "markdown",
   "metadata": {},
   "source": [
    "### 14-12"
   ]
  },
  {
   "cell_type": "code",
   "execution_count": 64,
   "metadata": {},
   "outputs": [
    {
     "data": {
      "text/plain": [
       "INDUS       0.891989\n",
       "NOX         0.868891\n",
       "TAX         0.814979\n",
       "RAD         0.762947\n",
       "AGE         0.739745\n",
       "LSTAT       0.683921\n",
       "PTRATIO     0.403417\n",
       "CHAS        0.104808\n",
       "low         0.095129\n",
       "B          -0.453200\n",
       "RM         -0.483825\n",
       "PRICE      -0.501186\n",
       "ZN         -0.560802\n",
       "DIS        -0.744414\n",
       "very_low   -0.781958\n",
       "Name: PC1, dtype: float64"
      ]
     },
     "execution_count": 64,
     "metadata": {},
     "output_type": "execute_result"
    }
   ],
   "source": [
    "# わかりやすいように変数に代入\n",
    "pc_corr = df_corr.loc[:'very_low', 'PC1':]\n",
    "\n",
    "pc_corr['PC1'].sort_values(ascending = False)"
   ]
  },
  {
   "cell_type": "markdown",
   "metadata": {},
   "source": [
    "### 14-13"
   ]
  },
  {
   "cell_type": "code",
   "execution_count": 65,
   "metadata": {},
   "outputs": [
    {
     "data": {
      "text/plain": [
       "PRICE       0.654321\n",
       "low         0.622828\n",
       "RM          0.596553\n",
       "AGE         0.295669\n",
       "CHAS        0.291786\n",
       "NOX         0.203678\n",
       "B           0.083456\n",
       "INDUS       0.041801\n",
       "RAD        -0.151461\n",
       "TAX        -0.170203\n",
       "ZN         -0.226097\n",
       "LSTAT      -0.263043\n",
       "very_low   -0.408543\n",
       "DIS        -0.432478\n",
       "PTRATIO    -0.501855\n",
       "Name: PC2, dtype: float64"
      ]
     },
     "execution_count": 65,
     "metadata": {},
     "output_type": "execute_result"
    }
   ],
   "source": [
    "pc_corr['PC2'].sort_values(ascending = False)"
   ]
  },
  {
   "cell_type": "code",
   "execution_count": 66,
   "metadata": {},
   "outputs": [
    {
     "data": {
      "text/plain": [
       "PRICE    0.654321\n",
       "low      0.622828\n",
       "RM       0.596553\n",
       "Name: PC2, dtype: float64"
      ]
     },
     "execution_count": 66,
     "metadata": {},
     "output_type": "execute_result"
    }
   ],
   "source": [
    "#0.55以上を抽出\n",
    "pc_corr['PC2'].sort_values(ascending = False).where(pc_corr['PC2']>=0.55).dropna()"
   ]
  },
  {
   "cell_type": "markdown",
   "metadata": {},
   "source": [
    "### 14-14"
   ]
  },
  {
   "cell_type": "code",
   "execution_count": 67,
   "metadata": {},
   "outputs": [
    {
     "data": {
      "text/plain": [
       "<Axes: xlabel='City', ylabel='Exclusive residential'>"
      ]
     },
     "execution_count": 67,
     "metadata": {},
     "output_type": "execute_result"
    },
    {
     "data": {
      "image/png": "[encoded data removed]",
      "text/plain": [
       "<Figure size 640x480 with 1 Axes>"
      ]
     },
     "metadata": {},
     "output_type": "display_data"
    }
   ],
   "source": [
    "#都市の発展度合いと住環境の良さ\n",
    "col = ['City', 'Exclusive residential']\n",
    "\n",
    "new_df.columns = col # 列名の変更\n",
    "\n",
    "new_df.plot(kind = 'scatter', x = 'City',\n",
    "    y = 'Exclusive residential') # 散布図"
   ]
  },
  {
   "cell_type": "code",
   "execution_count": 68,
   "metadata": {},
   "outputs": [
    {
     "data": {
      "text/html": [
       "<div>\n",
       "<style scoped>\n",
       "    .dataframe tbody tr th:only-of-type {\n",
       "        vertical-align: middle;\n",
       "    }\n",
       "\n",
       "    .dataframe tbody tr th {\n",
       "        vertical-align: top;\n",
       "    }\n",
       "\n",
       "    .dataframe thead th {\n",
       "        text-align: right;\n",
       "    }\n",
       "</style>\n",
       "<table border=\"1\" class=\"dataframe\">\n",
       "  <thead>\n",
       "    <tr style=\"text-align: right;\">\n",
       "      <th></th>\n",
       "      <th>City</th>\n",
       "      <th>Exclusive residential</th>\n",
       "    </tr>\n",
       "  </thead>\n",
       "  <tbody>\n",
       "    <tr>\n",
       "      <th>City</th>\n",
       "      <td>1.000000e+00</td>\n",
       "      <td>2.624164e-16</td>\n",
       "    </tr>\n",
       "    <tr>\n",
       "      <th>Exclusive residential</th>\n",
       "      <td>2.624164e-16</td>\n",
       "      <td>1.000000e+00</td>\n",
       "    </tr>\n",
       "  </tbody>\n",
       "</table>\n",
       "</div>"
      ],
      "text/plain": [
       "                               City  Exclusive residential\n",
       "City                   1.000000e+00           2.624164e-16\n",
       "Exclusive residential  2.624164e-16           1.000000e+00"
      ]
     },
     "execution_count": 68,
     "metadata": {},
     "output_type": "execute_result"
    }
   ],
   "source": [
    "new_df.corr()"
   ]
  },
  {
   "cell_type": "markdown",
   "metadata": {},
   "source": [
    "### 14-15"
   ]
  },
  {
   "cell_type": "code",
   "execution_count": 69,
   "metadata": {},
   "outputs": [
    {
     "data": {
      "text/plain": [
       "(100, 15)"
      ]
     },
     "execution_count": 69,
     "metadata": {},
     "output_type": "execute_result"
    }
   ],
   "source": [
    "model = PCA(whiten = True)\n",
    "\n",
    "# 学習と新規軸へのデータの当てはめを一括で行う\n",
    "tmp = model.fit_transform(sc_df)\n",
    "tmp.shape"
   ]
  },
  {
   "cell_type": "markdown",
   "metadata": {},
   "source": [
    "### 14-16"
   ]
  },
  {
   "cell_type": "code",
   "execution_count": 70,
   "metadata": {},
   "outputs": [
    {
     "name": "stdout",
     "output_type": "stream",
     "text": [
      "[6.22769528 2.19465125 1.54434815 0.97711428 0.94449762 0.88035322\n",
      " 0.73389564 0.43715569 0.32461079 0.27756996 0.23832489 0.16191077\n",
      " 0.13916144 0.04205272 0.02817345]\n"
     ]
    },
    {
     "data": {
      "text/plain": [
       "array([0.41102789, 0.14484698, 0.10192698, 0.06448954, 0.06233684,\n",
       "       0.05810331, 0.04843711, 0.02885228, 0.02142431, 0.01831962,\n",
       "       0.01572944, 0.01068611, 0.00918466, 0.00277548, 0.00185945])"
      ]
     },
     "execution_count": 70,
     "metadata": {},
     "output_type": "execute_result"
    }
   ],
   "source": [
    "print(model.explained_variance_)\n",
    "model.explained_variance_ratio_ # 寄与率\n"
   ]
  },
  {
   "cell_type": "markdown",
   "metadata": {},
   "source": [
    "### 14-17"
   ]
  },
  {
   "cell_type": "code",
   "execution_count": 71,
   "metadata": {},
   "outputs": [
    {
     "data": {
      "text/plain": [
       "<Axes: >"
      ]
     },
     "execution_count": 71,
     "metadata": {},
     "output_type": "execute_result"
    },
    {
     "data": {
      "image/png": "[encoded data removed]",
      "text/plain": [
       "<Figure size 640x480 with 1 Axes>"
      ]
     },
     "metadata": {},
     "output_type": "display_data"
    }
   ],
   "source": [
    "ratio = model.explained_variance_ratio_ # 寄与率のデータ集合\n",
    "\n",
    "array = [] # 第N列までの累積寄与率を格納するリスト\n",
    "for i in range(len(ratio)):\n",
    "# 累積寄与率の計算\n",
    "    ruiseki = sum(ratio[0:(i+1)])\n",
    "\n",
    "    array.append(ruiseki) # 累積寄与率の格納\n",
    "\n",
    "# 第N列の累積寄与率を折れ線グラフ化\n",
    "pd.Series(array).plot(kind = 'line')"
   ]
  },
  {
   "cell_type": "markdown",
   "metadata": {},
   "source": [
    "### 14-18"
   ]
  },
  {
   "cell_type": "code",
   "execution_count": 72,
   "metadata": {},
   "outputs": [
    {
     "name": "stdout",
     "output_type": "stream",
     "text": [
      "6\n"
     ]
    }
   ],
   "source": [
    "thred = 0.8 # 累積寄与率のしきい値\n",
    "for i in range(len(array)):\n",
    " # 第(i + 1)列の累積寄与率がthredより大きいかチェック\n",
    "    if array[i] >= thred:\n",
    "        print(i + 1)\n",
    "        break"
   ]
  },
  {
   "cell_type": "markdown",
   "metadata": {},
   "source": [
    "### 14-19"
   ]
  },
  {
   "cell_type": "code",
   "execution_count": 73,
   "metadata": {},
   "outputs": [],
   "source": [
    "model = PCA(n_components=6, whiten = True)\n",
    "\n",
    "model.fit (sc_df) # 学習\n",
    "\n",
    "# 元データを新規の列（6列）に当てはめる\n",
    "new = model.transform(sc_df)"
   ]
  },
  {
   "cell_type": "markdown",
   "metadata": {},
   "source": [
    "### 14-20"
   ]
  },
  {
   "cell_type": "code",
   "execution_count": 74,
   "metadata": {},
   "outputs": [],
   "source": [
    "# 主成分分析の結果をデータフレームに変換\n",
    "col = ['PC1', 'PC2', 'PC3', 'PC4', 'PC5', 'PC6']\n",
    "new_df2 = pd.DataFrame(new, columns = col)\n",
    "\n",
    "# データフレームをcsvファイルとして保存\n",
    "new_df2.to_csv('boston_pca.csv', index = False)"
   ]
  },
  {
   "cell_type": "markdown",
   "metadata": {},
   "source": [
    "### 練習"
   ]
  },
  {
   "cell_type": "code",
   "execution_count": 101,
   "metadata": {},
   "outputs": [
    {
     "name": "stdout",
     "output_type": "stream",
     "text": [
      "PCA(n_components=3, whiten=True)\n",
      "[ 0.12101673 -0.44673982 -0.36331076 -0.50500501 -0.28365376 -0.56417574]\n",
      "-----\n",
      "[ 0.96223508 -0.02351082 -0.12616724  0.10866552  0.17740259  0.11980333]\n",
      "              0             1             2\n",
      "0  1.000000e+00 -3.162453e-16  5.551115e-17\n",
      "1 -3.162453e-16  1.000000e+00  2.287732e-16\n",
      "2  5.551115e-17  2.287732e-16  1.000000e+00\n"
     ]
    },
    {
     "data": {
      "text/html": [
       "<div>\n",
       "<style scoped>\n",
       "    .dataframe tbody tr th:only-of-type {\n",
       "        vertical-align: middle;\n",
       "    }\n",
       "\n",
       "    .dataframe tbody tr th {\n",
       "        vertical-align: top;\n",
       "    }\n",
       "\n",
       "    .dataframe thead th {\n",
       "        text-align: right;\n",
       "    }\n",
       "</style>\n",
       "<table border=\"1\" class=\"dataframe\">\n",
       "  <thead>\n",
       "    <tr style=\"text-align: right;\">\n",
       "      <th></th>\n",
       "      <th>SNS1</th>\n",
       "      <th>SNS2</th>\n",
       "      <th>actor</th>\n",
       "      <th>original</th>\n",
       "      <th>sales</th>\n",
       "    </tr>\n",
       "  </thead>\n",
       "  <tbody>\n",
       "    <tr>\n",
       "      <th>PC1</th>\n",
       "      <td>-0.737626</td>\n",
       "      <td>-0.599874</td>\n",
       "      <td>-0.833829</td>\n",
       "      <td>-0.468350</td>\n",
       "      <td>-0.931528</td>\n",
       "    </tr>\n",
       "    <tr>\n",
       "      <th>PC2</th>\n",
       "      <td>-0.023325</td>\n",
       "      <td>-0.125172</td>\n",
       "      <td>0.107809</td>\n",
       "      <td>0.176003</td>\n",
       "      <td>0.118858</td>\n",
       "    </tr>\n",
       "    <tr>\n",
       "      <th>PC3</th>\n",
       "      <td>0.044873</td>\n",
       "      <td>0.517504</td>\n",
       "      <td>0.062596</td>\n",
       "      <td>-0.782241</td>\n",
       "      <td>0.012352</td>\n",
       "    </tr>\n",
       "  </tbody>\n",
       "</table>\n",
       "</div>"
      ],
      "text/plain": [
       "         SNS1      SNS2     actor  original     sales\n",
       "PC1 -0.737626 -0.599874 -0.833829 -0.468350 -0.931528\n",
       "PC2 -0.023325 -0.125172  0.107809  0.176003  0.118858\n",
       "PC3  0.044873  0.517504  0.062596 -0.782241  0.012352"
      ]
     },
     "execution_count": 101,
     "metadata": {},
     "output_type": "execute_result"
    }
   ],
   "source": [
    "import pandas as pd\n",
    "df= pd.read_csv(\"../datafiles/Cinema.csv\")\n",
    "# df\n",
    "\n",
    "# df.isnull().sum()\n",
    "df2=df.fillna(df.mean(numeric_only=True))\n",
    "df2.isnull().sum()\n",
    "\n",
    "#ダミー処理は不要\n",
    "df3=df2\n",
    "\n",
    "from sklearn.preprocessing import StandardScaler\n",
    " # 中身が整数だと、fit_transformで警告になるので、\n",
    "# float型に変換（省略可能）\n",
    "df4 = df3.astype('float')\n",
    "# 標準化\n",
    "sc = StandardScaler()\n",
    "sc_df = sc.fit_transform(df4)\n",
    "\n",
    "from sklearn.decomposition import PCA\n",
    "\n",
    "#14-6\n",
    "model = PCA(n_components = 3, whiten = True) # モデル作成\n",
    "\n",
    "# モデルに学習させる\n",
    "model.fit(sc_df)\n",
    "\n",
    "print(model)\n",
    "# 新規の第１軸（第１主成分とも呼ぶ）の固有ベクトル\n",
    "print( model.components_[0] )\n",
    "print('-----')\n",
    "# 新規の第2軸（第2主成分とも呼ぶ）の固有ベクトル\n",
    "print(model.components_[1])\n",
    "\n",
    "pd.DataFrame(sc_df).corr()\n",
    "\n",
    "new = model.transform(sc_df)\n",
    "\n",
    "new_df = pd.DataFrame(new)\n",
    "new_df.head(3)\n",
    "\n",
    "print(new_df.corr())\n",
    "new_df.cov()\n",
    "\n",
    "new_df.columns = ['PC1', 'PC2',\"PC3\"]\n",
    "# 標準化済の既存データ（numpy)をデータフレーム化\n",
    "df5 = pd.DataFrame(sc_df, columns = df4.columns)\n",
    "# 2つのデータフレームを列方向に結合\n",
    "df6 = pd.concat([new_df,df5], axis=1)\n",
    "df6\n",
    "\n",
    "df_corr = df6.corr() # 相関係数の計算\n",
    "df_corr.loc[\"PC1\":\"PC3\", 'SNS1':] #先頭からvery_low行まで, PC1列から最後(PC2)まで"
   ]
  },
  {
   "cell_type": "markdown",
   "metadata": {},
   "source": [
    "### 練習回答"
   ]
  },
  {
   "cell_type": "code",
   "execution_count": 80,
   "metadata": {},
   "outputs": [
    {
     "ename": "FileNotFoundError",
     "evalue": "[Errno 2] No such file or directory: 'cinema.csv'",
     "output_type": "error",
     "traceback": [
      "\u001b[1;31m---------------------------------------------------------------------------\u001b[0m",
      "\u001b[1;31mFileNotFoundError\u001b[0m                         Traceback (most recent call last)",
      "Cell \u001b[1;32mIn[80], line 1\u001b[0m\n\u001b[1;32m----> 1\u001b[0m df \u001b[38;5;241m=\u001b[39m \u001b[43mpd\u001b[49m\u001b[38;5;241;43m.\u001b[39;49m\u001b[43mread_csv\u001b[49m\u001b[43m(\u001b[49m\u001b[38;5;124;43m'\u001b[39;49m\u001b[38;5;124;43mcinema.csv\u001b[39;49m\u001b[38;5;124;43m'\u001b[39;49m\u001b[43m)\u001b[49m\n\u001b[0;32m      2\u001b[0m df \u001b[38;5;241m=\u001b[39m df\u001b[38;5;241m.\u001b[39mdrop(\u001b[38;5;124m'\u001b[39m\u001b[38;5;124mcinema_id\u001b[39m\u001b[38;5;124m'\u001b[39m, axis \u001b[38;5;241m=\u001b[39m \u001b[38;5;241m1\u001b[39m)\n\u001b[0;32m      3\u001b[0m \u001b[38;5;66;03m# 欠損値補完\u001b[39;00m\n",
      "File \u001b[1;32mc:\\Users\\user\\anaconda3\\envs\\py39\\lib\\site-packages\\pandas\\io\\parsers\\readers.py:948\u001b[0m, in \u001b[0;36mread_csv\u001b[1;34m(filepath_or_buffer, sep, delimiter, header, names, index_col, usecols, dtype, engine, converters, true_values, false_values, skipinitialspace, skiprows, skipfooter, nrows, na_values, keep_default_na, na_filter, verbose, skip_blank_lines, parse_dates, infer_datetime_format, keep_date_col, date_parser, date_format, dayfirst, cache_dates, iterator, chunksize, compression, thousands, decimal, lineterminator, quotechar, quoting, doublequote, escapechar, comment, encoding, encoding_errors, dialect, on_bad_lines, delim_whitespace, low_memory, memory_map, float_precision, storage_options, dtype_backend)\u001b[0m\n\u001b[0;32m    935\u001b[0m kwds_defaults \u001b[38;5;241m=\u001b[39m _refine_defaults_read(\n\u001b[0;32m    936\u001b[0m     dialect,\n\u001b[0;32m    937\u001b[0m     delimiter,\n\u001b[1;32m   (...)\u001b[0m\n\u001b[0;32m    944\u001b[0m     dtype_backend\u001b[38;5;241m=\u001b[39mdtype_backend,\n\u001b[0;32m    945\u001b[0m )\n\u001b[0;32m    946\u001b[0m kwds\u001b[38;5;241m.\u001b[39mupdate(kwds_defaults)\n\u001b[1;32m--> 948\u001b[0m \u001b[38;5;28;01mreturn\u001b[39;00m \u001b[43m_read\u001b[49m\u001b[43m(\u001b[49m\u001b[43mfilepath_or_buffer\u001b[49m\u001b[43m,\u001b[49m\u001b[43m \u001b[49m\u001b[43mkwds\u001b[49m\u001b[43m)\u001b[49m\n",
      "File \u001b[1;32mc:\\Users\\user\\anaconda3\\envs\\py39\\lib\\site-packages\\pandas\\io\\parsers\\readers.py:611\u001b[0m, in \u001b[0;36m_read\u001b[1;34m(filepath_or_buffer, kwds)\u001b[0m\n\u001b[0;32m    608\u001b[0m _validate_names(kwds\u001b[38;5;241m.\u001b[39mget(\u001b[38;5;124m\"\u001b[39m\u001b[38;5;124mnames\u001b[39m\u001b[38;5;124m\"\u001b[39m, \u001b[38;5;28;01mNone\u001b[39;00m))\n\u001b[0;32m    610\u001b[0m \u001b[38;5;66;03m# Create the parser.\u001b[39;00m\n\u001b[1;32m--> 611\u001b[0m parser \u001b[38;5;241m=\u001b[39m TextFileReader(filepath_or_buffer, \u001b[38;5;241m*\u001b[39m\u001b[38;5;241m*\u001b[39mkwds)\n\u001b[0;32m    613\u001b[0m \u001b[38;5;28;01mif\u001b[39;00m chunksize \u001b[38;5;129;01mor\u001b[39;00m iterator:\n\u001b[0;32m    614\u001b[0m     \u001b[38;5;28;01mreturn\u001b[39;00m parser\n",
      "File \u001b[1;32mc:\\Users\\user\\anaconda3\\envs\\py39\\lib\\site-packages\\pandas\\io\\parsers\\readers.py:1448\u001b[0m, in \u001b[0;36mTextFileReader.__init__\u001b[1;34m(self, f, engine, **kwds)\u001b[0m\n\u001b[0;32m   1445\u001b[0m     \u001b[38;5;28mself\u001b[39m\u001b[38;5;241m.\u001b[39moptions[\u001b[38;5;124m\"\u001b[39m\u001b[38;5;124mhas_index_names\u001b[39m\u001b[38;5;124m\"\u001b[39m] \u001b[38;5;241m=\u001b[39m kwds[\u001b[38;5;124m\"\u001b[39m\u001b[38;5;124mhas_index_names\u001b[39m\u001b[38;5;124m\"\u001b[39m]\n\u001b[0;32m   1447\u001b[0m \u001b[38;5;28mself\u001b[39m\u001b[38;5;241m.\u001b[39mhandles: IOHandles \u001b[38;5;241m|\u001b[39m \u001b[38;5;28;01mNone\u001b[39;00m \u001b[38;5;241m=\u001b[39m \u001b[38;5;28;01mNone\u001b[39;00m\n\u001b[1;32m-> 1448\u001b[0m \u001b[38;5;28mself\u001b[39m\u001b[38;5;241m.\u001b[39m_engine \u001b[38;5;241m=\u001b[39m \u001b[38;5;28;43mself\u001b[39;49m\u001b[38;5;241;43m.\u001b[39;49m\u001b[43m_make_engine\u001b[49m\u001b[43m(\u001b[49m\u001b[43mf\u001b[49m\u001b[43m,\u001b[49m\u001b[43m \u001b[49m\u001b[38;5;28;43mself\u001b[39;49m\u001b[38;5;241;43m.\u001b[39;49m\u001b[43mengine\u001b[49m\u001b[43m)\u001b[49m\n",
      "File \u001b[1;32mc:\\Users\\user\\anaconda3\\envs\\py39\\lib\\site-packages\\pandas\\io\\parsers\\readers.py:1705\u001b[0m, in \u001b[0;36mTextFileReader._make_engine\u001b[1;34m(self, f, engine)\u001b[0m\n\u001b[0;32m   1703\u001b[0m     \u001b[38;5;28;01mif\u001b[39;00m \u001b[38;5;124m\"\u001b[39m\u001b[38;5;124mb\u001b[39m\u001b[38;5;124m\"\u001b[39m \u001b[38;5;129;01mnot\u001b[39;00m \u001b[38;5;129;01min\u001b[39;00m mode:\n\u001b[0;32m   1704\u001b[0m         mode \u001b[38;5;241m+\u001b[39m\u001b[38;5;241m=\u001b[39m \u001b[38;5;124m\"\u001b[39m\u001b[38;5;124mb\u001b[39m\u001b[38;5;124m\"\u001b[39m\n\u001b[1;32m-> 1705\u001b[0m \u001b[38;5;28mself\u001b[39m\u001b[38;5;241m.\u001b[39mhandles \u001b[38;5;241m=\u001b[39m \u001b[43mget_handle\u001b[49m\u001b[43m(\u001b[49m\n\u001b[0;32m   1706\u001b[0m \u001b[43m    \u001b[49m\u001b[43mf\u001b[49m\u001b[43m,\u001b[49m\n\u001b[0;32m   1707\u001b[0m \u001b[43m    \u001b[49m\u001b[43mmode\u001b[49m\u001b[43m,\u001b[49m\n\u001b[0;32m   1708\u001b[0m \u001b[43m    \u001b[49m\u001b[43mencoding\u001b[49m\u001b[38;5;241;43m=\u001b[39;49m\u001b[38;5;28;43mself\u001b[39;49m\u001b[38;5;241;43m.\u001b[39;49m\u001b[43moptions\u001b[49m\u001b[38;5;241;43m.\u001b[39;49m\u001b[43mget\u001b[49m\u001b[43m(\u001b[49m\u001b[38;5;124;43m\"\u001b[39;49m\u001b[38;5;124;43mencoding\u001b[39;49m\u001b[38;5;124;43m\"\u001b[39;49m\u001b[43m,\u001b[49m\u001b[43m \u001b[49m\u001b[38;5;28;43;01mNone\u001b[39;49;00m\u001b[43m)\u001b[49m\u001b[43m,\u001b[49m\n\u001b[0;32m   1709\u001b[0m \u001b[43m    \u001b[49m\u001b[43mcompression\u001b[49m\u001b[38;5;241;43m=\u001b[39;49m\u001b[38;5;28;43mself\u001b[39;49m\u001b[38;5;241;43m.\u001b[39;49m\u001b[43moptions\u001b[49m\u001b[38;5;241;43m.\u001b[39;49m\u001b[43mget\u001b[49m\u001b[43m(\u001b[49m\u001b[38;5;124;43m\"\u001b[39;49m\u001b[38;5;124;43mcompression\u001b[39;49m\u001b[38;5;124;43m\"\u001b[39;49m\u001b[43m,\u001b[49m\u001b[43m \u001b[49m\u001b[38;5;28;43;01mNone\u001b[39;49;00m\u001b[43m)\u001b[49m\u001b[43m,\u001b[49m\n\u001b[0;32m   1710\u001b[0m \u001b[43m    \u001b[49m\u001b[43mmemory_map\u001b[49m\u001b[38;5;241;43m=\u001b[39;49m\u001b[38;5;28;43mself\u001b[39;49m\u001b[38;5;241;43m.\u001b[39;49m\u001b[43moptions\u001b[49m\u001b[38;5;241;43m.\u001b[39;49m\u001b[43mget\u001b[49m\u001b[43m(\u001b[49m\u001b[38;5;124;43m\"\u001b[39;49m\u001b[38;5;124;43mmemory_map\u001b[39;49m\u001b[38;5;124;43m\"\u001b[39;49m\u001b[43m,\u001b[49m\u001b[43m \u001b[49m\u001b[38;5;28;43;01mFalse\u001b[39;49;00m\u001b[43m)\u001b[49m\u001b[43m,\u001b[49m\n\u001b[0;32m   1711\u001b[0m \u001b[43m    \u001b[49m\u001b[43mis_text\u001b[49m\u001b[38;5;241;43m=\u001b[39;49m\u001b[43mis_text\u001b[49m\u001b[43m,\u001b[49m\n\u001b[0;32m   1712\u001b[0m \u001b[43m    \u001b[49m\u001b[43merrors\u001b[49m\u001b[38;5;241;43m=\u001b[39;49m\u001b[38;5;28;43mself\u001b[39;49m\u001b[38;5;241;43m.\u001b[39;49m\u001b[43moptions\u001b[49m\u001b[38;5;241;43m.\u001b[39;49m\u001b[43mget\u001b[49m\u001b[43m(\u001b[49m\u001b[38;5;124;43m\"\u001b[39;49m\u001b[38;5;124;43mencoding_errors\u001b[39;49m\u001b[38;5;124;43m\"\u001b[39;49m\u001b[43m,\u001b[49m\u001b[43m \u001b[49m\u001b[38;5;124;43m\"\u001b[39;49m\u001b[38;5;124;43mstrict\u001b[39;49m\u001b[38;5;124;43m\"\u001b[39;49m\u001b[43m)\u001b[49m\u001b[43m,\u001b[49m\n\u001b[0;32m   1713\u001b[0m \u001b[43m    \u001b[49m\u001b[43mstorage_options\u001b[49m\u001b[38;5;241;43m=\u001b[39;49m\u001b[38;5;28;43mself\u001b[39;49m\u001b[38;5;241;43m.\u001b[39;49m\u001b[43moptions\u001b[49m\u001b[38;5;241;43m.\u001b[39;49m\u001b[43mget\u001b[49m\u001b[43m(\u001b[49m\u001b[38;5;124;43m\"\u001b[39;49m\u001b[38;5;124;43mstorage_options\u001b[39;49m\u001b[38;5;124;43m\"\u001b[39;49m\u001b[43m,\u001b[49m\u001b[43m \u001b[49m\u001b[38;5;28;43;01mNone\u001b[39;49;00m\u001b[43m)\u001b[49m\u001b[43m,\u001b[49m\n\u001b[0;32m   1714\u001b[0m \u001b[43m\u001b[49m\u001b[43m)\u001b[49m\n\u001b[0;32m   1715\u001b[0m \u001b[38;5;28;01massert\u001b[39;00m \u001b[38;5;28mself\u001b[39m\u001b[38;5;241m.\u001b[39mhandles \u001b[38;5;129;01mis\u001b[39;00m \u001b[38;5;129;01mnot\u001b[39;00m \u001b[38;5;28;01mNone\u001b[39;00m\n\u001b[0;32m   1716\u001b[0m f \u001b[38;5;241m=\u001b[39m \u001b[38;5;28mself\u001b[39m\u001b[38;5;241m.\u001b[39mhandles\u001b[38;5;241m.\u001b[39mhandle\n",
      "File \u001b[1;32mc:\\Users\\user\\anaconda3\\envs\\py39\\lib\\site-packages\\pandas\\io\\common.py:863\u001b[0m, in \u001b[0;36mget_handle\u001b[1;34m(path_or_buf, mode, encoding, compression, memory_map, is_text, errors, storage_options)\u001b[0m\n\u001b[0;32m    858\u001b[0m \u001b[38;5;28;01melif\u001b[39;00m \u001b[38;5;28misinstance\u001b[39m(handle, \u001b[38;5;28mstr\u001b[39m):\n\u001b[0;32m    859\u001b[0m     \u001b[38;5;66;03m# Check whether the filename is to be opened in binary mode.\u001b[39;00m\n\u001b[0;32m    860\u001b[0m     \u001b[38;5;66;03m# Binary mode does not support 'encoding' and 'newline'.\u001b[39;00m\n\u001b[0;32m    861\u001b[0m     \u001b[38;5;28;01mif\u001b[39;00m ioargs\u001b[38;5;241m.\u001b[39mencoding \u001b[38;5;129;01mand\u001b[39;00m \u001b[38;5;124m\"\u001b[39m\u001b[38;5;124mb\u001b[39m\u001b[38;5;124m\"\u001b[39m \u001b[38;5;129;01mnot\u001b[39;00m \u001b[38;5;129;01min\u001b[39;00m ioargs\u001b[38;5;241m.\u001b[39mmode:\n\u001b[0;32m    862\u001b[0m         \u001b[38;5;66;03m# Encoding\u001b[39;00m\n\u001b[1;32m--> 863\u001b[0m         handle \u001b[38;5;241m=\u001b[39m \u001b[38;5;28;43mopen\u001b[39;49m\u001b[43m(\u001b[49m\n\u001b[0;32m    864\u001b[0m \u001b[43m            \u001b[49m\u001b[43mhandle\u001b[49m\u001b[43m,\u001b[49m\n\u001b[0;32m    865\u001b[0m \u001b[43m            \u001b[49m\u001b[43mioargs\u001b[49m\u001b[38;5;241;43m.\u001b[39;49m\u001b[43mmode\u001b[49m\u001b[43m,\u001b[49m\n\u001b[0;32m    866\u001b[0m \u001b[43m            \u001b[49m\u001b[43mencoding\u001b[49m\u001b[38;5;241;43m=\u001b[39;49m\u001b[43mioargs\u001b[49m\u001b[38;5;241;43m.\u001b[39;49m\u001b[43mencoding\u001b[49m\u001b[43m,\u001b[49m\n\u001b[0;32m    867\u001b[0m \u001b[43m            \u001b[49m\u001b[43merrors\u001b[49m\u001b[38;5;241;43m=\u001b[39;49m\u001b[43merrors\u001b[49m\u001b[43m,\u001b[49m\n\u001b[0;32m    868\u001b[0m \u001b[43m            \u001b[49m\u001b[43mnewline\u001b[49m\u001b[38;5;241;43m=\u001b[39;49m\u001b[38;5;124;43m\"\u001b[39;49m\u001b[38;5;124;43m\"\u001b[39;49m\u001b[43m,\u001b[49m\n\u001b[0;32m    869\u001b[0m \u001b[43m        \u001b[49m\u001b[43m)\u001b[49m\n\u001b[0;32m    870\u001b[0m     \u001b[38;5;28;01melse\u001b[39;00m:\n\u001b[0;32m    871\u001b[0m         \u001b[38;5;66;03m# Binary mode\u001b[39;00m\n\u001b[0;32m    872\u001b[0m         handle \u001b[38;5;241m=\u001b[39m \u001b[38;5;28mopen\u001b[39m(handle, ioargs\u001b[38;5;241m.\u001b[39mmode)\n",
      "\u001b[1;31mFileNotFoundError\u001b[0m: [Errno 2] No such file or directory: 'cinema.csv'"
     ]
    }
   ],
   "source": [
    "df = pd.read_csv('cinema.csv')\n",
    "df = df.drop('cinema_id', axis = 1)\n",
    "# 欠損値補完\n",
    "df = df.fillna(df.mean())\n",
    "# 可能なら外れ値の確認もするが\n",
    "# 今回は割愛"
   ]
  },
  {
   "cell_type": "code",
   "execution_count": 25,
   "metadata": {},
   "outputs": [],
   "source": [
    "from sklearn.preprocessing import StandardScaler\n",
    "sc = StandardScaler()\n",
    "sc_df = sc.fit_transform(df)\n",
    "sc_df = pd.DataFrame(sc_df, columns = df.columns)"
   ]
  },
  {
   "cell_type": "code",
   "execution_count": 27,
   "metadata": {},
   "outputs": [
    {
     "data": {
      "text/plain": [
       "[0.5401206784462206,\n",
       " 0.7261760786703706,\n",
       " 0.8624874337165253,\n",
       " 0.9677581622696745,\n",
       " 1.0]"
      ]
     },
     "execution_count": 27,
     "metadata": {},
     "output_type": "execute_result"
    }
   ],
   "source": [
    "# 累積寄与率を調べる\n",
    "from sklearn.decomposition import PCA\n",
    "model = PCA(whiten = True)\n",
    "model.fit(sc_df)\n",
    "\n",
    "total = []\n",
    "for i in model.explained_variance_ratio_:\n",
    "    if len(total) == 0:\n",
    "        total.append(i)\n",
    "    else:\n",
    "        tmp = total[-1] + i\n",
    "        total.append(tmp)\n",
    "total"
   ]
  },
  {
   "cell_type": "code",
   "execution_count": 28,
   "metadata": {},
   "outputs": [
    {
     "data": {
      "text/html": [
       "<div>\n",
       "<style scoped>\n",
       "    .dataframe tbody tr th:only-of-type {\n",
       "        vertical-align: middle;\n",
       "    }\n",
       "\n",
       "    .dataframe tbody tr th {\n",
       "        vertical-align: top;\n",
       "    }\n",
       "\n",
       "    .dataframe thead th {\n",
       "        text-align: right;\n",
       "    }\n",
       "</style>\n",
       "<table border=\"1\" class=\"dataframe\">\n",
       "  <thead>\n",
       "    <tr style=\"text-align: right;\">\n",
       "      <th></th>\n",
       "      <th>SNS1</th>\n",
       "      <th>SNS2</th>\n",
       "      <th>actor</th>\n",
       "      <th>original</th>\n",
       "      <th>sales</th>\n",
       "    </tr>\n",
       "  </thead>\n",
       "  <tbody>\n",
       "    <tr>\n",
       "      <th>pc1</th>\n",
       "      <td>0.736368</td>\n",
       "      <td>0.598555</td>\n",
       "      <td>0.837999</td>\n",
       "      <td>0.469117</td>\n",
       "      <td>0.936901</td>\n",
       "    </tr>\n",
       "    <tr>\n",
       "      <th>pc2</th>\n",
       "      <td>-0.050756</td>\n",
       "      <td>-0.534089</td>\n",
       "      <td>-0.037073</td>\n",
       "      <td>0.800559</td>\n",
       "      <td>0.013415</td>\n",
       "    </tr>\n",
       "    <tr>\n",
       "      <th>pc3</th>\n",
       "      <td>-0.531509</td>\n",
       "      <td>0.536704</td>\n",
       "      <td>-0.017275</td>\n",
       "      <td>0.324773</td>\n",
       "      <td>-0.072303</td>\n",
       "    </tr>\n",
       "  </tbody>\n",
       "</table>\n",
       "</div>"
      ],
      "text/plain": [
       "         SNS1      SNS2     actor  original     sales\n",
       "pc1  0.736368  0.598555  0.837999  0.469117  0.936901\n",
       "pc2 -0.050756 -0.534089 -0.037073  0.800559  0.013415\n",
       "pc3 -0.531509  0.536704 -0.017275  0.324773 -0.072303"
      ]
     },
     "execution_count": 28,
     "metadata": {},
     "output_type": "execute_result"
    }
   ],
   "source": [
    "model = PCA(whiten=True, n_components = 3)\n",
    "model.fit(sc_df)\n",
    "new = pd.DataFrame(model.transform(sc_df), columns=['pc1',\n",
    "'pc2', 'pc3'])\n",
    "new_df = pd.concat([new, sc_df], axis = 1)\n",
    "cor_df = new_df.corr()\n",
    "cor_df.loc['pc1':'pc3', 'SNS1':]"
   ]
  },
  {
   "cell_type": "code",
   "execution_count": null,
   "metadata": {},
   "outputs": [],
   "source": []
  }
 ],
 "metadata": {
  "kernelspec": {
   "display_name": "Python 3",
   "language": "python",
   "name": "python3"
  },
  "language_info": {
   "codemirror_mode": {
    "name": "ipython",
    "version": 3
   },
   "file_extension": ".py",
   "mimetype": "text/x-python",
   "name": "python",
   "nbconvert_exporter": "python",
   "pygments_lexer": "ipython3",
   "version": "3.9.18"
  }
 },
 "nbformat": 4,
 "nbformat_minor": 4
}
