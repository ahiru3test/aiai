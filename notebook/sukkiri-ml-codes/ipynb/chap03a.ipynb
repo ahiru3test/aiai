{
 "cells": [
  {
   "cell_type": "markdown",
   "metadata": {},
   "source": [
    "# 機械学習の使い分け"
   ]
  },
  {
   "cell_type": "markdown",
   "metadata": {},
   "source": [
    "### データ前処理\n",
    "- データ統合\n",
    "- 欠損値の処理\n",
    "- 外れ値の処理\n",
    "- 文字から数値への変換\n",
    "- データの標準化\n",
    "- 特徴量エンジニアリング\n",
    "\n",
    "\n",
    "### 機械学習の使い分け\n",
    "- 教師あり/なし\n",
    "- 回帰/分類\n",
    "- 方法\n",
    "\n",
    "### モデルの評価\n"
   ]
  },
  {
   "cell_type": "markdown",
   "metadata": {},
   "source": []
  }
 ],
 "metadata": {
  "language_info": {
   "name": "python"
  }
 },
 "nbformat": 4,
 "nbformat_minor": 2
}
