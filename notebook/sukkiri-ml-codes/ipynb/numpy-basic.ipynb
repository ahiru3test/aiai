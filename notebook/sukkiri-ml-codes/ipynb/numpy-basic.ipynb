{
 "cells": [
  {
   "cell_type": "markdown",
   "metadata": {},
   "source": [
    "## NumPy\n",
    "NumPyは「Numercal Python」の略で「数的Python」といった意味です。Python の数値計算における<br>\n",
    "最も重要なパッケージです。科学技術計算、機械学習などの多くのPythonパッケージは共通語として<br>\n",
    "NumPyの配列オブジェクトを用いています。\n"
   ]
  },
  {
   "cell_type": "markdown",
   "metadata": {},
   "source": [
    "### NumPy ndarray : 多次元配列オブジェクト\n",
    "ndarray は NumPyの基本要素の１つで、(N-Dimentional array) N次元配列オブジェクトを意味します。<br>\n",
    "ndarray は Python環境における高速かつ大規模なデータ処理を提供します。まず算術操作から見て<br>\n",
    "いきます。ndarray の算術操作は、その配列要素すべてに作用します。一括計算はつぎの例のように<br>\n",
    "行うことができます。\n"
   ]
  },
  {
   "cell_type": "markdown",
   "metadata": {},
   "source": [
    "乱数列を生成します。"
   ]
  },
  {
   "cell_type": "code",
   "execution_count": 1,
   "metadata": {},
   "outputs": [
    {
     "data": {
      "text/plain": [
       "array([[ 0.59347365, -0.39186205,  0.01704146],\n",
       "       [-0.77147868,  0.52233118, -0.12923899]])"
      ]
     },
     "execution_count": 1,
     "metadata": {},
     "output_type": "execute_result"
    }
   ],
   "source": [
    "import numpy as np\n",
    "\n",
    "data = np.random.randn(2,3)\n",
    "data"
   ]
  },
  {
   "cell_type": "markdown",
   "metadata": {},
   "source": [
    "すべての要素が10倍されます"
   ]
  },
  {
   "cell_type": "code",
   "execution_count": 2,
   "metadata": {},
   "outputs": [
    {
     "data": {
      "text/plain": [
       "array([[ 5.93473645, -3.91862047,  0.17041461],\n",
       "       [-7.71478683,  5.22331179, -1.29238987]])"
      ]
     },
     "execution_count": 2,
     "metadata": {},
     "output_type": "execute_result"
    }
   ],
   "source": [
    "data * 10"
   ]
  },
  {
   "cell_type": "markdown",
   "metadata": {},
   "source": [
    "すべての対応する位置どうしの要素が加算されます。"
   ]
  },
  {
   "cell_type": "code",
   "execution_count": 3,
   "metadata": {},
   "outputs": [
    {
     "data": {
      "text/plain": [
       "array([[ 1.18694729, -0.78372409,  0.03408292],\n",
       "       [-1.54295737,  1.04466236, -0.25847797]])"
      ]
     },
     "execution_count": 3,
     "metadata": {},
     "output_type": "execute_result"
    }
   ],
   "source": [
    "data + data"
   ]
  },
  {
   "cell_type": "markdown",
   "metadata": {},
   "source": [
    "ndarray はつぎのような特徴を持ちます。\n",
    "- ndarrayの多次元配列の要素はすべて同じ型である必要があります。\n",
    "- shapeという属性があり、配列の次元ごとの要素数をタプルで格納しています。\n",
    "- dtypeという属性があり、配列要素に期待される型を示しています。"
   ]
  },
  {
   "cell_type": "code",
   "execution_count": 4,
   "metadata": {},
   "outputs": [
    {
     "data": {
      "text/plain": [
       "(2, 3)"
      ]
     },
     "execution_count": 4,
     "metadata": {},
     "output_type": "execute_result"
    }
   ],
   "source": [
    "data.shape"
   ]
  },
  {
   "cell_type": "code",
   "execution_count": 5,
   "metadata": {},
   "outputs": [
    {
     "data": {
      "text/plain": [
       "dtype('float64')"
      ]
     },
     "execution_count": 5,
     "metadata": {},
     "output_type": "execute_result"
    }
   ],
   "source": [
    "data.dtype"
   ]
  },
  {
   "cell_type": "markdown",
   "metadata": {},
   "source": [
    "### ndarrayの生成\n",
    "ndarrayオブジェクトの生成するには、NumPyのarray関数を用います。array関数は、引数にシーケンス型<br>\n",
    "やそれに類する変数を取り、そのデータを格納したndarray変数を返します。リストをndarryにするには、<br>\n",
    "つぎのようにします。"
   ]
  },
  {
   "cell_type": "code",
   "execution_count": 6,
   "metadata": {},
   "outputs": [
    {
     "data": {
      "text/plain": [
       "array([6. , 7.5, 8. , 0. , 1. ])"
      ]
     },
     "execution_count": 6,
     "metadata": {},
     "output_type": "execute_result"
    }
   ],
   "source": [
    "data1 = [6, 7.5, 8, 0, 1]\n",
    "arr1 = np.array(data1)\n",
    "arr1"
   ]
  },
  {
   "cell_type": "markdown",
   "metadata": {},
   "source": [
    "リストの中にリストを持つような、ネストしているシーケンスオブジェクトでは、ネスト構造の内側の<br>\n",
    "シーケンス同士が一致する場合にndarrayオブジェクトが生成されます。"
   ]
  },
  {
   "cell_type": "code",
   "execution_count": 7,
   "metadata": {},
   "outputs": [
    {
     "data": {
      "text/plain": [
       "array([[1, 2, 3, 4],\n",
       "       [5, 6, 7, 8]])"
      ]
     },
     "execution_count": 7,
     "metadata": {},
     "output_type": "execute_result"
    }
   ],
   "source": [
    "data2 = [[1,2,3,4],[5,6,7,8]]\n",
    "arr2 = np.array(data2)\n",
    "arr2"
   ]
  },
  {
   "cell_type": "markdown",
   "metadata": {},
   "source": [
    "ndim属性は配列の次元数を格納しています。"
   ]
  },
  {
   "cell_type": "code",
   "execution_count": 8,
   "metadata": {},
   "outputs": [
    {
     "data": {
      "text/plain": [
       "2"
      ]
     },
     "execution_count": 8,
     "metadata": {},
     "output_type": "execute_result"
    }
   ],
   "source": [
    "arr2.ndim"
   ]
  },
  {
   "cell_type": "code",
   "execution_count": 9,
   "metadata": {},
   "outputs": [
    {
     "data": {
      "text/plain": [
       "(2, 4)"
      ]
     },
     "execution_count": 9,
     "metadata": {},
     "output_type": "execute_result"
    }
   ],
   "source": [
    "arr2.shape"
   ]
  },
  {
   "cell_type": "markdown",
   "metadata": {},
   "source": [
    "dtypeを明示的に指定せずにnp.arrayを呼び出すと、np.arrayは最適は型を推測しようとします。"
   ]
  },
  {
   "cell_type": "code",
   "execution_count": 10,
   "metadata": {},
   "outputs": [
    {
     "data": {
      "text/plain": [
       "dtype('int32')"
      ]
     },
     "execution_count": 10,
     "metadata": {},
     "output_type": "execute_result"
    }
   ],
   "source": [
    "arr2.dtype"
   ]
  },
  {
   "cell_type": "markdown",
   "metadata": {},
   "source": [
    "#### ndarray生成関数\n",
    "|関数|説明|\n",
    "|:---|:---|\n",
    "|array|入力にリスト、タプル、Python配列、その他列挙型といったデータを引数として受け取りndarrayを生成する。|\n",
    "|asarray|arrayと同様にndarrayを生成する。ただし入力がndarrayの場合は新規に変数を生成しない。|\n",
    "|arange|Pythonの組み込みrange関数と同じ動作で,ndarrayを生成する。|\n",
    "|ones|onesは指定されたサイズのndarrayを指定されたdtyeで生成し、要素をすべて1で埋める。|\n",
    "|zeros|onesと同様にndarrayを生成し、要素をすべて0で埋める。|\n",
    "|empty|onesと同様にndarrayを生成するが、各要素は初期化されず不定のまま。|\n",
    "|||"
   ]
  },
  {
   "cell_type": "markdown",
   "metadata": {},
   "source": [
    "## ndarrayのデータ型\n",
    "dtypeはndarrayのデータ型です。これはメモリ上のデータ形式を示す特殊なオブジェクトです。dtypeの<br>\n",
    "役割は、あるndarray が格納されるメモリ範囲が特定のデータ型で解釈されることを示すものです。"
   ]
  },
  {
   "cell_type": "code",
   "execution_count": 11,
   "metadata": {},
   "outputs": [
    {
     "name": "stdout",
     "output_type": "stream",
     "text": [
      "[1. 2. 3.] float64\n"
     ]
    }
   ],
   "source": [
    "arr1 = np.array([1, 2, 3],dtype=np.float64)\n",
    "print(arr1, arr1.dtype)"
   ]
  },
  {
   "cell_type": "code",
   "execution_count": 12,
   "metadata": {},
   "outputs": [
    {
     "name": "stdout",
     "output_type": "stream",
     "text": [
      "[1 2 3] int32\n"
     ]
    }
   ],
   "source": [
    "arr1 = np.array([1, 2, 3],dtype=np.int32)\n",
    "print(arr1, arr1.dtype)"
   ]
  },
  {
   "cell_type": "markdown",
   "metadata": {},
   "source": [
    "#### NumPyの主なデータ型\n",
    "|型|型コード|説明|\n",
    "|:---|:---|:---|\n",
    "|int8, unit8|i1,u1|符号あり/なしの8ビット整数型(1 byte)|\n",
    "|int16, unit16|i2,u2|符号あり/なしの16ビット整数型|\n",
    "|int32, unit32|i4,u4|符号あり/なしの32ビット整数型|\n",
    "|int64, unit64|i8,u8|符号あり/なしの64ビット整数型|\n",
    "|float32|f4もしくはf|単精度浮動小数点数。Cのfloatと同じ|\n",
    "|float64|f8もしくはd|倍精度浮動小数点数。Cのdoubleと同じ|\n",
    "|bool|?|真偽値型。True(真), False(偽)を格納する|\n",
    "|object|O|Pythonオブジェクト型|\n",
    "|string_|S|固定長の文字列型。1文字あたり1バイト。例えば10文字はdtype='S10'|\n",
    "|unicode_|U|固定長ユニコードの文字列型。1文字当たりのバイト数宇は環境依存|\n",
    "||||\n"
   ]
  },
  {
   "cell_type": "code",
   "execution_count": 13,
   "metadata": {},
   "outputs": [
    {
     "name": "stdout",
     "output_type": "stream",
     "text": [
      "[1 2 3] int16\n"
     ]
    }
   ],
   "source": [
    "arr1 = np.array([1, 2, 3],dtype='i2')\n",
    "print(arr1, arr1.dtype)"
   ]
  },
  {
   "cell_type": "code",
   "execution_count": 14,
   "metadata": {},
   "outputs": [
    {
     "name": "stdout",
     "output_type": "stream",
     "text": [
      "[ True False  True] bool\n"
     ]
    }
   ],
   "source": [
    "arr1 = np.array([1, 0, 1],dtype='?')\n",
    "print(arr1, arr1.dtype)"
   ]
  },
  {
   "cell_type": "code",
   "execution_count": 15,
   "metadata": {},
   "outputs": [
    {
     "data": {
      "text/plain": [
       "array([b'1.25', b'2.54'], dtype='|S4')"
      ]
     },
     "execution_count": 15,
     "metadata": {},
     "output_type": "execute_result"
    }
   ],
   "source": [
    "numeric_string = np.array(['1.25','2.54'], dtype=np.string_)\n",
    "numeric_string"
   ]
  },
  {
   "cell_type": "code",
   "execution_count": 16,
   "metadata": {},
   "outputs": [
    {
     "data": {
      "text/plain": [
       "array(['月曜', '火曜'], dtype='<U2')"
      ]
     },
     "execution_count": 16,
     "metadata": {},
     "output_type": "execute_result"
    }
   ],
   "source": [
    "ustring = np.array(['月曜','火曜'])\n",
    "ustring"
   ]
  },
  {
   "cell_type": "markdown",
   "metadata": {},
   "source": [
    "## ndarrayの算術演算\n",
    "ndarryaでは、要素ごとの処理のためにわざわざ繰り返し文を書く必要はありません。この機能はベクトル演算と<br>\n",
    "呼ばれるNumPyの重要な特徴のひとつです。同じサイズのndarray同士の算術演算は、同位置の要素同士で計算<br>\n",
    "されます。"
   ]
  },
  {
   "cell_type": "code",
   "execution_count": 17,
   "metadata": {},
   "outputs": [
    {
     "data": {
      "text/plain": [
       "array([[1, 2, 3],\n",
       "       [4, 5, 6]])"
      ]
     },
     "execution_count": 17,
     "metadata": {},
     "output_type": "execute_result"
    }
   ],
   "source": [
    "arr = np.array([[1, 2, 3],[4, 5, 6]])\n",
    "arr"
   ]
  },
  {
   "cell_type": "code",
   "execution_count": 18,
   "metadata": {},
   "outputs": [
    {
     "data": {
      "text/plain": [
       "array([[ 1,  4,  9],\n",
       "       [16, 25, 36]])"
      ]
     },
     "execution_count": 18,
     "metadata": {},
     "output_type": "execute_result"
    }
   ],
   "source": [
    "arr * arr"
   ]
  },
  {
   "cell_type": "code",
   "execution_count": 19,
   "metadata": {},
   "outputs": [
    {
     "data": {
      "text/plain": [
       "array([[0, 0, 0],\n",
       "       [0, 0, 0]])"
      ]
     },
     "execution_count": 19,
     "metadata": {},
     "output_type": "execute_result"
    }
   ],
   "source": [
    "arr - arr"
   ]
  },
  {
   "cell_type": "markdown",
   "metadata": {},
   "source": [
    "スカラーとndarrayとの算術演算の場合、要素ごとにその加減乗除が計算されます。"
   ]
  },
  {
   "cell_type": "code",
   "execution_count": 20,
   "metadata": {},
   "outputs": [
    {
     "data": {
      "text/plain": [
       "array([[1.        , 0.5       , 0.33333333],\n",
       "       [0.25      , 0.2       , 0.16666667]])"
      ]
     },
     "execution_count": 20,
     "metadata": {},
     "output_type": "execute_result"
    }
   ],
   "source": [
    "1/arr"
   ]
  },
  {
   "cell_type": "code",
   "execution_count": 21,
   "metadata": {
    "scrolled": true
   },
   "outputs": [
    {
     "data": {
      "text/plain": [
       "array([[1.        , 1.41421356, 1.73205081],\n",
       "       [2.        , 2.23606798, 2.44948974]])"
      ]
     },
     "execution_count": 21,
     "metadata": {},
     "output_type": "execute_result"
    }
   ],
   "source": [
    "arr ** 0.5"
   ]
  },
  {
   "cell_type": "markdown",
   "metadata": {},
   "source": [
    "ndarray間を比較したとき、その結果は同じ要素数の真偽配列として戻されます。"
   ]
  },
  {
   "cell_type": "code",
   "execution_count": 22,
   "metadata": {},
   "outputs": [
    {
     "data": {
      "text/plain": [
       "array([[ 0,  4,  1],\n",
       "       [ 7,  2, 12]])"
      ]
     },
     "execution_count": 22,
     "metadata": {},
     "output_type": "execute_result"
    }
   ],
   "source": [
    "arr2 = np.array([[0, 4, 1],[7, 2, 12]])\n",
    "arr2"
   ]
  },
  {
   "cell_type": "code",
   "execution_count": 23,
   "metadata": {},
   "outputs": [
    {
     "data": {
      "text/plain": [
       "array([[False,  True, False],\n",
       "       [ True, False,  True]])"
      ]
     },
     "execution_count": 23,
     "metadata": {},
     "output_type": "execute_result"
    }
   ],
   "source": [
    "arr2 > arr"
   ]
  },
  {
   "cell_type": "code",
   "execution_count": 24,
   "metadata": {},
   "outputs": [
    {
     "data": {
      "text/html": [
       "<style>\n",
       "table {float:left}\n",
       "</style>\n"
      ],
      "text/plain": [
       "<IPython.core.display.HTML object>"
      ]
     },
     "metadata": {},
     "output_type": "display_data"
    }
   ],
   "source": [
    "%%html\n",
    "<style>\n",
    "table {float:left}\n",
    "</style>"
   ]
  },
  {
   "cell_type": "code",
   "execution_count": null,
   "metadata": {},
   "outputs": [],
   "source": []
  }
 ],
 "metadata": {
  "kernelspec": {
   "display_name": "Python 3 (ipykernel)",
   "language": "python",
   "name": "python3"
  },
  "language_info": {
   "codemirror_mode": {
    "name": "ipython",
    "version": 3
   },
   "file_extension": ".py",
   "mimetype": "text/x-python",
   "name": "python",
   "nbconvert_exporter": "python",
   "pygments_lexer": "ipython3",
   "version": "3.9.18"
  }
 },
 "nbformat": 4,
 "nbformat_minor": 4
}
