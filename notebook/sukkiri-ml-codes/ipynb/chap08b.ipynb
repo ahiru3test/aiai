{
 "cells": [
  {
   "cell_type": "code",
   "execution_count": 9,
   "metadata": {},
   "outputs": [
    {
     "data": {
      "text/plain": [
       "ZN          0\n",
       "INDUS       0\n",
       "CHAS        0\n",
       "NOX         1\n",
       "RM          0\n",
       "AGE         0\n",
       "DIS         0\n",
       "RAD         1\n",
       "TAX         0\n",
       "PTRATIO     0\n",
       "B           0\n",
       "LSTAT       0\n",
       "PRICE       0\n",
       "low         0\n",
       "very_low    0\n",
       "dtype: int64"
      ]
     },
     "execution_count": 9,
     "metadata": {},
     "output_type": "execute_result"
    }
   ],
   "source": [
    "from DTC2 import DTC\n",
    "import pandas as pd\n",
    "%matplotlib inline\n",
    "\n",
    "DTC.set_filepath(\"../datafiles/Boston.csv\")\n",
    "df=DTC.dataframe\n",
    "df.head(2)\n",
    "df['CRIME'].value_counts()\n",
    "\n",
    "###データの\n",
    "crime = pd.get_dummies(df['CRIME'], drop_first = True, dtype=int)\n",
    "df2 = pd.concat([df, crime], axis = 1)\n",
    "df2 = df2.drop(['CRIME'], axis = 1)\n",
    "df2.head(2)\n",
    "\n",
    "# train_val, test = train_test_split(df2,test_size = 0.2,\n",
    "# random_state = 0)\n",
    "\n",
    "df2.isnull().sum()\n",
    "tmean = df.mean()\n",
    "\n"
   ]
  },
  {
   "cell_type": "code",
   "execution_count": null,
   "metadata": {},
   "outputs": [],
   "source": []
  }
 ],
 "metadata": {
  "kernelspec": {
   "display_name": "py39",
   "language": "python",
   "name": "python3"
  },
  "language_info": {
   "codemirror_mode": {
    "name": "ipython",
    "version": 3
   },
   "file_extension": ".py",
   "mimetype": "text/x-python",
   "name": "python",
   "nbconvert_exporter": "python",
   "pygments_lexer": "ipython3",
   "version": "3.9.18"
  }
 },
 "nbformat": 4,
 "nbformat_minor": 2
}
