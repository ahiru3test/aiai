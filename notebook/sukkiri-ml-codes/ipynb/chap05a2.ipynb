{
 "cells": [
  {
   "cell_type": "markdown",
   "metadata": {},
   "source": [
    "### 5.2 データの前処理"
   ]
  },
  {
   "cell_type": "code",
   "execution_count": 1,
   "metadata": {},
   "outputs": [
    {
     "data": {
      "text/html": [
       "<div>\n",
       "<style scoped>\n",
       "    .dataframe tbody tr th:only-of-type {\n",
       "        vertical-align: middle;\n",
       "    }\n",
       "\n",
       "    .dataframe tbody tr th {\n",
       "        vertical-align: top;\n",
       "    }\n",
       "\n",
       "    .dataframe thead th {\n",
       "        text-align: right;\n",
       "    }\n",
       "</style>\n",
       "<table border=\"1\" class=\"dataframe\">\n",
       "  <thead>\n",
       "    <tr style=\"text-align: right;\">\n",
       "      <th></th>\n",
       "      <th>がく片長さ</th>\n",
       "      <th>がく片幅</th>\n",
       "      <th>花弁長さ</th>\n",
       "      <th>花弁幅</th>\n",
       "      <th>種類</th>\n",
       "    </tr>\n",
       "  </thead>\n",
       "  <tbody>\n",
       "    <tr>\n",
       "      <th>0</th>\n",
       "      <td>0.22</td>\n",
       "      <td>0.63</td>\n",
       "      <td>0.08</td>\n",
       "      <td>0.04</td>\n",
       "      <td>Iris-setosa</td>\n",
       "    </tr>\n",
       "    <tr>\n",
       "      <th>1</th>\n",
       "      <td>0.17</td>\n",
       "      <td>0.42</td>\n",
       "      <td>0.35</td>\n",
       "      <td>0.04</td>\n",
       "      <td>Iris-setosa</td>\n",
       "    </tr>\n",
       "    <tr>\n",
       "      <th>2</th>\n",
       "      <td>0.11</td>\n",
       "      <td>0.50</td>\n",
       "      <td>0.13</td>\n",
       "      <td>0.04</td>\n",
       "      <td>Iris-setosa</td>\n",
       "    </tr>\n",
       "  </tbody>\n",
       "</table>\n",
       "</div>"
      ],
      "text/plain": [
       "   がく片長さ  がく片幅  花弁長さ   花弁幅           種類\n",
       "0   0.22  0.63  0.08  0.04  Iris-setosa\n",
       "1   0.17  0.42  0.35  0.04  Iris-setosa\n",
       "2   0.11  0.50  0.13  0.04  Iris-setosa"
      ]
     },
     "execution_count": 1,
     "metadata": {},
     "output_type": "execute_result"
    }
   ],
   "source": [
    "import pandas as pd # pandasのインポート\n",
    "import matplotlib.pyplot as plt\n",
    "# irisファイルを読み込んで、データフレームに変換\n",
    "df = pd.read_csv('../datafiles/iris.csv')\n",
    "df.head(3) # 上位3件の表示"
   ]
  },
  {
   "cell_type": "markdown",
   "metadata": {},
   "source": [
    "df['種類'].unique()\n",
    "syurui = df['種類'].unique()\n",
    "syurui[0]\n",
    "df['種類'].value_counts()\n",
    "df.tail(3)#末尾3件の表示\n",
    "df.isnull()#各マスが欠損値かどうか調べる\n",
    "#列単位で欠損値が存在するか調べる\n",
    "df.isnull().any(axis=0)\n",
    "df.sum() # 各列の合計値を計算\n",
    "# 各列に欠損値がいくつあるか集計\n",
    "tmp = df.isnull()\n",
    "tmp.sum()"
   ]
  },
  {
   "cell_type": "markdown",
   "metadata": {},
   "source": [
    "syurui = df['種類'].unique()\n",
    "syurui[0]"
   ]
  },
  {
   "cell_type": "markdown",
   "metadata": {},
   "source": [
    "df['種類'].value_counts()"
   ]
  },
  {
   "cell_type": "markdown",
   "metadata": {},
   "source": [
    "df.tail(3)#末尾3件の表示"
   ]
  },
  {
   "cell_type": "markdown",
   "metadata": {},
   "source": [
    "df.isnull()#各マスが欠損値かどうか調べる"
   ]
  },
  {
   "cell_type": "markdown",
   "metadata": {},
   "source": [
    "#列単位で欠損値が存在するか調べる\n",
    "df.isnull().any(axis=0)"
   ]
  },
  {
   "cell_type": "markdown",
   "metadata": {
    "scrolled": true
   },
   "source": [
    "df.sum() # 各列の合計値を計算"
   ]
  },
  {
   "cell_type": "code",
   "execution_count": 9,
   "metadata": {},
   "outputs": [
    {
     "data": {
      "text/plain": [
       "がく片長さ    2\n",
       "がく片幅     1\n",
       "花弁長さ     2\n",
       "花弁幅      2\n",
       "種類       0\n",
       "dtype: int64"
      ]
     },
     "execution_count": 9,
     "metadata": {},
     "output_type": "execute_result"
    }
   ],
   "source": [
    "# 各列に欠損値がいくつあるか集計\n",
    "tmp = df.isnull()\n",
    "tmp.sum()"
   ]
  },
  {
   "cell_type": "code",
   "execution_count": 8,
   "metadata": {},
   "outputs": [
    {
     "data": {
      "text/plain": [
       "がく片長さ     True\n",
       "がく片幅      True\n",
       "花弁長さ      True\n",
       "花弁幅       True\n",
       "種類       False\n",
       "dtype: bool"
      ]
     },
     "execution_count": 8,
     "metadata": {},
     "output_type": "execute_result"
    }
   ],
   "source": [
    "# 欠損値が1つでもある行を削除した結果を、df2に代入\n",
    "# print(len(df))\n",
    "df2 = df.dropna(how = 'any', axis = 0)\n",
    "# print(len(df2))\n",
    "# df2.tail(3) # 欠損値の存在確認\n",
    "df.isnull().any(axis = 0)\n",
    "df['花弁長さ'] = df['花弁長さ'].fillna(0)\n",
    "df.tail(3)\n",
    "#数値列の各平均値を計算（文字列の列は自動的に除外してくれる）\n",
    "# df.mean()\n",
    "df.drop(\"種類\",axis=1).mean\n",
    "\n",
    "#がく片長さ列の平均値を計算\n",
    "df['がく片長さ'].mean()"
   ]
  },
  {
   "cell_type": "code",
   "execution_count": 4,
   "metadata": {},
   "outputs": [
    {
     "data": {
      "text/plain": [
       "がく片長さ     True\n",
       "がく片幅      True\n",
       "花弁長さ      True\n",
       "花弁幅       True\n",
       "種類       False\n",
       "dtype: bool"
      ]
     },
     "execution_count": 4,
     "metadata": {},
     "output_type": "execute_result"
    }
   ],
   "source": [
    "df.isnull().any(axis = 0)"
   ]
  },
  {
   "cell_type": "code",
   "execution_count": 12,
   "metadata": {},
   "outputs": [
    {
     "data": {
      "text/html": [
       "<div>\n",
       "<style scoped>\n",
       "    .dataframe tbody tr th:only-of-type {\n",
       "        vertical-align: middle;\n",
       "    }\n",
       "\n",
       "    .dataframe tbody tr th {\n",
       "        vertical-align: top;\n",
       "    }\n",
       "\n",
       "    .dataframe thead th {\n",
       "        text-align: right;\n",
       "    }\n",
       "</style>\n",
       "<table border=\"1\" class=\"dataframe\">\n",
       "  <thead>\n",
       "    <tr style=\"text-align: right;\">\n",
       "      <th></th>\n",
       "      <th>がく片長さ</th>\n",
       "      <th>がく片幅</th>\n",
       "      <th>花弁長さ</th>\n",
       "      <th>花弁幅</th>\n",
       "      <th>種類</th>\n",
       "    </tr>\n",
       "  </thead>\n",
       "  <tbody>\n",
       "    <tr>\n",
       "      <th>147</th>\n",
       "      <td>0.61</td>\n",
       "      <td>0.42</td>\n",
       "      <td>0.00</td>\n",
       "      <td>0.79</td>\n",
       "      <td>Iris-virginica</td>\n",
       "    </tr>\n",
       "    <tr>\n",
       "      <th>148</th>\n",
       "      <td>0.53</td>\n",
       "      <td>0.58</td>\n",
       "      <td>0.63</td>\n",
       "      <td>0.92</td>\n",
       "      <td>Iris-virginica</td>\n",
       "    </tr>\n",
       "    <tr>\n",
       "      <th>149</th>\n",
       "      <td>0.44</td>\n",
       "      <td>0.42</td>\n",
       "      <td>0.41</td>\n",
       "      <td>0.71</td>\n",
       "      <td>Iris-virginica</td>\n",
       "    </tr>\n",
       "  </tbody>\n",
       "</table>\n",
       "</div>"
      ],
      "text/plain": [
       "     がく片長さ  がく片幅  花弁長さ   花弁幅              種類\n",
       "147   0.61  0.42  0.00  0.79  Iris-virginica\n",
       "148   0.53  0.58  0.63  0.92  Iris-virginica\n",
       "149   0.44  0.42  0.41  0.71  Iris-virginica"
      ]
     },
     "execution_count": 12,
     "metadata": {},
     "output_type": "execute_result"
    }
   ],
   "source": [
    "df['花弁長さ'] = df['花弁長さ'].fillna(0)\n",
    "df.tail(3)"
   ]
  },
  {
   "cell_type": "code",
   "execution_count": 13,
   "metadata": {},
   "outputs": [
    {
     "data": {
      "text/plain": [
       "<bound method DataFrame.mean of      がく片長さ  がく片幅  花弁長さ   花弁幅\n",
       "0     0.22  0.63  0.08  0.04\n",
       "1     0.17  0.42  0.35  0.04\n",
       "2     0.11  0.50  0.13  0.04\n",
       "3     0.08  0.46  0.26  0.04\n",
       "4     0.19  0.67  0.44  0.04\n",
       "..     ...   ...   ...   ...\n",
       "145   0.67  0.42  0.54  0.92\n",
       "146   0.56  0.21  0.69  0.46\n",
       "147   0.61  0.42  0.00  0.79\n",
       "148   0.53  0.58  0.63  0.92\n",
       "149   0.44  0.42  0.41  0.71\n",
       "\n",
       "[150 rows x 4 columns]>"
      ]
     },
     "execution_count": 13,
     "metadata": {},
     "output_type": "execute_result"
    }
   ],
   "source": [
    "#数値列の各平均値を計算（文字列の列は自動的に除外してくれる）\n",
    "# df.mean()\n",
    "df.drop(\"種類\",axis=1).mean\n"
   ]
  },
  {
   "cell_type": "code",
   "execution_count": 14,
   "metadata": {},
   "outputs": [
    {
     "data": {
      "text/plain": [
       "0.42087837837837844"
      ]
     },
     "execution_count": 14,
     "metadata": {},
     "output_type": "execute_result"
    }
   ],
   "source": [
    "#がく片長さ列の平均値を計算\n",
    "df['がく片長さ'].mean()"
   ]
  },
  {
   "cell_type": "code",
   "execution_count": 15,
   "metadata": {},
   "outputs": [
    {
     "data": {
      "text/plain": [
       "がく片長さ    0.228910\n",
       "がく片幅     0.181137\n",
       "花弁長さ     0.236909\n",
       "花弁幅      0.309960\n",
       "dtype: float64"
      ]
     },
     "execution_count": 15,
     "metadata": {},
     "output_type": "execute_result"
    }
   ],
   "source": [
    "# df.std() # 各列の標準偏差\n",
    "# df.drop(\"種類\",axis=1).std() # 各列の標準偏差\n",
    "df.std(numeric_only=1) # 各列の標準偏差\n"
   ]
  },
  {
   "cell_type": "code",
   "execution_count": 16,
   "metadata": {},
   "outputs": [
    {
     "data": {
      "text/plain": [
       "がく片長さ    False\n",
       "がく片幅     False\n",
       "花弁長さ     False\n",
       "花弁幅      False\n",
       "種類       False\n",
       "dtype: bool"
      ]
     },
     "execution_count": 16,
     "metadata": {},
     "output_type": "execute_result"
    }
   ],
   "source": [
    "df = pd.read_csv('../datafiles/iris.csv')\n",
    "\n",
    "# 各列の平均値を計算して、colmeanに代入\n",
    "# colmean = df.mean()\n",
    "colmean = df.mean(numeric_only=1)\n",
    "\n",
    "# 平均値で欠損値を穴埋めしてdf2に代入\n",
    "df2 = df.fillna(colmean)\n",
    "# 欠損値があるか確認\n",
    "df2.isnull().any(axis = 0)"
   ]
  },
  {
   "cell_type": "code",
   "execution_count": 17,
   "metadata": {},
   "outputs": [],
   "source": [
    "xcol = ['がく片長さ', 'がく片幅', '花弁長さ', '花弁幅']\n",
    "\n",
    "x = df2[xcol]\n",
    "t = df2['種類']"
   ]
  },
  {
   "cell_type": "code",
   "execution_count": 18,
   "metadata": {},
   "outputs": [],
   "source": [
    "# 関数のインポート\n",
    "from sklearn import tree\n",
    "# モデルの作成\n",
    "model = tree.DecisionTreeClassifier(max_depth = 2,\n",
    "                                    random_state=0)"
   ]
  },
  {
   "cell_type": "code",
   "execution_count": 19,
   "metadata": {},
   "outputs": [
    {
     "data": {
      "text/plain": [
       "0.94"
      ]
     },
     "execution_count": 19,
     "metadata": {},
     "output_type": "execute_result"
    }
   ],
   "source": [
    "model.fit(x, t) # モデルの学習\n",
    "model.score(x, t) # 学習済みモデルの正解率計算"
   ]
  },
  {
   "cell_type": "code",
   "execution_count": 42,
   "metadata": {},
   "outputs": [
    {
     "data": {
      "text/plain": [
       "種類\n",
       "Iris-virginica     39\n",
       "Iris-setosa        34\n",
       "Iris-versicolor    32\n",
       "Name: count, dtype: int64"
      ]
     },
     "execution_count": 42,
     "metadata": {},
     "output_type": "execute_result"
    }
   ],
   "source": [
    "# 関数のインポート\n",
    "from sklearn.model_selection import train_test_split\n",
    "x_train, x_test, y_train, y_test = train_test_split(x, t,\n",
    "    test_size = 0.3, random_state = 0)\n",
    "\n",
    "#x_train,y_trainが学習に利用する訓練\n",
    "#x_test,y_testが検証に利用するテストデータ\n",
    "y_train.value_counts()"
   ]
  },
  {
   "cell_type": "code",
   "execution_count": 45,
   "metadata": {},
   "outputs": [],
   "source": [
    "import matplotlib.pyplot as plt\n"
   ]
  },
  {
   "cell_type": "code",
   "execution_count": 44,
   "metadata": {},
   "outputs": [
    {
     "name": "stdout",
     "output_type": "stream",
     "text": [
      "(105, 4)\n",
      "(45, 4)\n"
     ]
    }
   ],
   "source": [
    "print(x_train.shape) # x_trainの行数・列数を表示\n",
    "print(x_test.shape) # x_test　の行数・列数を表示"
   ]
  },
  {
   "cell_type": "code",
   "execution_count": 53,
   "metadata": {},
   "outputs": [
    {
     "name": "stdout",
     "output_type": "stream",
     "text": [
      "     がく片長さ  がく片幅  花弁長さ   花弁幅\n",
      "60    0.19  0.00  0.30  0.38\n",
      "116   0.61  0.42  0.92  0.71\n",
      "144   0.67  0.54  0.70  0.72\n",
      "119   0.47  0.08  0.71  0.58\n",
      "108   0.67  0.21  0.60  0.71\n",
      "..     ...   ...   ...   ...\n",
      "9     0.17  0.46  0.45  0.03\n",
      "103   0.56  0.38  0.77  0.71\n",
      "67    0.42  0.29  0.42  0.38\n",
      "117   0.94  0.75  0.84  0.88\n",
      "47    0.08  0.50  0.31  0.04\n",
      "\n",
      "[105 rows x 4 columns]\n"
     ]
    },
    {
     "ename": "TypeError",
     "evalue": "type() takes 1 or 3 arguments",
     "output_type": "error",
     "traceback": [
      "\u001b[1;31m---------------------------------------------------------------------------\u001b[0m",
      "\u001b[1;31mTypeError\u001b[0m                                 Traceback (most recent call last)",
      "Cell \u001b[1;32mIn[53], line 4\u001b[0m\n\u001b[0;32m      2\u001b[0m model\u001b[38;5;241m.\u001b[39mfit(x_train, y_train)\n\u001b[0;32m      3\u001b[0m \u001b[38;5;28mprint\u001b[39m(x_train)\n\u001b[1;32m----> 4\u001b[0m \u001b[38;5;28mprint\u001b[39m(\u001b[38;5;28;43mtype\u001b[39;49m\u001b[43m(\u001b[49m\u001b[38;5;124;43m\"\u001b[39;49m\u001b[38;5;124;43mx_train:\u001b[39;49m\u001b[38;5;124;43m\"\u001b[39;49m\u001b[43m,\u001b[49m\u001b[43mx_train\u001b[49m\u001b[43m)\u001b[49m)\n\u001b[0;32m      5\u001b[0m \u001b[38;5;28mprint\u001b[39m(y_train)\n\u001b[0;32m      6\u001b[0m \u001b[38;5;28mprint\u001b[39m(\u001b[38;5;28mtype\u001b[39m(\u001b[38;5;124m\"\u001b[39m\u001b[38;5;124my_train:\u001b[39m\u001b[38;5;124m\"\u001b[39m,y_train))\n",
      "\u001b[1;31mTypeError\u001b[0m: type() takes 1 or 3 arguments"
     ]
    }
   ],
   "source": [
    "# 訓練データで再学習\n",
    "model.fit(x_train, y_train)\n",
    "print(x_train)\n",
    "# print(type(\"x_train:\",x_train))\n",
    "print(y_train)\n",
    "# print(type(\"y_train:\",y_train))\n",
    "# テストデータの予測結果と実際の答えが合致する正解率を計算\n",
    "model.score(x_test, y_test)"
   ]
  },
  {
   "cell_type": "code",
   "execution_count": 48,
   "metadata": {},
   "outputs": [],
   "source": [
    "import pickle\n",
    "with open('irismodel.pkl', 'wb') as f:\n",
    "    pickle.dump(model, f)"
   ]
  },
  {
   "cell_type": "code",
   "execution_count": 54,
   "metadata": {},
   "outputs": [
    {
     "data": {
      "text/plain": [
       "array([ 3, -2,  3, -2, -2], dtype=int64)"
      ]
     },
     "execution_count": 54,
     "metadata": {},
     "output_type": "execute_result"
    }
   ],
   "source": [
    "model.tree_.feature"
   ]
  },
  {
   "cell_type": "code",
   "execution_count": 55,
   "metadata": {},
   "outputs": [
    {
     "data": {
      "text/plain": [
       "array([ 0.275, -2.   ,  0.69 , -2.   , -2.   ])"
      ]
     },
     "execution_count": 55,
     "metadata": {},
     "output_type": "execute_result"
    }
   ],
   "source": [
    "model.tree_.threshold"
   ]
  },
  {
   "cell_type": "code",
   "execution_count": 56,
   "metadata": {},
   "outputs": [
    {
     "data": {
      "image/png": "[encoded data removed]",
      "text/plain": [
       "<Figure size 1000x1000 with 1 Axes>"
      ]
     },
     "metadata": {},
     "output_type": "display_data"
    }
   ],
   "source": [
    "import matplotlib.pyplot as plt\n",
    "from sklearn.tree import plot_tree\n",
    "\n",
    "plt.figure(figsize=(10, 10))\n",
    "plot_tree(model, filled=True)\n",
    "plt.show()\n"
   ]
  },
  {
   "cell_type": "code",
   "execution_count": 57,
   "metadata": {},
   "outputs": [
    {
     "name": "stdout",
     "output_type": "stream",
     "text": [
      "[[34.  0.  0.]]\n",
      "[[ 0. 31.  6.]]\n",
      "[[ 0.  1. 33.]]\n"
     ]
    }
   ],
   "source": [
    "# ノード番号1、3、4に到達したアヤメの種類ごとの数\n",
    "print(model.tree_.value[1]) # ノード番号1に到達したとき\n",
    "print(model.tree_.value[3]) # ノード番号3に到達したとき\n",
    "print(model.tree_.value[4]) # ノード番号4に到達したとき"
   ]
  },
  {
   "cell_type": "code",
   "execution_count": 58,
   "metadata": {},
   "outputs": [
    {
     "data": {
      "text/plain": [
       "array(['Iris-setosa', 'Iris-versicolor', 'Iris-virginica'], dtype=object)"
      ]
     },
     "execution_count": 58,
     "metadata": {},
     "output_type": "execute_result"
    }
   ],
   "source": [
    "model.classes_"
   ]
  },
  {
   "cell_type": "code",
   "execution_count": 60,
   "metadata": {},
   "outputs": [
    {
     "data": {
      "text/plain": [
       "[Text(0.4, 0.8333333333333334, 'kaben_haba <= 0.275\\ngini = 0.664\\nsamples = 105\\nvalue = [34, 32, 39]'),\n",
       " Text(0.2, 0.5, 'gini = 0.0\\nsamples = 34\\nvalue = [34, 0, 0]'),\n",
       " Text(0.6, 0.5, 'kaben_haba <= 0.69\\ngini = 0.495\\nsamples = 71\\nvalue = [0, 32, 39]'),\n",
       " Text(0.4, 0.16666666666666666, 'gini = 0.272\\nsamples = 37\\nvalue = [0, 31, 6]'),\n",
       " Text(0.8, 0.16666666666666666, 'gini = 0.057\\nsamples = 34\\nvalue = [0, 1, 33]')]"
      ]
     },
     "execution_count": 60,
     "metadata": {},
     "output_type": "execute_result"
    },
    {
     "data": {
      "image/png": "[encoded data removed]",
      "text/plain": [
       "<Figure size 640x480 with 1 Axes>"
      ]
     },
     "metadata": {},
     "output_type": "display_data"
    }
   ],
   "source": [
    "# 描画関数の仕様上、和名の特徴量を英字に直す\n",
    "x_train.columns = ['gaku_nagasa', 'gaku_haba',\n",
    "'kaben_nagasa','kaben_haba']\n",
    "# 描画関数の利用\n",
    "from sklearn.tree import plot_tree\n",
    "# plot_tree関数で決定木を描画\n",
    "plot_tree(model, feature_names = list(x_train.columns),\n",
    "filled = True)"
   ]
  },
  {
   "cell_type": "markdown",
   "metadata": {},
   "source": []
  },
  {
   "cell_type": "code",
   "execution_count": 66,
   "metadata": {},
   "outputs": [
    {
     "name": "stdout",
     "output_type": "stream",
     "text": [
      "0.6643083900226757\n",
      "0.49513985320372944\n",
      "0.05709342560553643\n"
     ]
    }
   ],
   "source": [
    "#gini係数の求め方\n",
    "print(1-((34/105)**2+(32/105)**2+(39/105)**2))\n",
    "print(1-((0/71)**2+(32/71)**2+(39/71)**2))\n",
    "print(1-((0/34)**2+(1/34)**2+(33/34)**2))\n"
   ]
  },
  {
   "cell_type": "code",
   "execution_count": 67,
   "metadata": {},
   "outputs": [
    {
     "data": {
      "text/plain": [
       "0.0"
      ]
     },
     "execution_count": 67,
     "metadata": {},
     "output_type": "execute_result"
    }
   ],
   "source": [
    "#エントロピー\n",
    "import numpy as np\n",
    "np.log2(1)\n"
   ]
  },
  {
   "cell_type": "markdown",
   "metadata": {},
   "source": [
    "### 演習"
   ]
  },
  {
   "cell_type": "code",
   "execution_count": 117,
   "metadata": {},
   "outputs": [
    {
     "data": {
      "text/plain": [
       "array([1], dtype=int64)"
      ]
     },
     "execution_count": 117,
     "metadata": {},
     "output_type": "execute_result"
    }
   ],
   "source": [
    "import pandas as pd\n",
    "\n",
    "df=pd.read_csv(\"../datafiles/ex2.csv\")\n",
    "df.head(3)\n",
    "\n",
    "# len(df.index)\n",
    "# len(df.columns)\n",
    "df.shape\n",
    "\n",
    "df[\"target\"]\n",
    "df[\"target\"].unique()\n",
    "df[\"target\"].value_counts()\n",
    "\n",
    "df.drop(columns=\"target\").isnull()\n",
    "df.drop(columns=\"target\").isnull().sum()\n",
    "\n",
    "# df2=df\n",
    "# df2[\"x1\"] = df['x1'].fillna(df[\"x1\"].median())\n",
    "# df3=df2\n",
    "# df3[\"x2\"] = df['x2'].fillna(df[\"x2\"].median())\n",
    "# df3\n",
    "df3 = df.fillna(df.median())\n",
    "\n",
    "xcol = [\"x0\",\"x1\",\"x2\",\"x3\"]\n",
    "x=df3[xcol]\n",
    "t=df3[\"target\"]\n",
    "x\n",
    "t\n",
    "\n",
    "from sklearn.model_selection import train_test_split\n",
    "x_train, x_test, y_train, y_test = train_test_split(x, t,\n",
    "    test_size = 0.2, random_state = 0)\n",
    "# 関数のインポート\n",
    "from sklearn import tree\n",
    "# モデルの作成\n",
    "model = tree.DecisionTreeClassifier(max_depth = 3,random_state=0)\n",
    "model.fit(x_train, y_train) # モデルの学習\n",
    "# model.score(x_test, y_test) # 学習済みモデルの正解率計算\n",
    "\n",
    "(20+7)/(20+7+2+3)\n",
    "\n",
    "model.score(x_test, y_test) # 学習済みモデルの正解率計算\n",
    "\n",
    "# model.predict([[1.56,0.23,-1.1,-2.8]],feature_names = [\"x0\", \"x1\", \"x2\", \"x3\"])\n",
    "data = pd.DataFrame({\"x0\":[1.56], \"x1\":[0.23], \"x2\":[-1.1], \"x3\":[-2.8]})\n",
    "model.predict(data)\n",
    "\n",
    "# df2=df[\"x1\"].fillna(df[\"x1\"].median())\n",
    "\n",
    "# df2 = df.dropna(how = 'any', axis = 0)\n",
    "\n",
    "# (\"target\").isnull()\n",
    "\n",
    "# df[\"target\"].sum()\n",
    "# df."
   ]
  },
  {
   "cell_type": "code",
   "execution_count": 115,
   "metadata": {},
   "outputs": [
    {
     "name": "stdout",
     "output_type": "stream",
     "text": [
      "12 2 6\n"
     ]
    }
   ],
   "source": [
    "a=b=c=0\n",
    "pred=[]\n",
    "for x in x_test.values:\n",
    "    if x[3] <= 0.275:\n",
    "        # setosa\n",
    "        pred.append(\"setosa\")\n",
    "        a+=1\n",
    "    else:\n",
    "        if x[3] <= 0.69:\n",
    "            #vergicolor\n",
    "            pred.append(\"vergicolor\")\n",
    "            b+=1\n",
    "        else:\n",
    "            #virginica\n",
    "            pred.append(\"virginica\")\n",
    "            c+=1\n",
    "print(a,b,c)\n"
   ]
  },
  {
   "cell_type": "markdown",
   "metadata": {},
   "source": [
    "# 練習問題"
   ]
  },
  {
   "cell_type": "code",
   "execution_count": 30,
   "metadata": {},
   "outputs": [],
   "source": [
    "import pandas as pd"
   ]
  },
  {
   "cell_type": "code",
   "execution_count": 39,
   "metadata": {},
   "outputs": [
    {
     "data": {
      "text/html": [
       "<div>\n",
       "<style scoped>\n",
       "    .dataframe tbody tr th:only-of-type {\n",
       "        vertical-align: middle;\n",
       "    }\n",
       "\n",
       "    .dataframe tbody tr th {\n",
       "        vertical-align: top;\n",
       "    }\n",
       "\n",
       "    .dataframe thead th {\n",
       "        text-align: right;\n",
       "    }\n",
       "</style>\n",
       "<table border=\"1\" class=\"dataframe\">\n",
       "  <thead>\n",
       "    <tr style=\"text-align: right;\">\n",
       "      <th></th>\n",
       "      <th>x0</th>\n",
       "      <th>x1</th>\n",
       "      <th>x2</th>\n",
       "      <th>x3</th>\n",
       "      <th>target</th>\n",
       "    </tr>\n",
       "  </thead>\n",
       "  <tbody>\n",
       "    <tr>\n",
       "      <th>0</th>\n",
       "      <td>-1.244674</td>\n",
       "      <td>1.452124</td>\n",
       "      <td>-1.184385</td>\n",
       "      <td>-0.839169</td>\n",
       "      <td>1</td>\n",
       "    </tr>\n",
       "    <tr>\n",
       "      <th>1</th>\n",
       "      <td>-1.662920</td>\n",
       "      <td>-0.375804</td>\n",
       "      <td>-0.956673</td>\n",
       "      <td>0.380114</td>\n",
       "      <td>0</td>\n",
       "    </tr>\n",
       "    <tr>\n",
       "      <th>2</th>\n",
       "      <td>-1.926513</td>\n",
       "      <td>NaN</td>\n",
       "      <td>-1.203904</td>\n",
       "      <td>-0.728801</td>\n",
       "      <td>1</td>\n",
       "    </tr>\n",
       "  </tbody>\n",
       "</table>\n",
       "</div>"
      ],
      "text/plain": [
       "         x0        x1        x2        x3  target\n",
       "0 -1.244674  1.452124 -1.184385 -0.839169       1\n",
       "1 -1.662920 -0.375804 -0.956673  0.380114       0\n",
       "2 -1.926513       NaN -1.203904 -0.728801       1"
      ]
     },
     "execution_count": 39,
     "metadata": {},
     "output_type": "execute_result"
    }
   ],
   "source": [
    "df = pd.read_csv('ex2.csv')\n",
    "df.head(3)"
   ]
  },
  {
   "cell_type": "code",
   "execution_count": 40,
   "metadata": {},
   "outputs": [
    {
     "data": {
      "text/plain": [
       "(100, 5)"
      ]
     },
     "execution_count": 40,
     "metadata": {},
     "output_type": "execute_result"
    }
   ],
   "source": [
    "df.shape"
   ]
  },
  {
   "cell_type": "code",
   "execution_count": 41,
   "metadata": {},
   "outputs": [
    {
     "data": {
      "text/plain": [
       "1    80\n",
       "0    20\n",
       "Name: target, dtype: int64"
      ]
     },
     "execution_count": 41,
     "metadata": {},
     "output_type": "execute_result"
    }
   ],
   "source": [
    "df[\"target\"].value_counts()"
   ]
  },
  {
   "cell_type": "code",
   "execution_count": 42,
   "metadata": {},
   "outputs": [
    {
     "data": {
      "text/plain": [
       "x0        0\n",
       "x1        1\n",
       "x2        1\n",
       "x3        0\n",
       "target    0\n",
       "dtype: int64"
      ]
     },
     "execution_count": 42,
     "metadata": {},
     "output_type": "execute_result"
    }
   ],
   "source": [
    "df.isnull().sum()"
   ]
  },
  {
   "cell_type": "code",
   "execution_count": 43,
   "metadata": {},
   "outputs": [],
   "source": [
    "df2 = df.fillna(df.median())"
   ]
  },
  {
   "cell_type": "code",
   "execution_count": 44,
   "metadata": {},
   "outputs": [],
   "source": [
    "xcol=['x0','x1','x2','x3']\n",
    "x = df2[xcol]\n",
    "t =df2['target']"
   ]
  },
  {
   "cell_type": "code",
   "execution_count": 45,
   "metadata": {},
   "outputs": [],
   "source": [
    "from sklearn.model_selection import train_test_split\n",
    "\n",
    "x_train, x_test, y_train, y_test = train_test_split(x, t,\n",
    "    test_size = 0.2, random_state = 0)"
   ]
  },
  {
   "cell_type": "code",
   "execution_count": 46,
   "metadata": {},
   "outputs": [
    {
     "data": {
      "text/plain": [
       "DecisionTreeClassifier(max_depth=3, random_state=0)"
      ]
     },
     "execution_count": 46,
     "metadata": {},
     "output_type": "execute_result"
    }
   ],
   "source": [
    "from sklearn import tree\n",
    "model = tree.DecisionTreeClassifier(max_depth = 3,\n",
    "    random_state = 0)\n",
    "model.fit(x_train, y_train)"
   ]
  },
  {
   "cell_type": "code",
   "execution_count": 47,
   "metadata": {},
   "outputs": [
    {
     "data": {
      "text/plain": [
       "0.95"
      ]
     },
     "execution_count": 47,
     "metadata": {},
     "output_type": "execute_result"
    }
   ],
   "source": [
    "model.score(x_test, y_test)"
   ]
  },
  {
   "cell_type": "code",
   "execution_count": 48,
   "metadata": {},
   "outputs": [
    {
     "data": {
      "text/plain": [
       "array([1], dtype=int64)"
      ]
     },
     "execution_count": 48,
     "metadata": {},
     "output_type": "execute_result"
    }
   ],
   "source": [
    "newdata = [[1.56,0.23, -1.1,2.8]]\n",
    "\n",
    "answer = model.predict(newdata)\n",
    "answer"
   ]
  },
  {
   "cell_type": "code",
   "execution_count": null,
   "metadata": {},
   "outputs": [],
   "source": []
  }
 ],
 "metadata": {
  "kernelspec": {
   "display_name": "Python 3",
   "language": "python",
   "name": "python3"
  },
  "language_info": {
   "codemirror_mode": {
    "name": "ipython",
    "version": 3
   },
   "file_extension": ".py",
   "mimetype": "text/x-python",
   "name": "python",
   "nbconvert_exporter": "python",
   "pygments_lexer": "ipython3",
   "version": "3.9.18"
  }
 },
 "nbformat": 4,
 "nbformat_minor": 4
}
