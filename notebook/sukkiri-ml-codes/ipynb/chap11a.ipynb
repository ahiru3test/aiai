{
 "cells": [
  {
   "cell_type": "markdown",
   "metadata": {},
   "source": [
    "### 11-1いつもの処理"
   ]
  },
  {
   "cell_type": "code",
   "execution_count": 80,
   "metadata": {},
   "outputs": [],
   "source": [
    "# 絶対使うであろうモジュールのインポート\n",
    "import pandas as pd\n",
    "\n",
    "from sklearn.model_selection import train_test_split\n",
    "%matplotlib inline\n",
    "from sklearn.preprocessing import StandardScaler"
   ]
  },
  {
   "cell_type": "markdown",
   "metadata": {},
   "source": [
    "### 11-2データ読込と標準化"
   ]
  },
  {
   "cell_type": "code",
   "execution_count": 81,
   "metadata": {},
   "outputs": [],
   "source": [
    "df = pd.read_csv('../datafiles/Boston.csv') # csvの読み込み\n",
    "df = df.fillna(df.mean(numeric_only=True)) # 欠損値補完\n",
    "df = df.drop([76], axis = 0) # 外れ値の行を削除\n",
    "\n",
    "t = df[['PRICE']] # 正解データ抜き出し\n",
    "x = df.loc[:,['RM', 'PTRATIO', 'LSTAT']] # 特徴量抜き出し\n",
    "\n",
    "# 標準化\n",
    "sc = StandardScaler()\n",
    "sc_x = sc.fit_transform(x)\n",
    "sc2 = StandardScaler()\n",
    "sc_t = sc2.fit_transform(t)"
   ]
  },
  {
   "cell_type": "markdown",
   "metadata": {},
   "source": [
    "### 11-3２乗列と交互作用項の追加"
   ]
  },
  {
   "cell_type": "code",
   "execution_count": 82,
   "metadata": {},
   "outputs": [
    {
     "data": {
      "text/plain": [
       "(99, 9)"
      ]
     },
     "execution_count": 82,
     "metadata": {},
     "output_type": "execute_result"
    }
   ],
   "source": [
    "from sklearn.preprocessing import PolynomialFeatures\n",
    "\n",
    "pf = PolynomialFeatures(degree = 2, include_bias = False)\n",
    "pf_x = pf.fit_transform(sc_x) # 2乗列と交互作用項の追加\n",
    "pf_x.shape # 行数と列数"
   ]
  },
  {
   "cell_type": "code",
   "execution_count": 83,
   "metadata": {},
   "outputs": [
    {
     "data": {
      "text/plain": [
       "numpy.ndarray"
      ]
     },
     "execution_count": 83,
     "metadata": {},
     "output_type": "execute_result"
    }
   ],
   "source": [
    "#型がNumpyなので列名が入っていない\n",
    "type(pf_x)"
   ]
  },
  {
   "cell_type": "markdown",
   "metadata": {},
   "source": [
    "### 11-4列名を確認する"
   ]
  },
  {
   "cell_type": "code",
   "execution_count": 84,
   "metadata": {},
   "outputs": [
    {
     "data": {
      "text/plain": [
       "array(['x0', 'x1', 'x2', 'x0^2', 'x0 x1', 'x0 x2', 'x1^2', 'x1 x2',\n",
       "       'x2^2'], dtype=object)"
      ]
     },
     "execution_count": 84,
     "metadata": {},
     "output_type": "execute_result"
    }
   ],
   "source": [
    "# pf.get_feature_names()\n",
    "pf.get_feature_names_out()\n"
   ]
  },
  {
   "cell_type": "markdown",
   "metadata": {},
   "source": [
    "### 11-5とりあえず学習して決定係数を出す（過学習が起きてるはず）"
   ]
  },
  {
   "cell_type": "code",
   "execution_count": 85,
   "metadata": {},
   "outputs": [
    {
     "name": "stdout",
     "output_type": "stream",
     "text": [
      "0.8710525685992707 0.7854929935582584\n"
     ]
    }
   ],
   "source": [
    "from sklearn.linear_model import LinearRegression\n",
    "\n",
    "x_train, x_test, y_train, y_test = train_test_split(pf_x,\n",
    "    sc_t, test_size = 0.3, random_state = 0)\n",
    "model = LinearRegression()\n",
    "model.fit(x_train, y_train)\n",
    "\n",
    "# 訓練データ・テストデータの決定係数\n",
    "print(model.score(x_train, y_train),model.score(x_test, y_test)) \n"
   ]
  },
  {
   "cell_type": "markdown",
   "metadata": {},
   "source": [
    "### 11-6リッジ回帰で学習（過学習が起きていない）"
   ]
  },
  {
   "cell_type": "code",
   "execution_count": 86,
   "metadata": {},
   "outputs": [
    {
     "name": "stdout",
     "output_type": "stream",
     "text": [
      "0.8607320524729507 0.8458730019328174\n"
     ]
    }
   ],
   "source": [
    "from sklearn.linear_model import Ridge # モジュールインポート\n",
    "# モデルの作成\n",
    "ridgeModel = Ridge(alpha = 10)\n",
    "ridgeModel.fit(x_train, y_train) # 学習\n",
    "print(ridgeModel.score(x_train, y_train),ridgeModel.score(x_test, y_test))\n"
   ]
  },
  {
   "cell_type": "code",
   "execution_count": 87,
   "metadata": {},
   "outputs": [
    {
     "name": "stdout",
     "output_type": "stream",
     "text": [
      "[ 0.36225478 -0.17240076 -0.40247634  0.12355322 -0.05920453 -0.08296411\n",
      " -0.06523803 -0.01635637  0.07480436]\n"
     ]
    },
    {
     "data": {
      "text/plain": [
       "x0       0.362255\n",
       "x1      -0.172401\n",
       "x2      -0.402476\n",
       "x0^2     0.123553\n",
       "x0 x1   -0.059205\n",
       "x0 x2   -0.082964\n",
       "x1^2    -0.065238\n",
       "x1 x2   -0.016356\n",
       "x2^2     0.074804\n",
       "dtype: float64"
      ]
     },
     "execution_count": 87,
     "metadata": {},
     "output_type": "execute_result"
    }
   ],
   "source": [
    "weight = ridgeModel.coef_ # 係数抜き出す\n",
    "print(weight[0])\n",
    "# # 見やすいようにシリーズ変換\n",
    "pd.Series(weight[0], index = pf.get_feature_names_out())"
   ]
  },
  {
   "cell_type": "markdown",
   "metadata": {},
   "source": [
    "### 11-7正則化項の定数を0.01刻みで検証"
   ]
  },
  {
   "cell_type": "code",
   "execution_count": 88,
   "metadata": {},
   "outputs": [
    {
     "name": "stdout",
     "output_type": "stream",
     "text": [
      "17.62 0.8528754801497631\n"
     ]
    }
   ],
   "source": [
    "maxScore = 0\n",
    "maxIndex = 0\n",
    "# range関数により整数列を1～2000生成\n",
    "for i in range(1, 2001):\n",
    "    num = i/100\n",
    "    ridgeModel = Ridge(random_state = 0, alpha = num)\n",
    "    ridgeModel.fit(x_train, y_train)\n",
    "    result = ridgeModel.score(x_test, y_test)\n",
    "    if result > maxScore:\n",
    "        maxScore = result\n",
    "        maxIndex = num\n",
    "\n",
    "print(maxIndex, maxScore)"
   ]
  },
  {
   "cell_type": "markdown",
   "metadata": {},
   "source": [
    "### 11-8重回帰とリッジ回帰の係数の大きさを比較する"
   ]
  },
  {
   "cell_type": "code",
   "execution_count": 89,
   "metadata": {},
   "outputs": [
    {
     "name": "stdout",
     "output_type": "stream",
     "text": [
      "1.556674598328837\n",
      "1.215280082402682\n"
     ]
    }
   ],
   "source": [
    "print(sum(abs(model.coef_)[0])) # 線形回帰の係数（絶対値）\n",
    "# の合計\n",
    "print(sum(abs(ridgeModel.coef_)[0])) # リッジ回帰の合計"
   ]
  },
  {
   "cell_type": "markdown",
   "metadata": {},
   "source": [
    "### 11-9ラッソ回帰"
   ]
  },
  {
   "cell_type": "code",
   "execution_count": 90,
   "metadata": {},
   "outputs": [
    {
     "name": "stdout",
     "output_type": "stream",
     "text": [
      "0.8224680202036665 0.858846785318774\n"
     ]
    }
   ],
   "source": [
    "from sklearn.linear_model import Lasso\n",
    "\n",
    "x_train, x_test, y_train, y_test = train_test_split(pf_x,\n",
    "    sc_t, test_size = 0.3, random_state = 0)\n",
    "\n",
    "# ラッソ回帰のモデル作成（alphaは正則化項につく定数）\n",
    "model = Lasso(alpha = 0.1)\n",
    "model.fit(x_train, y_train)\n",
    "# 訓練・テストデータの決定係数\n",
    "print(model.score(x_train, y_train),model.score(x_test, y_test))\n"
   ]
  },
  {
   "cell_type": "markdown",
   "metadata": {},
   "source": [
    "### 11-10回帰式の係数を確認"
   ]
  },
  {
   "cell_type": "code",
   "execution_count": 91,
   "metadata": {},
   "outputs": [
    {
     "name": "stdout",
     "output_type": "stream",
     "text": [
      "[ 0.40942617 -0.08310439 -0.28771435  0.15000106 -0.         -0.03744993\n",
      " -0.          0.          0.        ]\n",
      "x0       0.409426\n",
      "x1      -0.083104\n",
      "x2      -0.287714\n",
      "x0^2     0.150001\n",
      "x0 x1   -0.000000\n",
      "x0 x2   -0.037450\n",
      "x1^2    -0.000000\n",
      "x1 x2    0.000000\n",
      "x2^2     0.000000\n",
      "dtype: float64\n",
      "x0       0.330449\n",
      "x1      -0.168706\n",
      "x2      -0.336913\n",
      "x0^2     0.117635\n",
      "x0 x1   -0.073967\n",
      "x0 x2   -0.085216\n",
      "x1^2    -0.054166\n",
      "x1 x2   -0.008245\n",
      "x2^2     0.039983\n",
      "dtype: float64\n"
     ]
    }
   ],
   "source": [
    "weight = model.coef_ # ラッソ回帰の係数抜き出す\n",
    "print(weight)\n",
    "# 見やすいようにシリーズ変換\n",
    "print(pd.Series(weight, index = pf.get_feature_names_out()))\n",
    "\n",
    "weight2 = ridgeModel.coef_ # リッジ回帰の係数抜き出す\n",
    "print(pd.Series(weight2[0], index = pf.get_feature_names_out()))\n"
   ]
  },
  {
   "cell_type": "markdown",
   "metadata": {},
   "source": [
    "### 11-11"
   ]
  },
  {
   "cell_type": "code",
   "execution_count": 92,
   "metadata": {},
   "outputs": [],
   "source": [
    "import pandas as pd\n",
    "from sklearn.model_selection import train_test_split\n",
    "\n",
    "df = pd.read_csv('../datafiles/Boston.csv')\n",
    "df = df.fillna(df.mean(numeric_only=True))\n",
    "#df = df.drop([76], axis = 0) # 外れ値の行を削除\n",
    "x = df.loc[:, 'ZN':'LSTAT']\n",
    "t = df['PRICE']\n",
    "\n",
    "x_train, x_test, y_train, y_test = train_test_split(x, t,\n",
    "    test_size = 0.3, random_state = 0)"
   ]
  },
  {
   "cell_type": "markdown",
   "metadata": {},
   "source": [
    "### 11-12 回帰木"
   ]
  },
  {
   "cell_type": "code",
   "execution_count": 93,
   "metadata": {},
   "outputs": [
    {
     "data": {
      "text/plain": [
       "0.59433275545417"
      ]
     },
     "execution_count": 93,
     "metadata": {},
     "output_type": "execute_result"
    }
   ],
   "source": [
    "# ライブラリインポート(回帰木バージョン)\n",
    "from sklearn.tree import DecisionTreeRegressor\n",
    "\n",
    "# 木の深さの最大を10と設定\n",
    "model = DecisionTreeRegressor(max_depth = 10,\n",
    "random_state = 0)\n",
    "model.fit(x_train, y_train)\n",
    "model.score(x_test, y_test) # テストデータでの決定係数"
   ]
  },
  {
   "cell_type": "code",
   "execution_count": 94,
   "metadata": {},
   "outputs": [
    {
     "data": {
      "text/plain": [
       "ZN         0.000252\n",
       "INDUS      0.007301\n",
       "CHAS       0.000000\n",
       "NOX        0.001967\n",
       "RM         0.759547\n",
       "AGE        0.139388\n",
       "DIS        0.013635\n",
       "RAD        0.000404\n",
       "TAX        0.013975\n",
       "PTRATIO    0.001913\n",
       "B          0.003331\n",
       "LSTAT      0.058287\n",
       "dtype: float64"
      ]
     },
     "execution_count": 94,
     "metadata": {},
     "output_type": "execute_result"
    }
   ],
   "source": [
    "pd.Series( model.feature_importances_, index = x.columns )"
   ]
  },
  {
   "cell_type": "code",
   "execution_count": 95,
   "metadata": {},
   "outputs": [],
   "source": [
    "#練習問題"
   ]
  },
  {
   "cell_type": "markdown",
   "metadata": {},
   "source": [
    "### 11-1"
   ]
  },
  {
   "cell_type": "code",
   "execution_count": 96,
   "metadata": {},
   "outputs": [],
   "source": [
    "import pandas as pd\n",
    "from sklearn import tree\n",
    "from sklearn.model_selection import train_test_split\n",
    "%matplotlib inline"
   ]
  },
  {
   "cell_type": "markdown",
   "metadata": {},
   "source": [
    "### 11-2"
   ]
  },
  {
   "cell_type": "code",
   "execution_count": 97,
   "metadata": {},
   "outputs": [
    {
     "name": "stdout",
     "output_type": "stream",
     "text": [
      "(27128, 16)\n"
     ]
    },
    {
     "data": {
      "text/html": [
       "<div>\n",
       "<style scoped>\n",
       "    .dataframe tbody tr th:only-of-type {\n",
       "        vertical-align: middle;\n",
       "    }\n",
       "\n",
       "    .dataframe tbody tr th {\n",
       "        vertical-align: top;\n",
       "    }\n",
       "\n",
       "    .dataframe thead th {\n",
       "        text-align: right;\n",
       "    }\n",
       "</style>\n",
       "<table border=\"1\" class=\"dataframe\">\n",
       "  <thead>\n",
       "    <tr style=\"text-align: right;\">\n",
       "      <th></th>\n",
       "      <th>id</th>\n",
       "      <th>age</th>\n",
       "      <th>job</th>\n",
       "      <th>marital</th>\n",
       "      <th>education</th>\n",
       "      <th>default</th>\n",
       "      <th>amount</th>\n",
       "      <th>housing</th>\n",
       "      <th>loan</th>\n",
       "      <th>contact</th>\n",
       "      <th>day</th>\n",
       "      <th>month</th>\n",
       "      <th>duration</th>\n",
       "      <th>campaign</th>\n",
       "      <th>previous</th>\n",
       "      <th>y</th>\n",
       "    </tr>\n",
       "  </thead>\n",
       "  <tbody>\n",
       "    <tr>\n",
       "      <th>0</th>\n",
       "      <td>1</td>\n",
       "      <td>39</td>\n",
       "      <td>blue-collar</td>\n",
       "      <td>married</td>\n",
       "      <td>secondary</td>\n",
       "      <td>no</td>\n",
       "      <td>1756.0</td>\n",
       "      <td>yes</td>\n",
       "      <td>no</td>\n",
       "      <td>cellular</td>\n",
       "      <td>3</td>\n",
       "      <td>apr</td>\n",
       "      <td>370.055237</td>\n",
       "      <td>1</td>\n",
       "      <td>0</td>\n",
       "      <td>1</td>\n",
       "    </tr>\n",
       "    <tr>\n",
       "      <th>1</th>\n",
       "      <td>2</td>\n",
       "      <td>51</td>\n",
       "      <td>entrepreneur</td>\n",
       "      <td>married</td>\n",
       "      <td>primary</td>\n",
       "      <td>no</td>\n",
       "      <td>1443.0</td>\n",
       "      <td>no</td>\n",
       "      <td>no</td>\n",
       "      <td>cellular</td>\n",
       "      <td>18</td>\n",
       "      <td>feb</td>\n",
       "      <td>233.998933</td>\n",
       "      <td>10</td>\n",
       "      <td>0</td>\n",
       "      <td>1</td>\n",
       "    </tr>\n",
       "    <tr>\n",
       "      <th>2</th>\n",
       "      <td>3</td>\n",
       "      <td>36</td>\n",
       "      <td>management</td>\n",
       "      <td>single</td>\n",
       "      <td>tertiary</td>\n",
       "      <td>no</td>\n",
       "      <td>436.0</td>\n",
       "      <td>no</td>\n",
       "      <td>no</td>\n",
       "      <td>cellular</td>\n",
       "      <td>13</td>\n",
       "      <td>apr</td>\n",
       "      <td>NaN</td>\n",
       "      <td>1</td>\n",
       "      <td>2</td>\n",
       "      <td>0</td>\n",
       "    </tr>\n",
       "    <tr>\n",
       "      <th>3</th>\n",
       "      <td>4</td>\n",
       "      <td>63</td>\n",
       "      <td>retired</td>\n",
       "      <td>married</td>\n",
       "      <td>secondary</td>\n",
       "      <td>no</td>\n",
       "      <td>474.0</td>\n",
       "      <td>no</td>\n",
       "      <td>no</td>\n",
       "      <td>cellular</td>\n",
       "      <td>25</td>\n",
       "      <td>jan</td>\n",
       "      <td>252.525808</td>\n",
       "      <td>1</td>\n",
       "      <td>0</td>\n",
       "      <td>0</td>\n",
       "    </tr>\n",
       "    <tr>\n",
       "      <th>4</th>\n",
       "      <td>5</td>\n",
       "      <td>31</td>\n",
       "      <td>management</td>\n",
       "      <td>single</td>\n",
       "      <td>tertiary</td>\n",
       "      <td>no</td>\n",
       "      <td>354.0</td>\n",
       "      <td>no</td>\n",
       "      <td>no</td>\n",
       "      <td>cellular</td>\n",
       "      <td>30</td>\n",
       "      <td>apr</td>\n",
       "      <td>NaN</td>\n",
       "      <td>1</td>\n",
       "      <td>2</td>\n",
       "      <td>0</td>\n",
       "    </tr>\n",
       "  </tbody>\n",
       "</table>\n",
       "</div>"
      ],
      "text/plain": [
       "   id  age           job  marital  education default  amount housing loan  \\\n",
       "0   1   39   blue-collar  married  secondary      no  1756.0     yes   no   \n",
       "1   2   51  entrepreneur  married    primary      no  1443.0      no   no   \n",
       "2   3   36    management   single   tertiary      no   436.0      no   no   \n",
       "3   4   63       retired  married  secondary      no   474.0      no   no   \n",
       "4   5   31    management   single   tertiary      no   354.0      no   no   \n",
       "\n",
       "    contact  day month    duration  campaign  previous  y  \n",
       "0  cellular    3   apr  370.055237         1         0  1  \n",
       "1  cellular   18   feb  233.998933        10         0  1  \n",
       "2  cellular   13   apr         NaN         1         2  0  \n",
       "3  cellular   25   jan  252.525808         1         0  0  \n",
       "4  cellular   30   apr         NaN         1         2  0  "
      ]
     },
     "execution_count": 97,
     "metadata": {},
     "output_type": "execute_result"
    }
   ],
   "source": [
    "df = pd.read_csv('../datafiles/Bank.csv')\n",
    "print(df.shape)\n",
    "df.head()"
   ]
  },
  {
   "cell_type": "markdown",
   "metadata": {},
   "source": [
    "### 11-3"
   ]
  },
  {
   "cell_type": "code",
   "execution_count": 98,
   "metadata": {},
   "outputs": [],
   "source": [
    "# まず、ダミー変数化をしたいが、文字列の列が複数あるので抜き出す。\n",
    "str_col_name=['job','default','marital','education','housing','loan','contact','month']\n",
    "str_df = df[str_col_name]\n",
    "#複数列を一気にダミー変数化\n",
    "str_df2=pd.get_dummies(str_df,drop_first=True)\n",
    "\n",
    "num_df = df.drop(str_col_name,axis=1)#数値列を抜き出す\n",
    "df2 = pd.concat([num_df,str_df2,str_df],axis=1)#結合(今後の集計の利便性も考慮してstr_dfも結合しておく)"
   ]
  },
  {
   "cell_type": "markdown",
   "metadata": {},
   "source": [
    "### 11-4"
   ]
  },
  {
   "cell_type": "code",
   "execution_count": 99,
   "metadata": {},
   "outputs": [
    {
     "data": {
      "text/html": [
       "<div>\n",
       "<style scoped>\n",
       "    .dataframe tbody tr th:only-of-type {\n",
       "        vertical-align: middle;\n",
       "    }\n",
       "\n",
       "    .dataframe tbody tr th {\n",
       "        vertical-align: top;\n",
       "    }\n",
       "\n",
       "    .dataframe thead th {\n",
       "        text-align: right;\n",
       "    }\n",
       "</style>\n",
       "<table border=\"1\" class=\"dataframe\">\n",
       "  <thead>\n",
       "    <tr style=\"text-align: right;\">\n",
       "      <th></th>\n",
       "      <th>id</th>\n",
       "      <th>age</th>\n",
       "      <th>amount</th>\n",
       "      <th>day</th>\n",
       "      <th>duration</th>\n",
       "      <th>campaign</th>\n",
       "      <th>previous</th>\n",
       "      <th>y</th>\n",
       "      <th>job_blue-collar</th>\n",
       "      <th>job_entrepreneur</th>\n",
       "      <th>...</th>\n",
       "      <th>month_oct</th>\n",
       "      <th>month_sep</th>\n",
       "      <th>job</th>\n",
       "      <th>default</th>\n",
       "      <th>marital</th>\n",
       "      <th>education</th>\n",
       "      <th>housing</th>\n",
       "      <th>loan</th>\n",
       "      <th>contact</th>\n",
       "      <th>month</th>\n",
       "    </tr>\n",
       "  </thead>\n",
       "  <tbody>\n",
       "    <tr>\n",
       "      <th>13378</th>\n",
       "      <td>13379</td>\n",
       "      <td>46</td>\n",
       "      <td>0.0</td>\n",
       "      <td>10</td>\n",
       "      <td>378.293875</td>\n",
       "      <td>1</td>\n",
       "      <td>0</td>\n",
       "      <td>1</td>\n",
       "      <td>False</td>\n",
       "      <td>False</td>\n",
       "      <td>...</td>\n",
       "      <td>False</td>\n",
       "      <td>False</td>\n",
       "      <td>unemployed</td>\n",
       "      <td>no</td>\n",
       "      <td>married</td>\n",
       "      <td>tertiary</td>\n",
       "      <td>yes</td>\n",
       "      <td>no</td>\n",
       "      <td>cellular</td>\n",
       "      <td>jul</td>\n",
       "    </tr>\n",
       "    <tr>\n",
       "      <th>3800</th>\n",
       "      <td>3801</td>\n",
       "      <td>41</td>\n",
       "      <td>-333.0</td>\n",
       "      <td>30</td>\n",
       "      <td>300.845752</td>\n",
       "      <td>3</td>\n",
       "      <td>2</td>\n",
       "      <td>0</td>\n",
       "      <td>True</td>\n",
       "      <td>False</td>\n",
       "      <td>...</td>\n",
       "      <td>False</td>\n",
       "      <td>False</td>\n",
       "      <td>blue-collar</td>\n",
       "      <td>no</td>\n",
       "      <td>divorced</td>\n",
       "      <td>secondary</td>\n",
       "      <td>yes</td>\n",
       "      <td>no</td>\n",
       "      <td>cellular</td>\n",
       "      <td>jan</td>\n",
       "    </tr>\n",
       "    <tr>\n",
       "      <th>10398</th>\n",
       "      <td>10399</td>\n",
       "      <td>30</td>\n",
       "      <td>5389.0</td>\n",
       "      <td>6</td>\n",
       "      <td>159.053623</td>\n",
       "      <td>3</td>\n",
       "      <td>0</td>\n",
       "      <td>1</td>\n",
       "      <td>False</td>\n",
       "      <td>False</td>\n",
       "      <td>...</td>\n",
       "      <td>False</td>\n",
       "      <td>False</td>\n",
       "      <td>management</td>\n",
       "      <td>no</td>\n",
       "      <td>single</td>\n",
       "      <td>tertiary</td>\n",
       "      <td>no</td>\n",
       "      <td>no</td>\n",
       "      <td>cellular</td>\n",
       "      <td>aug</td>\n",
       "    </tr>\n",
       "    <tr>\n",
       "      <th>23401</th>\n",
       "      <td>23402</td>\n",
       "      <td>39</td>\n",
       "      <td>255.0</td>\n",
       "      <td>5</td>\n",
       "      <td>334.802583</td>\n",
       "      <td>1</td>\n",
       "      <td>0</td>\n",
       "      <td>0</td>\n",
       "      <td>False</td>\n",
       "      <td>False</td>\n",
       "      <td>...</td>\n",
       "      <td>False</td>\n",
       "      <td>False</td>\n",
       "      <td>management</td>\n",
       "      <td>no</td>\n",
       "      <td>single</td>\n",
       "      <td>tertiary</td>\n",
       "      <td>yes</td>\n",
       "      <td>no</td>\n",
       "      <td>sending _document</td>\n",
       "      <td>may</td>\n",
       "    </tr>\n",
       "    <tr>\n",
       "      <th>26223</th>\n",
       "      <td>26224</td>\n",
       "      <td>47</td>\n",
       "      <td>33.0</td>\n",
       "      <td>5</td>\n",
       "      <td>NaN</td>\n",
       "      <td>1</td>\n",
       "      <td>0</td>\n",
       "      <td>1</td>\n",
       "      <td>False</td>\n",
       "      <td>False</td>\n",
       "      <td>...</td>\n",
       "      <td>False</td>\n",
       "      <td>False</td>\n",
       "      <td>services</td>\n",
       "      <td>no</td>\n",
       "      <td>single</td>\n",
       "      <td>secondary</td>\n",
       "      <td>yes</td>\n",
       "      <td>no</td>\n",
       "      <td>cellular</td>\n",
       "      <td>may</td>\n",
       "    </tr>\n",
       "  </tbody>\n",
       "</table>\n",
       "<p>5 rows × 48 columns</p>\n",
       "</div>"
      ],
      "text/plain": [
       "          id  age  amount  day    duration  campaign  previous  y  \\\n",
       "13378  13379   46     0.0   10  378.293875         1         0  1   \n",
       "3800    3801   41  -333.0   30  300.845752         3         2  0   \n",
       "10398  10399   30  5389.0    6  159.053623         3         0  1   \n",
       "23401  23402   39   255.0    5  334.802583         1         0  0   \n",
       "26223  26224   47    33.0    5         NaN         1         0  1   \n",
       "\n",
       "       job_blue-collar  job_entrepreneur  ...  month_oct  month_sep  \\\n",
       "13378            False             False  ...      False      False   \n",
       "3800              True             False  ...      False      False   \n",
       "10398            False             False  ...      False      False   \n",
       "23401            False             False  ...      False      False   \n",
       "26223            False             False  ...      False      False   \n",
       "\n",
       "               job  default   marital  education  housing  loan  \\\n",
       "13378   unemployed       no   married   tertiary      yes    no   \n",
       "3800   blue-collar       no  divorced  secondary      yes    no   \n",
       "10398   management       no    single   tertiary       no    no   \n",
       "23401   management       no    single   tertiary      yes    no   \n",
       "26223     services       no    single  secondary      yes    no   \n",
       "\n",
       "                 contact  month  \n",
       "13378           cellular    jul  \n",
       "3800            cellular    jan  \n",
       "10398           cellular    aug  \n",
       "23401  sending _document    may  \n",
       "26223           cellular    may  \n",
       "\n",
       "[5 rows x 48 columns]"
      ]
     },
     "execution_count": 99,
     "metadata": {},
     "output_type": "execute_result"
    }
   ],
   "source": [
    "#訓練&検証データとテストデータに分割\n",
    "train_val,test = train_test_split(df2,test_size=0.1,random_state=9)\n",
    "train_val.head()"
   ]
  },
  {
   "cell_type": "markdown",
   "metadata": {},
   "source": [
    "### 11-5"
   ]
  },
  {
   "cell_type": "code",
   "execution_count": 100,
   "metadata": {},
   "outputs": [
    {
     "data": {
      "text/html": [
       "<style>#sk-container-id-5 {color: black;}#sk-container-id-5 pre{padding: 0;}#sk-container-id-5 div.sk-toggleable {background-color: white;}#sk-container-id-5 label.sk-toggleable__label {cursor: pointer;display: block;width: 100%;margin-bottom: 0;padding: 0.3em;box-sizing: border-box;text-align: center;}#sk-container-id-5 label.sk-toggleable__label-arrow:before {content: \"▸\";float: left;margin-right: 0.25em;color: #696969;}#sk-container-id-5 label.sk-toggleable__label-arrow:hover:before {color: black;}#sk-container-id-5 div.sk-estimator:hover label.sk-toggleable__label-arrow:before {color: black;}#sk-container-id-5 div.sk-toggleable__content {max-height: 0;max-width: 0;overflow: hidden;text-align: left;background-color: #f0f8ff;}#sk-container-id-5 div.sk-toggleable__content pre {margin: 0.2em;color: black;border-radius: 0.25em;background-color: #f0f8ff;}#sk-container-id-5 input.sk-toggleable__control:checked~div.sk-toggleable__content {max-height: 200px;max-width: 100%;overflow: auto;}#sk-container-id-5 input.sk-toggleable__control:checked~label.sk-toggleable__label-arrow:before {content: \"▾\";}#sk-container-id-5 div.sk-estimator input.sk-toggleable__control:checked~label.sk-toggleable__label {background-color: #d4ebff;}#sk-container-id-5 div.sk-label input.sk-toggleable__control:checked~label.sk-toggleable__label {background-color: #d4ebff;}#sk-container-id-5 input.sk-hidden--visually {border: 0;clip: rect(1px 1px 1px 1px);clip: rect(1px, 1px, 1px, 1px);height: 1px;margin: -1px;overflow: hidden;padding: 0;position: absolute;width: 1px;}#sk-container-id-5 div.sk-estimator {font-family: monospace;background-color: #f0f8ff;border: 1px dotted black;border-radius: 0.25em;box-sizing: border-box;margin-bottom: 0.5em;}#sk-container-id-5 div.sk-estimator:hover {background-color: #d4ebff;}#sk-container-id-5 div.sk-parallel-item::after {content: \"\";width: 100%;border-bottom: 1px solid gray;flex-grow: 1;}#sk-container-id-5 div.sk-label:hover label.sk-toggleable__label {background-color: #d4ebff;}#sk-container-id-5 div.sk-serial::before {content: \"\";position: absolute;border-left: 1px solid gray;box-sizing: border-box;top: 0;bottom: 0;left: 50%;z-index: 0;}#sk-container-id-5 div.sk-serial {display: flex;flex-direction: column;align-items: center;background-color: white;padding-right: 0.2em;padding-left: 0.2em;position: relative;}#sk-container-id-5 div.sk-item {position: relative;z-index: 1;}#sk-container-id-5 div.sk-parallel {display: flex;align-items: stretch;justify-content: center;background-color: white;position: relative;}#sk-container-id-5 div.sk-item::before, #sk-container-id-5 div.sk-parallel-item::before {content: \"\";position: absolute;border-left: 1px solid gray;box-sizing: border-box;top: 0;bottom: 0;left: 50%;z-index: -1;}#sk-container-id-5 div.sk-parallel-item {display: flex;flex-direction: column;z-index: 1;position: relative;background-color: white;}#sk-container-id-5 div.sk-parallel-item:first-child::after {align-self: flex-end;width: 50%;}#sk-container-id-5 div.sk-parallel-item:last-child::after {align-self: flex-start;width: 50%;}#sk-container-id-5 div.sk-parallel-item:only-child::after {width: 0;}#sk-container-id-5 div.sk-dashed-wrapped {border: 1px dashed gray;margin: 0 0.4em 0.5em 0.4em;box-sizing: border-box;padding-bottom: 0.4em;background-color: white;}#sk-container-id-5 div.sk-label label {font-family: monospace;font-weight: bold;display: inline-block;line-height: 1.2em;}#sk-container-id-5 div.sk-label-container {text-align: center;}#sk-container-id-5 div.sk-container {/* jupyter's `normalize.less` sets `[hidden] { display: none; }` but bootstrap.min.css set `[hidden] { display: none !important; }` so we also need the `!important` here to be able to override the default hidden behavior on the sphinx rendered scikit-learn.org. See: https://github.com/scikit-learn/scikit-learn/issues/21755 */display: inline-block !important;position: relative;}#sk-container-id-5 div.sk-text-repr-fallback {display: none;}</style><div id=\"sk-container-id-5\" class=\"sk-top-container\"><div class=\"sk-text-repr-fallback\"><pre>MinCovDet(random_state=0, support_fraction=0.7)</pre><b>In a Jupyter environment, please rerun this cell to show the HTML representation or trust the notebook. <br />On GitHub, the HTML representation is unable to render, please try loading this page with nbviewer.org.</b></div><div class=\"sk-container\" hidden><div class=\"sk-item\"><div class=\"sk-estimator sk-toggleable\"><input class=\"sk-toggleable__control sk-hidden--visually\" id=\"sk-estimator-id-5\" type=\"checkbox\" checked><label for=\"sk-estimator-id-5\" class=\"sk-toggleable__label sk-toggleable__label-arrow\">MinCovDet</label><div class=\"sk-toggleable__content\"><pre>MinCovDet(random_state=0, support_fraction=0.7)</pre></div></div></div></div></div>"
      ],
      "text/plain": [
       "MinCovDet(random_state=0, support_fraction=0.7)"
      ]
     },
     "execution_count": 100,
     "metadata": {},
     "output_type": "execute_result"
    }
   ],
   "source": [
    "#特徴量の当たりがついた\n",
    "#しかし、そもそもこの線形回帰は外れ値の影響を強く受けるので調べる。\n",
    "from sklearn.covariance import MinCovDet\n",
    "num_df=train_val.drop(str_col_name,axis=1)\n",
    "num_df=num_df.drop('id',axis=1)\n",
    "num_df2=num_df.dropna()\n",
    "mcd2 =MinCovDet(random_state=0,support_fraction=0.7)\n",
    "mcd2.fit(num_df2)"
   ]
  },
  {
   "cell_type": "markdown",
   "metadata": {},
   "source": [
    "### 11-6"
   ]
  },
  {
   "cell_type": "code",
   "execution_count": 101,
   "metadata": {},
   "outputs": [
    {
     "data": {
      "image/png": "[encoded data removed]",
      "text/plain": [
       "<Figure size 640x480 with 1 Axes>"
      ]
     },
     "metadata": {},
     "output_type": "display_data"
    }
   ],
   "source": [
    "dis =mcd2.mahalanobis(num_df2)\n",
    "dis=pd.Series(dis)\n",
    "dis.plot(kind=\"box\")\n",
    "no=dis[dis>300000].index\n",
    "#先頭から2561番目が外れ値となる事が分かったので９章の付録で紹介したilocを利用する\n",
    "no=num_df2.iloc[no[0]:(no[0]+1),:].index\n",
    "train_val2 = train_val.drop(no)"
   ]
  },
  {
   "cell_type": "code",
   "execution_count": null,
   "metadata": {},
   "outputs": [],
   "source": []
  },
  {
   "cell_type": "markdown",
   "metadata": {},
   "source": [
    "### 11-7"
   ]
  },
  {
   "cell_type": "code",
   "execution_count": 102,
   "metadata": {},
   "outputs": [
    {
     "name": "stdout",
     "output_type": "stream",
     "text": [
      "0.15 0.7304944115519963\n"
     ]
    }
   ],
   "source": [
    "#欠損行を削除\n",
    "not_nan_df = train_val2.dropna()\n",
    "temp_t =not_nan_df[['duration']]\n",
    "temp_x = not_nan_df.drop(str_col_name,axis=1)\n",
    "\n",
    "#durationとyに関係があるという仮定が成り立つならば、適切な推定をするためには,\n",
    "temp_x = temp_x.drop(['y','duration','id'],axis=1)\n",
    "from sklearn.preprocessing import PolynomialFeatures\n",
    "\n",
    "from sklearn.linear_model import Lasso,Ridge\n",
    "\n",
    "a,b,c,d= train_test_split(temp_x,temp_t,random_state=0,test_size=0.2)\n",
    "maxvalue=0\n",
    "v=0\n",
    "#今回はLasso回帰を利用するので、特徴量選択はしない\n",
    "for i in range(1,42):\n",
    "    val = i/20\n",
    "    model_liner = Lasso(random_state=0,alpha=val)\n",
    "    #今回は予測させたいだけなので、標準化はしない\n",
    "    model_liner.fit(a,c)\n",
    "    if maxvalue < model_liner.score(b,d):\n",
    "        v=val\n",
    "        maxvalue = model_liner.score(b,d)\n",
    "print(v,maxvalue)"
   ]
  },
  {
   "cell_type": "markdown",
   "metadata": {},
   "source": [
    "### 11-8"
   ]
  },
  {
   "cell_type": "code",
   "execution_count": 103,
   "metadata": {},
   "outputs": [
    {
     "data": {
      "text/html": [
       "<style>#sk-container-id-6 {color: black;}#sk-container-id-6 pre{padding: 0;}#sk-container-id-6 div.sk-toggleable {background-color: white;}#sk-container-id-6 label.sk-toggleable__label {cursor: pointer;display: block;width: 100%;margin-bottom: 0;padding: 0.3em;box-sizing: border-box;text-align: center;}#sk-container-id-6 label.sk-toggleable__label-arrow:before {content: \"▸\";float: left;margin-right: 0.25em;color: #696969;}#sk-container-id-6 label.sk-toggleable__label-arrow:hover:before {color: black;}#sk-container-id-6 div.sk-estimator:hover label.sk-toggleable__label-arrow:before {color: black;}#sk-container-id-6 div.sk-toggleable__content {max-height: 0;max-width: 0;overflow: hidden;text-align: left;background-color: #f0f8ff;}#sk-container-id-6 div.sk-toggleable__content pre {margin: 0.2em;color: black;border-radius: 0.25em;background-color: #f0f8ff;}#sk-container-id-6 input.sk-toggleable__control:checked~div.sk-toggleable__content {max-height: 200px;max-width: 100%;overflow: auto;}#sk-container-id-6 input.sk-toggleable__control:checked~label.sk-toggleable__label-arrow:before {content: \"▾\";}#sk-container-id-6 div.sk-estimator input.sk-toggleable__control:checked~label.sk-toggleable__label {background-color: #d4ebff;}#sk-container-id-6 div.sk-label input.sk-toggleable__control:checked~label.sk-toggleable__label {background-color: #d4ebff;}#sk-container-id-6 input.sk-hidden--visually {border: 0;clip: rect(1px 1px 1px 1px);clip: rect(1px, 1px, 1px, 1px);height: 1px;margin: -1px;overflow: hidden;padding: 0;position: absolute;width: 1px;}#sk-container-id-6 div.sk-estimator {font-family: monospace;background-color: #f0f8ff;border: 1px dotted black;border-radius: 0.25em;box-sizing: border-box;margin-bottom: 0.5em;}#sk-container-id-6 div.sk-estimator:hover {background-color: #d4ebff;}#sk-container-id-6 div.sk-parallel-item::after {content: \"\";width: 100%;border-bottom: 1px solid gray;flex-grow: 1;}#sk-container-id-6 div.sk-label:hover label.sk-toggleable__label {background-color: #d4ebff;}#sk-container-id-6 div.sk-serial::before {content: \"\";position: absolute;border-left: 1px solid gray;box-sizing: border-box;top: 0;bottom: 0;left: 50%;z-index: 0;}#sk-container-id-6 div.sk-serial {display: flex;flex-direction: column;align-items: center;background-color: white;padding-right: 0.2em;padding-left: 0.2em;position: relative;}#sk-container-id-6 div.sk-item {position: relative;z-index: 1;}#sk-container-id-6 div.sk-parallel {display: flex;align-items: stretch;justify-content: center;background-color: white;position: relative;}#sk-container-id-6 div.sk-item::before, #sk-container-id-6 div.sk-parallel-item::before {content: \"\";position: absolute;border-left: 1px solid gray;box-sizing: border-box;top: 0;bottom: 0;left: 50%;z-index: -1;}#sk-container-id-6 div.sk-parallel-item {display: flex;flex-direction: column;z-index: 1;position: relative;background-color: white;}#sk-container-id-6 div.sk-parallel-item:first-child::after {align-self: flex-end;width: 50%;}#sk-container-id-6 div.sk-parallel-item:last-child::after {align-self: flex-start;width: 50%;}#sk-container-id-6 div.sk-parallel-item:only-child::after {width: 0;}#sk-container-id-6 div.sk-dashed-wrapped {border: 1px dashed gray;margin: 0 0.4em 0.5em 0.4em;box-sizing: border-box;padding-bottom: 0.4em;background-color: white;}#sk-container-id-6 div.sk-label label {font-family: monospace;font-weight: bold;display: inline-block;line-height: 1.2em;}#sk-container-id-6 div.sk-label-container {text-align: center;}#sk-container-id-6 div.sk-container {/* jupyter's `normalize.less` sets `[hidden] { display: none; }` but bootstrap.min.css set `[hidden] { display: none !important; }` so we also need the `!important` here to be able to override the default hidden behavior on the sphinx rendered scikit-learn.org. See: https://github.com/scikit-learn/scikit-learn/issues/21755 */display: inline-block !important;position: relative;}#sk-container-id-6 div.sk-text-repr-fallback {display: none;}</style><div id=\"sk-container-id-6\" class=\"sk-top-container\"><div class=\"sk-text-repr-fallback\"><pre>Lasso(alpha=0.15, random_state=0)</pre><b>In a Jupyter environment, please rerun this cell to show the HTML representation or trust the notebook. <br />On GitHub, the HTML representation is unable to render, please try loading this page with nbviewer.org.</b></div><div class=\"sk-container\" hidden><div class=\"sk-item\"><div class=\"sk-estimator sk-toggleable\"><input class=\"sk-toggleable__control sk-hidden--visually\" id=\"sk-estimator-id-6\" type=\"checkbox\" checked><label for=\"sk-estimator-id-6\" class=\"sk-toggleable__label sk-toggleable__label-arrow\">Lasso</label><div class=\"sk-toggleable__content\"><pre>Lasso(alpha=0.15, random_state=0)</pre></div></div></div></div></div>"
      ],
      "text/plain": [
       "Lasso(alpha=0.15, random_state=0)"
      ]
     },
     "execution_count": 103,
     "metadata": {},
     "output_type": "execute_result"
    }
   ],
   "source": [
    "model_liner = Lasso(random_state=0,alpha=v)\n",
    "#今回は予測させたいだけなので、標準化はしない\n",
    "model_liner.fit(a,c)\n",
    "#pd.Series(model_liner)"
   ]
  },
  {
   "cell_type": "markdown",
   "metadata": {},
   "source": [
    "### 11-9"
   ]
  },
  {
   "cell_type": "code",
   "execution_count": 104,
   "metadata": {},
   "outputs": [
    {
     "name": "stdout",
     "output_type": "stream",
     "text": [
      "0.1 0.8192780104182655\n"
     ]
    }
   ],
   "source": [
    "# 考え方をここで変える。durationとyに関係が強いという仮定が正しいならば、durationを推定するのに\n",
    "#yを利用するのは合理的ではなかろうか？ただテストデータでは、yの値が本当に未知という状況で検証するので\n",
    "#テストデータでもdurationが欠損している場合は上記model_linerを利用する。\n",
    "#欠損行を削除\n",
    "not_nan_df = train_val2.dropna()\n",
    "temp_t =not_nan_df[['duration']]\n",
    "temp_x = not_nan_df.drop(str_col_name,axis=1)\n",
    "#yを消さない\n",
    "temp_x = temp_x.drop(['duration','id'],axis=1)\n",
    "from sklearn.preprocessing import PolynomialFeatures\n",
    "\n",
    "from sklearn.linear_model import Lasso,Ridge\n",
    "\n",
    "a,b,c,d= train_test_split(temp_x,temp_t,random_state=0,test_size=0.2)\n",
    "maxvalue=0\n",
    "v=0\n",
    "for i in range(1,42):\n",
    "    val = i/20\n",
    "    model_liner2 = Lasso(random_state=0,alpha=val)\n",
    "    #今回は予測させたいだけなので、標準化はしない\n",
    "    model_liner2.fit(a,c)\n",
    "    if maxvalue < model_liner2.score(b,d):\n",
    "        v=val\n",
    "        maxvalue = model_liner2.score(b,d)\n",
    "print(v,maxvalue)"
   ]
  },
  {
   "cell_type": "markdown",
   "metadata": {},
   "source": [
    "### 11-9"
   ]
  },
  {
   "cell_type": "code",
   "execution_count": 105,
   "metadata": {},
   "outputs": [
    {
     "data": {
      "text/plain": [
       "age                            3.685596\n",
       "amount                        -0.000010\n",
       "day                           -0.000000\n",
       "campaign                      -0.000000\n",
       "previous                       2.951859\n",
       "y                             41.674580\n",
       "job_blue-collar                0.000000\n",
       "job_entrepreneur              -0.000000\n",
       "job_housemaid                 -0.000000\n",
       "job_management                -0.000000\n",
       "job_retired                   -0.000000\n",
       "job_self-employed              0.000000\n",
       "job_services                   0.000000\n",
       "job_student                   -0.000000\n",
       "job_technician                 0.000000\n",
       "job_unemployed                -0.000000\n",
       "job_unknown                   -0.000000\n",
       "default_yes                    0.000000\n",
       "marital_married                0.000000\n",
       "marital_single                -0.000000\n",
       "education_secondary            0.000000\n",
       "education_tertiary            -0.000000\n",
       "education_unknown             -0.000000\n",
       "housing_yes                  127.082018\n",
       "loan_yes                      82.595567\n",
       "contact_sending _document      0.000000\n",
       "contact_telephone             -0.000000\n",
       "month_aug                     -0.000000\n",
       "month_dec                     -0.000000\n",
       "month_feb                     -0.000000\n",
       "month_jan                      0.000000\n",
       "month_jul                      0.000000\n",
       "month_jun                     -0.000000\n",
       "month_mar                     -0.000000\n",
       "month_may                      0.000000\n",
       "month_nov                     -0.000000\n",
       "month_oct                     -0.000000\n",
       "month_sep                     -0.000000\n",
       "dtype: float64"
      ]
     },
     "execution_count": 105,
     "metadata": {},
     "output_type": "execute_result"
    }
   ],
   "source": [
    "#結果\n",
    "pd.Series(model_liner2.coef_,index=temp_x.columns)"
   ]
  },
  {
   "cell_type": "markdown",
   "metadata": {},
   "source": [
    "### 11-10"
   ]
  },
  {
   "cell_type": "code",
   "execution_count": 106,
   "metadata": {},
   "outputs": [],
   "source": [
    "train_val3 = train_val.copy()\n",
    "is_null=train_val3['duration'].isnull()\n",
    "#temp_x = tain_val3.drop(str_col_name,axis=1)\n",
    "#修正\n",
    "temp_x = train_val3.drop(str_col_name,axis=1)\n",
    "\n",
    "temp_x = temp_x.drop(['duration','id'],axis=1)\n",
    "temp_x = temp_x[is_null]\n",
    "#non_x=train_val2.loc[is_null,['housing_yes','loan_yes','age','marital_single','job_student']]\n",
    "pred_d = model_liner2.predict(temp_x)\n",
    "train_val3.loc[is_null,'duration']=pred_d"
   ]
  },
  {
   "cell_type": "markdown",
   "metadata": {},
   "source": [
    "### 11-11"
   ]
  },
  {
   "cell_type": "code",
   "execution_count": 107,
   "metadata": {},
   "outputs": [
    {
     "data": {
      "text/plain": [
       "(24415, 48)"
      ]
     },
     "execution_count": 107,
     "metadata": {},
     "output_type": "execute_result"
    },
    {
     "data": {
      "image/png": "[encoded data removed]",
      "text/plain": [
       "<Figure size 640x480 with 1 Axes>"
      ]
     },
     "metadata": {},
     "output_type": "display_data"
    }
   ],
   "source": [
    "#ヒストグラムの確認\n",
    "train_val3.loc[train_val3['y']==0,\"duration\"].plot(kind=\"hist\")\n",
    "train_val3.loc[train_val3['y']==1,\"duration\"].plot(kind=\"hist\",alpha=0.4)\n",
    "\n",
    "#y=1の方が、durationが大きい傾向がやっぱりありそう\n",
    "train_val3.shape"
   ]
  },
  {
   "cell_type": "markdown",
   "metadata": {},
   "source": [
    "### 11-12"
   ]
  },
  {
   "cell_type": "code",
   "execution_count": 108,
   "metadata": {},
   "outputs": [
    {
     "data": {
      "text/plain": [
       "count    24415.000000\n",
       "mean       297.012163\n",
       "std         92.504680\n",
       "min         19.038719\n",
       "25%        227.001265\n",
       "50%        292.726974\n",
       "75%        362.290315\n",
       "max       1435.488040\n",
       "Name: duration, dtype: float64"
      ]
     },
     "execution_count": 108,
     "metadata": {},
     "output_type": "execute_result"
    }
   ],
   "source": [
    "train_val3[\"duration\"].describe()"
   ]
  },
  {
   "cell_type": "markdown",
   "metadata": {},
   "source": [
    "### 11-13"
   ]
  },
  {
   "cell_type": "code",
   "execution_count": 109,
   "metadata": {},
   "outputs": [
    {
     "name": "stdout",
     "output_type": "stream",
     "text": [
      "1 0.754351832889617 0.7565021503174278\n",
      "2 0.754351832889617 0.7565021503174278\n",
      "3 0.7117038705713701 0.708171206225681\n",
      "4 0.7706328077001843 0.7765717796436616\n",
      "5 0.7595740323571575 0.7513823469178783\n",
      "6 0.7923919721482695 0.7855826336268688\n",
      "7 0.8189637517919311 0.8046283022731927\n",
      "8 0.8383166086422281 0.8220356338316609\n",
      "9 0.8561847225066558 0.8193733360638952\n",
      "10 0.8741040344050789 0.821421257423715\n",
      "11 0.8882346917878353 0.8179397911120213\n",
      "12 0.9068195781281999 0.8185541675199672\n",
      "13 0.9212062256809338 0.810976858488634\n",
      "14 0.9369752201515462 0.8130247798484538\n"
     ]
    }
   ],
   "source": [
    "#まず、さくっと学習できるようなlearn関数を定義する。\n",
    "def learn(x,t,i):\n",
    "    x_train,x_val,y_train,y_val = train_test_split(x,t,test_size=0.2,random_state=13)\n",
    "\n",
    "    datas=[x_train,x_val,y_train,y_val]\n",
    "    #不均衡データに対応できるように、class_weight引数も設定\n",
    "    model = tree.DecisionTreeClassifier(random_state=i,max_depth=i,class_weight='balanced')\n",
    "    model.fit(x_train,y_train)\n",
    "    train_score=model.score(x_train,y_train)\n",
    "    \n",
    "    \n",
    "    val_score=model.score(x_val,y_val)\n",
    "    return train_score,val_score,model,datas\n",
    "\n",
    "t =train_val3['y']\n",
    "x = train_val3.drop(str_col_name,axis=1)\n",
    "x =x.drop(['id','y','day'],axis=1)\n",
    "#とりあえず、for文で様々な木の深さでの正解率を調べてみる\n",
    "for i in range(1,15):\n",
    "    s1,s2,model,datas = learn(x,t,i)\n",
    "    print(i,s1,s2)"
   ]
  },
  {
   "cell_type": "code",
   "execution_count": 110,
   "metadata": {},
   "outputs": [],
   "source": [
    "# 深さ8 検証データの正解率が0.82 "
   ]
  },
  {
   "cell_type": "markdown",
   "metadata": {},
   "source": [
    "### 11-14"
   ]
  },
  {
   "cell_type": "code",
   "execution_count": 111,
   "metadata": {},
   "outputs": [
    {
     "name": "stdout",
     "output_type": "stream",
     "text": [
      "pred     0     1\n",
      "true            \n",
      "0     2825   558\n",
      "1      311  1189\n"
     ]
    },
    {
     "data": {
      "text/plain": [
       "<Axes: >"
      ]
     },
     "execution_count": 111,
     "metadata": {},
     "output_type": "execute_result"
    },
    {
     "data": {
      "image/png": "[encoded data removed]",
      "text/plain": [
       "<Figure size 640x480 with 1 Axes>"
      ]
     },
     "metadata": {},
     "output_type": "display_data"
    }
   ],
   "source": [
    "#どのような間違い方をしているのか確認\n",
    "s1,s2,model,datas = learn(x,t,8)\n",
    "\n",
    "#訓練データでの予測結果と実際の値の2軸で個数集計flagがFalseならば、検証データで集計\n",
    "def syuukei(model,datas,flag=False):\n",
    "    if flag:\n",
    "        pre=model.predict(datas[0])\n",
    "        y_val=datas[2]\n",
    "    else:\n",
    "        pre=model.predict(datas[1])\n",
    "        y_val=datas[3]\n",
    "    data={\n",
    "        \"pred\":pre,\n",
    "        \"true\":y_val\n",
    "    }\n",
    "    tmp=pd.DataFrame(data)\n",
    "    return tmp,pd.pivot_table(tmp,index=\"true\",columns=\"pred\",values=\"true\",aggfunc=len)\n",
    "tmp,a=syuukei(model,datas,False)\n",
    "print(a)\n",
    "from sklearn.preprocessing import StandardScaler\n",
    "false=tmp.loc[(tmp['pred']==1)&(tmp['true']==0)].index\n",
    "true=tmp.loc[(tmp['pred']==0)&(tmp['true']==0)].index\n",
    "true_df=train_val3.loc[true]\n",
    "false_df=train_val3.loc[false]\n",
    "sc = StandardScaler()\n",
    "tmp2=train_val3.drop(str_col_name,axis=1)\n",
    "sc_data = sc.fit_transform(tmp2)\n",
    "sc_df = pd.DataFrame(sc_data,columns=tmp2.columns,index=tmp2.index)\n",
    "\n",
    "true_df=sc_df.loc[true]\n",
    "false_df=sc_df.loc[false]\n",
    "true_df\n",
    "temp2=pd.concat([false_df.mean()[\"age\":],true_df.mean()[\"age\":]],axis=1)\n",
    "temp2.plot(kind=\"bar\")"
   ]
  },
  {
   "cell_type": "markdown",
   "metadata": {},
   "source": [
    "### 11-15"
   ]
  },
  {
   "cell_type": "code",
   "execution_count": 112,
   "metadata": {},
   "outputs": [
    {
     "data": {
      "text/plain": [
       "Index(['age', 'amount', 'duration', 'campaign', 'previous', 'job_blue-collar',\n",
       "       'job_entrepreneur', 'job_housemaid', 'job_management', 'job_retired',\n",
       "       'job_self-employed', 'job_services', 'job_student', 'job_technician',\n",
       "       'job_unemployed', 'job_unknown', 'default_yes', 'marital_married',\n",
       "       'marital_single', 'education_secondary', 'education_tertiary',\n",
       "       'education_unknown', 'housing_yes', 'loan_yes',\n",
       "       'contact_sending _document', 'contact_telephone', 'month_aug',\n",
       "       'month_dec', 'month_feb', 'month_jan', 'month_jul', 'month_jun',\n",
       "       'month_mar', 'month_may', 'month_nov', 'month_oct', 'month_sep',\n",
       "       'du*hou', 'du*loan', 'du*age'],\n",
       "      dtype='object')"
      ]
     },
     "execution_count": 112,
     "metadata": {},
     "output_type": "execute_result"
    }
   ],
   "source": [
    "#交互作用項を付けてみる\n",
    "train_val4=train_val3.copy()\n",
    "train_val4['du*hou']=train_val3['duration']*train_val3['housing_yes']\n",
    "train_val4['du*loan']=train_val3['duration']*train_val3['loan_yes']\n",
    "train_val4['du*age']=train_val3['duration']*train_val3['age']\n",
    "\n",
    "t =train_val4['y']\n",
    "\"\"\"\n",
    "monthcol=['month_aug',\n",
    "       'month_dec', 'month_feb', 'month_jan', 'month_jul', 'month_jun',\n",
    "       'month_mar', 'month_may', 'month_nov', 'month_oct', 'month_sep']\n",
    "#jobcol=['job_entrepreneur', 'job_housemaid', 'job_management', 'job_retired',\n",
    "       'job_self-employed', 'job_services', 'job_student', 'job_technician',\n",
    "       'job_unemployed', 'job_unknown']\n",
    "\"\"\"\n",
    "\n",
    "x = train_val4.drop(str_col_name,axis=1)\n",
    "\n",
    "#x = x.drop(jobcol,axis=1)\n",
    "\n",
    "#x = x.drop(monthcol,axis=1)\n",
    "x =x.drop(['id','y','day'],axis=1)\n",
    "x.columns"
   ]
  },
  {
   "cell_type": "markdown",
   "metadata": {},
   "source": [
    "### 11-16"
   ]
  },
  {
   "cell_type": "code",
   "execution_count": 113,
   "metadata": {},
   "outputs": [
    {
     "name": "stdout",
     "output_type": "stream",
     "text": [
      "5 0.7591644480851936 0.7505631783739505\n",
      "6 0.7908560311284046 0.7823059594511571\n",
      "7 0.8201925046078231 0.8058570550890846\n",
      "8 0.8384190047102191 0.8191685439279132\n",
      "9 0.8520376817530206 0.8083145607208683\n",
      "10 0.8697010034814663 0.8103624820806881\n",
      "11 0.8894634446037272 0.8179397911120213\n",
      "12 0.9051300430063486 0.8087241449928323\n",
      "13 0.9208990374769609 0.8101576899447062\n",
      "14 0.9347737046897399 0.8117960270325619\n"
     ]
    }
   ],
   "source": [
    "#とりあえず、for文で様々な木の深さでの正解率を調べてみる\n",
    "for i in range(5,15):\n",
    "    s1,s2,model,datas = learn(x,t,i)\n",
    "    print(i,s1,s2)"
   ]
  },
  {
   "cell_type": "markdown",
   "metadata": {},
   "source": [
    "### 11-17"
   ]
  },
  {
   "cell_type": "code",
   "execution_count": 114,
   "metadata": {},
   "outputs": [
    {
     "data": {
      "text/html": [
       "<style>#sk-container-id-7 {color: black;}#sk-container-id-7 pre{padding: 0;}#sk-container-id-7 div.sk-toggleable {background-color: white;}#sk-container-id-7 label.sk-toggleable__label {cursor: pointer;display: block;width: 100%;margin-bottom: 0;padding: 0.3em;box-sizing: border-box;text-align: center;}#sk-container-id-7 label.sk-toggleable__label-arrow:before {content: \"▸\";float: left;margin-right: 0.25em;color: #696969;}#sk-container-id-7 label.sk-toggleable__label-arrow:hover:before {color: black;}#sk-container-id-7 div.sk-estimator:hover label.sk-toggleable__label-arrow:before {color: black;}#sk-container-id-7 div.sk-toggleable__content {max-height: 0;max-width: 0;overflow: hidden;text-align: left;background-color: #f0f8ff;}#sk-container-id-7 div.sk-toggleable__content pre {margin: 0.2em;color: black;border-radius: 0.25em;background-color: #f0f8ff;}#sk-container-id-7 input.sk-toggleable__control:checked~div.sk-toggleable__content {max-height: 200px;max-width: 100%;overflow: auto;}#sk-container-id-7 input.sk-toggleable__control:checked~label.sk-toggleable__label-arrow:before {content: \"▾\";}#sk-container-id-7 div.sk-estimator input.sk-toggleable__control:checked~label.sk-toggleable__label {background-color: #d4ebff;}#sk-container-id-7 div.sk-label input.sk-toggleable__control:checked~label.sk-toggleable__label {background-color: #d4ebff;}#sk-container-id-7 input.sk-hidden--visually {border: 0;clip: rect(1px 1px 1px 1px);clip: rect(1px, 1px, 1px, 1px);height: 1px;margin: -1px;overflow: hidden;padding: 0;position: absolute;width: 1px;}#sk-container-id-7 div.sk-estimator {font-family: monospace;background-color: #f0f8ff;border: 1px dotted black;border-radius: 0.25em;box-sizing: border-box;margin-bottom: 0.5em;}#sk-container-id-7 div.sk-estimator:hover {background-color: #d4ebff;}#sk-container-id-7 div.sk-parallel-item::after {content: \"\";width: 100%;border-bottom: 1px solid gray;flex-grow: 1;}#sk-container-id-7 div.sk-label:hover label.sk-toggleable__label {background-color: #d4ebff;}#sk-container-id-7 div.sk-serial::before {content: \"\";position: absolute;border-left: 1px solid gray;box-sizing: border-box;top: 0;bottom: 0;left: 50%;z-index: 0;}#sk-container-id-7 div.sk-serial {display: flex;flex-direction: column;align-items: center;background-color: white;padding-right: 0.2em;padding-left: 0.2em;position: relative;}#sk-container-id-7 div.sk-item {position: relative;z-index: 1;}#sk-container-id-7 div.sk-parallel {display: flex;align-items: stretch;justify-content: center;background-color: white;position: relative;}#sk-container-id-7 div.sk-item::before, #sk-container-id-7 div.sk-parallel-item::before {content: \"\";position: absolute;border-left: 1px solid gray;box-sizing: border-box;top: 0;bottom: 0;left: 50%;z-index: -1;}#sk-container-id-7 div.sk-parallel-item {display: flex;flex-direction: column;z-index: 1;position: relative;background-color: white;}#sk-container-id-7 div.sk-parallel-item:first-child::after {align-self: flex-end;width: 50%;}#sk-container-id-7 div.sk-parallel-item:last-child::after {align-self: flex-start;width: 50%;}#sk-container-id-7 div.sk-parallel-item:only-child::after {width: 0;}#sk-container-id-7 div.sk-dashed-wrapped {border: 1px dashed gray;margin: 0 0.4em 0.5em 0.4em;box-sizing: border-box;padding-bottom: 0.4em;background-color: white;}#sk-container-id-7 div.sk-label label {font-family: monospace;font-weight: bold;display: inline-block;line-height: 1.2em;}#sk-container-id-7 div.sk-label-container {text-align: center;}#sk-container-id-7 div.sk-container {/* jupyter's `normalize.less` sets `[hidden] { display: none; }` but bootstrap.min.css set `[hidden] { display: none !important; }` so we also need the `!important` here to be able to override the default hidden behavior on the sphinx rendered scikit-learn.org. See: https://github.com/scikit-learn/scikit-learn/issues/21755 */display: inline-block !important;position: relative;}#sk-container-id-7 div.sk-text-repr-fallback {display: none;}</style><div id=\"sk-container-id-7\" class=\"sk-top-container\"><div class=\"sk-text-repr-fallback\"><pre>DecisionTreeClassifier(class_weight=&#x27;balanced&#x27;, max_depth=8, random_state=8)</pre><b>In a Jupyter environment, please rerun this cell to show the HTML representation or trust the notebook. <br />On GitHub, the HTML representation is unable to render, please try loading this page with nbviewer.org.</b></div><div class=\"sk-container\" hidden><div class=\"sk-item\"><div class=\"sk-estimator sk-toggleable\"><input class=\"sk-toggleable__control sk-hidden--visually\" id=\"sk-estimator-id-7\" type=\"checkbox\" checked><label for=\"sk-estimator-id-7\" class=\"sk-toggleable__label sk-toggleable__label-arrow\">DecisionTreeClassifier</label><div class=\"sk-toggleable__content\"><pre>DecisionTreeClassifier(class_weight=&#x27;balanced&#x27;, max_depth=8, random_state=8)</pre></div></div></div></div></div>"
      ],
      "text/plain": [
       "DecisionTreeClassifier(class_weight='balanced', max_depth=8, random_state=8)"
      ]
     },
     "execution_count": 114,
     "metadata": {},
     "output_type": "execute_result"
    }
   ],
   "source": [
    "#深さ８で正解率81% 先ほどより低下した。よって交互作用項は取る。\n",
    "train_val4=train_val3.copy()\n",
    "t =train_val4['y']\n",
    "x = train_val4.drop(str_col_name,axis=1)\n",
    "x =x.drop(['id','y','day'],axis=1)\n",
    "i=8\n",
    "model = tree.DecisionTreeClassifier(random_state=i,max_depth=i,class_weight=\"balanced\")\n",
    "model.fit(x,t)"
   ]
  },
  {
   "cell_type": "markdown",
   "metadata": {},
   "source": [
    "### 11-18"
   ]
  },
  {
   "cell_type": "code",
   "execution_count": 115,
   "metadata": {},
   "outputs": [
    {
     "name": "stdout",
     "output_type": "stream",
     "text": [
      "(2713,)\n"
     ]
    },
    {
     "data": {
      "text/plain": [
       "0.7648359749354957"
      ]
     },
     "execution_count": 115,
     "metadata": {},
     "output_type": "execute_result"
    }
   ],
   "source": [
    "#テストデータでも調べる\n",
    "test2 = test.copy()    \n",
    "isnull=test2['duration'].isnull()\n",
    "print(isnull.shape)\n",
    "if isnull.sum()>0:\n",
    "    temp_x = test2.drop(str_col_name,axis=1)\n",
    "    temp_x = temp_x.drop(['y','duration','id'],axis=1)\n",
    "    #print(temp_x.shape[0])\n",
    "    temp_x = temp_x[isnull]\n",
    "    #ここではmodel_linerで調べる\n",
    "    pred_d = model_liner.predict(temp_x)\n",
    "    test2.loc[isnull,'duration']=pred_d\n",
    "    \n",
    "\n",
    "x_test = test2.drop(str_col_name,axis=1)\n",
    "x_test =x_test.drop(['id','y','day'],axis=1)\n",
    "y_test = test['y']\n",
    "x_test.columns\n",
    "model.score(x_test,y_test)"
   ]
  },
  {
   "cell_type": "code",
   "execution_count": null,
   "metadata": {},
   "outputs": [],
   "source": [
    "#もしかしたら、テストデータにも結構durationの欠損値があるのかもしれない（テストデータなので確認できない）\n",
    "#よってmodel_linerによる不適切なduration推定をしているかもしれない。。。"
   ]
  },
  {
   "cell_type": "code",
   "execution_count": null,
   "metadata": {},
   "outputs": [],
   "source": [
    "#10章で仮説を3つ挙げた\n",
    "#精度が上がりづらい原因の仮説⇒ \n",
    "              #１．現状の線形回帰だと訓練&検証に過学習してしまい、テストデータにフィットしない。\n",
    "                 #（そもそもテストデータではdurationがあまり関係していない？？）\n",
    "#            2. 純粋な決定木の限界？\n",
    "\n",
    "#            3. 現在考慮していない特徴量ももっとしっかりした方が良いのか？？\n",
    "\n",
    "# 考察\n",
    "#今回、過学習しづらいlasso回帰を利用したので、10章よりかは１の可能性が減るはずだが、性能はあまり変わらない。\n",
    "#現状の知識では、1の可能性は低い。よって２か３の可能性を次章以降で探る（ただし、２と１の組み合わせなどは可能性\n",
    "#としてあることに注意）"
   ]
  }
 ],
 "metadata": {
  "kernelspec": {
   "display_name": "Python 3",
   "language": "python",
   "name": "python3"
  },
  "language_info": {
   "codemirror_mode": {
    "name": "ipython",
    "version": 3
   },
   "file_extension": ".py",
   "mimetype": "text/x-python",
   "name": "python",
   "nbconvert_exporter": "python",
   "pygments_lexer": "ipython3",
   "version": "3.9.18"
  }
 },
 "nbformat": 4,
 "nbformat_minor": 4
}
