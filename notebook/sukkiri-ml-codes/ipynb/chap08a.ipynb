{
 "cells": [
  {
   "cell_type": "markdown",
   "metadata": {},
   "source": [
    "### 8-1 ライブラリ&csv読込"
   ]
  },
  {
   "cell_type": "code",
   "execution_count": 122,
   "metadata": {},
   "outputs": [],
   "source": [
    "import pandas as pd\n",
    "%matplotlib inline\n",
    "from sklearn.linear_model import LinearRegression\n",
    "from sklearn.model_selection import train_test_split"
   ]
  },
  {
   "cell_type": "code",
   "execution_count": 123,
   "metadata": {},
   "outputs": [
    {
     "data": {
      "text/html": [
       "<div>\n",
       "<style scoped>\n",
       "    .dataframe tbody tr th:only-of-type {\n",
       "        vertical-align: middle;\n",
       "    }\n",
       "\n",
       "    .dataframe tbody tr th {\n",
       "        vertical-align: top;\n",
       "    }\n",
       "\n",
       "    .dataframe thead th {\n",
       "        text-align: right;\n",
       "    }\n",
       "</style>\n",
       "<table border=\"1\" class=\"dataframe\">\n",
       "  <thead>\n",
       "    <tr style=\"text-align: right;\">\n",
       "      <th></th>\n",
       "      <th>CRIME</th>\n",
       "      <th>ZN</th>\n",
       "      <th>INDUS</th>\n",
       "      <th>CHAS</th>\n",
       "      <th>NOX</th>\n",
       "      <th>RM</th>\n",
       "      <th>AGE</th>\n",
       "      <th>DIS</th>\n",
       "      <th>RAD</th>\n",
       "      <th>TAX</th>\n",
       "      <th>PTRATIO</th>\n",
       "      <th>B</th>\n",
       "      <th>LSTAT</th>\n",
       "      <th>PRICE</th>\n",
       "    </tr>\n",
       "  </thead>\n",
       "  <tbody>\n",
       "    <tr>\n",
       "      <th>0</th>\n",
       "      <td>high</td>\n",
       "      <td>0.0</td>\n",
       "      <td>18.10</td>\n",
       "      <td>0</td>\n",
       "      <td>0.718</td>\n",
       "      <td>3.561</td>\n",
       "      <td>87.9</td>\n",
       "      <td>1.6132</td>\n",
       "      <td>24.0</td>\n",
       "      <td>666</td>\n",
       "      <td>20.2</td>\n",
       "      <td>354.7</td>\n",
       "      <td>7.12</td>\n",
       "      <td>27.5</td>\n",
       "    </tr>\n",
       "    <tr>\n",
       "      <th>1</th>\n",
       "      <td>low</td>\n",
       "      <td>0.0</td>\n",
       "      <td>8.14</td>\n",
       "      <td>0</td>\n",
       "      <td>0.538</td>\n",
       "      <td>5.950</td>\n",
       "      <td>82.0</td>\n",
       "      <td>3.9900</td>\n",
       "      <td>4.0</td>\n",
       "      <td>307</td>\n",
       "      <td>21.0</td>\n",
       "      <td>232.6</td>\n",
       "      <td>27.71</td>\n",
       "      <td>13.2</td>\n",
       "    </tr>\n",
       "  </tbody>\n",
       "</table>\n",
       "</div>"
      ],
      "text/plain": [
       "  CRIME   ZN  INDUS  CHAS    NOX     RM   AGE     DIS   RAD  TAX  PTRATIO  \\\n",
       "0  high  0.0  18.10     0  0.718  3.561  87.9  1.6132  24.0  666     20.2   \n",
       "1   low  0.0   8.14     0  0.538  5.950  82.0  3.9900   4.0  307     21.0   \n",
       "\n",
       "       B  LSTAT  PRICE  \n",
       "0  354.7   7.12   27.5  \n",
       "1  232.6  27.71   13.2  "
      ]
     },
     "execution_count": 123,
     "metadata": {},
     "output_type": "execute_result"
    }
   ],
   "source": [
    "df = pd.read_csv('../datafiles/Boston.csv')\n",
    "df.head(2)"
   ]
  },
  {
   "cell_type": "markdown",
   "metadata": {},
   "source": [
    "### 8-3CRIME列の調査"
   ]
  },
  {
   "cell_type": "code",
   "execution_count": 124,
   "metadata": {},
   "outputs": [
    {
     "data": {
      "text/plain": [
       "CRIME\n",
       "very_low    50\n",
       "high        25\n",
       "low         25\n",
       "Name: count, dtype: int64"
      ]
     },
     "execution_count": 124,
     "metadata": {},
     "output_type": "execute_result"
    }
   ],
   "source": [
    "df['CRIME'].value_counts()"
   ]
  },
  {
   "cell_type": "markdown",
   "metadata": {},
   "source": [
    "### 8-4CRIME列にダミー変数設定"
   ]
  },
  {
   "cell_type": "code",
   "execution_count": 125,
   "metadata": {},
   "outputs": [
    {
     "data": {
      "text/html": [
       "<div>\n",
       "<style scoped>\n",
       "    .dataframe tbody tr th:only-of-type {\n",
       "        vertical-align: middle;\n",
       "    }\n",
       "\n",
       "    .dataframe tbody tr th {\n",
       "        vertical-align: top;\n",
       "    }\n",
       "\n",
       "    .dataframe thead th {\n",
       "        text-align: right;\n",
       "    }\n",
       "</style>\n",
       "<table border=\"1\" class=\"dataframe\">\n",
       "  <thead>\n",
       "    <tr style=\"text-align: right;\">\n",
       "      <th></th>\n",
       "      <th>ZN</th>\n",
       "      <th>INDUS</th>\n",
       "      <th>CHAS</th>\n",
       "      <th>NOX</th>\n",
       "      <th>RM</th>\n",
       "      <th>AGE</th>\n",
       "      <th>DIS</th>\n",
       "      <th>RAD</th>\n",
       "      <th>TAX</th>\n",
       "      <th>PTRATIO</th>\n",
       "      <th>B</th>\n",
       "      <th>LSTAT</th>\n",
       "      <th>PRICE</th>\n",
       "      <th>low</th>\n",
       "      <th>very_low</th>\n",
       "    </tr>\n",
       "  </thead>\n",
       "  <tbody>\n",
       "    <tr>\n",
       "      <th>0</th>\n",
       "      <td>0.0</td>\n",
       "      <td>18.10</td>\n",
       "      <td>0</td>\n",
       "      <td>0.718</td>\n",
       "      <td>3.561</td>\n",
       "      <td>87.9</td>\n",
       "      <td>1.6132</td>\n",
       "      <td>24.0</td>\n",
       "      <td>666</td>\n",
       "      <td>20.2</td>\n",
       "      <td>354.7</td>\n",
       "      <td>7.12</td>\n",
       "      <td>27.5</td>\n",
       "      <td>0</td>\n",
       "      <td>0</td>\n",
       "    </tr>\n",
       "    <tr>\n",
       "      <th>1</th>\n",
       "      <td>0.0</td>\n",
       "      <td>8.14</td>\n",
       "      <td>0</td>\n",
       "      <td>0.538</td>\n",
       "      <td>5.950</td>\n",
       "      <td>82.0</td>\n",
       "      <td>3.9900</td>\n",
       "      <td>4.0</td>\n",
       "      <td>307</td>\n",
       "      <td>21.0</td>\n",
       "      <td>232.6</td>\n",
       "      <td>27.71</td>\n",
       "      <td>13.2</td>\n",
       "      <td>1</td>\n",
       "      <td>0</td>\n",
       "    </tr>\n",
       "  </tbody>\n",
       "</table>\n",
       "</div>"
      ],
      "text/plain": [
       "    ZN  INDUS  CHAS    NOX     RM   AGE     DIS   RAD  TAX  PTRATIO      B  \\\n",
       "0  0.0  18.10     0  0.718  3.561  87.9  1.6132  24.0  666     20.2  354.7   \n",
       "1  0.0   8.14     0  0.538  5.950  82.0  3.9900   4.0  307     21.0  232.6   \n",
       "\n",
       "   LSTAT  PRICE  low  very_low  \n",
       "0   7.12   27.5    0         0  \n",
       "1  27.71   13.2    1         0  "
      ]
     },
     "execution_count": 125,
     "metadata": {},
     "output_type": "execute_result"
    }
   ],
   "source": [
    "# crime = pd.get_dummies(df['CRIME'], drop_first = True)\n",
    "crime = pd.get_dummies(df['CRIME'], drop_first = True, dtype=int)\n",
    "df2 = pd.concat([df, crime], axis = 1)\n",
    "df2 = df2.drop(['CRIME'], axis = 1)\n",
    "df2.head(2)"
   ]
  },
  {
   "cell_type": "markdown",
   "metadata": {},
   "source": [
    "### 8-5訓練データ＆検証データ＆テストデータへの分割"
   ]
  },
  {
   "cell_type": "code",
   "execution_count": 126,
   "metadata": {},
   "outputs": [
    {
     "data": {
      "text/plain": [
       "(      ZN  INDUS  CHAS    NOX     RM   AGE     DIS   RAD  TAX  PTRATIO       B  \\\n",
       " 43  22.0   5.86     0  0.431  6.108  34.9  8.0555   7.0  330     19.1  390.18   \n",
       " 62  22.0   5.86     0  0.431  6.957   6.8  8.9067   7.0  330     19.1  386.09   \n",
       " 3    0.0  21.89     0  0.624  6.151  97.9  1.6687   4.0  437     21.2  396.90   \n",
       " 71  80.0   3.64     0  0.392  6.108  32.0  9.2203   1.0  315     16.4  392.89   \n",
       " 45  21.0   5.64     0  0.439  5.963  45.7  6.8147   4.0  243     16.8  395.56   \n",
       " ..   ...    ...   ...    ...    ...   ...     ...   ...  ...      ...     ...   \n",
       " 96   0.0  18.10     0  0.655  5.759  48.2  3.0665  24.0  666     20.2  334.40   \n",
       " 67   0.0   5.19     0  0.515  6.310  38.5  6.4584   5.0  224     20.2  389.40   \n",
       " 64  28.0  15.04     0  0.464  6.249  77.3  3.6150   4.0  270     18.2  396.90   \n",
       " 47   0.0   2.89     0  0.445  6.625  57.8  3.4952   2.0  276     18.0  357.98   \n",
       " 44   0.0   5.96     0  0.499  5.850  41.5  3.9342   5.0  279     19.2  396.90   \n",
       " \n",
       "     LSTAT  PRICE  low  very_low  \n",
       " 43   9.16   24.3    1         0  \n",
       " 62   3.53   29.6    0         1  \n",
       " 3   18.46   17.8    1         0  \n",
       " 71   6.57   21.9    0         1  \n",
       " 45  13.45   19.7    0         1  \n",
       " ..    ...    ...  ...       ...  \n",
       " 96  14.13   19.9    0         0  \n",
       " 67   6.75   20.7    0         1  \n",
       " 64  10.59   20.6    0         1  \n",
       " 47   6.65   28.4    0         1  \n",
       " 44   8.77   21.0    0         1  \n",
       " \n",
       " [80 rows x 15 columns],\n",
       "       ZN  INDUS  CHAS    NOX     RM    AGE     DIS   RAD  TAX  PTRATIO  \\\n",
       " 26   0.0  12.83     0  0.437  6.273    6.0  4.2515   5.0  398     18.7   \n",
       " 86   0.0   3.41     0  0.489  7.007   86.3  3.4217   2.0  270     17.8   \n",
       " 2   82.5   2.03     0  0.415  6.162   38.4  6.2700   2.0  348     14.7   \n",
       " 55   0.0  18.10     0  0.718  6.411  100.0  1.8589  24.0  666     20.2   \n",
       " 75   0.0   3.24     0  0.460  6.333   17.2  5.2146   4.0  430     16.9   \n",
       " 93   0.0  19.58     0  0.871  5.186   93.8  1.5296   5.0  403     14.7   \n",
       " 16   0.0   9.90     0  0.544  6.266   82.8  3.2628   4.0  304     18.4   \n",
       " 73  55.0   3.78     0  0.484  6.874   28.1  6.4654   5.0  370     17.6   \n",
       " 54   0.0   9.90     0  0.544  6.382   67.2  3.5325   4.0  304     18.4   \n",
       " 95   0.0  18.10     0  0.740  6.219  100.0  2.0048  24.0  666     20.2   \n",
       " 53  40.0   6.41     0  0.447  6.854   42.8  4.2673   4.0  254     17.6   \n",
       " 92   0.0   6.20     0  0.507  8.247   70.4  3.6519   8.0  307     17.4   \n",
       " 78   0.0   5.96     0  0.499  5.841   61.4  3.3779   5.0  279     19.2   \n",
       " 13  40.0   6.41     1  0.447  6.826   27.6  4.8628   4.0  254     17.6   \n",
       " 7    0.0   4.39     0  0.442  6.014   48.5  8.0136   3.0  352     18.8   \n",
       " 30   0.0   6.20     0  0.504  8.266   78.3  2.8944   8.0  307     17.4   \n",
       " 22   0.0  18.10     0  0.659  5.608  100.0  1.2852  24.0  666     20.2   \n",
       " 24  25.0   5.13     0  0.453  6.456   67.8  7.2255   8.0  284     19.7   \n",
       " 33   0.0  18.10     1  0.718  6.545   82.9  1.9047  24.0  666     20.2   \n",
       " 8    0.0   9.90     0  0.544  6.113   58.8  4.0019   NaN  304     18.4   \n",
       " \n",
       "          B  LSTAT  PRICE  low  very_low  \n",
       " 26  394.92   6.78   24.1    0         1  \n",
       " 86  396.90   5.50   23.6    0         1  \n",
       " 2   393.77   7.43   24.1    0         1  \n",
       " 55  318.75  15.02   16.7    0         0  \n",
       " 75  375.21   7.34   22.6    0         1  \n",
       " 93  356.99  28.32   17.8    0         0  \n",
       " 16  393.39   7.90   21.6    1         0  \n",
       " 73  387.97   4.61   31.2    0         1  \n",
       " 54  395.21  10.36   23.1    1         0  \n",
       " 95  395.69  16.59   18.4    0         0  \n",
       " 53  396.90   2.98   32.0    0         1  \n",
       " 92  378.95   3.95   48.3    1         0  \n",
       " 78  377.56  11.41   20.0    0         1  \n",
       " 13  393.45   4.16   33.1    0         1  \n",
       " 7   385.64  10.53   17.5    0         1  \n",
       " 30  385.05   4.14   44.8    1         0  \n",
       " 22  332.09  12.13   27.9    0         0  \n",
       " 24  396.90   6.73   22.2    0         1  \n",
       " 33  354.55   5.29   21.9    0         0  \n",
       " 8   396.23  12.73   21.0    1         0  )"
      ]
     },
     "execution_count": 126,
     "metadata": {},
     "output_type": "execute_result"
    }
   ],
   "source": [
    "train_val, test = train_test_split(df2,test_size = 0.2,\n",
    "random_state = 0)\n",
    "\n",
    "train_val,test\n"
   ]
  },
  {
   "cell_type": "markdown",
   "metadata": {},
   "source": [
    "8-6欠損値の処理"
   ]
  },
  {
   "cell_type": "code",
   "execution_count": 127,
   "metadata": {},
   "outputs": [
    {
     "data": {
      "text/plain": [
       "ZN          0\n",
       "INDUS       0\n",
       "CHAS        0\n",
       "NOX         1\n",
       "RM          0\n",
       "AGE         0\n",
       "DIS         0\n",
       "RAD         0\n",
       "TAX         0\n",
       "PTRATIO     0\n",
       "B           0\n",
       "LSTAT       0\n",
       "PRICE       0\n",
       "low         0\n",
       "very_low    0\n",
       "dtype: int64"
      ]
     },
     "execution_count": 127,
     "metadata": {},
     "output_type": "execute_result"
    }
   ],
   "source": [
    "train_val.isnull().sum()"
   ]
  },
  {
   "cell_type": "markdown",
   "metadata": {},
   "source": [
    "### 8-7欠損値を平均値で穴埋め"
   ]
  },
  {
   "cell_type": "code",
   "execution_count": 128,
   "metadata": {},
   "outputs": [
    {
     "data": {
      "text/html": [
       "<div>\n",
       "<style scoped>\n",
       "    .dataframe tbody tr th:only-of-type {\n",
       "        vertical-align: middle;\n",
       "    }\n",
       "\n",
       "    .dataframe tbody tr th {\n",
       "        vertical-align: top;\n",
       "    }\n",
       "\n",
       "    .dataframe thead th {\n",
       "        text-align: right;\n",
       "    }\n",
       "</style>\n",
       "<table border=\"1\" class=\"dataframe\">\n",
       "  <thead>\n",
       "    <tr style=\"text-align: right;\">\n",
       "      <th></th>\n",
       "      <th>ZN</th>\n",
       "      <th>INDUS</th>\n",
       "      <th>CHAS</th>\n",
       "      <th>NOX</th>\n",
       "      <th>RM</th>\n",
       "      <th>AGE</th>\n",
       "      <th>DIS</th>\n",
       "      <th>RAD</th>\n",
       "      <th>TAX</th>\n",
       "      <th>PTRATIO</th>\n",
       "      <th>B</th>\n",
       "      <th>LSTAT</th>\n",
       "      <th>PRICE</th>\n",
       "      <th>low</th>\n",
       "      <th>very_low</th>\n",
       "    </tr>\n",
       "  </thead>\n",
       "  <tbody>\n",
       "    <tr>\n",
       "      <th>43</th>\n",
       "      <td>22.0</td>\n",
       "      <td>5.86</td>\n",
       "      <td>0</td>\n",
       "      <td>0.431</td>\n",
       "      <td>6.108</td>\n",
       "      <td>34.9</td>\n",
       "      <td>8.0555</td>\n",
       "      <td>7.0</td>\n",
       "      <td>330</td>\n",
       "      <td>19.1</td>\n",
       "      <td>390.18</td>\n",
       "      <td>9.16</td>\n",
       "      <td>24.3</td>\n",
       "      <td>1</td>\n",
       "      <td>0</td>\n",
       "    </tr>\n",
       "    <tr>\n",
       "      <th>62</th>\n",
       "      <td>22.0</td>\n",
       "      <td>5.86</td>\n",
       "      <td>0</td>\n",
       "      <td>0.431</td>\n",
       "      <td>6.957</td>\n",
       "      <td>6.8</td>\n",
       "      <td>8.9067</td>\n",
       "      <td>7.0</td>\n",
       "      <td>330</td>\n",
       "      <td>19.1</td>\n",
       "      <td>386.09</td>\n",
       "      <td>3.53</td>\n",
       "      <td>29.6</td>\n",
       "      <td>0</td>\n",
       "      <td>1</td>\n",
       "    </tr>\n",
       "    <tr>\n",
       "      <th>3</th>\n",
       "      <td>0.0</td>\n",
       "      <td>21.89</td>\n",
       "      <td>0</td>\n",
       "      <td>0.624</td>\n",
       "      <td>6.151</td>\n",
       "      <td>97.9</td>\n",
       "      <td>1.6687</td>\n",
       "      <td>4.0</td>\n",
       "      <td>437</td>\n",
       "      <td>21.2</td>\n",
       "      <td>396.90</td>\n",
       "      <td>18.46</td>\n",
       "      <td>17.8</td>\n",
       "      <td>1</td>\n",
       "      <td>0</td>\n",
       "    </tr>\n",
       "    <tr>\n",
       "      <th>71</th>\n",
       "      <td>80.0</td>\n",
       "      <td>3.64</td>\n",
       "      <td>0</td>\n",
       "      <td>0.392</td>\n",
       "      <td>6.108</td>\n",
       "      <td>32.0</td>\n",
       "      <td>9.2203</td>\n",
       "      <td>1.0</td>\n",
       "      <td>315</td>\n",
       "      <td>16.4</td>\n",
       "      <td>392.89</td>\n",
       "      <td>6.57</td>\n",
       "      <td>21.9</td>\n",
       "      <td>0</td>\n",
       "      <td>1</td>\n",
       "    </tr>\n",
       "    <tr>\n",
       "      <th>45</th>\n",
       "      <td>21.0</td>\n",
       "      <td>5.64</td>\n",
       "      <td>0</td>\n",
       "      <td>0.439</td>\n",
       "      <td>5.963</td>\n",
       "      <td>45.7</td>\n",
       "      <td>6.8147</td>\n",
       "      <td>4.0</td>\n",
       "      <td>243</td>\n",
       "      <td>16.8</td>\n",
       "      <td>395.56</td>\n",
       "      <td>13.45</td>\n",
       "      <td>19.7</td>\n",
       "      <td>0</td>\n",
       "      <td>1</td>\n",
       "    </tr>\n",
       "    <tr>\n",
       "      <th>...</th>\n",
       "      <td>...</td>\n",
       "      <td>...</td>\n",
       "      <td>...</td>\n",
       "      <td>...</td>\n",
       "      <td>...</td>\n",
       "      <td>...</td>\n",
       "      <td>...</td>\n",
       "      <td>...</td>\n",
       "      <td>...</td>\n",
       "      <td>...</td>\n",
       "      <td>...</td>\n",
       "      <td>...</td>\n",
       "      <td>...</td>\n",
       "      <td>...</td>\n",
       "      <td>...</td>\n",
       "    </tr>\n",
       "    <tr>\n",
       "      <th>96</th>\n",
       "      <td>0.0</td>\n",
       "      <td>18.10</td>\n",
       "      <td>0</td>\n",
       "      <td>0.655</td>\n",
       "      <td>5.759</td>\n",
       "      <td>48.2</td>\n",
       "      <td>3.0665</td>\n",
       "      <td>24.0</td>\n",
       "      <td>666</td>\n",
       "      <td>20.2</td>\n",
       "      <td>334.40</td>\n",
       "      <td>14.13</td>\n",
       "      <td>19.9</td>\n",
       "      <td>0</td>\n",
       "      <td>0</td>\n",
       "    </tr>\n",
       "    <tr>\n",
       "      <th>67</th>\n",
       "      <td>0.0</td>\n",
       "      <td>5.19</td>\n",
       "      <td>0</td>\n",
       "      <td>0.515</td>\n",
       "      <td>6.310</td>\n",
       "      <td>38.5</td>\n",
       "      <td>6.4584</td>\n",
       "      <td>5.0</td>\n",
       "      <td>224</td>\n",
       "      <td>20.2</td>\n",
       "      <td>389.40</td>\n",
       "      <td>6.75</td>\n",
       "      <td>20.7</td>\n",
       "      <td>0</td>\n",
       "      <td>1</td>\n",
       "    </tr>\n",
       "    <tr>\n",
       "      <th>64</th>\n",
       "      <td>28.0</td>\n",
       "      <td>15.04</td>\n",
       "      <td>0</td>\n",
       "      <td>0.464</td>\n",
       "      <td>6.249</td>\n",
       "      <td>77.3</td>\n",
       "      <td>3.6150</td>\n",
       "      <td>4.0</td>\n",
       "      <td>270</td>\n",
       "      <td>18.2</td>\n",
       "      <td>396.90</td>\n",
       "      <td>10.59</td>\n",
       "      <td>20.6</td>\n",
       "      <td>0</td>\n",
       "      <td>1</td>\n",
       "    </tr>\n",
       "    <tr>\n",
       "      <th>47</th>\n",
       "      <td>0.0</td>\n",
       "      <td>2.89</td>\n",
       "      <td>0</td>\n",
       "      <td>0.445</td>\n",
       "      <td>6.625</td>\n",
       "      <td>57.8</td>\n",
       "      <td>3.4952</td>\n",
       "      <td>2.0</td>\n",
       "      <td>276</td>\n",
       "      <td>18.0</td>\n",
       "      <td>357.98</td>\n",
       "      <td>6.65</td>\n",
       "      <td>28.4</td>\n",
       "      <td>0</td>\n",
       "      <td>1</td>\n",
       "    </tr>\n",
       "    <tr>\n",
       "      <th>44</th>\n",
       "      <td>0.0</td>\n",
       "      <td>5.96</td>\n",
       "      <td>0</td>\n",
       "      <td>0.499</td>\n",
       "      <td>5.850</td>\n",
       "      <td>41.5</td>\n",
       "      <td>3.9342</td>\n",
       "      <td>5.0</td>\n",
       "      <td>279</td>\n",
       "      <td>19.2</td>\n",
       "      <td>396.90</td>\n",
       "      <td>8.77</td>\n",
       "      <td>21.0</td>\n",
       "      <td>0</td>\n",
       "      <td>1</td>\n",
       "    </tr>\n",
       "  </tbody>\n",
       "</table>\n",
       "<p>80 rows × 15 columns</p>\n",
       "</div>"
      ],
      "text/plain": [
       "      ZN  INDUS  CHAS    NOX     RM   AGE     DIS   RAD  TAX  PTRATIO       B  \\\n",
       "43  22.0   5.86     0  0.431  6.108  34.9  8.0555   7.0  330     19.1  390.18   \n",
       "62  22.0   5.86     0  0.431  6.957   6.8  8.9067   7.0  330     19.1  386.09   \n",
       "3    0.0  21.89     0  0.624  6.151  97.9  1.6687   4.0  437     21.2  396.90   \n",
       "71  80.0   3.64     0  0.392  6.108  32.0  9.2203   1.0  315     16.4  392.89   \n",
       "45  21.0   5.64     0  0.439  5.963  45.7  6.8147   4.0  243     16.8  395.56   \n",
       "..   ...    ...   ...    ...    ...   ...     ...   ...  ...      ...     ...   \n",
       "96   0.0  18.10     0  0.655  5.759  48.2  3.0665  24.0  666     20.2  334.40   \n",
       "67   0.0   5.19     0  0.515  6.310  38.5  6.4584   5.0  224     20.2  389.40   \n",
       "64  28.0  15.04     0  0.464  6.249  77.3  3.6150   4.0  270     18.2  396.90   \n",
       "47   0.0   2.89     0  0.445  6.625  57.8  3.4952   2.0  276     18.0  357.98   \n",
       "44   0.0   5.96     0  0.499  5.850  41.5  3.9342   5.0  279     19.2  396.90   \n",
       "\n",
       "    LSTAT  PRICE  low  very_low  \n",
       "43   9.16   24.3    1         0  \n",
       "62   3.53   29.6    0         1  \n",
       "3   18.46   17.8    1         0  \n",
       "71   6.57   21.9    0         1  \n",
       "45  13.45   19.7    0         1  \n",
       "..    ...    ...  ...       ...  \n",
       "96  14.13   19.9    0         0  \n",
       "67   6.75   20.7    0         1  \n",
       "64  10.59   20.6    0         1  \n",
       "47   6.65   28.4    0         1  \n",
       "44   8.77   21.0    0         1  \n",
       "\n",
       "[80 rows x 15 columns]"
      ]
     },
     "execution_count": 128,
     "metadata": {},
     "output_type": "execute_result"
    }
   ],
   "source": [
    "train_val_mean = train_val.mean() # 各列の平均値の計算\n",
    "train_val2=train_val.fillna(train_val_mean) # 平均値で穴埋め\n",
    "train_val2\n"
   ]
  },
  {
   "cell_type": "markdown",
   "metadata": {},
   "source": [
    "### 8-8外れ値の処理"
   ]
  },
  {
   "cell_type": "markdown",
   "metadata": {},
   "source": [
    "colname = train_val2.columns\n",
    "# for name in colname[:13]:\n",
    "for name in colname:\n",
    "    train_val2.plot(kind = 'scatter', x = name, y = 'PRICE')"
   ]
  },
  {
   "cell_type": "code",
   "execution_count": 129,
   "metadata": {},
   "outputs": [
    {
     "data": {
      "image/png": "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",
      "text/plain": [
       "<Figure size 800x1000 with 15 Axes>"
      ]
     },
     "metadata": {},
     "output_type": "display_data"
    }
   ],
   "source": [
    "import matplotlib.pyplot as plt\n",
    "fig = plt.figure(figsize=(8,10))\n",
    "colname = train_val2.columns\n",
    "# for name in colname:   \n",
    "#     train_val2.plot(kind = 'scatter', x = name, y = 'PRICE')\n",
    "for n, col in enumerate(colname):\n",
    "    train_val2.plot(ax=fig.add_subplot(5,3,n+1), kind='scatter', x= col, y='PRICE', s=3)\n",
    "    \n",
    "plt.tight_layout()\n",
    "plt.show()"
   ]
  },
  {
   "cell_type": "markdown",
   "metadata": {},
   "source": [
    "### 8-9外れ値が存在するインデックスの確認"
   ]
  },
  {
   "cell_type": "code",
   "execution_count": 130,
   "metadata": {},
   "outputs": [
    {
     "name": "stdout",
     "output_type": "stream",
     "text": [
      "Index([76], dtype='int64') Index([76], dtype='int64')\n"
     ]
    }
   ],
   "source": [
    "# RMの外れ値\n",
    "out_line1 = train_val2[(train_val2['RM'] < 6) &\n",
    "(train_val2['PRICE'] > 40)].index\n",
    "# PTRATIOの外れ値\n",
    "out_line2 = train_val2[(train_val2['PTRATIO'] > 18) &\n",
    "(train_val2['PRICE'] > 40)].index\n",
    "\n",
    "print(out_line1, out_line2)"
   ]
  },
  {
   "cell_type": "markdown",
   "metadata": {},
   "source": [
    "### 8-10外れ値の削除"
   ]
  },
  {
   "cell_type": "code",
   "execution_count": 131,
   "metadata": {},
   "outputs": [],
   "source": [
    "train_val3 = train_val2.drop([76], axis = 0)"
   ]
  },
  {
   "cell_type": "markdown",
   "metadata": {},
   "source": [
    "### 8-11予測に使用する特徴量の列以外を取り除く"
   ]
  },
  {
   "cell_type": "code",
   "execution_count": 132,
   "metadata": {},
   "outputs": [
    {
     "data": {
      "text/html": [
       "<div>\n",
       "<style scoped>\n",
       "    .dataframe tbody tr th:only-of-type {\n",
       "        vertical-align: middle;\n",
       "    }\n",
       "\n",
       "    .dataframe tbody tr th {\n",
       "        vertical-align: top;\n",
       "    }\n",
       "\n",
       "    .dataframe thead th {\n",
       "        text-align: right;\n",
       "    }\n",
       "</style>\n",
       "<table border=\"1\" class=\"dataframe\">\n",
       "  <thead>\n",
       "    <tr style=\"text-align: right;\">\n",
       "      <th></th>\n",
       "      <th>INDUS</th>\n",
       "      <th>NOX</th>\n",
       "      <th>RM</th>\n",
       "      <th>PTRATIO</th>\n",
       "      <th>LSTAT</th>\n",
       "      <th>PRICE</th>\n",
       "    </tr>\n",
       "  </thead>\n",
       "  <tbody>\n",
       "    <tr>\n",
       "      <th>43</th>\n",
       "      <td>5.86</td>\n",
       "      <td>0.431</td>\n",
       "      <td>6.108</td>\n",
       "      <td>19.1</td>\n",
       "      <td>9.16</td>\n",
       "      <td>24.3</td>\n",
       "    </tr>\n",
       "    <tr>\n",
       "      <th>62</th>\n",
       "      <td>5.86</td>\n",
       "      <td>0.431</td>\n",
       "      <td>6.957</td>\n",
       "      <td>19.1</td>\n",
       "      <td>3.53</td>\n",
       "      <td>29.6</td>\n",
       "    </tr>\n",
       "    <tr>\n",
       "      <th>3</th>\n",
       "      <td>21.89</td>\n",
       "      <td>0.624</td>\n",
       "      <td>6.151</td>\n",
       "      <td>21.2</td>\n",
       "      <td>18.46</td>\n",
       "      <td>17.8</td>\n",
       "    </tr>\n",
       "  </tbody>\n",
       "</table>\n",
       "</div>"
      ],
      "text/plain": [
       "    INDUS    NOX     RM  PTRATIO  LSTAT  PRICE\n",
       "43   5.86  0.431  6.108     19.1   9.16   24.3\n",
       "62   5.86  0.431  6.957     19.1   3.53   29.6\n",
       "3   21.89  0.624  6.151     21.2  18.46   17.8"
      ]
     },
     "execution_count": 132,
     "metadata": {},
     "output_type": "execute_result"
    }
   ],
   "source": [
    "col = ['INDUS', 'NOX', 'RM', 'PTRATIO', 'LSTAT', 'PRICE']\n",
    "\n",
    "train_val4 = train_val3[col]\n",
    "train_val4.head(3)"
   ]
  },
  {
   "cell_type": "markdown",
   "metadata": {},
   "source": [
    "### 8-12各列同士の相関係数を調べる"
   ]
  },
  {
   "cell_type": "code",
   "execution_count": 133,
   "metadata": {},
   "outputs": [
    {
     "data": {
      "text/html": [
       "<div>\n",
       "<style scoped>\n",
       "    .dataframe tbody tr th:only-of-type {\n",
       "        vertical-align: middle;\n",
       "    }\n",
       "\n",
       "    .dataframe tbody tr th {\n",
       "        vertical-align: top;\n",
       "    }\n",
       "\n",
       "    .dataframe thead th {\n",
       "        text-align: right;\n",
       "    }\n",
       "</style>\n",
       "<table border=\"1\" class=\"dataframe\">\n",
       "  <thead>\n",
       "    <tr style=\"text-align: right;\">\n",
       "      <th></th>\n",
       "      <th>INDUS</th>\n",
       "      <th>NOX</th>\n",
       "      <th>RM</th>\n",
       "      <th>PTRATIO</th>\n",
       "      <th>LSTAT</th>\n",
       "      <th>PRICE</th>\n",
       "    </tr>\n",
       "  </thead>\n",
       "  <tbody>\n",
       "    <tr>\n",
       "      <th>INDUS</th>\n",
       "      <td>1.000000</td>\n",
       "      <td>0.785722</td>\n",
       "      <td>-0.403129</td>\n",
       "      <td>0.249438</td>\n",
       "      <td>0.578406</td>\n",
       "      <td>-0.470889</td>\n",
       "    </tr>\n",
       "    <tr>\n",
       "      <th>NOX</th>\n",
       "      <td>0.785722</td>\n",
       "      <td>1.000000</td>\n",
       "      <td>-0.272996</td>\n",
       "      <td>0.077533</td>\n",
       "      <td>0.484295</td>\n",
       "      <td>-0.325289</td>\n",
       "    </tr>\n",
       "    <tr>\n",
       "      <th>RM</th>\n",
       "      <td>-0.403129</td>\n",
       "      <td>-0.272996</td>\n",
       "      <td>1.000000</td>\n",
       "      <td>-0.404568</td>\n",
       "      <td>-0.560454</td>\n",
       "      <td>0.753771</td>\n",
       "    </tr>\n",
       "    <tr>\n",
       "      <th>PTRATIO</th>\n",
       "      <td>0.249438</td>\n",
       "      <td>0.077533</td>\n",
       "      <td>-0.404568</td>\n",
       "      <td>1.000000</td>\n",
       "      <td>0.326563</td>\n",
       "      <td>-0.542449</td>\n",
       "    </tr>\n",
       "    <tr>\n",
       "      <th>LSTAT</th>\n",
       "      <td>0.578406</td>\n",
       "      <td>0.484295</td>\n",
       "      <td>-0.560454</td>\n",
       "      <td>0.326563</td>\n",
       "      <td>1.000000</td>\n",
       "      <td>-0.693490</td>\n",
       "    </tr>\n",
       "    <tr>\n",
       "      <th>PRICE</th>\n",
       "      <td>-0.470889</td>\n",
       "      <td>-0.325289</td>\n",
       "      <td>0.753771</td>\n",
       "      <td>-0.542449</td>\n",
       "      <td>-0.693490</td>\n",
       "      <td>1.000000</td>\n",
       "    </tr>\n",
       "  </tbody>\n",
       "</table>\n",
       "</div>"
      ],
      "text/plain": [
       "            INDUS       NOX        RM   PTRATIO     LSTAT     PRICE\n",
       "INDUS    1.000000  0.785722 -0.403129  0.249438  0.578406 -0.470889\n",
       "NOX      0.785722  1.000000 -0.272996  0.077533  0.484295 -0.325289\n",
       "RM      -0.403129 -0.272996  1.000000 -0.404568 -0.560454  0.753771\n",
       "PTRATIO  0.249438  0.077533 -0.404568  1.000000  0.326563 -0.542449\n",
       "LSTAT    0.578406  0.484295 -0.560454  0.326563  1.000000 -0.693490\n",
       "PRICE   -0.470889 -0.325289  0.753771 -0.542449 -0.693490  1.000000"
      ]
     },
     "execution_count": 133,
     "metadata": {},
     "output_type": "execute_result"
    }
   ],
   "source": [
    "train_val4.corr()"
   ]
  },
  {
   "cell_type": "markdown",
   "metadata": {},
   "source": [
    "### 8-13PRICE列との相関係数を調べる"
   ]
  },
  {
   "cell_type": "code",
   "execution_count": 134,
   "metadata": {},
   "outputs": [
    {
     "data": {
      "text/plain": [
       "INDUS     -0.470889\n",
       "NOX       -0.325289\n",
       "RM         0.753771\n",
       "PTRATIO   -0.542449\n",
       "LSTAT     -0.693490\n",
       "PRICE      1.000000\n",
       "Name: PRICE, dtype: float64"
      ]
     },
     "execution_count": 134,
     "metadata": {},
     "output_type": "execute_result"
    }
   ],
   "source": [
    "train_cor = train_val4.corr()['PRICE']\n",
    "train_cor"
   ]
  },
  {
   "cell_type": "markdown",
   "metadata": {},
   "source": [
    "### 8-15mapで要素に関数を適用"
   ]
  },
  {
   "cell_type": "code",
   "execution_count": 135,
   "metadata": {},
   "outputs": [
    {
     "data": {
      "text/plain": [
       "0    1\n",
       "1    2\n",
       "2    3\n",
       "3    4\n",
       "dtype: int64"
      ]
     },
     "execution_count": 135,
     "metadata": {},
     "output_type": "execute_result"
    }
   ],
   "source": [
    "se = pd.Series([1, -2, 3, -4]) # シリーズの作成\n",
    "\n",
    "# seの各要素にabs関数を適応させた結果をシリーズ化\n",
    "se.map(abs)"
   ]
  },
  {
   "cell_type": "markdown",
   "metadata": {},
   "source": [
    "### 8-16各要素を絶対値に変換"
   ]
  },
  {
   "cell_type": "code",
   "execution_count": 136,
   "metadata": {},
   "outputs": [
    {
     "data": {
      "text/plain": [
       "INDUS      0.470889\n",
       "NOX        0.325289\n",
       "RM         0.753771\n",
       "PTRATIO    0.542449\n",
       "LSTAT      0.693490\n",
       "PRICE      1.000000\n",
       "Name: PRICE, dtype: float64"
      ]
     },
     "execution_count": 136,
     "metadata": {},
     "output_type": "execute_result"
    }
   ],
   "source": [
    "abs_cor = train_cor.map(abs)\n",
    "abs_cor"
   ]
  },
  {
   "cell_type": "markdown",
   "metadata": {},
   "source": [
    "### 8-17降順に並び替え"
   ]
  },
  {
   "cell_type": "code",
   "execution_count": 137,
   "metadata": {},
   "outputs": [
    {
     "data": {
      "text/plain": [
       "PRICE      1.000000\n",
       "RM         0.753771\n",
       "LSTAT      0.693490\n",
       "PTRATIO    0.542449\n",
       "INDUS      0.470889\n",
       "NOX        0.325289\n",
       "Name: PRICE, dtype: float64"
      ]
     },
     "execution_count": 137,
     "metadata": {},
     "output_type": "execute_result"
    }
   ],
   "source": [
    "# 降順に並べ替える\n",
    "abs_cor.sort_values(ascending = False)"
   ]
  },
  {
   "cell_type": "markdown",
   "metadata": {},
   "source": [
    "### 8-18訓練データと検証データを分割する　※テストデータはそのまま"
   ]
  },
  {
   "cell_type": "code",
   "execution_count": 138,
   "metadata": {},
   "outputs": [
    {
     "data": {
      "text/plain": [
       "(       RM  LSTAT  PTRATIO\n",
       " 71  6.108   6.57     16.4\n",
       " 41  6.096  10.26     21.0\n",
       " 99  5.453  30.59     20.2\n",
       " 40  7.470   3.16     13.0\n",
       " 57  6.021  10.30     17.8\n",
       " ..    ...    ...      ...\n",
       " 67  6.310   6.75     20.2\n",
       " 88  4.138  23.34     20.2\n",
       " 65  5.427  18.14     20.2\n",
       " 14  6.226  10.15     19.1\n",
       " 85  7.185   4.03     17.8\n",
       " \n",
       " [63 rows x 3 columns],\n",
       "        RM  LSTAT  PTRATIO\n",
       " 19  6.072  13.04     21.0\n",
       " 38  6.630   4.70     19.2\n",
       " 59  5.981  11.65     17.4\n",
       " 39  5.602  16.20     17.9\n",
       " 32  6.546   5.33     16.6\n",
       " 87  5.663   8.05     22.0\n",
       " 96  5.759  14.13     20.2\n",
       " 64  6.249  10.59     18.2\n",
       " 89  7.831   4.45     17.8\n",
       " 72  6.120   9.08     21.0\n",
       " 31  5.594  13.09     18.9\n",
       " 46  5.613  27.26     19.1\n",
       " 3   6.151  18.46     21.2\n",
       " 21  6.211   7.44     17.9\n",
       " 94  6.389   9.62     18.5\n",
       " 50  6.375   9.38     18.6,\n",
       "     PRICE\n",
       " 71   21.9\n",
       " 41   18.2\n",
       " 99    5.0\n",
       " 40   43.5\n",
       " 57   19.2\n",
       " ..    ...\n",
       " 67   20.7\n",
       " 88   11.9\n",
       " 65   13.8\n",
       " 14   20.5\n",
       " 85   34.7\n",
       " \n",
       " [63 rows x 1 columns],\n",
       "     PRICE\n",
       " 19   14.5\n",
       " 38   27.9\n",
       " 59   24.3\n",
       " 39   19.4\n",
       " 32   29.4\n",
       " 87   18.2\n",
       " 96   19.9\n",
       " 64   20.6\n",
       " 89   50.0\n",
       " 72   20.6\n",
       " 31   17.4\n",
       " 46   15.7\n",
       " 3    17.8\n",
       " 21   24.7\n",
       " 94   23.9\n",
       " 50   28.1)"
      ]
     },
     "execution_count": 138,
     "metadata": {},
     "output_type": "execute_result"
    }
   ],
   "source": [
    "col =['RM', 'LSTAT', 'PTRATIO']\n",
    "x = train_val4[col]\n",
    "t = train_val4[['PRICE']]\n",
    "\n",
    "#訓練データと検証データに分割\n",
    "x_train, x_val, y_train, y_val = train_test_split(x, t,\n",
    "    test_size = 0.2, random_state = 0)\n",
    "\n",
    "x_train, x_val, y_train, y_val"
   ]
  },
  {
   "cell_type": "markdown",
   "metadata": {},
   "source": [
    "### 8-19データ標準化"
   ]
  },
  {
   "cell_type": "code",
   "execution_count": 139,
   "metadata": {},
   "outputs": [
    {
     "data": {
      "text/plain": [
       "array([[-0.10238334, -0.89546338, -0.97250163],\n",
       "       [-0.11741281, -0.37386886,  1.21732721],\n",
       "       [-0.92274224,  2.49984836,  0.83648742],\n",
       "       [ 1.60346221, -1.37747891, -2.59107078],\n",
       "       [-0.21134704, -0.36821472, -0.30603198],\n",
       "       [ 0.28337322, -0.54632017, -0.87729168],\n",
       "       [ 2.01927772, -1.55275729, -1.7817862 ],\n",
       "       [-0.42551707, -0.58448562,  0.36043767],\n",
       "       [-0.39420567,  0.21557535, -1.7817862 ],\n",
       "       [-0.21886178, -0.00634969,  0.02720284],\n",
       "       [-0.48438252,  0.24525959,  0.83648742],\n",
       "       [ 0.02411475,  0.04453758,  0.83648742],\n",
       "       [ 0.31092726, -1.31669689,  0.31283269],\n",
       "       [ 2.08315299, -1.28559912, -1.7817862 ],\n",
       "       [-0.98411261,  1.56550154,  0.07480782],\n",
       "       [-0.28398951,  0.07704889, -0.78208173],\n",
       "       [-0.9039554 ,  1.91040415, -1.7817862 ],\n",
       "       [ 0.23828479,  1.52450902,  0.83648742],\n",
       "       [-0.12993738, -0.28622968, -0.49645188],\n",
       "       [-0.18629791, -0.73573389,  0.55085757],\n",
       "       [-0.37917619,  0.48697412,  0.83648742],\n",
       "       [ 0.9897586 , -0.17597392,  0.83648742],\n",
       "       [ 0.02411475, -0.81489187, -0.87729168],\n",
       "       [-3.29238966, -0.81771894,  0.83648742],\n",
       "       [-1.10935824,  1.94150192,  0.83648742],\n",
       "       [-0.0460228 ,  0.03464283, -0.30603198],\n",
       "       [ 0.9609521 , -1.32517811,  0.31283269],\n",
       "       [-0.83882767,  1.64748659,  0.83648742],\n",
       "       [-0.22637651,  0.05160526, -1.54376133],\n",
       "       [ 0.43617289, -0.73149329,  0.07480782],\n",
       "       [-0.34535987,  0.76685411, -0.02040213],\n",
       "       [-0.30027144,  2.0927502 ,  1.21732721],\n",
       "       [-0.98411261,  0.05301879, -1.7817862 ],\n",
       "       [-0.13369475, -0.01624444,  0.55085757],\n",
       "       [ 3.14899334, -1.100426  , -2.59107078],\n",
       "       [-0.38794338, -0.12367312, -1.7817862 ],\n",
       "       [-0.10238334, -0.52935774,  0.31283269],\n",
       "       [ 0.5451366 , -0.8841551 , -0.21082203],\n",
       "       [ 0.33973375,  0.72727512,  0.83648742],\n",
       "       [ 2.04182193, -1.31952396, -0.21082203],\n",
       "       [-0.97409295,  2.35284069,  0.07480782],\n",
       "       [ 0.26834374,  1.04673409,  0.83648742],\n",
       "       [-0.20007493,  0.83329027, -0.25842701],\n",
       "       [ 0.46998921, -0.47988401, -0.87729168],\n",
       "       [-0.35663198, -0.20565816,  0.83648742],\n",
       "       [ 0.1405932 , -0.87426035,  0.26522772],\n",
       "       [-0.28148459,  0.13076323,  1.21732721],\n",
       "       [ 1.21895811, -0.92514762, -0.49645188],\n",
       "       [ 0.41989096,  0.7385834 ,  0.83648742],\n",
       "       [ 0.06544581, -0.30601917,  0.83648742],\n",
       "       [-0.28023214, -0.39224482,  0.36043767],\n",
       "       [-0.60587079, -0.06713171, -0.73447676],\n",
       "       [-0.20007493, -0.71029026,  1.21732721],\n",
       "       [ 0.2896355 , -0.53218481, -0.30603198],\n",
       "       [-0.42426462,  0.50393655,  1.16972224],\n",
       "       [ 1.97293683, -0.75552339, -0.30603198],\n",
       "       [-0.41674988,  1.18950116,  1.31253716],\n",
       "       [-0.56203482,  0.03464283,  0.59846254],\n",
       "       [ 0.15061285, -0.87001975,  0.83648742],\n",
       "       [-2.56972234,  1.47503528,  0.83648742],\n",
       "       [-0.95530611,  0.73999694,  0.83648742],\n",
       "       [ 0.04540651, -0.38941775,  0.31283269],\n",
       "       [ 1.24651215, -1.25450134, -0.30603198]])"
      ]
     },
     "execution_count": 139,
     "metadata": {},
     "output_type": "execute_result"
    }
   ],
   "source": [
    "from sklearn.preprocessing import StandardScaler\n",
    "\n",
    "sc_model_x = StandardScaler()\n",
    "sc_model_x.fit(x_train)\n",
    "\n",
    "# 各列のデータを標準化してsc_xに代入\n",
    "sc_x = sc_model_x.transform(x_train)\n",
    "sc_x # 表示"
   ]
  },
  {
   "cell_type": "markdown",
   "metadata": {},
   "source": [
    "### 8-20見やすくして平均値0（ほぼ0）を確認"
   ]
  },
  {
   "cell_type": "code",
   "execution_count": 140,
   "metadata": {},
   "outputs": [
    {
     "data": {
      "text/plain": [
       "RM        -3.418782e-16\n",
       "LSTAT      1.445052e-16\n",
       "PTRATIO   -1.436241e-16\n",
       "dtype: float64"
      ]
     },
     "execution_count": 140,
     "metadata": {},
     "output_type": "execute_result"
    }
   ],
   "source": [
    "# array 型だと見づらいのでデータフレームに変換\n",
    "tmp_df = pd.DataFrame(sc_x, columns = x_train.columns)\n",
    "# 平均値の計算\n",
    "tmp_df.mean()"
   ]
  },
  {
   "cell_type": "markdown",
   "metadata": {},
   "source": [
    "### 8-21標準偏差の計算"
   ]
  },
  {
   "cell_type": "code",
   "execution_count": 141,
   "metadata": {},
   "outputs": [
    {
     "data": {
      "text/plain": [
       "RM         1.008032\n",
       "LSTAT      1.008032\n",
       "PTRATIO    1.008032\n",
       "dtype: float64"
      ]
     },
     "execution_count": 141,
     "metadata": {},
     "output_type": "execute_result"
    }
   ],
   "source": [
    "tmp_df.std() # 標準偏差の計算"
   ]
  },
  {
   "cell_type": "markdown",
   "metadata": {},
   "source": [
    "### 8-22正解データを標準化"
   ]
  },
  {
   "cell_type": "code",
   "execution_count": 142,
   "metadata": {},
   "outputs": [],
   "source": [
    "sc_model_y = StandardScaler()\n",
    "sc_model_y.fit(y_train)\n",
    "\n",
    "sc_y = sc_model_y.transform(y_train)\n",
    "sc_y\n"
   ]
  },
  {
   "cell_type": "markdown",
   "metadata": {},
   "source": [
    "### 8-23標準化したデータで学習"
   ]
  },
  {
   "cell_type": "code",
   "execution_count": 143,
   "metadata": {},
   "outputs": [
    {
     "data": {
      "text/html": [
       "<style>#sk-container-id-7 {color: black;}#sk-container-id-7 pre{padding: 0;}#sk-container-id-7 div.sk-toggleable {background-color: white;}#sk-container-id-7 label.sk-toggleable__label {cursor: pointer;display: block;width: 100%;margin-bottom: 0;padding: 0.3em;box-sizing: border-box;text-align: center;}#sk-container-id-7 label.sk-toggleable__label-arrow:before {content: \"▸\";float: left;margin-right: 0.25em;color: #696969;}#sk-container-id-7 label.sk-toggleable__label-arrow:hover:before {color: black;}#sk-container-id-7 div.sk-estimator:hover label.sk-toggleable__label-arrow:before {color: black;}#sk-container-id-7 div.sk-toggleable__content {max-height: 0;max-width: 0;overflow: hidden;text-align: left;background-color: #f0f8ff;}#sk-container-id-7 div.sk-toggleable__content pre {margin: 0.2em;color: black;border-radius: 0.25em;background-color: #f0f8ff;}#sk-container-id-7 input.sk-toggleable__control:checked~div.sk-toggleable__content {max-height: 200px;max-width: 100%;overflow: auto;}#sk-container-id-7 input.sk-toggleable__control:checked~label.sk-toggleable__label-arrow:before {content: \"▾\";}#sk-container-id-7 div.sk-estimator input.sk-toggleable__control:checked~label.sk-toggleable__label {background-color: #d4ebff;}#sk-container-id-7 div.sk-label input.sk-toggleable__control:checked~label.sk-toggleable__label {background-color: #d4ebff;}#sk-container-id-7 input.sk-hidden--visually {border: 0;clip: rect(1px 1px 1px 1px);clip: rect(1px, 1px, 1px, 1px);height: 1px;margin: -1px;overflow: hidden;padding: 0;position: absolute;width: 1px;}#sk-container-id-7 div.sk-estimator {font-family: monospace;background-color: #f0f8ff;border: 1px dotted black;border-radius: 0.25em;box-sizing: border-box;margin-bottom: 0.5em;}#sk-container-id-7 div.sk-estimator:hover {background-color: #d4ebff;}#sk-container-id-7 div.sk-parallel-item::after {content: \"\";width: 100%;border-bottom: 1px solid gray;flex-grow: 1;}#sk-container-id-7 div.sk-label:hover label.sk-toggleable__label {background-color: #d4ebff;}#sk-container-id-7 div.sk-serial::before {content: \"\";position: absolute;border-left: 1px solid gray;box-sizing: border-box;top: 0;bottom: 0;left: 50%;z-index: 0;}#sk-container-id-7 div.sk-serial {display: flex;flex-direction: column;align-items: center;background-color: white;padding-right: 0.2em;padding-left: 0.2em;position: relative;}#sk-container-id-7 div.sk-item {position: relative;z-index: 1;}#sk-container-id-7 div.sk-parallel {display: flex;align-items: stretch;justify-content: center;background-color: white;position: relative;}#sk-container-id-7 div.sk-item::before, #sk-container-id-7 div.sk-parallel-item::before {content: \"\";position: absolute;border-left: 1px solid gray;box-sizing: border-box;top: 0;bottom: 0;left: 50%;z-index: -1;}#sk-container-id-7 div.sk-parallel-item {display: flex;flex-direction: column;z-index: 1;position: relative;background-color: white;}#sk-container-id-7 div.sk-parallel-item:first-child::after {align-self: flex-end;width: 50%;}#sk-container-id-7 div.sk-parallel-item:last-child::after {align-self: flex-start;width: 50%;}#sk-container-id-7 div.sk-parallel-item:only-child::after {width: 0;}#sk-container-id-7 div.sk-dashed-wrapped {border: 1px dashed gray;margin: 0 0.4em 0.5em 0.4em;box-sizing: border-box;padding-bottom: 0.4em;background-color: white;}#sk-container-id-7 div.sk-label label {font-family: monospace;font-weight: bold;display: inline-block;line-height: 1.2em;}#sk-container-id-7 div.sk-label-container {text-align: center;}#sk-container-id-7 div.sk-container {/* jupyter's `normalize.less` sets `[hidden] { display: none; }` but bootstrap.min.css set `[hidden] { display: none !important; }` so we also need the `!important` here to be able to override the default hidden behavior on the sphinx rendered scikit-learn.org. See: https://github.com/scikit-learn/scikit-learn/issues/21755 */display: inline-block !important;position: relative;}#sk-container-id-7 div.sk-text-repr-fallback {display: none;}</style><div id=\"sk-container-id-7\" class=\"sk-top-container\"><div class=\"sk-text-repr-fallback\"><pre>LinearRegression()</pre><b>In a Jupyter environment, please rerun this cell to show the HTML representation or trust the notebook. <br />On GitHub, the HTML representation is unable to render, please try loading this page with nbviewer.org.</b></div><div class=\"sk-container\" hidden><div class=\"sk-item\"><div class=\"sk-estimator sk-toggleable\"><input class=\"sk-toggleable__control sk-hidden--visually\" id=\"sk-estimator-id-7\" type=\"checkbox\" checked><label for=\"sk-estimator-id-7\" class=\"sk-toggleable__label sk-toggleable__label-arrow\">LinearRegression</label><div class=\"sk-toggleable__content\"><pre>LinearRegression()</pre></div></div></div></div></div>"
      ],
      "text/plain": [
       "LinearRegression()"
      ]
     },
     "execution_count": 143,
     "metadata": {},
     "output_type": "execute_result"
    }
   ],
   "source": [
    "model = LinearRegression()\n",
    "model.fit(sc_x, sc_y)"
   ]
  },
  {
   "cell_type": "markdown",
   "metadata": {},
   "source": [
    "### 8-24決定係数を求める"
   ]
  },
  {
   "cell_type": "code",
   "execution_count": 144,
   "metadata": {},
   "outputs": [
    {
     "name": "stderr",
     "output_type": "stream",
     "text": [
      "c:\\Users\\user\\anaconda3\\envs\\py39\\lib\\site-packages\\sklearn\\base.py:457: UserWarning: X has feature names, but LinearRegression was fitted without feature names\n",
      "  warnings.warn(\n"
     ]
    },
    {
     "data": {
      "text/plain": [
       "-13.085044375040093"
      ]
     },
     "execution_count": 144,
     "metadata": {},
     "output_type": "execute_result"
    }
   ],
   "source": [
    "model.score(x_val, y_val)"
   ]
  },
  {
   "cell_type": "markdown",
   "metadata": {},
   "source": [
    "### 8-25検証データを「訓練データのモデルで」標準化する"
   ]
  },
  {
   "cell_type": "code",
   "execution_count": 145,
   "metadata": {},
   "outputs": [
    {
     "data": {
      "text/plain": [
       "0.7359028880290998"
      ]
     },
     "execution_count": 145,
     "metadata": {},
     "output_type": "execute_result"
    }
   ],
   "source": [
    "sc_x_val = sc_model_x.transform(x_val)\n",
    "sc_y_val = sc_model_y.transform(y_val)\n",
    "sc_x_val, sc_y_val\n",
    "# 標準化した検証データで決定係数を計算\n",
    "model.score(sc_x_val, sc_y_val)\n"
   ]
  },
  {
   "cell_type": "markdown",
   "metadata": {},
   "source": [
    "### 8-26\n",
    "# 以下、やってはいけない間違いのコード\n",
    "sc_model_x2 = StandardScaler()\n",
    "sc_model_x2.fit(x_val)\n",
    "sc_x_val = sc_model_x2.transform(x_val)\n",
    "sc_model_y2 = StandardScaler()\n",
    "sc_model_y2.fit(y_val)\n",
    "sc_y_val = sc_model_y2.transform(y_val)\n",
    "model.score(sc_x_val, sc_y_val)"
   ]
  },
  {
   "cell_type": "markdown",
   "metadata": {},
   "source": [
    "### 8-27learn関数を実行する"
   ]
  },
  {
   "cell_type": "code",
   "execution_count": 146,
   "metadata": {},
   "outputs": [],
   "source": [
    "def learn(x, t):\n",
    "    x_train, x_val, y_train, y_val = train_test_split(x, t,\n",
    "    test_size = 0.2, random_state = 0)\n",
    "    # 訓練データを標準化\n",
    "    sc_model_x = StandardScaler()\n",
    "    sc_model_y = StandardScaler()\n",
    "    sc_model_x.fit(x_train)\n",
    "    sc_x_train = sc_model_x.transform(x_train)\n",
    "    sc_model_y.fit(y_train)\n",
    "    sc_y_train = sc_model_y.transform(y_train)\n",
    "    # 学習\n",
    "    model = LinearRegression()\n",
    "    model.fit(sc_x_train, sc_y_train)\n",
    "    #検証データを標準化\n",
    "    sc_x_val = sc_model_x.transform(x_val)\n",
    "    sc_y_val = sc_model_y.transform(y_val)\n",
    "    # 訓練データと検証データの決定係数計算\n",
    "    train_score = model.score(sc_x_train, sc_y_train)\n",
    "    val_score = model.score(sc_x_val, sc_y_val)\n",
    "    return train_score, val_score"
   ]
  },
  {
   "cell_type": "code",
   "execution_count": null,
   "metadata": {},
   "outputs": [],
   "source": []
  },
  {
   "cell_type": "markdown",
   "metadata": {},
   "source": [
    "### 8-28learn関数を実行"
   ]
  },
  {
   "cell_type": "code",
   "execution_count": 147,
   "metadata": {},
   "outputs": [
    {
     "name": "stdout",
     "output_type": "stream",
     "text": [
      "0.7175897572515981 0.7359028880290998\n"
     ]
    }
   ],
   "source": [
    "x = train_val3.loc[ :, ['RM', 'LSTAT', 'PTRATIO']]\n",
    "t = train_val3[['PRICE']]\n",
    "s1,s2 = learn(x, t)\n",
    "print(s1, s2)"
   ]
  },
  {
   "cell_type": "markdown",
   "metadata": {},
   "source": [
    "### 8-29特徴量にINDUS列を追加する"
   ]
  },
  {
   "cell_type": "code",
   "execution_count": 148,
   "metadata": {},
   "outputs": [
    {
     "name": "stdout",
     "output_type": "stream",
     "text": [
      "0.7190252930186809 0.7295535344941491\n"
     ]
    }
   ],
   "source": [
    "x = train_val3.loc[ :, ['RM', 'LSTAT', 'PTRATIO','INDUS']]\n",
    "t = train_val3[['PRICE']]\n",
    "s1,s2 = learn(x, t)\n",
    "print(s1, s2)"
   ]
  },
  {
   "cell_type": "markdown",
   "metadata": {},
   "source": [
    "### 8-30特徴量エンジニアリング、RM（部屋数）を２乗する"
   ]
  },
  {
   "cell_type": "code",
   "execution_count": 149,
   "metadata": {},
   "outputs": [
    {
     "data": {
      "text/plain": [
       "43    37.307664\n",
       "62    48.399849\n",
       "3     37.834801\n",
       "71    37.307664\n",
       "45    35.557369\n",
       "        ...    \n",
       "96    33.166081\n",
       "67    39.816100\n",
       "64    39.050001\n",
       "47    43.890625\n",
       "44    34.222500\n",
       "Name: RM, Length: 79, dtype: float64"
      ]
     },
     "execution_count": 149,
     "metadata": {},
     "output_type": "execute_result"
    }
   ],
   "source": [
    "x['RM'] ** 2"
   ]
  },
  {
   "cell_type": "markdown",
   "metadata": {},
   "source": [
    "### 8-31RM２乗列を特徴量に追加する"
   ]
  },
  {
   "cell_type": "code",
   "execution_count": 150,
   "metadata": {},
   "outputs": [
    {
     "data": {
      "text/html": [
       "<div>\n",
       "<style scoped>\n",
       "    .dataframe tbody tr th:only-of-type {\n",
       "        vertical-align: middle;\n",
       "    }\n",
       "\n",
       "    .dataframe tbody tr th {\n",
       "        vertical-align: top;\n",
       "    }\n",
       "\n",
       "    .dataframe thead th {\n",
       "        text-align: right;\n",
       "    }\n",
       "</style>\n",
       "<table border=\"1\" class=\"dataframe\">\n",
       "  <thead>\n",
       "    <tr style=\"text-align: right;\">\n",
       "      <th></th>\n",
       "      <th>RM</th>\n",
       "      <th>LSTAT</th>\n",
       "      <th>PTRATIO</th>\n",
       "      <th>RM2</th>\n",
       "    </tr>\n",
       "  </thead>\n",
       "  <tbody>\n",
       "    <tr>\n",
       "      <th>43</th>\n",
       "      <td>6.108</td>\n",
       "      <td>9.16</td>\n",
       "      <td>19.1</td>\n",
       "      <td>37.307664</td>\n",
       "    </tr>\n",
       "    <tr>\n",
       "      <th>62</th>\n",
       "      <td>6.957</td>\n",
       "      <td>3.53</td>\n",
       "      <td>19.1</td>\n",
       "      <td>48.399849</td>\n",
       "    </tr>\n",
       "  </tbody>\n",
       "</table>\n",
       "</div>"
      ],
      "text/plain": [
       "       RM  LSTAT  PTRATIO        RM2\n",
       "43  6.108   9.16     19.1  37.307664\n",
       "62  6.957   3.53     19.1  48.399849"
      ]
     },
     "execution_count": 150,
     "metadata": {},
     "output_type": "execute_result"
    }
   ],
   "source": [
    "# RM2乗のシリーズを新しい列として追加\n",
    "x['RM2'] = x['RM'] ** 2\n",
    "# コード8-29で、INDUS列を追加したので削除\n",
    "x = x.drop('INDUS', axis = 1)\n",
    "x.head(2)"
   ]
  },
  {
   "cell_type": "markdown",
   "metadata": {},
   "source": [
    "### 8-32※行追加のテスト"
   ]
  },
  {
   "cell_type": "code",
   "execution_count": 151,
   "metadata": {},
   "outputs": [
    {
     "name": "stdout",
     "output_type": "stream",
     "text": [
      "         RM  LSTAT  PTRATIO       RM2\n",
      "44     5.85   8.77     19.2   34.2225\n",
      "2000  10.00   7.00      8.0  100.0000\n"
     ]
    }
   ],
   "source": [
    "# インデックスを2000として新しい行を追加\n",
    "x.loc[2000] = [10, 7, 8, 100]\n",
    "print(x.tail(2)) # 確認\n",
    "\n",
    "# 第8章の本筋には関係ないので削除\n",
    "x = x.drop(2000, axis = 0)"
   ]
  },
  {
   "cell_type": "markdown",
   "metadata": {},
   "source": [
    "### 8-33再学習"
   ]
  },
  {
   "cell_type": "code",
   "execution_count": 152,
   "metadata": {},
   "outputs": [
    {
     "name": "stdout",
     "output_type": "stream",
     "text": [
      "0.8456207631185566 0.8372526287986777\n"
     ]
    }
   ],
   "source": [
    "s1, s2 = learn(x, t)\n",
    "print(s1, s2)"
   ]
  },
  {
   "cell_type": "markdown",
   "metadata": {},
   "source": [
    "### 8-34LAST列とPTRATIO列の2乗も特徴量に追加"
   ]
  },
  {
   "cell_type": "code",
   "execution_count": 153,
   "metadata": {},
   "outputs": [
    {
     "name": "stdout",
     "output_type": "stream",
     "text": [
      "0.8565689444345094 0.8425282632102126\n",
      "0.8643834988984441 0.8678022326740733\n"
     ]
    }
   ],
   "source": [
    "# LSTAT列の2乗を追加\n",
    "x['LSTAT2'] = x['LSTAT'] ** 2\n",
    "s1, s2 = learn(x, t)\n",
    "print(s1, s2)\n",
    "\n",
    "# PTRATIO列の2乗を追加\n",
    "x['PTRATIO2'] = x['PTRATIO'] ** 2\n",
    "s1, s2 = learn(x, t)\n",
    "print(s1, s2)"
   ]
  },
  {
   "cell_type": "markdown",
   "metadata": {},
   "source": [
    "### 8-35行加算のサンプル"
   ]
  },
  {
   "cell_type": "code",
   "execution_count": 154,
   "metadata": {},
   "outputs": [
    {
     "data": {
      "text/plain": [
       "0    11\n",
       "1    22\n",
       "2    33\n",
       "dtype: int64"
      ]
     },
     "execution_count": 154,
     "metadata": {},
     "output_type": "execute_result"
    }
   ],
   "source": [
    "se1 = pd.Series([1, 2, 3])\n",
    "se2 = pd.Series([10, 20, 30])\n",
    "se1 + se2 # 対応する各要素を足し算したシリーズ\n"
   ]
  },
  {
   "cell_type": "markdown",
   "metadata": {},
   "source": [
    "### 8-36交互作用特徴量を追加"
   ]
  },
  {
   "cell_type": "code",
   "execution_count": 155,
   "metadata": {},
   "outputs": [
    {
     "data": {
      "text/html": [
       "<div>\n",
       "<style scoped>\n",
       "    .dataframe tbody tr th:only-of-type {\n",
       "        vertical-align: middle;\n",
       "    }\n",
       "\n",
       "    .dataframe tbody tr th {\n",
       "        vertical-align: top;\n",
       "    }\n",
       "\n",
       "    .dataframe thead th {\n",
       "        text-align: right;\n",
       "    }\n",
       "</style>\n",
       "<table border=\"1\" class=\"dataframe\">\n",
       "  <thead>\n",
       "    <tr style=\"text-align: right;\">\n",
       "      <th></th>\n",
       "      <th>RM</th>\n",
       "      <th>LSTAT</th>\n",
       "      <th>PTRATIO</th>\n",
       "      <th>RM2</th>\n",
       "      <th>LSTAT2</th>\n",
       "      <th>PTRATIO2</th>\n",
       "      <th>RM * LSTAT</th>\n",
       "    </tr>\n",
       "  </thead>\n",
       "  <tbody>\n",
       "    <tr>\n",
       "      <th>43</th>\n",
       "      <td>6.108</td>\n",
       "      <td>9.16</td>\n",
       "      <td>19.1</td>\n",
       "      <td>37.307664</td>\n",
       "      <td>83.9056</td>\n",
       "      <td>364.81</td>\n",
       "      <td>55.94928</td>\n",
       "    </tr>\n",
       "    <tr>\n",
       "      <th>62</th>\n",
       "      <td>6.957</td>\n",
       "      <td>3.53</td>\n",
       "      <td>19.1</td>\n",
       "      <td>48.399849</td>\n",
       "      <td>12.4609</td>\n",
       "      <td>364.81</td>\n",
       "      <td>24.55821</td>\n",
       "    </tr>\n",
       "  </tbody>\n",
       "</table>\n",
       "</div>"
      ],
      "text/plain": [
       "       RM  LSTAT  PTRATIO        RM2   LSTAT2  PTRATIO2  RM * LSTAT\n",
       "43  6.108   9.16     19.1  37.307664  83.9056    364.81    55.94928\n",
       "62  6.957   3.53     19.1  48.399849  12.4609    364.81    24.55821"
      ]
     },
     "execution_count": 155,
     "metadata": {},
     "output_type": "execute_result"
    }
   ],
   "source": [
    "x['RM * LSTAT'] = x['RM'] * x['LSTAT']\n",
    "x.head(2)"
   ]
  },
  {
   "cell_type": "markdown",
   "metadata": {},
   "source": [
    "### 8-37再々学習"
   ]
  },
  {
   "cell_type": "code",
   "execution_count": 156,
   "metadata": {},
   "outputs": [
    {
     "name": "stdout",
     "output_type": "stream",
     "text": [
      "0.8668534967796697 0.8739347357775972\n"
     ]
    }
   ],
   "source": [
    "s1, s2 = learn(x, t)\n",
    "print(s1, s2)"
   ]
  },
  {
   "cell_type": "markdown",
   "metadata": {},
   "source": [
    "### 8-38データの標準化後に再学習を行う"
   ]
  },
  {
   "cell_type": "code",
   "execution_count": 157,
   "metadata": {},
   "outputs": [
    {
     "data": {
      "text/html": [
       "<style>#sk-container-id-8 {color: black;}#sk-container-id-8 pre{padding: 0;}#sk-container-id-8 div.sk-toggleable {background-color: white;}#sk-container-id-8 label.sk-toggleable__label {cursor: pointer;display: block;width: 100%;margin-bottom: 0;padding: 0.3em;box-sizing: border-box;text-align: center;}#sk-container-id-8 label.sk-toggleable__label-arrow:before {content: \"▸\";float: left;margin-right: 0.25em;color: #696969;}#sk-container-id-8 label.sk-toggleable__label-arrow:hover:before {color: black;}#sk-container-id-8 div.sk-estimator:hover label.sk-toggleable__label-arrow:before {color: black;}#sk-container-id-8 div.sk-toggleable__content {max-height: 0;max-width: 0;overflow: hidden;text-align: left;background-color: #f0f8ff;}#sk-container-id-8 div.sk-toggleable__content pre {margin: 0.2em;color: black;border-radius: 0.25em;background-color: #f0f8ff;}#sk-container-id-8 input.sk-toggleable__control:checked~div.sk-toggleable__content {max-height: 200px;max-width: 100%;overflow: auto;}#sk-container-id-8 input.sk-toggleable__control:checked~label.sk-toggleable__label-arrow:before {content: \"▾\";}#sk-container-id-8 div.sk-estimator input.sk-toggleable__control:checked~label.sk-toggleable__label {background-color: #d4ebff;}#sk-container-id-8 div.sk-label input.sk-toggleable__control:checked~label.sk-toggleable__label {background-color: #d4ebff;}#sk-container-id-8 input.sk-hidden--visually {border: 0;clip: rect(1px 1px 1px 1px);clip: rect(1px, 1px, 1px, 1px);height: 1px;margin: -1px;overflow: hidden;padding: 0;position: absolute;width: 1px;}#sk-container-id-8 div.sk-estimator {font-family: monospace;background-color: #f0f8ff;border: 1px dotted black;border-radius: 0.25em;box-sizing: border-box;margin-bottom: 0.5em;}#sk-container-id-8 div.sk-estimator:hover {background-color: #d4ebff;}#sk-container-id-8 div.sk-parallel-item::after {content: \"\";width: 100%;border-bottom: 1px solid gray;flex-grow: 1;}#sk-container-id-8 div.sk-label:hover label.sk-toggleable__label {background-color: #d4ebff;}#sk-container-id-8 div.sk-serial::before {content: \"\";position: absolute;border-left: 1px solid gray;box-sizing: border-box;top: 0;bottom: 0;left: 50%;z-index: 0;}#sk-container-id-8 div.sk-serial {display: flex;flex-direction: column;align-items: center;background-color: white;padding-right: 0.2em;padding-left: 0.2em;position: relative;}#sk-container-id-8 div.sk-item {position: relative;z-index: 1;}#sk-container-id-8 div.sk-parallel {display: flex;align-items: stretch;justify-content: center;background-color: white;position: relative;}#sk-container-id-8 div.sk-item::before, #sk-container-id-8 div.sk-parallel-item::before {content: \"\";position: absolute;border-left: 1px solid gray;box-sizing: border-box;top: 0;bottom: 0;left: 50%;z-index: -1;}#sk-container-id-8 div.sk-parallel-item {display: flex;flex-direction: column;z-index: 1;position: relative;background-color: white;}#sk-container-id-8 div.sk-parallel-item:first-child::after {align-self: flex-end;width: 50%;}#sk-container-id-8 div.sk-parallel-item:last-child::after {align-self: flex-start;width: 50%;}#sk-container-id-8 div.sk-parallel-item:only-child::after {width: 0;}#sk-container-id-8 div.sk-dashed-wrapped {border: 1px dashed gray;margin: 0 0.4em 0.5em 0.4em;box-sizing: border-box;padding-bottom: 0.4em;background-color: white;}#sk-container-id-8 div.sk-label label {font-family: monospace;font-weight: bold;display: inline-block;line-height: 1.2em;}#sk-container-id-8 div.sk-label-container {text-align: center;}#sk-container-id-8 div.sk-container {/* jupyter's `normalize.less` sets `[hidden] { display: none; }` but bootstrap.min.css set `[hidden] { display: none !important; }` so we also need the `!important` here to be able to override the default hidden behavior on the sphinx rendered scikit-learn.org. See: https://github.com/scikit-learn/scikit-learn/issues/21755 */display: inline-block !important;position: relative;}#sk-container-id-8 div.sk-text-repr-fallback {display: none;}</style><div id=\"sk-container-id-8\" class=\"sk-top-container\"><div class=\"sk-text-repr-fallback\"><pre>LinearRegression()</pre><b>In a Jupyter environment, please rerun this cell to show the HTML representation or trust the notebook. <br />On GitHub, the HTML representation is unable to render, please try loading this page with nbviewer.org.</b></div><div class=\"sk-container\" hidden><div class=\"sk-item\"><div class=\"sk-estimator sk-toggleable\"><input class=\"sk-toggleable__control sk-hidden--visually\" id=\"sk-estimator-id-8\" type=\"checkbox\" checked><label for=\"sk-estimator-id-8\" class=\"sk-toggleable__label sk-toggleable__label-arrow\">LinearRegression</label><div class=\"sk-toggleable__content\"><pre>LinearRegression()</pre></div></div></div></div></div>"
      ],
      "text/plain": [
       "LinearRegression()"
      ]
     },
     "execution_count": 157,
     "metadata": {},
     "output_type": "execute_result"
    }
   ],
   "source": [
    "# 訓練データと検証データを合わせて再学習させるので\n",
    "# 再度、標準化する\n",
    "sc_model_x2 = StandardScaler()\n",
    "sc_model_x2.fit(x)\n",
    "sc_x = sc_model_x2.transform(x)\n",
    "\n",
    "sc_model_y2 = StandardScaler()\n",
    "sc_model_y2.fit(t)\n",
    "sc_y = sc_model_y2.transform(t)\n",
    "model = LinearRegression()\n",
    "model.fit(sc_x, sc_y)"
   ]
  },
  {
   "cell_type": "code",
   "execution_count": null,
   "metadata": {},
   "outputs": [],
   "source": []
  },
  {
   "cell_type": "code",
   "execution_count": null,
   "metadata": {},
   "outputs": [],
   "source": []
  },
  {
   "cell_type": "code",
   "execution_count": null,
   "metadata": {},
   "outputs": [],
   "source": []
  },
  {
   "cell_type": "markdown",
   "metadata": {},
   "source": [
    "### 8-39テストデータにも前処理を行う"
   ]
  },
  {
   "cell_type": "code",
   "execution_count": 158,
   "metadata": {},
   "outputs": [],
   "source": [
    "test2 = test.fillna(train_val.mean()) # 欠損値を平均値で補完\n",
    "x_test = test2.loc[ :, ['RM','LSTAT', 'PTRATIO'] ]\n",
    "y_test = test2[['PRICE']]\n",
    "\n",
    "x_test['RM2'] = x_test['RM'] ** 2\n",
    "x_test['LSTAT2'] = x_test['LSTAT'] ** 2\n",
    "x_test['PTRATIO2'] = x_test['PTRATIO'] ** 2\n",
    "\n",
    "x_test['RM * LSTAT'] = x_test['RM'] * x_test['LSTAT']"
   ]
  },
  {
   "cell_type": "code",
   "execution_count": 159,
   "metadata": {},
   "outputs": [],
   "source": [
    "sc_x_test = sc_model_x2.transform(x_test)\n",
    "sc_y_test = sc_model_y2.transform(y_test)"
   ]
  },
  {
   "cell_type": "markdown",
   "metadata": {},
   "source": [
    "### 8-40決定係数を計算"
   ]
  },
  {
   "cell_type": "code",
   "execution_count": 160,
   "metadata": {},
   "outputs": [
    {
     "data": {
      "text/plain": [
       "0.7649249353669053"
      ]
     },
     "execution_count": 160,
     "metadata": {},
     "output_type": "execute_result"
    }
   ],
   "source": [
    "model.score(sc_x_test, sc_y_test)"
   ]
  },
  {
   "cell_type": "markdown",
   "metadata": {},
   "source": [
    "### 8-41モデルの保存"
   ]
  },
  {
   "cell_type": "code",
   "execution_count": 161,
   "metadata": {},
   "outputs": [],
   "source": [
    "import pickle\n",
    "with open('boston.pkl',\"wb\") as f:\n",
    "    pickle.dump(model,f)\n",
    "with open('boston_scx.pkl','wb') as f:\n",
    "    pickle.dump(sc_model_x2,f)\n",
    "with open('boston_scy.pkl','wb') as f:\n",
    "    pickle.dump(sc_model_y2,f)\n",
    "    "
   ]
  },
  {
   "cell_type": "markdown",
   "metadata": {},
   "source": [
    "### 練習"
   ]
  },
  {
   "cell_type": "code",
   "execution_count": 47,
   "metadata": {},
   "outputs": [
    {
     "name": "stdout",
     "output_type": "stream",
     "text": [
      "       RM  LSTAT  PTRATIO\n",
      "71  6.108   6.57     16.4\n",
      "41  6.096  10.26     21.0\n",
      "99  5.453  30.59     20.2\n",
      "40  7.470   3.16     13.0\n",
      "57  6.021  10.30     17.8\n",
      "..    ...    ...      ...\n",
      "67  6.310   6.75     20.2\n",
      "88  4.138  23.34     20.2\n",
      "65  5.427  18.14     20.2\n",
      "14  6.226  10.15     19.1\n",
      "85  7.185   4.03     17.8\n",
      "\n",
      "[63 rows x 3 columns]\n",
      "0.7175897572515981 0.7359028880290998\n",
      "0.7190252930186809 0.7295535344941491\n",
      "0.8456207631185566 0.8372526287986777\n",
      "0.8565689444345094 0.8425282632102126\n",
      "0.8643834988984441 0.8678022326740733\n",
      "0.8668534967796697 0.8739347357775972\n"
     ]
    },
    {
     "name": "stderr",
     "output_type": "stream",
     "text": [
      "c:\\Users\\user\\anaconda3\\envs\\py39\\lib\\site-packages\\sklearn\\base.py:457: UserWarning: X has feature names, but LinearRegression was fitted without feature names\n",
      "  warnings.warn(\n"
     ]
    }
   ],
   "source": [
    "import pandas as pd\n",
    "%matplotlib inline\n",
    "from sklearn.linear_model import LinearRegression\n",
    "from sklearn.model_selection import train_test_split\n",
    "\n",
    "from DTC2 import DTC\n",
    "# # import os\n",
    "# DTC.set_filepath(os.path.dirname(__file__)+\"/../datafiles/Boston.csv\")\n",
    "DTC.set_filepath(\"../datafiles/Boston.csv\")\n",
    "df = DTC.dataframe\n",
    "\n",
    "crime = pd.get_dummies(df['CRIME'], drop_first = True, dtype=int)\n",
    "df2 = pd.concat([df, crime], axis = 1)\n",
    "df2 = df2.drop(['CRIME'], axis = 1)\n",
    "# print(df2[\"CRIME\"])\n",
    "df2.head(2)\n",
    "\n",
    "DTC.dataframe_org = df.copy()\n",
    "train_val, test = train_test_split(df2,test_size = 0.2,random_state = 0)\n",
    "\n",
    "train_val.isnull().sum()\n",
    "\n",
    "train_val_mean = train_val.mean() # 各列の平均値の計算\n",
    "train_val2=train_val.fillna(train_val_mean) # 平均値で穴埋め\n",
    "\n",
    "# import matplotlib.pyplot as plt\n",
    "# fig = plt.figure(figsize=(8,10))\n",
    "# colname = train_val2.columns\n",
    "# # for name in colname:   \n",
    "# #     train_val2.plot(kind = 'scatter', x = name, y = 'PRICE')\n",
    "# for n, col in enumerate(colname):\n",
    "#     train_val2.plot(ax=fig.add_subplot(5,3,n+1), kind='scatter', x= col, y='PRICE', s=3)\n",
    "    \n",
    "# plt.tight_layout()\n",
    "# plt.show()\n",
    "\n",
    "# RMの外れ値\n",
    "out_line1 = train_val2[(train_val2['RM'] < 6) &\n",
    "(train_val2['PRICE'] > 40)].index\n",
    "# PTRATIOの外れ値\n",
    "out_line2 = train_val2[(train_val2['PTRATIO'] > 18) &\n",
    "(train_val2['PRICE'] > 40)].index\n",
    "\n",
    "# print(out_line1, out_line2)\n",
    "\n",
    "train_val3 = train_val2.drop([76], axis = 0)\n",
    "\n",
    "col = ['INDUS', 'NOX', 'RM', 'PTRATIO', 'LSTAT', 'PRICE']\n",
    "\n",
    "train_val4 = train_val3[col]\n",
    "# print(train_val4.head(3))\n",
    "\n",
    "train_val4.corr()\n",
    "\n",
    "train_cor = train_val4.corr()['PRICE']\n",
    "train_cor\n",
    "\n",
    "se = pd.Series([1, -2, 3, -4]) # シリーズの作成\n",
    "\n",
    "# seの各要素にabs関数を適応させた結果をシリーズ化\n",
    "se.map(abs)\n",
    "\n",
    "abs_cor = train_cor.map(abs)\n",
    "abs_cor\n",
    "\n",
    "abs_cor.sort_values(ascending = False)\n",
    "train_cor.map(abs).sort_values(ascending = False)\n",
    "\n",
    "# DTC.set_columns(['RM', 'LSTAT', 'PTRATIO'])\n",
    "# DTC.set_target(['PRICE'])\n",
    "# DTC.set_test_parameter({\"test_size\": 0.2, \"random_state\": 0})\n",
    "\n",
    "col =['RM', 'LSTAT', 'PTRATIO']\n",
    "x = train_val4[col]\n",
    "t = train_val4[['PRICE']]\n",
    "\n",
    "x_train, x_val, y_train, y_val = train_test_split(x, t,\n",
    "    test_size = 0.2, random_state = 0)\n",
    "x_val.head(3)\n",
    "\n",
    "print(x_train)\n",
    "\n",
    "from sklearn.preprocessing import StandardScaler\n",
    "\n",
    "sc_model_x = StandardScaler()\n",
    "sc_model_x.fit(x_train)\n",
    "\n",
    "# 各列のデータを標準化してsc_xに代入\n",
    "sc_x = sc_model_x.transform(x_train)\n",
    "sc_x # 表示\n",
    "\n",
    "# code 8-20\n",
    "# array 型だと見づらいのでデータフレームに変換\n",
    "tmp_df = pd.DataFrame(sc_x, columns = x_train.columns)\n",
    "# 平均値の計算\n",
    "tmp_df.mean()\n",
    "\n",
    "tmp_df.std() # 標準偏差の計算\n",
    "\n",
    "# code 8-22\n",
    "sc_model_y = StandardScaler()\n",
    "sc_model_y.fit(y_train)\n",
    "\n",
    "sc_y = sc_model_y.transform(y_train)\n",
    "\n",
    "# code 8-23\n",
    "model = LinearRegression()\n",
    "model.fit(sc_x, sc_y)\n",
    "\n",
    "# code 8-24\n",
    "model.score(x_val, y_val)\n",
    "\n",
    "# code 8-25\n",
    "sc_x_val = sc_model_x.transform(x_val)\n",
    "sc_y_val = sc_model_y.transform(y_val)\n",
    "# 標準化した検証データで決定係数を計算\n",
    "model.score(sc_x_val, sc_y_val)\n",
    "\n",
    "# code 8-27\n",
    "def learn(x, t):\n",
    "    x_train, x_val, y_train, y_val = train_test_split(x, t,\n",
    "    test_size = 0.2, random_state = 0)\n",
    "    # 訓練データを標準化\n",
    "    sc_model_x = StandardScaler()\n",
    "    sc_model_y = StandardScaler()\n",
    "    sc_model_x.fit(x_train)\n",
    "    sc_x_train = sc_model_x.transform(x_train)\n",
    "    sc_model_y.fit(y_train)\n",
    "    sc_y_train = sc_model_y.transform(y_train)\n",
    "    # 学習\n",
    "    model = LinearRegression()\n",
    "    model.fit(sc_x_train, sc_y_train)\n",
    "    #検証データを標準化\n",
    "    sc_x_val = sc_model_x.transform(x_val)\n",
    "    sc_y_val = sc_model_y.transform(y_val)\n",
    "    # 訓練データと検証データの決定係数計算\n",
    "    train_score = model.score(sc_x_train, sc_y_train)\n",
    "    val_score = model.score(sc_x_val, sc_y_val)\n",
    "    return train_score, val_score\n",
    "\n",
    "# code 8-28\n",
    "x = train_val3.loc[ :, ['RM', 'LSTAT', 'PTRATIO']]\n",
    "t = train_val3[['PRICE']]\n",
    "s1,s2 = learn(x, t)\n",
    "print(s1, s2)\n",
    "\n",
    "# code 8-29\n",
    "x = train_val3.loc[ :, ['RM', 'LSTAT', 'PTRATIO','INDUS']]\n",
    "t = train_val3[['PRICE']]\n",
    "s1,s2 = learn(x, t)\n",
    "print(s1, s2)\n",
    "\n",
    "# code 8-30\n",
    "x['RM'] ** 2\n",
    "\n",
    "# code 8-31\n",
    "# RM2乗のシリーズを新しい列として追加\n",
    "x['RM2'] = x['RM'] ** 2\n",
    "# コード8-29で、INDUS列を追加したので削除\n",
    "x = x.drop('INDUS', axis = 1)\n",
    "x.head(2)\n",
    "\n",
    "# code 8-33\n",
    "s1, s2 = learn(x, t)\n",
    "print(s1, s2)\n",
    "\n",
    "# code 8-34\n",
    "# LSTAT列の2乗を追加\n",
    "x['LSTAT2'] = x['LSTAT'] ** 2\n",
    "s1, s2 = learn(x, t)\n",
    "print(s1, s2)\n",
    "\n",
    "# PTRATIO列の2乗を追加\n",
    "x['PTRATIO2'] = x['PTRATIO'] ** 2\n",
    "s1, s2 = learn(x, t)\n",
    "print(s1, s2)\n",
    "\n",
    "# code 8-35\n",
    "se1 = pd.Series([1, 2, 3])\n",
    "se2 = pd.Series([10, 20, 30])\n",
    "se1 + se2 # 対応する各要素を足し算したシリーズ\n",
    "\n",
    "# code 8-36\n",
    "x['RM * LSTAT'] = x['RM'] * x['LSTAT']\n",
    "x.head(2)\n",
    "\n",
    "# code 8-37\n",
    "s1, s2 = learn(x, t)\n",
    "print(s1, s2)\n",
    "\n",
    "# code 8-38\n",
    "# 訓練データと検証データを合わせて再学習させるので\n",
    "# 再度、標準化する\n",
    "sc_model_x2 = StandardScaler()\n",
    "sc_model_x2.fit(x)\n",
    "sc_x = sc_model_x2.transform(x)\n",
    "\n",
    "sc_model_y2 = StandardScaler()\n",
    "sc_model_y2.fit(t)\n",
    "sc_y = sc_model_y2.transform(t)\n",
    "model = LinearRegression()\n",
    "model.fit(sc_x, sc_y)\n",
    "\n",
    "# code 8-39\n",
    "test2 = test.fillna(train_val.mean()) # 欠損値を平均値で補完\n",
    "x_test = test2.loc[ :, ['RM','LSTAT', 'PTRATIO'] ]\n",
    "y_test = test2[['PRICE']]\n",
    "\n",
    "x_test['RM2'] = x_test['RM'] ** 2\n",
    "x_test['LSTAT2'] = x_test['LSTAT'] ** 2\n",
    "x_test['PTRATIO2'] = x_test['PTRATIO'] ** 2\n",
    "\n",
    "x_test['RM * LSTAT'] = x_test['RM'] * x_test['LSTAT']\n",
    "\n",
    "sc_x_test = sc_model_x2.transform(x_test)\n",
    "sc_y_test = sc_model_y2.transform(y_test)\n",
    "\n",
    "model.score(sc_x_test, sc_y_test)\n",
    "\n",
    "import pickle\n",
    "with open('boston.pkl',\"wb\") as f:\n",
    "    pickle.dump(model,f)\n",
    "with open('boston_scx.pkl','wb') as f:\n",
    "    pickle.dump(sc_model_x2,f)\n",
    "with open('boston_scy.pkl','wb') as f:\n",
    "    pickle.dump(sc_model_y2,f)\n"
   ]
  },
  {
   "cell_type": "code",
   "execution_count": 1,
   "metadata": {},
   "outputs": [
    {
     "data": {
      "image/png": "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",
      "text/plain": [
       "<Figure size 640x480 with 1 Axes>"
      ]
     },
     "metadata": {},
     "output_type": "display_data"
    }
   ],
   "source": [
    "import pandas as pd\n",
    "%matplotlib inline\n",
    "from sklearn.linear_model import LinearRegression\n",
    "from sklearn.model_selection import train_test_split\n",
    "from sklearn.preprocessing import StandardScaler\n",
    "import matplotlib.pyplot as plt\n",
    " \n",
    "df = pd.read_csv('../datafiles/Boston.csv')\n",
    " \n",
    "crime = pd.get_dummies(df['CRIME'], drop_first = True)\n",
    "df2 = pd.concat([df, crime], axis = 1)\n",
    "df2 = df2.drop(['CRIME'], axis = 1)\n",
    " \n",
    "train_val, test = train_test_split(df2,test_size = 0.2, random_state = 0)\n",
    " \n",
    "train_val_mean = train_val.mean() # 各列の平均値の計算\n",
    "train_val2=train_val.fillna(train_val_mean) # 平均値で穴埋め\n",
    " \n",
    "# RMの外れ値\n",
    "out_line1 = train_val2[(train_val2['RM'] < 6) &(train_val2['PRICE'] > 40)].index\n",
    "# PTRATIOの外れ値\n",
    "out_line2 = train_val2[(train_val2['PTRATIO'] > 18) &(train_val2['PRICE'] > 40)].index\n",
    "# 外れ値を削除\n",
    "train_val3 = train_val2.drop([out_line1[0]], axis = 0)\n",
    " \n",
    "# 学習用データフレームを特徴量と正解データに分離\n",
    "col =['RM', 'LSTAT', 'PTRATIO']\n",
    "x = train_val3.loc[:,col]\n",
    "t = train_val3[['PRICE']]\n",
    " \n",
    "# RM2乗のシリーズを新しい列として追加\n",
    "x['RM2'] = x['RM'] ** 2\n",
    "# LSTAT 列の2乗を追加\n",
    "x['LSTAT2'] = x['LSTAT'] ** 2\n",
    "# PTRATIO列の2乗を追加\n",
    "x['PTRATIO2'] = x['PTRATIO'] ** 2\n",
    "# 交差作用特徴量を追加\n",
    "x['RM * LSTAT'] = x['RM'] * x['LSTAT']\n",
    "# s1, s2 = learn(x, t)\n",
    "# print(s1, s2)\n",
    " \n",
    "test2 = test.fillna(train_val.mean()) # 欠損値を平均値で補完\n",
    "# テスト用データフレームを特徴量と正解データに分離\n",
    "x_test = test2.loc[ :, ['RM','LSTAT', 'PTRATIO'] ]\n",
    "y_test = test2[['PRICE']]\n",
    " \n",
    "x_test['RM2'] = x_test['RM'] ** 2\n",
    "x_test['LSTAT2'] = x_test['LSTAT'] ** 2\n",
    "x_test['PTRATIO2'] = x_test['PTRATIO'] ** 2\n",
    "x_test['RM * LSTAT'] = x_test['RM'] * x_test['LSTAT']\n",
    " \n",
    "sc_model_x2 = StandardScaler()\n",
    "sc_model_x2.fit(x)\n",
    "sc_x = sc_model_x2.transform(x)\n",
    " \n",
    "sc_model_y2 = StandardScaler()\n",
    "sc_model_y2.fit(t)\n",
    "sc_y = sc_model_y2.transform(t)\n",
    " \n",
    "sc_x_test = sc_model_x2.transform(x_test)\n",
    "sc_y_test = sc_model_y2.transform(y_test)\n",
    " \n",
    "model = LinearRegression()\n",
    "model.fit(sc_x, sc_y)\n",
    "# model.score(sc_x_test, sc_y_test)\n",
    "\n",
    "import pickle\n",
    "with open('boston.pkl',\"wb\") as f:\n",
    "    pickle.dump(model,f)\n",
    "with open('boston_scx.pkl','wb') as f:\n",
    "    pickle.dump(sc_model_x2,f)\n",
    "with open('boston_scy.pkl','wb') as f:\n",
    "    pickle.dump(sc_model_y2,f)\n",
    "\n",
    "\n",
    "scorestr = r'R$^2$ = {:.3f}'.format(model.score(sc_x_test, sc_y_test))\n",
    "pred = model.predict(sc_x_test)\n",
    " \n",
    "# 標準化逆変換\n",
    "plt.scatter(sc_model_y2.inverse_transform(sc_y_test), \n",
    "            sc_model_y2.inverse_transform(pred))\n",
    "\n",
    "# 相関グラフ表示\n",
    "plt.xlabel('ground truth')\n",
    "plt.ylabel('predicted')\n",
    "plt.xlim([10, plt.xlim()[1]])\n",
    "plt.ylim([10, plt.ylim()[1]])\n",
    " \n",
    "plt.text(15, 50, scorestr, fontsize=12)\n",
    "_ = plt.plot([-100, 100], [-100, 100], color='orange', linestyle='dashed')\n"
   ]
  },
  {
   "cell_type": "code",
   "execution_count": 69,
   "metadata": {},
   "outputs": [],
   "source": [
    "import pandas as pd\n",
    "# import seaborn as sns\n",
    "import matplotlib.pyplot as plt\n",
    "\n",
    "pred = model.predict(sc_x_test)\n",
    "yyy = sc_model_y2.inverse_transform(pred)\n",
    "xxx = sc_model_y2.inverse_transform(sc_y_test)\n",
    "\n",
    "plt.scatter(xxx,yyy)\n",
    "\n",
    "# 相関グラフ表示\n",
    "plt.xlabel('ground truth')\n",
    "plt.ylabel('predicted')\n",
    "plt.xlim([10, plt.xlim()[1]])\n",
    "plt.ylim([10, plt.ylim()[1]])\n",
    " \n",
    "plt.text(15, 50, scorestr, fontsize=12)\n",
    "_ = plt.plot([-100, 100], [-100, 100], color='orange', linestyle='dashed')\n",
    "\n"
   ]
  },
  {
   "cell_type": "code",
   "execution_count": null,
   "metadata": {},
   "outputs": [],
<<<<<<< HEAD
   "source": []
  },
  {
   "cell_type": "code",
   "execution_count": null,
   "metadata": {},
   "outputs": [],
   "source": []
  },
  {
   "cell_type": "code",
   "execution_count": null,
   "metadata": {},
   "outputs": [],
   "source": []
=======
   "source": [
    "import matplotlib.pyplot as plt\n",
    "\n",
    "# 元のデータ（例: X_test, y_test）\n",
    "# ...\n",
    "\n",
    "# 予測値の逆変換（例: pred）\n",
    "# ...\n",
    "\n",
    "# プロット\n",
    "plt.figure(figsize=(10, 6))\n",
    "plt.scatter(sc_x_test, sc_y_test, color='blue', label='Actual')  # 元のデータをプロット\n",
    "plt.scatter(X_test, pred, color='red', label='Predicted')  # 予測値をプロット\n",
    "plt.xlabel('X')  # x軸のラベル\n",
    "plt.ylabel('y')  # y軸のラベル\n",
    "plt.title('Actual vs Predicted')  # グラフのタイトル\n",
    "plt.legend()  # 凡例を表示\n",
    "plt.show()\n"
   ]
>>>>>>> fdac38ef20c957fa7d6b7224f03e7ab03e8e2880
  },
  {
   "cell_type": "code",
   "execution_count": null,
   "metadata": {},
   "outputs": [],
   "source": []
  }
 ],
 "metadata": {
  "kernelspec": {
   "display_name": "Python 3",
   "language": "python",
   "name": "python3"
  },
  "language_info": {
   "codemirror_mode": {
    "name": "ipython",
    "version": 3
   },
   "file_extension": ".py",
   "mimetype": "text/x-python",
   "name": "python",
   "nbconvert_exporter": "python",
   "pygments_lexer": "ipython3",
   "version": "3.9.18"
  }
 },
 "nbformat": 4,
 "nbformat_minor": 4
}
