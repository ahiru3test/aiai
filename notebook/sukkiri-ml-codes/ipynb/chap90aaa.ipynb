{
 "cells": [
  {
   "cell_type": "markdown",
   "metadata": {},
   "source": [
    "from sklearn.tree import DecisionTreeClassifier\n",
    "from sklearn.model_selection import train_test_split\n",
    "from sklearn.linear_model import LinearRegression\n",
    "from sklearn.metrics import mean_absolute_error\n",
    "import pandas as pd\n",
    "\n",
    "#before\n",
    "read_csv\n",
    "head\n",
    "tail\n",
    "unique\n",
    "value_counts\n",
    "df = pd.DataFrame()\n",
    "df.isnull().any(axis=0)\n",
    "isnull().sum()\n",
    "sum\n",
    "shape\n",
    "drop\n",
    "dropna\n",
    "fillna\n",
    "mean\n",
    "median\n",
    "mode\n",
    "std\n",
    "columns\n",
    "index\n",
    "loc[:,\"A\":\"D\"]\n",
    "[:3]\n",
    "groupby\n",
    "df.pivot_table(,index=,columns=,values=aggfunc=)\n",
    "getdummies\n",
    "concat\n",
    "\n",
    "#learn\n",
    "dtc=DecisionTreeClassifier(max_depth=2,random_state=0,class_weight=\"balanced\")\n",
    "lr=LinearRegression()\n",
    "\n",
    "fit\n",
    "score\n",
    "predict\n",
    "\n",
    "#validate\n",
    "train_test_split(test_size=,random_state=)\n",
    "pickle\n",
    "tree_.features\n",
    "tree_.threshould\n",
    "classes_\n",
    "dtc.feature_importances_\n",
    "\n",
    "plot_tree\n",
    "plot\n",
    "mae=mean_absolute_error(y_pred=,y_true=)\n",
    "coef_\n",
    "intercept_\n",
    "\n",
    "\n",
    "7-11"
   ]
  },
  {
   "cell_type": "code",
   "execution_count": 9,
   "metadata": {},
   "outputs": [
    {
     "name": "stdout",
     "output_type": "stream",
     "text": [
      "<class 'sklearn.utils._bunch.Bunch'>\n"
     ]
    }
   ],
   "source": [
    "from sklearn import datasets\n",
    "import pandas as pd\n",
    "iris = datasets.load_iris()\n",
    "# print(iris.DESCR)\n",
    "\n",
    "print(type(iris))\n"
   ]
  },
  {
   "cell_type": "code",
   "execution_count": null,
   "metadata": {},
   "outputs": [],
   "source": []
  }
 ],
 "metadata": {
  "kernelspec": {
   "display_name": "py39",
   "language": "python",
   "name": "python3"
  },
  "language_info": {
   "codemirror_mode": {
    "name": "ipython",
    "version": 3
   },
   "file_extension": ".py",
   "mimetype": "text/x-python",
   "name": "python",
   "nbconvert_exporter": "python",
   "pygments_lexer": "ipython3",
   "version": "3.9.18"
  }
 },
 "nbformat": 4,
 "nbformat_minor": 2
}
